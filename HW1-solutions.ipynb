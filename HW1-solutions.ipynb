








<!DOCTYPE html>
<html lang="en">

<head>
  <meta charset="utf-8">
  <title>Jupyter Notebook Viewer</title>
  <meta name="viewport" content="width=device-width, initial-scale=1.0">
  <meta name="description" content="">
  <meta name="author" content="">
  
  <meta name="robots" content="noindex,nofollow">
  

  <!--NEW RELIC Start Perf Measurement-->
  
  <!--NREND-->

  <!-- Le styles -->
  <script src="/cdn-cgi/apps/head/MuIIl4I_IVFkxldaVu1mdWee9as.js"></script><link href="/static/build/styles.css?v=187600a0f647dfa49ca5629b21844856" rel="stylesheet">

  <!-- Le HTML5 shim, for IE6-8 support of HTML5 elements -->
  <!--[if lt IE 9]>
    <script src="http://html5shim.googlecode.com/svn/trunk/html5.js"></script>
  <![endif]-->

  <!-- Le fav and touch icons -->
  <link rel="shortcut icon" href="/static/ico/ipynb_icon_16x16.png">
  <link rel="apple-touch-icon-precomposed" sizes="144x144"
        href="/static/ico/apple-touch-icon-144-precomposed.png?v=5a3c9ede93e2a8b8ea9e3f8f3da1a905">
  <link rel="apple-touch-icon-precomposed" sizes="114x114"
        href="/static/ico/apple-touch-icon-114-precomposed.png?v=45d86fc8f24dc00638035e1dd7a6d898">
  <link rel="apple-touch-icon-precomposed" sizes="72x72"
        href="/static/ico/apple-touch-icon-72-precomposed.png?v=540b5eb0f3cfd25f1439d1c9bd30e15f">
  <link rel="apple-touch-icon-precomposed"
        href="/static/ico/apple-touch-icon-57-precomposed.png?v=225f0590e187e1458625654f10a28f56">
  
  

  

  
  <meta name="twitter:card" content="summary">
  <meta name="twitter:title" content="Notebook on nbviewer">
  <meta name="twitter:description" content="Check out this Jupyter notebook!">

  
  <meta name="twitter:domain" content="nbviewer.ipython.org">
  <meta name="twitter:image:src" content="http://ipython.org/ipython-doc/dev/_images/ipynb_icon_128x128.png">

  
    <link href="/static/build/notebook.css?v=0a1fd720873b368f697f2028629e42e3" rel="stylesheet">
  

  

  
    <script src="https://cdnjs.cloudflare.com/ajax/libs/mathjax/2.7.1/MathJax.js?config=TeX-AMS_HTML" type="text/javascript">
    </script>
    <script type="text/javascript">
      init_mathjax = function() {
        if (window.MathJax) {
          // MathJax loaded
          MathJax.Hub.Config({
            TeX: {
              equationNumbers: {
                autoNumber: "AMS",
                useLabelIds: true
              }
            },
            tex2jax: {
              inlineMath: [ ['$','$'], ["\\(","\\)"] ],
              displayMath: [ ['$$','$$'], ["\\[","\\]"] ],
              processEscapes: true,
              processEnvironments: true
            },
            displayAlign: 'center',
            "HTML-CSS": {
              styles: {'.MathJax_Display': {"margin": 0}},
              linebreaks: { automatic: true }
            }
          });
          MathJax.Hub.Queue(["Typeset", MathJax.Hub]);
        }
      }
      init_mathjax();
    </script>
  

</head>

<body class="nbviewer">

  <!-- These are loaded at the top of the body so they are available to
       notebook cells when they are loaded below. -->
  <script src="/static/components/jquery/dist/jquery.min.js?v=c9f5aeeca3ad37bf2aa006139b935f0a"></script>
  <script src="/static/components/requirejs/require.js?v=6da8be361b9ee26c5e721e76c6d4afce"></script>
  <script src="/static/components/moment/min/moment.min.js?v=89f87298ad94aa1e6b92f42eb66da043"></script>

<!-- Navbar
================================================== -->
  <nav id="menubar" class="navbar navbar-default navbar-fixed-top" data-spy="affix">
    <div class="container">
      <div class="navbar-header">
        <button type="button" class="navbar-toggle collapsed" data-toggle="collapse" data-target=".navbar-collapse">
          <span class="sr-only">Toggle navigation</span>
          <i class="fa fa-bars"></i>
        </button>
        <a class="navbar-brand" href="/">
          <img src="/static/img/nav_logo.svg?v=479cefe8d932fb14a67b93911b97d70f" width="159"/>
        </a>
      </div>

      <div class="collapse navbar-collapse">
        <ul class="nav navbar-nav navbar-right">
          <li>
            <a class="active" href="http://jupyter.org">JUPYTER</a>
          </li>
          <li>
    <a href="/faq" title="FAQ" >
      
        <span>FAQ</span>
      
    </a>
  </li>

          
  
    
  
    
      
        <li>
    <a href="/format/script/github/cs109/2014/blob/master/homework-solutions/HW1-solutions.ipynb" title="View as Code" >
      <span class="fa fa-code fa-2x menu-icon"></span>
      <span class="menu-text">View as Code</span>
    </a>
  </li>
      
    
  

  

  
    <li>
    <a href="https://github.com/cs109/2014/blob/master/homework-solutions/HW1-solutions.ipynb" title="View on GitHub" >
      <span class="fa fa-github fa-2x menu-icon"></span>
      <span class="menu-text">View on GitHub</span>
    </a>
  </li>
  

  <li>
    <a href="https://raw.githubusercontent.com/cs109/2014/master/homework-solutions/HW1-solutions.ipynb" title="Download Notebook" download>
      <span class="fa fa-download fa-2x menu-icon"></span>
      <span class="menu-text">Download Notebook</span>
    </a>
  </li>

        </ul>
      </div><!-- /.navbar-collapse -->
      
      
    </div>
  </nav>

  <div class="container container-main">
    
  
  <ol class="breadcrumb">
    
      <li>
        <a href="/github/cs109/2014/tree/master">2014</a>
      </li>
    
      <li>
        <a href="/github/cs109/2014/tree/master/homework-solutions">homework-solutions</a>
      </li>
    
  </ol>
  
  <div id="notebook">
    <div id="notebook-container">
      
<div class="cell border-box-sizing text_cell rendered"><div class="prompt input_prompt">
</div>
<div class="inner_cell">
<div class="text_cell_render border-box-sizing rendered_html">
<h1 id="Homework-1.-Exploratory-Data-Analysis">Homework 1. Exploratory Data Analysis<a class="anchor-link" href="#Homework-1.-Exploratory-Data-Analysis">&#182;</a></h1><p>Due: Thursday, September 18, 2014 11:59 PM</p>
<p>&lt;a href=<a href="https://raw.githubusercontent.com/cs109/2014/master/homework/HW1.ipynb">https://raw.githubusercontent.com/cs109/2014/master/homework/HW1.ipynb</a> download=HW1.ipynb&gt; Download this assignment&lt;/a&gt;</p>
<hr>

</div>
</div>
</div>
<div class="cell border-box-sizing text_cell rendered"><div class="prompt input_prompt">
</div>
<div class="inner_cell">
<div class="text_cell_render border-box-sizing rendered_html">
<h2 id="Introduction">Introduction<a class="anchor-link" href="#Introduction">&#182;</a></h2><p>In this homework we ask you three questions that we expect you to answer using data. For each question we ask you to complete a series of tasks that should help guide you through the data analysis. Complete these tasks and then write a short (100 words or less) answer to the question.</p>
<h4 id="Data">Data<a class="anchor-link" href="#Data">&#182;</a></h4><p>For this assignment we will use two databases:</p>
<ol>
<li><p>The <a href="http://seanlahman.com/baseball-archive/statistics">Sean Lahman's Baseball Database</a> which contains the "complete batting and pitching statistics from 1871 to 2013, plus fielding statistics, standings, team stats, managerial records, post-season data, and more. For more details on the latest release, please <a href="http://seanlahman.com/files/database/readme2012.txt">read the documentation</a>."</p>
</li>
<li><p><a href="http://www.gapminder.org">Gapminder</a> is a great resource that contains over <a href="http://www.gapminder.org/data/">500 data sets</a> related to world indicators such as income, GDP and life expectancy.</p>
</li>
</ol>
<h4 id="Purpose">Purpose<a class="anchor-link" href="#Purpose">&#182;</a></h4><p>In this assignment, you will learn how to:</p>
<p>a. Load in CSV files from the web.</p>
<p>b. Create functions in python.</p>
<p>C. Create plots and summary statistics for exploratory data analysis such as histograms, boxplots and scatter plots.</p>
<h4 id="Useful-libraries-for-this-assignment">Useful libraries for this assignment<a class="anchor-link" href="#Useful-libraries-for-this-assignment">&#182;</a></h4><ul>
<li><a href="http://docs.scipy.org/doc/numpy-dev/user/index.html">numpy</a>, for arrays</li>
<li><a href="http://pandas.pydata.org/">pandas</a>, for data frames</li>
<li><a href="http://matplotlib.org/">matplotlib</a>, for plotting</li>
</ul>
<hr>

</div>
</div>
</div>
<div class="cell border-box-sizing code_cell rendered">
<div class="input">
<div class="prompt input_prompt">In&nbsp;[2]:</div>
<div class="inner_cell">
    <div class="input_area">
<div class=" highlight hl-ipython3"><pre><span></span><span class="c1"># special IPython command to prepare the notebook for matplotlib</span>
<span class="o">%</span><span class="k">matplotlib</span> inline 

<span class="kn">import</span> <span class="nn">numpy</span> <span class="k">as</span> <span class="nn">np</span>
<span class="kn">import</span> <span class="nn">pandas</span> <span class="k">as</span> <span class="nn">pd</span>
<span class="kn">import</span> <span class="nn">matplotlib.pyplot</span> <span class="k">as</span> <span class="nn">plt</span>

<span class="c1"># For this assignment, we need to load in the following modules</span>
<span class="kn">import</span> <span class="nn">requests</span>
<span class="kn">import</span> <span class="nn">StringIO</span>
<span class="kn">import</span> <span class="nn">zipfile</span>
<span class="kn">import</span> <span class="nn">scipy.stats</span> 
</pre></div>

</div>
</div>
</div>

</div>
<div class="cell border-box-sizing text_cell rendered"><div class="prompt input_prompt">
</div>
<div class="inner_cell">
<div class="text_cell_render border-box-sizing rendered_html">
<h2 id="Problem-1">Problem 1<a class="anchor-link" href="#Problem-1">&#182;</a></h2><p>In Lecture 1, we showed a plot that provided evidence that the 2002 and 2003 Oakland A's, a team that used data science, had a competitive advantage. Since, others teams have started using data science as well. Use exploratory data analysis to determine if the competitive advantage has since disappeared.</p>

</div>
</div>
</div>
<div class="cell border-box-sizing text_cell rendered"><div class="prompt input_prompt">
</div>
<div class="inner_cell">
<div class="text_cell_render border-box-sizing rendered_html">
<h4 id="Problem-1(a)">Problem 1(a)<a class="anchor-link" href="#Problem-1(a)">&#182;</a></h4><p>Load in <a href="http://seanlahman.com/files/database/lahman-csv_2014-02-14.zip">these CSV files</a> from the <a href="http://seanlahman.com/baseball-archive/statistics">Sean Lahman's Baseball Database</a>. For this assignment, we will use the 'Salaries.csv' and 'Teams.csv' tables. Read these tables into a pandas <code>DataFrame</code> and show the head of each table.</p>
<p><strong>Hint</strong> Use the <a href="http://docs.python-requests.org/en/latest/">requests</a>, <a href="http://docs.python.org/2/library/stringio.html">StringIO</a> and <a href="https://docs.python.org/2/library/zipfile.html">zipfile</a> modules to get from the web.</p>

</div>
</div>
</div>
<div class="cell border-box-sizing code_cell rendered">
<div class="input">
<div class="prompt input_prompt">In&nbsp;[2]:</div>
<div class="inner_cell">
    <div class="input_area">
<div class=" highlight hl-ipython3"><pre><span></span><span class="c1">#your code here</span>

<span class="k">def</span> <span class="nf">getZIP</span><span class="p">(</span><span class="n">zipFileName</span><span class="p">):</span>
    <span class="n">r</span> <span class="o">=</span> <span class="n">requests</span><span class="o">.</span><span class="n">get</span><span class="p">(</span><span class="n">zipFileName</span><span class="p">)</span><span class="o">.</span><span class="n">content</span>
    <span class="n">s</span> <span class="o">=</span> <span class="n">StringIO</span><span class="o">.</span><span class="n">StringIO</span><span class="p">(</span><span class="n">r</span><span class="p">)</span>
    <span class="n">zf</span> <span class="o">=</span> <span class="n">zipfile</span><span class="o">.</span><span class="n">ZipFile</span><span class="p">(</span><span class="n">s</span><span class="p">,</span> <span class="s1">&#39;r&#39;</span><span class="p">)</span> <span class="c1"># Read in a list of zipped files</span>
    <span class="k">return</span> <span class="n">zf</span>
</pre></div>

</div>
</div>
</div>

</div>
<div class="cell border-box-sizing text_cell rendered"><div class="prompt input_prompt">
</div>
<div class="inner_cell">
<div class="text_cell_render border-box-sizing rendered_html">
<p>Here, we use the requests, StringIO and zipfile modules to extract all the text files from the web.  The zipfile model can create, read, write, append, and list ZIP files.  You did not have to create a function, but I did to make the solution cleaner.</p>

</div>
</div>
</div>
<div class="cell border-box-sizing text_cell rendered"><div class="prompt input_prompt">
</div>
<div class="inner_cell">
<div class="text_cell_render border-box-sizing rendered_html">
<p>Using the URL linking to the .zip file, we can print all the files listed in the zipped folder.</p>

</div>
</div>
</div>
<div class="cell border-box-sizing code_cell rendered">
<div class="input">
<div class="prompt input_prompt">In&nbsp;[3]:</div>
<div class="inner_cell">
    <div class="input_area">
<div class=" highlight hl-ipython3"><pre><span></span><span class="n">url</span> <span class="o">=</span> <span class="s1">&#39;http://seanlahman.com/files/database/lahman-csv_2014-02-14.zip&#39;</span>
<span class="n">zf</span> <span class="o">=</span> <span class="n">getZIP</span><span class="p">(</span><span class="n">url</span><span class="p">)</span>
<span class="nb">print</span> <span class="n">zf</span><span class="o">.</span><span class="n">namelist</span><span class="p">()</span>
</pre></div>

</div>
</div>
</div>

<div class="output_wrapper">
<div class="output">


<div class="output_area">

<div class="prompt"></div>


<div class="output_subarea output_stream output_stdout output_text">
<pre>[&#39;SchoolsPlayers.csv&#39;, &#39;SeriesPost.csv&#39;, &#39;Teams.csv&#39;, &#39;TeamsFranchises.csv&#39;, &#39;TeamsHalf.csv&#39;, &#39;AllstarFull.csv&#39;, &#39;Appearances.csv&#39;, &#39;AwardsManagers.csv&#39;, &#39;AwardsPlayers.csv&#39;, &#39;AwardsShareManagers.csv&#39;, &#39;AwardsSharePlayers.csv&#39;, &#39;Batting.csv&#39;, &#39;BattingPost.csv&#39;, &#39;Fielding.csv&#39;, &#39;FieldingOF.csv&#39;, &#39;FieldingPost.csv&#39;, &#39;HallOfFame.csv&#39;, &#39;Managers.csv&#39;, &#39;ManagersHalf.csv&#39;, &#39;Master.csv&#39;, &#39;Pitching.csv&#39;, &#39;PitchingPost.csv&#39;, &#39;readme2013.txt&#39;, &#39;Salaries.csv&#39;, &#39;Schools.csv&#39;]
</pre>
</div>
</div>

</div>
</div>

</div>
<div class="cell border-box-sizing code_cell rendered">
<div class="input">
<div class="prompt input_prompt">In&nbsp;[4]:</div>
<div class="inner_cell">
    <div class="input_area">
<div class=" highlight hl-ipython3"><pre><span></span><span class="n">tablenames</span> <span class="o">=</span> <span class="n">zf</span><span class="o">.</span><span class="n">namelist</span><span class="p">()</span>
<span class="n">tablenames</span><span class="p">[</span><span class="n">tablenames</span><span class="o">.</span><span class="n">index</span><span class="p">(</span><span class="s1">&#39;Salaries.csv&#39;</span><span class="p">)]</span>
</pre></div>

</div>
</div>
</div>

<div class="output_wrapper">
<div class="output">


<div class="output_area">

<div class="prompt output_prompt">Out[4]:</div>




<div class="output_text output_subarea output_execute_result">
<pre>&#39;Salaries.csv&#39;</pre>
</div>

</div>

</div>
</div>

</div>
<div class="cell border-box-sizing text_cell rendered"><div class="prompt input_prompt">
</div>
<div class="inner_cell">
<div class="text_cell_render border-box-sizing rendered_html">
<p>Next, we extract the 'Salaries.csv' file from the zipped folder. We use the <code>zf.open()</code> function to open a specific file and use <code>pd.read_csv()</code> to read the table into a pandas DataFrame. This table contains salaries labled by year, by player, by league and by team.</p>

</div>
</div>
</div>
<div class="cell border-box-sizing code_cell rendered">
<div class="input">
<div class="prompt input_prompt">In&nbsp;[5]:</div>
<div class="inner_cell">
    <div class="input_area">
<div class=" highlight hl-ipython3"><pre><span></span><span class="n">salaries</span> <span class="o">=</span> <span class="n">pd</span><span class="o">.</span><span class="n">read_csv</span><span class="p">(</span><span class="n">zf</span><span class="o">.</span><span class="n">open</span><span class="p">(</span><span class="n">tablenames</span><span class="p">[</span><span class="n">tablenames</span><span class="o">.</span><span class="n">index</span><span class="p">(</span><span class="s1">&#39;Salaries.csv&#39;</span><span class="p">)]))</span>
<span class="nb">print</span> <span class="s2">&quot;Number of rows: </span><span class="si">%i</span><span class="s2">&quot;</span> <span class="o">%</span> <span class="n">salaries</span><span class="o">.</span><span class="n">shape</span><span class="p">[</span><span class="mi">0</span><span class="p">]</span>
<span class="n">salaries</span><span class="o">.</span><span class="n">head</span><span class="p">()</span>
</pre></div>

</div>
</div>
</div>

<div class="output_wrapper">
<div class="output">


<div class="output_area">

<div class="prompt"></div>


<div class="output_subarea output_stream output_stdout output_text">
<pre>Number of rows: 23956
</pre>
</div>
</div>

<div class="output_area">

<div class="prompt output_prompt">Out[5]:</div>



<div class="output_html rendered_html output_subarea output_execute_result">
<div style="max-height:1000px;max-width:1500px;overflow:auto;">
<table border="1" class="dataframe">
  <thead>
    <tr style="text-align: right;">
      <th></th>
      <th>yearID</th>
      <th>teamID</th>
      <th>lgID</th>
      <th>playerID</th>
      <th>salary</th>
    </tr>
  </thead>
  <tbody>
    <tr>
      <th>0</th>
      <td> 1985</td>
      <td> BAL</td>
      <td> AL</td>
      <td> murraed02</td>
      <td> 1472819</td>
    </tr>
    <tr>
      <th>1</th>
      <td> 1985</td>
      <td> BAL</td>
      <td> AL</td>
      <td>  lynnfr01</td>
      <td> 1090000</td>
    </tr>
    <tr>
      <th>2</th>
      <td> 1985</td>
      <td> BAL</td>
      <td> AL</td>
      <td> ripkeca01</td>
      <td>  800000</td>
    </tr>
    <tr>
      <th>3</th>
      <td> 1985</td>
      <td> BAL</td>
      <td> AL</td>
      <td>  lacyle01</td>
      <td>  725000</td>
    </tr>
    <tr>
      <th>4</th>
      <td> 1985</td>
      <td> BAL</td>
      <td> AL</td>
      <td> flanami01</td>
      <td>  641667</td>
    </tr>
  </tbody>
</table>
</div>
</div>

</div>

</div>
</div>

</div>
<div class="cell border-box-sizing text_cell rendered"><div class="prompt input_prompt">
</div>
<div class="inner_cell">
<div class="text_cell_render border-box-sizing rendered_html">
<p>Finall, we extract the 'Teams.csv' file from the zipped folder. This table contains a large amount of information, but for our purposes, we are interested in the <code>yearID</code>, <code>teamID</code> and number of wins <code>W</code>.</p>

</div>
</div>
</div>
<div class="cell border-box-sizing code_cell rendered">
<div class="input">
<div class="prompt input_prompt">In&nbsp;[6]:</div>
<div class="inner_cell">
    <div class="input_area">
<div class=" highlight hl-ipython3"><pre><span></span><span class="n">teams</span> <span class="o">=</span> <span class="n">pd</span><span class="o">.</span><span class="n">read_csv</span><span class="p">(</span><span class="n">zf</span><span class="o">.</span><span class="n">open</span><span class="p">(</span><span class="n">tablenames</span><span class="p">[</span><span class="n">tablenames</span><span class="o">.</span><span class="n">index</span><span class="p">(</span><span class="s1">&#39;Teams.csv&#39;</span><span class="p">)]))</span>
<span class="n">teams</span> <span class="o">=</span> <span class="n">teams</span><span class="p">[[</span><span class="s1">&#39;yearID&#39;</span><span class="p">,</span> <span class="s1">&#39;teamID&#39;</span><span class="p">,</span> <span class="s1">&#39;W&#39;</span><span class="p">]]</span>
<span class="nb">print</span> <span class="s2">&quot;Number of rows: </span><span class="si">%i</span><span class="s2">&quot;</span> <span class="o">%</span> <span class="n">teams</span><span class="o">.</span><span class="n">shape</span><span class="p">[</span><span class="mi">0</span><span class="p">]</span>
<span class="n">teams</span><span class="o">.</span><span class="n">head</span><span class="p">()</span>
</pre></div>

</div>
</div>
</div>

<div class="output_wrapper">
<div class="output">


<div class="output_area">

<div class="prompt"></div>


<div class="output_subarea output_stream output_stdout output_text">
<pre>Number of rows: 2745
</pre>
</div>
</div>

<div class="output_area">

<div class="prompt output_prompt">Out[6]:</div>



<div class="output_html rendered_html output_subarea output_execute_result">
<div style="max-height:1000px;max-width:1500px;overflow:auto;">
<table border="1" class="dataframe">
  <thead>
    <tr style="text-align: right;">
      <th></th>
      <th>yearID</th>
      <th>teamID</th>
      <th>W</th>
    </tr>
  </thead>
  <tbody>
    <tr>
      <th>0</th>
      <td> 1871</td>
      <td> PH1</td>
      <td> 21</td>
    </tr>
    <tr>
      <th>1</th>
      <td> 1871</td>
      <td> CH1</td>
      <td> 19</td>
    </tr>
    <tr>
      <th>2</th>
      <td> 1871</td>
      <td> BS1</td>
      <td> 20</td>
    </tr>
    <tr>
      <th>3</th>
      <td> 1871</td>
      <td> WS3</td>
      <td> 15</td>
    </tr>
    <tr>
      <th>4</th>
      <td> 1871</td>
      <td> NY2</td>
      <td> 16</td>
    </tr>
  </tbody>
</table>
</div>
</div>

</div>

</div>
</div>

</div>
<div class="cell border-box-sizing text_cell rendered"><div class="prompt input_prompt">
</div>
<div class="inner_cell">
<div class="text_cell_render border-box-sizing rendered_html">
<h4 id="Problem-1(b)">Problem 1(b)<a class="anchor-link" href="#Problem-1(b)">&#182;</a></h4><p>Summarize the Salaries DataFrame to show the total salaries for each team for each year. Show the head of the new summarized DataFrame.</p>

</div>
</div>
</div>
<div class="cell border-box-sizing code_cell rendered">
<div class="input">
<div class="prompt input_prompt">In&nbsp;[7]:</div>
<div class="inner_cell">
    <div class="input_area">
<div class=" highlight hl-ipython3"><pre><span></span><span class="c1">#your code here</span>

<span class="n">totSalaries</span> <span class="o">=</span> <span class="n">salaries</span><span class="o">.</span><span class="n">groupby</span><span class="p">([</span><span class="s1">&#39;yearID&#39;</span><span class="p">,</span><span class="s1">&#39;teamID&#39;</span><span class="p">],</span> <span class="n">as_index</span><span class="o">=</span><span class="kc">False</span><span class="p">)</span><span class="o">.</span><span class="n">sum</span><span class="p">()</span>
<span class="n">totSalaries</span><span class="o">.</span><span class="n">head</span><span class="p">()</span>
</pre></div>

</div>
</div>
</div>

<div class="output_wrapper">
<div class="output">


<div class="output_area">

<div class="prompt output_prompt">Out[7]:</div>



<div class="output_html rendered_html output_subarea output_execute_result">
<div style="max-height:1000px;max-width:1500px;overflow:auto;">
<table border="1" class="dataframe">
  <thead>
    <tr style="text-align: right;">
      <th></th>
      <th>yearID</th>
      <th>teamID</th>
      <th>salary</th>
    </tr>
  </thead>
  <tbody>
    <tr>
      <th>0</th>
      <td> 1985</td>
      <td> ATL</td>
      <td> 14807000</td>
    </tr>
    <tr>
      <th>1</th>
      <td> 1985</td>
      <td> BAL</td>
      <td> 11560712</td>
    </tr>
    <tr>
      <th>2</th>
      <td> 1985</td>
      <td> BOS</td>
      <td> 10897560</td>
    </tr>
    <tr>
      <th>3</th>
      <td> 1985</td>
      <td> CAL</td>
      <td> 14427894</td>
    </tr>
    <tr>
      <th>4</th>
      <td> 1985</td>
      <td> CHA</td>
      <td>  9846178</td>
    </tr>
  </tbody>
</table>
</div>
</div>

</div>

</div>
</div>

</div>
<div class="cell border-box-sizing text_cell rendered"><div class="prompt input_prompt">
</div>
<div class="inner_cell">
<div class="text_cell_render border-box-sizing rendered_html">
<h4 id="Problem-1(c)">Problem 1(c)<a class="anchor-link" href="#Problem-1(c)">&#182;</a></h4><p>Merge the new summarized Salaries DataFrame and Teams DataFrame together to create a new DataFrame
showing wins and total salaries for each team for each year year. Show the head of the new merged DataFrame.</p>
<p><strong>Hint</strong>: Merge the DataFrames using <code>teamID</code> and <code>yearID</code>.</p>

</div>
</div>
</div>
<div class="cell border-box-sizing text_cell rendered"><div class="prompt input_prompt">
</div>
<div class="inner_cell">
<div class="text_cell_render border-box-sizing rendered_html">
<p>To merge these two DataFrames, we can use the <code>merge</code> function to join together DataFrame objects <code>on</code> a set of column names (must be found in both DataFrames) and <code>how</code> (union, intersection, only rows from one data set or the other). Below, we use the arguments <code>how="inner"</code> to take the intersection of the rows and <code>on=['yearID', 'teamID']</code> the column names <code>yearID</code> and <code>teamID</code> which can be found in both DataFrames.</p>

</div>
</div>
</div>
<div class="cell border-box-sizing code_cell rendered">
<div class="input">
<div class="prompt input_prompt">In&nbsp;[8]:</div>
<div class="inner_cell">
    <div class="input_area">
<div class=" highlight hl-ipython3"><pre><span></span><span class="n">joined</span> <span class="o">=</span> <span class="n">pd</span><span class="o">.</span><span class="n">merge</span><span class="p">(</span><span class="n">totSalaries</span><span class="p">,</span> <span class="n">teams</span><span class="p">,</span> <span class="n">how</span><span class="o">=</span><span class="s2">&quot;inner&quot;</span><span class="p">,</span> <span class="n">on</span><span class="o">=</span><span class="p">[</span><span class="s1">&#39;yearID&#39;</span><span class="p">,</span> <span class="s1">&#39;teamID&#39;</span><span class="p">])</span>
<span class="n">joined</span><span class="o">.</span><span class="n">head</span><span class="p">()</span>
</pre></div>

</div>
</div>
</div>

<div class="output_wrapper">
<div class="output">


<div class="output_area">

<div class="prompt output_prompt">Out[8]:</div>



<div class="output_html rendered_html output_subarea output_execute_result">
<div style="max-height:1000px;max-width:1500px;overflow:auto;">
<table border="1" class="dataframe">
  <thead>
    <tr style="text-align: right;">
      <th></th>
      <th>yearID</th>
      <th>teamID</th>
      <th>salary</th>
      <th>W</th>
    </tr>
  </thead>
  <tbody>
    <tr>
      <th>0</th>
      <td> 1985</td>
      <td> ATL</td>
      <td> 14807000</td>
      <td> 66</td>
    </tr>
    <tr>
      <th>1</th>
      <td> 1985</td>
      <td> BAL</td>
      <td> 11560712</td>
      <td> 83</td>
    </tr>
    <tr>
      <th>2</th>
      <td> 1985</td>
      <td> BOS</td>
      <td> 10897560</td>
      <td> 81</td>
    </tr>
    <tr>
      <th>3</th>
      <td> 1985</td>
      <td> CAL</td>
      <td> 14427894</td>
      <td> 90</td>
    </tr>
    <tr>
      <th>4</th>
      <td> 1985</td>
      <td> CHA</td>
      <td>  9846178</td>
      <td> 85</td>
    </tr>
  </tbody>
</table>
</div>
</div>

</div>

</div>
</div>

</div>
<div class="cell border-box-sizing text_cell rendered"><div class="prompt input_prompt">
</div>
<div class="inner_cell">
<div class="text_cell_render border-box-sizing rendered_html">
<h4 id="Problem-1(d)">Problem 1(d)<a class="anchor-link" href="#Problem-1(d)">&#182;</a></h4><p>How would you graphically display the relationship between total wins and total salaries for a given year? What kind of plot would be best? Choose a plot to show this relationship and specifically annotate the Oakland baseball team on the on the plot. Show this plot across multiple years. In which years can you detect a competitive advantage from the Oakland baseball team of using data science? When did this end?</p>
<p><strong>Hints</strong>: Use a <code>for</code> loop to consider multiple years. Use the <code>teamID</code> (three letter representation of the team name) to save space on the plot.</p>

</div>
</div>
</div>
<div class="cell border-box-sizing code_cell rendered">
<div class="input">
<div class="prompt input_prompt">In&nbsp;[9]:</div>
<div class="inner_cell">
    <div class="input_area">
<div class=" highlight hl-ipython3"><pre><span></span><span class="c1">#your code here</span>
</pre></div>

</div>
</div>
</div>

</div>
<div class="cell border-box-sizing text_cell rendered"><div class="prompt input_prompt">
</div>
<div class="inner_cell">
<div class="text_cell_render border-box-sizing rendered_html">
<p>Using our summarized DataFrame in 1(c), we will create a scatter plot to graphically display the relationship between total wins and total salaries for a given year. Because each team is represented by one point, we can annotate specific points by the team name. In this case, we will consider the Oakland baseball team.  The <code>teamID</code> for Oakland is OAK, so we will add the <code>OAK</code> annotation on the scatter plot.  You could have used any color, shapes, etc for the annotation of the team name.</p>

</div>
</div>
</div>
<div class="cell border-box-sizing code_cell rendered">
<div class="input">
<div class="prompt input_prompt">In&nbsp;[10]:</div>
<div class="inner_cell">
    <div class="input_area">
<div class=" highlight hl-ipython3"><pre><span></span><span class="n">teamName</span> <span class="o">=</span> <span class="s1">&#39;OAK&#39;</span>
<span class="n">years</span> <span class="o">=</span> <span class="n">np</span><span class="o">.</span><span class="n">arange</span><span class="p">(</span><span class="mi">2000</span><span class="p">,</span> <span class="mi">2004</span><span class="p">)</span>

<span class="k">for</span> <span class="n">yr</span> <span class="ow">in</span> <span class="n">years</span><span class="p">:</span> 
    <span class="n">df</span> <span class="o">=</span> <span class="n">joined</span><span class="p">[</span><span class="n">joined</span><span class="p">[</span><span class="s1">&#39;yearID&#39;</span><span class="p">]</span> <span class="o">==</span> <span class="n">yr</span><span class="p">]</span>
    <span class="n">plt</span><span class="o">.</span><span class="n">scatter</span><span class="p">(</span><span class="n">df</span><span class="p">[</span><span class="s1">&#39;salary&#39;</span><span class="p">]</span> <span class="o">/</span> <span class="mf">1e6</span><span class="p">,</span> <span class="n">df</span><span class="p">[</span><span class="s1">&#39;W&#39;</span><span class="p">])</span>
    <span class="n">plt</span><span class="o">.</span><span class="n">title</span><span class="p">(</span><span class="s1">&#39;Wins versus Salaries in year &#39;</span> <span class="o">+</span> <span class="nb">str</span><span class="p">(</span><span class="n">yr</span><span class="p">))</span>
    <span class="n">plt</span><span class="o">.</span><span class="n">xlabel</span><span class="p">(</span><span class="s1">&#39;Total Salary (in millions)&#39;</span><span class="p">)</span>
    <span class="n">plt</span><span class="o">.</span><span class="n">ylabel</span><span class="p">(</span><span class="s1">&#39;Wins&#39;</span><span class="p">)</span>
    <span class="n">plt</span><span class="o">.</span><span class="n">xlim</span><span class="p">(</span><span class="mi">0</span><span class="p">,</span> <span class="mi">180</span><span class="p">)</span>
    <span class="n">plt</span><span class="o">.</span><span class="n">ylim</span><span class="p">(</span><span class="mi">30</span><span class="p">,</span> <span class="mi">130</span><span class="p">)</span>
    <span class="n">plt</span><span class="o">.</span><span class="n">grid</span><span class="p">()</span>
    <span class="n">plt</span><span class="o">.</span><span class="n">annotate</span><span class="p">(</span><span class="n">teamName</span><span class="p">,</span> 
        <span class="n">xy</span> <span class="o">=</span> <span class="p">(</span><span class="n">df</span><span class="p">[</span><span class="s1">&#39;salary&#39;</span><span class="p">][</span><span class="n">df</span><span class="p">[</span><span class="s1">&#39;teamID&#39;</span><span class="p">]</span> <span class="o">==</span> <span class="n">teamName</span><span class="p">]</span> <span class="o">/</span> <span class="mf">1e6</span><span class="p">,</span>  <span class="n">df</span><span class="p">[</span><span class="s1">&#39;W&#39;</span><span class="p">][</span><span class="n">df</span><span class="p">[</span><span class="s1">&#39;teamID&#39;</span><span class="p">]</span> <span class="o">==</span> <span class="n">teamName</span><span class="p">]),</span> 
        <span class="n">xytext</span> <span class="o">=</span> <span class="p">(</span><span class="o">-</span><span class="mi">20</span><span class="p">,</span> <span class="mi">20</span><span class="p">),</span> <span class="n">textcoords</span> <span class="o">=</span> <span class="s1">&#39;offset points&#39;</span><span class="p">,</span> <span class="n">ha</span> <span class="o">=</span> <span class="s1">&#39;right&#39;</span><span class="p">,</span> <span class="n">va</span> <span class="o">=</span> <span class="s1">&#39;bottom&#39;</span><span class="p">,</span>
        <span class="n">bbox</span> <span class="o">=</span> <span class="nb">dict</span><span class="p">(</span><span class="n">boxstyle</span> <span class="o">=</span> <span class="s1">&#39;round,pad=0.5&#39;</span><span class="p">,</span> <span class="n">fc</span> <span class="o">=</span> <span class="s1">&#39;yellow&#39;</span><span class="p">,</span> <span class="n">alpha</span> <span class="o">=</span> <span class="mf">0.5</span><span class="p">),</span>
        <span class="n">arrowprops</span> <span class="o">=</span> <span class="nb">dict</span><span class="p">(</span><span class="n">arrowstyle</span> <span class="o">=</span> <span class="s1">&#39;-&gt;&#39;</span><span class="p">,</span> <span class="n">facecolor</span> <span class="o">=</span> <span class="s1">&#39;black&#39;</span> <span class="p">,</span> <span class="n">connectionstyle</span> <span class="o">=</span> <span class="s1">&#39;arc3,rad=0&#39;</span><span class="p">))</span>
    
    <span class="n">plt</span><span class="o">.</span><span class="n">show</span><span class="p">()</span>
</pre></div>

</div>
</div>
</div>

<div class="output_wrapper">
<div class="output">


<div class="output_area">

<div class="prompt"></div>




<div class="output_png output_subarea ">
<img src="data:image/png;base64,iVBORw0KGgoAAAANSUhEUgAAAYoAAAEZCAYAAACJjGL9AAAABHNCSVQICAgIfAhkiAAAAAlwSFlz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"
>
</div>

</div>

<div class="output_area">

<div class="prompt"></div>




<div class="output_png output_subarea ">
<img src="data:image/png;base64,iVBORw0KGgoAAAANSUhEUgAAAYoAAAEZCAYAAACJjGL9AAAABHNCSVQICAgIfAhkiAAAAAlwSFlz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"
>
</div>

</div>

<div class="output_area">

<div class="prompt"></div>




<div class="output_png output_subarea ">
<img src="data:image/png;base64,iVBORw0KGgoAAAANSUhEUgAAAYoAAAEZCAYAAACJjGL9AAAABHNCSVQICAgIfAhkiAAAAAlwSFlz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==
"
>
</div>

</div>

<div class="output_area">

<div class="prompt"></div>




<div class="output_png output_subarea ">
<img src="data:image/png;base64,iVBORw0KGgoAAAANSUhEUgAAAYoAAAEZCAYAAACJjGL9AAAABHNCSVQICAgIfAhkiAAAAAlwSFlz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==
"
>
</div>

</div>

</div>
</div>

</div>
<div class="cell border-box-sizing text_cell rendered"><div class="prompt input_prompt">
</div>
<div class="inner_cell">
<div class="text_cell_render border-box-sizing rendered_html">
<p>We see a competitive advantage can be detected in years 2001-2003 for the Oakland baseball team, because in those years Oakland spent much less in salary compared to other teams, but stood out with the number of wins.</p>

</div>
</div>
</div>
<div class="cell border-box-sizing text_cell rendered"><div class="prompt input_prompt">
</div>
<div class="inner_cell">
<div class="text_cell_render border-box-sizing rendered_html">
<h4 id="Problem-1(e):">Problem 1(e):<a class="anchor-link" href="#Problem-1(e):">&#182;</a></h4><p><strong>For AC209 Students</strong>: Fit a linear regression to the data from each year and obtain the residuals. Plot the residuals against time to detect patterns that support your answer in 1(d).</p>

</div>
</div>
</div>
<div class="cell border-box-sizing code_cell rendered">
<div class="input">
<div class="prompt input_prompt">In&nbsp;[11]:</div>
<div class="inner_cell">
    <div class="input_area">
<div class=" highlight hl-ipython3"><pre><span></span><span class="c1">#your code here</span>
</pre></div>

</div>
</div>
</div>

</div>
<div class="cell border-box-sizing text_cell rendered"><div class="prompt input_prompt">
</div>
<div class="inner_cell">
<div class="text_cell_render border-box-sizing rendered_html">
<p>For each year, we perform the following:</p>
<ol>
<li>Calculate the least squares estimate of the coefficients in a linear regression model where x = salaries (in millions) and y = total wins. </li>
<li>Calculate the residuals for each team: $$e_i = y_i - \hat{y}_i$$</li>
<li>Plot the residuals for each team across time. </li>
</ol>

</div>
</div>
</div>
<div class="cell border-box-sizing code_cell rendered">
<div class="input">
<div class="prompt input_prompt">In&nbsp;[12]:</div>
<div class="inner_cell">
    <div class="input_area">
<div class=" highlight hl-ipython3"><pre><span></span><span class="n">teamName</span> <span class="o">=</span> <span class="s1">&#39;OAK&#39;</span>
<span class="n">years</span> <span class="o">=</span> <span class="n">np</span><span class="o">.</span><span class="n">arange</span><span class="p">(</span><span class="mi">1999</span><span class="p">,</span> <span class="mi">2005</span><span class="p">)</span>
<span class="n">residData</span> <span class="o">=</span> <span class="n">pd</span><span class="o">.</span><span class="n">DataFrame</span><span class="p">()</span>

<span class="k">for</span> <span class="n">yr</span> <span class="ow">in</span> <span class="n">years</span><span class="p">:</span> 
    <span class="n">df</span> <span class="o">=</span> <span class="n">joined</span><span class="p">[</span><span class="n">joined</span><span class="p">[</span><span class="s1">&#39;yearID&#39;</span><span class="p">]</span> <span class="o">==</span> <span class="n">yr</span><span class="p">]</span>
    <span class="n">x_list</span> <span class="o">=</span> <span class="n">df</span><span class="p">[</span><span class="s1">&#39;salary&#39;</span><span class="p">]</span><span class="o">.</span><span class="n">values</span> <span class="o">/</span> <span class="mf">1e6</span>
    <span class="n">y_list</span> <span class="o">=</span> <span class="n">df</span><span class="p">[</span><span class="s1">&#39;W&#39;</span><span class="p">]</span><span class="o">.</span><span class="n">values</span>

    <span class="c1"># least squares estimates</span>
    <span class="n">A</span> <span class="o">=</span> <span class="n">np</span><span class="o">.</span><span class="n">array</span><span class="p">([</span><span class="n">x_list</span><span class="p">,</span> <span class="n">np</span><span class="o">.</span><span class="n">ones</span><span class="p">(</span><span class="nb">len</span><span class="p">(</span><span class="n">x_list</span><span class="p">))])</span>
    <span class="n">y</span> <span class="o">=</span> <span class="n">y_list</span>
    <span class="n">w</span> <span class="o">=</span> <span class="n">np</span><span class="o">.</span><span class="n">linalg</span><span class="o">.</span><span class="n">lstsq</span><span class="p">(</span><span class="n">A</span><span class="o">.</span><span class="n">T</span><span class="p">,</span><span class="n">y</span><span class="p">)[</span><span class="mi">0</span><span class="p">]</span> <span class="c1"># coefficients</span>
    <span class="n">yhat</span> <span class="o">=</span> <span class="p">(</span><span class="n">w</span><span class="p">[</span><span class="mi">0</span><span class="p">]</span><span class="o">*</span><span class="n">x_list</span><span class="o">+</span><span class="n">w</span><span class="p">[</span><span class="mi">1</span><span class="p">])</span> <span class="c1"># regression line</span>
    <span class="n">residData</span><span class="p">[</span><span class="n">yr</span><span class="p">]</span> <span class="o">=</span> <span class="n">y</span> <span class="o">-</span> <span class="n">yhat</span>
  
<span class="n">residData</span><span class="o">.</span><span class="n">index</span> <span class="o">=</span> <span class="n">df</span><span class="p">[</span><span class="s1">&#39;teamID&#39;</span><span class="p">]</span>
<span class="n">residData</span> <span class="o">=</span> <span class="n">residData</span><span class="o">.</span><span class="n">T</span>
<span class="n">residData</span><span class="o">.</span><span class="n">index</span> <span class="o">=</span> <span class="n">residData</span><span class="o">.</span><span class="n">index</span><span class="o">.</span><span class="n">format</span><span class="p">()</span>

<span class="n">residData</span><span class="o">.</span><span class="n">plot</span><span class="p">(</span><span class="n">title</span> <span class="o">=</span> <span class="s1">&#39;Residuals from least squares estimates across years&#39;</span><span class="p">,</span> <span class="n">figsize</span> <span class="o">=</span> <span class="p">(</span><span class="mi">15</span><span class="p">,</span> <span class="mi">8</span><span class="p">),</span>
               <span class="n">color</span><span class="o">=</span><span class="nb">map</span><span class="p">(</span><span class="k">lambda</span> <span class="n">x</span><span class="p">:</span> <span class="s1">&#39;blue&#39;</span> <span class="k">if</span> <span class="n">x</span><span class="o">==</span><span class="s1">&#39;OAK&#39;</span> <span class="k">else</span> <span class="s1">&#39;gray&#39;</span><span class="p">,</span><span class="n">df</span><span class="o">.</span><span class="n">teamID</span><span class="p">))</span>
<span class="n">plt</span><span class="o">.</span><span class="n">xlabel</span><span class="p">(</span><span class="s1">&#39;Year&#39;</span><span class="p">)</span>
<span class="n">plt</span><span class="o">.</span><span class="n">ylabel</span><span class="p">(</span><span class="s1">&#39;Residuals&#39;</span><span class="p">)</span>
<span class="n">plt</span><span class="o">.</span><span class="n">show</span><span class="p">()</span>
</pre></div>

</div>
</div>
</div>

<div class="output_wrapper">
<div class="output">


<div class="output_area">

<div class="prompt"></div>




<div class="output_png output_subarea ">
<img src="data:image/png;base64,iVBORw0KGgoAAAANSUhEUgAAA4UAAAJxCAYAAAD1pBcbAAAABHNCSVQICAgIfAhkiAAAAAlwSFlz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"
>
</div>

</div>

</div>
</div>

</div>
<div class="cell border-box-sizing text_cell rendered"><div class="prompt input_prompt">
</div>
<div class="inner_cell">
<div class="text_cell_render border-box-sizing rendered_html">
<h2 id="Discussion-for-Problem-1">Discussion for Problem 1<a class="anchor-link" href="#Discussion-for-Problem-1">&#182;</a></h2><p><em>Write a brief discussion of your conclusions to the questions and tasks above in 100 words or less.</em></p>
<p>Considering the plots from 1(d) and 1(e), we see the Oakland baseball team stood out amongst the other baseball teams in terms of their ability to win a large amount of games with a small budget from 2001-2003.  Upon futher reading, we can attributed this to Billy Beane's effort to use "sabermetrics" (or the empirical analysis of baseball data) at the Oakland A's. He was able to find the most undervalued players and baseball and hire them on a reduced budget.</p>
<hr>

</div>
</div>
</div>
<div class="cell border-box-sizing text_cell rendered"><div class="prompt input_prompt">
</div>
<div class="inner_cell">
<div class="text_cell_render border-box-sizing rendered_html">
<h2 id="Problem-2">Problem 2<a class="anchor-link" href="#Problem-2">&#182;</a></h2><p>Several media reports have demonstrated the income inequality has increased in the US during this last decade. Here we will look at global data. Use exploratory data analysis to determine if the gap between Africa/Latin America/Asia and Europe/NorthAmerica has increased, decreased or stayed the same during the last two decades.</p>

</div>
</div>
</div>
<div class="cell border-box-sizing text_cell rendered"><div class="prompt input_prompt">
</div>
<div class="inner_cell">
<div class="text_cell_render border-box-sizing rendered_html">
<h4 id="Problem-2(a)">Problem 2(a)<a class="anchor-link" href="#Problem-2(a)">&#182;</a></h4><p>Using the list of countries by continent from <a href="http://www.worldatlas.com/cntycont.htm">World Atlas</a> data, load in the <code>countries.csv</code> file into a pandas DataFrame and name this data set as <code>countries</code>.  This data set can be found on Github in the 2014_data repository <a href="https://github.com/cs109/2014_data/blob/master/countries.csv">here</a>.</p>

</div>
</div>
</div>
<div class="cell border-box-sizing code_cell rendered">
<div class="input">
<div class="prompt input_prompt">In&nbsp;[3]:</div>
<div class="inner_cell">
    <div class="input_area">
<div class=" highlight hl-ipython3"><pre><span></span><span class="c1">#your code here</span>

<span class="n">url</span> <span class="o">=</span> <span class="s2">&quot;https://raw.githubusercontent.com/cs109/2014_data/master/countries.csv&quot;</span>
<span class="n">s</span> <span class="o">=</span> <span class="n">StringIO</span><span class="o">.</span><span class="n">StringIO</span><span class="p">(</span><span class="n">requests</span><span class="o">.</span><span class="n">get</span><span class="p">(</span><span class="n">url</span><span class="p">)</span><span class="o">.</span><span class="n">content</span><span class="p">)</span>
<span class="n">countries</span> <span class="o">=</span> <span class="n">pd</span><span class="o">.</span><span class="n">read_csv</span><span class="p">(</span><span class="n">s</span><span class="p">)</span>
<span class="n">countries</span><span class="o">.</span><span class="n">head</span><span class="p">()</span>
</pre></div>

</div>
</div>
</div>

<div class="output_wrapper">
<div class="output">


<div class="output_area">

<div class="prompt output_prompt">Out[3]:</div>



<div class="output_html rendered_html output_subarea output_execute_result">
<div style="max-height:1000px;max-width:1500px;overflow:auto;">
<table border="1" class="dataframe">
  <thead>
    <tr style="text-align: right;">
      <th></th>
      <th>Country</th>
      <th>Region</th>
    </tr>
  </thead>
  <tbody>
    <tr>
      <th>0</th>
      <td>  Algeria</td>
      <td> AFRICA</td>
    </tr>
    <tr>
      <th>1</th>
      <td>   Angola</td>
      <td> AFRICA</td>
    </tr>
    <tr>
      <th>2</th>
      <td>    Benin</td>
      <td> AFRICA</td>
    </tr>
    <tr>
      <th>3</th>
      <td> Botswana</td>
      <td> AFRICA</td>
    </tr>
    <tr>
      <th>4</th>
      <td>  Burkina</td>
      <td> AFRICA</td>
    </tr>
  </tbody>
</table>
</div>
</div>

</div>

</div>
</div>

</div>
<div class="cell border-box-sizing text_cell rendered"><div class="prompt input_prompt">
</div>
<div class="inner_cell">
<div class="text_cell_render border-box-sizing rendered_html">
<p>Using the <a href="http://www.gapminder.org/data/">data available on Gapminder</a>, load in the <a href="https://spreadsheets.google.com/pub?key=phAwcNAVuyj1jiMAkmq1iMg&amp;gid=0">Income per person (GDP/capita, PPP$ inflation-adjusted)</a> as a pandas DataFrame and name this data set as <code>income</code>.</p>
<p><strong>Hint</strong>: Consider using the pandas function <code>pandas.read_excel()</code> to read in the .xlsx file directly.</p>

</div>
</div>
</div>
<div class="cell border-box-sizing code_cell rendered">
<div class="input">
<div class="prompt input_prompt">In&nbsp;[4]:</div>
<div class="inner_cell">
    <div class="input_area">
<div class=" highlight hl-ipython3"><pre><span></span><span class="c1">#your code here</span>

<span class="n">income_link</span> <span class="o">=</span> <span class="s1">&#39;https://spreadsheets.google.com/pub?key=phAwcNAVuyj1jiMAkmq1iMg&amp;output=xls&#39;</span>
<span class="n">source</span> <span class="o">=</span> <span class="n">StringIO</span><span class="o">.</span><span class="n">StringIO</span><span class="p">(</span><span class="n">requests</span><span class="o">.</span><span class="n">get</span><span class="p">(</span><span class="n">income_link</span><span class="p">)</span><span class="o">.</span><span class="n">content</span><span class="p">)</span>
<span class="n">income</span> <span class="o">=</span> <span class="n">pd</span><span class="o">.</span><span class="n">read_excel</span><span class="p">(</span><span class="n">source</span><span class="p">,</span> <span class="n">sheetname</span> <span class="o">=</span> <span class="s2">&quot;Data&quot;</span><span class="p">)</span>
<span class="n">income</span><span class="o">.</span><span class="n">head</span><span class="p">()</span>
</pre></div>

</div>
</div>
</div>

<div class="output_wrapper">
<div class="output">


<div class="output_area">

<div class="prompt output_prompt">Out[4]:</div>



<div class="output_html rendered_html output_subarea output_execute_result">
<div style="max-height:1000px;max-width:1500px;overflow:auto;">
<table border="1" class="dataframe">
  <thead>
    <tr style="text-align: right;">
      <th></th>
      <th>gdp pc test</th>
      <th>1800</th>
      <th>1801</th>
      <th>1802</th>
      <th>1803</th>
      <th>1804</th>
      <th>1805</th>
      <th>1806</th>
      <th>1807</th>
      <th>1808</th>
      <th>...</th>
      <th>2003</th>
      <th>2004</th>
      <th>2005</th>
      <th>2006</th>
      <th>2007</th>
      <th>2008</th>
      <th>2009</th>
      <th>2010</th>
      <th>2011</th>
      <th>2012</th>
    </tr>
  </thead>
  <tbody>
    <tr>
      <th>0</th>
      <td>              Abkhazia</td>
      <td>        NaN</td>
      <td>        NaN</td>
      <td>        NaN</td>
      <td>        NaN</td>
      <td>        NaN</td>
      <td>        NaN</td>
      <td>        NaN</td>
      <td>        NaN</td>
      <td>        NaN</td>
      <td>...</td>
      <td>         NaN</td>
      <td>         NaN</td>
      <td>  NaN</td>
      <td>         NaN</td>
      <td>         NaN</td>
      <td>         NaN</td>
      <td>         NaN</td>
      <td>         NaN</td>
      <td>         NaN</td>
      <td>         NaN</td>
    </tr>
    <tr>
      <th>1</th>
      <td>           Afghanistan</td>
      <td> 472.053500</td>
      <td> 472.053500</td>
      <td> 472.053500</td>
      <td> 472.053500</td>
      <td> 472.053500</td>
      <td> 472.053500</td>
      <td> 472.053500</td>
      <td> 472.053500</td>
      <td> 472.053500</td>
      <td>...</td>
      <td>  785.127571</td>
      <td>  804.717458</td>
      <td>  874</td>
      <td>  887.914578</td>
      <td>  983.652314</td>
      <td>  984.805841</td>
      <td> 1154.859365</td>
      <td> 1214.613653</td>
      <td> 1261.354184</td>
      <td> 1349.696941</td>
    </tr>
    <tr>
      <th>2</th>
      <td> Akrotiri and Dhekelia</td>
      <td>        NaN</td>
      <td>        NaN</td>
      <td>        NaN</td>
      <td>        NaN</td>
      <td>        NaN</td>
      <td>        NaN</td>
      <td>        NaN</td>
      <td>        NaN</td>
      <td>        NaN</td>
      <td>...</td>
      <td>         NaN</td>
      <td>         NaN</td>
      <td>  NaN</td>
      <td>         NaN</td>
      <td>         NaN</td>
      <td>         NaN</td>
      <td>         NaN</td>
      <td>         NaN</td>
      <td>         NaN</td>
      <td>         NaN</td>
    </tr>
    <tr>
      <th>3</th>
      <td>               Albania</td>
      <td> 601.215222</td>
      <td> 601.839631</td>
      <td> 602.464688</td>
      <td> 603.090394</td>
      <td> 603.716751</td>
      <td> 604.343757</td>
      <td> 604.971415</td>
      <td> 605.599725</td>
      <td> 606.228687</td>
      <td>...</td>
      <td> 4855.210024</td>
      <td> 5115.252837</td>
      <td> 5369</td>
      <td> 5652.049321</td>
      <td> 5958.021197</td>
      <td> 6365.530359</td>
      <td> 6550.896164</td>
      <td> 6746.445312</td>
      <td> 6914.267317</td>
      <td> 6969.306283</td>
    </tr>
    <tr>
      <th>4</th>
      <td>               Algeria</td>
      <td> 766.253664</td>
      <td> 766.234779</td>
      <td> 766.215895</td>
      <td> 766.197011</td>
      <td> 766.178127</td>
      <td> 766.159244</td>
      <td> 766.140362</td>
      <td> 766.121480</td>
      <td> 766.102598</td>
      <td>...</td>
      <td> 5576.851564</td>
      <td> 5790.967692</td>
      <td> 6011</td>
      <td> 6022.270940</td>
      <td> 6133.782763</td>
      <td> 6162.719840</td>
      <td> 6173.729741</td>
      <td> 6300.648214</td>
      <td> 6354.640523</td>
      <td> 6419.127829</td>
    </tr>
  </tbody>
</table>
<p>5 rows × 214 columns</p>
</div>
</div>

</div>

</div>
</div>

</div>
<div class="cell border-box-sizing text_cell rendered"><div class="prompt input_prompt">
</div>
<div class="inner_cell">
<div class="text_cell_render border-box-sizing rendered_html">
<p>Transform the data set to have years as the rows and countries as the columns. Show the head of this data set when it is loaded.</p>

</div>
</div>
</div>
<div class="cell border-box-sizing code_cell rendered">
<div class="input">
<div class="prompt input_prompt">In&nbsp;[5]:</div>
<div class="inner_cell">
    <div class="input_area">
<div class=" highlight hl-ipython3"><pre><span></span><span class="c1">#your code here</span>

<span class="n">income</span><span class="o">.</span><span class="n">index</span><span class="o">=</span><span class="n">income</span><span class="p">[</span><span class="n">income</span><span class="o">.</span><span class="n">columns</span><span class="p">[</span><span class="mi">0</span><span class="p">]]</span> <span class="c1"># Make the countries as the index</span>
<span class="n">income</span> <span class="o">=</span> <span class="n">income</span><span class="o">.</span><span class="n">drop</span><span class="p">(</span><span class="n">income</span><span class="o">.</span><span class="n">columns</span><span class="p">[</span><span class="mi">0</span><span class="p">],</span> <span class="n">axis</span> <span class="o">=</span> <span class="mi">1</span><span class="p">)</span> 
<span class="n">income</span><span class="o">.</span><span class="n">columns</span> <span class="o">=</span> <span class="nb">map</span><span class="p">(</span><span class="k">lambda</span> <span class="n">x</span><span class="p">:</span> <span class="nb">int</span><span class="p">(</span><span class="n">x</span><span class="p">),</span> <span class="n">income</span><span class="o">.</span><span class="n">columns</span><span class="p">)</span> <span class="c1"># Convert years from floats to ints</span>
<span class="n">income</span> <span class="o">=</span> <span class="n">income</span><span class="o">.</span><span class="n">transpose</span><span class="p">()</span>
<span class="n">income</span><span class="o">.</span><span class="n">head</span><span class="p">()</span>
</pre></div>

</div>
</div>
</div>

<div class="output_wrapper">
<div class="output">


<div class="output_area">

<div class="prompt output_prompt">Out[5]:</div>



<div class="output_html rendered_html output_subarea output_execute_result">
<div style="max-height:1000px;max-width:1500px;overflow:auto;">
<table border="1" class="dataframe">
  <thead>
    <tr style="text-align: right;">
      <th>gdp pc test</th>
      <th>Abkhazia</th>
      <th>Afghanistan</th>
      <th>Akrotiri and Dhekelia</th>
      <th>Albania</th>
      <th>Algeria</th>
      <th>American Samoa</th>
      <th>Andorra</th>
      <th>Angola</th>
      <th>Anguilla</th>
      <th>Antigua and Barbuda</th>
      <th>...</th>
      <th>Western Sahara</th>
      <th>Vietnam</th>
      <th>Virgin Islands (U.S.)</th>
      <th>Yemen Arab Republic (Former)</th>
      <th>Yemen Democratic (Former)</th>
      <th>Yemen, Rep.</th>
      <th>Yugoslavia</th>
      <th>Zambia</th>
      <th>Zimbabwe</th>
      <th>Åland</th>
    </tr>
  </thead>
  <tbody>
    <tr>
      <th>1800</th>
      <td>NaN</td>
      <td> 472.0535</td>
      <td>NaN</td>
      <td> 601.215222</td>
      <td> 766.253664</td>
      <td> 674.453726</td>
      <td> 1260.123256</td>
      <td> 359.932582</td>
      <td> 775.668711</td>
      <td> 538.376199</td>
      <td>...</td>
      <td>NaN</td>
      <td> 459.708986</td>
      <td>NaN</td>
      <td>NaN</td>
      <td>NaN</td>
      <td> 661.902376</td>
      <td>NaN</td>
      <td> 364.464811</td>
      <td> 372.818338</td>
      <td>NaN</td>
    </tr>
    <tr>
      <th>1801</th>
      <td>NaN</td>
      <td> 472.0535</td>
      <td>NaN</td>
      <td> 601.839631</td>
      <td> 766.234779</td>
      <td> 674.453726</td>
      <td> 1262.214402</td>
      <td> 359.932582</td>
      <td> 775.668711</td>
      <td> 538.376199</td>
      <td>...</td>
      <td>NaN</td>
      <td> 459.708986</td>
      <td>NaN</td>
      <td>NaN</td>
      <td>NaN</td>
      <td> 662.058563</td>
      <td>NaN</td>
      <td> 364.464811</td>
      <td> 372.818338</td>
      <td>NaN</td>
    </tr>
    <tr>
      <th>1802</th>
      <td>NaN</td>
      <td> 472.0535</td>
      <td>NaN</td>
      <td> 602.464688</td>
      <td> 766.215895</td>
      <td> 674.453726</td>
      <td> 1264.309018</td>
      <td> 359.932582</td>
      <td> 775.668711</td>
      <td> 538.376199</td>
      <td>...</td>
      <td>NaN</td>
      <td> 459.708986</td>
      <td>NaN</td>
      <td>NaN</td>
      <td>NaN</td>
      <td> 662.214787</td>
      <td>NaN</td>
      <td> 364.464811</td>
      <td> 372.818338</td>
      <td>NaN</td>
    </tr>
    <tr>
      <th>1803</th>
      <td>NaN</td>
      <td> 472.0535</td>
      <td>NaN</td>
      <td> 603.090394</td>
      <td> 766.197011</td>
      <td> 674.453726</td>
      <td> 1266.407109</td>
      <td> 359.932582</td>
      <td> 775.668711</td>
      <td> 538.376199</td>
      <td>...</td>
      <td>NaN</td>
      <td> 459.708986</td>
      <td>NaN</td>
      <td>NaN</td>
      <td>NaN</td>
      <td> 662.371047</td>
      <td>NaN</td>
      <td> 364.464811</td>
      <td> 372.818338</td>
      <td>NaN</td>
    </tr>
    <tr>
      <th>1804</th>
      <td>NaN</td>
      <td> 472.0535</td>
      <td>NaN</td>
      <td> 603.716751</td>
      <td> 766.178127</td>
      <td> 674.453726</td>
      <td> 1268.508683</td>
      <td> 359.932582</td>
      <td> 775.668711</td>
      <td> 538.376199</td>
      <td>...</td>
      <td>NaN</td>
      <td> 459.708986</td>
      <td>NaN</td>
      <td>NaN</td>
      <td>NaN</td>
      <td> 662.527345</td>
      <td>NaN</td>
      <td> 364.464811</td>
      <td> 372.818338</td>
      <td>NaN</td>
    </tr>
  </tbody>
</table>
<p>5 rows × 260 columns</p>
</div>
</div>

</div>

</div>
</div>

</div>
<div class="cell border-box-sizing text_cell rendered"><div class="prompt input_prompt">
</div>
<div class="inner_cell">
<div class="text_cell_render border-box-sizing rendered_html">
<h4 id="Problem-2(b)">Problem 2(b)<a class="anchor-link" href="#Problem-2(b)">&#182;</a></h4><p>Graphically display the distribution of income per person across all countries in the world for any given year (e.g. 2000).  What kind of plot would be best?</p>

</div>
</div>
</div>
<div class="cell border-box-sizing code_cell rendered">
<div class="input">
<div class="prompt input_prompt">In&nbsp;[6]:</div>
<div class="inner_cell">
    <div class="input_area">
<div class=" highlight hl-ipython3"><pre><span></span><span class="c1">#your code here</span>
</pre></div>

</div>
</div>
</div>

</div>
<div class="cell border-box-sizing text_cell rendered"><div class="prompt input_prompt">
</div>
<div class="inner_cell">
<div class="text_cell_render border-box-sizing rendered_html">
<p>Here we use a histogram to plot the distribution of income per person in a given year across all the countries on the dollar scale and the log10(dollar) scale.</p>

</div>
</div>
</div>
<div class="cell border-box-sizing code_cell rendered">
<div class="input">
<div class="prompt input_prompt">In&nbsp;[10]:</div>
<div class="inner_cell">
    <div class="input_area">
<div class=" highlight hl-ipython3"><pre><span></span><span class="n">year</span> <span class="o">=</span> <span class="mi">2000</span>
<span class="n">plt</span><span class="o">.</span><span class="n">plot</span><span class="p">(</span><span class="n">subplots</span><span class="o">=</span><span class="kc">True</span><span class="p">)</span>
<span class="n">plt</span><span class="o">.</span><span class="n">hist</span><span class="p">(</span><span class="n">income</span><span class="o">.</span><span class="n">ix</span><span class="p">[</span><span class="n">year</span><span class="p">]</span><span class="o">.</span><span class="n">dropna</span><span class="p">()</span><span class="o">.</span><span class="n">values</span><span class="p">,</span> <span class="n">bins</span> <span class="o">=</span> <span class="mi">20</span><span class="p">)</span>
<span class="n">plt</span><span class="o">.</span><span class="n">title</span><span class="p">(</span><span class="s1">&#39;Year: </span><span class="si">%i</span><span class="s1">&#39;</span> <span class="o">%</span> <span class="n">year</span><span class="p">)</span>
<span class="n">plt</span><span class="o">.</span><span class="n">xlabel</span><span class="p">(</span><span class="s1">&#39;Income per person&#39;</span><span class="p">)</span>
<span class="n">plt</span><span class="o">.</span><span class="n">ylabel</span><span class="p">(</span><span class="s1">&#39;Frequency&#39;</span><span class="p">)</span>
<span class="n">plt</span><span class="o">.</span><span class="n">show</span><span class="p">()</span>

<span class="n">plt</span><span class="o">.</span><span class="n">hist</span><span class="p">(</span><span class="n">np</span><span class="o">.</span><span class="n">log10</span><span class="p">(</span><span class="n">income</span><span class="o">.</span><span class="n">ix</span><span class="p">[</span><span class="n">year</span><span class="p">]</span><span class="o">.</span><span class="n">dropna</span><span class="p">()</span><span class="o">.</span><span class="n">values</span><span class="p">),</span> <span class="n">bins</span> <span class="o">=</span> <span class="mi">20</span><span class="p">)</span>
<span class="n">plt</span><span class="o">.</span><span class="n">title</span><span class="p">(</span><span class="s1">&#39;Year: </span><span class="si">%i</span><span class="s1">&#39;</span> <span class="o">%</span> <span class="n">year</span><span class="p">)</span>
<span class="n">plt</span><span class="o">.</span><span class="n">xlabel</span><span class="p">(</span><span class="s1">&#39;Income per person (log10 scale)&#39;</span><span class="p">)</span>
<span class="n">plt</span><span class="o">.</span><span class="n">ylabel</span><span class="p">(</span><span class="s1">&#39;Frequency&#39;</span><span class="p">)</span>
<span class="n">plt</span><span class="o">.</span><span class="n">show</span><span class="p">()</span>
</pre></div>

</div>
</div>
</div>

<div class="output_wrapper">
<div class="output">


<div class="output_area">

<div class="prompt"></div>




<div class="output_png output_subarea ">
<img src="data:image/png;base64,iVBORw0KGgoAAAANSUhEUgAAAZAAAAEZCAYAAAC5AHPcAAAABHNCSVQICAgIfAhkiAAAAAlwSFlz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==
"
>
</div>

</div>

<div class="output_area">

<div class="prompt"></div>




<div class="output_png output_subarea ">
<img src="data:image/png;base64,iVBORw0KGgoAAAANSUhEUgAAAYIAAAEZCAYAAACaWyIJAAAABHNCSVQICAgIfAhkiAAAAAlwSFlz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"
>
</div>

</div>

</div>
</div>

</div>
<div class="cell border-box-sizing text_cell rendered"><div class="prompt input_prompt">
</div>
<div class="inner_cell">
<div class="text_cell_render border-box-sizing rendered_html">
<h4 id="Problem-2(c)">Problem 2(c)<a class="anchor-link" href="#Problem-2(c)">&#182;</a></h4><p>Write a function to merge the <code>countries</code> and <code>income</code> data sets for any given year.</p>

</div>
</div>
</div>
<div class="cell border-box-sizing code_cell rendered">
<div class="input">
<div class="prompt input_prompt">In&nbsp;[18]:</div>
<div class="inner_cell">
    <div class="input_area">
<div class=" highlight hl-ipython3"><pre><span></span><span class="sd">&quot;&quot;&quot;</span>
<span class="sd">Function</span>
<span class="sd">--------</span>
<span class="sd">mergeByYear</span>

<span class="sd">Return a merged DataFrame containing the income, </span>
<span class="sd">country name and region for a given year. </span>

<span class="sd">Parameters</span>
<span class="sd">----------</span>
<span class="sd">year : int</span>
<span class="sd">    The year of interest</span>

<span class="sd">Returns</span>
<span class="sd">-------</span>
<span class="sd">a DataFrame</span>
<span class="sd">   A pandas DataFrame with three columns titled </span>
<span class="sd">   &#39;Country&#39;, &#39;Region&#39;, and &#39;Income&#39;. </span>

<span class="sd">Example</span>
<span class="sd">-------</span>
<span class="sd">&gt;&gt;&gt; mergeByYear(2010)</span>
<span class="sd">&quot;&quot;&quot;</span>
<span class="c1">#your code here</span>

<span class="k">def</span> <span class="nf">mergeByYear</span><span class="p">(</span><span class="n">year</span><span class="p">):</span>
    <span class="n">data</span> <span class="o">=</span> <span class="n">pd</span><span class="o">.</span><span class="n">DataFrame</span><span class="p">(</span><span class="n">income</span><span class="o">.</span><span class="n">ix</span><span class="p">[</span><span class="n">year</span><span class="p">]</span><span class="o">.</span><span class="n">values</span><span class="p">,</span> <span class="n">columns</span> <span class="o">=</span> <span class="p">[</span><span class="s1">&#39;Income&#39;</span><span class="p">])</span>
    <span class="n">data</span><span class="p">[</span><span class="s1">&#39;Country&#39;</span><span class="p">]</span> <span class="o">=</span> <span class="n">income</span><span class="o">.</span><span class="n">columns</span>
    <span class="n">joined</span> <span class="o">=</span> <span class="n">pd</span><span class="o">.</span><span class="n">merge</span><span class="p">(</span><span class="n">data</span><span class="p">,</span> <span class="n">countries</span><span class="p">,</span> <span class="n">how</span><span class="o">=</span><span class="s2">&quot;inner&quot;</span><span class="p">,</span> <span class="n">on</span><span class="o">=</span><span class="p">[</span><span class="s1">&#39;Country&#39;</span><span class="p">])</span>
    <span class="n">joined</span><span class="o">.</span><span class="n">Income</span> <span class="o">=</span> <span class="n">np</span><span class="o">.</span><span class="n">round</span><span class="p">(</span><span class="n">joined</span><span class="o">.</span><span class="n">Income</span><span class="p">,</span> <span class="mi">2</span><span class="p">)</span>
    <span class="k">return</span> <span class="n">joined</span>

<span class="n">mergeByYear</span><span class="p">(</span><span class="mi">2010</span><span class="p">)</span><span class="o">.</span><span class="n">head</span><span class="p">()</span>
</pre></div>

</div>
</div>
</div>

<div class="output_wrapper">
<div class="output">


<div class="output_area">

<div class="prompt output_prompt">Out[18]:</div>



<div class="output_html rendered_html output_subarea output_execute_result">
<div style="max-height:1000px;max-width:1500px;overflow:auto;">
<table border="1" class="dataframe">
  <thead>
    <tr style="text-align: right;">
      <th></th>
      <th>Income</th>
      <th>Country</th>
      <th>Region</th>
    </tr>
  </thead>
  <tbody>
    <tr>
      <th>0</th>
      <td>  1214.61</td>
      <td> Afghanistan</td>
      <td>   ASIA</td>
    </tr>
    <tr>
      <th>1</th>
      <td>  6746.45</td>
      <td>     Albania</td>
      <td> EUROPE</td>
    </tr>
    <tr>
      <th>2</th>
      <td>  6300.65</td>
      <td>     Algeria</td>
      <td> AFRICA</td>
    </tr>
    <tr>
      <th>3</th>
      <td> 33052.28</td>
      <td>     Andorra</td>
      <td> EUROPE</td>
    </tr>
    <tr>
      <th>4</th>
      <td>  5497.62</td>
      <td>      Angola</td>
      <td> AFRICA</td>
    </tr>
  </tbody>
</table>
</div>
</div>

</div>

</div>
</div>

</div>
<div class="cell border-box-sizing text_cell rendered"><div class="prompt input_prompt">
</div>
<div class="inner_cell">
<div class="text_cell_render border-box-sizing rendered_html">
<h4 id="Problem-2(d)">Problem 2(d)<a class="anchor-link" href="#Problem-2(d)">&#182;</a></h4><p>Use exploratory data analysis tools such as histograms and boxplots to explore the distribution of the income per person by region data set from 2(c) for a given year. Describe how these change through the recent years?</p>
<p><strong>Hint</strong>: Use a <code>for</code> loop to consider multiple years.</p>

</div>
</div>
</div>
<div class="cell border-box-sizing code_cell rendered">
<div class="input">
<div class="prompt input_prompt">In&nbsp;[19]:</div>
<div class="inner_cell">
    <div class="input_area">
<div class=" highlight hl-ipython3"><pre><span></span><span class="c1">#your code here</span>

<span class="n">years</span> <span class="o">=</span> <span class="n">np</span><span class="o">.</span><span class="n">arange</span><span class="p">(</span><span class="mi">1950</span><span class="p">,</span> <span class="mi">2010</span><span class="p">,</span> <span class="mi">10</span><span class="p">)</span>

<span class="k">for</span> <span class="n">yr</span> <span class="ow">in</span> <span class="n">years</span><span class="p">:</span>
    <span class="n">df</span> <span class="o">=</span> <span class="n">mergeByYear</span><span class="p">(</span><span class="n">yr</span><span class="p">)</span>
    <span class="n">df</span><span class="o">.</span><span class="n">boxplot</span><span class="p">(</span><span class="s1">&#39;Income&#39;</span><span class="p">,</span> <span class="n">by</span> <span class="o">=</span> <span class="s1">&#39;Region&#39;</span><span class="p">,</span> <span class="n">rot</span> <span class="o">=</span> <span class="mi">90</span><span class="p">)</span>
    <span class="n">plt</span><span class="o">.</span><span class="n">title</span><span class="p">(</span><span class="s2">&quot;Year:&quot;</span> <span class="o">+</span> <span class="nb">str</span><span class="p">(</span><span class="n">yr</span><span class="p">))</span>
    <span class="n">plt</span><span class="o">.</span><span class="n">ylabel</span><span class="p">(</span><span class="s1">&#39;Income per person (log10 scale)&#39;</span><span class="p">)</span>
    <span class="n">plt</span><span class="o">.</span><span class="n">ylim</span><span class="p">(</span><span class="mi">10</span><span class="o">**</span><span class="mi">2</span><span class="p">,</span> <span class="mf">10.5</span> <span class="o">**</span><span class="mi">5</span><span class="p">)</span>
    <span class="n">plt</span><span class="o">.</span><span class="n">yscale</span><span class="p">(</span><span class="s1">&#39;log&#39;</span><span class="p">)</span>
</pre></div>

</div>
</div>
</div>

<div class="output_wrapper">
<div class="output">


<div class="output_area">

<div class="prompt"></div>




<div class="output_png output_subarea ">
<img src="data:image/png;base64,iVBORw0KGgoAAAANSUhEUgAAAY0AAAFjCAYAAADB6VcjAAAABHNCSVQICAgIfAhkiAAAAAlwSFlz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"
>
</div>

</div>

<div class="output_area">

<div class="prompt"></div>




<div class="output_png output_subarea ">
<img src="data:image/png;base64,iVBORw0KGgoAAAANSUhEUgAAAY0AAAFjCAYAAADB6VcjAAAABHNCSVQICAgIfAhkiAAAAAlwSFlz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=
"
>
</div>

</div>

<div class="output_area">

<div class="prompt"></div>




<div class="output_png output_subarea ">
<img src="data:image/png;base64,iVBORw0KGgoAAAANSUhEUgAAAY0AAAFjCAYAAADB6VcjAAAABHNCSVQICAgIfAhkiAAAAAlwSFlz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"
>
</div>

</div>

<div class="output_area">

<div class="prompt"></div>




<div class="output_png output_subarea ">
<img src="data:image/png;base64,iVBORw0KGgoAAAANSUhEUgAAAY0AAAFjCAYAAADB6VcjAAAABHNCSVQICAgIfAhkiAAAAAlwSFlz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==
"
>
</div>

</div>

<div class="output_area">

<div class="prompt"></div>




<div class="output_png output_subarea ">
<img src="data:image/png;base64,iVBORw0KGgoAAAANSUhEUgAAAY0AAAFjCAYAAADB6VcjAAAABHNCSVQICAgIfAhkiAAAAAlwSFlz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=
"
>
</div>

</div>

<div class="output_area">

<div class="prompt"></div>




<div class="output_png output_subarea ">
<img src="data:image/png;base64,iVBORw0KGgoAAAANSUhEUgAAAY0AAAFjCAYAAADB6VcjAAAABHNCSVQICAgIfAhkiAAAAAlwSFlz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"
>
</div>

</div>

</div>
</div>

</div>
<div class="cell border-box-sizing text_cell rendered"><div class="prompt input_prompt">
</div>
<div class="inner_cell">
<div class="text_cell_render border-box-sizing rendered_html">
<p>In recent years, Africa and Asia have an upwards trend in average income per person while other continents have stayed more constant through the 20th century.</p>

</div>
</div>
</div>
<div class="cell border-box-sizing text_cell rendered"><div class="prompt input_prompt">
</div>
<div class="inner_cell">
<div class="text_cell_render border-box-sizing rendered_html">
<h2 id="Discussion-for-Problem-2">Discussion for Problem 2<a class="anchor-link" href="#Discussion-for-Problem-2">&#182;</a></h2><p><em>Write a brief discussion of your conclusions to the questions and tasks above in 100 words or less.</em></p>
<p>In most continents (especially Africa and Asia), we see that the distribution of incomes is very skewed: most countries are in a group of low-income states with a fat tail of high-income countries that remains approximately constant throughout the 20th century.  In 2(b) we used a histogram to look at the income distribution of all countries in the world for a given year saw a non-normal distribution. In 2(d) we used boxplots to take a closer look at the income distribution of countries grouped by regions across decades.  We saw upward trends in average income per person across certain regions (e.g. Africa) as we moved through the 20th century.</p>
<hr>

</div>
</div>
</div>
<div class="cell border-box-sizing text_cell rendered"><div class="prompt input_prompt">
</div>
<div class="inner_cell">
<div class="text_cell_render border-box-sizing rendered_html">
<h2 id="Problem-3">Problem 3<a class="anchor-link" href="#Problem-3">&#182;</a></h2><p>In general, if group A has larger values than group B on average, does this mean the largest values are from group A? Discuss after completing each of the problems below.</p>

</div>
</div>
</div>
<div class="cell border-box-sizing text_cell rendered"><div class="prompt input_prompt">
</div>
<div class="inner_cell">
<div class="text_cell_render border-box-sizing rendered_html">
<h4 id="Problem-3(a)">Problem 3(a)<a class="anchor-link" href="#Problem-3(a)">&#182;</a></h4><p>Assume you have two list of numbers, X and Y, with distribution approximately normal. X and Y have standard deviation equal to 1, but the average of X is different from the average of Y.  If the difference in the average of X and the average of Y is larger than 0, how does the proportion of X &gt; a compare to the proportion of Y &gt; a?</p>

</div>
</div>
</div>
<div class="cell border-box-sizing text_cell rendered"><div class="prompt input_prompt">
</div>
<div class="inner_cell">
<div class="text_cell_render border-box-sizing rendered_html">
<p>Write a function that analytically calculates the ratio of these two proportions: Pr(X &gt; a)/Pr(Y &gt; a) as function of the difference in the average of X and the average of Y.</p>
<p><strong>Hint</strong>: Use the <code>scipy.stats</code> module for useful functions related to a normal random variable such as the probability density function, cumulative distribution function and survival function.</p>
<p><strong>Update</strong>: Assume Y is normally distributed with mean equal to 0.</p>

</div>
</div>
</div>
<div class="cell border-box-sizing text_cell rendered"><div class="prompt input_prompt">
</div>
<div class="inner_cell">
<div class="text_cell_render border-box-sizing rendered_html">
<p>Show the curve for different values of a (a = 2,3,4 and 5).</p>

</div>
</div>
</div>
<div class="cell border-box-sizing code_cell rendered">
<div class="input">
<div class="prompt input_prompt">In&nbsp;[20]:</div>
<div class="inner_cell">
    <div class="input_area">
<div class=" highlight hl-ipython3"><pre><span></span><span class="sd">&quot;&quot;&quot;</span>
<span class="sd">Function</span>
<span class="sd">--------</span>
<span class="sd">ratioNormals</span>

<span class="sd">Return ratio of these two proportions: </span>
<span class="sd">    Pr(X &gt; a)/Pr(Y &gt; a) as function of </span>
<span class="sd">    the difference in the average of X </span>
<span class="sd">    and the average of Y. </span>

<span class="sd">Parameters</span>
<span class="sd">----------</span>
<span class="sd">diff : difference in the average of X </span>
<span class="sd">    and the average of Y. </span>
<span class="sd">a : cutoff value</span>

<span class="sd">Returns</span>
<span class="sd">-------</span>
<span class="sd">Returns ratio of these two proportions: </span>
<span class="sd">    Pr(X &gt; a)/Pr(Y &gt; a)</span>
<span class="sd">    </span>
<span class="sd">Example</span>
<span class="sd">-------</span>
<span class="sd">&gt;&gt;&gt; ratioNormals(diff = 1, a = 2)</span>
<span class="sd">&quot;&quot;&quot;</span>
<span class="c1">#your code here</span>

<span class="k">def</span> <span class="nf">ratioNormals</span><span class="p">(</span><span class="n">diff</span><span class="p">,</span> <span class="n">a</span><span class="p">):</span>
    <span class="n">X</span> <span class="o">=</span> <span class="n">scipy</span><span class="o">.</span><span class="n">stats</span><span class="o">.</span><span class="n">norm</span><span class="p">(</span><span class="n">loc</span><span class="o">=</span><span class="n">diff</span><span class="p">,</span> <span class="n">scale</span><span class="o">=</span><span class="mi">1</span><span class="p">)</span>
    <span class="n">Y</span> <span class="o">=</span> <span class="n">scipy</span><span class="o">.</span><span class="n">stats</span><span class="o">.</span><span class="n">norm</span><span class="p">(</span><span class="n">loc</span><span class="o">=</span><span class="mi">0</span><span class="p">,</span> <span class="n">scale</span><span class="o">=</span><span class="mi">1</span><span class="p">)</span> 
    <span class="k">return</span> <span class="n">X</span><span class="o">.</span><span class="n">sf</span><span class="p">(</span><span class="n">a</span><span class="p">)</span> <span class="o">/</span> <span class="n">Y</span><span class="o">.</span><span class="n">sf</span><span class="p">(</span><span class="n">a</span><span class="p">)</span>
</pre></div>

</div>
</div>
</div>

</div>
<div class="cell border-box-sizing code_cell rendered">
<div class="input">
<div class="prompt input_prompt">In&nbsp;[21]:</div>
<div class="inner_cell">
    <div class="input_area">
<div class=" highlight hl-ipython3"><pre><span></span><span class="c1">#your code here</span>

<span class="c1"># let diff range from 0 to 5 </span>
<span class="n">diffs</span> <span class="o">=</span> <span class="n">np</span><span class="o">.</span><span class="n">linspace</span><span class="p">(</span><span class="mi">0</span><span class="p">,</span> <span class="mi">5</span><span class="p">,</span> <span class="mi">50</span><span class="p">)</span>
<span class="n">a_values</span> <span class="o">=</span> <span class="nb">range</span><span class="p">(</span><span class="mi">2</span><span class="p">,</span><span class="mi">6</span><span class="p">)</span>

<span class="c1"># Plot separate curves for </span>
<span class="c1"># Pr(X &gt; a) / Pr(Y &gt; a) as a function of diff</span>
<span class="c1"># for all given values of a</span>
<span class="n">plt</span><span class="o">.</span><span class="n">figure</span><span class="p">(</span><span class="n">figsize</span><span class="o">=</span><span class="p">(</span><span class="mi">8</span><span class="p">,</span><span class="mi">5</span><span class="p">));</span>
<span class="k">for</span> <span class="n">a</span> <span class="ow">in</span> <span class="n">a_values</span><span class="p">:</span>
    <span class="n">ratios</span> <span class="o">=</span> <span class="p">[</span><span class="n">ratioNormals</span><span class="p">(</span><span class="n">diff</span><span class="p">,</span> <span class="n">a</span><span class="p">)</span> <span class="k">for</span> <span class="n">diff</span> <span class="ow">in</span> <span class="n">diffs</span><span class="p">]</span>
    <span class="n">plt</span><span class="o">.</span><span class="n">plot</span><span class="p">(</span><span class="n">diffs</span><span class="p">,</span> <span class="n">ratios</span><span class="p">)</span>
    
<span class="c1"># Labels</span>
<span class="n">plt</span><span class="o">.</span><span class="n">legend</span><span class="p">([</span><span class="s2">&quot;a=</span><span class="si">{}</span><span class="s2">&quot;</span><span class="o">.</span><span class="n">format</span><span class="p">(</span><span class="n">a</span><span class="p">)</span> <span class="k">for</span> <span class="n">a</span> <span class="ow">in</span> <span class="n">a_values</span><span class="p">],</span> <span class="n">loc</span><span class="o">=</span><span class="mi">0</span><span class="p">);</span>
<span class="n">plt</span><span class="o">.</span><span class="n">xlabel</span><span class="p">(</span><span class="s1">&#39;Diff&#39;</span><span class="p">);</span>
<span class="n">plt</span><span class="o">.</span><span class="n">ylabel</span><span class="p">(</span><span class="s1">&#39;Pr(X&gt;a) / Pr(Y&gt;a)&#39;</span><span class="p">);</span>
<span class="n">plt</span><span class="o">.</span><span class="n">title</span><span class="p">(</span><span class="s1">&#39;Ratio of Pr(X &gt; a) to Pr(Y &gt; a) as a Function of Diff&#39;</span><span class="p">);</span>

<span class="c1"># Using a log scale so you can actually see the curves</span>
<span class="n">plt</span><span class="o">.</span><span class="n">yscale</span><span class="p">(</span><span class="s1">&#39;log&#39;</span><span class="p">)</span>
</pre></div>

</div>
</div>
</div>

<div class="output_wrapper">
<div class="output">


<div class="output_area">

<div class="prompt"></div>




<div class="output_png output_subarea ">
<img src="data:image/png;base64,iVBORw0KGgoAAAANSUhEUgAAAfQAAAFRCAYAAACCB1/XAAAABHNCSVQICAgIfAhkiAAAAAlwSFlz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"
>
</div>

</div>

</div>
</div>

</div>
<div class="cell border-box-sizing text_cell rendered"><div class="prompt input_prompt">
</div>
<div class="inner_cell">
<div class="text_cell_render border-box-sizing rendered_html">
<h4 id="Problem-3(b)">Problem 3(b)<a class="anchor-link" href="#Problem-3(b)">&#182;</a></h4><p>Now consider the distribution of income per person from two regions: Asia and South America. Estimate the average income per person across the countries in those two regions. Which region has the larger average of income per person across the countries in that region?</p>
<p><strong>Update</strong>: Use the year 2012.</p>

</div>
</div>
</div>
<div class="cell border-box-sizing code_cell rendered">
<div class="input">
<div class="prompt input_prompt">In&nbsp;[22]:</div>
<div class="inner_cell">
    <div class="input_area">
<div class=" highlight hl-ipython3"><pre><span></span><span class="c1">#your code here</span>

<span class="n">merged</span> <span class="o">=</span> <span class="n">mergeByYear</span><span class="p">(</span><span class="mi">2012</span><span class="p">)</span><span class="o">.</span><span class="n">groupby</span><span class="p">(</span><span class="s1">&#39;Region&#39;</span><span class="p">,</span> <span class="n">as_index</span><span class="o">=</span><span class="kc">False</span><span class="p">)</span><span class="o">.</span><span class="n">mean</span><span class="p">()</span>
<span class="n">merged</span> <span class="o">=</span> <span class="n">merged</span><span class="o">.</span><span class="n">loc</span><span class="p">[(</span><span class="n">merged</span><span class="o">.</span><span class="n">Region</span> <span class="o">==</span> <span class="s2">&quot;ASIA&quot;</span><span class="p">)</span> <span class="o">|</span> <span class="p">(</span><span class="n">merged</span><span class="o">.</span><span class="n">Region</span> <span class="o">==</span> <span class="s2">&quot;SOUTH AMERICA&quot;</span><span class="p">)]</span>
<span class="n">merged</span><span class="o">.</span><span class="n">Income</span> <span class="o">=</span> <span class="n">np</span><span class="o">.</span><span class="n">round</span><span class="p">(</span><span class="n">merged</span><span class="o">.</span><span class="n">Income</span><span class="p">,</span> <span class="mi">2</span><span class="p">)</span>
<span class="n">merged</span>
</pre></div>

</div>
</div>
</div>

<div class="output_wrapper">
<div class="output">


<div class="output_area">

<div class="prompt output_prompt">Out[22]:</div>



<div class="output_html rendered_html output_subarea output_execute_result">
<div style="max-height:1000px;max-width:1500px;overflow:auto;">
<table border="1" class="dataframe">
  <thead>
    <tr style="text-align: right;">
      <th></th>
      <th>Region</th>
      <th>Income</th>
    </tr>
  </thead>
  <tbody>
    <tr>
      <th>1</th>
      <td>          ASIA</td>
      <td> 14510.04</td>
    </tr>
    <tr>
      <th>5</th>
      <td> SOUTH AMERICA</td>
      <td>  9471.47</td>
    </tr>
  </tbody>
</table>
</div>
</div>

</div>

</div>
</div>

</div>
<div class="cell border-box-sizing text_cell rendered"><div class="prompt input_prompt">
</div>
<div class="inner_cell">
<div class="text_cell_render border-box-sizing rendered_html">
<p>Asia has a larger income compared to South America. We can also create boxplots to see the income distribution of the two continents on the dollar scale and log10(dollar) scale.</p>

</div>
</div>
</div>
<div class="cell border-box-sizing code_cell rendered">
<div class="input">
<div class="prompt input_prompt">In&nbsp;[23]:</div>
<div class="inner_cell">
    <div class="input_area">
<div class=" highlight hl-ipython3"><pre><span></span><span class="n">df</span> <span class="o">=</span> <span class="n">mergeByYear</span><span class="p">(</span><span class="mi">2012</span><span class="p">)</span>
<span class="n">df</span> <span class="o">=</span> <span class="n">df</span><span class="o">.</span><span class="n">loc</span><span class="p">[(</span><span class="n">df</span><span class="o">.</span><span class="n">Region</span> <span class="o">==</span> <span class="s2">&quot;ASIA&quot;</span><span class="p">)</span> <span class="o">|</span> <span class="p">(</span><span class="n">df</span><span class="o">.</span><span class="n">Region</span> <span class="o">==</span> <span class="s2">&quot;SOUTH AMERICA&quot;</span><span class="p">)]</span>
<span class="n">df</span><span class="o">.</span><span class="n">boxplot</span><span class="p">(</span><span class="s1">&#39;Income&#39;</span><span class="p">,</span> <span class="n">by</span> <span class="o">=</span> <span class="s1">&#39;Region&#39;</span><span class="p">,</span> <span class="n">rot</span> <span class="o">=</span> <span class="mi">90</span><span class="p">)</span>
<span class="n">plt</span><span class="o">.</span><span class="n">ylabel</span><span class="p">(</span><span class="s1">&#39;Income per person (dollars)&#39;</span><span class="p">)</span>
</pre></div>

</div>
</div>
</div>

<div class="output_wrapper">
<div class="output">


<div class="output_area">

<div class="prompt output_prompt">Out[23]:</div>




<div class="output_text output_subarea output_execute_result">
<pre>&lt;matplotlib.text.Text at 0x10b09ba90&gt;</pre>
</div>

</div>

<div class="output_area">

<div class="prompt"></div>




<div class="output_png output_subarea ">
<img src="data:image/png;base64,iVBORw0KGgoAAAANSUhEUgAAAZ8AAAFjCAYAAADisgb2AAAABHNCSVQICAgIfAhkiAAAAAlwSFlz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"
>
</div>

</div>

</div>
</div>

</div>
<div class="cell border-box-sizing code_cell rendered">
<div class="input">
<div class="prompt input_prompt">In&nbsp;[24]:</div>
<div class="inner_cell">
    <div class="input_area">
<div class=" highlight hl-ipython3"><pre><span></span><span class="n">df</span> <span class="o">=</span> <span class="n">mergeByYear</span><span class="p">(</span><span class="mi">2012</span><span class="p">)</span>
<span class="n">df</span> <span class="o">=</span> <span class="n">df</span><span class="o">.</span><span class="n">loc</span><span class="p">[(</span><span class="n">df</span><span class="o">.</span><span class="n">Region</span> <span class="o">==</span> <span class="s2">&quot;ASIA&quot;</span><span class="p">)</span> <span class="o">|</span> <span class="p">(</span><span class="n">df</span><span class="o">.</span><span class="n">Region</span> <span class="o">==</span> <span class="s2">&quot;SOUTH AMERICA&quot;</span><span class="p">)]</span>
<span class="n">df</span><span class="o">.</span><span class="n">boxplot</span><span class="p">(</span><span class="s1">&#39;Income&#39;</span><span class="p">,</span> <span class="n">by</span> <span class="o">=</span> <span class="s1">&#39;Region&#39;</span><span class="p">,</span> <span class="n">rot</span> <span class="o">=</span> <span class="mi">90</span><span class="p">)</span>
<span class="n">plt</span><span class="o">.</span><span class="n">ylabel</span><span class="p">(</span><span class="s1">&#39;Income per person (log10 scale)&#39;</span><span class="p">)</span>
<span class="n">plt</span><span class="o">.</span><span class="n">yscale</span><span class="p">(</span><span class="s1">&#39;log&#39;</span><span class="p">)</span>
</pre></div>

</div>
</div>
</div>

<div class="output_wrapper">
<div class="output">


<div class="output_area">

<div class="prompt"></div>




<div class="output_png output_subarea ">
<img src="data:image/png;base64,iVBORw0KGgoAAAANSUhEUgAAAY0AAAFjCAYAAADB6VcjAAAABHNCSVQICAgIfAhkiAAAAAlwSFlz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==
"
>
</div>

</div>

</div>
</div>

</div>
<div class="cell border-box-sizing text_cell rendered"><div class="prompt input_prompt">
</div>
<div class="inner_cell">
<div class="text_cell_render border-box-sizing rendered_html">
<h4 id="Problem-3(c)">Problem 3(c)<a class="anchor-link" href="#Problem-3(c)">&#182;</a></h4><p>Calculate the proportion of countries with income per person that is greater than 10,000 dollars. Which region has a larger proportion of countries with income per person greater than 10,000 dollars? If the answer here is different from the answer in 3(b), explain why in light of your answer to 3(a).</p>
<p><strong>Update</strong>: Use the year 2012.</p>

</div>
</div>
</div>
<div class="cell border-box-sizing code_cell rendered">
<div class="input">
<div class="prompt input_prompt">In&nbsp;[25]:</div>
<div class="inner_cell">
    <div class="input_area">
<div class=" highlight hl-ipython3"><pre><span></span><span class="k">def</span> <span class="nf">ratioCountries</span><span class="p">(</span><span class="n">groupedData</span><span class="p">,</span> <span class="n">a</span><span class="p">):</span>
    <span class="n">prop</span> <span class="o">=</span> <span class="p">[</span><span class="nb">len</span><span class="p">(</span><span class="n">group</span><span class="o">.</span><span class="n">Income</span><span class="p">[</span><span class="n">group</span><span class="o">.</span><span class="n">Income</span> <span class="o">&gt;=</span> <span class="n">a</span><span class="p">])</span> <span class="o">/</span> <span class="nb">float</span><span class="p">(</span><span class="nb">len</span><span class="p">(</span><span class="n">group</span><span class="o">.</span><span class="n">Income</span><span class="o">.</span><span class="n">dropna</span><span class="p">()))</span> <span class="k">for</span> <span class="n">key</span><span class="p">,</span> <span class="n">group</span> <span class="ow">in</span> <span class="n">groupedData</span><span class="p">]</span>
    <span class="n">z</span> <span class="o">=</span> <span class="n">pd</span><span class="o">.</span><span class="n">DataFrame</span><span class="p">(</span><span class="n">groupedData</span><span class="o">.</span><span class="n">mean</span><span class="p">()</span><span class="o">.</span><span class="n">index</span><span class="p">,</span> <span class="n">columns</span> <span class="o">=</span> <span class="p">[</span><span class="s1">&#39;Region&#39;</span><span class="p">])</span>
    <span class="n">z</span><span class="p">[</span><span class="s1">&#39;Mean&#39;</span><span class="p">]</span> <span class="o">=</span> <span class="n">np</span><span class="o">.</span><span class="n">round</span><span class="p">(</span><span class="n">groupedData</span><span class="o">.</span><span class="n">mean</span><span class="p">()</span><span class="o">.</span><span class="n">values</span><span class="p">,</span><span class="mi">2</span><span class="p">)</span>
    <span class="n">z</span><span class="p">[</span><span class="s1">&#39;P(X &gt; </span><span class="si">%g</span><span class="s1">)&#39;</span> <span class="o">%</span> <span class="n">a</span><span class="p">]</span> <span class="o">=</span> <span class="n">np</span><span class="o">.</span><span class="n">round</span><span class="p">(</span><span class="n">prop</span><span class="p">,</span> <span class="mi">4</span><span class="p">)</span>
    <span class="k">return</span> <span class="n">z</span>

<span class="n">df</span> <span class="o">=</span> <span class="n">mergeByYear</span><span class="p">(</span><span class="mi">2012</span><span class="p">)</span><span class="o">.</span><span class="n">groupby</span><span class="p">(</span><span class="s1">&#39;Region&#39;</span><span class="p">)</span>
<span class="n">df_ratio</span> <span class="o">=</span> <span class="n">ratioCountries</span><span class="p">(</span><span class="n">df</span><span class="p">,</span> <span class="mf">1e4</span><span class="p">)</span>
<span class="n">df_ratio</span> <span class="o">=</span> <span class="n">df_ratio</span><span class="p">[(</span><span class="n">df_ratio</span><span class="o">.</span><span class="n">Region</span> <span class="o">==</span> <span class="s1">&#39;ASIA&#39;</span><span class="p">)</span> <span class="o">|</span> <span class="p">(</span><span class="n">df_ratio</span><span class="o">.</span><span class="n">Region</span> <span class="o">==</span> <span class="s1">&#39;SOUTH AMERICA&#39;</span><span class="p">)]</span>
<span class="n">df_ratio</span>
</pre></div>

</div>
</div>
</div>

<div class="output_wrapper">
<div class="output">


<div class="output_area">

<div class="prompt output_prompt">Out[25]:</div>



<div class="output_html rendered_html output_subarea output_execute_result">
<div style="max-height:1000px;max-width:1500px;overflow:auto;">
<table border="1" class="dataframe">
  <thead>
    <tr style="text-align: right;">
      <th></th>
      <th>Region</th>
      <th>Mean</th>
      <th>P(X &gt; 10000)</th>
    </tr>
  </thead>
  <tbody>
    <tr>
      <th>1</th>
      <td>          ASIA</td>
      <td> 14510.04</td>
      <td> 0.3684</td>
    </tr>
    <tr>
      <th>5</th>
      <td> SOUTH AMERICA</td>
      <td>  9471.47</td>
      <td> 0.4167</td>
    </tr>
  </tbody>
</table>
</div>
</div>

</div>

</div>
</div>

</div>
<div class="cell border-box-sizing text_cell rendered"><div class="prompt input_prompt">
</div>
<div class="inner_cell">
<div class="text_cell_render border-box-sizing rendered_html">
<p>South America has a larger proportion of countries greater than 10,000 dollars compared to Asia. This is different from the answer in 3(b). Because Asia does not have a normal distribution, the theory in Problem in 3(a) is not applicable here.</p>

</div>
</div>
</div>
<div class="cell border-box-sizing text_cell rendered"><div class="prompt input_prompt">
</div>
<div class="inner_cell">
<div class="text_cell_render border-box-sizing rendered_html">
<h4 id="Problem-3(d)">Problem 3(d)<a class="anchor-link" href="#Problem-3(d)">&#182;</a></h4><p><strong>For AC209 Students</strong>: Re-run this analysis in Problem 3 but compute the average income per person for each region, instead of the average of the reported incomes per person across countries in the region. Why are these two different? Hint: use this <a href="https://spreadsheets.google.com/pub?key=phAwcNAVuyj0XOoBL_n5tAQ&amp;gid=0">data set</a>.</p>

</div>
</div>
</div>
<div class="cell border-box-sizing code_cell rendered">
<div class="input">
<div class="prompt input_prompt">In&nbsp;[26]:</div>
<div class="inner_cell">
    <div class="input_area">
<div class=" highlight hl-ipython3"><pre><span></span><span class="c1">#your code here</span>

<span class="c1"># First import the population data:</span>
<span class="n">population_link</span> <span class="o">=</span> <span class="s1">&#39;https://spreadsheets.google.com/pub?key=phAwcNAVuyj0XOoBL_n5tAQ&amp;output=xls&#39;</span>
<span class="n">source</span> <span class="o">=</span> <span class="n">StringIO</span><span class="o">.</span><span class="n">StringIO</span><span class="p">(</span><span class="n">requests</span><span class="o">.</span><span class="n">get</span><span class="p">(</span><span class="n">population_link</span><span class="p">)</span><span class="o">.</span><span class="n">content</span><span class="p">)</span>
<span class="n">population</span> <span class="o">=</span> <span class="n">pd</span><span class="o">.</span><span class="n">read_excel</span><span class="p">(</span><span class="n">source</span><span class="p">,</span> <span class="n">sheetname</span> <span class="o">=</span> <span class="s2">&quot;Data&quot;</span><span class="p">)</span>

<span class="c1"># Put years as index and countries as column names</span>
<span class="n">population</span><span class="o">.</span><span class="n">columns</span> <span class="o">=</span> <span class="p">[</span><span class="s1">&#39;Country&#39;</span><span class="p">]</span> <span class="o">+</span> <span class="nb">map</span><span class="p">(</span><span class="nb">int</span><span class="p">,</span> <span class="nb">list</span><span class="p">(</span><span class="n">population</span><span class="o">.</span><span class="n">columns</span><span class="p">)[</span><span class="mi">1</span><span class="p">:])</span>
<span class="n">population</span><span class="o">.</span><span class="n">head</span><span class="p">()</span>
</pre></div>

</div>
</div>
</div>

<div class="output_wrapper">
<div class="output">


<div class="output_area">

<div class="prompt output_prompt">Out[26]:</div>



<div class="output_html rendered_html output_subarea output_execute_result">
<div style="max-height:1000px;max-width:1500px;overflow:auto;">
<table border="1" class="dataframe">
  <thead>
    <tr style="text-align: right;">
      <th></th>
      <th>Country</th>
      <th>1700</th>
      <th>1730</th>
      <th>1750</th>
      <th>1785</th>
      <th>1786</th>
      <th>1787</th>
      <th>1788</th>
      <th>1789</th>
      <th>1790</th>
      <th>...</th>
      <th>2004</th>
      <th>2005</th>
      <th>2006</th>
      <th>2007</th>
      <th>2008</th>
      <th>2009</th>
      <th>2010</th>
      <th>2011</th>
      <th>2012</th>
      <th>2013</th>
    </tr>
  </thead>
  <tbody>
    <tr>
      <th>0</th>
      <td>              Abkhazia</td>
      <td>     NaN</td>
      <td>NaN</td>
      <td>NaN</td>
      <td>NaN</td>
      <td>NaN</td>
      <td>NaN</td>
      <td>NaN</td>
      <td>NaN</td>
      <td>NaN</td>
      <td>...</td>
      <td>      NaN</td>
      <td>      NaN</td>
      <td>      NaN</td>
      <td>      NaN</td>
      <td>      NaN</td>
      <td>      NaN</td>
      <td>      NaN</td>
      <td>      NaN</td>
      <td>      NaN</td>
      <td>      NaN</td>
    </tr>
    <tr>
      <th>1</th>
      <td>           Afghanistan</td>
      <td>     NaN</td>
      <td>NaN</td>
      <td>NaN</td>
      <td>NaN</td>
      <td>NaN</td>
      <td>NaN</td>
      <td>NaN</td>
      <td>NaN</td>
      <td>NaN</td>
      <td>...</td>
      <td> 26693486</td>
      <td> 27614718</td>
      <td> 28420974</td>
      <td> 29145841</td>
      <td> 29839994</td>
      <td> 30577756</td>
      <td> 31411743</td>
      <td> 32358260</td>
      <td> 33397058</td>
      <td> 34499915</td>
    </tr>
    <tr>
      <th>2</th>
      <td> Akrotiri and Dhekelia</td>
      <td>     NaN</td>
      <td>NaN</td>
      <td>NaN</td>
      <td>NaN</td>
      <td>NaN</td>
      <td>NaN</td>
      <td>NaN</td>
      <td>NaN</td>
      <td>NaN</td>
      <td>...</td>
      <td>      NaN</td>
      <td>    15700</td>
      <td>      NaN</td>
      <td>      NaN</td>
      <td>    15700</td>
      <td>      NaN</td>
      <td>      NaN</td>
      <td>      NaN</td>
      <td>      NaN</td>
      <td>      NaN</td>
    </tr>
    <tr>
      <th>3</th>
      <td>               Albania</td>
      <td>  300000</td>
      <td>NaN</td>
      <td>NaN</td>
      <td>NaN</td>
      <td>NaN</td>
      <td>NaN</td>
      <td>NaN</td>
      <td>NaN</td>
      <td>NaN</td>
      <td>...</td>
      <td>  3124861</td>
      <td>  3141800</td>
      <td>  3156607</td>
      <td>  3169665</td>
      <td>  3181397</td>
      <td>  3192723</td>
      <td>  3204284</td>
      <td>  3215988</td>
      <td>  3227373</td>
      <td>  3238316</td>
    </tr>
    <tr>
      <th>4</th>
      <td>               Algeria</td>
      <td> 1750000</td>
      <td>NaN</td>
      <td>NaN</td>
      <td>NaN</td>
      <td>NaN</td>
      <td>NaN</td>
      <td>NaN</td>
      <td>NaN</td>
      <td>NaN</td>
      <td>...</td>
      <td> 32396048</td>
      <td> 32888449</td>
      <td> 33391954</td>
      <td> 33906605</td>
      <td> 34428028</td>
      <td> 34950168</td>
      <td> 35468208</td>
      <td> 35980193</td>
      <td> 36485828</td>
      <td> 36983924</td>
    </tr>
  </tbody>
</table>
<p>5 rows × 233 columns</p>
</div>
</div>

</div>

</div>
</div>

</div>
<div class="cell border-box-sizing text_cell rendered"><div class="prompt input_prompt">
</div>
<div class="inner_cell">
<div class="text_cell_render border-box-sizing rendered_html">
<p>Consider we have $M$ regions.  Let $R_j$ be the number of countries in the $j^{th}$ region where $j = 1, \ldots, M$.</p>
<p>If the income per person in a country $i$ is $I_i$, we previously calculated the average income per person over $R_j$ countries in the $j^{th}$ region using the following formula: 
    $$\bar{S}_j = \frac{1}{R_j}\sum_{i=1}^{R_j} I_i$$
Now, we want to consider the average income in a given region adjusting for each countries' population $N_i$. Therefore, we use the following formula to calculate an average income in a given region $R_j$ adjusting for the population in each country: 
     $$ \bar{S}_j = \frac{S_1 + S_2 + \ldots + S_{R_j}}{N_1 + N_2 + \ldots + N_{R_j} } = \frac{N_1 * I_1 + N_2 * I_2 + \ldots + N_{R_j} * I_{R_j}}{N_1 + N_2 + \ldots + N_{R_j} }$$</p>
<p>We start by creating a function similar to <code>mergeByYear()</code> from 2(c) which merges the income for each country in a given region, but also includes the population for each country.</p>

</div>
</div>
</div>
<div class="cell border-box-sizing code_cell rendered">
<div class="input">
<div class="prompt input_prompt">In&nbsp;[27]:</div>
<div class="inner_cell">
    <div class="input_area">
<div class=" highlight hl-ipython3"><pre><span></span><span class="k">def</span> <span class="nf">mergeByYearWithPop</span><span class="p">(</span><span class="n">year</span><span class="p">):</span>

    <span class="c1"># income DataFrame</span>
    <span class="n">income_df</span> <span class="o">=</span> <span class="n">pd</span><span class="o">.</span><span class="n">DataFrame</span><span class="p">(</span><span class="n">income</span><span class="o">.</span><span class="n">ix</span><span class="p">[</span><span class="n">year</span><span class="p">]</span><span class="o">.</span><span class="n">values</span><span class="p">,</span> <span class="n">columns</span> <span class="o">=</span> <span class="p">[</span><span class="s1">&#39;Income&#39;</span><span class="p">])</span>
    <span class="n">income_df</span><span class="p">[</span><span class="s1">&#39;Country&#39;</span><span class="p">]</span> <span class="o">=</span> <span class="n">income</span><span class="o">.</span><span class="n">columns</span>

    <span class="c1"># merge income DataFrame and countries</span>
    <span class="n">joined</span> <span class="o">=</span> <span class="n">pd</span><span class="o">.</span><span class="n">merge</span><span class="p">(</span><span class="n">income_df</span><span class="p">,</span> <span class="n">countries</span><span class="p">,</span> <span class="n">how</span><span class="o">=</span><span class="s2">&quot;inner&quot;</span><span class="p">,</span> <span class="n">on</span><span class="o">=</span><span class="p">[</span><span class="s1">&#39;Country&#39;</span><span class="p">])</span>
    
    <span class="c1"># population DataFrame</span>
    <span class="n">population_df</span> <span class="o">=</span> <span class="n">population</span><span class="p">[[</span><span class="s1">&#39;Country&#39;</span><span class="p">,</span><span class="n">year</span><span class="p">]]</span>

    <span class="c1"># merge population DataFrame and joined DataFrame </span>
    <span class="n">joined</span> <span class="o">=</span> <span class="n">pd</span><span class="o">.</span><span class="n">merge</span><span class="p">(</span><span class="n">joined</span><span class="p">,</span> <span class="n">population_df</span><span class="p">,</span> <span class="n">how</span><span class="o">=</span><span class="s2">&quot;inner&quot;</span><span class="p">,</span> <span class="n">on</span><span class="o">=</span><span class="p">[</span><span class="s1">&#39;Country&#39;</span><span class="p">])</span>
    <span class="n">joined</span><span class="o">.</span><span class="n">columns</span> <span class="o">=</span> <span class="nb">list</span><span class="p">(</span><span class="n">joined</span><span class="o">.</span><span class="n">columns</span><span class="p">[:</span><span class="o">-</span><span class="mi">1</span><span class="p">])</span><span class="o">+</span><span class="p">[</span><span class="s1">&#39;TotalPopulation&#39;</span><span class="p">]</span>
    <span class="n">joined</span><span class="o">.</span><span class="n">Income</span> <span class="o">=</span> <span class="n">np</span><span class="o">.</span><span class="n">round</span><span class="p">(</span><span class="n">joined</span><span class="o">.</span><span class="n">Income</span><span class="p">,</span> <span class="mi">2</span><span class="p">)</span>
    
    <span class="k">def</span> <span class="nf">func</span><span class="p">(</span><span class="n">df</span><span class="p">):</span>
        <span class="n">totPop</span> <span class="o">=</span> <span class="n">df</span><span class="o">.</span><span class="n">sum</span><span class="p">()[</span><span class="s1">&#39;TotalPopulation&#39;</span><span class="p">]</span>
        <span class="n">dfout</span> <span class="o">=</span> <span class="n">df</span>
        <span class="n">dfout</span><span class="p">[</span><span class="s1">&#39;AdjustedIncome&#39;</span><span class="p">]</span> <span class="o">=</span> <span class="n">df</span><span class="o">.</span><span class="n">Income</span> <span class="o">*</span> <span class="n">df</span><span class="o">.</span><span class="n">TotalPopulation</span> <span class="o">/</span> <span class="nb">float</span><span class="p">(</span><span class="n">totPop</span><span class="p">)</span>
        <span class="n">dfout</span><span class="o">.</span><span class="n">AdjustedIncome</span> <span class="o">=</span> <span class="n">np</span><span class="o">.</span><span class="n">round</span><span class="p">(</span><span class="n">dfout</span><span class="o">.</span><span class="n">AdjustedIncome</span><span class="p">,</span> <span class="mi">2</span><span class="p">)</span>
        <span class="k">return</span> <span class="n">dfout</span>
        
    <span class="c1"># Group by region</span>
    <span class="n">returnDataFrame</span> <span class="o">=</span> <span class="n">joined</span><span class="o">.</span><span class="n">groupby</span><span class="p">(</span><span class="s1">&#39;Region&#39;</span><span class="p">)</span><span class="o">.</span><span class="n">apply</span><span class="p">(</span><span class="n">func</span><span class="p">)</span>
        
    <span class="k">return</span> <span class="n">returnDataFrame</span>

<span class="n">mergeByYearWithPop</span><span class="p">(</span><span class="mi">2012</span><span class="p">)</span><span class="o">.</span><span class="n">head</span><span class="p">()</span>
</pre></div>

</div>
</div>
</div>

<div class="output_wrapper">
<div class="output">


<div class="output_area">

<div class="prompt output_prompt">Out[27]:</div>



<div class="output_html rendered_html output_subarea output_execute_result">
<div style="max-height:1000px;max-width:1500px;overflow:auto;">
<table border="1" class="dataframe">
  <thead>
    <tr style="text-align: right;">
      <th></th>
      <th>Income</th>
      <th>Country</th>
      <th>Region</th>
      <th>TotalPopulation</th>
      <th>AdjustedIncome</th>
    </tr>
  </thead>
  <tbody>
    <tr>
      <th>0</th>
      <td> 1349.70</td>
      <td> Afghanistan</td>
      <td>   ASIA</td>
      <td> 33397058</td>
      <td>  11.13</td>
    </tr>
    <tr>
      <th>1</th>
      <td> 6969.31</td>
      <td>     Albania</td>
      <td> EUROPE</td>
      <td>  3227373</td>
      <td>  37.68</td>
    </tr>
    <tr>
      <th>2</th>
      <td> 6419.13</td>
      <td>     Algeria</td>
      <td> AFRICA</td>
      <td> 36485828</td>
      <td> 246.02</td>
    </tr>
    <tr>
      <th>3</th>
      <td>     NaN</td>
      <td>     Andorra</td>
      <td> EUROPE</td>
      <td>    87518</td>
      <td>    NaN</td>
    </tr>
    <tr>
      <th>4</th>
      <td> 5838.16</td>
      <td>      Angola</td>
      <td> AFRICA</td>
      <td> 20162517</td>
      <td> 123.65</td>
    </tr>
  </tbody>
</table>
</div>
</div>

</div>

</div>
</div>

</div>
<div class="cell border-box-sizing code_cell rendered">
<div class="input">
<div class="prompt input_prompt">In&nbsp;[28]:</div>
<div class="inner_cell">
    <div class="input_area">
<div class=" highlight hl-ipython3"><pre><span></span><span class="n">df</span> <span class="o">=</span> <span class="n">mergeByYearWithPop</span><span class="p">(</span><span class="mi">2012</span><span class="p">)</span><span class="o">.</span><span class="n">groupby</span><span class="p">(</span><span class="s1">&#39;Region&#39;</span><span class="p">)</span><span class="o">.</span><span class="n">sum</span><span class="p">()</span>
<span class="n">df</span><span class="o">.</span><span class="n">Income</span> <span class="o">=</span> <span class="n">mergeByYear</span><span class="p">(</span><span class="mi">2012</span><span class="p">)</span><span class="o">.</span><span class="n">groupby</span><span class="p">(</span><span class="s1">&#39;Region&#39;</span><span class="p">)</span><span class="o">.</span><span class="n">mean</span><span class="p">()</span><span class="o">.</span><span class="n">Income</span>
<span class="n">df</span><span class="o">.</span><span class="n">Income</span> <span class="o">=</span> <span class="n">np</span><span class="o">.</span><span class="n">round</span><span class="p">(</span><span class="n">df</span><span class="o">.</span><span class="n">Income</span><span class="p">,</span> <span class="mi">2</span><span class="p">)</span>
<span class="n">df</span> <span class="o">=</span> <span class="n">df</span><span class="o">.</span><span class="n">ix</span><span class="p">[[</span><span class="s1">&#39;ASIA&#39;</span><span class="p">,</span> <span class="s1">&#39;SOUTH AMERICA&#39;</span><span class="p">]]</span>
<span class="n">df</span>
</pre></div>

</div>
</div>
</div>

<div class="output_wrapper">
<div class="output">


<div class="output_area">

<div class="prompt output_prompt">Out[28]:</div>



<div class="output_html rendered_html output_subarea output_execute_result">
<div style="max-height:1000px;max-width:1500px;overflow:auto;">
<table border="1" class="dataframe">
  <thead>
    <tr style="text-align: right;">
      <th></th>
      <th>Income</th>
      <th>TotalPopulation</th>
      <th>AdjustedIncome</th>
    </tr>
  </thead>
  <tbody>
    <tr>
      <th>ASIA</th>
      <td> 14510.04</td>
      <td> 4048448110</td>
      <td>  6731.66</td>
    </tr>
    <tr>
      <th>SOUTH AMERICA</th>
      <td>  9471.47</td>
      <td>  400557572</td>
      <td> 10550.87</td>
    </tr>
  </tbody>
</table>
</div>
</div>

</div>

</div>
</div>

</div>
<div class="cell border-box-sizing text_cell rendered"><div class="prompt input_prompt">
</div>
<div class="inner_cell">
<div class="text_cell_render border-box-sizing rendered_html">
<p>In 3(b) we computed the average income per person in each of the regions. The first column in the table above contains the averages from 3(b) (i.e. without adjusting for population). Column 2 contains the total population in the given region. The last column is the average income per person in each of the regions (adjusted for population).</p>
<p>To compare the boxplots from 3(b), here we plot the income per person for a given region (adjusted for population) on the log10 scale.</p>

</div>
</div>
</div>
<div class="cell border-box-sizing code_cell rendered">
<div class="input">
<div class="prompt input_prompt">In&nbsp;[29]:</div>
<div class="inner_cell">
    <div class="input_area">
<div class=" highlight hl-ipython3"><pre><span></span><span class="n">df</span> <span class="o">=</span> <span class="n">mergeByYearWithPop</span><span class="p">(</span><span class="mi">2012</span><span class="p">)</span>
<span class="n">df</span><span class="o">.</span><span class="n">AdjustedIncome</span> <span class="o">=</span> <span class="n">df</span><span class="p">[</span><span class="s1">&#39;AdjustedIncome&#39;</span><span class="p">]</span>
<span class="n">df</span> <span class="o">=</span> <span class="n">df</span><span class="p">[(</span><span class="n">df</span><span class="o">.</span><span class="n">Region</span> <span class="o">==</span> <span class="s1">&#39;ASIA&#39;</span><span class="p">)</span> <span class="o">|</span> <span class="p">(</span><span class="n">df</span><span class="o">.</span><span class="n">Region</span> <span class="o">==</span> <span class="s1">&#39;SOUTH AMERICA&#39;</span><span class="p">)]</span>
<span class="n">df</span><span class="o">.</span><span class="n">boxplot</span><span class="p">(</span><span class="s1">&#39;AdjustedIncome&#39;</span><span class="p">,</span> <span class="n">by</span> <span class="o">=</span> <span class="s1">&#39;Region&#39;</span><span class="p">,</span> <span class="n">rot</span> <span class="o">=</span> <span class="mi">90</span><span class="p">)</span>
<span class="n">plt</span><span class="o">.</span><span class="n">yscale</span><span class="p">(</span><span class="s1">&#39;log&#39;</span><span class="p">)</span>
<span class="n">plt</span><span class="o">.</span><span class="n">ylabel</span><span class="p">(</span><span class="s1">&#39;Income per person adjusted for population (log10 scale)&#39;</span><span class="p">)</span>
</pre></div>

</div>
</div>
</div>

<div class="output_wrapper">
<div class="output">


<div class="output_area">

<div class="prompt output_prompt">Out[29]:</div>




<div class="output_text output_subarea output_execute_result">
<pre>&lt;matplotlib.text.Text at 0x10ba6d250&gt;</pre>
</div>

</div>

<div class="output_area">

<div class="prompt"></div>




<div class="output_png output_subarea ">
<img src="data:image/png;base64,iVBORw0KGgoAAAANSUhEUgAAAZAAAAFsCAYAAADi7++uAAAABHNCSVQICAgIfAhkiAAAAAlwSFlz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"
>
</div>

</div>

</div>
</div>

</div>
<div class="cell border-box-sizing text_cell rendered"><div class="prompt input_prompt">
</div>
<div class="inner_cell">
<div class="text_cell_render border-box-sizing rendered_html">
<p>Next let's repeat the analysis in 3(c).</p>

</div>
</div>
</div>
<div class="cell border-box-sizing code_cell rendered">
<div class="input">
<div class="prompt input_prompt">In&nbsp;[30]:</div>
<div class="inner_cell">
    <div class="input_area">
<div class=" highlight hl-ipython3"><pre><span></span><span class="k">def</span> <span class="nf">ratioCountries</span><span class="p">(</span><span class="n">groupedData</span><span class="p">,</span> <span class="n">a</span><span class="p">):</span>
    <span class="n">prop</span> <span class="o">=</span> <span class="p">[</span><span class="nb">len</span><span class="p">(</span><span class="n">group</span><span class="o">.</span><span class="n">AdjustedIncome</span><span class="p">[</span><span class="n">group</span><span class="o">.</span><span class="n">AdjustedIncome</span> <span class="o">&gt;=</span> <span class="n">a</span><span class="p">])</span> <span class="o">/</span> <span class="nb">float</span><span class="p">(</span><span class="nb">len</span><span class="p">(</span><span class="n">group</span><span class="o">.</span><span class="n">AdjustedIncome</span><span class="o">.</span><span class="n">dropna</span><span class="p">()))</span> <span class="k">for</span> <span class="n">key</span><span class="p">,</span> <span class="n">group</span> <span class="ow">in</span> <span class="n">groupedData</span><span class="p">]</span>
    <span class="n">z</span> <span class="o">=</span> <span class="n">pd</span><span class="o">.</span><span class="n">DataFrame</span><span class="p">(</span><span class="n">groupedData</span><span class="o">.</span><span class="n">mean</span><span class="p">()</span><span class="o">.</span><span class="n">index</span><span class="p">,</span> <span class="n">columns</span> <span class="o">=</span> <span class="p">[</span><span class="s1">&#39;Region&#39;</span><span class="p">])</span>
    <span class="n">z</span><span class="p">[</span><span class="s1">&#39;AdjustedIncome&#39;</span><span class="p">]</span> <span class="o">=</span> <span class="n">np</span><span class="o">.</span><span class="n">round</span><span class="p">(</span><span class="n">groupedData</span><span class="o">.</span><span class="n">AdjustedIncome</span><span class="o">.</span><span class="n">sum</span><span class="p">()</span><span class="o">.</span><span class="n">values</span><span class="p">,</span><span class="mi">2</span><span class="p">)</span>
    <span class="n">z</span><span class="p">[</span><span class="s1">&#39;P(X &gt; </span><span class="si">%g</span><span class="s1">)&#39;</span> <span class="o">%</span> <span class="n">a</span><span class="p">]</span> <span class="o">=</span> <span class="n">np</span><span class="o">.</span><span class="n">round</span><span class="p">(</span><span class="n">prop</span><span class="p">,</span><span class="mi">4</span><span class="p">)</span>
    <span class="k">return</span> <span class="n">z</span>
</pre></div>

</div>
</div>
</div>

</div>
<div class="cell border-box-sizing code_cell rendered">
<div class="input">
<div class="prompt input_prompt">In&nbsp;[31]:</div>
<div class="inner_cell">
    <div class="input_area">
<div class=" highlight hl-ipython3"><pre><span></span><span class="n">df</span> <span class="o">=</span> <span class="n">mergeByYearWithPop</span><span class="p">(</span><span class="mi">2012</span><span class="p">)</span><span class="o">.</span><span class="n">groupby</span><span class="p">(</span><span class="s1">&#39;Region&#39;</span><span class="p">)</span>
<span class="n">df_ratio</span> <span class="o">=</span> <span class="n">ratioCountries</span><span class="p">(</span><span class="n">df</span><span class="p">,</span> <span class="mf">1e4</span><span class="p">)</span>
<span class="n">df_ratio</span> <span class="o">=</span> <span class="n">df_ratio</span><span class="p">[(</span><span class="n">df_ratio</span><span class="o">.</span><span class="n">Region</span> <span class="o">==</span> <span class="s1">&#39;ASIA&#39;</span><span class="p">)</span> <span class="o">|</span> <span class="p">(</span><span class="n">df_ratio</span><span class="o">.</span><span class="n">Region</span> <span class="o">==</span> <span class="s1">&#39;SOUTH AMERICA&#39;</span><span class="p">)]</span>
<span class="n">df_ratio</span>
</pre></div>

</div>
</div>
</div>

<div class="output_wrapper">
<div class="output">


<div class="output_area">

<div class="prompt output_prompt">Out[31]:</div>



<div class="output_html rendered_html output_subarea output_execute_result">
<div style="max-height:1000px;max-width:1500px;overflow:auto;">
<table border="1" class="dataframe">
  <thead>
    <tr style="text-align: right;">
      <th></th>
      <th>Region</th>
      <th>AdjustedIncome</th>
      <th>P(X &gt; 10000)</th>
    </tr>
  </thead>
  <tbody>
    <tr>
      <th>1</th>
      <td>          ASIA</td>
      <td>  6731.66</td>
      <td> 0</td>
    </tr>
    <tr>
      <th>5</th>
      <td> SOUTH AMERICA</td>
      <td> 10550.87</td>
      <td> 0</td>
    </tr>
  </tbody>
</table>
</div>
</div>

</div>

</div>
</div>

</div>
<div class="cell border-box-sizing text_cell rendered"><div class="prompt input_prompt">
</div>
<div class="inner_cell">
<div class="text_cell_render border-box-sizing rendered_html">
<p>If we lower the value <code>a</code> from 10,000 to 1,000:</p>

</div>
</div>
</div>
<div class="cell border-box-sizing code_cell rendered">
<div class="input">
<div class="prompt input_prompt">In&nbsp;[32]:</div>
<div class="inner_cell">
    <div class="input_area">
<div class=" highlight hl-ipython3"><pre><span></span><span class="n">df</span> <span class="o">=</span> <span class="n">mergeByYearWithPop</span><span class="p">(</span><span class="mi">2012</span><span class="p">)</span><span class="o">.</span><span class="n">groupby</span><span class="p">(</span><span class="s1">&#39;Region&#39;</span><span class="p">)</span>
<span class="n">df_ratio</span> <span class="o">=</span> <span class="n">ratioCountries</span><span class="p">(</span><span class="n">df</span><span class="p">,</span> <span class="mf">1e3</span><span class="p">)</span>
<span class="n">df_ratio</span> <span class="o">=</span> <span class="n">df_ratio</span><span class="p">[(</span><span class="n">df_ratio</span><span class="o">.</span><span class="n">Region</span> <span class="o">==</span> <span class="s1">&#39;ASIA&#39;</span><span class="p">)</span> <span class="o">|</span> <span class="p">(</span><span class="n">df_ratio</span><span class="o">.</span><span class="n">Region</span> <span class="o">==</span> <span class="s1">&#39;SOUTH AMERICA&#39;</span><span class="p">)]</span>
<span class="n">df_ratio</span>
</pre></div>

</div>
</div>
</div>

<div class="output_wrapper">
<div class="output">


<div class="output_area">

<div class="prompt output_prompt">Out[32]:</div>



<div class="output_html rendered_html output_subarea output_execute_result">
<div style="max-height:1000px;max-width:1500px;overflow:auto;">
<table border="1" class="dataframe">
  <thead>
    <tr style="text-align: right;">
      <th></th>
      <th>Region</th>
      <th>AdjustedIncome</th>
      <th>P(X &gt; 1000)</th>
    </tr>
  </thead>
  <tbody>
    <tr>
      <th>1</th>
      <td>          ASIA</td>
      <td>  6731.66</td>
      <td> 0.0526</td>
    </tr>
    <tr>
      <th>5</th>
      <td> SOUTH AMERICA</td>
      <td> 10550.87</td>
      <td> 0.1667</td>
    </tr>
  </tbody>
</table>
</div>
</div>

</div>

</div>
</div>

</div>
<div class="cell border-box-sizing text_cell rendered"><div class="prompt input_prompt">
</div>
<div class="inner_cell">
<div class="text_cell_render border-box-sizing rendered_html">
<p>The solutions to Problem 3(d) are different because here we are correcting for the countries with the largest populations.</p>

</div>
</div>
</div>
<div class="cell border-box-sizing text_cell rendered"><div class="prompt input_prompt">
</div>
<div class="inner_cell">
<div class="text_cell_render border-box-sizing rendered_html">
<h2 id="Discussion-for-Problem-3">Discussion for Problem 3<a class="anchor-link" href="#Discussion-for-Problem-3">&#182;</a></h2><p><em>Write a brief discussion of your conclusions to the questions and tasks above in 100 words or less.</em></p>
<hr>
<p>The start of Problem 3 asked: <em>If group A has larger values than group B on average, does this mean the largest values are from group A?</em>.  After completely Problem 3, we see the answer is no.  In 2012, Asia had a larger average income per person compared to South America, but because the distributions of Asia and South America are different (e.g. Asia is not normally distributed), we saw the probability of seeing extreme values in Asia is smaller than the probability of seeing extreme values in South America.  When we adjust the incomes for the population of each country, we are correcting for the problem of outliers or the countries with the largest populations.</p>

</div>
</div>
</div>
<div class="cell border-box-sizing code_cell rendered">
<div class="input">
<div class="prompt input_prompt">In&nbsp;[32]:</div>
<div class="inner_cell">
    <div class="input_area">
<div class=" highlight hl-ipython3"><pre><span></span> 
</pre></div>

</div>
</div>
</div>

</div>
 


    </div>
  </div>

  </div>


  
    <footer class="footer hidden-print">
      <div class="container">
        <div class="col-md-4">
          <p>
            This website does not host notebooks, it only renders notebooks
            available on other websites.
          </p>
        </div>

        <div class="col-md-4">
          <p>
            Delivered by <a href="http://www.fastly.com/">Fastly</a>,
            Rendered by <a href="https://developer.rackspace.com/?nbviewer=awesome">Rackspace</a>
          </p>
          <p>
            nbviewer GitHub <a href="https://github.com/jupyter/nbviewer">repository</a>.
          </p>
        </div>

        <div class="col-md-4">
          
  
            
              <p>
                nbviewer version:
                <a href="https://github.com/jupyter/nbviewer/commit/5ac2643d687f4e78c5b8a4d50ead8255b2c65bb1">
                  5ac2643
                </a>
              </p>
            
          
  
  <p>
    nbconvert version: <a href="https://github.com/jupyter/nbconvert/releases/tag/5.2.1">
      5.2.1
    </a>
  </p>
  

          
  
  
  <p>
    Rendered
    <span class='date' data-date='Wed, 09 Aug 2017 08:59:22 UTC' title='Wed, 09 Aug 2017 08:59:22 UTC'>(Wed, 09 Aug 2017 08:59:22 UTC)</span>
  </p>
  

        </div>
      </div>
    </footer>
  

  <script src="https://unpkg.com/jupyter-js-widgets@2.0.*/dist/embed.js"></script>
  <script src="/static/components/bootstrap/js/bootstrap.min.js?v=5869c96cc8f19086aee625d670d741f9"></script>
  <script src="/static/components/headroom.js/dist/headroom.min.js?v=b0a311ea668f8e768ea375f4a7abb81c"></script>
  <script src="/static/components/headroom.js/dist/jQuery.headroom.min.js?v=f3a1bae118315d0c234afc74dc6aab71"></script>

  
  
  <script>
    $(function(){ $("#menubar").headroom({
      tolerance: 5,
      offset: 205,
      classes: {
        initial: "animated",
        pinned: "slideInDown",
        unpinned: "slideOutUp"
      }
    })});
  </script>


  
  <script>
    (function(i,s,o,g,r,a,m){i['GoogleAnalyticsObject']=r;i[r]=i[r]||function(){
      (i[r].q=i[r].q||[]).push(arguments)},i[r].l=1*new Date();a=s.createElement(o),
      m=s.getElementsByTagName(o)[0];a.async=1;a.src=g;m.parentNode.insertBefore(a,m)
    })(window,document,'script','https://www.google-analytics.com/analytics.js','ga');
    ga('create', 'UA-52617120-5', 'auto');
    ga('send', 'pageview');
  </script>
  
  <script>
    require({
        paths: {
          moment: "/static/components/moment/min/moment.min.js?v=89f87298ad94aa1e6b92f42eb66da043"
        }
      }, ["moment"], function(moment){
      var date = $("footer .date"),
        m = moment(new Date(date.data('date'))),
        update = function(){ date.text(m.fromNow()); };
      setInterval(update, 61*1000);
      update();
      var w = $(window).scroll(function(event){
        $("body").toggleClass("scrolled", w.scrollTop() > 0);
      });
    });
  </script>
  <!--NEW RELIC Stop Perf Measurement-->
  
  <!--NEW RELIC End-->
</body>
</html>