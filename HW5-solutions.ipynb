








<!DOCTYPE html>
<html lang="en">

<head>
  <meta charset="utf-8">
  <title>Jupyter Notebook Viewer</title>
  <meta name="viewport" content="width=device-width, initial-scale=1.0">
  <meta name="description" content="">
  <meta name="author" content="">
  
  <meta name="robots" content="noindex,nofollow">
  

  <!--NEW RELIC Start Perf Measurement-->
  
  <!--NREND-->

  <!-- Le styles -->
  <script src="/cdn-cgi/apps/head/MuIIl4I_IVFkxldaVu1mdWee9as.js"></script><link href="/static/build/styles.css?v=187600a0f647dfa49ca5629b21844856" rel="stylesheet">

  <!-- Le HTML5 shim, for IE6-8 support of HTML5 elements -->
  <!--[if lt IE 9]>
    <script src="http://html5shim.googlecode.com/svn/trunk/html5.js"></script>
  <![endif]-->

  <!-- Le fav and touch icons -->
  <link rel="shortcut icon" href="/static/ico/ipynb_icon_16x16.png">
  <link rel="apple-touch-icon-precomposed" sizes="144x144"
        href="/static/ico/apple-touch-icon-144-precomposed.png?v=5a3c9ede93e2a8b8ea9e3f8f3da1a905">
  <link rel="apple-touch-icon-precomposed" sizes="114x114"
        href="/static/ico/apple-touch-icon-114-precomposed.png?v=45d86fc8f24dc00638035e1dd7a6d898">
  <link rel="apple-touch-icon-precomposed" sizes="72x72"
        href="/static/ico/apple-touch-icon-72-precomposed.png?v=540b5eb0f3cfd25f1439d1c9bd30e15f">
  <link rel="apple-touch-icon-precomposed"
        href="/static/ico/apple-touch-icon-57-precomposed.png?v=225f0590e187e1458625654f10a28f56">
  
  

  

  
  <meta name="twitter:card" content="summary">
  <meta name="twitter:title" content="Notebook on nbviewer">
  <meta name="twitter:description" content="Check out this Jupyter notebook!">

  
  <meta name="twitter:domain" content="nbviewer.ipython.org">
  <meta name="twitter:image:src" content="http://ipython.org/ipython-doc/dev/_images/ipynb_icon_128x128.png">

  
    <link href="/static/build/notebook.css?v=0a1fd720873b368f697f2028629e42e3" rel="stylesheet">
  

  

  
    <script src="https://cdnjs.cloudflare.com/ajax/libs/mathjax/2.7.1/MathJax.js?config=TeX-AMS_HTML" type="text/javascript">
    </script>
    <script type="text/javascript">
      init_mathjax = function() {
        if (window.MathJax) {
          // MathJax loaded
          MathJax.Hub.Config({
            TeX: {
              equationNumbers: {
                autoNumber: "AMS",
                useLabelIds: true
              }
            },
            tex2jax: {
              inlineMath: [ ['$','$'], ["\\(","\\)"] ],
              displayMath: [ ['$$','$$'], ["\\[","\\]"] ],
              processEscapes: true,
              processEnvironments: true
            },
            displayAlign: 'center',
            "HTML-CSS": {
              styles: {'.MathJax_Display': {"margin": 0}},
              linebreaks: { automatic: true }
            }
          });
          MathJax.Hub.Queue(["Typeset", MathJax.Hub]);
        }
      }
      init_mathjax();
    </script>
  

</head>

<body class="nbviewer">

  <!-- These are loaded at the top of the body so they are available to
       notebook cells when they are loaded below. -->
  <script src="/static/components/jquery/dist/jquery.min.js?v=c9f5aeeca3ad37bf2aa006139b935f0a"></script>
  <script src="/static/components/requirejs/require.js?v=6da8be361b9ee26c5e721e76c6d4afce"></script>
  <script src="/static/components/moment/min/moment.min.js?v=89f87298ad94aa1e6b92f42eb66da043"></script>

<!-- Navbar
================================================== -->
  <nav id="menubar" class="navbar navbar-default navbar-fixed-top" data-spy="affix">
    <div class="container">
      <div class="navbar-header">
        <button type="button" class="navbar-toggle collapsed" data-toggle="collapse" data-target=".navbar-collapse">
          <span class="sr-only">Toggle navigation</span>
          <i class="fa fa-bars"></i>
        </button>
        <a class="navbar-brand" href="/">
          <img src="/static/img/nav_logo.svg?v=479cefe8d932fb14a67b93911b97d70f" width="159"/>
        </a>
      </div>

      <div class="collapse navbar-collapse">
        <ul class="nav navbar-nav navbar-right">
          <li>
            <a class="active" href="http://jupyter.org">JUPYTER</a>
          </li>
          <li>
    <a href="/faq" title="FAQ" >
      
        <span>FAQ</span>
      
    </a>
  </li>

          
  
    
  
    
      
        <li>
    <a href="/format/script/github/cs109/2014/blob/master/homework-solutions/HW5-solutions.ipynb" title="View as Code" >
      <span class="fa fa-code fa-2x menu-icon"></span>
      <span class="menu-text">View as Code</span>
    </a>
  </li>
      
    
  

  

  
    <li>
    <a href="https://github.com/cs109/2014/blob/master/homework-solutions/HW5-solutions.ipynb" title="View on GitHub" >
      <span class="fa fa-github fa-2x menu-icon"></span>
      <span class="menu-text">View on GitHub</span>
    </a>
  </li>
  

  <li>
    <a href="https://raw.githubusercontent.com/cs109/2014/master/homework-solutions/HW5-solutions.ipynb" title="Download Notebook" download>
      <span class="fa fa-download fa-2x menu-icon"></span>
      <span class="menu-text">Download Notebook</span>
    </a>
  </li>

        </ul>
      </div><!-- /.navbar-collapse -->
      
      
    </div>
  </nav>

  <div class="container container-main">
    
  
  <ol class="breadcrumb">
    
      <li>
        <a href="/github/cs109/2014/tree/master">2014</a>
      </li>
    
      <li>
        <a href="/github/cs109/2014/tree/master/homework-solutions">homework-solutions</a>
      </li>
    
  </ol>
  
  <div id="notebook">
    <div id="notebook-container">
      
<div class="cell border-box-sizing code_cell rendered">
<div class="input">
<div class="prompt input_prompt">In&nbsp;[1]:</div>
<div class="inner_cell">
    <div class="input_area">
<div class=" highlight hl-ipython3"><pre><span></span><span class="kn">import</span> <span class="nn">numpy</span> <span class="k">as</span> <span class="nn">np</span>
<span class="kn">import</span> <span class="nn">scipy</span> <span class="k">as</span> <span class="nn">sp</span>
<span class="kn">import</span> <span class="nn">pandas</span> <span class="k">as</span> <span class="nn">pd</span>
<span class="kn">import</span> <span class="nn">sklearn</span>
<span class="kn">import</span> <span class="nn">seaborn</span> <span class="k">as</span> <span class="nn">sns</span>
<span class="kn">from</span> <span class="nn">matplotlib</span> <span class="k">import</span> <span class="n">pyplot</span> <span class="k">as</span> <span class="n">plt</span>
<span class="o">%</span><span class="k">matplotlib</span> inline

<span class="kn">import</span> <span class="nn">sklearn.cross_validation</span>
</pre></div>

</div>
</div>
</div>

</div>
<div class="cell border-box-sizing text_cell rendered"><div class="prompt input_prompt">
</div>
<div class="inner_cell">
<div class="text_cell_render border-box-sizing rendered_html">
<h2 id="In-Vino-Veritas">In Vino Veritas<a class="anchor-link" href="#In-Vino-Veritas">&#182;</a></h2>
</div>
</div>
</div>
<div class="cell border-box-sizing text_cell rendered"><div class="prompt input_prompt">
</div>
<div class="inner_cell">
<div class="text_cell_render border-box-sizing rendered_html">
<p><img src="http://www.winemaniacs.com/wp-content/uploads/2013/04/WineRotator-2000x925.jpg"></p>

</div>
</div>
</div>
<div class="cell border-box-sizing text_cell rendered"><div class="prompt input_prompt">
</div>
<div class="inner_cell">
<div class="text_cell_render border-box-sizing rendered_html">
<p>Can a winemaker predict how a wine will be received based on the chemical properties of the wine? Are there chemical indicators that correlate more strongly with the perceived "quality" of a wine?</p>
<p>In this problem we'll examine the wine quality dataset hosted on the <a href="https://archive.ics.uci.edu/ml/datasets/Wine+Quality">UCI website</a>. This data records 11 chemical properties (such as the concentrations of sugar, citric acid, alcohol, pH etc.) of thousands of red and white wines from northern Portugal, as well as the quality of the wines, recorded on a scale from 1 to 10. In this problem, we will only look at the data for <em>red</em> wine.</p>

</div>
</div>
</div>
<div class="cell border-box-sizing text_cell rendered"><div class="prompt input_prompt">
</div>
<div class="inner_cell">
<div class="text_cell_render border-box-sizing rendered_html">
<h3 id="Problem-1:-Data-Collection">Problem 1: Data Collection<a class="anchor-link" href="#Problem-1:-Data-Collection">&#182;</a></h3>
</div>
</div>
</div>
<div class="cell border-box-sizing text_cell rendered"><div class="prompt input_prompt">
</div>
<div class="inner_cell">
<div class="text_cell_render border-box-sizing rendered_html">
<p>Import only the data for <strong>red</strong> wine from the <a href='https://archive.ics.uci.edu/ml/machine-learning-databases/wine-quality/'>dataset repository</a>. <strong>Build a pandas dataframe</strong> from the csv file and <strong>print the head</strong>. You might have to change the default delimiter used by the <a href='http://pandas.pydata.org/pandas-docs/stable/generated/pandas.io.parsers.read_csv.html'>read_csv</a> function in Pandas.</p>

</div>
</div>
</div>
<div class="cell border-box-sizing code_cell rendered">
<div class="input">
<div class="prompt input_prompt">In&nbsp;[2]:</div>
<div class="inner_cell">
    <div class="input_area">
<div class=" highlight hl-ipython3"><pre><span></span><span class="c1"># your code here</span>

<span class="n">df</span> <span class="o">=</span> <span class="n">pd</span><span class="o">.</span><span class="n">read_csv</span><span class="p">(</span><span class="s1">&#39;https://archive.ics.uci.edu/ml/machine-learning-databases/wine-quality/winequality-red.csv&#39;</span><span class="p">,</span> <span class="n">sep</span><span class="o">=</span><span class="s1">&#39;;&#39;</span><span class="p">)</span>
<span class="n">df</span><span class="o">.</span><span class="n">head</span><span class="p">()</span>
</pre></div>

</div>
</div>
</div>

<div class="output_wrapper">
<div class="output">


<div class="output_area">

<div class="prompt output_prompt">Out[2]:</div>



<div class="output_html rendered_html output_subarea output_execute_result">
<div style="max-height:1000px;max-width:1500px;overflow:auto;">
<table border="1" class="dataframe">
  <thead>
    <tr style="text-align: right;">
      <th></th>
      <th>fixed acidity</th>
      <th>volatile acidity</th>
      <th>citric acid</th>
      <th>residual sugar</th>
      <th>chlorides</th>
      <th>free sulfur dioxide</th>
      <th>total sulfur dioxide</th>
      <th>density</th>
      <th>pH</th>
      <th>sulphates</th>
      <th>alcohol</th>
      <th>quality</th>
    </tr>
  </thead>
  <tbody>
    <tr>
      <th>0</th>
      <td>  7.4</td>
      <td> 0.70</td>
      <td> 0.00</td>
      <td> 1.9</td>
      <td> 0.076</td>
      <td> 11</td>
      <td> 34</td>
      <td> 0.9978</td>
      <td> 3.51</td>
      <td> 0.56</td>
      <td> 9.4</td>
      <td> 5</td>
    </tr>
    <tr>
      <th>1</th>
      <td>  7.8</td>
      <td> 0.88</td>
      <td> 0.00</td>
      <td> 2.6</td>
      <td> 0.098</td>
      <td> 25</td>
      <td> 67</td>
      <td> 0.9968</td>
      <td> 3.20</td>
      <td> 0.68</td>
      <td> 9.8</td>
      <td> 5</td>
    </tr>
    <tr>
      <th>2</th>
      <td>  7.8</td>
      <td> 0.76</td>
      <td> 0.04</td>
      <td> 2.3</td>
      <td> 0.092</td>
      <td> 15</td>
      <td> 54</td>
      <td> 0.9970</td>
      <td> 3.26</td>
      <td> 0.65</td>
      <td> 9.8</td>
      <td> 5</td>
    </tr>
    <tr>
      <th>3</th>
      <td> 11.2</td>
      <td> 0.28</td>
      <td> 0.56</td>
      <td> 1.9</td>
      <td> 0.075</td>
      <td> 17</td>
      <td> 60</td>
      <td> 0.9980</td>
      <td> 3.16</td>
      <td> 0.58</td>
      <td> 9.8</td>
      <td> 6</td>
    </tr>
    <tr>
      <th>4</th>
      <td>  7.4</td>
      <td> 0.70</td>
      <td> 0.00</td>
      <td> 1.9</td>
      <td> 0.076</td>
      <td> 11</td>
      <td> 34</td>
      <td> 0.9978</td>
      <td> 3.51</td>
      <td> 0.56</td>
      <td> 9.4</td>
      <td> 5</td>
    </tr>
  </tbody>
</table>
</div>
</div>

</div>

</div>
</div>

</div>
<div class="cell border-box-sizing text_cell rendered"><div class="prompt input_prompt">
</div>
<div class="inner_cell">
<div class="text_cell_render border-box-sizing rendered_html">
<p>As in any machine learning problem, we have the feature data, usually labeled as $X$, and the target data, labeled $Y$. Every row in the matrix $X$ is a datapoint (i.e. a wine) and every column in $X$ is a feature of the data (e.g. pH). For a classification problem, $Y$ is a column vector containing the class of every datapoint.</p>
<p>We will use the <em>quality</em> column as our target variable. <strong>Save the <em>quality</em> column as a separate numpy array</strong> (labeled $Y$) and <strong>remove the <em>quality</em> column</strong> from the dataframe.</p>
<p>Also, we will simplify the problem to a binary world in which wines are either "bad" ($\text{score} &lt; 7$) or "good" ($\text{score} \geq 7)$. <strong>Change the $Y$ array</strong> accordingly such that it only contains zeros ("bad" wines) and ones ("good" wines). For example, if originally $Y = [1,3,8,4,7]$, the new $Y$ should be $[0,0,1,0,1]$.</p>

</div>
</div>
</div>
<div class="cell border-box-sizing code_cell rendered">
<div class="input">
<div class="prompt input_prompt">In&nbsp;[3]:</div>
<div class="inner_cell">
    <div class="input_area">
<div class=" highlight hl-ipython3"><pre><span></span><span class="c1"># your code here</span>

<span class="n">Y</span> <span class="o">=</span> <span class="n">df</span><span class="p">[</span><span class="s1">&#39;quality&#39;</span><span class="p">]</span><span class="o">.</span><span class="n">values</span>
<span class="n">df</span> <span class="o">=</span> <span class="n">df</span><span class="o">.</span><span class="n">drop</span><span class="p">(</span><span class="s1">&#39;quality&#39;</span><span class="p">,</span><span class="mi">1</span><span class="p">)</span>
<span class="n">Y</span> <span class="o">=</span> <span class="n">np</span><span class="o">.</span><span class="n">array</span><span class="p">([</span><span class="mi">1</span> <span class="k">if</span> <span class="n">y</span><span class="o">&gt;=</span><span class="mi">7</span> <span class="k">else</span> <span class="mi">0</span> <span class="k">for</span> <span class="n">y</span> <span class="ow">in</span> <span class="n">Y</span><span class="p">])</span>
</pre></div>

</div>
</div>
</div>

</div>
<div class="cell border-box-sizing text_cell rendered"><div class="prompt input_prompt">
</div>
<div class="inner_cell">
<div class="text_cell_render border-box-sizing rendered_html">
<p>Use the <a href='http://pandas.pydata.org/pandas-docs/stable/generated/pandas.DataFrame.as_matrix.html'>as_matrix</a> function in Pandas to <strong>save the feature information in your data frame as a numpy array</strong>. This is the $X$ matrix.</p>

</div>
</div>
</div>
<div class="cell border-box-sizing code_cell rendered">
<div class="input">
<div class="prompt input_prompt">In&nbsp;[4]:</div>
<div class="inner_cell">
    <div class="input_area">
<div class=" highlight hl-ipython3"><pre><span></span><span class="c1"># your code here</span>

<span class="n">X</span> <span class="o">=</span> <span class="n">df</span><span class="o">.</span><span class="n">as_matrix</span><span class="p">()</span>
</pre></div>

</div>
</div>
</div>

</div>
<div class="cell border-box-sizing text_cell rendered"><div class="prompt input_prompt">
</div>
<div class="inner_cell">
<div class="text_cell_render border-box-sizing rendered_html">
<h3 id="Problem-2:-Unbalanced-Classification-Evaluation">Problem 2: Unbalanced Classification Evaluation<a class="anchor-link" href="#Problem-2:-Unbalanced-Classification-Evaluation">&#182;</a></h3><p>In this section, we explore a number of different methods to predict the quality of a wine $Y$ based on the recorded features $X$. Formulated as a machine learning problem, we wish to predict the <strong>target</strong> $Y$ as a function of the <strong>features</strong> $X$.</p>
<p>Because we have defined $Y$ as a binary variable (encoding <em>bad</em> as 0 and <em>good</em> as 1), this is a <strong>classification</strong> problem. In class, we have discussed several approaches to classifiction incuding <strong>decision trees</strong>, <strong>random forests</strong>, and <strong>Support Vector Machines (SVM)</strong>.</p>
<p>For this problem, we will focus on <strong>random forests</strong>, but we will later in the Problem set invoke these other techniques. Recall from class that the random forest technique works by aggregating the results from a number of randomly perturbed decision trees constructed to explain the data.</p>

</div>
</div>
</div>
<div class="cell border-box-sizing text_cell rendered"><div class="prompt input_prompt">
</div>
<div class="inner_cell">
<div class="text_cell_render border-box-sizing rendered_html">
<p><strong>(a)</strong> In class, we saw that for a fixed set of data, a decision tree algorithm will generate a single fixed tree to perform a classification task. Describe how a random forest is built from individual decision trees. What are the sources of randomness in the process that are used to build a diverse set of decision trees?</p>

</div>
</div>
</div>
<div class="cell border-box-sizing text_cell rendered"><div class="prompt input_prompt">
</div>
<div class="inner_cell">
<div class="text_cell_render border-box-sizing rendered_html">
<p><strong>Your answer here.</strong></p>
<p>Solution: The random forest adds randomness in two ways. First, it randomly resamples the data with replacement, so each decision tree is being fit on a slightly different set of data. Secondly, for each split in each decision tree, the random forests algorithm only considers a random subset of variables to split on. All trees are trained independently of each other. To make predictions, all trees are queried independently and the majority vote wins.</p>

</div>
</div>
</div>
<div class="cell border-box-sizing text_cell rendered"><div class="prompt input_prompt">
</div>
<div class="inner_cell">
<div class="text_cell_render border-box-sizing rendered_html">
<p><strong>(b)</strong> There are many ways to construct a random forest -- these differences in the method of construction are encoded as <em>tuning parameters</em>. As is often the case when our goal is to construct a good prediction, we can set these tuning parameters to obtain the best projected performance in a prediction task. One of the most important tuning parameters in building a random forest is the number of trees to construct.</p>
<p>Here, you should apply the random forest classifier to the wine data and use cross-validation to explore how the score of the classifier changes when varying the number of trees in the forest. Use the <a href='http://scikit-learn.org/stable/modules/generated/sklearn.ensemble.RandomForestClassifier.html'>random forest classifier</a> built into the scikit-learn library and the <a href='http://scikit-learn.org/stable/modules/generated/sklearn.cross_validation.cross_val_score.html#sklearn.cross_validation.cross_val_score'>cross_val_score</a> function (using the default scoring method) to <strong>plot the scores of the random forests as a function of the number of trees</strong> in the random forest, ranging from 1 (simple decision tree) to 40. You should use 10-fold cross-validation. Feel free to use the boxplot functionality of the <a href='http://web.stanford.edu/~mwaskom/software/seaborn/index.html'>seaborn</a> library.</p>

</div>
</div>
</div>
<div class="cell border-box-sizing code_cell rendered">
<div class="input">
<div class="prompt input_prompt">In&nbsp;[5]:</div>
<div class="inner_cell">
    <div class="input_area">
<div class=" highlight hl-ipython3"><pre><span></span><span class="kn">from</span> <span class="nn">sklearn.ensemble</span> <span class="k">import</span> <span class="n">RandomForestClassifier</span>
<span class="kn">from</span> <span class="nn">sklearn.cross_validation</span> <span class="k">import</span> <span class="n">cross_val_score</span>

<span class="c1"># your code here</span>
<span class="n">scores</span> <span class="o">=</span> <span class="p">[]</span>

<span class="k">for</span> <span class="n">ne</span> <span class="ow">in</span> <span class="nb">range</span><span class="p">(</span><span class="mi">1</span><span class="p">,</span><span class="mi">41</span><span class="p">):</span>
    <span class="n">clf</span> <span class="o">=</span> <span class="n">RandomForestClassifier</span><span class="p">(</span><span class="n">n_estimators</span> <span class="o">=</span> <span class="n">ne</span><span class="p">)</span>
    <span class="n">score_list</span> <span class="o">=</span> <span class="n">cross_val_score</span><span class="p">(</span><span class="n">clf</span><span class="p">,</span> <span class="n">X</span><span class="p">,</span> <span class="n">Y</span><span class="p">,</span> <span class="n">cv</span><span class="o">=</span><span class="mi">10</span><span class="p">)</span>
    <span class="n">scores</span><span class="o">.</span><span class="n">append</span><span class="p">(</span><span class="n">score_list</span><span class="p">)</span>

<span class="n">sns</span><span class="o">.</span><span class="n">boxplot</span><span class="p">(</span><span class="n">scores</span><span class="p">)</span>
<span class="n">plt</span><span class="o">.</span><span class="n">xlabel</span><span class="p">(</span><span class="s1">&#39;Number of trees&#39;</span><span class="p">)</span>
<span class="n">plt</span><span class="o">.</span><span class="n">ylabel</span><span class="p">(</span><span class="s1">&#39;Classification score&#39;</span><span class="p">)</span>
<span class="n">plt</span><span class="o">.</span><span class="n">title</span><span class="p">(</span><span class="s1">&#39;Classification score as a function of the number of trees&#39;</span><span class="p">)</span>
<span class="n">plt</span><span class="o">.</span><span class="n">show</span><span class="p">()</span>
</pre></div>

</div>
</div>
</div>

<div class="output_wrapper">
<div class="output">


<div class="output_area">

<div class="prompt"></div>




<div class="output_png output_subarea ">
<img src="data:image/png;base64,iVBORw0KGgoAAAANSUhEUgAAAYcAAAEZCAYAAAB8culNAAAABHNCSVQICAgIfAhkiAAAAAlwSFlz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"
>
</div>

</div>

</div>
</div>

</div>
<div class="cell border-box-sizing text_cell rendered"><div class="prompt input_prompt">
</div>
<div class="inner_cell">
<div class="text_cell_render border-box-sizing rendered_html">
<p><strong>(c)</strong> Describe the relationship between cross validation accuracy and the number of trees. What tradeoffs should we consider when choosing the number of trees to use?</p>

</div>
</div>
</div>
<div class="cell border-box-sizing text_cell rendered"><div class="prompt input_prompt">
</div>
<div class="inner_cell">
<div class="text_cell_render border-box-sizing rendered_html">
<p><strong>Your answer here.</strong></p>
<p>Solution: Accuracy seems to improve with additional trees, with the improvement leveling off very fast (beyond 15 trees typically from what I have seen). At this point, we would have to consider the computational cost of fitting additional trees compared to the small accuracy benefit.</p>

</div>
</div>
</div>
<div class="cell border-box-sizing text_cell rendered"><div class="prompt input_prompt">
</div>
<div class="inner_cell">
<div class="text_cell_render border-box-sizing rendered_html">
<p><strong>(d)</strong> These accuracy scores look very promising compared to, say, classifying the wine using a coinflip. However, in binary classification problems, accuracy can be misleading if one class (say, bad wine) is much more common than another (say, good wine), this is, when the classes are <strong>unbalanced</strong>.</p>
<p><strong>Print</strong> the percentage of wines that are labeled as "bad" in the dataset and <strong>plot the same boxplot</strong> as the last question (feel free to copy/paste), but this time draw a line across the plot denoting the <strong>accuracy</strong> of always guessing zero ("bad wine").</p>

</div>
</div>
</div>
<div class="cell border-box-sizing code_cell rendered">
<div class="input">
<div class="prompt input_prompt">In&nbsp;[6]:</div>
<div class="inner_cell">
    <div class="input_area">
<div class=" highlight hl-ipython3"><pre><span></span><span class="c1"># your code here</span>
<span class="n">blind_guess_score</span> <span class="o">=</span> <span class="nb">sum</span><span class="p">(</span><span class="mi">1</span><span class="o">-</span><span class="n">Y</span><span class="p">)</span><span class="o">/</span><span class="nb">float</span><span class="p">(</span><span class="nb">len</span><span class="p">(</span><span class="n">Y</span><span class="p">))</span>
<span class="nb">print</span> <span class="mi">100</span><span class="o">*</span><span class="nb">float</span><span class="p">(</span><span class="nb">sum</span><span class="p">(</span><span class="mi">1</span><span class="o">-</span><span class="n">Y</span><span class="p">))</span><span class="o">/</span><span class="nb">len</span><span class="p">(</span><span class="n">Y</span><span class="p">)</span>

<span class="n">sns</span><span class="o">.</span><span class="n">boxplot</span><span class="p">(</span><span class="n">scores</span><span class="p">)</span>
<span class="n">plt</span><span class="o">.</span><span class="n">axhline</span><span class="p">(</span><span class="n">y</span><span class="o">=</span><span class="n">blind_guess_score</span><span class="p">,</span><span class="n">ls</span><span class="o">=</span><span class="s1">&#39;--&#39;</span><span class="p">)</span>
<span class="n">plt</span><span class="o">.</span><span class="n">xlabel</span><span class="p">(</span><span class="s1">&#39;Number of trees&#39;</span><span class="p">)</span>
<span class="n">plt</span><span class="o">.</span><span class="n">ylabel</span><span class="p">(</span><span class="s1">&#39;Classification score&#39;</span><span class="p">)</span>
<span class="n">plt</span><span class="o">.</span><span class="n">title</span><span class="p">(</span><span class="s1">&#39;Classification score as a function of the number of trees&#39;</span><span class="p">)</span>
<span class="n">plt</span><span class="o">.</span><span class="n">show</span><span class="p">()</span>
</pre></div>

</div>
</div>
</div>

<div class="output_wrapper">
<div class="output">


<div class="output_area">

<div class="prompt"></div>


<div class="output_subarea output_stream output_stdout output_text">
<pre>86.4290181363
</pre>
</div>
</div>

<div class="output_area">

<div class="prompt"></div>




<div class="output_png output_subarea ">
<img src="data:image/png;base64,iVBORw0KGgoAAAANSUhEUgAAAYcAAAEZCAYAAAB8culNAAAABHNCSVQICAgIfAhkiAAAAAlwSFlz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"
>
</div>

</div>

</div>
</div>

</div>
<div class="cell border-box-sizing text_cell rendered"><div class="prompt input_prompt">
</div>
<div class="inner_cell">
<div class="text_cell_render border-box-sizing rendered_html">
<h3 id="Evaluation-Metrics">Evaluation Metrics<a class="anchor-link" href="#Evaluation-Metrics">&#182;</a></h3><p>When there are unbalanced classes in a dataset, guessing the more common class will often yield very high accuracy. For this reason, we usually want to use different metrics that are less sensitive to imbalance when evaluating the predictive performance of classifiers. These metrics were originally developed for clinical trials, so to keep with the standard terminology, we define "good" wines (value of 1) as "positive" and the "bad" wines (value of 0) as the "negatives". We then define the following:</p>
<p>$P$ - number of true positives in the sample.</p>
<p>$N$ - number of true negatives in the sample.</p>
<p>$TP$ - number of true positives: how many of the "positive" guesses of the classifier are true.</p>
<p>$FP$ - number of false positives: how many of the "positive" guesses of the classifier are actually negatives.</p>
<p>$TN$ - number of true negatives; similarly, this is how many of the "negative" guesses of the classifier are true.</p>
<p>$FN$ - number of false negatives; how many of the "negative" guesses are actually positives.</p>
<p>When calling the score functions in scikit-learn you obtained the default measure of efficiency, which is called <strong>accuracy</strong>. This is simply the ratio of successful guesses (both positives and negatives) across all samples:
$$\text{accuracy} = \frac{TP + TN}{P+N}.$$
In our case, when the two classes (good and bad wines) are very unbalanced in the sample, we should look for a better measure of efficiency.</p>
<p>Usually, the goal is to identify the members of the positive class (the rare class) successfully -- this could be either the good wines or the patients presenting a rare disease. It is common practice to define the following ratios:</p>
<p>The <strong>recall</strong> rate (also called the sensitivity or the true positive rate) is the ratio of true positive guesses among all positives:
$$\text{recall} = \frac{TP}{P}=\frac{TP}{TP+FN}.$$
The <strong>precision</strong> is the ratio of the true positive guesses over all the positive guesses:
$$\text{precision} = \frac{TP}{TP+FP}.$$</p>

</div>
</div>
</div>
<div class="cell border-box-sizing text_cell rendered"><div class="prompt input_prompt">
</div>
<div class="inner_cell">
<div class="text_cell_render border-box-sizing rendered_html">
<p><strong>(e)</strong> Describe in words what the <strong>difference</strong> is between <strong>precision</strong> and <strong>recall</strong>. Describe an <strong>application scenario</strong> where precision would be more important than recall, and one scenario where recall would be more important than precision.</p>

</div>
</div>
</div>
<div class="cell border-box-sizing text_cell rendered"><div class="prompt input_prompt">
</div>
<div class="inner_cell">
<div class="text_cell_render border-box-sizing rendered_html">
<p><strong>Your answer here.</strong></p>
<p>Solution: Recall is important when you want to recover <em>all</em> of the positives. Precision is important if you want to recover a <em>pure</em> set of positives.</p>
<p>Recall example: airport security screening, where you want a strategy that pulls aside all malicious passengers, even if it means that you also end up pulling aside many innocent people.</p>
<p>Precision example: when selecting job applicants for on-site interviews (which take a lot of time) you want to make sure that every selected applicant is good, and you don't care as much about interviewing every good applicant.</p>

</div>
</div>
</div>
<div class="cell border-box-sizing text_cell rendered"><div class="prompt input_prompt">
</div>
<div class="inner_cell">
<div class="text_cell_render border-box-sizing rendered_html">
<p>Because precision and recall both provide valuable information about the quality of a classifier, we often want to combine them into a single general-purpose score. The <strong>F1</strong> score is defined as the harmonic mean of recall and precision:
$$F_1 = \frac{2\times\text{recall}\times\text{precision}}{\text{recall} + \text{precision}}.$$</p>
<p>The harmonic mean of two numbers is closer to the smaller of the two numbers than the standard arithmetic mean. The F1 score thus tends to favor classifiers that are strong in both precision and recall, rather than classifiers that emphasize one at the cost of the other.</p>

</div>
</div>
</div>
<div class="cell border-box-sizing text_cell rendered"><div class="prompt input_prompt">
</div>
<div class="inner_cell">
<div class="text_cell_render border-box-sizing rendered_html">
<p><strong>(f)</strong> For this part, <strong>repeat the cross-validation analysis in part (b) changing the <code>scoring</code> parameter</strong> of the cross_val_score function such that the measure used is the <strong>F1 score</strong>. <strong>Comment</strong> briefly on these numbers. Hint: See the <a href="http://scikit-learn.org/stable/modules/model_evaluation.html">scikit-learn documentation</a> for the options you can use for the <em>scoring</em> parameter.</p>

</div>
</div>
</div>
<div class="cell border-box-sizing code_cell rendered">
<div class="input">
<div class="prompt input_prompt">In&nbsp;[7]:</div>
<div class="inner_cell">
    <div class="input_area">
<div class=" highlight hl-ipython3"><pre><span></span><span class="c1"># your code here</span>
<span class="n">scores</span> <span class="o">=</span> <span class="p">[]</span>

<span class="k">for</span> <span class="n">ne</span> <span class="ow">in</span> <span class="nb">range</span><span class="p">(</span><span class="mi">1</span><span class="p">,</span><span class="mi">41</span><span class="p">):</span>
    <span class="n">clf</span> <span class="o">=</span> <span class="n">RandomForestClassifier</span><span class="p">(</span><span class="n">n_estimators</span> <span class="o">=</span> <span class="n">ne</span><span class="p">)</span>
    <span class="n">score_list</span> <span class="o">=</span> <span class="n">cross_val_score</span><span class="p">(</span><span class="n">clf</span><span class="p">,</span> <span class="n">X</span><span class="p">,</span> <span class="n">Y</span><span class="p">,</span> <span class="n">cv</span><span class="o">=</span><span class="mi">10</span><span class="p">,</span> <span class="n">scoring</span><span class="o">=</span><span class="s1">&#39;f1&#39;</span><span class="p">)</span>
    <span class="n">scores</span><span class="o">.</span><span class="n">append</span><span class="p">(</span><span class="n">score_list</span><span class="p">)</span>

<span class="n">sns</span><span class="o">.</span><span class="n">boxplot</span><span class="p">(</span><span class="n">scores</span><span class="p">)</span>
<span class="n">plt</span><span class="o">.</span><span class="n">xlabel</span><span class="p">(</span><span class="s1">&#39;Number of trees&#39;</span><span class="p">)</span>
<span class="n">plt</span><span class="o">.</span><span class="n">ylabel</span><span class="p">(</span><span class="s1">&#39;F1 score&#39;</span><span class="p">)</span>
<span class="n">plt</span><span class="o">.</span><span class="n">title</span><span class="p">(</span><span class="s1">&#39;F1 Scores as a function of the number of trees&#39;</span><span class="p">)</span>
<span class="n">plt</span><span class="o">.</span><span class="n">show</span><span class="p">()</span>
</pre></div>

</div>
</div>
</div>

<div class="output_wrapper">
<div class="output">


<div class="output_area">

<div class="prompt"></div>




<div class="output_png output_subarea ">
<img src="data:image/png;base64,iVBORw0KGgoAAAANSUhEUgAAAYEAAAEZCAYAAABxbJkKAAAABHNCSVQICAgIfAhkiAAAAAlwSFlz
AAALEgAACxIB0t1+/AAAIABJREFUeJztnXt8XFW1+L+TZ5vmMUmaUkD6AC/r+kIEBAQKVcGrPH4C
+hNQr4KCii/U6wMQUZEfoF5QxIsiqPi6inh5KAiiQKGUKygi1QILWmgCpaVpkpm0tE3zmN8f+0xy
cuZMZpLMe9b38+mnmbPP2XuddfY5a++19147kkgkMAzDMKqTmmILYBiGYRQPMwKGYRhVjBkBwzCM
KsaMgGEYRhVjRsAwDKOKMSNgGIZRxdQVW4BKRkTGgH8Co77Df1HVD/nO+QBwoqr+nzR57A58G3gF
kAB2AJeo6m/zJniJIiLfA/4N+IWqfimH+S4Fvqmq7xSRPYAbVfXwXOU/Rbmh9xOQZwnwD1Vtybc8
M8Wr5wtVdXMBytoLuAMYBj6iqg/50s4E6lX1e/mWo5IwI5B/lqtqf/CgiHQAlwDvBe6Z4vrrgLtU
9RTvulcAq0TkDaqq+RC4hPkQsJeqvpDjfBcDAuDlnXcD4JHufsblKSMiBSrnjcBGVT0mJO0I4B8F
kqNiiNhisfzhtZC6VLUvJO3DwAKgFzhOVU9Ik8cjwG+Ar6vqmHfscGCtqr4oIocA3wGagF3AZ1X1
XhFZBnzDd/wCVf2DiJwOfNA7HlPVN4vIB4Gzce7BPuDjqqoicgRwOVCL64Vcqqo3BeSrAb4FHAK0
4D4GZ6rqg7O9PnDeStzH+R/Ax4CfA+9Q1Ue89PXAyUA/cDdwu5dnB/BFVf21iNR5OjkOGAEe9PJ6
HNgDuA/4CLBGVZtFpB64AngTrjf3EPBpVd3mlfdj4M3AIuAGVf1CyPN7FfBdT44EcLmq/sx3P/8E
PqqqD3jn1wIakOcJ4CfAwUAU+FxSjyLyRe++a4D1Xl4bAzKcDpzk3cO/4OrD+1R1jYisAK5S1f/x
zl0BfEdVbxKRnd79Hw+0Ap8D/i/wGuAF4ARV3e7V8+uAAz05LlDV27380tWt6z2d7A38TlXPC8j8
IeATnswvAh8H9vT00AY8oqpv9p1/kifDDlzjagHwBmAh8Jiqvi+drkSkDbgSeDVQj6s/n1PVURH5
KnCip7M+4HRV3RR8zuWMjQnkn3tF5FHfv/kAqnqNqn4N2Jnh+s/iXoAXReQWEfks8KxnAOqBW4Cv
qOprgLOAb3u9jBuBT6rqa4H3Az/3XAsArwSO8gzAUcD7gGWqegDwTSD5of4qcIWqHgR8ANcKC3Iw
zhVwqKq+CvgpcG6Orh9HVZd5f77R+2AmvH9J/H8vBe5U1UOAL+A+/AAfBQ4A9sO98C3Au3BGcZ2q
vg1nhJJ5XYD7iOwHvBb3vnzTV948VT0SOAz4hIgs9svsGZ3fAld6z+FtwCUicojvfpYnDYB3n6Mh
8szB9QYPBP4jeT8i8j7vPg5W1dfh3CTXBXXncSTuA/waYBXug568j3R6bABeUNX9gKu9vM/B1Z82
wO/CfNqT773AT0Rkfoa6BTBHVV8dYgDe5Mm3XFX3B/4buEVVVwAXAiv9BsDT2804XV+hqld7h/cC
XucZgKl09S3gr149PQDoAj7juZ7OAQ5S1dcDd+Hqa0Vh7qD8E+oOyhavVb8XrlVzJHACcKH3oowB
I6p6h3fu34DXisixuJ7CX7zjj4vIKmA57iVfrarbvCKOA14OPCgy7oFoF5F24Abgv0TkBOBPwBdD
5PuziHxJRM7GteqWA4Ne8myvnynDqvp77+9HcS1OgKOBn6rqkPf7VAARWZ4mn7cC53sfZkTkKpzR
TXKrdw8viMhmr5xuX/q+QKOq3uKdt1FE/gdnDB4iPUHXyi7vIwfwGK6VC66F/nrgr96zqwXmpsnz
EZ/b6W+4FnE2/I/3/zO4sYmNACLyLBN6Bfg+gNe7eBxXX5eRvm4lgAcI563Ar5I9aFX9iYhc6TVi
Mrmd/Ol/TvaemVpXxwOv93oteMfHgOdx+n5URO4A7lDVqVy3ZYn1BEoYEekSkeTLtUpVL1XVo3Af
1/fjBscSgWteSfiLUsuE0d/mO14D/ExVX+e1kA4ADlXVAVX9Aa7r/0fcAOZqEWkNlHcczvUyhvtA
ft/Lk9len4FE4D4bfH/vSnPecKDsLhHZbYoyagJl1OLcBUl2TCFP8vog/ueQLX65/eXUAJf5nt1B
uIZCGDsCv5N5JAJyNgTOG/L9PUx6xnx/R7xz09Yt77yX0uQVIVWXEbLTW8L3vz//qXRVA7zTl3Yo
rhed8N639+NcQd8SkW9nIUNZYUagtBnA+aM/7fnOEZEmnA/6EZzvOCEiR3tpBwD3Ag+7n/J67/ir
cK2yFaS+XHcBp4nIQu/3Wd4xRORBXHf6J8CHcf7oaOD6o3E+3Ws8mU7CfehmfX0GenEtO0TkUGD3
LK75E/BuEWnw9Pl94DTcB6s+5Pw/AB8RkTrv/I/h6SZLFNjl+avxZh6djDOKUzGSRp4w+c4SkeTM
oa/gfObToRf3QURE9sG5vmbC6V4eB+DGHf7MFHWLqVv0fwBOSbpOReQMYIuqrs0gwwgTRiyY/1S6
+gPO/RMRkQbgZuCjIrKfiPwTeFJVL8PN0pupfkoWMwL5JZtR96BPdhxVHQHeghvgfMarkH/G+buv
V9VduI/Kl0XkUeB7wEmq2osbwLtKRFYDv8ANaK0NlqeqdwFfB/4oIo/hfLonecmfAy4Skb/hZjB9
RVV7AmJ+HzjKK//3uA/ckhxdH6arJF8AzvGuOxP4a5rz/L+ThuYRYDVucPM7wBpgVET+HDj/YmAT
8Hfc4HEtzkecFao6jBtUPMfT7R+Br6rqfWnkTPLPNPIE7+c64Dbgz17dSI7/BAnz+/vv8S0i8g/g
MtxgdLCcsDyC7O095x8Ap6hqLEPdmqre/wnnp7/Hu69/x7lsMslxB/BJETk35LypdPVJYB6uTqzG
6f8bqroa+DXOhfQXnKH79BQ6KEtsdpBhGEYVk7eBYa/7fDWu+zSEm/a3zkvbDfiV7/T9gS94PmTD
MAyjQORzdtCJQIOqHiZuLvvl3jFU9UW86YIi8gbga8C1eZTFMAzDCCGfYwKHA3cCqFvafVDwBBGJ
4HyyZ6uq+aUMwzAKTD6NQCuT53uPJme4+DgB+KeqPp1HOQzDMIw05NMdNIhbkZmkxrdwI8l7cNOu
MjIyMpqoq8tm5qBhGIbhY8oFdvk0AqtwLf0bvXncq0POOUhV/zebzAYGtudSNsMwjKqgq2vqALT5
NAI3A8d44QoAzhCR04BmVb1WRLqAeB7LNwzDMDJQNusEenu3loeghmEYJURXV8uU7iBbMWwYhlHF
mBEwDMOoYswIGIZhVDFmBAzDMKoYMwKGYRhVjBkBwzCMKsaMgGEYRhVjRsAwDKOKMSNgGIZRxZgR
MAzDqGLMCBiGYVQxZgQMwzCqGDMChmEYVYwZAcMwjCrGjIBhGEYVY0bAMAyjijEjYBiGUcWYETAM
w6hizAgYhmFUMWYEDMMwqhgzAoZhGFWMGQHDMIwqpq7YAhiGMcHKlSu47757iMViALz97SezbNny
4gplVDRmBAyjBInHB4otguEjkXD/RyLFlSMfRBLJu8sxIlIDXA3sBwwBZ6rqOl/664HLgQiwAXif
qu5Kl19v79b8CGoYJcjFF18IwAUXXFRkSQyAX/3KtZdPPXWkyJJMn66ulilNVz7HBE4EGlT1MOBc
3AcfABGJAD8ATlfVZcDdwNI8ymIYhjEj4nG46KJGLrqokcHBYkuTe/JpBA4H7gRQ1YeAg3xp+wJ9
wGdEZAUQVVXNoyxVTSIx0Z01DGN6VKILyE8+xwRaAb/dHBWRGlUdA+YDhwEfA9YBt4nIX1X13nSZ
tbc3UVdXm0dxK5frr3cV+f3vL7YkRrbU17u63tXVUmRJjK4u+OY33Tu0zz6V9zzyaQQGAb/GkgYA
XC9gbbL1LyJ34noKaY3AwMD2fMlZVPI94BSPw+c+Nw+AI454idbW/JRj5Jbh4VEAenu3FlmScKpt
FtOxx7r/e3uLK8dMyNSQyKc7aBVwLICIHAqs9qU9AzSLyD7e72XAP/MoS8lyww113HBD/mxxpXdl
jeISjw9UxUymSKRy36V89gRuBo4RkVXe7zNE5DSgWVWvFZEPAv/tDRKvUtU78ihLSZIccAI49tiR
vLTSW1vhwguHxv82jFywbNlyli1bPj6LqZJ7AZVO3oyAqiaAswOHn/Kl3wsckq/yy4FCtSxOOaX8
prUZhlEYbLFYESlUK71Su7GGYcweMwJFxlrphmEUk6o1AqWyDLzY5eeKUtGnYRjTo2qjiOZ7Vk61
Yfo0jPKkKt/aQszKqSZMn4ZRvlRlT8BcFrnF9GkY5UtV9gQqZe58qazarCR93nrrTQBEo1GOOupN
Nv/dKAuC34Lp1N+qNAJQOrNycjGgWgorNktFn7MlqctoNFpkSabGBuKNMGZSf6vWCJTKy5McTJ1J
nPJSWrVZCH3m+8O3bNly7rvvHqD04/jPpt4YlUfwWzCd+lu1RqAUsAHV6WEfPsds602puBGN0sCM
QBEpld5IOWAGc4Jc1ZtScCMaxceMQBGplAHVQmAGc4LZ1ptSciMaxceMQJGplAHVfGMGczLVUG8y
ua1mMyMm2zKqATMCRcZauNlTDR++bKmmepPJbZWLGV3V7BozI2CUDdX04TMyu61mMyMm2zKqATMC
Rt6xRViGUbqYEShRcuHvLCXKZRGWYVQbZgRKnNl8PEvFkJTTIizDqDbMCJQoufB3JrFWuGEY6TAj
UMHk0pAY5YONwRSeco7lVJWhpLMlkZh4uIZRTsTjA1U97bHQlPOmSuUpdYGwWDVGOWJjMIUlU0iT
UhmbS4cZgTRYrBqjWin1j1apka0LqFTH5vJmBESkBrga2A8YAs5U1XW+9E8DHwR6vUMfVtWn8iXP
dClH3165Ykv3S5NS/WiVGplCmpT62Fw+ewInAg2qepiIHAJc7h1LcgDw76r6aB5lmDEWq6bwmA+7
NCj1j1Yp8q53la/LOJ9G4HDgTgBVfUhEDgqkHwicLyILgdtV9bI8yjIjLFZNYbCl+0a58+tfl+/4
YT6NQCsw6Ps9KiI1qjrm/f4l8F/AVuBmETlOVW/PozzTJp1LyHymE1STLnLhtqqW6ZvVVC8KMX6Y
T5dpPo3AINDi++03AABXquoggIjcDrwOSGsE2tubqKurzYug06WlZQ719bUMDroH0tXVSUvLHLq6
WjJcOX3q62u9MtLnnemcbPKYKdnqIhf3UQimkiF4rzN55i0tc7KqN7PVRaHqTbpzcvmOFKJ+zyaP
hgao8Sbbz5/fQltb7suYqu5973vfY906N9za07MegK9//asA7LPPPpx99tlT5p1PI7AKOAG4UUQO
BVYnE0SkDVgtIq8EtgNvAn44VWYDA9vzKOr02H//Q9l//0PH3Rdf+MKXAejt3ZrzsoaHRzPmnemc
bPKYKdnqIhf3UQimkiF4r/vvf+i0Zd1//0NZtOj3wNT1Zra6KFS9SXdOLt+RQtTv2eZxwQXuU7pr
1wi9veHnzKaMqerek08+Rffap1nUNp/WSL2T44Ut9MS3jJc5Ffk0AjcDx4jIKu/3GSJyGtCsqteK
yLnAvbiZQ39S1TvzKIthGEbeKPb44aK2+Zx35EmTjl16/81ZXZs3I6CqCSDYD3nKl/5L3LiAYRhG
WVPOU8ptsVieKJcBwExy2hx+w6hszAhMk5/97Ed0d68HoLv7WYBxP93ixUv493//wPi55bLYJhs5
y30OfzXNVskn/voPmd+BYlMujbFiYkZgmnR3r+fZp9ewZ1stzTVustOuzU+yIT55AKZc4rdkkrPS
5vAXyzBP1XgA2L79JZqa5o3/nsnHNVMZufhAd3ev56l1z9A0fy8AxhrcfMjn48Ns3/LcrPLOF+XS
GCsWZgRmwJ5ttXz0iKZJx65+oHRmLxmpFHsVbHf3ep5Y9zQ1HR0k6t0MDh3oA2Csv5+mujq2j4xQ
0zEfgER9g3fOAGP9W6ZRxlpqO3ZjrH4OAE8NuBkko/0v5uxemubvxave/vmU42tu/UbOysgV6Ro5
5dajySdmBIyKoJS6/eliy9d0dDDn2GNTzt/5+9/D4CA1HfOZe9zbU9J33H5r1mXXduxG8/HvTTm+
7bafZ3V9pt7Epk0bYe78rOUpVbq717P+6WfYs20RAM01rkczvHmEDfGeYopWcCrOCFSD79daMeGU
Sre/nEOQd3ev58l1z1DXuSdj9c0ArI25GFojfRuYWxehdm4xJcwde7Yt4pxl56Ucv3LlpUWQpniU
nRHIdrZKqXwQ8kF393rWrV1DR9Q1NetrXdNzYMvj9McqbxecbAx7qYzBzDSEwMjICGN9W0Jb/WN9
W4gVcA5iXeeeRE/4ZMrx2O++A/EXCiZHNVHMnmzZGYEk6WarFNv3Wyg6ohGOe2Pq47v93vJrfWZL
ORj2cp4vbhSXYtXvsjMClTZbJYxM01CrjXIy7DMNQV5XV8dIazTtmEApGz5j9hSzJ1t2RqAaSLp7
uqIRGj1Xz+CWx+mtQFdPKZDrqZXFDiGQjk2bNk66r2I3MEppML9UyWb8b7aYEcgxufqgdEUjnLy8
YdKxm1bsyp2gxjhuaqUS6WgjUe/CQT45sAmARH982vmVqktoaGgnT65bR23nQgDG6t0056djLzHa
t6koMpWDi6+YdHevp/vptSxq6wKgrcaNNyU2x+mJp4lUN03MCOSY7u71PLt2DQvbamiqcS33Hb1P
ALApPhFJu9TDMRRiBlIpzXKKdLTRePyylONDt60sSPmForZzIa3Hn5lyfPC26wouS6kM5pc6i9q6
OG/ZqSnHL135q5zkb0YgDyxsq+GMI1Pn0f34/h0px0o1HEN393qeXruGlg7vgFdTNvWvYWt/7sp4
Yt0aIp0uznqi3hnJJ2NPkujLHALXMIzZY0agwAT9sknuu+8e7rvvnpIa+G3pgIPfklpFHr4rdz7v
SGct9W9P3WRj+Nbi7SkQJBtfejWuyzAqAzMCBWZoaCfPrF3Dgjbne57juYy29T7BZp+7yCgdhoZ2
8sS6p6jpcH7rhLdDlA5sZqw/VkzRSpLpBFks5TKqBTMCRWBBWw2nLW9MOf7LFUNFkMbIhpqOKI3H
vzHl+NBt9xZBmtKmu3s9a9c9Q9v8RdR4AeZ64yPEt+QuHEN393qeWfssCzsWMbfO7ee4vX+UTf25
DflQDREIysYI5HIQ0aamGeVOuvhEpULb/EUceeLkkAz335LbcAwLOxbxvreeP+nYT++8JKdlJKnk
WUxlYwS6u9fTvfYpFrW5kcq2Gid6oncLPfHpj1RW8kM1ikMhW43lHJ+onCinhYozpWyMAMCitg7O
X/62lOOXrLhjWvnY1DQjn+S7gTHT+ESlQiH2PTCyp6yMgGEEycVmLbliqlZjLBZjrK/PhY0OMNbX
x8g0/Dql6gLKlu7u9axb9yyd8xdR3+D8+TFvU6a+HI4blAPZhO7eraYp7NKcYUagwIyMjLA5NhY6
CLw5NsZIfawgLqqs4sY3hF1ZWri1Bk8S6WwmUe8c5U/Gngcg0beNprpGto/sItLppqEm3H4uPBl7
gURf6UxDnQ4zjU9USnTOX8Txb78g5fhtt15ccuEtZkOmWUxuX4O1LGpbSGuNW1s0tnkbAD3xTUQa
amGuGQEjDyQXg7W1Q42b8cjmvjUAxAegob6JxjIwAgCRzmYaT9gv5fjQ71ZDfJhIZwuNxx+Smn7b
Q4UQD3CuoRcTo2k3lakbHGQ63v1SjU+UDbFYjL6+fm679eKUtL4t3cAoz6x7lq5Ot+FLY73rLWyN
jdLbV7ieQi6mobqP/DoWte1Oq9eiH9u8nZ74xvFzFrUt5Lwj3pdy7aUP/JTnduQmNMRUmBEoMHV1
dXQ2jaSdItpcwIHqtnZYdnRqFVj5pxF2bCuYGMYMmIlLaGRkhJG+jaEhIkb6NhJjfslMlOjqXMS7
jk/tKfz6tlTDEUamnm5393rGdo2FbiDzfLyH9oYOwO0+tqhlL1pxXa6xTcP0bJ3eXsqL2nbnvMPO
mnTs0gevnVYe+cSMgJE3snI5zSmGZJVJLBZjtG9L6FaSo30vwtgo1E79ysdiMUb6+twGMgFG+p4n
whi1WcgR6+tPmRIa29JDfaLDGZpIS1p3UDw2+9a+i+H1LLu3L6Kp1vUkdnqhSDYO9DAWGaEm453A
opa9+MLBk/dT/vrDpbeX8mzI2giISLuqZh3oRkRqgKuB/YAh4ExVXRdy3g+APlVN3eetSJR6cLds
KIU9Cbq716Pr1tDYEWHE89evH3gcgKH+BHPqmswIFJDa2loinbunDSAXjc4br/OVwO7ti/jwm1M/
K9fcfSkvbuthj7l7pd1esj6a+dOYfMdisdikGGBtbe1Eo9GyGbvIeKcisj/wK2CeiBwGrADepaqP
ZLj0RKBBVQ8TkUOAy71j/rw/DLzay7PkKNXgbtnQ3b2etWvX0B6FWq/B07dlDQMFfscbOyLsdXxq
NXvuthEYLKwslU40GmVzojbtRvN1g1vIFIw8Go2yhblpt5esy2J7yWg0ynCkOXSxWLQtN86HWCxG
f39/yuKwTf3ddNR0FMStlfT3tzW2ktg1EfIlMTjM+t6U9u6MGBkZoTu+OTRiaHd8M9GGxKzvNZsn
chVwMvALVX3O+3B/Dzg4w3WHA3cCqOpDInKQP9EzKAcD1wD/Ol3B80ml7F7WHoU3v2nyI777nvId
UDSMUmNR656ce+gnUo5f9uersro+FosRi2/h0gd+mpLWE9/EaGKU2khmt9VsyMYINKnq4yICgKr+
SUQuz+K6Via39UZFpEZVx0Rkd+BC4CTglOkKXUxisRgD8VGufmD7pOMb4qO0NxRmeqeRPSMjIyT6
doXOBEr0bSWGPbNyJBqN0jDWEho2oima349mIamtrWVxy4K0+wlEom2zLiMbI9DnuYQAEJH3ANnE
aRgE/DGCa1Q12Wd6JzAf+D2wEGgSkSdUNdUcemzdGqcv1h+6Org71s/8uQ10dU0UV+9FevQf85Mp
Pd05dXU1ac+vq6uhvr6W1F0DJohkmNaRLHOm6bnKIxs5M+k7UzmFKCMTyWc2FaWoi3TnzLaMTGSf
R3iPcyI9/X4R2ZcRnkcyfWcOyhhiOEN6NnmkT+/q6qR1V13aKaLP79ySlZzp3HzZPNNsjMBHgZ8A
rxSROPA08J4srlsFnADcKCKHAquTCap6Fc7NhIi8H/jXqQwAwOjo1PvrjoyM0ds7sfhneNhVAP8x
P5nS053T3NxKQ1stHz1i8gKOqx/YTkNz6/g16Ugkpr6PTNcPD4+6edaxBLffm/qi9cUSROr6pmzd
ZiojWzmvuOLKlMHnc875NOAGn3Ohi0zPNFMZdXV1DLc1pl0n0NzcSm9vH4m+eOguYom+OMOR9IY/
KUOhdZHunNmWkYnh4WFGtzzHmltTZ8hs3/IcvYmp/fG5qnuzSS9UGeUiZzZG4GhVPVxEmoFaVc12
09WbgWNEZJX3+wwROQ1oVtXgJNmMO6hHo1HahkfSxg6KZNGlt5gluaW7ez1PrVvDvI4IY97snw0D
j/NSf8bHmTNisRiJvm1uYViARN82RqgFUtdk5Bq3cvkpajraffsN9DLWX76TC4zqIBsj8Ang+6o6
reVDqpoAzg4cfirkvJ9MJ9/Z0N29nvVrlUVtzbR6jbux3g0A9MTLZ3VUNBolMfICx70x9fHdfu9I
Vj7uWCxGfMAtDAsSH4CayEhWn855HRFe/bbJcvzzjvIafI5Go2xK7Ey7x3Dd4I6sVvPWdLTTeNxb
Jl9/+13jf4/197Pz978nscM5DCNz544fp648luzU1dXRGH0Zr3r751PS1tz6DaJt9UWQypgN2dS8
50TkHuBhGHd3J1S1LMNvLmpr5tyjXpdy/LL7Hi2CNMZsiUajbGJb2rARdfHhNF7d7BkZGWGsLxa6
gcxYX4xYpCGj4fXPGe8edL3QxXu8zB1o72TTpo3snKWcuWKkbwOx332Hse1uXkdNU+v48fq6Mo9e
Nw1isRixrf0pi8N6tj5HdE5hpqEWgmyMwJ+9/5N9/OqpBXlic3wigNxLO51a582JsDk+RnNXYWSI
RqPsGt0wRdiIOtIPNxnTxe9mDIsyevHFFzKw7ml23H4rAIkdbvZZZG4TY/1boL29IHJOMlZe73hx
1KuU0b3ZtGnjtGIczYSRkRE293WHhojY3NfNKOXzAXZTQPtSwkT0xDcSbejMyX3EYjFisS1cev/N
k453x7YQrc/8uc5oBFT1KyKyADjEO/9BVX1xhvLmlVJYJZuJxsY5LFy8dPx3nyfnbl1Lae5ycj72
2N/piyW4acXkj3BvLMFYXXZTGmOxGAOx1HUBAzGozTKPfOOmb46Gbiqf6BslRmmsXq2rq2OkdV7a
7SWj0agXKnpgkvsHYKxvgFgks4skWD+7B929L95jT2hvH0/P98Y12Rir5+Oz7VuVBhviPeOxgwaH
3FBna2MbG+I9LFmwN9FolNad80LDRtREK8ftlc2K4X8DfgQ8hOsFXCMiH1TV3+VbuOkyvvtYtI22
Wuf0T2x5kZ5YtmPZ+Wfhwt1TXiqY/KI99ljqak2jsglOSAirFz/72Y947LG/E48PsHOncx7F4wPc
eutNrF//TOGEzTN1dXV0tKUPINeSg3UArjG2+/jvbd3O9dW5oJMlC/YeD/M8W6LRKK27GkIDyNVE
cxMi2k2aSXDekSdNLuP+m7OaMJONO+gS4AhVfRZARPbGzfwpOSMAsCjaxvnLl086dsmKFUWRZaZE
o1FqRl7g5OWTYznftGIXrVm24KPRKKMjG0JXDGfTCxgZGWFXPzx8V2rnf2s/zKmZfW/CTd8cpf7t
qfPfh2/dWhK9lWxxoaKHQweGc3Uf3d3r2di3hdqOLhL1L7n8585jY18v0Rx8sMqNTf09/PTOS9i2
wzXymue2sam/h707lma4MrvGmH/mYBixWIzYYF/o6uCewQ1EG3Pj7sk32RiBuqQBAFDVZ0TExgWM
glAOLr5o6NOLAAAgAElEQVRCEYvFxneYr5k7sVsaiQSxWGm4+AqF/9n3djsjsKCjg707luasFV8t
ZDs76FPAD3HuoA8C3XmVyig6dXV1NLbs4uC3pFaRh+/KrjeRC9z8+yeIdM4lUe96JU/G1pPom2pd
tlHpZDN2kW+i0SitQ3PSxg6qiZZHiNxsjMAHcat7vwjUAPcAH8qnUIbhJ9I5l4b/s8+kY7t+m5so
jeWEixIaoen4/zvp+PbbbiSagxgyRnWSzeygF0XkMlV9l4hEgQNVdWOm6yqZDV4Aua1DLhRSS2MN
G+KjLF1QZMGMojLW72YH+ReDjfUPQHuB5v0a48RiMQYG+rnm7tSdwzYOdNNe25GTcnoGN3DZn68i
PuRmuLU1towfX7LbPlNdWjJkMzvoMuBA4BhgLvAlETlSVb+cb+FyjZtPuzV0YVhPbCvR+sxTEv2+
yG2ej7pzwVKWLpiY3tkfG+PH96e6KzbGxujIooxyIRaL8VJfImWF8Et9CWIRd59DfQm3d0CAob4E
dZHyWVk81j+xWCyxw83Micydw1h/DNoXpFkM1gXtXSU1djHat2l8e8mx7W4dQE1TM6N9myCau49W
fEsP999yKTu3O3/9nKY24lt66GrbO2dlFBv/cx3sdu3i9t2cwV+y2z5lMzaRjTvoBNzuYKjqRhE5
Gvg7UHZGIBPxeCywD+nUm0vb9M7qoLFxDot9azsmPvILxg1ApnqRZOXKFZPqVS7n+GfC3cfEtMju
+GYAFkd3g+g+OTNWkwxizE297Nq9k6623E29zEQ0GmXOaEvancXm5GCaaTbPvBBjE7MlGyNQCzQB
yRU9jcBY+tNLl2g0SuvwS2nDRjy3fRfrn36Cvdrc1MzWGheBb3TzOp6LZ7d6NhqN0ji8kTOOnJuS
9uP7dzC3gmZwRKNRXkq8EBo7KDlwHEu8kHZnschgHcNThPstFbKZTjgd2toKs/o3SK7uY7sviuiw
F1qivqmV7Vueg7a9S2LQ1siebIzANcAjIvJb3OygtwHfzatURWSvtgY+e8SeKcf/84ENRZCmuGz1
rRMY8rxbjXPd8YW5calOWjGc2O7aFpGmGhJ9o1A59nKc5K515UrKymavpf+y3TvBa+mXChsHerjm
7kvZ6q0jaJnbNn58aWfmtQS5oie+kUsfvHbSuEFPfCNLFpTGmEE2A8Pf8sJBH4kLJvMeVS1KtLWe
+MSmMvGd7qvUNmcuPfF+FnfNL4ZIFUuKC8RzYSzsWMrCDnLSrU8pI+65WaJLIZqbMgpJMqRDsdw9
AKP9L7Lttp8ztsPz989tHj9O+9Sb0mRDNiubSwG/MXrRW0fQ1elaLks7lxbMWE0eN3DRdtoX7MaS
BaUzZpDNwHAn0Kaq/yki5wPni8iXVfXx/Is3QfChxb0XLdo1n8Vd80tGoZVCLlZUlkIZxSCf7p7R
/l6233YjYzvciuGaufMY7e+F9rbA4LTbkWrxHt4YQHtL1h++UjBmsyXbMZpiy1EK9Tsbd9Avgd+J
SAK3LeS3ge/jegYFI5sWSCko1ChPEv1uZ7HEDhfdNTK3cfw47QuzyiPfrp7JH3m3w+viPfYYNwC5
/vAVa+zCKCzZGIF2Vb1KRK4CfqKqPxURmwJjVAzh0zu9D3/7wpLxcxeqdVvu4xa5pGfrc3z94W8Q
H3JjH22NrfRsfY4lCytnqms2RiAiIgcCJwLLvU3ny2MbpBB64ts47w8PEd85sf1z25xG4kO7iNQ3
THFlbgl2uVeuXGEvXp5I9G1l6LaH3N/bvZZ+UyOJvq0QLR3XQTZUgqumXJjsz3dGoH1hJ0sWltYA
+GzJ5mP+BeCbwOWquk5EHgQ+k1+x8kPywcViMSJjE3u/RlraWbJXlE2bNgLbCyqTdbnzS/rB5z3G
B5/LEas3+aecGgezIZvZQXcDd/t+H5ZXifJIpk3kL774QkY3FyYmTSl0uZN7DPunfyaPL+gsnlzT
JbnRfGK7W8sRaWoYP75wn3/N6Rz/YlMK9caoLMrWrWPMjkl+cM+1sMCbO72gs3RayLFYjETfjpSA
cYm+HcSI8drX7j9+bKKV7+3dW8Yt/Wqnt69nfHvJl7zQE/Oa2ujt66ElWrg5/tWAGYEqpVK6upVy
H9VG35Yebrv1YrZ7H/imprbx4/PmTd71qz/uzlkY7aAlWrg5/oWiJ76JSx/4KfEht7ajrbF5/Hik
IbvwFj1xt8dwfKdzZ7fNaaInvoXFXZndhmYEjJImGo2yiVhoKOnp7GlgA6qFZSp9+z/icW/r1+ju
biFXtG1pXqa7liqTB597AWhf4GamLVnwcm+cMvs84t3e3tNde7K4qz0rg2lGwJgVL/W7KKK7drgd
rxrmRnipPwElOm5pA6qFJUzf1fKBz4ZsFpMlNk+9R/ps9ZnWCIjIn3CbyIRtJZlQ1TdNlbGI1ABX
4yKQDgFnquo6X/o7cDOPEsAvVPU7WUttlARh8+v33GMptJdeyAcbUC0spu/yYaqewNdxq4XPAgYC
aYks8j4RaFDVw0TkEOBy7xgiUgtcitun4CXgcRH5uar2T1N+o4iUw5J4w5gN2bgRM4UHn60rsife
y6UrfwVAfMiFC2lrnEdPvJfFC2a/o1xaI6CqfxSRS4FjVfWsGeR9OHCnl9dDInKQL+9REflXVR0T
kd1w4aqzi9VsANAfS3D7vS7C546dzibPnROhP5ag3YulNxCDu+8ZwdsDhblz3LFOi7VnlADF3Fth
umRyI2bjZpyJKzI1ZpprJ0cX7MHiBW05GSTPNCZwBfCKGebdCgz6fo+KSI2qjgF4BuBkXFjq2yj0
Kq0QYrEYsfhQaNjo5+JDRBtKY1ew4IMf9F6kPeYvpX1+SLjf5A5o85fSGZJuGMWi1MdosnFrZTpn
Nq6xQkRtnWpM4GWq+jww02ihg4A/du24AUiiqjeJyM3A9cD7vP9DaW9voq5uYrpUfb37u6urZdKx
dN2J+vraSeeGUVdXkzE9WF6YDKkbS05PjmS+6dI+85lzJh377Gc/C8B//ud/hl6TKT3sPqZ7Tjpd
TEVQF9PNI5vrp0sudJELZltGoe5jNnmcfPIJnHzyCbMuY7bp2Z6Tb/L1HmZiqp7A74DXAYjIf6jq
5Vnn6liF25ryRhE5FFidTBCRVi//Y1R1l4i8BFNvMTUwMLmjMDzsTu/t3ZpyLIzh4dFJ54bR3NzK
3LbGtJvK1Da30tu7NcXHd845nx7vyk4lQ7ZyTPc+wnSRy/SZ5jFdXcz2mWZzH1OxcuUK1q5dC0x+
pmHlzqacbJhtGbl4prkqZ7aUQv0uBPl6DzM2frOU7724gd3pcDNwjLchDcAZInIa0Kyq14rIz4H7
RWQYeAz4+TTzLzql3pWtFJIrhhPbhwGINNWT6NuRl53HyuWZJrypGZGwuXuGMQ3ytk5AVRPA2YHD
T/nSrwWuzVf5+aQQ0996YwluWrGL7d6gb9OcCL2xBK1VNqg7aRrqeFiIJXkJCVFO0xpvuMG9uqee
OlJkSYxyp6IWi8ViMWKxGJesWDHpeHcsRrSusThCzQD/x20gua3j/KW0Vuig7lRhtattYVE2Icbj
cbjoIlefjz12hNbWQktZGuRiFXiphHSf7jTTXMo5lRF4lYg86/29h+9vcIvFKmdXhRKj2j58ScrF
FVMIptKFuYAmk4t6Uwp1L1/TTDMxlRHYN+el5ZloNErbyBDnL18+6fglK1YQmUacGaOwlJMbJt9k
o4vWVrjwwqHxv6uVbHSVqYVdKnUvn9NMMzHVYrH1eSnRqCqG+hM8d9sII15sobq5kfHjpRpfqBw4
5RQbC8iWUmjllzIVNSZglBbhe/d6seDbK3N8o1CYSyg7SqWlX8qYEcgDm+Jj/Pj+HWzzZvY0z4mM
H1/aVUzJCku1jm0YRjlhRiDH+Fu3mz1fZFeXa/0u7bLWr1EZlMqsGmP2mBHIMdb6NaoJ87eXP2YE
DMOYNuZrrxzMCAR4Lr5rPIro4JCLw9HaWMtz8V0sWVBMyaaPbamYW8wFYlQiZgR8pAvR3L5gKUsW
lK8/37rsucX0aVQSZWcE8tkaK0Ts7kKSi8U0xgTmAjEqkbIzAklm2xqzKIwTWMvWMKqXsjMCuWqN
WRRGh7VuDaO6KTsjkAsKEYVxtm6WUhnULYXB0FLRRblQKS6+Uqh71UBVGoFCuYAqJbohlIYcpSBD
uVBJuqqkeylFqtIIFCIK42zdLKXipskkRyFa6aWii3KhUvRVKfdR6lSlEYCpozBaN3T6WGvNMMqT
qjUC2WAftsxYa236ZDMzLdM5NrvNyBUVZwR6YnEuWbGC+M6dALTNmUNPLM7i+btNOm+q2UH2YTPy
STYz0zKdY7PbjFxRUUbAv6I37rlyovN3Y/H83San2R6tFUe5zIjJpu5lOme29dfcnYafijIC2Ubw
tC50ZVIO7rts6l6mc3JVf8tBX0b+qSgjkC22R2thKUQrvVxceNnUvUznzLb+louujMJQlUYAbI/W
QmOtzgmyqXuZzrH6a+SKvBkBEakBrgb2A4aAM1V1nS/9NOAcYAT4B/BRVU3kS54g5hIqHNbynEwp
uYQMoyaPeZ8INKjqYcC5wOXJBBGZC3wNWK6qRwBtwPF5lMUwDMMIIZ9G4HDgTgBVfQg4yJe2E3iD
qu70ftcBO/Ioi2EYhhFCPo1AKzDo+z3quYhQ1YSq9gKIyCeAear6pzzKYhiGYYSQz4HhQaDF97tG
VceSPzyD8A3g5cA7MmXW3t5EXV1t1oXX17tzu7paMpxZ/lTTvRqGkZ6ZfAvyaQRWAScAN4rIocDq
QPo1OLfQSdkMCA8MbJ9W4cPDbn/g3t6t07quHKmmezWMfDDbMBzFDuMRXAB4zjmfHp+Knckg5NMI
3AwcIyKrvN9neDOCmoG/Ah8A7gfuERGAK1X1ljzKYxiGEcpsw3CUShiPmUzFzpsR8Fr3ZwcOP+X7
O3vfjmEYRp6YbRiOUghDM5tp2PkcGDYMwyh5ZuvCKfc1G1W7YtgwDANmH4aj3MPQmBEwDKPqmW0Y
jnIO42FGwDCMqqeaXUI2JmAYhlHFmBEwDMOoYswIGIZhVDFmBAzDMKoYMwKGYRhVjBkBwzCMKsaM
gGEYRhVjRsCoKhKJiYiPhmGYETCqjBtuqBuP+GgYhq0YNqqIUoj2aBilhvUEjKqhnJf2G0a+sJ6A
UTWUe7RHw8gHZgSMqqKcoz0aRj4wI2BUFeYSMozJ2JiAYRhGFWNGwDAMo4qpOHfQypUruO++e+ju
fhaAiy++kKOOetOMN2E2DMOoZCrOCCRpa2svtgiGYRglT8UZgWXLllur3zAMI0tsTMAwDKOKyXtP
QERqgKuB/YAh4ExVXRc4pwn4I/ABVdV8y2QYhmE4CtETOBFoUNXDgHOBy/2JInIQcD+wFLD4joZh
GAWkEEbgcOBOAFV9CDgokN6AMxTWAzAMwygwhTACrcCg7/eo5yICQFUfVNXnCyCHYRiGEaAQs4MG
gRbf7xpVHZtuJu3tTdTV1eZOqgqivt7ppaurJcOZhmEYkymEEVgFnADcKCKHAqtnksnAwPacClVJ
DA+PAtDbu7XIkhiGUWpkahwWwgjcDBwjIqu832eIyGlAs6peW4DyDcMwjDTk3QioagI4O3D4qZDz
3phvWQzDMIzJ2GIxwzCMKsaMgJEViYT7ZxhGZWFGwMiKG26o44YbihtqygyRYeSeigsgZ+SeeBwu
uqgRgGOPHSna/rxJI3TqqbZFZKWQNOqlvuNbucg5E8wIlDHBvRNWrlyRlwiqpVDxS8UQGbmlXAx7
ucg5E8wIVAD53juhtRUuvHBo/O9iUAqGyMgt5WLYy0XOmWJGoIwp5N4Jp5xS3BZQKRgiI7eUi2Ev
FzlnihkBIytK4UUotiEycku5GPZykXOmRBJlMt2it3dreQhqGEbWlMuAa7nIGUZXV8uUUltPwDCM
olEuH9VykXMm2DoBwzCMKsaMgGEYRhVjRsAwDKOKMSNgGIZRxZgRMAzDqGLMCBiGYVQxZgQMwzCq
GDMChmEYVYwZAcMwjCrGjIBhGEYVY0bAMAyjijEjYBiGUcWYETAMw6hizAgYhmFUMXkLJS0iNcDV
wH7AEHCmqq7zpZ8AfAkYAX6kqtflSxbDMAwjnHz2BE4EGlT1MOBc4PJkgojUA1cAxwBHAR8SkQV5
lMUwDMMIIZ9G4HDgTgBVfQg4yJf2CmCtqsZVdRh4ADgyj7IYhmEYIeTTCLQCg77fo56LKJkW96Vt
BdryKIthGIYRQj63lxwEWny/a1R1zPs7HkhrAQamyizTPpmGYRjG9MlnT2AVcCyAiBwKrPalPQn8
i4i0i0gDzhX0v3mUxTAMwwghkkgk8pKxiESYmB0EcAZwINCsqteKyPHAhThD9ENV/V5eBDEMwzDS
kjcjYBiGYZQ+tljMMAyjijEjYBiGUcWYETAMw6hi8jlFNK+IyCHAZar6xpC0euBHwGKgEbhYVX/n
S68FrgX2BRLAR1R1TUg+C4BHgDer6lMh6X9jYr3DM6r6wUD6ecAJQD3wXVX9iS/t/cDp3s+5wGuB
3VR10HdODXCdJ+cYcJaqqi+9wUt/OTAMfFJVHwvqR0ReDlzv5fFP4GOqmgjqUEROAt6pqu8JyWN/
4DvAKC4MyPuApb70VwI/8ER7GhcmZDTsOYnIu4GPq+phgTJeB/zOux7ge0C3L30B7rlFgQjwPlVd
H8jjV8Bu3vVLgQeBK33p/+rpLAE8BZwJHOxLfy3wfVw4k6eBjwPX4KtLwBMBfZ5DmvomIt/yyjks
kMdzPn3uwtWjhb70dQF9fsSTO6yMdwOfANYGyngeuM0rHy+/YwPnPOTTaQ3QC8z3pb/bkyupz4Qn
ezL96YA+PxLUBdDj0+la79m93LvmI7j65NfnJ0jzfnr6VO+Z7evLo57J9bMfWORLTwT0+SHccw0r
49245/5koIyGgD4T3rFkei+T6+fpwAWBPC4I6HMU2OhLH/XpM/ke+K+vY3L9/Iiq7vJ/qzw9+vX5
MVVNO/hblj0BEfk8TtmNaU55D9CrqkcCbwW+G0g/HhhT1SNwD+X/hZRRj6skL6WRYQ6Aqr7R+xc0
AMuBN3hhM5YDe/vTVfUnyWuBvwKf8BsAj7cA8zw5LwqR8yxgu1fGWbiXL0w/VwDne/qIAG8PniMi
VwKXeOlheXwb9+F+I3AT8JtA+v8DzvVkBTgh7Dl5H/oPpCnjQOAKn16WBNK/AfxMVY/CzSx7dTAP
VT3Vu/Yk3NqTtYE8voL7gC7zjv0wkH4d8GkvfYP321+X/gsXAsWvz8sD53xXROaLyB24RsDBIXl8
y6fPF4C9A+kXB/T5zWAZAX3ODynjAOBynz4bQ875uk+nq4CIvwxVPc2nzwjwh8D1Xw7o8xshZVzr
02kTIL5375IQfX6NwPsZ0OdrAumXMLl+rgNeE0gP1s+vBssI6LM9JH1cn155zwTK8OvyQtyMyEl5
BPQ5BvxvIA+/PvcG9gyk+3W5Afho4FsVIeR9ZwrK0gjgXuyT8T5YIdyIewjg7nHEn6iqtwIf9n4u
IXyh2jdxLdGNacp4LdAkIn8Qkbu91qiftwD/EJFbcK3b34ZlIiIHAa9KE0BvB9DmTbdtw7UY/byS
idAcTwF7ikgrqfo5QFXv9/6+Azg65JxVwNm+38H0U1U1udajHngxkP4OVX3A650sBGLBPESkE/cy
fco7FizjQOA4EblPRK7DtWT96YcBe4nIH3GG/p6QPJJchGsZ/j2QvgPo9HTagmvV+tNfpqp/9v5+
EGhmcl0aDtFnA6n1bR7uhf4Z8LeQPPz6XA3cHUgP6vP3wTxEpMOnz/6QMoL6TMkDF94lqdPdcC1k
/3349XkJ8NnA9UF93hNShl+n1wObvL+X4N69AwP6bCX1/Wz26XN1IL0fOMWnz8eZeN+S6ScH9HlX
sIxA/YwF0mN+feKM0WcCMvp1+R7g0pD7SHIRzti9P5Du12cc11jwp+8VqJ9HkfqtCnvf01KWRkBV
byLwYQ+kv6Sq20SkBWcQvhhyzqiIXI/7UPy3P01ETse1Zu7yDoUZm5eAb6rqv+G6ab/whcUA6MJV
mncm09OIez6udRrGKmAOrlt6DXBVIP3vuF5NckFeF67nENSPX/5tQFvwHFX9tT/jkPRNXjmHAR/z
7smfPiYii3Ddz05gtT8PTzc/xL0428LKwLkmPuu1pJ4BXhdIXwL0q+oxOBfDF8Lqgtc1fhNwfUj6
VTj30OPAAtyHzZ/+jIgk41idAMwJ1KULmPzebMPpfFJ9U9VuVX3YO2dXSPqLPn2eBXwjkJ4I6PPh
QB4X4np+SX2OhdT5hwP6/FzIvfh1+gzw8eB749PnD0LK+G5An3eFlBHU6Tzv3bsS916E1c9J76eq
rvfpM+X9DejzY8AVgfSgPlf78rgS+CWp9XM0IGdQn18KpPt1mayfKd+ZQP30p/8iRJ/3BsoI6vJf
SP1WpeiTKShLI5ANIrIXrlXyU1X9Vdg5qno6zt92rYjM9SWdARwjIvcC+wM/EZHdApc/hfdhV9Wn
gT5gd1/6FtwLMeK10neKyPyAjFFgX1W9L81tfB5Yparik6PBl/4jYFBEVuKitj6Fa/UEGfP93YJr
1UwbETkF1+I4VlX7gumq2qOq++IM1hWB5ANxfuDv4V64V4pI8JybVfVR7+9bcEbATx8TLbzfMTko
oZ93Ar/QcD/oz4FlqvoKXKvy8kD6GcB5IvInXG9nS6Au/ZIQfWaqb2Hpfn3i3CST0oP69OeB8wcH
9fmDQB4p+gy5l6BOjwi5j3F9htxHij5DyvhAUKfeuyc4d9ucoD69+z+d8PeTkPSmYP0MpofVT58c
t+LcTJPqpy/9Wtz7PEmfgfsYIKR+BuUgUD996dfh3KyT9BmQ4eyALrsIfKu8Yyn6TEdFGgHvg30X
8HlVvT4k/d/FDdqC636N4XuxVfUoVV3u+e7+jhuAfDGQzRl4HxAR2QPXhfW7jh7A+UST6fNwL5yf
I5lwA4Qxj4kgfAM4N0ytL/1g4B7PP/gbYKOqDoXk86iIHOX9/Tbg/pBzpkRE3otrYS1X1fUh6b8V
NwANrvUx6k9X1b+o6qs9nZ4KPK6qnwlkc6eIvN77+824sRI/DwDHeX8fhWvVhfFmXDc4jCZcwEJw
zysaSD8eeI+qHo1rMf4vqXUpqM/HQs7x0xJM9+sTVweD6UF91vvPCdHn08CygAxBfT4eIqdfp8fj
3JzB+3gzcEea9yqoz4Uh5/h1eph3L3j3PQr8NaBPpno/gUNC0t/h0+eykPRbAvpcEjhnI/BKnz43
4wZ6/Xnc5NPnuUxMrEnex/1Mrp+JQBmjXj5He/oMfodGcZNEkvrcF+di8ssQrJ+fD36rcM896/e9
bGcHeaQb8T4f1wW6UESS/sm3qepO7+/fANd7vr164Jw0H8+p+CHwYxFJKvgMnQiQh6reLiJHisjD
OGP70ZCW6b64Qax0fNMrY6Un53mqusOXrsANInI+sBPnVvCTLO8/cK2QBtyH4Dch5yT/DsqY8Fw5
V+Jm6twkIgD34fy7yfMvxel0F85VdmaaMsB1V4PlgnMx/ZeIDONeyg/hBjz993GdiJyNa928O00Z
guuuE5J+JvAbEdmJm0VyFu75JNOfAv4kIkO47v/LSa1L5wDf8enzNSHnvNVXp94WSK8FXg2sxw2y
vxxnjPzXf5HJ+twYUkayTkeAPbxj/vRPAd/y6TMWyCOBm8GS1OkeOB++P/1Ynz6/FiLDxwL63BBy
zuU+nT4CdPnfPZy7018/P83U7+cjwJG+9E8BP8arn7jn2Skib/WVsSWgz/fjXHBhZURwDbb9A3L2
MFE/NwN9gfTHmFw/P4CrJ+NyqupOEdnX06cG7xP3sU/qcxh4PpCeYHL9/CmTSTD1+56ChY0wDMOo
YirSHWQYhmFkhxkBwzCMKsaMgGEYRhVjRsAwDKOKMSNgGIZRxZgRMAzDqGLMCBhlgYgsEZExETk6
cHy9Fw5gtvmvFxeLJ2+IyCIReVJE/iIizb7jB4vIZfks2zDSYUbAKCeGcYtgmn3HcrXQJUH6gIS5
YjnwiKq+XlW3+Y6/konw14ZRUGyxmFEWiMgS4F5cSAJU9cPe8WdxS/T3Br6sE3sjXO+dvwIXF2Yd
bmXvX71jp+PCBZ+kqk96+dyNCxe8A7d3w+NeqITvA3vhlu2fp6p3i8hXgEO941ep6vd9su6Li13f
jlud+kmcAfstLhrmDar6Ue/cKC4q5jzcytoNnmyd3vlX4WLdvCxQfjMuTPOrcCuQv66qvxKR/bzz
63CryM9Q1bUzVLtRBVhPwCg3Pgv8W9AtFEIyBEYE9/G/CBf+4PXAYnV7MPySidDJAGtU9QBcOOHr
vWNXAj9S1YNwcdmv8fVEGlT1VX4D4PFz4Nuq+lpcCITf4DaiuRC4NWkAAFQ1BnzJO57cz2FPYH9V
vcAr/4ch5V8A/NU7fhTwRRFZiguhcLmqvh5nQA7NoCejyjEjYJQVqroVF+8n6Baaik2q+pgXu+l5
JoL29eBa60mu88r4PbCPuL0ZjgYuEpFHcfH464B9cAbmoWBBnkz7qOotXl4P4SK7CqlhfpMEj//N
F4cqXflHAx/xjt+HC+T2SuB23KY21+H2n5gUJt0wgpR7ADmjClHVP4rbuMMfijro06/3/R3cjCfd
XhSjgd/DuIbSG70WOyKyJy4Y24k4d0uQGlI/9BGcyyZb36s/SGC68mtw0ST/7h1fCPSp6rCI/C8u
2uSncAHg/L0dw5iE9QSMcuU/cLu3JaNnbgH2FpFGb5bPsmnmF8HtBpXca/kJL2LrPbhImYjIq3CR
IptIM4isbovQdV4eyc1+dsOFvU438DxM+gZZuvLvAZLjCrsDj+J2tfpv4GBV/QHO/XRAdrdvVCtm
BIxyYrwl7XML1Xm/1+BcIWuAXzMRQz0sPDYhaQncnsWP4kL2Jrf9+wRwqIg8hhtDeI83s2eqfN8L
fLF7k4YAAAB3SURBVFJEVuN2jDpZVUemuOZhr4xLQ85JV/5Xgbki8g+ce+vzqvoMcBlwvog8ggtF
/uk0MhoGYLODDMMwqhrrCRiGYVQxZgQMwzCqGDMChmEYVYwZAcMwjCrGjIBhGEYVY0bAMAyjijEj
YBiGUcWYETAMw6hi/j/yU3WLYxEyvwAAAABJRU5ErkJggg==
"
>
</div>

</div>

</div>
</div>

</div>
<div class="cell border-box-sizing text_cell rendered"><div class="prompt input_prompt">
</div>
<div class="inner_cell">
<div class="text_cell_render border-box-sizing rendered_html">
<p><strong>Your discussion here:</strong></p>
<p>Solution: We see that the scores are clustered around the 40% mark. There is only very little gain now by increasing the number of trees. The random forest seems to struggle to optimize the f1 score.</p>

</div>
</div>
</div>
<div class="cell border-box-sizing text_cell rendered"><div class="prompt input_prompt">
</div>
<div class="inner_cell">
<div class="text_cell_render border-box-sizing rendered_html">
<h3 id="Problem-3:-Classifier-Calibration">Problem 3: Classifier Calibration<a class="anchor-link" href="#Problem-3:-Classifier-Calibration">&#182;</a></h3><p>Many classifiers, including random forest classifiers, can return <strong>prediction probabilities</strong>, which can be interpreted as the probability that a given prediction point falls into a given class (i.e., given the data $X$ and a candidate class $c$, the prediction probability states $P(Y = c | X)$). However, when the classes in the training data are <strong>unbalanced</strong>, as in this wine example, these prediction probabilities calculated by a classifier can be inaccurate. This is because many classifiers, again including random forests, do not have a way to internally adjust for this imbalance.</p>
<p>Despite the inaccuracy caused by imbalance, the prediction probabilities returned by a classifier can still be used to construct good predictions if we can choose the right way to turn a prediction probability into a prediction about the class that the datapoint belongs to. We call this task <strong>calibration</strong>.</p>
<p>If a classifier's prediction probabilities are accurate, the appropriate way to convert its probabilities into predictions is to simply choose the class with probability &gt; 0.5. This is the default behavior of classifiers when we call their <code>predict</code> method. When the probabilities are inaccurate, this does not work well, but we can still get good predictions by choosing a more appropriate cutoff. In this question, we will choose a cutoff by cross validation.</p>

</div>
</div>
</div>
<div class="cell border-box-sizing text_cell rendered"><div class="prompt input_prompt">
</div>
<div class="inner_cell">
<div class="text_cell_render border-box-sizing rendered_html">
<p><strong>(a)</strong> Fit a random forest classifier to the wine data <strong>using 15 trees</strong>. Compute the <strong>predicted probabilities</strong> that the classifier assigned to each of the training examples (Hint: Use the <code>predict_proba</code> method of the classifier after fitting.). As a <strong>sanity test</strong>, construct a prediction based on these predicted probabilities that labels all wines with a predicted probability of being in class 1 &gt; 0.5 with a 1 and 0 otherwise. For example, if originally probabilities $= [0.1,0.4,0.5,0.6,0.7]$, the predictions should be $[0,0,0,1,1]$. <strong>Compare</strong> this to the output of the classifier's <code>predict</code> method, and <strong>show that they are the same</strong>.</p>

</div>
</div>
</div>
<div class="cell border-box-sizing code_cell rendered">
<div class="input">
<div class="prompt input_prompt">In&nbsp;[8]:</div>
<div class="inner_cell">
    <div class="input_area">
<div class=" highlight hl-ipython3"><pre><span></span><span class="c1"># your code here</span>

<span class="n">clf</span> <span class="o">=</span> <span class="n">RandomForestClassifier</span><span class="p">(</span><span class="n">n_estimators</span> <span class="o">=</span> <span class="mi">15</span><span class="p">)</span>
<span class="n">clf</span><span class="o">.</span><span class="n">fit</span><span class="p">(</span><span class="n">X</span><span class="p">,</span><span class="n">Y</span><span class="p">)</span>
<span class="n">my_prediction</span> <span class="o">=</span> <span class="p">(</span><span class="n">clf</span><span class="o">.</span><span class="n">predict_proba</span><span class="p">(</span><span class="n">X</span><span class="p">)[:,</span><span class="mi">1</span><span class="p">]</span><span class="o">&gt;</span><span class="mf">0.5</span><span class="p">)</span><span class="o">.</span><span class="n">astype</span><span class="p">(</span><span class="nb">int</span><span class="p">)</span>
<span class="p">(</span><span class="n">my_prediction</span> <span class="o">==</span> <span class="n">clf</span><span class="o">.</span><span class="n">predict</span><span class="p">(</span><span class="n">X</span><span class="p">))</span><span class="o">.</span><span class="n">all</span><span class="p">()</span>
</pre></div>

</div>
</div>
</div>

<div class="output_wrapper">
<div class="output">


<div class="output_area">

<div class="prompt output_prompt">Out[8]:</div>




<div class="output_text output_subarea output_execute_result">
<pre>True</pre>
</div>

</div>

</div>
</div>

</div>
<div class="cell border-box-sizing text_cell rendered"><div class="prompt input_prompt">
</div>
<div class="inner_cell">
<div class="text_cell_render border-box-sizing rendered_html">
<p><strong>(b)</strong> <strong>Write a function</strong> <code>cutoff_predict</code> that takes a <strong>trained</strong> classifier, a data matrix X, and a cutoff, and generates predictions based on the classifier's predicted <strong>probability and the cutoff value</strong>, as you did in the previous question.</p>

</div>
</div>
</div>
<div class="cell border-box-sizing code_cell rendered">
<div class="input">
<div class="prompt input_prompt">In&nbsp;[9]:</div>
<div class="inner_cell">
    <div class="input_area">
<div class=" highlight hl-ipython3"><pre><span></span><span class="sd">&quot;&quot;&quot;</span>
<span class="sd">cutoff_predict(clf, X, cutoff)</span>

<span class="sd">Inputs:</span>
<span class="sd">clf: a **trained** classifier object</span>
<span class="sd">X: a 2D numpy array of features</span>
<span class="sd">cutoff: a float giving the cutoff value used to convert</span>
<span class="sd">        predicted probabilities into a 0/1 prediction.</span>

<span class="sd">Output:</span>
<span class="sd">a numpy array of 0/1 predictions.</span>
<span class="sd">&quot;&quot;&quot;</span>
<span class="c1"># your code here</span>

<span class="k">def</span> <span class="nf">cutoff_predict</span><span class="p">(</span><span class="n">clf</span><span class="p">,</span> <span class="n">X</span><span class="p">,</span> <span class="n">cutoff</span><span class="p">):</span>
    <span class="k">return</span> <span class="p">(</span><span class="n">clf</span><span class="o">.</span><span class="n">predict_proba</span><span class="p">(</span><span class="n">X</span><span class="p">)[:,</span><span class="mi">1</span><span class="p">]</span> <span class="o">&gt;</span> <span class="n">cutoff</span><span class="p">)</span><span class="o">.</span><span class="n">astype</span><span class="p">(</span><span class="nb">int</span><span class="p">)</span>
</pre></div>

</div>
</div>
</div>

</div>
<div class="cell border-box-sizing text_cell rendered"><div class="prompt input_prompt">
</div>
<div class="inner_cell">
<div class="text_cell_render border-box-sizing rendered_html">
<p><strong>(c)</strong> Using <strong>10-fold cross validation</strong> find a cutoff in <code>np.arange(0.1,0.9,0.1)</code> that gives the best average <strong>F1 score</strong> when converting prediction probabilities from a <strong>15-tree</strong> random forest classifier into predictions.</p>
<p>To help you with this task, we have provided you a function <code>custom_f1</code> that takes a cutoff value and returns a function suitable for using as the <code>scoring</code> argument to <code>cross_val_score</code>. This function uses the <code>cutoff_predict</code> function that you defined in the previous question.</p>
<p>Using a <strong>boxplot</strong>, compare the <strong>F1 scores</strong> that correspond to each candidate <strong>cutoff</strong> value.</p>

</div>
</div>
</div>
<div class="cell border-box-sizing code_cell rendered">
<div class="input">
<div class="prompt input_prompt">In&nbsp;[10]:</div>
<div class="inner_cell">
    <div class="input_area">
<div class=" highlight hl-ipython3"><pre><span></span><span class="n">scores</span> <span class="o">=</span> <span class="p">[]</span>

<span class="k">def</span> <span class="nf">custom_f1</span><span class="p">(</span><span class="n">cutoff</span><span class="p">):</span>
    <span class="k">def</span> <span class="nf">f1_cutoff</span><span class="p">(</span><span class="n">clf</span><span class="p">,</span> <span class="n">X</span><span class="p">,</span> <span class="n">y</span><span class="p">):</span>
        <span class="n">ypred</span> <span class="o">=</span> <span class="n">cutoff_predict</span><span class="p">(</span><span class="n">clf</span><span class="p">,</span> <span class="n">X</span><span class="p">,</span> <span class="n">cutoff</span><span class="p">)</span>
        <span class="k">return</span> <span class="n">sklearn</span><span class="o">.</span><span class="n">metrics</span><span class="o">.</span><span class="n">f1_score</span><span class="p">(</span><span class="n">y</span><span class="p">,</span> <span class="n">ypred</span><span class="p">)</span>
        
    <span class="k">return</span> <span class="n">f1_cutoff</span>

<span class="c1">## Your code here</span>
<span class="k">for</span> <span class="n">cutoff</span> <span class="ow">in</span> <span class="n">np</span><span class="o">.</span><span class="n">arange</span><span class="p">(</span><span class="mf">0.1</span><span class="p">,</span><span class="mf">0.9</span><span class="p">,</span><span class="mf">0.1</span><span class="p">):</span>
    <span class="n">clf</span> <span class="o">=</span> <span class="n">RandomForestClassifier</span><span class="p">(</span><span class="n">n_estimators</span> <span class="o">=</span> <span class="mi">15</span><span class="p">)</span>
    <span class="n">score_list</span> <span class="o">=</span> <span class="n">cross_val_score</span><span class="p">(</span><span class="n">clf</span><span class="p">,</span> <span class="n">X</span><span class="p">,</span> <span class="n">Y</span><span class="p">,</span> <span class="n">cv</span><span class="o">=</span><span class="mi">10</span><span class="p">,</span> <span class="n">scoring</span><span class="o">=</span><span class="n">custom_f1</span><span class="p">(</span><span class="n">cutoff</span><span class="p">))</span>   
    <span class="n">scores</span><span class="o">.</span><span class="n">append</span><span class="p">(</span><span class="n">score_list</span><span class="p">)</span>
   
<span class="n">sns</span><span class="o">.</span><span class="n">boxplot</span><span class="p">(</span><span class="n">scores</span><span class="p">,</span> <span class="n">names</span><span class="o">=</span><span class="n">np</span><span class="o">.</span><span class="n">arange</span><span class="p">(</span><span class="mf">0.1</span><span class="p">,</span><span class="mf">0.9</span><span class="p">,</span><span class="mf">0.1</span><span class="p">))</span>
<span class="n">plt</span><span class="o">.</span><span class="n">xlabel</span><span class="p">(</span><span class="s1">&#39;Cutoff values&#39;</span><span class="p">)</span>
<span class="n">plt</span><span class="o">.</span><span class="n">ylabel</span><span class="p">(</span><span class="s1">&#39;Custom F1 scores&#39;</span><span class="p">)</span>
<span class="n">plt</span><span class="o">.</span><span class="n">title</span><span class="p">(</span><span class="s1">&#39;Custom F1 scores as a function of the number of trees&#39;</span><span class="p">)</span>
<span class="n">plt</span><span class="o">.</span><span class="n">show</span><span class="p">()</span>
</pre></div>

</div>
</div>
</div>

<div class="output_wrapper">
<div class="output">


<div class="output_area">

<div class="prompt"></div>


<div class="output_subarea output_stream output_stderr output_text">
<pre>C:\Users\vkaynig\Anaconda\lib\site-packages\sklearn\metrics\metrics.py:1771: UndefinedMetricWarning: F-score is ill-defined and being set to 0.0 due to no predicted samples.
  &#39;precision&#39;, &#39;predicted&#39;, average, warn_for)
</pre>
</div>
</div>

<div class="output_area">

<div class="prompt"></div>




<div class="output_png output_subarea ">
<img src="data:image/png;base64,iVBORw0KGgoAAAANSUhEUgAAAYAAAAEZCAYAAACervI0AAAABHNCSVQICAgIfAhkiAAAAAlwSFlz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"
>
</div>

</div>

</div>
</div>

</div>
<div class="cell border-box-sizing text_cell rendered"><div class="prompt input_prompt">
</div>
<div class="inner_cell">
<div class="text_cell_render border-box-sizing rendered_html">
<p><strong>(d)</strong> According to this analysis, which cutoff value gives the <strong>best predictive results</strong>? <strong>Explain</strong> why this answer makes sense in light of the <strong>unbalanced</strong> classes in the training data.</p>

</div>
</div>
</div>
<div class="cell border-box-sizing text_cell rendered"><div class="prompt input_prompt">
</div>
<div class="inner_cell">
<div class="text_cell_render border-box-sizing rendered_html">
<p><strong>Your answer here</strong></p>
<p>Solution: A cutoff of about 0.2-0.3 appears to give the best predictive performance. It is intuitive that the cutoff is less than 0.5 because the training data contain many fewer examples of "good" wines, so we need to adjust the classifier's cutoff to reflect that fact that good wines are, in general, rarer. One could also describe this as incorporating prior information about how frequently each of the classes appears.</p>

</div>
</div>
</div>
<div class="cell border-box-sizing text_cell rendered"><div class="prompt input_prompt">
</div>
<div class="inner_cell">
<div class="text_cell_render border-box-sizing rendered_html">
<h3 id="Problem-4:-Visualizing-Classifiers-Using-Decision-Surfaces">Problem 4: Visualizing Classifiers Using Decision Surfaces<a class="anchor-link" href="#Problem-4:-Visualizing-Classifiers-Using-Decision-Surfaces">&#182;</a></h3><p>One common visual summary of a classifier is its decision surface. Recall that a trained classifier takes in features $X$ and tries to predict a target $Y$. We can visualize how the classifier translates different inputs $X$ into a guess for $Y$ by plotting the classifier's <strong>prediction probability</strong> (that is, for a given class $c$, the assigned probability that $Y = c$) as a function of the features $X$. Most classifiers in scikit-learn have a method called <code>predict_proba</code> that computes this quantity for new examples after the classifier has been trained.</p>

</div>
</div>
</div>
<div class="cell border-box-sizing text_cell rendered"><div class="prompt input_prompt">
</div>
<div class="inner_cell">
<div class="text_cell_render border-box-sizing rendered_html">
<p><strong>(a)</strong> Decision surface visualizations are really only meaningful if they are plotted against inputs $X$ that are one- or two-dimensional. So before we plot these surfaces, we will first find <strong>two "important" dimensions</strong> of $X$ to focus on. Recall that in the last homework we used SVD to perform a similar task. Here, we will use a different dimension reduction method based on random forests.</p>
<p>Random forests allow us to compute a heuristic for determining how "important" a feature is in predicting a target. This heuristic measures the change in prediction accuracy if we take a given feature and permute (scramble) it across the datapoints in the training set. The  more the accuracy drops when the feature is permuted, the more "important" we can conclude the feature is. Importance can be a useful way to select a small number of features for visualization.</p>
<p>As you did in the last question, train a random forest classifier on the wine data using <strong>15 trees</strong>. Use the <code>feature_importances_</code> attribute of the classifier to obtain the relative importance of the features. These features are the columns of the dataframe. Show a simple <strong>bar plot</strong> showing the relative importance of the named features of the wines in the databes.</p>

</div>
</div>
</div>
<div class="cell border-box-sizing code_cell rendered">
<div class="input">
<div class="prompt input_prompt">In&nbsp;[11]:</div>
<div class="inner_cell">
    <div class="input_area">
<div class=" highlight hl-ipython3"><pre><span></span><span class="c1"># your code here</span>
<span class="n">clf</span> <span class="o">=</span> <span class="n">RandomForestClassifier</span><span class="p">(</span><span class="n">n_estimators</span><span class="o">=</span><span class="mi">15</span><span class="p">)</span>

<span class="n">clf</span><span class="o">.</span><span class="n">fit</span><span class="p">(</span><span class="n">X</span><span class="p">,</span><span class="n">Y</span><span class="p">)</span>
<span class="n">importance_list</span> <span class="o">=</span> <span class="n">clf</span><span class="o">.</span><span class="n">feature_importances_</span>
<span class="n">name_list</span> <span class="o">=</span> <span class="n">df</span><span class="o">.</span><span class="n">columns</span>
<span class="n">importance_list</span><span class="p">,</span> <span class="n">name_list</span> <span class="o">=</span> <span class="nb">zip</span><span class="p">(</span><span class="o">*</span><span class="nb">sorted</span><span class="p">(</span><span class="nb">zip</span><span class="p">(</span><span class="n">importance_list</span><span class="p">,</span> <span class="n">name_list</span><span class="p">)))</span>
<span class="n">plt</span><span class="o">.</span><span class="n">barh</span><span class="p">(</span><span class="nb">range</span><span class="p">(</span><span class="nb">len</span><span class="p">(</span><span class="n">name_list</span><span class="p">)),</span><span class="n">importance_list</span><span class="p">,</span><span class="n">align</span><span class="o">=</span><span class="s1">&#39;center&#39;</span><span class="p">)</span>
<span class="n">plt</span><span class="o">.</span><span class="n">yticks</span><span class="p">(</span><span class="nb">range</span><span class="p">(</span><span class="nb">len</span><span class="p">(</span><span class="n">name_list</span><span class="p">)),</span><span class="n">name_list</span><span class="p">)</span>
<span class="n">plt</span><span class="o">.</span><span class="n">xlabel</span><span class="p">(</span><span class="s1">&#39;Relative Importance in the Random Forest&#39;</span><span class="p">)</span>
<span class="n">plt</span><span class="o">.</span><span class="n">ylabel</span><span class="p">(</span><span class="s1">&#39;Features&#39;</span><span class="p">)</span>
<span class="n">plt</span><span class="o">.</span><span class="n">title</span><span class="p">(</span><span class="s1">&#39;Relative importance of Each Feature&#39;</span><span class="p">)</span>
<span class="n">plt</span><span class="o">.</span><span class="n">show</span><span class="p">()</span>
</pre></div>

</div>
</div>
</div>

<div class="output_wrapper">
<div class="output">


<div class="output_area">

<div class="prompt"></div>




<div class="output_png output_subarea ">
<img src="data:image/png;base64,iVBORw0KGgoAAAANSUhEUgAAAc0AAAEZCAYAAAD16n4kAAAABHNCSVQICAgIfAhkiAAAAAlwSFlz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"
>
</div>

</div>

</div>
</div>

</div>
<div class="cell border-box-sizing text_cell rendered"><div class="prompt input_prompt">
</div>
<div class="inner_cell">
<div class="text_cell_render border-box-sizing rendered_html">
<p><strong>(b)</strong> Below, we have provided you with a function <code>plot_decision_surface</code> that plots a classifier's decision surface, taking as arguments a classifier object, a two-column feature matrix, and a target vector.</p>
<p>Using this function and the results from the "importance" analysis above, <strong>subset</strong> the data matrix to include just the <strong>two features of highest importance</strong>. Then <strong>plot</strong> the decision surfaces of a <a href='http://scikit-learn.org/stable/modules/generated/sklearn.tree.DecisionTreeClassifier.html#sklearn.tree.DecisionTreeClassifier'>decision tree classifier</a>,  and a random forest classifier with <strong>number of trees set to 15</strong>, and a <a href='http://scikit-learn.org/stable/modules/generated/sklearn.svm.SVC.html#sklearn.svm.SVC'> support vector machine</a> <strong>with <code>C</code> set to 100, and <code>gamma</code> set to 1.0</strong>.</p>

</div>
</div>
</div>
<div class="cell border-box-sizing code_cell rendered">
<div class="input">
<div class="prompt input_prompt">In&nbsp;[12]:</div>
<div class="inner_cell">
    <div class="input_area">
<div class=" highlight hl-ipython3"><pre><span></span><span class="kn">from</span> <span class="nn">sklearn.tree</span> <span class="k">import</span> <span class="n">DecisionTreeClassifier</span>
<span class="kn">import</span> <span class="nn">sklearn.linear_model</span>
<span class="kn">import</span> <span class="nn">sklearn.svm</span>

<span class="k">def</span> <span class="nf">plot_decision_surface</span><span class="p">(</span><span class="n">clf</span><span class="p">,</span> <span class="n">X_train</span><span class="p">,</span> <span class="n">Y_train</span><span class="p">):</span>
    <span class="n">plot_step</span><span class="o">=</span><span class="mf">0.1</span>
    
    <span class="k">if</span> <span class="n">X_train</span><span class="o">.</span><span class="n">shape</span><span class="p">[</span><span class="mi">1</span><span class="p">]</span> <span class="o">!=</span> <span class="mi">2</span><span class="p">:</span>
        <span class="k">raise</span> <span class="ne">ValueError</span><span class="p">(</span><span class="s2">&quot;X_train should have exactly 2 columnns!&quot;</span><span class="p">)</span>
    
    <span class="n">x_min</span><span class="p">,</span> <span class="n">x_max</span> <span class="o">=</span> <span class="n">X_train</span><span class="p">[:,</span> <span class="mi">0</span><span class="p">]</span><span class="o">.</span><span class="n">min</span><span class="p">()</span> <span class="o">-</span> <span class="n">plot_step</span><span class="p">,</span> <span class="n">X_train</span><span class="p">[:,</span> <span class="mi">0</span><span class="p">]</span><span class="o">.</span><span class="n">max</span><span class="p">()</span> <span class="o">+</span> <span class="n">plot_step</span>
    <span class="n">y_min</span><span class="p">,</span> <span class="n">y_max</span> <span class="o">=</span> <span class="n">X_train</span><span class="p">[:,</span> <span class="mi">1</span><span class="p">]</span><span class="o">.</span><span class="n">min</span><span class="p">()</span> <span class="o">-</span> <span class="n">plot_step</span><span class="p">,</span> <span class="n">X_train</span><span class="p">[:,</span> <span class="mi">1</span><span class="p">]</span><span class="o">.</span><span class="n">max</span><span class="p">()</span> <span class="o">+</span> <span class="n">plot_step</span>
    <span class="n">xx</span><span class="p">,</span> <span class="n">yy</span> <span class="o">=</span> <span class="n">np</span><span class="o">.</span><span class="n">meshgrid</span><span class="p">(</span><span class="n">np</span><span class="o">.</span><span class="n">arange</span><span class="p">(</span><span class="n">x_min</span><span class="p">,</span> <span class="n">x_max</span><span class="p">,</span> <span class="n">plot_step</span><span class="p">),</span>
                         <span class="n">np</span><span class="o">.</span><span class="n">arange</span><span class="p">(</span><span class="n">y_min</span><span class="p">,</span> <span class="n">y_max</span><span class="p">,</span> <span class="n">plot_step</span><span class="p">))</span>

    <span class="n">clf</span><span class="o">.</span><span class="n">fit</span><span class="p">(</span><span class="n">X_train</span><span class="p">,</span><span class="n">Y_train</span><span class="p">)</span>
    <span class="k">if</span> <span class="nb">hasattr</span><span class="p">(</span><span class="n">clf</span><span class="p">,</span> <span class="s1">&#39;predict_proba&#39;</span><span class="p">):</span>
        <span class="n">Z</span> <span class="o">=</span> <span class="n">clf</span><span class="o">.</span><span class="n">predict_proba</span><span class="p">(</span><span class="n">np</span><span class="o">.</span><span class="n">c_</span><span class="p">[</span><span class="n">xx</span><span class="o">.</span><span class="n">ravel</span><span class="p">(),</span> <span class="n">yy</span><span class="o">.</span><span class="n">ravel</span><span class="p">()])[:,</span><span class="mi">1</span><span class="p">]</span>
    <span class="k">else</span><span class="p">:</span>
        <span class="n">Z</span> <span class="o">=</span> <span class="n">clf</span><span class="o">.</span><span class="n">predict</span><span class="p">(</span><span class="n">np</span><span class="o">.</span><span class="n">c_</span><span class="p">[</span><span class="n">xx</span><span class="o">.</span><span class="n">ravel</span><span class="p">(),</span> <span class="n">yy</span><span class="o">.</span><span class="n">ravel</span><span class="p">()])</span>    
    <span class="n">Z</span> <span class="o">=</span> <span class="n">Z</span><span class="o">.</span><span class="n">reshape</span><span class="p">(</span><span class="n">xx</span><span class="o">.</span><span class="n">shape</span><span class="p">)</span>
    <span class="n">cs</span> <span class="o">=</span> <span class="n">plt</span><span class="o">.</span><span class="n">contourf</span><span class="p">(</span><span class="n">xx</span><span class="p">,</span> <span class="n">yy</span><span class="p">,</span> <span class="n">Z</span><span class="p">,</span> <span class="n">cmap</span><span class="o">=</span><span class="n">plt</span><span class="o">.</span><span class="n">cm</span><span class="o">.</span><span class="n">Reds</span><span class="p">)</span>
    <span class="n">plt</span><span class="o">.</span><span class="n">scatter</span><span class="p">(</span><span class="n">X_train</span><span class="p">[:,</span><span class="mi">0</span><span class="p">],</span><span class="n">X_train</span><span class="p">[:,</span><span class="mi">1</span><span class="p">],</span><span class="n">c</span><span class="o">=</span><span class="n">Y</span><span class="p">,</span><span class="n">cmap</span><span class="o">=</span><span class="n">plt</span><span class="o">.</span><span class="n">cm</span><span class="o">.</span><span class="n">Paired</span><span class="p">)</span>
    <span class="n">plt</span><span class="o">.</span><span class="n">show</span><span class="p">()</span>
    
<span class="c1"># your code here</span>
<span class="n">imp_cols</span> <span class="o">=</span> <span class="n">clf</span><span class="o">.</span><span class="n">feature_importances_</span><span class="o">.</span><span class="n">argsort</span><span class="p">()[::</span><span class="o">-</span><span class="mi">1</span><span class="p">][</span><span class="mi">0</span><span class="p">:</span><span class="mi">2</span><span class="p">]</span>
<span class="n">X_imp</span> <span class="o">=</span> <span class="n">X</span><span class="p">[:,</span><span class="n">imp_cols</span><span class="p">]</span>

<span class="n">classifiers</span> <span class="o">=</span> <span class="p">[</span><span class="n">DecisionTreeClassifier</span><span class="p">(),</span>
               <span class="n">RandomForestClassifier</span><span class="p">(</span><span class="n">n_estimators</span><span class="o">=</span><span class="mi">15</span><span class="p">),</span>
               <span class="n">sklearn</span><span class="o">.</span><span class="n">svm</span><span class="o">.</span><span class="n">SVC</span><span class="p">(</span><span class="n">C</span><span class="o">=</span><span class="mf">100.0</span><span class="p">,</span> <span class="n">gamma</span><span class="o">=</span><span class="mf">1.0</span><span class="p">)]</span>

<span class="n">titleClassifer</span> <span class="o">=</span> <span class="p">[</span><span class="s1">&#39;Decision Tree Classifier&#39;</span><span class="p">,</span> <span class="s1">&#39;Random Forest Classifier&#39;</span><span class="p">,</span> 
                  <span class="s1">&#39;Support Vector Machine&#39;</span><span class="p">]</span>
<span class="k">for</span> <span class="n">c</span> <span class="ow">in</span> <span class="n">xrange</span><span class="p">(</span><span class="mi">3</span><span class="p">):</span>
    <span class="n">plt</span><span class="o">.</span><span class="n">title</span><span class="p">(</span><span class="n">titleClassifer</span><span class="p">[</span><span class="n">c</span><span class="p">])</span>
    <span class="n">plt</span><span class="o">.</span><span class="n">xlabel</span><span class="p">(</span><span class="s1">&#39;Feature 1&#39;</span><span class="p">)</span>
    <span class="n">plt</span><span class="o">.</span><span class="n">ylabel</span><span class="p">(</span><span class="s1">&#39;Feature 2&#39;</span><span class="p">)</span>
    <span class="n">plot_decision_surface</span><span class="p">(</span><span class="n">classifiers</span><span class="p">[</span><span class="n">c</span><span class="p">],</span> <span class="n">X_imp</span><span class="p">,</span> <span class="n">Y</span><span class="p">)</span>
</pre></div>

</div>
</div>
</div>

<div class="output_wrapper">
<div class="output">


<div class="output_area">

<div class="prompt"></div>




<div class="output_png output_subarea ">
<img src="data:image/png;base64,iVBORw0KGgoAAAANSUhEUgAAAYAAAAEZCAYAAACervI0AAAABHNCSVQICAgIfAhkiAAAAAlwSFlz
AAALEgAACxIB0t1+/AAAIABJREFUeJzs3Xd4FNe98PHvbFWXVg2BQAUkBhBIgBBgOsZgjDu4l9hO
sWMnjnMd59686ffeuCS5KY7jNDvu3QY3wFTTTQdL1AFVBJJQ16ps33n/mFVFSCskIUDn8zw8aKec
Obtand+cMudIqqoiCIIgDD66gc6AIAiCMDBEABAEQRikRAAQBEEYpEQAEARBGKREABAEQRikRAAQ
BEEYpAwDnQHhyiHLchKQB+T4NukAF/C8oihv9iLdVcCPFEU5fp79mcBPFEW5/UKv0Sat54E5vpdp
QD5gA1TgKkVRHL29RifXjAeeBiYDXsAOPKMoyme+/V4gWlGU6j685kvAu4qifCnL8s+Ah4GNgAd4
T1GUjX11LeHSJYnnAIS+4gsAhxRFCW2zLQGtYPkvRVFWDFTeLoQsywXAMkVRDvTjNWKAfcBPFUV5
27ctHVgP3KMoysb+CAAd8pAH3K8oylf9kb5w6RI1AKFfKYpySpblXwI/BlbIsmwCfot2l60HDgI/
UBSlXpbl0cA/gRi0O+HfKIrygSzLhcBS4ATwKpDi278feASYC7ygKMoEWZbDgReBDLS79i/QCleP
LMt24FlgITAMrWbyvL/vRZblXwNXAXFAtqIo3/DdPS9Fq+0UAo8pilLqy8fzwHjAiBYEf6woiqdD
so8BW5sLf99nliPL8jKgpsP1g4G/A6lAJFCPFiROyLK8FPiZ73Px+K61rYvtm4EXgNuB4cArvt/T
Y77PcrksyzOA54Bg3/m/VhRllSzLDwLfAoKAWkVRFvj7GQqXFtEHIFwMOcAE388/AVyKomQqijIR
KEUrZADeA95XFGU8sAR4WpblULSCHOBWIERRlElAlm/byA7X+gtQoSjKBGAKWiB4yrfP5Ns3C7gN
eM4XkHpiBDDJV/h/A62An+rL0xfAy77j/gTsUxRlClrTTgzwZCfpZQI7Om5UFGW7oihHOmxeDFQr
inKVoigysBf4vm/f74BHFUXJAn6BFhS72q4CqqIodwElaIHkg+btsixb0ILtfYqiZAI3A3+XZXmE
7/xxwFxR+F/eRA1AuBhUoMn38w1AuCzLC32vTcBZX4GTjq8AVRTlNNqdLrIsN6ezDS0obEJrIvmz
oih5bQol0ArJGb40nLIs/wP4IVqtA+BT3/8HATPa3a2zB+9jl6Io3jbvJQvY58ujHghsu0+W5W/5
Xgeg3UV35PWd1y3fXXmBLMuPo9WC5gHNzTbvAZ/4+kvWA7/vZntXJFprOp+2+fy9aIFcBXIURWnw
J9/CpUvUAISLIYv2HcM/UBRlku+ueRpwB1rzBLTe7SPLcqosy80FKoqiFKIVfM8CYcAGX1NJWzq0
AqyZnvY3OjZfWs3XaXusPxo7XOu5Nu9lCq0dyDrgtjb7rgJ+0El6u4DpHTfKsvyILMv/0WHbo2gB
sgF4G3jXdx0URfk5MBOtP+FBYKcsy9L5tvvxPnXAseb8+97DTGAd2mcmCv8rgAgAQr/ytev/HPiD
b9Na4HFZlk2yLOuAfwBPK4piRWvTf9B33gi0u9sw33mSrwB8VVGUdYqi/MSXVhptgoZv2/d8aZjR
Rres76O307HgXAt8x9dMBfBr4PU2+56UZVnyNTN9jNa+3tE/gXmyLN/TXDD7RjX9N61Bs/nai4DX
FEV5Fa0/5CZAJ8uy3tdhHawoyj/R3v8YwOjrPzlneyfvpS0VLTClyrI8x5endOA4MLSL84TLjAgA
Ql8LlGX5oO/ffrR25J8oivKFb///onWWHgSOoH0Hf+Tbdw9whyzLXwOfAd9SFOWsb5+KVrjqZVk+
KsvyXiAUraNVojUI/ACIlWX5EFoBegxtiCW0DxSdve6O2uGcl4GVwC5Zlg+j9Tc80CYfwb485ACH
0drj21EUpQatKWcZcEiW5Rzgr8A32wzFbL7u/wGPyLK8D3gf+ARI8XUs/xB4x/eZf+A73wk8cZ7t
Xb53RVEqfXn6ne/38RbaSKHiTj4H4TIlhoEKgiAMUqIGIAiCMEiJACAIgjBIiQAgCIIwSIkAIAiC
MEhdNg+CVVTUqwAWSxA1NU3dHX7JEfm+eC7HPIPI98U2WPIdExN63iG/l10NwGDw66HJS47I98Vz
OeYZRL4vNpHvyzAACIIgCH1DBABBEIRBSgQAQRCEQUoEAEEQhEFKBABBEIRBSgQAQRCEQUoEAEEQ
hEGq3x4Ek2XZCLwCJKKtvPQbRVE+b7P/RrQl6tzAK4qivNxpQn0gWq3qr6T9ppZXET3QmbgAF5Jv
NS8bNWc3anY22z/KZm+9DYAH0+OwZCYhZWSgu/Xhvs9s8/Uvwc+6+TOpfuVTjhTUtXwm/SUrNJC0
5HAsmUno7n8YaVRGv13rUvy8/XG55LtSiuq3tPuzBnAv2vqrc9CW6ftr8w5fcPgj2uLcc4GHZVmO
7ce8XPa8Xi97vz7M3q8P4/V2trKgIAhCz/RnAPgQ+GWb67jb7BsL5CqKUqcoigvYTutSekIHHo+H
Z19fzi5XFLtcUTz3+nI8Hk/3JwqCIHSh35qAFEVpBPAtl/ch8LM2u8OAujav64Hw/srL5e6zTduJ
n3UTAUHBAISE38jnm7ZzyzVzLzhNVVWRpJ4uhysIwpWkXyeD863rugJ4UVGU99rsqkNbzq9ZKFDT
VVoWS1DLHBgxMaFdHXoOtXzg+wB6w+5wYQpoWRsdc2AQdqfrgtLaf0Rh5cFcVEMAJmc9TyxbRHBw
UF9lVRCEPtZZedfTMvB8+rMTeAiwDnhMUZRNHXYfR1tw2gI0ojX//L6r9Jpnv4uJCaWior5Hebkc
Onq6snjmVP706aeMXXALAMc3fsJ/3DKvx+moqsrnB3IZc/XNAHg9Hl5bvYrv3b6kL7MrCEIf6lje
9bQM7CpY9GcN4KdozTq/lGW5uS/gJSBYUZSXZFl+EliL1j/wb0VRSvsxL5c1S0QY379+Jit3aOuq
f/+GWVgiwnqcjsvlgsDWL4NOr8etN/dZPgVBuLz0Zx/AE8ATXexfCazsr+tfaWKjI/nmzYt6lYbJ
ZELXUNXS/t9orSHSBCvWbGLTsSK8bhcPXTuTKenj+ijXgiBcyi6bBWGEvvHojfN4e8NneA0BRBq9
RIcHs6XMxcw7vg3AyyveIjbKQkL80AHOqSAI/U08CTzIxERZ+OGd1/PksgU8eNNC1u09xMRZC1r2
T79uKa9/snoAcygIwsUiAsAgF6DXYW9qbHldVXqGkeLuXxAGBdEENMj99/ce4NtPv0jKtPk4bE3U
5Wbzo/96dKCzJQjCRSACwCBnMpl47VdPkHP0OKHBFkYtmzHQWRIE4SIRAUBAp9MxcbwY+SMIg43o
AxAEQRikRAAQBEEYpEQAEARBGKREABAEQRikRAAQBEEYpEQAEARBGKREABAEQRikRAAQBEEYpEQA
EARBGKREABAEQRikRAAQBEEYpEQAEARBGKREABAEQRikRAAQBEEYpEQAEARBGKREABAEQRikRAAQ
BEEYpEQAEARBGKREABAEQRikRAAQBEEYpEQAEARBGKREABAEQRikRAAYpNS87IHOgiAIA0wEgEFI
FP6CIAAYBjoDwsWn5uxu+VkalTGAOREEYSCJADDINN/9q9na/yIACMLgJZqABqHmwh9Ec5AgDGYi
AAwyzc0/NfsL2wUCQRAGHxEABpHmu/2a/YWt23J2i1qAIAxSog9gEFFzdqNmZ3OkoA6ANAqxAFL6
tIHNmCAIA0LUAC5jXx87wZufr2fLnoPdHtvx7n9vva0lELQdFSQIwuAhAsBlav3OfWw448I4+ToO
qTG8vXpTt+c0t/nvrbe1bGsOCKIZSBAGHxEALlPbjhczfKw2hDN6eBLZZxsGOEeCIFxuRAC4TFVa
m9q9bnS4BigngiBcrkQAuEzpPQ6O7d+F1+vl1Mlj2GoqBzpLgiBcZsQooMuVx4nL5eTgto0EBAeD
xz3QORIE4TIjagCXqcSRqYSGWwAVnSSRlCoPdJYEQbjMiBrARVZTa+XdDTvAYCIlNpxFM6ZcUDph
kgtjQjLJYyfgcbs5s+3TPs6pIAhXOhEALiKv18vzK9YzeuHt6HQ6jhWcQLdzP9dcldnjtL5180Le
WLmRMo8eo8fB95cu6occC4JwJRMB4CIqK68gcISMTqe1vA1JHs3JvWu45gLS0uv1PHSzKPQFQbhw
og/gIgoPDcVe2zpax+vxoPOKzltBEAaGqAFcRMHBQWTFBbJ721oCwiw4y/J56s4lA50tQRAGKREA
LrIls6exwOGgobGJSMskJEka6CwJgjBI9XsAkGV5GvCcoijzO2z/D+BbQIVv0yOKopzo7/xcCsxm
M2azeaCzIQjCINevAUCW5f8E7gM6m6hmMnC/oijdT2UpCIIg9Ln+7gTOBZYCnbVzZAI/lWV5myzL
P+nnfAiCIAgd9GsNQFGUFbIsJ51n97vAi0A98LEsy9crirLqfGlZLEEYDHoAYmJCe5QPtbyqR8cL
giBcKjor73paBp7PQHYCP68oihVAluVVwCTgvAGgpkab/TImJpSKivoeXSj6wvMoCIIwoDqWdz0t
A7sKFgMSAGRZDgdyZFkeBzQBVwP/Hoi8CIIgDFYXKwCoALIs3w2EKIrykq/dfxPgADYoirLmIuVF
EARB4CIEAEVRCoEZvp/fbbP9XbR+AEEQBGEAiKkgBEEQBikRAARBEAYpEQAEQRAGKREABEEQBikR
AARBEAYpEQAEQRAGKREABEEQBikRAARBEAYpEQAGIbeq0qB6UVW1V+moqkpFZRVOp7Nlm8PhoLLW
2uu0BUHof2JFsEFml62JyrEmoiNMrCyxE+dyEXkB6VRU1fDiZ5sxDUnCUVfJvFHR2BxOdp9pwBwS
jkux8UOXWO9YEC5lIgAMIqqqsj/AydwUi/Y6LojVRxoYfQFpvbtxJ/LC21qWtFy3bjmmoFDGzr4W
AG96Fu/85SnG9VXmBUHocyIAXALeXLmRUjvgcXF1WhJTxo/pl+u4vCoGU2urnyRJYLywtFSDud16
xm5VR7glpuW1Tq/HGxx2wXkVBKH/iQBwkZWcreDDLXvBYGZEmAmz0UhjfDoJsUMBWL1jHaMT4wkL
7ZsFH9oy6XV46jx4vCp6nUSF1UmM88K6gUaEmThbehrL0OF43G5CVTu2YgXv2Ax0Oh3luUcZXV/a
x+9AEIS+JALAReTxePjn6h2MWbgMSZIoLT1F0Y41TL5tVssxluSx5BYVM3l8/zSePBQQzm82lWEO
0pNg1/FgQkz3J3Vi6TWz+XTzV5zZewS918VTd9+A0+XinfWrUJsaGF2Tz8Iwie19nH9BEPqOCAAX
UVl5BcEjUluaTqKGJlBsNGOtriAsUiuIa4tOMnLhRL7YtouztQ2MHh7HjEnj+ywPgTodqVYdWFWy
Qk29SuvmeTPavQ4ikMduuw41Lxs1pwa15lSv0hcEoX91Wf+XZfkWWZYfl2V5VIftD/dvtq5MkRER
NFWWtbx2u5ykDI1Gl7uHgq/Wkb9tJVePsrB8006KQkcRMHkxexsCWL111wDmWhCEK9V5awCyLP8W
yASOA7+QZflHiqK86dv9KPCvi5C/K0pgYABzkiPZsulzJHMgZls1T955PWazud1xX54sJzVG6xMY
MnIMx3atZclAZFgQhCtaV01A1wMTFUVxy7L8PLBOlmWHoigfXKS8XZGunjaJ+VNVPB4PBkPnH7/q
6TB+3vfaZrMDWiARBEHoLb/6ABRFOSnL8g3ABlmWy/s5T1c8SZLOW/gDRKo2ju3bSXJaBod3bmbu
8GD+8dFqzkrasMohqpXv3ibqBIIg9E5XfQAfAptlWZ4KoCjKEeA23/aRFyFvg1aNaiJqaDy5OQdI
zchi/d5DkJKFPH0e8vR5kJLFxq/2DnQ2BUG4zJ33NlRRlP+WZXkH0NBm2w5ZlicDT12MzA1WqsFM
bHwCsfEJANjcUHa6mJOHswEIDbcQJtUOZBYFQbgCdNkEpCjKhk62FQNP9FuOBAJd9bicDowmM411
NUSZJQx6PVnzFwNwMmc/0f3woJggCIOLeA7gEvTEHUt4fdUGatETHaBnwuhR6NMzW/anpmdScfCL
AcyhIAhXAhEALkEmk4nv3Hpty+s9OUfZVXCC2GRt2raz+QozE+MHKnuCIFwh/AoAsizPAsYDrwFT
FUXZ2p+ZEtqbmj6O4g3bOL49D4CxUQFMmTCbwtMl7Dt8nDHJiYxv/6yeIAhCt7oNALIs/xC4BRgG
LAf+JcvyvxVF+X1/Z05oteya2e1e7zh4iG2nbSRkLGBd3jFyz+zglqtnDlDuBEG4HPkzFeSDwLVA
o6IoFcAU4Jv9mSmhe7tyS0maPAOdXs+w0eM5VN54wWmp2dl9li+v10uT3YGanU3N/kL21tv6LG1B
EPqWP01AHkVRHLIsN7+2A2Kpp4EmdYjdkr77UzIyYH8hWaGBAKQlh2PJTAJAzdnd6yyty8lle60B
U2AI2GOYmn+w12kKgtB//KkBbJFl+Q9AiCzLtwCfAV/2b7aE7qTFhVFy4jAA1aXFJAR1vQavNCoD
KX0alswk0pLDz9nf21qAzeHgq4ZA0hYtI3X2tYx89NdsS07pVZqCIPQvf2oATwEPA9nAN4DVwD/6
M1ODzftrNlPc6EF1OVmYkcLEsandnrN41lRiDh/n6MG1jI2xMP/Ga/y6VnMtoO3df7Oe1AI8Xi+v
5NZSFx6P1FDLfJOVwJTrWvbrDQaqwyKI6HBelcPFGyca8X60kUCPjYdvWXjOZHiCIFwc/gSANYqi
LEIU+j2mqiofrd9KWaMbvcfJN66bQ0hwcLtjvti2my8OFaE3GHDa7eSXnOV3I4YSGhLSbfqZ48eQ
2YPlI6VRGag5u7FkJlGzv7Cnb6ed109UsY04zHY9jTYDpQ1GQg7vRE3PQpIkyk8eR39COee8l3Qj
GHnvU0iShNvl5KVPv+D7d1zfq7wIgnBh/AkAgbIsJyiKIlb36KEP122lNm48MdFD8Ho8/PnDFfz8
wVvbHfPJ5p2MmbmYJFlb9GXt+6+xL+cw82dM75c8SenTULOzz7n7h541A62vCGPut28mMjYOr9fL
in/8gT9VHuSTv/4Eh0NP4Y69JFVUnnOeOz6lZUEcg9GETR9AcelZ1uzWrn3t1HQShsVd2JsTBKFH
/AkAMUChbxbQ5iEdqqIoYkK4bpQ2uhkSPQTQFkl3B0ficrkwGltXYrd7dS2FP8Dk2QvIz92BV9pP
SVUt45Lie3SX7w8pI+Ocwr6nNYKgrOuJjNUKap1OR9KYCbjeWcPdhlKOFNTBeUb/GCrPtPysqiru
hjr+/eUBxsy7EYBXNq/i0YVGhsRE9Sg/giD0nD8B4FpA6rCt6x5HAQDJbUdV1ZY7XtXReM400FGB
Rpx2G6YAbWRO2akCgmobsRuGETVpGpuUHCq27+Ga6ZPZuHMfOgnmT5/S5XTSXeZpVIaWl152+kpl
p9u9N2tFGSG67scU3NFwgvfffwF1+GiMjgZigw0ETb+hZb88Zwkbd6/hnhsW9ip/giB0z59SZB6d
F/hv9G1Wrjz3LZzFC598iC5yKC5rDdeOT2gpMJs984OHePi5Fxk6ZiJN1jqiPHXUmSMZNWwEAMPl
dLav/YDdShHxM7RO1mde/5ifPnDrBQcBOLcWcKSgrkfnL8zbzOfBz5AwZTrVZ4qJ/nw5xyrqAboc
+z8yyMhPk/Xobl0AwKpNOyirryU4zAKAraGO6KDBt+BNqddNg+olWTJg8COQCkJf8KcEmU9rADAC
s4GtiADQrUhLOL96aCmNjU0EBQW21gRUFafTidlsJiAggDd+/UOqa2oJCQ7CZDLxvX+saJdOaVUd
c5fe11JLSJp3C599uZ2li+ZdUL6aO4ObXUiH8DCdjke++JyaVR8Tjg7dBRZaS+bN4P/e/JjqEeOR
JAlPUQ4P3n9r9ydeQfZGepgghzEywMD2fCtygdev2pQg9Fa3AUBRlAfbvpZlORIQy0L2QHBwUMvP
G3YdYGteOfqAEAz1Z/nRXTcQEGAm0tI6YNJpraHw+GESUsdy/OAevPYmDEZTy36D0YTL4+lVnpo7
g0G7+x+oJ3YlSeKp+28lr/AUqqqSMnfpObWkK9lpr5uJYyIYP0T7jtw50czbDWVMqxrgjAmDwoXc
ZjQCSX2cj0HBZrOzvaiGcfNuQJ4+j8R5S3nri83nHDdDHoG9oZ7srzaj87q4cfoEjm1Ygdfrxev1
cmzDcpbM7v0oISkjo9dp9ETbZiY1r7X5SZIkUpITSR2Z1KvC/1heIc++s5rffLCRP7z9KXa7o1f5
vRiseLEEtj7FrddJmM3dP9UtCH3Bn8ngNrV5KaEtB7mq33J0BauurSUoqnWIo8FoxNXJFA4P3byI
dTv2UFrtYmxiDFPTx2Ha/BUbP3sLgAVpSYSGBJ9zXk+07QxOSw5nb05rDcCpqhRFQXCYgQarm6Qq
MPXRXXnN/kIs+GogeX03BxHAB18eR15yLwBul4tX3nqDR+dP7NNrQOtn1xdSMLCjwMpt6dHoJIlD
ZY0EVboRM7ULF4M/37Jf0zoKSAUqfesDCz0UFxtD4xc7UcekI0kSlWcKGRl17speDoeDovIa7OjJ
O3OW4AAzx50hTLvlGwAcP3KAkbkFjEtJ7nWeOs4PBLAm2MF106LQ6yQ8XpXdu6tY3Oj/07rna07a
W2+DApiVqT11LKVP63X+m7ncbtSQ1qGjBqMRp7n7h+kGmkmnIynXw9vWMgLMeswVbmSnKPyFi8Of
b9ptiqI83naDLMuvK4ryQD/l6Yql1+t57MY5vL/pczCYSbAEsGT+TD5et4XNh/PA7eBnD93O62u3
M3TWTYQaTTTW1fDSx28w/b7WVTiHp03m4MEveh0AmjuDq1OiOWKzUl7jINNmwBRuRK/TYr5eJ2EK
N2oNf32kZn8hkRkZfTIBXTMDoCv1trx22GyElJxEzemfxvS+rAWE63RMbXlmThT+wsVz3m+bLMsv
A6OAKbLc5kkl7ZyOU7wIfhoSE8UP7ljS8vrjdVvYW6fnqjsfxuvx8KO//5WU0TIFxw5jralkyPBE
dIEhVJzKIyZBW/SlvCiXqfFD/bpefvEZdnx9lPDgQG6cP/OcNvaiqARWlLxL2vgQhqvB7D1uxehp
f4xZlTqdQO68CrquBaQRjpqd3ed9EA9E2vjgvT/jDY4gpOYM30kVX1NB6EpXtxtPA4nAX2jfDOQG
jvZvtq5sH6xaR+6pM9x302I2Hcplxl2PANrTwpkLb2L3qo+46qY7SU2fTMGxQ3hcLqJr8/n6eA6q
qjJxaCjTZ8zv9jqHT+Tx6ZEyRk29jgprDX965zOevPfmdsdsP1lE2lBt3L0kSYxPCcVRY+bYmSa8
Og+SV8f9E8dgCfZ/bH4ahe36FDo6UlCnNQP14ToEAMOB6+vt5NshK1SP/rCx355Y7MsagCAMlPMG
AEVRCoACIN039DMYLQjogYmIKaEvyOO//TsJ0xcydMEcnl7+MdazZ/B6POj0WmdwfW01wxKTiI1P
ACB57ARcJSc5WVKJZaRW6JzMz8btdnf7INi2I/mMmqo9PBYcZuGsZTiVVdVER0W2HGMKCMTp8WLS
awPC6h1uxoRHcc+QEb16n1mhgV3XAi7g2YNql5sGr5fhJiO6TjqlPw+MpOL+HxI7Zjx/W/kBizZ8
gKzzdpJS70RmZKDmZYsgIFz2/BkF9CzwGGACKoF4tMJfBIAeKio+TUjyeEakaHP7zF92P5veeIE1
b7xI5sKbsVZXUXFoF9EJ7dv2T58qQh81nHinNqyx1Knn043bWHZt17UAVW1f+HndHvT69qOOlt5x
N7/bvZmY+iKcXiBwKNOvmd2r4ZgWgIKu7+6PFNS1a1byqtq9emcFO8CnTfVURkGQWU9lSQPfDogg
UKfDraro0UYn5E1fyPjJWsfy2DseYkf+UeTCnAt+H+fTXHMRAUC43PnT43Q3kAA8D/yv7+d7+jNT
V6qGxibMge2Hb5oDg/jTw7ez8sutZMZEM+s/H2H5hm0UnTxK3KgxFB/aQ2VZCYtveYAwi3bnHjss
gZVvv9BtAFiUmcbb29aQOmMhtRVlRDkrsURMbXeM0WjkJ396icN/e4YAo5HUIZHnSa1n0pLDu+wL
gNbnAjaNSMB2zRIkScK8fhVXF7efeLbc46E63cS4odrDUsMtZl7aVoHdJBE0xITT4WVoqQePvv1I
JatT1+MpLvyRRqGoBQhXBH8CQKmiKHWyLB8CJiqKslyW5af7O2NXorGjU8h/9y8kjUkjICiYnK82
M3N0PEFBQdxxw+KW47LGpbL9vVXkbN/AMEsIcTHRhEZYWvaHWiIJ82O9gJTE4TwaHMSWfRsZH2lh
zm1LOj1Or9eTvuSmXr+/trqrBeytt5EVGshhs5nonz1NdLK2CE7ltNkceuIhJrR5iKsBLxEhrTUX
g06iLEBl8ZRojHqtxrDPWIdr/Urq5y8iNCqGgq+2MCR7f5++p7a8X3/Na7UBVByoQvU4mZ06jNmZ
6f12PUHoD/4EgDpZlu8HDgCPy7JcAsT2b7auTDqdjpd/9hi/fPFVHF6JhVPSWDL33JW8Xln7FdPu
1DqGvV4vX3/0D75avZyZ198GwFerlvOdpZ0X5h3FRkdy++Kruz2ur+9kO3vArKO99TaUoFCSyos5
/fmLoKqETr2JQoMZe31ty3FuVeXQ4VpGxAdi0ElUWp3YHZ6Wwh8gPNyEe+shDj50Jx6LhbAzZzA2
2djbp+/KpwBqUsA78TqSY7XRWJt3b2Zccg1RkZZuThaES4c/AeBbwF2Korwpy/INaCuD/dzfC8iy
PA14TlGU+R223wj8Am1U0SuKorzsf7YvXyaTief+45Euj6n1tP5adDodLnM4yzJGsPy9fwKwbNZE
0seN7td89lbbB8y6agYyV5WjfvosM33l5qGVxzBVnm13jBcYEmZiZkIYAGdq7Ww7baeszklcuAlV
Vck91Ui1gCMfAAAgAElEQVSSpMNSWQWV/T+RTnGdRExs61DcqGSZ3KLTAxoAvKpKQYiKMUSPzeVg
jCpmbRe65s9kcGdkWf6nLMvpwI+BIEVRGvxJXJbl/wTuAxo6bDcCfwSmAE3ADlmWP1MUpbynb+BK
VFdd2TLXvtvlot5ay7xpmcybljnQWesRS2ZSt53BTr2HjDZl5oQIlUK9B1ytTT5Vkodxia19J/ER
AUSYjWR/Vc2RKAMOh5fYSi86qf9m0PSoKnkJI9CFhxNxtoRR4V4KzxQSGZ8EQGXeEeSFk7tNx5/P
5ELlhqvMnxVNiNmAzeXlrWN1/BDfU9eir0LohD+jgBYA//QdOxPIlmX5XkVR1vqRfi6wFHizw/ax
QK6iKHW+a2wH5gAf9SDvV6y48CB2rvsMc0AgDpuN0fF92+K24au9nK2uJStNZnRyQp+m3RNZoYGE
qi5KahwMs2gduKW1DiYZzIwLbV01rc7rIbvSwZAQbUbURoeb4V4dM4yBYPUddO6MGn1GVVU+TZ/I
rKefx2QOoOirLxmz6x3C3vs9RaOzwBzAtUPNhFcWoPqe6O1Y4Hace4mC1n1eVWWf5MShhzS3gchO
5ofyR32chxCz9icdaNShxgS0XFNN75+gcyFOV9aw5fgpwswGbpgyrl9mfxUBzz/+NAE9i7YGwGpf
bWAu8C7QbQBQFGWFLMtJnewKA9oOz6gHevCo6ZXtwUUz+GB7Nl69SqTJzbdv6L4N318vf7wWd9Jk
IiYN5eOvdzHP2sDkcansPHiIAJOJrIw0v/8ga2qt7D9yjIRhcYxOTuxRPprnHhojGfkqp4HiITYk
CQLLPMyUTO2ODdfpseQ72dVYi94o4S53sdBtOnedun5iVb1YbrkLk1krUBNnXE324S18VyqDsp1a
c5cN1JzSdud1Vgg1N401U1WV1cFOpkyJINCoZ49SR3qxmyFSz6eE8Dg6DPtVWz+gvpx2ozdOVNXz
oX4UqYu+SUVdDX98/0WeHNc3I886EkGge/58y3SKopTKsgyAoihHZFnubeNiHe3v2UKBmq5OsFiC
MBi0O6OYmJ7d7qnll9fk6nJyAr/ohztzj8dDsdPIWF/bdeLE6ezYsZLVe48wbNpCXPYmtrz1CU/d
d0unQWD95q1U1Vq57YbF5J46w/t7TjJ84lUcyCsg6eQW7lg0t0f5aX4OIA040WTHC4wZ3vkTx2lt
X/g3C0afafR42W+tbnmtqio4bNDDhcua516yZCaRRiEA+XYHScPMBJm0P8VpYyIocjdwdWBYj/Np
cjhYd8JKaLiRJpfEDUPje5xGf9tUpyf1Lm0wQ3C4hYqJCymt2MLQ8L6duO9KavbqrLzraRl4Pv4E
gGJfhy2yLEcA3wNOdX1Kt44DqbIsW9CmGZsD/L6rE2pqmgDtjVf4lh70V/SF5fHK1KFjsLisnMyb
7sfgW6i+Wm9gx/6vmTVlUrvjrn/i12TMXoQ5KJ6bn3qWq6dNQp5zCwDBYydyeOsX3Ob1+rUyWFZo
IGnJ4Vgyk/B6vXy3JoLhC5cC8O/1K/iXpfaCVxjrDxZg9LEvKYwdQljCKMrWvM/DaiXaAnnnn9Ki
0xqAbyEeS2YSABF1jajV7f+czLFhWEYntVtz2R9TgSmqSpXdSaTZ1DKhX1d5vOgc7edn8rpdcPQo
apD/s836Q7qCntPoWN71tAzsKlj4EwC+i/YQ2AggH+0J4If9vrpGBZBl+W4gRFGUl2RZfhKtGUkH
/FtRlNKuEhB6T6/XMzJYpaqkiMihCRTu3060WddS+AMEBIfScNbe7rwnf/N/zL/tGwwfqY08Skwd
x8rX/sptc9qkbTDh8Xj8LribC8A/nGoi68lniIiKASA+eTS/+8MT/CSpd+sd9LW7wtwUbX2Jsy4v
E8LMBAYauz2nswJIGpXRbj3mkWFBuE4bsQZ5CDHpOFTi4J4RSfy+MRxb6mSor2VOyQHmhfoXCHSS
RExg3xamfWmhp4K3V7xK6i0PUF9VTtDW5cSF9n1+1ezsPp1u/ErV1Wyg8YqinFEU5Sxw14VeQFGU
QmCG7+d322xfCay80HSvFKqq8upn6znr1IPHxbwxI7hqYlr3J16gB268hu37vuZ0zjHumZLG3949
yM61n3HVtTfh9XjY+vmH3DR+WLtz8s+UkR7X2pwQEBRMXUU5Z45nEz8mg0ZrDWHOWozG7gtFq17H
1qvnsd0yCpOtmtKwEhIjW+tooZZIFEsMUkZqX73lPpMEJHa4kz7fesrNA5vOVwto+Rn4QUYG646c
xGqz88hNKXxeYmPY7T9u6XPYtvYjpgWfIcjU/ecL597tX8iaz/0lArj98DvsXP8J0W4Xc3Ruavqh
E9iSmdTS73El1AL6S1c1gJXAJABZln+kKMofLk6WBpfPNn+FO3kKyVHaSJ8NOzcyNtlKRHjP24D9
NWtK6ypZTsnImMnT2LdZ69Ofce1NHFj/DmX1Tuw6M2aPnR8+cCdvfP4hi+58EICD2zeyYPI45g7R
c/jAWiICDHzzHv+eJG5cuIis/3oOAK/HQ+Vff86uL1Zw1ZJlAOxe+wn3jPJvLP3/211MY+woXPW1
3B/RyIyEGH8/gj5zvqkmejJdhCRJXDu+9bkOu9lApLm1gyE4YTQVhSdJjPJvnETbGkZ3+fSXTfWy
LciNMViHt97DXLsJQy8K7hS0Joz+mlY4jdaV54Tz83eowX2ACAD9oNxqI2x06zDPiESZ/OLTTA4f
1+V5Xq+XX774OnVePXqnjecef4CAgO57Je12B29+sRkXehIjQ5g2JoncsjNMmXctAHs2riI0MJyw
rOuINBpxu1wc/Opzrk6y8N7zv8FoDiA13MxPnnoUgCnjx/To/RqTU1p+1un1RE/IZFKQjY9ffx5J
J3FjShSZc67jl8s3U2cIRWqq5bfL5hIQ0H5k0H8v38yI2x8nOk6rrbz27ktkjh5/znH+OFVRzcpj
pej0BqbGBTN51PAuj28uXLu7s1azszkRlcym7HUAzE1PZVxK8jkBoaLOykcHC8FoZkKkmcThTopK
ThE5TBsI0JCfw/C5C5AMXQ8PVVWV93YdoaaqjtA6PXeHudFJUp/Mh7Qp1M1VUyPR6yScHi9bdlaz
wH7pNjW1TDl+BXUG9wex/NAAa7LW4iovJdI3MicvZx933tT9gu8//tPLmBLHEeB0otcbeOx3L/HK
Lx/v9rw/vr+KhLm3Emo0Ulh6imHufELOnGD7isOoHjcLxoxAqY9r6RcwGI3YjcHct3QB9y29vlfv
NSs0kC9L8jiyfjnO8lOEjpxAqN3KghkZLGizdO+P3tnA6JseYnx0LE67je+99jwv3j2Xj75Yg9fl
ZGpmFlVSEGPiWpuqkjOmkp13hGlpco/yVNfYxKtHqhmzWFtuc/2+rZhPlZKW4N9Qo7ZPOauqSlGA
F2+AjvGFTm4aF8+HeY2kLtJGvazYvYmQoEAShrWuC+10uXhxzynG3PAgkiSx5+gBZugKseVuofi4
Gclp55vpQ1tGwHXlpS3ZGGcsIyosAluDlX/+61fcdeLoOfm8EN5hravEmfQ6GoJ17K3oXZr9KSs0
sHXluSukM7g/iAAwwILCIlCO5mgLv7jdBIaGUVJRSWxM+7FLtbVWnv332wD8v2/dS0mdnWR0gITR
ZKbR03n6p8vK2bY/h8jwEOZlTcIVHN1SuEcNTeDUqWN889bFfLF9NyaDgRvnz+TJF96i7YTUpaeL
++z9hpfuI3rXHiwBeopPriLm6vvP+eN0RilERGu1IlNAIKFJMn947Q3S7Ccx6CRWrjiGbchVOB32
lnbys0X5jF62iG0nCzhdUcXU8WNISez6Th5g19adJMxqnVcpacoc9h1Yw/huCgw1O/ucO+uTYSqz
ZkRjCTJSUuPg+f35TH58Wcv+UVPnse3AGu4dFtfynk8eP0lkxpyW0T7x4yZzaF85D9/d88n5ag5U
khSmjbIJDAmjJGEcR9bu7HXhD2Br8wVTVZWmJnev0+xP7VaeE81A59VVAEiTZbn5ecVhbX4GUBVF
GdmP+Ro0jJLKxJlXYzBqTRf52buJ7TCfTG2tlR/89W0W3fddAB5/4e/YnA6CQkJJmTCH0qL8Tle+
OpZXyEcHC0mZfi1FNZX84+O1eNytHYmqquJsrOf3H21g7IJbqXc5eeb1jwkKDmHLZx9iDgjAbrcR
GRKKqqp8fUzBbneQlZ6GwWDAWl/PgaMnSBw6hOSE1sK2ebx7R2nJ4eyUbFgCtKaDEcES+Yd3A/e2
O87V1H6mkSZrHTFVxzD4ng4eY24kJMzFprf/TtiwZBxNjWQMCeSTrXuwDRtP1MQs3tu3jUV1Vqam
d92UNiwmmqNnzxAUojVl2ZsaCTJe2JO44cPMWIK0PA6zmDlxxkpdeSkRQ7SaSkNtFfEh7Uc3xURG
0JBbxBDfGhBulxMjF7aIjeR2tt/QUNv5gRcgrMTNmv2VhIYaqa1xElfuRRvA1zdqVQ9WvUqMR0dg
H03p0bYZCERncGe6CgCX9mxjPaDmXSJjoDtxV6qF3698FeOoyTisNcgReobFDWl3zDMvv8Wi+x7F
btNWZr/2/u+y6q2XSJmgjdUfmjgSS0zcOWlvzj5B6lXa3W1YZAzlIcOYHGjn621rCbTE0FSSR4xZ
ZeicpZQVF2IODGLo9MVsfPNFRmXNIWF0GqdOHMF66jh/eudTdCMnYwqIYt0bn3DbrEl8uC+PYenT
2H2skJQTBSy7ZnbLtZvHu3ec9sCqb99GX9PYfsgpwL1zJ/LGe6+QOG4iZYW5jAnTY2/zVfWqKubA
IF598nG8vmcPvF4vT/5rBdOnaO3mKVNm8/Enr5A1YSzVNbUYDHrCw1o71pubBSaMSeFvr/6SivHT
MQeHkbdtFf94+pd+/e46crvbh+FAp5uGP/6cE7MXoeqMJHqqWHzN5Hbfx1ggtT6XY9vqMIdH4sw9
wH9ek9Hld7ZtQVZVXdPy3m6YIvPBl58SGJdI04mvublGwa9Ju/wQ6dURecqLqtqJliT6svAvCvQy
bEIoY6MD+Dq/nqYTDqK8vU+/eeW55s7gS7kc6FJK380E0FFXS0IW9ttVhRZmk5GfLc6kvKaWkBHB
hIw/t7qqqiq71q8kakgcqgrV5WW4HPYOx/h31zh7UhrXluVS21DNkIU389qna/j4pT+TNnUmTrud
gqM5RMfFM2G6Nsh/wvQ5rD2yH/PsJUQN1e7yw65eygvv/I15D/xQe22JInvLam7t8CBYx2kPLJlJ
1NSHk1N3hERDI4onEsfoNo3/PnOyJjM9YzxHT+SSMnsRISEhvGQro/jgF4QYVAqlaB6/KlMrxNEe
MvG43XhdjnbpnM4/wR9/80so3I8HHTFZ1/LQdx9vKQjUvGz2VDvIqt1NyO7duL0q6QYdn3z0Hvc+
8E2/Ps+2vKedHAyvZ1RcIEdONeA8ZeNoaghDo4Yi6XQcOnC804e7bp86lkabnUablZjUTL8e/vJ6
vfz5mV+hFmjvLTpzId987Al+kZxAeWUVUXX1GCr0bO/xu2ivecqOnuhJk5OqqpgTzIyP154EnjPW
wtqaCqLOqucc1/x/Tx4SbNcZLJqCzjEo+gAulXlQOuP1qvz1RC21Q2RwlDK9TsfimVntjpkxYRxl
Q9OxRGs1g5qKMiqP7uXY/l2MzZzO6fwT2M+e+3D2/IkyH+7cQMr0BdTXVBLeWEpU5BTUGhNDlINI
URaO5RVx/f2PEBSiPS0YPTSesqMH26VjNpsJDGm9ezYYTUiG9nfyelNAuwfBmu9SLZnZLdMeSBkZ
BBVInG0ooa7BQ1NENDGd1FxAmzZ74vjW5pvvfP8/OLJhFDW1Vu5IG4O5w5h4t9tLzZ7VVEyZRfSI
kRzf9Bl1h7czPNVMUKgO8FB6cDX79s8gM8LQUiA0WK0EGWjX7NPo6tCU4qcRDh3W/Y3s1tcT7dGR
FzuEud//KZGx2nsckTqWZ//1G34649zKdZDvH6fxayH7T78+ybDSPQT73ltZ9hpWrUrl0JaVeGrP
onO6uCOqf+bY6U53U4C3pQJGQ/sC3WhoDuua/BAv3iEGHHqJiEADtY0uwvIdjPD691xES2fwJVwO
dGkgagBXkr54DP5Dq46C+AngdjKt/AhzQ/umCvxBrUTYd39LXKg2xnvvzi+Z0mHh9ia3m4ioNkNF
o4dw04LZ1NUV8skfVyMnDOWN3/z4nLTHjEzkoaBAtu1fS2J4CIvuuIHc7Rv4aM9JVMlE8PE1OHSh
LYU/QMzQERxd+yE1ZaexxA2npuwMWaMTKNjxBWMX3Y5Op0PZvpbZY5MoOHyA5PGTabTWoVYWs3qL
yupDRZgCQ/DUlPL80unofbWA5id/XTnrWRhRD4Ggqvls3bcGHlzq12c1LjlR+yM+fgC3x8PdW04T
LWfQZK1jSmMe1SXFHHn6HgJMBmoa7ejN0QQZWmtGkUYvuSdPsu3Lj/HUVaJbvYG7/ud5Vr0TxVxj
DTpJYleNkW9ds5gXPlhJoxSI5HKwdMYEUpNG+JXHMElHmFcHEthDw7DEtDbnhVmiUKob++T72FgH
4cbW72CUycuWT95mdnB1SzRZUXyGqedPoltt7/5rVA+7wz2YQvQ469zMbTD2SVu9TpKoPGOjPjGY
ULOBvHIbnkoXoAXkM3o3GVmR5NU5mZ3YehOywlsB+d2HyradwZct//48LsigCAC9taXOQ+WtT5I8
ShtiuHvrGkYeeI8Rwb0fB90QGM5p5Si2xno8bjdhkdGcKi1rFwDmZKbzzy/XMH7edQAc2bKG7y7I
YHhcLI/ee76UNcPjYrn7+tZVx94+WoF8pzZc1Gm3EfT+C3z09/8jIjoWt8dDXXkZf/7+fSjFxZze
f5iRUWFce+tirPUNLP9yDSoSD84az7rd2eTv/IxTH/4Rmz6QSHkKq4+WMP8Oremk0VrHT1e/w2+T
Wqd9kNKnEf3FeraoyRiihsPZXOJDjbz275fJ3vAxoDJ+wS08+NC3eO3zDVg9BgweOw9dP4/gstx2
d3APbS5k8WM/JyRc6zDf8NGbhIcfJiRpFIbwWOJKj+FxmjnpqCXVrM0jdYJo9Hu+ZGxgHVKQCVW1
8sozPyV00cNsP3MSyesibEEWr63aSsriu4kJ0ArAtzcs59d+BoC2UoqK2bl6BTOu10YC7d+wkmXB
DqB9s0peXQNrS8tAgoTAYG7wYwhqVuJQVu0NJtWs9Qsp3mgig9r/OavSeYaG+eGU2UNjlBuPW0Wu
lTgU4WXGlEgkScLjVdm2q4pFTX3zHMDoGontGysgQEdgo0qCu01tzCgxLCKA4gZXu3Migo2AfzW1
IwV12oNhvu+h0GpQBIDePgp/PGwI0aNax5cPy5rLzrdeIETX+6Fw1cZwwq6LYtyUqwDYuuIthse1
n4rBZnfgcrvYu2kNAAaPC5vdcU5a3XE6nRDcGlhMAYG4AiPImJRJarq22Mye9StpaLSxaEb7Zqiw
0BAeunlRy+vsXS8wt2E/4SE6VFXlg91nkR/8dcv+4LBw7Doze1Q9OVV1qJKeZbV1FEZO4JrHfoVO
r8dua2Ldn3/G2PVvcXWcVijmfPkOP6/zIN/0TYYGBeP1ePjrio/5rxnJ7fKji4pvKfwBRo7LYM3W
VVTu3UmUWaJCCmVIwkj06dexfPdW3F6VO+/5BsoHf0EK09rYJUnCXllCyuQZBMxa2JLW7qJc8o/m
0Fhfh8ftITggDLvdQUBA1wWe2+tlr5xI0PDhOPLymVJYSuGffse6nAOYjHrmHt+LbPBS06ZT3Ob1
8oa3jmmyVgMsrq1l5fZqZgaefy4kCzD6/mnYv/tzdq1fiaTTcfeye3numd8w2qRi1GuFdK4riGl+
FpJtlRo8pE6NICla+50czKsn2Pd5Aeh1EuExZoLdgXzlsYEkMVUyk2LWPp8jBXU9agaSJImRDj04
oOMc31EOyDnVgENVcXm8GPU6PF6V0ioH8X7OB95cC7iUpsS4VAyKANBb8fU1FOcpLUHgzK7NLPE4
oQ9mrAyyRBE7qrVNeOz0uRRX7mm36PLeIwqpWbM5fnAPqqqSMmU2ew7v8rtZopmx+BhqRWtfgdNh
50xRIVl3tM7tN3H2Aj5c9SppY1I6S6JFgLWE8ABfe78kkahv5NTxQ6Sma6tiNdZbcVSfZc/hzSQH
e1FVlb+98Rojpt2FTq/d4QUEBhE6LJkM/aGWdNNjA1np8BIQpBWAOr0eh2RGzdndrhrvLjHSaK0j
OEwrOAuOHSKy4hjfmBiDUS9RWu/gnePZlC68h8VPa8NnVy1/k+EeA6rqQpIkVFXFZAqk9Mh+krO0
Tu/qkiLqyksZMWkmYyZPw+1ysvb1v2G8bQ7vr9lE49kSMu1WxnfymeyZms5Nv32JgMAgastLWP+f
D3PViWL4fCUPpsd1+td2rNFBYkprjWBEhJkvC6rOCQCqqrK2qYEGSWVSRQ1ZObvJuPVhMjJaO9GH
z13G9vzDmK0lOEKGEJ8YiU15lZNBHnR6iZh6CPNj9I4tRNdS+AMkDgvkcG7r7JNeVcXR5GFNiI2M
UVrz4aaiBgKbJOJNJtKSw/vk6WOAKFVPaXYDtlgd71TaCDfrqa93M74E0Pk/FcWRgrqW6ccvB00e
L6uCo1BNJqafLiZheM9roP4YFAGgt1/GCODw//yEM1fNRnXYid++mTprPX3xFT/aUERIvZWgUK19
89Th/dyinmx//ZBAtm5aw7ybtTn5Nn/yLjdPuLC53u8+s4/3//gL7CHRhBUdZUx0MLVVFS2zcRbn
KX5N75A8KhVPcVnL06FScAQLRw/hpf/9MSARGRzIgsRAhtZpbfCSJDGsoYiT1tZlH1RVRedxUFzn
5KwUBhLEea1IFnu70TI6uxU63BD/O87Okl89gcvVhEeFBWaIjg5oWSh+aKiZ5JBGktMm8ukrL6LX
65l3852s3fI5JaHDiVAbqJWCmRDkIoVSPnjtebxIzBqXTLAlimFJowCtwzs6MYXnXvuI+Lm3EjQh
iFW7NtF0ov3vCCDuqtkEBAYBEBE7jPCp03Arpyg0eXip8CxTvGZMHUb4bLE3YowNIc632pnN5aXY
4TrnO7suwEHalAjiAwzsqyjFeuQE16S3f8LVhIepD/2k5fXJf/wP6yxurpsch14nsfVYLRy3dx8E
7F4aHW6CfauLldc6uV4NZOdRK5JZgiaVaI+OYSNb5/AfnxjC3uwG4k2tgwN6UgvoylC3DkpgJBLa
CtG6CxqF2ldBqb+5VJXPZsxh2s+fRW8w8On2Ddw8i34JAoMiAPTFl9Bcn4/5ZD6g1VT39jpFjTWw
mJwXf4QpbQ6exnp0h9awNyEJw94tFOjCSUsdSY21kbk33dlSIM69+S6qD66mzmrlyMl8Ro6IJy5W
K8BffX85xSUVfP+BO4ls80CZmpeNmrObqOOnGZubww6bjTnBQSxYlsH33/wzAWOycLtdRLqt3PC9
B6iqrkEpKEJOTux0ofNvPPoEf3u2Cnd5AQSGc/N3HuWl9Xu49ZEnscTEsXvtZxSd2k+400uJHYJ0
XppUM2dP5fHlx+8SHhlNRUkxKTEWttfNZcI1twKwbcPH/Pbb9/D6+uV4gsKRHI0sGxUBtdofb3M1
/iNrE/KSuxkxaSaqx8X+f/8f8U4vVU0uqm1u4kNN1Du02U2vv/9h3G4Xn73yV7xRw5j06K84e7qQ
5OFJnPz8LSoP5zHjjh9gMgdw/MtPqKipaxeAmhrrsQ8d0VK4j5w+n037NjJVPcwZgw6Tx0OMKmGv
q273GdmsNZwcKrFkahwS8MG+SkaeUXGjUmk2EeFwYle91DQ62XHKikmvo97hBru33XfWq6p4EwMI
DdD+XBNiAlCOHGJBh3lu7pqXyesbVuA2h6A/k8vIogOMnBDeEqTnjI1g1ZkyAqwq5TovIV6JiE46
cm83BLNuby3Bw81gNJIRFs3ssXFYqqzsrLaxKDWU/PpGSuw1WAK1PDU4PAxJjsWSEEfN/sI+rQX0
hbafp0dVOSt5MKoSMRe4/GZ/OmU2Me77P0Zv0D7bsbOuYef+zSIAXIk8XpX5ugKkYwVIksRJj42i
4hCOFeuJHDmCDWv2UXokh2nj5rcUQE67jd0HcsizGYmVJ/LlzhNMiz3Fvz5ex5gZV6NPTeLhP77B
Mw/dQurIBKqqawhxujBmZ7O2qYGiNAMTI6PZWtBI9O6T/P27k6hJDMeUOonQ0BC+OniYjfk1RI8a
x8ZNh1kw0sKMSe0bPUJDQvivp//YUlAWFZ8mWp7UMqfR9MU3s/bVQk5b5pO2cBln62upPrCJ0LhU
Zt5we8t57//5NwylieD3/gNVBUv0ZHZ8fZhfPHiLNvY7P6el+Sd/dy61bi+JJgMbRoxkSMQQLDGx
VJeXEZF1Ncc+PMSQYAMjws1sKbJSaY7l4fsfQafT1jy47t7v8Nr//IjcQweIihtG7uGDnCw7y7UP
Pk5gsHY3O/aapSh/+y3bV61gRIpMdXkZtZUVhFnaT82R71A5O3suo7/zQ6zlZRz/83NU7/mCbRFR
DJ8wlfydG2g4tJXbpkZj0muF7JKsGD6sryHmnocZs+QWig/sxvW3v1BzpozwZAMGSeVMlZ30qvZ3
uBLgcrd/zsNRpXX+tp3nJmFYHL/4xk2oqor6SS57ck0ctnsw6XW4vSqBBh02j4fylAAmpoRRWuuk
8FA9SU3tg4BOkvjR0FhUt0rkRK3v5YWiOsrm3EHipJm8sG0NU75ehdWqp7zBhk6S0DlM3D5OG/Fk
yUy6ZNvbnapK/jCJGRNiqLe7OZJdx+i6S2fxIQCjx4OtrrZlOhSvx4OuH6bMBhEABtyocpWPD1Wx
ULZQZ3ehFDYSf8tsRk+bB4AlZhGnjh/mqzWfMmnWfAAObt+EMTQaeda1vmOG8OnyN1ADgmmoqyUk
LAIkeOrPL5M5KQNj3EgcZ08zpV7i/7N3nuFx1Ffb/83M9qZeVr1YkmW5996xsbExppdAgAApJCSQ
EPNonx0AACAASURBVHhSSEIK6YSeQGJ6h7j33pssW5IlW733squVtu/OvB9WXiGbJCSBPHkfc67L
H1aenZ16zvmfc+77rjYEmZgSqtvOKIhkf5mDvYdq8ApjCNadIV3joc0ZIGfOivC+9x/cdEkAuGAX
suSW9naEi7Ip+4CThPRcXP0O3E4XnpgM3LaeYd8baKtDYw7Steg7CKKA+vAHlJ46wS1XXRGq0w/u
6ycV7fiiwCSJVPbIBMyxzL7qWgRBIDreyoCtF22ckfHWkCNflhOFvW74mKAoiSjBAMF9L4Ovk6A6
FkWXgSANHbcgCGTFmXHIASS1Cq3eQJpZTW9rAw2V5cQkJlF69ACy18O07/0aUZKISUxC+eYjVD92
OwVH1uA/8QoWd4CGAScCQwpYAiBNn8eML345dG2XXs2h2hqi9+3CM/9WVPEJ6Na9j6bp6CXX2Nvo
5Vykk9QYHefqBrgyhBr4m/dEASbHRfLC1vOkpxvRqgTONA4QqZNYNDYGgBiDml6HD7nc97EO5qOA
tKqsKcxZEppHnHbtFznQUs0zqZ10u30EFYWET1nR67OyRrPMiqmhklicUY0wXqB5n434/6KVQKI/
QMmvH0d49McYIqOpO76Xr9xy02fyW58HgP9lixZV6KoCbGxoo0Ct4ec5ifxEFujevh6tTo97YID4
+ASKSkuwdXUA0N/Vzoj84aIxflEif+J0CqbMBCBn3CRe/sX3yFl8w2DTdSqHfUG0VcNBXj0RJkbc
80MMgyRi7bUV9LSdGUYG5/QOH8EDcLncPP3hdrwaM4LfQ0GMltJjhaTnjsISHcOJ3Vvo7+li9X0P
hQnbzp06xqF3/sjBHx8iQnHRhRkpECTv3l8RlRDqafSNmkjjpjXh3xGyx1FSXY9GPcCU6FCmNipS
Zs2Aa5iD0hmNiLrh45VanZZdb7/E4lvuJRjws/e158iQO5ink0EH+XTR1thD2xu/R3/fD1FrdZzb
9VcevvNmBpxOPti+hzl52Sy55l6eemcD/R43zdUVRAQ9WDVyuJkNYIqNI8NkQBQFitudTE02U2DQ
s7Wwm+VTYhGALYXdaEarOPr7BzD2NePRR+PSZZB039cZvSg04ps7fQ4H77yB3PqGYeeS7hLpPeqg
UdXHUp2RaTfmha/PBWttbeX1p59AtrcjePxMUquZlGshc7ChOyJKx9qTncP2q9dKBLm0pH5x01Rl
GB5wVLrQ51j9pfTb/63ZP4SSgI9KZVp0Er7PJrn+l00QBEaVlNB05034VRKPlJSg1X42AfayCAAf
BbRU6fVUz5yDaDChLzzG3LbW/8UjG7ILcupRkzLodXlZeesqINQofe1X32fJbfeSlB7i32utr2Hr
q88zYvJsEtMy6bfbaKo8x+hpQ6LsGq0OU2TUMCdlTM3G2RvAlRLEoJGo73Ij6ZLCzh8gyprGnrVv
kzUlRFHd29lGWVk5sHLY8f5lwy5afWq0koDPJ3Cwqg1zcICDWz7E7/MSYTKSlhAXdv4AsdYUTAPt
XBkfHDw3B8/Yo4mMHxp7tcRZSUzL4p6fP4c+JhF3Xw/5gXYSNQEg5GzUkoius5KSQ7sYO3sxfp+X
85vfQIjMxOlvwqgWqXNJ+BJHolSfZsvLzxD0+7D21OBSDX/bLSp4VNPFhie/hn/KbB68ZjVRkRZi
oiP59j23h7d74KaVbDtwjJ76KmapetiMg9LtHzBm6fUEAwFOvfUMUTYfubkmpiababV7aOz0oQ3C
tpIeBAFU3QGc5QdYNcmEYBKAfj4oOUfstUNgDrVGixgZRZW5DlOcBp9XxtgeQB0Eu1VFnFlNlSzi
D8poL6I2eOdPTzLKUx0Sq9fBrppeJqQOXX+DRkLlh6oOFzkJBtx+mZZGN/kXZf8n+93hd+aCM/fo
+uhbfC0RsQl01FWgPX0cm/y3e2t/q/6vKArVFiV0bj4ZY2uA2E+B9+eTWqRDYX+Th3mpOoKywrYq
N+MV8eLp0/91EwQBqz8A/sBn5vzhMgkAFzKZvkCQPcvuYPx1Ie733qY62n/5EIuCrv/Nw7vEoqwf
YdYUBCLirGHnD5CUkY3b5eL47q2oVCr8Xg8qEba/+zJRcQlodXrsPT34Bhy01FaRnJWDLMvUlp3h
h1NH8e7uswQ0AlMjjCyYYOaJ53+NLjaRQMCP4LSTnDmC4zs3odbq8XncWNMyOFtZw67iahAlxqXG
cLahlZnX3Y1WH3IUO999me9/9S5++Lvn0Gj1RKliuOaGFewvKyK9YCKKotBRepQ0gzzs3Mx4ObZj
IzOWhuiPj+/cRFPJeVZ/84eo1GoURWHzS78Dm47E6HxUejPOhjKMRhVao5lT+0NiK6bEDHo7Otjm
8qP3D+CKzqSv3838275GysixAJTu20zt5jdx+jswqkXcfpkeQzJVDicd3R0IRzdTnJrC/IWLLrkn
giCwbN4M5N5SwIhB8ZJ2/CVKirei+NzM9DaDV6L9mIOjYgDNgIwpKBCYGIsxP6TvIFeeRGjvQRCG
kNcJoo/id14l4eEfhXpAJ4/gaK5k+axYIgYbrLtLe+l1B1g5NdTo9wZkXu/3cO9F7JbywPAmdIRO
orDKwbyCUBP/TFM/KX0CLSccVJv6Ubwyea6Pd36nIyPZmTIBs+hnYX0pP3X18Ifv3Y0jOo6k7g4e
Uf1j7qmPG76oM8jMmRVLxKCm8p7SXgJV/n9LXeyfsZKcHCbd+gCHak4jS2rixiTR+pPvkyb980JC
/xfssggAF6xGhviPAH6iUzPpjE6Arrq/861/z17QRtGRPhK5s5XvdtdhUv3tbCdqUgbCuHF0nKoL
s1z6PG56WhspP3WMUZNCjqS88ChGSwRLbrwDvdFEMBDg/ed/Tbw1hcU3hIJbY9V5ire8Q9mJQ5Qc
O4DX7SLJayfZpOPetPjQEj/RwE5nkLz5C8gdHwJ+Hdu+nvKTR7n9uz9BrdHi93l596lfsDY6gpx5
ob5A0fliJLU27PwBouKtvLnvNNf/4CkEQcDW1kyXrY4Z0QZKT2yDYICvr5jDA1te5cOyFrQqEUUB
mzGGZFkOg9yCwSCK3hTWLBAEAUOMFcPcm5h8fQhl3HCuhMrt75M3YSgDromJw/bMd7g2W0AQBOze
El4bSAw7f4CRMxezb/M6To24AcneTDAiCX9DG5vb91Fg1QH9lL3ze8wREdh8AtUdNjQE+cLyBTj6
B/jRM2uQRIm8oI38hHhqq5uZITSCFk7We5guqjHKIlNlDSf9bs7oIWvVA4xaFJpwqti/marf/w/e
gDx4/gq2Hh8+v59Nr/4RrV5P0OtBpwvS6fJzvseNrIA1Xktjz1A/Q6sS8X2MPnD1gEC2VkElhoBg
tQEDAXcfb5Z0oZUEvL4gqYJCUBQQVQL+oIBMaCqm3qKg0YqoHEEEXRTxjz7O6AkhIokNrz3Hlw6u
4yEpAPa2sNdoDCocsIbGZWe215I1+Gj/vekf0SSFnT9ARpKejkov0f+hGrwqO4f86fNh+nwA+nq6
WBcTQ5q9/+9+7/+qXRYB4AIEfILHx7EzR4hZGoLm93W2kWqRiUrL+Ex+92cdYLn9EXLSs/B5Pfzo
2Z+zxtL5d78jjJ1GRtMZNr7yPOaoGBy93UzIy+LYjk3Unz8LQHtDLfGpGeHJFUmlwuN2M27WEGlU
Ws5ISjQ6RhSMJWvMJIKBAMXP/RjpohLIcTGS6eOHUL8T5y2htqwYtSa07FRrtFjTM4kfOyOsG5wz
ZiJSfzd+nze8nTjQizEjl+Ij+wgG/CRl5tBkc1KQnUZdWxdqjYroSAt6AizLjcKgluhx+Wlzaph5
5aph9fw//ejb1J06iL2qGF1iOg1V57jq9iGwWnr+WA5vfJf60kJs5ccRDRH0BlWMMMsIQuiRjtRK
aL12OuoqSMgM1curTx5keaSfQxXVGKLjGSiv4hZXBWKkxPHmkAPIjdGzfu1f6bJOwNFnB0Gkufuv
VLV0ceVd30FSqag/V0rpwXfwq+IpqqjD4wlwk2hiUrZhmPMLWGLIX3hN+HPevKsoe/ZJ3j/ajila
Q1+/n/h2BU12DrHWZEBBDsqcVhkYTYBpKWaCssIHZd0YXEMZtz+oIBkvHc1Nnnc9h2pK0PS14jXF
Y0qIwHXoNa7NjUIQBApbBzhps7N8XCzpMTr8QYVNhzsQVAIrpycgiQK1XW5O9KcydcIQi1DSsuvY
+vabjJKHjsGOwuGb7mDi3fcDsO7tNUx89UXiBuPU3xq9DjqD9HsDmAcxBk0dHmI+Jf7/T2L++lp6
P6LAV332DFk9PfD5CuD/vkXrNMwr28bhrmbQGYlvKGbFJwQHuvxBttsDaAWFK2O0iILAlvYB9rkl
FhhkliVcCt3vSh1N3mDpRqPVETtuGq7KtRjUH3/ZhXGhJf03rl/KW3sLCWoMaKO1NNXXctejPw07
SUVReOPJnw6bVVdptLQ11BCXFCofeVxOkNRkjQlRPEgqFeY5K2jb/zw/dkvUZ6bxhRgFubcde3cH
kYNMow3nS5Dk4RQXXnsPx7atY/ENX0SUJI7t2Mj4BBNn336a+oEAJgkeuHUVv35vJ1fceg86g5Hy
U8dwVJ6nZcBPQGNEpVJR9do6ogN2unwW2t1a0jVg6m+hu6WBuJQMALpbG9EFXejW/5jZZpHuqiB7
Wi00Vp8nPjnE9e9xu+hpa2bg9UeYHSfiCch82B0JQTUHukTaZAMTtXZAw/HN72OMiiHoDwyif81c
dceXiU3Poaehiq6Xf0FlYwlX5UQhiQIHGxyccXQwa8YI5o2fwkCfjTef/Cnzrr45PJedkT+Gzdve
Jbm7kWV5kfiDCm+VdjNG1iEkajnY4SDbpKbO4aS9rgprVgjp3dlUR6fPweqCKLKidfS6/KzxdpGJ
wpjpc9BodRQf3kuESU1OTChLlkSBCVYTpft7OKruJcpqQh0Zz1cfffyS56e3tYFpd38v/HnDbx5l
ZWZE+BmZnGSiqsNFekyoL6CWBGISdUSbhuQes+L07OvsHoaybi4vZqzPB6qh57Y0IpLxd341/Hns
LXdzbtNa4rq7PvbZvmCZTpG9h7qJTNDi9QbRtfpR/wcncBacq+Svv3wMU2Y2SjCAUFTI7MvU+cNl
EgAuOFaAOYP/wAdp+Z/o+w6Pl981q8i95z76PG5+9eHzSK5+AqvuZfKYSZw6c5KyY2t5eNJwoIb/
zPBlpbu/D/3ECQgXUUh0Dwzwi11nyLad5hur7yMNePS2FeH///kLr9Bvt2GJCvH49Nt6cTv62Pza
n4hLSaOvuxONSsJob+TAhnfR6o3Y6s9jkgiXkgD6+ux8qdvClT/5EYvSMjm1bzuVr/0W9YuPII25
AtnvRX12G9bGLnaseRpLcgZ9bY2MczcSecs9dLU0EPB6mLpoOYV//jlS7lRWzV9KR2MdL63bSN7E
aWEKh1GTprP9zCFkX5Cpc+bgGnBwbEctHcSReO0PKRgzhYqDW/G+8xTmjnOcq6tAATL0QXKEbkYM
sq3G6iSMri78Hg8ndm9BrdEy0Gcn1tvFtKTQNjqVyHhVF0ciJ5P7ha8yIT2bU3u3wZ71mFOymb38
WvxeLwc2fUBUdgGx6TkAxKTnUJE5gQWqhrADnJNuobIH8gZXRaaIKPInzaCvuyN8PxRFYaCuhFmp
oVq+WhKYnW3hVyVdJGXqMaRGUdnrorvCgfmtn9A2ZgmKICKW7iBK7yErOuRYow1qEiPVjJk6K9ws
HzdrAaWv/ApZCYRHM23uAMuNRhZGxBB98yqEsdMQtFpkWeZsRTVajZq87EzMDSc49mIP2tSReFoq
iK49Qk+0gkkTcrDegIzTExyWODiDMpIzMOzcNPY2Sp/7DtqxCwm4+lGVbqVfkPkocbfZ46G/q4OI
hFAm7bT3ovP8416aKAjkOQRwXJgs+8+OX7pQyExKY95Xvo3L0cfhqu98rEbD5WKXRwD4N4Ug1h8s
Jv/mOxFFEbVGS+yKL3F6/3YWjJ0MQN6EqRysq0C4SH7wHl09f3rrJXKnzKGjsZYsuRdp/Mxh25RU
1/HTUy7mfO0J+my9XPXNH7H5qZ8gyzJ9jn4iIyz8z5fv4J6fPUvmlNCUT92J/Tx8+zWsPV2HKEmY
TGamp0YgqjSIBitaoxlLcIBAZxObXv0j42bNp6ejlbrSInJnLQzTHExZuIyGsjPMce2G8pcRBehV
ApxTq0lMjCdy9HjsQRcmbyMn1zzBqJ4TmAWFI8YCHFFZXLUwNLpozcim/lwG/oscwIDLw5KlofKO
JSqG/InTCbgHSB8bKi+MnLuc86XF3Hn1FTidLhRFwWQy8vOD6yAwJGcYbzEQn5pOVv5YFFlGEEXe
2fEaMDSe6lIkMibNJjkz5NynLFpOV0M181beiChJqDVaZl55DYUfvnzRMbpwB0EXlAnIoJGEUB9C
UXANONAbTEiSRF/xfk5pNMQmpXJm7xbMrl5kRRd20u6AQk1EBKZl3yBp7EwGjm6lv/uPTBTb0Va8
DoBfVCiXh2MTdCoBV99Q2UhRFMxeHe8V1zE13UyPK0Bd9QBXqExDrKrZ4wgEAjzx6lrMo6YR8HrZ
enwDFoOGKX0HCdoOIIkC53UCp8rt9GUFMWhEjlT1Ee0X2F/vIDNKR4/Ljzcg09DmQa0XiTOqKWoa
QONSWCDVoZz9C6IATQEvmos6xeM8HrY+/gjmO+5DlFT0vv4nVvQPgCB8Ksj7jzNFUXCjoEP4l4FR
ddnZLPn2D0LPZEws4x7+AS1fuA7rv6bC+f+9XRYB4N81RRCGZQiSWoNwcd3yYx7IybkZjEpL5ET5
MXJzk0mKm3nJNt/bUMhtj/wcUZJISElHVoJ871d/QJWUgyYqgUB3M3cvmc6axx6gqCTUA5j4owc4
UlSM3+tGbzAy0NuF26XgTCgga3SIjC0xLYsdz/8MU0oKzbVVyMEApogogsHhFMGSzsCGUzYWj4jA
EwhyqM6Jfvq1TFge4h2KT05jw0+PsiBQTOKgJm9c8BxvNw3HBoiSRDL9tNWeJzIhhfoTe5iYm3nR
dVOhVg1/5CQlwB8/3EoHJkAgTu5j6U13sucvvyZD6qfVp+bGO+5iw4m9GEwWIqJiOLD+bTTpY9k3
UM1UdQfdPom62IlES8OzSW9QHrbaUqlUnDm2H2t2DpnTF1N/Yi+ekp2s7bUxPlGLRhIoanczP8nE
hpefI2fsRHo72ug4e5KJ/aXE7T1Jt8vPdVE6Xo7OZn1tNUtStTi8AfbZDcTOWsyYJdcDELP6SzRW
VrCvZjczUiwIAhxt6scuGznS6GCC1USt3UOHbML9p99ifPhxIuOt7Pnz78mprsUgK1RU9xIhCEwQ
VRSMDa0aLiQzH+48QPr8a9AMYh96LRFoXD1UFraTpnJR2yczPiKGqS4vmw730YbCFCSakiTmpFvo
cvkZGafH6w4STFUxKt6A0xdkVUE0G3s62Xqqh3ljoxjwBDh9xs5Il0gnw0uDcaeLcRR9FQVIQKDw
M8yiewUZR4aKxDgdzT1eDA1+YoP/fO+gyyQOeyZVag0NBLH+h1ci/y12WQSAf1cM+qrINJ7euJZR
i1cT8PtoObaNOMlDc00FKdl5NFWdJ07yfezvGIEFBX97BSLqNiNKEm0NtZzatwNjRCSyLhGdD2aO
n4YgTOeDgxt46KblTBw7hMZ9ZfdJlt4WYrlk6mw+fOE3pElxdO/eiqRS4fO46XYHuGXlDeHa9fGd
myg+vI8x0+YQHZ/I2ROH8LXW8ytVNG+csWEURX4ZGcX3IuKHHaNLpcYiDb1sakkkztnO6UO7mTB7
ET0dbdQVHuD3D91MiU+mrf001149h74BJ3/Zt5mRc5fj9bhxV56kp6eHjuYGElLSqT9/lpa2Ts7Z
ZdS6EG1xrxdy/HDHT56jqOgUK/LyGJGVzYpr4I2/bqaltJvf3rOaWx59goQpN1Bm1iPpzdgO7qHt
+GHyJkwlOt7K2ROHqCsv5u0nHyd34nSCwSCVhUeQlAAZB/9A4+4XSNP6OOvoYnGmheyYkCPNidbx
ap2LL951f9hR7PN5qNpxmEa9AYOkpbQ5iCk1lpnf/wM733sJY6yV+VPnU7Jn00X31kh0SjaFOfNB
EIhkH5ERGjQ33Mfr614ha9Yi4rq6GFXyDuKr99MmSyzT+TholBnhlMgahGddmMn/aCnTEwii/Qjw
zRQRRWRmNhOXPUdJyWlWN5eR1tLA01I9wVwdekmgptWLpStAadMA49PN2Fx+2updjBhpxqSRwqUi
o1YiqTHI4dYONLJAnixiF4PYklWYBkXhk9tkDIKI5SOJkEdRaEoQiIzR4BwIYGkJEP0pzfg7rCqW
Thik40gxscPfTWzTP5+2a9qqOfHWM0y55ev4PB5K3/gNmmAA/ouQwP9JuywCwL9rcTFRPLhqHlsP
b0MjiXzv9lVoNBpe/nATJ47tYEx2Kg9/9Y5/ad862Ufx4b10tDSSPXo8+YOjnrbuTspOHGb0tNkE
hEtH/jRGy7DPpsgYZFlm2qKQCHy/3UZNSWHY+QNExcahJsjx3VvwedwYLRGkC35MKpGvxMaEt7N3
tGDr6iAqLgFbVweKWsf5Bj8TUkPZU3mvQqMuEWtHO/vWv4vP40YbE6oFj8vPZdxgayXCYuYriyV2
H9+GSaPm0Tuu5Y5fvczO919Dq9Xj83pAUpGWV0ByZoh+urW+hmNn9nDFzKksX7Y8fEzvbtnNoYYe
1DojT7zyATFJaSSmZVJWeAS1WsO0xSsoObKXza+/hKIoGMxmpKCPJTd+kdjBBnOU2cy6wj0Uasdh
yhrBqZYamp1dWC1DTUCTVoVOkodlieaoWGwqieWDdQJvAN5qLKO6tIgr7v0ucjDItleeQWwqo6+n
i4iYONrrq2goLWbcQz9i9KiQ426umofthd+SP3UO+VNDnaitf/otMRFqrOYLTJcqRI1IRWIW+klT
8dl7mdl2lqhJoQb4hSRjwaQxvHJwO7mzl4bAVQc28/ANV2A2GUn2dKF4Wqg7dw5Pro4FyaG+THe6
n6J93ahOO9l8fgCVXyHfK3K+1snIRAMaSeR8mxN1bwC1IJERHHx2BOhNUrFsSgiHoCgKmw93kXNR
v7cpFpbPjAuXZ7bRTfS/4KQ/zrT64YFEp5cGr9c/Zwm9AZRDb1BadQAx4MVV28AoRf1fBwT7T9nn
AeATWnRUBLetuGLY3+66bsXf2PqT24N3XM+PX3qHyHgrKR8RnYmKjefw1rU4bD34O+p5c6PCkZp2
AGZlJ9JWV0W/3YY5Mgq/z0tt2WmmWley+fUX0eh0iJJE0OelqbKM1NwCFEWhYvc6IlOzSEhOG3SS
Fk5VlvFIhBVP7iT8Pi85p/bR11jJ9t89TLTopSeowR1QuGLuQt4oqUYUBWaNsKLqNzFr+eowQd3W
t/5CecDA7ve2gEpLWqSOaxbOwhofxxdWDl0314CD274VqsEG/H6ef+xbYecPIZBbV33hsGvU2t7B
4VYn8wfVxrrbWyl67tcgHsQYEYXb2c/BTe8Tk5hCTnYeao0GWVaw1Z3D4eijft925KAcGmcdN5tZ
D/8SURSRZZnup37G4YqNXJEdQkOXdjhxBCM5+sbT6B1N+FQmKh0yE3WwX8xFZYpC33kes87D9GAj
+17/A0Gvh1+mi7xe10Hbs1+m3hiPaaAVRDVp+UM4hJScUaiVII7ebizRsQT8PnJVXioanNRGeFGJ
AgPuIH0mK3N//wIRg3rJW9c8xQTfWT6KB01LSuS2GQH2ntwKtna+MT4TU0c1ymCvWikuZu/JKrLG
DlE4xBrV2AyQbheJudCuESGvS2Hnrg4krYihXyEpIFFsCKCzavD6ZCKb/BhNQ/sRBAGTUQVdw0tC
BqNqWG3eZFbxSVW7/pH1d/lw+UIIdm9Axt7pI+Ff8NrZARW1pQN0tp3HF1AY2SWg+xR0Pf5/tc8D
wGdsu48VUd3Ri05UuPXK+ajVF4mZB4MsvPZWqs8WU11axIQ5IRRqU00FIydMxZqWxbZXnqXUpWXO
DSEHeObQbmISU3jv+V9jiYqhr6cLU2Q03R2t4Xn5+ooySo/so6Wums62Fvw+HzFmM1J6NhPnDklE
HtuxkdSbvsrIiaEy1aHNWUgfPMUXclUhwFFQ5uUaWCfMw5BjQlKCFCdkoalrCDt/gOi4RN7cf5ox
y29BEARaWhvYvP8YV82bPux8ramZnDm0B1kOojeaScnOpeb0UbInhBTRaopPsGrK+GHf2XngKHHW
dDb9zy1oFT9RM65GRkFvjiDg8yIHZYwRUQTlAJIqdH3VajWuYIg5dfL8EGnekW1rSR0xMjwVJYoi
kQmJGGslXumKQ63VEuGqJEobZELtemL0IrKi0NVhpiplDld/63EEQaCzoZrW3zzMqmljWTVY3VNK
jhMc6EURgki9rQhqEYsjQPXRneTMDCmp1Z7YR56rnabnfoAtcwxSTwuPjYnh6dN6JqeFyjm13W5s
loyw8wcwT5tP67bCYfxMANlpKWT5e4DhJbsL0pm1nS6kDpg6SP7XYPfg+hhnJwkCI1wSuAAEyrQB
Jk6OYsRgWWyb2UZPtw9ZURAFAX9Qob/Pj3XQAV8oUTlc3mEgNxzBYTQsf8uCisJhtQ9FJxLpUhgn
XzqWOUlWOHTUhmwUwSVzS0CPZP7X0vYpMHiuwP8/GjGfiX0eAD5D27T/GLUaK/GTp+LzuHnynU18
9/bVw7bZeLiISdffS3RiMoe3rGP722vwBwJotFpiEqyoNVrUJsswkNe4WQt56fGHufa+B4m1JuPs
d/Ds977OlbfeG94mI6+A2KQ0MgvG01xTgd5gxDxtMaeOHsBotuD1uIi1puD3eUnKHEHhvu0IgsC4
WQvwbH0a7SBiWSOJpFskfGV7WKjvQhAEiupP4DcWEPD7UKlDL2tvewuZo0az+Y0XkYNBRhSMR1AG
aGxtZ9+ps2gkgeuumEtjzXniklLwejzgddF9+gDHG8opLzmDKIoIPhexk28Zdo2MBi3nnvk67nUh
3wAAIABJREFUWSlJyGo9wb0vIUZOISt/NDljQyC3D//0JIosM27GXDQ6PW0NtRjMkYycOBSAJi9Y
xtoXfhMe+1MUhc7ODuSxq7n+nu8iCALF297Due55YgbRqqIgkCbaUabOD5eF4tNHkJyVx8VWa/ew
OMeCUSPR7fQRERigd/1TFJ07CogEq46TGB9P/J2PUJCaicc5wFOv/pKU6KH6c1asnj3nWoarnZ06
TPwg6dpH6Z8vaDx8nNlO1aNoDdTZ/QRkB5Io0On0E9BFwkVSRgFZ5kR2JkJ0DPEVFfiM/WHnDzAl
1cSWsna2HOzEaFbhtPvJsgmXlE3mezTsO9qLGCHhd8nMcqg+kXDLDqOPyVOj0apE2uxeCk8PMDk4
PAiIgsBcvxYuDIddpiWbT9s+DwCfodX0OEmYFhq51Oj0uHXR+P3+YauAxrYORrvdWKJiWHbblyg9
dpDiI3tZesvdxFlTqD9/FltnG53NDXS1NgMQa00mdcTIQfQoGM0WcsdNpq2hdggI5nZh7+6g8kwh
vV3tmCOjaOxsw9vRiCDNRBQl2uprcXa0UnL0ALOWXYMcDLLz/VcZ8A5/u7oGPKyObqe0X0NAESkw
9nG+u4aDGz9ArdXh93kxaUWK9u9m1b3fxGi2cObQHk6WnKTTCyPnXInP6+EXr/6VoN/HpLlLcHY2
4f/gJ9ySFcDhq+K4K4HpX/4xW9/8M+9v28Ok0Xls3HOY6WNHYe/pQTdiMrkP/haNTk/R+lcx1TaG
dYwllYoxM+di62gLT8VY07OITkgKl1sAWmurcLTUsP8P38WSOgJHcy22pnaueuwpzhcdw+/zkT9/
Jec2vIys+MPljG53EKmzPXw9goEAGdaE8OcLTjjarMM42EiNNWqIjrZgnP8FAkVbAAX17Jvo7+xi
ZGool9cZTZA5hr6mI1yQgfcGZLQ99ZQ/9yDSiCkEnXYizu6hN9k6TBRNqSnm46y6x8HpovNkBBRa
nQMsy4mjwaPBj8SSRC8fnHRe8p1jixay8pHHMVoiKD60h/pfPRQutwC0OHxYFYnUHgF6BrlDBx+R
KWb9MNbQcMHLCMR97CEOM1lROKjuDycc1kgtziQfBarLPDX/D9nnAeCztMDw+mfQ50Z10RhkhEHP
wc3v01xbhd5gJtaaQkJKOnGDhHAZI0dTHJfAng/f5Jp7vwnA2peexGCOHLYfoyWCo9vXYuvqwGA2
U37yCIkxUchykKu+cB89HS3s+etb6K0ZmCOiSR4/gtOH9mCMjWfWsmsQBAFJpWLuihtYU3iIzbYB
EsUB2mUjfQmJ7BKCTHvwZ+gMBnb/5RfEKh0EJBUpI/Jw9Tso37uBcQtWYhyUthw/eyEbys8wcs6V
QAgJbSmYgaWlh1hrMs0b/8gsS6iGbNFIxLWexOdxs+zWL/Hyj79Fq87KmBvvp6yijKLjW5h+8zdp
rq3E3t3F6KU3cfbpX+D3eelobsBkicTZ10e/3YbD1ktfTycJKeloDQbOnjiM3mQmGPAjB2Ui3J0s
cDfSceYkCQYRm0fFwU0fDvYz9BzZth5ndCa7BYGovjpcagu+0aPRKgrHdm5CbzDS19tNTmQUPp+P
bcfPEN/bwlRHNx6dhY9iE9w6I+lTF2NeFlrROPtsnHzlD8Pu20D/ANOyRnGy9DSiLFNf7yQiAHOl
RsT6JgDOePoxq4dAhhec/8U6yXv6FU7NuIm0Rx9m15F9KL/9KbvJZfpDP0dnMLLn5V+ht72HX1HR
IwqYZBm/ojBqxbUE/D6aK8spmDabhlkree/EWnKTjbj9Ml31LiaIf9tVXMAn/CumKAqUncPhDdLr
lbEaJFQRJqJGXrrPfl+AugEP6UYtEdpLByP+r5rtH2/yL9vnAWDQXC43Op02XB/+NGz17An8Zdda
xOhkZKeDGenRlyAO4y16yjvaWbDqFlwDDg5vWUtWwTgURcHrcaPTGwjKcN1Xvx1Gi17/1Yd5+w+/
YM9f3yJvwlSaqs9TW15KxsgxxCWloNJoSM8roKWmknlX3whAQkoG+ZOm09vRRlpOSPN38vwlnNq/
AzkYDE8LedxOYtJymPuNR+lpbyHNEkHzn/7ApNvvxRIdmhSa85Uf89ovHiFXpw3hEOw2/FoLfq93
2Lm53SFwl9/rQVKp8Q1+BpAvGrvzKxKiJBEI+LHbehk3KyR+kzVqLCd2xXJk+zrGTp9PYlomm994
EVt3N9vefpnJC5bSUltFdUkRwWCAmrLTJKVns3fdOwiCwLTFV+H1eFCpVbj6HZS+6aNo1B0kTV5A
UdF+bDWvsmrRsjDKeu7KG2g+e4KZD/8ev8+LSq3h2Lo3iExMZuT0+QT8PtQaLY3r/sh9azYx7uov
UhzZyVvrX8IVP4bjAxUkK3bqVYkYUpLZ/MRDTLn9G4iixPE3nyU/KSXUd8nJp7OlEbdzgN4BJ2aj
hE6UsBtVGBv8bD7ZzbgcMz39fjR1PiLG/WOHty9mFGNmhHpI2XMWcXr/TubdfX94BTT7y4+x8eAp
GqZMZ+R1t9JZXkrni8/iO74D45YniBU8FGrScXsjiRi5EPOtd6Nx2HG++Aw4qj/2N/9doXVBENBY
UimZcj1JBZPYteNDblIuFVwtGgiyJXMekZPnYS85yqLzu5lhvnybt5+WXfYBwOVy87t3t0CUFf+A
gznZcVwxY9Knsm+/109dYzNJ2gjsnR00S5fyBRVWNZIxeiIOWzcet4uMUWOoryhn77p3iE9Kpan6
PM21lahUQw5AklTYbT1E9dk5f/ooLTU1TJ6/hJa6KrrbmomKC5UnlIuCjUqlQaUezi1uiozi0AuP
MfXu7+FzDXD6z48jSBb23T+XJF2QM06FYOrsYbz+gigiGczMXBrSLEhIzaCno5X+mhJarCnEJaVw
bPt60iL0/PXFJ8kZMwm3q5/GynO4BvqpOFNI4oIb2f3SSeZEeWgZCNKfGyoTbXrxd5jF4WA1j3OA
GVeuJm9CiJ5h1V3389qvf8CKO74c4k1Py2Sgz4ZroJ8Js0MOcOnNd7HtrTV8+KcnyRk3iYDfR115
CZbx85lwzZ2h4065g6NHj6O+6NwMegP717/LjCtXUX/+LB3VZYxNiaGzvoooayoVO/9KS+V5ljz0
21DgzMpFUqs59v6rJF3zMP0RkQhdXdS99TT5chNdL9yPIkAmCrbkDGbOu4Luthbyxk+h1tZOd1Ut
udGh+5I8UcNWewfZzTKNTTYMgsAMy6XPzYXs/6PiK/Y5k4dtEzCbwyUxCDnb3pwcVj34fQAS0zI5
3NmG+firjM0wAmqsSgt/OVvF4tf3hxlZ1QYjPV/7EjEXFd4/Dp/wz5qiKDgTLExYGlIbS7j7IYrf
fZJ5mcOf092NAnnXhEatE1LSOeDtZ2bypUJFn9s/Z5d9AHh9236yFl4XzoAPHdzOnAledLp/X4Th
52+uxxKfRjAYQGs0s/98I2OKy9hV1oii0mAJOhFFFTOXrAy/qGePH8LV72Dh6lDZYPS02diffoI3
nvwZ+YOTOudOHcOgNyIrMk1VVdx4/8OhuX6zmfxJoWkar9vNS49/h3VrniU1OxeP20Xp0YOYIiLD
M/5nTxzC2WfnCk0RZU9cj0aQWawLsLHCycr8UClnErC2/hRb31pDWs5IRElFc00FkqTi0Ja16I1G
fB4PbqeT6RlJbHjvVfwBP9FmAxadhhV3fCtMG63R6Tm1bwedLU1UdrWjnXgDT+5dx3xNO64zOzlx
ZhdLDQMU6pOpKTtDdsF4ulqbUOwdRMQMafKKkoTZZBm2moqMjbuEisLW0cxVd96PJSq0cklMzeDI
tnXDtolISOTE7s3MX3UTkkrNsR0bcQcVxs9ZxLlTx4hJsGLOHMVdVy/mdNl5mo+/x9fHZfDgCf8w
jEVEQgqiALGJybQ31pGem09Rfw9Ceirq0aGgpJTvo/3MQbrPLSVp/HRsrY1YWkoxfOQtlEQBSRKo
jlKITNDR45Wp7PGjPlLBwYZm2LodVUQ8X5k8mjcPlNCsCSAHIboziLOlKaz/0NZYh6c/tKJcctMX
kVRqjm5bj1o3XNlLHx2LURqipxAEAYPZEHb+ENKnqFdJxFykS1yQGfFvlX8AFAUEvWnY3wStAQh+
zN8+YloDFzezP7d/3i67AHC6vJKdJTWIag2pJglZVA97kfXR8dgdDhJ1n6CD9Q/M6Q2wcMnK8Mu0
491X2FLaxKgFIXUtj9uFfLhwWJaWkJpOd3vLsP2IosTC1beQkh1ilUxMz2TH2y9z9Z1fY8ubL2Ew
melsaSTWOlQn1ur1GC0RXHnL3UNi8m4PbreTtoZaastLiE9Jw2iJpMJhZnyEkya3yM6I2ein6zjW
Wcp0bTcAghxg3Mx55I4LZZgZeQW888wT3Hj/d8PntvHVP3Kgqp/cSdNRazT4vD7OHj/Ioo9oBqRm
j2TDmudIyc7DHBWFz+PFpNUwNdmEIFxQCdNiVBspPLqVxrLTKPZOHhgZwytb17H6ngcQJYmSo/vp
qK+h+uxpRoyeQMDvp+zEEdx1xUxZvBKtXk/D+VL6Gs6HnX/o2mYwYOvB3t1JZGw8fb3dqCUVA3Yb
xUf2Awpu5wBqvYmI6FjGzZwPQFtDHRt27mdraT0anYHdG48SK/ez5eWnScgaid/no+74LrJ9dozm
CMbNWkBvcz3RWh1xN/2A9EF6jqaKuchPfZu5e16kbNfr5GYkMmdcMreVR6LJWITeZKHl9GFGiZ3M
nxmHXh0qcZyo6KNRdjE1Qg34CHrrePy1ckZmapliDjnP6mgXESWn6Jk5n/ametRqFarKCmZ/7WFK
jh5AUWRGT59L7cYPaDhTSPr4yfg8bjp3bEZqcDImyYBaEqlsd+H2WHj/0S+Q5GnBK4u0xxaQftGz
PcWs5y+ShQbzZIRGNemKnYdXzvmEb8aQSYBpxyk8Lic6g5HO+ioy480IY4dPWSUeKsXe2UZkvJX+
3h5iRc+/zfH1uV1mAaDP4WBDaRN5c0IOuLutEVfpAQLNdcSlZIbIppqriF9c8A/29MkswmwelkmZ
I6PpcvTz7rO/CgGYBvoRBYmq0iJyxoScxIk9W+lsacDe3YnREoHT0Ud3R0vY+QOkZueh0RvY/PqL
9PV2UVVyivTcURTu3xGeAqotL0GSVMNm9ZOzc6guPU2/vReVWk1vRxtanY7r7n2CvZv/SoWUzOLr
7gTA1tbEmT9/i3yVnRZVDHNzh65JXFIKETFxw84tLimZfpuN6VeEwHEOWy9njx+ktryErFGDilzH
DpCSncfSm+8aBIL5eK+plvONO8lPDZU5KlpcOKOgO8qCXpBwSQYO2HrpKPyQl7s7MJgtdFaXkZKZ
h0qtCfUwZJlRU2dT1FbN2ROHAAW9wYRK9lF28jAFU2YBULh3K9MKcqg/f5ZgMIAkShhkLxFJeQQD
AURJJCYxicozx7F1tRMVl4gsyzTXVrK+3cDSwTFbh62X9U/+gMXzr8SaGbovfls7t1fv4s3HbkZR
iRhlSLBYSCuYMHTf8sZQb4xmglnNBAIIaTHUd9uJXXQr81aFRL+751zBjiceJtbWgNMXJCArWCwS
jd1e3gmOQR+bRLCpDG3/aWJzhpKUjAQ95YV1VP3x51jS0uhramJSRRvFa99hzpe+DsC5g3sYVVlN
+/ceoi4zC7m3h/z6BhRg++4OVFoJnUNGNDpZkukkKSa0Ct7fcBzB6wNpyF2cUqtw3fUQcycP4jfO
nub9ig5uXD6EMfmk9uB9o3ln2z4cAYWChGgW3XDjJdt8MXscG/Ydob2xmFiDhtV333HZMnh+mnZZ
BYCKmgZic4aQmTHWNLQtsSS4m6k/UYkQ8PGNaxZ+ao3gabkplBcexe3sBwS0rm7ae/q58f7QzHlr
Qy0fvPAbzhzaQ+nRA3g9LrQ6E5KkZsUdX0GlVjPgsPPSTx/hfNEJRk4MsWieKzqO02Fn9b0PYLJE
sn/D+5w9cRhXvwNnn53oBCtyUMbZ30dfbzcRg03A2rPF9Nt7ufKWuxFFkd7Odo7t2Ehubg5IN+Js
HSoFRFlT2U8ih6t68WbkUnJ0P1MWhiZ6GqvOY2uu/8i5QVt5EbkzhxC/lqho+u29tNZXY+tqJxgI
0GfrITkrZ0jDQK0hypqCZqeXD/pDc9/j2nyULIgnZ0Q+cjAwyOvTReZVd7LstnsAqK84y853XiEq
LoGMvFBg2rf+XeKyxzBp3tAxtBQfwWCyULhvO4osk5ZbQPOxHeB2odZocLtd9Np6WTx/aZjGGqD8
yG5qy4pBKCHg96Pz95Mxasawc1PHpISdP0DB/Kt4bturLM/VopZknL4g71Y4iD++h+zpoRJQ3amD
eF0DXEAfKcXFrO0NMvK2IU3gWGsy6vRcnJ1dBNNGgMtBZWUZ9gnXcOM3f4goSdi7O3n38W8xpquR
tLjQCqu0sZ+OCIG7CkCnasZrVnjXKZL62ho+qKtGrTNgOH6YfJcbXG44fTr0g4P3IscpgRNApMkI
SeahEuiYeANbVX0kKEPuoj7NyoxJQxiL7NETOP7Ws/9SAJAkiduuulSG82K7ev6lZIqf279nl1UA
yEpLZseBc8QMcpj323qIMWlZOX/GP/jmv2YJURa6gxZGTZ6B1+3m6NvPM3b6orADTErPIjImgZHj
pzJmxlzkYJD1Lz9LWu6ocHZtskQycvxUfF4P69Y8A7JC9ujxZOaPxTQo5j7v6hs4uOkDnFoNsizj
sPXQ19NNZmYm2978MwajEafDTkruaCzRMeEAFx2fSEpGSLAmKTGe/lPHYVC8xNnvIH3Bdcz7ymO8
+NPvYomO4cTurYiSiN5gwqACg8EQPre6PR9Sf/4sZw7tRlEgM38MsYnJFEyZRW15CWqtjhlLVrL9
3VfC10dRFNqb6im74iqanC4UQFVgAK2elKwc4pJScfU7qC49zaT5S8Lfy8gbjSKKnDt1DLVGg9/n
o9/Wg1qAne+/htvpJCU7FwWFyKgoMvPHANBUdpoIazq6xHR6O9tJSEmjzmCmvPAYTdXnQYARoydi
UIlYnG009TpRE2Th2BwO11aFNQK8bje2nq5hGIOa4lPE6QKopVBD2aiRGGFSsG18iqKyoyAKKDUn
GWUQ+W2DkzPqaBK1CnfmRvNqRRkJKaEiy0Cfjb72RvQ3fJ/sqfMJ+P20/fY7ZIyZjDjIdhoZG0/q
pNl43/kzeyJdBGUFdVuAjDw9usF5eq1KJD5KQ/+0lVz33ZDecNGHb2F7+vdE+f9+89Qhmajv89Ou
TUAKegnYOhAFDU0mM56YaKYM9BHpdVBdUsRAXQmKIhOZO5m8NOvf3e/n9t9nl1UAiI2JZlaygcMH
NqFIauJEL6uvW/aZ/d6u4iqmXxeib9Dq9WisWbQ21JA9OkR1EPD7CQYD5IybROmxA+hNZqZfsZJd
H7wxbD8dzfVodDquvvN+UBT2rH2LrtamYds47Da+tGgyh6rbUSQ14+MN7Nq9F0tKFh1dnURGx1J5
eDvWUUOTIoqi4LT34PV6OVBYTHygj6p9G2l1uFFrtUy/YiWiKJKWPRKNVsfURaFrNdBno8SaQcYg
yZlWryd52hLKik5w8wP/g8kSyan9O2ltrKG6tIgpC5fh87jZ+vYabJ3t7F33DpaoaLrbW+l3OOjP
yuGeB+8HQWDDK89hkCTikkL9DIPZQkJqOm2NdWFFMJ/HjRzwIwcDQGjlEJ2QRGXxSVbf800iY+Mp
LzyK3x9E3XCanTvXIwErp49hc3M9ORn5TJp3BW0Ntbhdbs4VHeOm+x9GUqnZ8e4rdLa2MWHRChZe
NQVHbxcdhaHG9c73XkNvNNHZ0oighFZiKrWagN+PSqNFNAxvZgYNkdisEzFXHUcA+qzjqbfZGHf9
PawaPZ7uthZ+8fYfyYwqZud7XWj1RjoqSxgVbSJ76nwAVGo1uctv43zJ6WH3rbu1hTvS44YkKPVa
3vQMH8Nt82tYet83eO/53+DzeFhxx1fo3LaeKY0Nf/e5PRGbQVHuDJLyxoKkomzPJsztpxjxxNPE
ZeXSeuYEadte5OjzD7IyS4MgwKYD73H/n9/+u/v93P777LIKAAALpk5gwdR/vN2nYW09w6cUvF4v
Pe0tbHt7DWqNFltnGwOOXgr3bmfKwmX023s5vmsTKpWaI9vXY4mMwd7dicftYsE1N4cz9wXX3MIL
jz3IxldeIDkrh67WZmxd7cyfMh5bxzYq66u5/c7beH/9RqIjYrj11vvoaWthx3vdVJYUoda+QVRc
PA2V5+jt6eXnr28kc+4KxCgX6tN76evt4eo7vxY+bqPFws4PXmf0lJlodHqKj+zHFDEciOb1B5i6
cHl4VTJp3hWUFx5h0rwltDfWoTMYmbLgSuRgkGmLr8LW1cGYaXPweTwsv+2ecHZ79Re/xltP/nT4
vh29HD52kPaGWlRqDY1V5xBVamYsHdISPr57K3njpxIZG+LFGTV5BrWlRTT2DjD72i/i87g5W7Sb
eGsKpohITh/cQ2b+aDo7Wrn/mz8IU1osuelO/lReQnx2PmcO78WakUUXRmISrFiiYzCYLQSDAYIu
B5PnLw0PEDSePUVBfgFFleVoBR8+Qc+4EXkEbn4AY2QIY+By9LF/w7uMGEwAYq3JxOSM5ZdfGaIH
UWoyeezPHwxTqbJ3tOHzeDi2YyOmiCh6O9uIMV86GlrQDptUPVgjtLT1+choC7Luz09z9Z1fQ280
seWNPxNv7/mHz61arUEfnUDO2Ek4HX3EZuThcHkwJSTRUldN3Mgx7FgncFWmJqyktsIaZOvG9dx8
2+3/cP+f23+PXXYB4D9pLfU1bHt7DeNnLaC1voaK0yfIyBtNSlYukXHx1JYV093eyqzlqxEEAa0+
mfyJMzhzZC8zllwdBoJVnCkkEPCjGXSSwWAAJRhEbzITFZeAx+2ipbaSld/8MePnL8MyZgRf+NkL
6OPTWHRtqL5szchm/KxF7Hz/NSKiY4iOS6S9sR5/wM//a++8w+OorgX+266VtKveZVmyLI9ky5Z7
x73iim0wGAgQaiCUAOElJCR5QF5IIbRACL03g7vBvfcid1mjYllW79JKWm2f98esV17b2KYY2dH8
vk/ft7N75+6Z2dE99557ijBxHpIkYQgwImWNpnLHP9n29SLS+gwg/3A2lSXFhEVGYzQG43Q7MYdF
0NbSzI7VS0ntmUVNeSn11ZWYwyL9rt/eZmPz8oV0z+xLQ20V5ScKaW1qIjd7N7FJKRzYtoGWpgbc
rnaXSpfLSUlRPusXfULmoOEU5x/n6P499B0xhvhuAsEhoag1GnK2b2Dlh/9hwJjJ1FeWU3D0AEmp
/p4jNrsdYaJcD8EYFIzUbyy73nmFOruHbj2zOLpnG862NpyO9pmz5PHgsFrYtPQLeg+5htKCPHIO
ZZM5dDS9h42muaGB3kOuYdkbz5O//F1C+42lraGW6Jz1TO3dg4kZ3TjV0Ey3qDAkSeKfi/9NWb+J
qFUatNmrcKvC/WT0nFWgR5WaRU3B79j++h9JnfozmspPUr/+AyJH3MCQidN9z8TW918mbEAyvTjp
O7cXcgnQOouHCF0wv45wcu3Nd/viQmbf+Us+yD9Kr+ZTF3xugwMNXDNtLiqVigBjIBkDh7L54G6O
799FbFIKB7dvpNXhxm2Q0HljA9we/Lzp/K7R48HpdGIw/HDXaoUfF0UBXEYiYhIYN2cBVSUn6d67
P421NQQEBZI5ZCQACSlpFB475OfNEBAUxNHd28kaPoaU9EwObttAdcUptixfyIip8kxx29eLCAwJ
ZcK8WwDZ3n4i5xADx07x2amv/8WvWfj6P/zk0RsDSOiWxiBvKceUnn349JXn2LV2hTyz9aZLCIuO
xWm3cWT3VjRqNebwCIZPmUVCN7ncYt/hY3j3ud+jNwRgs1rRGwJwOmzs37KGuK7diIpPZNPSz2mx
NDBq+jy/gaHZUu/LRhqfnMqJnMN8+fo/mX3XQ6hUKha/+RLJaT0ZMXU2NWWn6DlwGEXHDpPYPQOh
32Dved0p3LORkPAoSvJz0QcEYDAYKDhygGShly+5XcWpIt/KAkAfEEhgeBTXTJvrvf/dqSsrZv07
/2TKfb8lwGhk9QevEmgOY8pNsukuoVsaloY6Dq1bSmNJPqbwaE4c3EV8XDy/n5RF7vpPMRl0dEkL
45V9RRwMEYhISKf8SC43GyrZX+0hurIClVpNeXUzTRWHObC1B1nDx3BSPMaJPZvggXl+v5NRp2KU
ZQfl72yhm1ZFEA7yio9Rkp9LQrc09m34hlEJgajMWXBGIBjIGU6j9PJKsU2t9cVggDeAT3/xAuhp
brvfM6nXGwgJDfP73Q7kH0A8Vkj3WA1qlQqRGJ6YPeecvlZu2cXukiY0AYEEtNbw2IKZ56RDUeg4
lF/iMhIUEoLeEECX7nLqhSCzmSBTe+i8SqUClYrsLevoP2oCDlsbh3duJjQqhl1rlrHk7ZfJGDAc
c1gko2fORzywB4Axs27kkxef8QVi2W1t2KwtPvMHyLOxylPFHNi6nn7XjKe12cLutSsxhUay6pO3
CQoJo6bsFDq9AZVK5Rv826zNGAwGxl63wNfXsndfJTymfYNPH2AkPDqGtN79OXH8CBHRcSR2E3DY
2mhrtXB0zzYGjpnMqfzjfoN/REw8QcH+hWxMoWH0HDKS9/76B1TAlBt/jnh4LwHGQLp0T2fvxlVE
xidSU1GKSq2mR9ZANFqtvIIpPUlMQhINNZXoDUa6pMVQUVJE9rb1ZA0fQ2R0LDvXLGPYpJl43G52
rVmOKdR/Bh4SGUPtySMsfuEpJNQEOhqISvP3Lw8ICqJbryxG3XAnAP0mzOSLZx7i3W1mqoN7I7ns
jNRq2G/Wcq3XU4kxk3jtH3+ke1Z/tN6Zb3zfEUglRwhY/mc+/OJfpGhbGGDQ8MbC5WRXtKAPCMRZ
W8qEubdx4POXGBQfjNXh5ni9xON3DeY/ezdy6vgBTK3VzJw2hN8+8zQuVSMeSSJWF8xtKCkSAAAg
AElEQVTtQjLvapJwxnZFU1XCrRVHePujN5l332NotFo2LP4EobWK99P7YO2agbqpjumNIplB/mk5
rrM6+WDxe2RcdzsOu436Rf8hLTXVr02E2czDmT1YX1aDW4JfTx2Gy+Xm5YVLseuD0TjbmJiZQna9
h55jpgHy3s0n32ziZzO+u6eQwuVBUQCXkZL8XMqKCkhI6Y7D1kbewb1ExCaQMWAoGq2WouNHaG6o
w2FrY//mNaBS0drcRFJqGrPvesjXz+ev/JWtK75i3Bw5Onj9Vx/jsDsYPmWWb1/gVF4uO1YtYdbP
H0StVnN0zzaMwSb2bV7D/s1raLO2ktF/EDarjSkL5IHM5XTw+p8eZfSM633xA3mH9lFb7h+IpjME
sP2bxYyfewsqlYqD2zZwqiCPFksT/UaOw2G3sXXlVwwcM4luPdvTAqiQyD2wh/R+g/F4PBzetYWK
ojysLc0EBpuoq6rAUnmKlB69uP+ZFwBvtamP/0PN6InUVpSS2iuL8GhZ+Rzbu4OGmkpKC/Nobmnh
+rsfJzBYznW//suPCAgKYvC49k393WuW426sk+8t4Kovo6aukca6GkIjorDU15J3cC9Dp99Gn2Gj
AaguK+HjF57li9f+TlRcIi2WRopyjjB5XrtC1Gi1uDUBSINmkBou++Jv3bEWja7F774FhYSTkCr4
ci+VFRVwRBdGUpCNgVEtWJ1uxLAscq06xsyVbeeWhnqyNyxEnTaWD49l41EF8PSvf8WXBU0MW3C/
93dz8sirT1HtNhI69Gd4XE5OHVhNtTqJgff90Td73/jmXxg98Xo+euEZNBoNA8dOoaGsJ9H3/g6d
XlZKi756g8xEp9+MPwVo+eJLlm5fjsvuYE6PeMqbDLRaGgkyh1JfUUp0WQ7aUDWDq+UC8Hqthlc+
+ZKEybf5Vl0ffvpvUkZM9vWrDzDSLCm++1cSigK4jHRJS6fgSDaHd27CYbeTktGHiuIC9m9ei0ar
QQKMJhONdTXy7NnaSlrvAaz98gPcLhcarZZWSxOFxw8RFhPLqk/eBkCt1RKVkOQXrxCdmISlrpb3
nvs9gSYzDdWy7/0tj/3BtzL4+qM3MYeGs3vdSrQ6HXpDAGFRcb7BH+Tso2s+fw+HrQ19gFy28WTu
UVRqDbUVZegNRkoLRULCIrA2W9i/eQ2SJJHSsw952bvo0XcQKpWKiuIimhvqsdTXsn/zGtwuN7bW
FlS1J/nw+f8lIiaO2ooyQppLfKUvAXL27cRsNrPi/dfRGQK45dGnfLJ1FXqyacln9Bk2mpCYRN/g
D7I5a+PST9FotOgMBpwOO46WJtKFePblHcHlcrBg7BA+35UjB4K5nGi1OgJNob4IZ4DohC4Eh4Qw
7ZZ7fPn4F7/1Msd3rKPHwBG+gjCSRoM5vD0QK6J7JuvXfCN7BOl0WFuaKS8qIMmbwRVkk1NfoTsJ
3QZReuok1YFxNBvCabNaqa0oIzIuAXNYOGVNbQyb9yC97pcV36crP0Z1Rp1mrU5HoyaYgXf9kdRe
ssLdvymD+qLjfgN5SGwilpw93P7E0wCUHtqFI9DoG/wBNNHJWB05BBnaTUOvrN1GmtHCGLPcbkve
IQL6dqX60H48Hjc6fQBxukCgXeFJhw7hjB7kZ3IzxXahIf8QsUmyq3FVUR59Yv1XYN/G3iPH2ZNf
iiR5mNAvnfRuZ8ciK/wYKArgMtJUU8mk+bf7onGXvvMqGq0Oj9uFRquhrdlCS309wnUDSfFGy676
9B3a6qv56IWniYiJp6a8FI1adovsN1IuCnNg63r2b17rG2wkSaKmvAStVkdEXAJarY7wmDjqqyv9
zEJC30HsXLOMBQ//DrVGQ11VBesWfcypglySvGaqo3u2IUmwf/M69AEG7DYbFeUljJ0+j7GzbwTk
mfiSt1/G5XYBKtRqNZUFx3F4JHavXYHOYKCttZVAcwjm8EhaLY1Ikgeh72B2Vpbx80d+j05voLmx
gU/++SesTXXs3fANqFRITgcqlZq59z5KdWkxFaeKiEuS8+cf37eLkIgo2iyNWJvqsNTX+TKUnjh2
kLTEeAaPvxa1RlZWyZpWrBEpTJ0kJxHbt3UVHqed6rJTuBwOtDodEZHh5OzdQX9vAFnZiXxiEpJ8
gz9AUloG+VtWsOKVZzAGBWJzuNDZLdRXlBDuTb9RW3CUcHMon//rb4RFx1BfVUF8TCTZG1fjRg6w
06g1/GzBDWzac4iDHgdJ3YcxYLCs+HavW0mgyUxbawuNdTWERLeb3MxpfcnZtYWeI2UZ7W1t1NTU
+AZ/kIsEfbxzEx63G7VGgyRJlFZXc/fArnz44ctodAYGRWiI6hpHW0szRq/y9DRVEjzBP4XDqcWr
GBPeriQyo4wciuzK4Gvag7VOnTxMw+blPjfUXpwkcEQSTocdnd6AJEkYPXZ+NnEoi7ctB62etMhg
xg4eQvYxkeyCEjR4uGny6HPybh0vPMn6U60kD5FXc19sW819ZhPRkZemPBQuHUUBXEYkl4Nl77xK
dGKSHBVbXMCEubeS1qe/r01RzmHf4A/Qf9QECvdtxRho8iVtKz9ZSF9vemSQc+3vXLuCzcsWEhoZ
SaulibaWFoxBwb58OQe2ric3ezf2tjbfRmCReJSUjD6+WVpETByJKWmIB/bwzUdv4nZ7GD55pqw0
VPJgGBmfiEaSGDZ5pu/7ew0azravv8La2ABqFRqdntAANYmDxtKjT/tsuiT/OAkpaZhCwwDYv3kt
yT37+magptAwknv1Y2p6DNkl9dDWQlZaAo5WgYKj2ZQWiDgdDkIjonDbraT1G0pKzz4c3b6ewRmp
rF/0CWFR0bS1tqCytRLatZvv2iLjEtiw0cK4ce32/JTBY1izfDE3P34z4dFxNNRUsfi1vxGzdyvf
FBei1Rtw7NtKXUiET7kCVJcWE1onEhnZH40+EHf5UdpCItCdzGbv/m1ITgc3jurHjf1v5m8LV2E0
mwhwWfntgpm8smoXg6bPR6VSsXflF3y0Ipf4EdOI0kXQ0zv4A/QaPIJl776K3hhAt67J2NqsvolD
c3kx4ZGR7Fy9DH1AAE67Hcnt9K0aAE7l5xAfn8iudSswBBixt1mJiY1jSWEjgaHhSC47R10mbu8R
xBcr3uRUK+gkB4+O7yub3fYfp9HmZFhqPKawKJpshYQEyNdf1Ginoba6/bmWJEoq5QI5e5tlE1Av
Qrij9SRvrfuItrBE1A4rd04ZQWx0JA9d326W23M4h03ldpIGTsHldPDXj7/iqTvm+q1m9+YUkNx/
iu+425BxbN2/ibmT2/8HFH4cLpsCEARBDbyGXCTIDtwlimLhGZ//CrgTqPG+da8oinmXS56OIKlb
GmPm3+k73rlqGS3VZYCsANwuFy3NFhx2my/dcsWpIlzaAEbNuJ7YpGTyD+/n2N5tNNRU+mzhDTWV
BJnMDBwzkVMFub5NZqFv+xK83zXjObRjMys+eJ3YJLn8YFtrs19C39ORuMHmUO754z9wu5x8+fo/
qSovZcys+QybNIOSAhGnw0bVqSK6etMutFgaaW5sJCg0jPR+g2msrabo2EEqT530KQCP243bYWPF
Wy+gN4XKqRjMelrwz+poqa9j4rCBTDwjGPuDlRuISe3FzDseoLq0mCVvvsCMOx8izmtKyBwxntIN
C+nbxUBhTT0hOi3zpo7go525ftdWV1tLS1MDwSGyAqosPkFc11TffQyLiiG5V1+m7djO3gP/BuQk
Z+tH9efzV/5CVyETS0MtdcV5OAJTCK8twVBTQJnbhN0dSJlDx8BpN2K3tbFm61KevG0ub/3mXp8M
n3+znoHTbvCZZQZeez1fvvpXBnbtRnVpsW8vBKCmrIQxs+ZTUiAS76ylYssSCmuaMOq03DR2EGty
SkgfM8N3be6qIsSDeynOO4bH7cZubSU2Kpze3hTdAPuWfkBL7h4mqgvRqVVsboviPcs1hKQPZ3zf
oVjqqlmTuxNnySmC+kwjODScL/ZtZfa9j/Hm3/5AUG0FTo+KrkOn0hISy47VSzEEBNLW2kJkiLk9
CA04VtTEyAFqHoi0o77u29M67C8sI2mwrBC0Oj3GlExKyytISkzwtQkNCqC6sZ5g74Z9fcUphp1R
gU3hx+NyrgBmA3pRFIcLgjAEeN773mn6A7eKonjgvGf/F6Dy+Pt4u5w2RqXFs2nVl7jREIINQ4CR
nauXERmbQJu1hbaWZnoPuYbYpGQA0voMICYxmWN7dsjmDkmiubEeh62N4rwcevQdREl+LrWV5cQ3
NRLjTQjqcbtxOOzMueeRM4Klvub4/l1sW/kV4TFxnMg5jCTBlAV3olKp0Or0TL/tPl58/F66dJd9
6rt0Fxg14wZWf/4efYaNxhBg5MC2DXTpLpDudcsMjYwmpksKJ/OOsXXFl4RERFNw9ACmAC3de2SQ
MnwyrU31SEXZ7Fi2Bq1WR1xKKoVHD1J07ABNFgsh5nbvIHNsF98qKTqxK6bIGFoaGyCp/dqO5BWS
3CODEdfNpLG6nNxikdamJnavW4k5LJya8lI8eDi4bSMhEZG4nE7sbVY/n38At9V/4xbgwRA7r4aa
0MXFER6kZ0JaNLmecPoMGwVAb+CzF58lffS1AAQYAzGlD+VIbj5ZPdtjEYx6HdWWJoK9K6C21hZc
tjZcTgcxXZLZuXoZoZHReNwutHoDKRm9iU1K4dTaT7Gpjb5ryzmZz4SMRFas+hInGoweG7+8fir/
879/pueE63DZ7ZRtW879f3iKL9YvRhseh7O+gnBXI1mufPRG+d98tLGGxQ2NZPWVc/iYI6LJIQiV
XkuMd7DtNvAatu/+mlff+8zvnjz76Sq6j5ruOy555zl6pYSw93DbuQ/+BVB53H5BbvbmJoKD/FNI
zBg7gpc/W055QAQel4uuBgeDhk08X3cKP5DLqQBGAKsARFHcLQjCwLM+HwA8KQhCLLBSFMXnLqMs
HcKEzGS++fJDeg8dRWXJSaS6UuzOaExhURjDo2k9cQS308GoGddjs7ai0xsoPZFHUc5hv34CTSG4
nA5CvJuO9dWVGINNPs+VtD79KTuRx8nco6jVKoJDwsjZt5MgnYrl773GsMmzqK0o5ciOjSRnZDF8
ymxs1lYyBgzj5d/cj+TxoPKuHFxOJ21W/7qxHreb7r37o9MHYHc46NazD5bqcr82bpeTtOhQDJHR
GIxBBAcF0iMpgq6T5nlzzJspsbYSE38Uc0goFScL0Wp1zH/wSV5ed4S+ERpmjJYHptPbiA6bDX1A
ALZmC8V5OXIdgNBwcvbtpLqhianj5NmuMaUH+XXVuJz5BJlDCTKH0VhXi9rlZPiUWTgcdtRqNTZr
K7aiI+xas5y0PgMoOHKApELZtVaSJE6nwgs3aHkqTU/jiO6EhvQnr7CInANnXe9ZA5nH5UR7+h66
XGi1WvYdy6Uqt5oefQagUqsRD+xB62xl4+JPSe8/hECTmdqjO+kxZjopvfr75DhV08jIBTf5rq2g
vpbw2nqMIaFERiXSfDKHl5//K7eFluLa8zJqFWQGuln99TL++NDDNFmaCTEPYOeu3eQeXeSTWQLM
QUa/65A8blRqFZIktVeGkyTOZmT3WLbu3kRYUhr1ufuZHi23OV0U5nRlsIulaL5h3DBeWvwlkb2H
0FpXQ4q2jfAw/6hylUrFwzfNpLXVikaj+VFqcyicn8tZU80MWM44dnvNQqf5FLgXGAeMFARh2mWU
pUMorG5ErdFQdPwIjTVVOLUB7CxrpceQ0XRJy6DHxHkEGAys/vQd9IYAWiyNbF72OWVFBRQeO4zH
4+HQjk1UFOUzauYN6AwGdAYDo2Zc77e5C/JyWm8IQAJaLU2oNRo0Gi3Olka2f7OY4/t2MmFAL4LM
Iag1GgJNZq//v4ul776K02HH2mxh5QevExAYRN6hfUiSRN6hfVQWF5IUCOHR0cQkJBKhlxiTnsjO
1cvkdMmFeVjLCvjHo3czu1sw3Z2lvHjvPCLDI/y8UgzGQAICTQydMovQiCim3XoPXYWepA0Zzb6K
VpzeJGVRqlYWv/UyB7ZvYPWn7+BsqsXtcqNSq7E2W9BotQScFVWq1huor6mmtDCPnP07qSopxu12
k7NmIRqNBpfDQfXuNXRN70VqZl/yDu4luWcmupRe7NTaqeqpp6F3AGsMdprsTv6S18Yr6w7xzKer
qWqwyAF55SV43G62rvwKs9rF8fWLcTmdNDfU4io6iKRS8b8fLOeZRdt4+v0l1Dc1yxG1ajWSx8Oo
mTcQHJPIxBtuo0v3dIZNmkFKr34YaopoqqvG7XJxfMNSuiXE+v+2xkC2FVQgDJtAYvd0MibMwRIY
jUYFAVo1eo0ao05Da0sLKpWK0BD5tx06ZDA1sQNocXhwuiUOeuKYP3EU+bs24HG7qSkpIjXQg7Oi
kB3fLOHQjk18/d6rXNOz2znP8phBfbl/TC+G6Gt5ZNY19I32LwYTNiAZVVYWqtQLVwcLDwvhd7dM
Y4SxkZt7R3PLtG+36wcFBSqD/2Xmcq4ALIDpjGO1KIpnlhR6SRRFC4AgCCuBfsDKb+ssLCwQrVae
YUVFmb6t2XmRqi+e/+RykF9Ww9hbfuHb4Fry9isYXS52rV2BTm/wVvEyU3Iijy0rFmKzWrE1N5GQ
mo7eoOfA1vV0SUsnJDKa5e++yqw7H/T28zIOm43SQpHEVEH2jS/Ko62lBbfbSWhkDDqdnsbmFu56
5A++PDcbl3xGRf5R3E4nRm8RGZfDgUaj4aMXnkWr0WIMDCQiKobt3yxm87KFaLRaYhO68Nvb5rBq
6y7sDidTFkzjjaVraW5sYNm7r6LV6YmIiEGSJAb168OgfvKm9qgsgTfXLWfAhBk4HXZO7FhDkCmY
HauX4nG52LFqCQNGTyIgMAh9kBlrWxshOh3lbRKz73zQpzwW1lVTX11Ba1MjLpcLySPRWFvjC3Kz
WVvJ3rqerkIvJsyT/ek9Hg/L3nqBJxdMY/X2bei1Gm67fQ5/X7SJqPguvmRzxwOCCMsIYnSMPJO1
JLp4+lQLg5971Pe7LV/2EaOvnc3WlV9hqatj+JSZ9IoK4ubxQ1i7YxPRwUbuuvU6/u/TbxDGt+f1
afz832x956+MvvtJVCoVW9/+G9GR/oO7pNXzqxumsGHnXhrKW/nVzFGUVFazMns7Kf1HyEWDSnMx
R/rbwHv07s/HXx+n6+BxeFxOTu7ZwFvPPuTXRq1W8+s//YXVq1dja7Py+OSpBAUFkpxYw9bsdQyM
jWbg1DE8u3AjI7zmLNew0ew6sIY+GWnnPM8R4WFEhMvmLKnPEKRDh/xqAl9qgRa9Xk//zJ6X1Fbh
/OPddx0Dv43LqQC2AzOAhYIgDAV8dg1BEEKAw4Ig9ASsyKuAty/UWUODXO4vKspETU3zdxIk8uJN
LgsetYb9m1aj1mhw2GwYg01YLRYmXC8PUq3NFrI3r2HBo38gzDuj37FqKfbmRrp0T/dt7oaER5E+
YKjP5z69/1C2rVxEXVUlVaXFaLU6HDY7U266k4riQjxuF2l9BlB+QvRVg3I6HJhCw2mqq2HkNDlk
3+mwU5KfS79rxnNg63okycPIa+fwwT/+l188+xIqlWwaWPjq39BoNEwbM8J3bceLKxg7/y6fR8+6
he+TX1TMir05SFoDsUYVQQF6whOSvIFYKkLiUyg+lM0kb2EVj8fDrrXLGTzuWjw1xYSY5TQWelO4
38rBYXcwevaNZG9Zh0qtokffQVSdTCQ0Kob9m9eg1miJTEwh4IzKamq1mlCzicBAI9dNHO17P1Lr
osW7wdjaWE9b7j56hrf7wJuNWpxtaj+vFFNUArbSPGbf8Us0Wi3l+TmkR0KI2cS8Ke0zWI/2rFWJ
IZDRNV9w5M9HARUj1dUc0kygvrKM8NgEbG1WTC551j5+eHuGwrBQMzqdlj3ZqwjUafifn13H858s
8zkL1JQWYXC1MeKR54n2boxH9rmGmsZGQkP9I63VajVTp/pnvI2PiWL+VHmjtqa2DkNoezyDVqfD
iX9k8LehympPRfFD6gIrXJizx7vvOgZeSFlcTgWwGJgoCMJ27/EdgiDcBASLovimIAi/ATYiewit
E0Vx1WWUpUOw1NcyfOZNBJlDkCSJT176P4aMb/9nDDKZCYmI8g3+INvzt372hi8QrK2lmaqSk1x/
/+N+fa/94gPKTuSh1mpwtLXhctjZsvRTVBodAYGB5B/aT0t9FWPn3kp4tDzrXP7B64RGRLH0nX9h
DDYheSTCYmJpa21h5h0PALICSkpLJ3vLOu83SUTEJXA2JrPZL6AoJDyKt9ftpd802XbdUF1B9sal
DJp/HykZcpvaijKiattXY2q1mobqKuwH1/DrBTPaO2+upbXZQpDJjMftJsio4/j+ncy8Q46ELSkQ
sTbVk5KeSUp6JgCFxw5iKTiIx+NBrVZjqa9lZPq5wUN3zJzAb196B6tKT0BFPr8KcfJGTgsDe8gz
2cJKK0kBkezbsAqVRo3T4SDY0cTvbp3Fx6tW41JpGJAQyehB/c7pO8DR4vvdbNZWoo0aKtvUDA+V
r7mwEe6YN5PnPnofl8GEw1LPm7//5Tn9AGSkJpORmuw7/tWN0/n4m400elSkRZqpio7CkNRuqknM
6MthcRNpyUnn7e/biIwIx161BUkaKBeNrywjIcR40fNUqVlIh3f7mYEuZv5RuPK4bApAFEUJ+MVZ
b+ed8fmnyPsA/7UkdmkPKFKpVHTLyKTpVD54yz82N9Zja7ZQW1lOZGw8AOKBvUwd3JMV//4LGqOJ
QJy0NtZTcPSgL41wwZED1NdUUnDsEGERUTTUVuNyuAiPiSchpTtqjRq308WJYwd8gz9Aer/BbFn+
Jbc/8TQarZaa8lIWvvo3NlV/RvaWdTgdDjwOG5JGS8aAoQQGm7C2NLPwtX9wNulx4X4xBq7aUsxC
e3xDWHQcNc1WGqrKCYuRr62+KIeWxgbf5qnb5cLa3MSds3/u1/eLj93N4y+8jdtoxtncyD1TR7Ki
qJWVH72JIUB2l83MEGhuqMcU5k21XH6CX82dzDPv/gtJG0CcScfv77nlHLnfWLya9Gk3ExhsxmZt
ZdHrv6N7sZtVtTVoNSp6tKhInGDGmJZOdJdk3C4X4urPMBoDuOu6yef0dya/nDuZd1d8jUNjwKxx
8+jIHhxoGsKWVRtQAcMmjuGNhSsYesPdhEZE4XTYeeTl13j3qQcv2C+ATqfj9pntnjA7Dhxhb1Ee
Md6qZKU5+5nfu8e3nf6tqFQq7p8+is83LkfSGkgw6Zg9cdSlnXuGyUepz3t1ogSCXUZSo8y+yEyA
QMnBLWP7sXLLciSdngiNi36ZGRSLxygWj+J2uTCFh7Nq9ybG3/YQ5rBwyotPcDhXZM/6rznh9Q6q
LismPCqGefc9SnzXblga6vnkpT8TaDLRf9QENFotR3dvo9nS6EvpAFB5stCXhwjk2r7pvfsQGhFF
/4mz8Hg87FnyIXVWu88/PTDYRGzXFKxWK8+8/iEOl4uHbprN7TPG88biNVRiQOW0Mb53MmtOnkLo
Kzt7Oew27HYHqoLd7N1nB5eT+SOyEHOOsXPNMm+wUhtB+nP9ELRaLS/+ut2fvq6+ge3VOQy+RTYd
WZubCCzaw9H1Czlysgyt5OFPv7iFT9btYOCcOzAGmagoOM6aHfuYPGKQX99NkoFkb0K6gMAgypN6
0ke1i6oqFyCRaTJyMCKZmC7JgJz3RxORiM1mv+iGpNEYwP3XX+s7lgoP0b+pjhS9PAkIa2ng44he
WJstFB49QEhEFOb4lIs8RedneL/eVK3fRv6OE0iShyHJUaR0OXeldilERYTRWl9DraWVAeMuvTre
6VXA6dcKVx+KAriM3DF9HK8sWoxdb0KytSKEaGlubuHXN07x2bhf/OgrIoaN8plTjuzcQlT3TMze
mW18124k9ehFspBJxakiADL6DaG2soz4rrIJwBwWTmxSClnDRvsG98whI9m7fgXrPniV4LiuOKwt
DEoM5WBNu4unJElY6usYd6OcwVKtVtN3yjw+efFZv+tobazn7r++yeTbHkCr0/P0F+/x5JyxfoNd
fUMji7KXsGvNcnQGA9aWZoL1WipdOgZeOxubtYV121dw24RBfLHzOKqwSFqqy/n9LbM5HzW19RzI
zaNH1y4kd0lgeLyR7ZvlSm6hUisxMeFYQxK46fF7sTTU8/wnb5Oc2Y/4IFlxxXXPIHf3as6es6tc
Dv83LA3nfLequdHPxdPd1ozBcPE0ymdzenA8HTA1cgDUnCwgtkcmA0ZPoqq0mINb112oiwty3fiR
F290Cdzz538xaPbPSAmPZOmm1dTUb+a6SaMvfiLKzP9qR1EAl5GgoEB+c+tsHA4Hf/lwKba08WS7
nGx8/yv+52dz5I1GlYbt3ywhMNiE2+XC6bDT1mLx68fjdFBfU8XwKXI6hv2b12KzWv3aSB6JpoY6
38zV43ZjtzlISe1Ol0FjaKoqJ6D5FL3CXWxbsZCI+CSKj+5ncGqcL38LQGtTAxEhJnauXkZEbAJ1
lWU0VZUz98EnfdHKE+bfwUsfvczLv3nA9/3hYaGkRxqocLsJDDZRVZhLVkoCCaPl4CFjkAljj0Ek
RLp46/HbL3jf9h3N5ZvcKhIyB3HgqEhmUQnTRg1lfHsNcn75/DuMvPEeQFaASf1HYm+o8u/IfW7t
2xmD0vli41IMEQnYCg8zx5JP41ltBtkq+M/7r5GSNYjayjJiPBa/TelLQSo8hHToEA1n5Otv2H+S
tAEpdM+U9w9iEruS1PX7rQB+LErLK4gS+hHirW08YMxk1n/x1iUrAIWrG0UB/AQs3rCNbuPm+AZZ
XcAk1m7fw+RrhnK8qARVeDwRsfFYmy3UlJfRVF3B0d3bSOiWxomcwxi1KkZOm+PLDTPy2jm88+wT
bFu5iF6DR3BSPEZ5UT6mkFB0Oh3msEgO79qCzmAgY7w8ww42h5K3t5aHpw1Gp2MkRSUAAA9kSURB
VNVSUl5B2rS7cLlc/N8HXxGRNRKnrQ11yTFSe6TTc9w0WiyNdM/sS96+bUhSuwevJElU1Z07c/7N
nTdhsTRTVVNL6vT7eGfZOr+ZtORxX9JAuinnJGkjZMXRtc8g9m9ZyblBImcFK0keko1uThzcRVhC
MlXH9nLziMxzzurZPYWnUpKob2gk1LoLda2GbWe12WNOZvJt99Pc2EBqZj/ydq7H7Xaj0Vyadwz4
z/5P58uhCMKG+pu8QoLPLe34U6JWq5HOCvySPJ5vaX0uiunn6uZyBoIpeHE4XT5ffJBtz1ZvAe/q
2npGXjuH1F596T10FDGJXYiNT6BLd4H66goy+g8hJj7BN/sGOa/6pGH9sVnq+ejFP1OSe4TpIwbQ
Zm1BkqCxvgatVoc52L9Iuc4QiN3uIDAwEKF7Kmq1Gr1ez1N3zGVYQCNTYuDhm2bQUFNFcV4OptBw
TuUfJzQigtWfvYvN2orb5eLrj99kSK/zbziazSbSUlNQq9VMH96f3I3L8LjdtDY14Co6REbauUFG
Z6NS+89LJPW585Q5w7PY8fUiPB4PDTVVVB7by73zZ3Fb/y709ZTx+OxRpCV3OW//Go2GqMgINOpv
efx1elQqFeawcLQ6HRqdHvdZpRu/LwPr8yjevRFJkqg+mU96+Hc3Lf2YxMfG0FR4hLqqCiRJYvfa
ZUwbKFz8RIX/CpQVwE/A5GED+dc3y8gYO1OOrt24lN/Ml7MdRsfG+LJOAkTGJVKxfyMet5vUXn0p
ycuhT1wIuesXkzFB9t8/vm4Rj910HVV1DezPSKBHUgIFRcUYs8ZSU1aC3dZGv1Hj2VJWyMmDu0ju
OxRbmxWqCoiKPHfGptFoGNi7PTCnS3I3dIYAsresJbZLCpmZfWhpqGPtwg/xuN0kRIVzw5SLmwhi
oyN5ePpI1u5aR1ygkZ/fet0lrQB6RAZReEIktpuApbaKWK3jnDZjhvRn+2GRbUs+RnLYuO862UMm
IS6GhB+YOCyr8ST7Du0iMWso1uZGTPZ69JdQSvFMVGcESp3Ol9MrJYQwk4bYyDayD61iWJcEBo3o
eFPLv598gJfe/Yzs2jpunTqO/pkZPPL313GbY3DZbWTFBHLf/FkX70jhqkNRAD8B0ZHh3D95CKt2
rQIkHp83kaAgrzknIxkxew9C/8FIksSBTavoktSN8uITnDh+hJDwSJrsbh6aOZoV21YhSRKPzBpD
gEHPy198jdoUzqbDBfxq7iT+vvgbJt58DyqVitzs3UwelElWWhh796/CqFPzxCUOwGFqB9rISBK6
pWFtbsRRncvDt87gqw07kFAxfmBvEmOjL9oPyKH/p4OOLpUZY4axPfsw+dmriTcFMm3OlHPafLZq
E/GjZpPmdbP9bNVCMrunfOeB+nxcY9YQVLyRo65GQow67lhwaYNfeWUVzz7+C4yuVhyaQP46cyJh
wKAzsmaqsrLokRCDcIWZTh6+40bf67+8+TE9Jsz1ZU3dt2kV+YVFpKV27H6Fwo+PogB+ImKjI/38
uE9z66wpvL1oJTsWvo3T3sZT86fx0Z48hEHDfW1Kd1UTGR7qd/79f3mNIdffjcFoxOPx8PcPXuW3
N17LCx+/htYQQN8ukdw8V7acZ/ZIPed7L8Q9c6bwxerN1NtchBk03DFH9lq6bcZPl5FxRP8+jOj/
7Z9vOpTHuKxJvuOQLj04VVpG924/ziA1IDaEQTO/W+3aP/7ydqbFS2jUauwuK08sWc1LQqIvXULY
gGRUfYZc8XbzymY7KWcUpEnt1Y/NezcrCuC/EEUBXAHcOcd/i1O7Ndv32u1yYXDbzjlHGxrtC8JS
q9WYYhJJS+3Ka/9z7zltvysqlYr5U8b84H4AxKJTbD+Sh1bl4YaJ51Z/+r40NTfTYmkk2Cxnkiw7
kUelOeFHUwDfh1CpFY1a3tQ1aNUYnM1XZbqEuJAAv2IzBYf3c/81A85pV1vfyLKtcjbVa4f1Jza6
o5KuKHxfFAVwBXL75OF8vH4JHp0Rg8vKfbPPnXnbmur8PGzazuPP3tEcLzzJosNlpA6egsvp5LmP
v+T3t12HVvvDH7uYkCAO79iMwWjE6XDQammip9CxFaOsUvtejiRJtGllM9/Vli7hN3cu4LHn30AM
isBltzEgIYTUFP+0Gk2WZl5ettm3L/Xa6mU8eO1woiLCOkJkhe+JogCuQBJionhiwfQLtnl03iT+
+sFrmGMTsTbWMXfgudkbO5rtRwtIHSzb77U6HWGZwziaV0Dfnuk/uO/nHrydB55/G1V8CnZrK0OT
w8/JK/9TM/u+J1j82nMEa1w0SQE8/OcXUentSIcOAVdX0NTzj91zwc9X79iLMHaWbwKSMXYma3et
ZsG072Y2U+hYFAVwlZLePYV3n7zXl/zsSkQluf3ks7VYMMUEX+SsSyMwMJB3n3rwirr+iZMmM3HS
ZD+ZpMJDV43p57sQZDBQ2dZCkElWug6bjeAfYWWn8NNyZfzndELODr75vlwpg9/5uH78CHLXfklj
bTVlBbmYG06S+h2zVV6MK/H6z5RJlZolb/xeBZu/34Wpo4dRvWsVNWXF1FaUUrJlCbN+pNQUCj8d
isr+idmy/zAbc8uQtHqCnM08Mn8aujPiAP6bMJuC+d3N09h7JIewODO9Rl978ZMUrgrUajW/uW0u
+48cx+12M+j2uVekMla4MIoC+Amx2exsyKsmfYyc+95ht/HR1xu4Y9aki5x59WIwGBg58Nzc+Z2J
/6aZ/5moVCoG9lEqe13NKCr7J6SuoYHA6Hjfsd4QQJtH+QkUFBQ6BmX0+QmJjY6itTTfd9xQVU5C
WGAHSqSgoNCZUUxAPyEajYafTxjMom3L5OpLQRpm/UgBVwoKCgrfFUUB/MR0TYjjV/PjLt5QQUFB
4TKjmIAUFBQUOimKAlBQUFDopCgKQEFBQaGToigABQUFhU6KogAUFBQUOimKAlBQUFDopCgKQEFB
QaGToigABQUFhU6K6sdKS3y5qalplgCiokzU1DR3tDjfGUXun46rUWZQ5P6p6SxyR0WZVN/2mbIC
UFBQUOikKApAQUFBoZOiKAAFBQWFToqiABQUFBQ6KYoCUFBQUOikKApAQUFBoZOiKAAFBQWFToqi
ABQUFBQ6KYoCUFBQUOikXDWRwAoKCgoKPy7KCkBBQUGhk6IoAAUFBYVOiqIAFBQUFDopigJQUFBQ
6KQoCkBBQUGhk6IoAAUFBYVOirajBbgUBEFQA28BPQAPcLcoimLHSnVxBEHQI8vdHXACD4mieKhj
pbowgiAMAZ4TRXGsIAjdgfeQ7/lR4AFRFK9Yv+EzZfceXwfME0Xx5o6V7Pycda/7Ai8DbsAO/EwU
xeoOFfBbOEvunsAb3o/ygbtEUXR3nHTfztnPh/e9BcAvRVEc3nGSXZiz7nc/YDnyvQb4tyiKX3zf
vq+WFcAkIEgUxZHA08CfO1ieS+VuwOp9uO4G3ulgeS6IIAhPAG8CBu9b/wSeFEVxFKACZnWUbBfj
bNkFQXgJ+D9kua84znOvX0QeiMYCi4D/6SjZLsR55P4z8Bvv/ybAjA4R7CKcR268g+nPO0yoS+A8
cg8A/imK4ljv3/ce/OHqUQBtQIggCCogBHB0sDyXSk9gFYAoinlAgiAI5o4V6YIUAHNoHzT7i6K4
xfv6G2BCh0h1aZwt+3bgF1yhCoBz5b1RFMXD3tc65Gf+SuRsueeKorjNu9qNBRo7TLIL4ye3IAgR
yMrrEa7cZwTOvd8DgGmCIGwWBOEtQRCCf0jnV4sC2A4EALnAf4BXOlacS+YgMB1AEIShQBQQ1KES
XQBRFBcBrjPeOvMfowVZ+V6RnC37D50ZXW7OI28lgCAIw4EHgBc6SLQLch65PYIgJCGbCCOAw992
bkdyptxek/LbwKPIz/UVy3n+J3cDj4uiOBo4Afzxh/R/tSiAJ4DtoigKQF/gfe+M40rnHcAiCMJW
YDaQB9R3rEjfCc8Zr01cubO7/woEQZgP/Bu4VhTFuo6W51IRRfGUKIo9kCdn/+xoeS6BAcj7cv8G
PgV6CoJwNcgNsFgUxQPe10uAfj+ks6tFAQQBFu/rBuQlsqbjxLlkBgMbRFG8BvgSqBBF0d7BMn0X
DgiCMNr7eiqw5UKNFb4/giDcgjzzHyOK4skOFueSEQRhmddZAOTZ9BW5AXwmoijuFUUx07vfciOQ
I4riox0t1yWyShCEQd7X44F9P6Szq8ILCPg78K53Jq0DfiuK4pVqIz0TEfhcEIQnARvyRvDVwGlP
n8eAN72rrRxkJXalI531+or1WvIieU0SLwHFwCJBEAA2i6L4p44U7CKcvq9/Ad4TBMEBtAJ3dZxI
l8TZz4PqPO9diZyW8T7gVUEQnEAFcM8P6VTJBqqgoKDQSblaTEAKCgoKCj8yigJQUFBQ6KQoCkBB
QUGhk6IoAAUFBYVOiqIAFBQUFDopigJQUFBQ6KRcLXEACgo/GEEQkpGjsY+d9dF0URTLvmNfKcDv
RFG8LH7v3pxRO5Cjgk9dju9QUFAUgEJno0wUxR8UPu+lK5D6I/RzDt70v28ipytQULhsKApAQQEQ
BCEGeB3ogpwD6beiKK4XBCEBOXFYCBAHfCqK4m+Rc/enCILwCnKE9J/OqEPwHrAR2ASsBmqQs3tO
Af4BjEZOZfKeKIovnkecu4D7gQ8vy8UqKHhR9gAUOhvxgiAcOOPvMe/7LwHviKI4ELnuwX+8qXZv
BD4WRXEYkAXcLwhCOPAgsE8UxQc5N53w6RQUKuQiRjeLojgJOWxfEkVxADAEmC0IwsizzkUUxbtF
Udz2Y1+4gsLZKCsAhc5G+beYgCYAgiAIT3uPtUA3URSfFwRhrFdR9Ab0yMkJLzWHfPUZNvwJQJYg
COO8x0FAJqAM9godgqIAFBRk1MBYURQbAbymnwpBEJ4HUoCPkdPvjuf8M/4z39Od8frMpIVq4Nei
KC7xfkcU0PxjXoSCwndBMQEpKMhsQE7HjCAIvYBDQCDyrP3voih+BSQBCcj2exftE6haoJsgCAav
eeiaC3zHPYIgaL3mpa3IKcMVFDoERQEodDa+Lf3tg8BQQRAOIRcJuVkUxRbkdMcfCoKwA1iAPIin
IKfHDhUE4X1RFI8BK5HdS7+gvW7C2emoX0cu5n0A2Au8fUbJTQWFnxwlHbSCgoJCJ0VZASgoKCh0
UhQFoKCgoNBJURSAgoKCQidFUQAKCgoKnRRFASgoKCh0UhQFoKCgoNBJURSAgoKCQidFUQAKCgoK
nZT/ByBeMwagfxkMAAAAAElFTkSuQmCC
"
>
</div>

</div>

<div class="output_area">

<div class="prompt"></div>




<div class="output_png output_subarea ">
<img src="data:image/png;base64,iVBORw0KGgoAAAANSUhEUgAAAYAAAAEZCAYAAACervI0AAAABHNCSVQICAgIfAhkiAAAAAlwSFlz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=
"
>
</div>

</div>

<div class="output_area">

<div class="prompt"></div>




<div class="output_png output_subarea ">
<img src="data:image/png;base64,iVBORw0KGgoAAAANSUhEUgAAAYAAAAEZCAYAAACervI0AAAABHNCSVQICAgIfAhkiAAAAAlwSFlz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"
>
</div>

</div>

</div>
</div>

</div>
<div class="cell border-box-sizing text_cell rendered"><div class="prompt input_prompt">
</div>
<div class="inner_cell">
<div class="text_cell_render border-box-sizing rendered_html">
<p><strong>(c)</strong> Recall from the lecture that there is a tradeoff between the bias and the variance of a classifier. We want to choose a model that generalizes well to unseen data. With a <strong>high-variance</strong> classifier we run the risk of <strong>overfitting</strong> to noisy or unrepresentative training data. In contrast, classifier with a <strong>high bias</strong> typically produce simpler models that tend to <strong>underfit</strong> the training data, failing to capture important regularities.</p>
<p>Discuss the differences in the above decision surfaces in terms of their <strong>complexity</strong> and  <strong>sensitivity</strong> to the training data. How do these properties relate to <strong>bias</strong> and <strong>variance</strong>?</p>

</div>
</div>
</div>
<div class="cell border-box-sizing text_cell rendered"><div class="prompt input_prompt">
</div>
<div class="inner_cell">
<div class="text_cell_render border-box-sizing rendered_html">
<p><strong>Your answer here.</strong></p>
<p>Solution: The decision surfaces for the decision tree and random forest are very complex (wiggly contours with complex shapes). The decision tree is by far the most sensitive, showing only extreme classification probabilities that are heavily influenced by single points (see red stripes that seem to be drawn just to encapsulate observed "red" points). The random forest shows lower sensitivity, with isolated points having much less extreme classification probabilities.  The SVM is the least sensitive, since it has a very smooth decision boundary.</p>
<p>The complexity of the classifier corresponds to lower bias, since it can be more "true" to the training data, but this also makes the classifier more sensitive to random variations in the data, and thus increases variance.</p>

</div>
</div>
</div>
<div class="cell border-box-sizing text_cell rendered"><div class="prompt input_prompt">
</div>
<div class="inner_cell">
<div class="text_cell_render border-box-sizing rendered_html">
<p><strong>(d)</strong> The <a href='http://scikit-learn.org/stable/modules/generated/sklearn.svm.SVC.html#sklearn.svm.SVC'> SVM</a> implementation of sklearn has an <strong>optional parameter</strong> <code>class_weight</code>. This parameter is set to <code>None</code> per default, but it also provides an <code>auto</code> mode, which uses the values of the labels Y to <strong>automatically adjust weights</strong> inversely proportional to class frequencies. As done in sub-problem 4(b), <strong>draw the decision boundaries</strong> for two SVM classifiers. <strong>Use <code>C=1.0</code>, and <code>gamma=1.0</code></strong> for <strong>both</strong> models, but for the first SVM set <code>class_weigth</code> to <strong><code>None</code></strong>, and for the second SVM set <code>class_weigth</code> to <strong><code>'auto'</code></strong>. (Hint: <code>None</code> is a keyword in Python, whereas the <code>'auto'</code> is a String and needs the quotation marks.)</p>

</div>
</div>
</div>
<div class="cell border-box-sizing code_cell rendered">
<div class="input">
<div class="prompt input_prompt">In&nbsp;[13]:</div>
<div class="inner_cell">
    <div class="input_area">
<div class=" highlight hl-ipython3"><pre><span></span><span class="c1">## Your Code here</span>

<span class="n">classifiers</span> <span class="o">=</span> <span class="p">[</span><span class="n">sklearn</span><span class="o">.</span><span class="n">svm</span><span class="o">.</span><span class="n">SVC</span><span class="p">(</span><span class="n">C</span><span class="o">=</span><span class="mf">1.0</span><span class="p">,</span> <span class="n">gamma</span><span class="o">=</span><span class="mf">1.0</span><span class="p">,</span> <span class="n">class_weight</span><span class="o">=</span><span class="kc">None</span><span class="p">),</span>
               <span class="n">sklearn</span><span class="o">.</span><span class="n">svm</span><span class="o">.</span><span class="n">SVC</span><span class="p">(</span><span class="n">C</span><span class="o">=</span><span class="mf">1.0</span><span class="p">,</span> <span class="n">gamma</span><span class="o">=</span><span class="mf">1.0</span><span class="p">,</span> <span class="n">class_weight</span><span class="o">=</span><span class="s1">&#39;auto&#39;</span><span class="p">)]</span>
 
<span class="n">titleClassifer</span> <span class="o">=</span> <span class="p">[</span><span class="s1">&#39;No Weighting&#39;</span><span class="p">,</span> <span class="s1">&#39;Weights classes inverse to class frequencies&#39;</span><span class="p">]</span>

<span class="k">for</span> <span class="n">c</span> <span class="ow">in</span> <span class="n">xrange</span><span class="p">(</span><span class="mi">2</span><span class="p">):</span>
    <span class="n">plt</span><span class="o">.</span><span class="n">title</span><span class="p">(</span><span class="n">titleClassifer</span><span class="p">[</span><span class="n">c</span><span class="p">])</span>
    <span class="n">plt</span><span class="o">.</span><span class="n">xlabel</span><span class="p">(</span><span class="s1">&#39;Feature 1&#39;</span><span class="p">)</span>
    <span class="n">plt</span><span class="o">.</span><span class="n">ylabel</span><span class="p">(</span><span class="s1">&#39;Feature 2&#39;</span><span class="p">)</span>
    <span class="n">plot_decision_surface</span><span class="p">(</span><span class="n">classifiers</span><span class="p">[</span><span class="n">c</span><span class="p">],</span> <span class="n">X_imp</span><span class="p">,</span> <span class="n">Y</span><span class="p">)</span>
</pre></div>

</div>
</div>
</div>

<div class="output_wrapper">
<div class="output">


<div class="output_area">

<div class="prompt"></div>




<div class="output_png output_subarea ">
<img src="data:image/png;base64,iVBORw0KGgoAAAANSUhEUgAAAYAAAAEZCAYAAACervI0AAAABHNCSVQICAgIfAhkiAAAAAlwSFlz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"
>
</div>

</div>

<div class="output_area">

<div class="prompt"></div>




<div class="output_png output_subarea ">
<img src="data:image/png;base64,iVBORw0KGgoAAAANSUhEUgAAAYAAAAEZCAYAAACervI0AAAABHNCSVQICAgIfAhkiAAAAAlwSFlz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"
>
</div>

</div>

</div>
</div>

</div>
<div class="cell border-box-sizing text_cell rendered"><div class="prompt input_prompt">
</div>
<div class="inner_cell">
<div class="text_cell_render border-box-sizing rendered_html">
<p><strong>(e)</strong> Discuss the difference in the decision boundary with respect to <strong>precision</strong>, <strong>recall</strong>, and <strong>overall performance</strong>. How could the performance be improved?</p>

</div>
</div>
</div>
<div class="cell border-box-sizing text_cell rendered"><div class="prompt input_prompt">
</div>
<div class="inner_cell">
<div class="text_cell_render border-box-sizing rendered_html">
<p><strong>Your answer here</strong>
The first SVM with equal class weights only classifies a small subset of the positive training points correctly, but it only produces very few false positive predictions on the training set. Thus, it has higher precision, but lower recall than the second SVM with the auto weighting option. The overall performance of the SVMs seems to be quite poor, with a lot of misclassified data points for both models. To improve the performance we would have to actually tune the parameters (<code>C</code>, <code>kernel</code>, <code>kernel parameter</code>, <code>class_weight</code>).</p>

</div>
</div>
</div>
 


    </div>
  </div>

  </div>


  
    <footer class="footer hidden-print">
      <div class="container">
        <div class="col-md-4">
          <p>
            This website does not host notebooks, it only renders notebooks
            available on other websites.
          </p>
        </div>

        <div class="col-md-4">
          <p>
            Delivered by <a href="http://www.fastly.com/">Fastly</a>,
            Rendered by <a href="https://developer.rackspace.com/?nbviewer=awesome">Rackspace</a>
          </p>
          <p>
            nbviewer GitHub <a href="https://github.com/jupyter/nbviewer">repository</a>.
          </p>
        </div>

        <div class="col-md-4">
          
  
            
              <p>
                nbviewer version:
                <a href="https://github.com/jupyter/nbviewer/commit/5ac2643d687f4e78c5b8a4d50ead8255b2c65bb1">
                  5ac2643
                </a>
              </p>
            
          
  
  <p>
    nbconvert version: <a href="https://github.com/jupyter/nbconvert/releases/tag/5.2.1">
      5.2.1
    </a>
  </p>
  

          
  
  
  <p>
    Rendered
    <span class='date' data-date='Wed, 09 Aug 2017 09:03:27 UTC' title='Wed, 09 Aug 2017 09:03:27 UTC'>(Wed, 09 Aug 2017 09:03:27 UTC)</span>
  </p>
  

        </div>
      </div>
    </footer>
  

  <script src="https://unpkg.com/jupyter-js-widgets@2.0.*/dist/embed.js"></script>
  <script src="/static/components/bootstrap/js/bootstrap.min.js?v=5869c96cc8f19086aee625d670d741f9"></script>
  <script src="/static/components/headroom.js/dist/headroom.min.js?v=b0a311ea668f8e768ea375f4a7abb81c"></script>
  <script src="/static/components/headroom.js/dist/jQuery.headroom.min.js?v=f3a1bae118315d0c234afc74dc6aab71"></script>

  
  
  <script>
    $(function(){ $("#menubar").headroom({
      tolerance: 5,
      offset: 205,
      classes: {
        initial: "animated",
        pinned: "slideInDown",
        unpinned: "slideOutUp"
      }
    })});
  </script>


  
  <script>
    (function(i,s,o,g,r,a,m){i['GoogleAnalyticsObject']=r;i[r]=i[r]||function(){
      (i[r].q=i[r].q||[]).push(arguments)},i[r].l=1*new Date();a=s.createElement(o),
      m=s.getElementsByTagName(o)[0];a.async=1;a.src=g;m.parentNode.insertBefore(a,m)
    })(window,document,'script','https://www.google-analytics.com/analytics.js','ga');
    ga('create', 'UA-52617120-5', 'auto');
    ga('send', 'pageview');
  </script>
  
  <script>
    require({
        paths: {
          moment: "/static/components/moment/min/moment.min.js?v=89f87298ad94aa1e6b92f42eb66da043"
        }
      }, ["moment"], function(moment){
      var date = $("footer .date"),
        m = moment(new Date(date.data('date'))),
        update = function(){ date.text(m.fromNow()); };
      setInterval(update, 61*1000);
      update();
      var w = $(window).scroll(function(event){
        $("body").toggleClass("scrolled", w.scrollTop() > 0);
      });
    });
  </script>
  <!--NEW RELIC Stop Perf Measurement-->
  
  <!--NEW RELIC End-->
</body>
</html>