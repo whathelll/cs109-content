








<!DOCTYPE html>
<html lang="en">

<head>
  <meta charset="utf-8">
  <title>Jupyter Notebook Viewer</title>
  <meta name="viewport" content="width=device-width, initial-scale=1.0">
  <meta name="description" content="">
  <meta name="author" content="">
  
  <meta name="robots" content="noindex,nofollow">
  

  <!--NEW RELIC Start Perf Measurement-->
  
  <!--NREND-->

  <!-- Le styles -->
  <script src="/cdn-cgi/apps/head/MuIIl4I_IVFkxldaVu1mdWee9as.js"></script><link href="/static/build/styles.css?v=187600a0f647dfa49ca5629b21844856" rel="stylesheet">

  <!-- Le HTML5 shim, for IE6-8 support of HTML5 elements -->
  <!--[if lt IE 9]>
    <script src="http://html5shim.googlecode.com/svn/trunk/html5.js"></script>
  <![endif]-->

  <!-- Le fav and touch icons -->
  <link rel="shortcut icon" href="/static/ico/ipynb_icon_16x16.png">
  <link rel="apple-touch-icon-precomposed" sizes="144x144"
        href="/static/ico/apple-touch-icon-144-precomposed.png?v=5a3c9ede93e2a8b8ea9e3f8f3da1a905">
  <link rel="apple-touch-icon-precomposed" sizes="114x114"
        href="/static/ico/apple-touch-icon-114-precomposed.png?v=45d86fc8f24dc00638035e1dd7a6d898">
  <link rel="apple-touch-icon-precomposed" sizes="72x72"
        href="/static/ico/apple-touch-icon-72-precomposed.png?v=540b5eb0f3cfd25f1439d1c9bd30e15f">
  <link rel="apple-touch-icon-precomposed"
        href="/static/ico/apple-touch-icon-57-precomposed.png?v=225f0590e187e1458625654f10a28f56">
  
  

  

  
  <meta name="twitter:card" content="summary">
  <meta name="twitter:title" content="Notebook on nbviewer">
  <meta name="twitter:description" content="Check out this Jupyter notebook!">

  
  <meta name="twitter:domain" content="nbviewer.ipython.org">
  <meta name="twitter:image:src" content="http://ipython.org/ipython-doc/dev/_images/ipynb_icon_128x128.png">

  
    <link href="/static/build/notebook.css?v=0a1fd720873b368f697f2028629e42e3" rel="stylesheet">
  

  

  
    <script src="https://cdnjs.cloudflare.com/ajax/libs/mathjax/2.7.1/MathJax.js?config=TeX-AMS_HTML" type="text/javascript">
    </script>
    <script type="text/javascript">
      init_mathjax = function() {
        if (window.MathJax) {
          // MathJax loaded
          MathJax.Hub.Config({
            TeX: {
              equationNumbers: {
                autoNumber: "AMS",
                useLabelIds: true
              }
            },
            tex2jax: {
              inlineMath: [ ['$','$'], ["\\(","\\)"] ],
              displayMath: [ ['$$','$$'], ["\\[","\\]"] ],
              processEscapes: true,
              processEnvironments: true
            },
            displayAlign: 'center',
            "HTML-CSS": {
              styles: {'.MathJax_Display': {"margin": 0}},
              linebreaks: { automatic: true }
            }
          });
          MathJax.Hub.Queue(["Typeset", MathJax.Hub]);
        }
      }
      init_mathjax();
    </script>
  

</head>

<body class="nbviewer">

  <!-- These are loaded at the top of the body so they are available to
       notebook cells when they are loaded below. -->
  <script src="/static/components/jquery/dist/jquery.min.js?v=c9f5aeeca3ad37bf2aa006139b935f0a"></script>
  <script src="/static/components/requirejs/require.js?v=6da8be361b9ee26c5e721e76c6d4afce"></script>
  <script src="/static/components/moment/min/moment.min.js?v=89f87298ad94aa1e6b92f42eb66da043"></script>

<!-- Navbar
================================================== -->
  <nav id="menubar" class="navbar navbar-default navbar-fixed-top" data-spy="affix">
    <div class="container">
      <div class="navbar-header">
        <button type="button" class="navbar-toggle collapsed" data-toggle="collapse" data-target=".navbar-collapse">
          <span class="sr-only">Toggle navigation</span>
          <i class="fa fa-bars"></i>
        </button>
        <a class="navbar-brand" href="/">
          <img src="/static/img/nav_logo.svg?v=479cefe8d932fb14a67b93911b97d70f" width="159"/>
        </a>
      </div>

      <div class="collapse navbar-collapse">
        <ul class="nav navbar-nav navbar-right">
          <li>
            <a class="active" href="http://jupyter.org">JUPYTER</a>
          </li>
          <li>
    <a href="/faq" title="FAQ" >
      
        <span>FAQ</span>
      
    </a>
  </li>

          
  
    
  
    
      
        <li>
    <a href="/format/script/github/cs109/2014/blob/master/homework-solutions/HW2-solutions.ipynb" title="View as Code" >
      <span class="fa fa-code fa-2x menu-icon"></span>
      <span class="menu-text">View as Code</span>
    </a>
  </li>
      
    
  

  

  
    <li>
    <a href="https://github.com/cs109/2014/blob/master/homework-solutions/HW2-solutions.ipynb" title="View on GitHub" >
      <span class="fa fa-github fa-2x menu-icon"></span>
      <span class="menu-text">View on GitHub</span>
    </a>
  </li>
  

  <li>
    <a href="https://raw.githubusercontent.com/cs109/2014/master/homework-solutions/HW2-solutions.ipynb" title="Download Notebook" download>
      <span class="fa fa-download fa-2x menu-icon"></span>
      <span class="menu-text">Download Notebook</span>
    </a>
  </li>

        </ul>
      </div><!-- /.navbar-collapse -->
      
      
    </div>
  </nav>

  <div class="container container-main">
    
  
  <ol class="breadcrumb">
    
      <li>
        <a href="/github/cs109/2014/tree/master">2014</a>
      </li>
    
      <li>
        <a href="/github/cs109/2014/tree/master/homework-solutions">homework-solutions</a>
      </li>
    
  </ol>
  
  <div id="notebook">
    <div id="notebook-container">
      
<div class="cell border-box-sizing text_cell rendered"><div class="prompt input_prompt">
</div>
<div class="inner_cell">
<div class="text_cell_render border-box-sizing rendered_html">
<h1 id="Homework-2:-More-Exploratory-Data-Analysis">Homework 2: More Exploratory Data Analysis<a class="anchor-link" href="#Homework-2:-More-Exploratory-Data-Analysis">&#182;</a></h1><h2 id="Gene-Expression-Data-and-Election-Polls">Gene Expression Data and Election Polls<a class="anchor-link" href="#Gene-Expression-Data-and-Election-Polls">&#182;</a></h2><p>Due: Thursday, October 2, 2014 11:59 PM</p>
<p>&lt;a href=<a href="https://raw.githubusercontent.com/cs109/2014/master/homework/HW2.ipynb">https://raw.githubusercontent.com/cs109/2014/master/homework/HW2.ipynb</a> download=HW2.ipynb&gt; Download this assignment&lt;/a&gt;</p>
<h4 id="Submission-Instructions">Submission Instructions<a class="anchor-link" href="#Submission-Instructions">&#182;</a></h4><p>To submit your homework, create a folder named lastname_firstinitial_hw# and place your IPython notebooks, data files, and any other files in this folder. Your IPython Notebooks should be completely executed with the results visible in the notebook. We should not have to run any code. Compress the folder (please use .zip compression) and submit to the CS109 dropbox in the appropriate folder. If we cannot access your work because these directions are not followed correctly, we will not grade your work.</p>
<hr>

</div>
</div>
</div>
<div class="cell border-box-sizing text_cell rendered"><div class="prompt input_prompt">
</div>
<div class="inner_cell">
<div class="text_cell_render border-box-sizing rendered_html">
<h2 id="Introduction">Introduction<a class="anchor-link" href="#Introduction">&#182;</a></h2><p>John Tukey wrote in <a href="http://www.amazon.com/Exploratory-Data-Analysis-Wilder-Tukey/dp/0201076160/ref=pd_bbs_sr_2/103-4466654-5303007?ie=UTF8&amp;s=books&amp;qid=1189739816&amp;sr=8-2">Exploratory Data Analysis, 1977</a>: "The greatest value of a picture is when it forces us to notice what we never expected to see." In this assignment we will continue using our exploratory data analysis tools, but apply it to new sets of data: <a href="http://en.wikipedia.org/wiki/Gene_expression">gene expression</a> and polls from the <a href="http://en.wikipedia.org/wiki/United_States_presidential_election,_2012">2012 Presidental Election</a> and from the <a href="http://en.wikipedia.org/wiki/United_States_Senate_elections,_2014">2014 Senate Midterm Elections</a>.</p>
<p><strong>First</strong>: You will use exploratory data analysis and apply the <a href="http://en.wikipedia.org/wiki/Singular_value_decomposition">singular value decomposition</a> (SVD) to a gene expression data matrix to determine if the the date that the gene expression samples are processed has large effect on the variability seen in the data.</p>
<p><strong>Second</strong>: You will use the polls from the 2012 Presidential Elections to determine (1) Is there a pollster bias in presidential election polls? and (2) Is the average of polls better than just one poll?</p>
<p><strong>Finally</strong>: You will use the <a href="http://elections.huffingtonpost.com/pollster/api">HuffPost Pollster API</a> to extract the polls for the current 2014 Senate Midterm Elections and provide a preliminary prediction of the result of each state.</p>
<h4 id="Data">Data<a class="anchor-link" href="#Data">&#182;</a></h4><p>We will use the following data sets:</p>
<ol>
<li><p>A gene expression data set called <code>exprs_GSE5859.csv</code> and sample annotation table called <code>sampleinfo_GSE5859.csv</code> which are both available on Github in the 2014_data repository: <a href="https://github.com/cs109/2014_data/blob/master/exprs_GSE5859.csv">expression data set</a> and <a href="https://github.com/cs109/2014_data/blob/master/sampleinfo_GSE5859.csv">sample annotation table</a>.</p>
</li>
<li><p>Polls from the <a href="http://elections.huffingtonpost.com/pollster/2012-general-election-romney-vs-obama">2012 Presidential Election: Barack Obama vs Mitt Romney</a>. The polls we will use are from the <a href="http://elections.huffingtonpost.com/pollster">Huffington Post Pollster</a>.</p>
</li>
<li><p>Polls from the <a href="http://elections.huffingtonpost.com/pollster">2014 Senate Midterm Elections</a> from the <a href="http://elections.huffingtonpost.com/pollster/api">HuffPost Pollster API</a>.</p>
</li>
</ol>
<hr>

</div>
</div>
</div>
<div class="cell border-box-sizing text_cell rendered"><div class="prompt input_prompt">
</div>
<div class="inner_cell">
<div class="text_cell_render border-box-sizing rendered_html">
<h2 id="Load-Python-modules">Load Python modules<a class="anchor-link" href="#Load-Python-modules">&#182;</a></h2>
</div>
</div>
</div>
<div class="cell border-box-sizing code_cell rendered">
<div class="input">
<div class="prompt input_prompt">In&nbsp;[61]:</div>
<div class="inner_cell">
    <div class="input_area">
<div class=" highlight hl-ipython3"><pre><span></span><span class="c1"># special IPython command to prepare the notebook for matplotlib</span>
<span class="o">%</span><span class="k">matplotlib</span> inline 

<span class="kn">import</span> <span class="nn">requests</span> 
<span class="kn">from</span> <span class="nn">StringIO</span> <span class="k">import</span> <span class="n">StringIO</span>
<span class="kn">import</span> <span class="nn">numpy</span> <span class="k">as</span> <span class="nn">np</span>
<span class="kn">import</span> <span class="nn">pandas</span> <span class="k">as</span> <span class="nn">pd</span> <span class="c1"># pandas</span>
<span class="kn">import</span> <span class="nn">matplotlib.pyplot</span> <span class="k">as</span> <span class="nn">plt</span> <span class="c1"># module for plotting </span>
<span class="kn">import</span> <span class="nn">datetime</span> <span class="k">as</span> <span class="nn">dt</span> <span class="c1"># module for manipulating dates and times</span>
<span class="kn">import</span> <span class="nn">numpy.linalg</span> <span class="k">as</span> <span class="nn">lin</span> <span class="c1"># module for performing linear algebra operations</span>
</pre></div>

</div>
</div>
</div>

</div>
<div class="cell border-box-sizing code_cell rendered">
<div class="input">
<div class="prompt input_prompt">In&nbsp;[62]:</div>
<div class="inner_cell">
    <div class="input_area">
<div class=" highlight hl-ipython3"><pre><span></span><span class="c1"># special matplotlib argument for improved plots</span>
<span class="kn">from</span> <span class="nn">matplotlib</span> <span class="k">import</span> <span class="n">rcParams</span>

<span class="c1">#colorbrewer2 Dark2 qualitative color table</span>
<span class="n">dark2_colors</span> <span class="o">=</span> <span class="p">[(</span><span class="mf">0.10588235294117647</span><span class="p">,</span> <span class="mf">0.6196078431372549</span><span class="p">,</span> <span class="mf">0.4666666666666667</span><span class="p">),</span>
                <span class="p">(</span><span class="mf">0.8509803921568627</span><span class="p">,</span> <span class="mf">0.37254901960784315</span><span class="p">,</span> <span class="mf">0.00784313725490196</span><span class="p">),</span>
                <span class="p">(</span><span class="mf">0.4588235294117647</span><span class="p">,</span> <span class="mf">0.4392156862745098</span><span class="p">,</span> <span class="mf">0.7019607843137254</span><span class="p">),</span>
                <span class="p">(</span><span class="mf">0.9058823529411765</span><span class="p">,</span> <span class="mf">0.1607843137254902</span><span class="p">,</span> <span class="mf">0.5411764705882353</span><span class="p">),</span>
                <span class="p">(</span><span class="mf">0.4</span><span class="p">,</span> <span class="mf">0.6509803921568628</span><span class="p">,</span> <span class="mf">0.11764705882352941</span><span class="p">),</span>
                <span class="p">(</span><span class="mf">0.9019607843137255</span><span class="p">,</span> <span class="mf">0.6705882352941176</span><span class="p">,</span> <span class="mf">0.00784313725490196</span><span class="p">),</span>
                <span class="p">(</span><span class="mf">0.6509803921568628</span><span class="p">,</span> <span class="mf">0.4627450980392157</span><span class="p">,</span> <span class="mf">0.11372549019607843</span><span class="p">)]</span>

<span class="n">rcParams</span><span class="p">[</span><span class="s1">&#39;figure.figsize&#39;</span><span class="p">]</span> <span class="o">=</span> <span class="p">(</span><span class="mi">10</span><span class="p">,</span> <span class="mi">6</span><span class="p">)</span>
<span class="n">rcParams</span><span class="p">[</span><span class="s1">&#39;figure.dpi&#39;</span><span class="p">]</span> <span class="o">=</span> <span class="mi">150</span>
<span class="n">rcParams</span><span class="p">[</span><span class="s1">&#39;axes.color_cycle&#39;</span><span class="p">]</span> <span class="o">=</span> <span class="n">dark2_colors</span>
<span class="n">rcParams</span><span class="p">[</span><span class="s1">&#39;lines.linewidth&#39;</span><span class="p">]</span> <span class="o">=</span> <span class="mi">2</span>
<span class="n">rcParams</span><span class="p">[</span><span class="s1">&#39;axes.facecolor&#39;</span><span class="p">]</span> <span class="o">=</span> <span class="s1">&#39;white&#39;</span>
<span class="n">rcParams</span><span class="p">[</span><span class="s1">&#39;font.size&#39;</span><span class="p">]</span> <span class="o">=</span> <span class="mi">14</span>
<span class="n">rcParams</span><span class="p">[</span><span class="s1">&#39;patch.edgecolor&#39;</span><span class="p">]</span> <span class="o">=</span> <span class="s1">&#39;white&#39;</span>
<span class="n">rcParams</span><span class="p">[</span><span class="s1">&#39;patch.facecolor&#39;</span><span class="p">]</span> <span class="o">=</span> <span class="n">dark2_colors</span><span class="p">[</span><span class="mi">0</span><span class="p">]</span>
<span class="n">rcParams</span><span class="p">[</span><span class="s1">&#39;font.family&#39;</span><span class="p">]</span> <span class="o">=</span> <span class="s1">&#39;StixGeneral&#39;</span>
</pre></div>

</div>
</div>
</div>

</div>
<div class="cell border-box-sizing text_cell rendered"><div class="prompt input_prompt">
</div>
<div class="inner_cell">
<div class="text_cell_render border-box-sizing rendered_html">
<h2 id="Problem-1">Problem 1<a class="anchor-link" href="#Problem-1">&#182;</a></h2><p>In this problem we will be using a <a href="http://en.wikipedia.org/wiki/Gene_expression">gene expression</a> data set obtained from a <a href="http://en.wikipedia.org/wiki/DNA_microarray">microarray</a> experiement <a href="http://www.ncbi.nlm.nih.gov/geo/query/acc.cgi?acc=GSE5859">Read more about the specific experiment here</a>.  There are two data sets we will use:</p>
<ol>
<li><p>The gene expression intensities where the rows represent the features on the microarray (e.g. genes) and the columsns represent the different microarray samples.</p>
</li>
<li><p>A table that contains the information about each of the samples (columns in the gene expression data set) such as the sex, the age, the treatment status, the date the samples were processed.  Each row represents one sample.</p>
</li>
</ol>

</div>
</div>
</div>
<div class="cell border-box-sizing text_cell rendered"><div class="prompt input_prompt">
</div>
<div class="inner_cell">
<div class="text_cell_render border-box-sizing rendered_html">
<h4 id="Problem-1(a)">Problem 1(a)<a class="anchor-link" href="#Problem-1(a)">&#182;</a></h4>
</div>
</div>
</div>
<div class="cell border-box-sizing text_cell rendered"><div class="prompt input_prompt">
</div>
<div class="inner_cell">
<div class="text_cell_render border-box-sizing rendered_html">
<p>Read in the two files from Github: <a href="https://github.com/cs109/2014_data/blob/master/exprs_GSE5859.csv">exprs_GSE5859.csv</a> and <a href="https://github.com/cs109/2014_data/blob/master/sampleinfo_GSE5859.csv">sampleinfo_GSE5859.csv</a> as pandas DataFrames called <code>exprs</code> and <code>sampleinfo</code>. Use the gene names as the index of the <code>exprs</code> DataFrame.</p>

</div>
</div>
</div>
<div class="cell border-box-sizing code_cell rendered">
<div class="input">
<div class="prompt input_prompt">In&nbsp;[63]:</div>
<div class="inner_cell">
    <div class="input_area">
<div class=" highlight hl-ipython3"><pre><span></span><span class="c1">#your code here</span>
<span class="n">url_exprs</span> <span class="o">=</span> <span class="s2">&quot;https://raw.githubusercontent.com/cs109/2014_data/master/exprs_GSE5859.csv&quot;</span>
<span class="n">exprs</span> <span class="o">=</span> <span class="n">pd</span><span class="o">.</span><span class="n">read_csv</span><span class="p">(</span><span class="n">url_exprs</span><span class="p">,</span> <span class="n">index_col</span><span class="o">=</span><span class="mi">0</span><span class="p">)</span>

<span class="n">url_sampleinfo</span> <span class="o">=</span> <span class="s2">&quot;https://raw.githubusercontent.com/cs109/2014_data/master/sampleinfo_GSE5859.csv&quot;</span>
<span class="n">sampleinfo</span> <span class="o">=</span> <span class="n">pd</span><span class="o">.</span><span class="n">read_csv</span><span class="p">(</span><span class="n">url_sampleinfo</span><span class="p">)</span>
</pre></div>

</div>
</div>
</div>

</div>
<div class="cell border-box-sizing text_cell rendered"><div class="prompt input_prompt">
</div>
<div class="inner_cell">
<div class="text_cell_render border-box-sizing rendered_html">
<p>Make sure the order of the columns in the gene expression DataFrame match the order of file names in the sample annotation DataFrame. If the order of the columns the <code>exprs</code> DataFrame do not match the order of the file names in the <code>sampleinfo</code> DataFrame, reorder the columns in the <code>exprs</code> DataFrame.</p>
<p><strong>Note</strong>: The column names of the gene expression DataFrame are the filenames of the orignal files from which these data were obtained.</p>
<p><strong>Hint</strong>: The method <code>list.index(x)</code> [<a href="https://docs.python.org/2/tutorial/datastructures.html">read here</a>] can be used to return the index in the list of the first item whose value is x. It is an error if there is no such item. To check if the order of the columns in <code>exprs</code> matches the order of the rows in <code>sampleinfo</code>, you can check using the method <code>.all()</code> on a Boolean or list of Booleans:</p>
<p>Example code: <code>(exprs.columns == sampleinfo.filename).all()</code></p>

</div>
</div>
</div>
<div class="cell border-box-sizing text_cell rendered"><div class="prompt input_prompt">
</div>
<div class="inner_cell">
<div class="text_cell_render border-box-sizing rendered_html">
<p>First, let's check if order of the columns in the <code>exprs</code> DataFrame match the order of the <code>filename</code> in the <code>sampleinfo</code> DataFrame using the <code>==</code> Boolean operator.</p>

</div>
</div>
</div>
<div class="cell border-box-sizing code_cell rendered">
<div class="input">
<div class="prompt input_prompt">In&nbsp;[64]:</div>
<div class="inner_cell">
    <div class="input_area">
<div class=" highlight hl-ipython3"><pre><span></span><span class="p">(</span><span class="n">exprs</span><span class="o">.</span><span class="n">columns</span> <span class="o">==</span> <span class="n">sampleinfo</span><span class="o">.</span><span class="n">filename</span><span class="p">)</span><span class="o">.</span><span class="n">all</span><span class="p">()</span>
</pre></div>

</div>
</div>
</div>

<div class="output_wrapper">
<div class="output">


<div class="output_area">

<div class="prompt output_prompt">Out[64]:</div>




<div class="output_text output_subarea output_execute_result">
<pre>False</pre>
</div>

</div>

</div>
</div>

</div>
<div class="cell border-box-sizing text_cell rendered"><div class="prompt input_prompt">
</div>
<div class="inner_cell">
<div class="text_cell_render border-box-sizing rendered_html">
<p>Now we know the columns in the <code>exprs</code> DataFrame are out of order compared to the order of the rows in the <code>sampleinfo</code> DataFrame.  To check if there are any columns in the correct order, we can test for which columns are equal to the <code>filename</code> in the <code>sampleinfo</code> DataFrame.</p>

</div>
</div>
</div>
<div class="cell border-box-sizing code_cell rendered">
<div class="input">
<div class="prompt input_prompt">In&nbsp;[65]:</div>
<div class="inner_cell">
    <div class="input_area">
<div class=" highlight hl-ipython3"><pre><span></span><span class="n">sampleinfo</span><span class="p">[</span><span class="n">exprs</span><span class="o">.</span><span class="n">columns</span> <span class="o">==</span> <span class="n">sampleinfo</span><span class="o">.</span><span class="n">filename</span><span class="p">]</span>
</pre></div>

</div>
</div>
</div>

<div class="output_wrapper">
<div class="output">


<div class="output_area">

<div class="prompt output_prompt">Out[65]:</div>



<div class="output_html rendered_html output_subarea output_execute_result">
<div style="max-height:1000px;max-width:1500px;overflow:auto;">
<table border="1" class="dataframe">
  <thead>
    <tr style="text-align: right;">
      <th></th>
      <th>ethnicity</th>
      <th>date</th>
      <th>filename</th>
      <th>sex</th>
    </tr>
  </thead>
  <tbody>
    <tr>
      <th>23</th>
      <td> CEU</td>
      <td> 2002-11-21</td>
      <td> GSM25482.CEL.gz</td>
      <td> F</td>
    </tr>
  </tbody>
</table>
</div>
</div>

</div>

</div>
</div>

</div>
<div class="cell border-box-sizing text_cell rendered"><div class="prompt input_prompt">
</div>
<div class="inner_cell">
<div class="text_cell_render border-box-sizing rendered_html">
<p>Now, we want to re-order the columns in the <code>exprs</code> DataFrame to match the order of the file names in the <code>sampleinfo</code> DataFrame. One way of doing this is to use the <code>list.index()</code> method.  First, we convert the file names in <code>sampleinfo</code> and the column names of <code>exprs</code> and to two lists: <code>a</code> and <code>b</code>. Then, we use a list comprehension to iterate through each element in <code>a</code> and return the index in <code>b</code> that matches using the <code>list.index()</code> method.  Once we know all the indexes, we can re-order <code>exprs</code> so that the columns match the same order as the <code>filenames</code> in <code>sampleinfo</code>.</p>

</div>
</div>
</div>
<div class="cell border-box-sizing code_cell rendered">
<div class="input">
<div class="prompt input_prompt">In&nbsp;[66]:</div>
<div class="inner_cell">
    <div class="input_area">
<div class=" highlight hl-ipython3"><pre><span></span><span class="c1">#your code here</span>
<span class="n">a</span> <span class="o">=</span> <span class="nb">list</span><span class="p">(</span><span class="n">sampleinfo</span><span class="o">.</span><span class="n">filename</span><span class="p">)</span>
<span class="n">b</span> <span class="o">=</span> <span class="nb">list</span><span class="p">(</span><span class="n">exprs</span><span class="o">.</span><span class="n">columns</span><span class="p">)</span>
<span class="n">matchIndex</span> <span class="o">=</span> <span class="p">[</span><span class="n">b</span><span class="o">.</span><span class="n">index</span><span class="p">(</span><span class="n">x</span><span class="p">)</span> <span class="k">for</span> <span class="n">x</span> <span class="ow">in</span> <span class="n">a</span><span class="p">]</span>
<span class="n">exprs</span> <span class="o">=</span> <span class="n">exprs</span><span class="p">[</span><span class="n">matchIndex</span><span class="p">]</span>

<span class="c1"># check if all the column names match the file names in sampleinfo</span>
<span class="p">(</span><span class="n">exprs</span><span class="o">.</span><span class="n">columns</span> <span class="o">==</span> <span class="n">sampleinfo</span><span class="o">.</span><span class="n">filename</span><span class="p">)</span><span class="o">.</span><span class="n">all</span><span class="p">()</span>
</pre></div>

</div>
</div>
</div>

<div class="output_wrapper">
<div class="output">


<div class="output_area">

<div class="prompt output_prompt">Out[66]:</div>




<div class="output_text output_subarea output_execute_result">
<pre>True</pre>
</div>

</div>

</div>
</div>

</div>
<div class="cell border-box-sizing text_cell rendered"><div class="prompt input_prompt">
</div>
<div class="inner_cell">
<div class="text_cell_render border-box-sizing rendered_html">
<p>Show the head of the two tables: <code>exprs</code> and <code>sampleinfo</code>.</p>

</div>
</div>
</div>
<div class="cell border-box-sizing code_cell rendered">
<div class="input">
<div class="prompt input_prompt">In&nbsp;[67]:</div>
<div class="inner_cell">
    <div class="input_area">
<div class=" highlight hl-ipython3"><pre><span></span><span class="n">exprs</span><span class="o">.</span><span class="n">head</span><span class="p">()</span>
</pre></div>

</div>
</div>
</div>

<div class="output_wrapper">
<div class="output">


<div class="output_area">

<div class="prompt output_prompt">Out[67]:</div>



<div class="output_html rendered_html output_subarea output_execute_result">
<div style="max-height:1000px;max-width:1500px;overflow:auto;">
<table border="1" class="dataframe">
  <thead>
    <tr style="text-align: right;">
      <th></th>
      <th>GSM25349.CEL.gz</th>
      <th>GSM25350.CEL.gz</th>
      <th>GSM25356.CEL.gz</th>
      <th>GSM25357.CEL.gz</th>
      <th>GSM25358.CEL.gz</th>
      <th>GSM25359.CEL.gz</th>
      <th>GSM25360.CEL.gz</th>
      <th>GSM25361.CEL.gz</th>
      <th>GSM25377.CEL.gz</th>
      <th>GSM25378.CEL.gz</th>
      <th>...</th>
      <th>GSM136719.CEL.gz</th>
      <th>GSM136720.CEL.gz</th>
      <th>GSM136721.CEL.gz</th>
      <th>GSM136722.CEL.gz</th>
      <th>GSM136723.CEL.gz</th>
      <th>GSM136724.CEL.gz</th>
      <th>GSM136725.CEL.gz</th>
      <th>GSM136726.CEL.gz</th>
      <th>GSM136727.CEL.gz</th>
      <th>GSM136729.CEL.gz</th>
    </tr>
  </thead>
  <tbody>
    <tr>
      <th>1007_s_at</th>
      <td> 6.627014</td>
      <td> 6.249807</td>
      <td> 5.934128</td>
      <td> 6.145268</td>
      <td> 6.091270</td>
      <td> 6.041186</td>
      <td> 6.050375</td>
      <td> 6.063847</td>
      <td> 6.226106</td>
      <td> 6.358282</td>
      <td>...</td>
      <td> 6.466445</td>
      <td> 6.533592</td>
      <td> 6.631492</td>
      <td> 6.513362</td>
      <td> 6.440706</td>
      <td> 6.704324</td>
      <td> 6.488579</td>
      <td> 6.809481</td>
      <td> 6.133068</td>
      <td> 6.155473</td>
    </tr>
    <tr>
      <th>1053_at</th>
      <td> 6.939184</td>
      <td> 6.818038</td>
      <td> 7.047962</td>
      <td> 7.422477</td>
      <td> 7.272361</td>
      <td> 7.128216</td>
      <td> 6.750719</td>
      <td> 6.836287</td>
      <td> 6.738022</td>
      <td> 7.367895</td>
      <td>...</td>
      <td> 7.032885</td>
      <td> 7.156344</td>
      <td> 7.018025</td>
      <td> 6.973322</td>
      <td> 6.884738</td>
      <td> 7.120898</td>
      <td> 7.517410</td>
      <td> 7.200596</td>
      <td> 7.280781</td>
      <td> 7.111583</td>
    </tr>
    <tr>
      <th>117_at</th>
      <td> 5.113570</td>
      <td> 5.074096</td>
      <td> 5.371201</td>
      <td> 5.266550</td>
      <td> 5.342047</td>
      <td> 5.063876</td>
      <td> 5.315898</td>
      <td> 5.483652</td>
      <td> 6.689444</td>
      <td> 6.482782</td>
      <td>...</td>
      <td> 5.661112</td>
      <td> 5.127260</td>
      <td> 5.151840</td>
      <td> 5.505602</td>
      <td> 5.687689</td>
      <td> 4.942651</td>
      <td> 5.247190</td>
      <td> 5.237239</td>
      <td> 5.401876</td>
      <td> 5.302628</td>
    </tr>
    <tr>
      <th>121_at</th>
      <td> 7.833862</td>
      <td> 7.780682</td>
      <td> 7.458197</td>
      <td> 7.655948</td>
      <td> 7.546555</td>
      <td> 7.072670</td>
      <td> 7.092984</td>
      <td> 6.954225</td>
      <td> 7.489785</td>
      <td> 7.388539</td>
      <td>...</td>
      <td> 7.769734</td>
      <td> 7.815864</td>
      <td> 7.683279</td>
      <td> 7.883231</td>
      <td> 7.913621</td>
      <td> 7.834196</td>
      <td> 7.331864</td>
      <td> 7.357102</td>
      <td> 7.607461</td>
      <td> 7.456453</td>
    </tr>
    <tr>
      <th>1255_g_at</th>
      <td> 3.152269</td>
      <td> 3.111747</td>
      <td> 3.018932</td>
      <td> 3.154545</td>
      <td> 3.107954</td>
      <td> 3.224284</td>
      <td> 3.114241</td>
      <td> 3.044975</td>
      <td> 3.304038</td>
      <td> 2.887919</td>
      <td>...</td>
      <td> 3.257484</td>
      <td> 3.339234</td>
      <td> 3.298384</td>
      <td> 3.150654</td>
      <td> 3.344501</td>
      <td> 3.230285</td>
      <td> 3.175846</td>
      <td> 3.105092</td>
      <td> 3.225123</td>
      <td> 3.090149</td>
    </tr>
  </tbody>
</table>
<p>5 rows × 208 columns</p>
</div>
</div>

</div>

</div>
</div>

</div>
<div class="cell border-box-sizing code_cell rendered">
<div class="input">
<div class="prompt input_prompt">In&nbsp;[68]:</div>
<div class="inner_cell">
    <div class="input_area">
<div class=" highlight hl-ipython3"><pre><span></span><span class="n">sampleinfo</span><span class="o">.</span><span class="n">head</span><span class="p">()</span>
</pre></div>

</div>
</div>
</div>

<div class="output_wrapper">
<div class="output">


<div class="output_area">

<div class="prompt output_prompt">Out[68]:</div>



<div class="output_html rendered_html output_subarea output_execute_result">
<div style="max-height:1000px;max-width:1500px;overflow:auto;">
<table border="1" class="dataframe">
  <thead>
    <tr style="text-align: right;">
      <th></th>
      <th>ethnicity</th>
      <th>date</th>
      <th>filename</th>
      <th>sex</th>
    </tr>
  </thead>
  <tbody>
    <tr>
      <th>0</th>
      <td> CEU</td>
      <td> 2003-02-04</td>
      <td> GSM25349.CEL.gz</td>
      <td> M</td>
    </tr>
    <tr>
      <th>1</th>
      <td> CEU</td>
      <td> 2003-02-04</td>
      <td> GSM25350.CEL.gz</td>
      <td> M</td>
    </tr>
    <tr>
      <th>2</th>
      <td> CEU</td>
      <td> 2002-12-17</td>
      <td> GSM25356.CEL.gz</td>
      <td> M</td>
    </tr>
    <tr>
      <th>3</th>
      <td> CEU</td>
      <td> 2003-01-30</td>
      <td> GSM25357.CEL.gz</td>
      <td> M</td>
    </tr>
    <tr>
      <th>4</th>
      <td> CEU</td>
      <td> 2003-01-03</td>
      <td> GSM25358.CEL.gz</td>
      <td> M</td>
    </tr>
  </tbody>
</table>
</div>
</div>

</div>

</div>
</div>

</div>
<div class="cell border-box-sizing text_cell rendered"><div class="prompt input_prompt">
</div>
<div class="inner_cell">
<div class="text_cell_render border-box-sizing rendered_html">
<h4 id="Problem-1(b)">Problem 1(b)<a class="anchor-link" href="#Problem-1(b)">&#182;</a></h4><p>Extract the year and month as integers from the <code>sampleinfo</code> table.</p>
<p><strong>Hint</strong>: To convert a Series or a column of a pandas DataFrame that contains a date-like object, you can use the <code>to_datetime</code> function [<a href="http://pandas.pydata.org/pandas-docs/stable/timeseries.html">read here</a>].  This will create a <code>DatetimeIndex</code> which can be used to extract the month and year for each row in the DataFrame.</p>

</div>
</div>
</div>
<div class="cell border-box-sizing code_cell rendered">
<div class="input">
<div class="prompt input_prompt">In&nbsp;[69]:</div>
<div class="inner_cell">
    <div class="input_area">
<div class=" highlight hl-ipython3"><pre><span></span><span class="c1">#your code here</span>
<span class="n">sampleinfo</span><span class="p">[</span><span class="s2">&quot;date&quot;</span><span class="p">]</span> <span class="o">=</span> <span class="n">pd</span><span class="o">.</span><span class="n">to_datetime</span><span class="p">(</span><span class="n">sampleinfo</span><span class="o">.</span><span class="n">date</span><span class="p">)</span>
<span class="n">sampleinfo</span><span class="p">[</span><span class="s2">&quot;month&quot;</span><span class="p">]</span> <span class="o">=</span> <span class="nb">map</span><span class="p">(</span><span class="k">lambda</span> <span class="n">x</span><span class="p">:</span> <span class="n">x</span><span class="o">.</span><span class="n">month</span><span class="p">,</span> <span class="n">sampleinfo</span><span class="o">.</span><span class="n">date</span><span class="p">)</span>
<span class="n">sampleinfo</span><span class="p">[</span><span class="s2">&quot;year&quot;</span><span class="p">]</span> <span class="o">=</span> <span class="nb">map</span><span class="p">(</span><span class="k">lambda</span> <span class="n">x</span><span class="p">:</span> <span class="n">x</span><span class="o">.</span><span class="n">year</span><span class="p">,</span> <span class="n">sampleinfo</span><span class="o">.</span><span class="n">date</span><span class="p">)</span>
</pre></div>

</div>
</div>
</div>

</div>
<div class="cell border-box-sizing text_cell rendered"><div class="prompt input_prompt">
</div>
<div class="inner_cell">
<div class="text_cell_render border-box-sizing rendered_html">
<h4 id="Problem-1(c)">Problem 1(c)<a class="anchor-link" href="#Problem-1(c)">&#182;</a></h4><p>Convert the dates in the <code>date</code> column from the <code>sampleinfo</code> table into days since October 31, 2002. Add a column to the <code>sampleinfo</code> DataFrame titled <code>elapsedInDays</code> containing the days since October 31, 2002.  Show the head of the <code>sampleinfo</code> DataFrame which includes the new column.</p>
<p><strong>Hint</strong>: Use the <code>datetime</code> module to create a new <code>datetime</code> object for the specific date October 31, 2002. Then, subtract the October 31, 2002 date from each date from the <code>date</code> column in the <code>sampleinfo</code> DataFrame.</p>

</div>
</div>
</div>
<div class="cell border-box-sizing code_cell rendered">
<div class="input">
<div class="prompt input_prompt">In&nbsp;[70]:</div>
<div class="inner_cell">
    <div class="input_area">
<div class=" highlight hl-ipython3"><pre><span></span><span class="c1">#your code here</span>
<span class="n">oct31</span> <span class="o">=</span> <span class="n">dt</span><span class="o">.</span><span class="n">datetime</span><span class="p">(</span><span class="mi">2002</span><span class="p">,</span><span class="mi">10</span><span class="p">,</span><span class="mi">31</span><span class="p">,</span><span class="mi">0</span><span class="p">,</span><span class="mi">0</span><span class="p">)</span>
<span class="n">oct31</span>
</pre></div>

</div>
</div>
</div>

<div class="output_wrapper">
<div class="output">


<div class="output_area">

<div class="prompt output_prompt">Out[70]:</div>




<div class="output_text output_subarea output_execute_result">
<pre>datetime.datetime(2002, 10, 31, 0, 0)</pre>
</div>

</div>

</div>
</div>

</div>
<div class="cell border-box-sizing code_cell rendered">
<div class="input">
<div class="prompt input_prompt">In&nbsp;[71]:</div>
<div class="inner_cell">
    <div class="input_area">
<div class=" highlight hl-ipython3"><pre><span></span><span class="n">sampleinfo</span><span class="p">[</span><span class="s2">&quot;elapsedInDays&quot;</span><span class="p">]</span> <span class="o">=</span> <span class="nb">map</span><span class="p">(</span><span class="k">lambda</span> <span class="n">x</span><span class="p">:</span> <span class="p">(</span><span class="n">x</span> <span class="o">-</span> <span class="n">oct31</span><span class="p">)</span><span class="o">.</span><span class="n">days</span><span class="p">,</span> <span class="n">sampleinfo</span><span class="o">.</span><span class="n">date</span><span class="p">)</span>
<span class="n">sampleinfo</span><span class="o">.</span><span class="n">head</span><span class="p">()</span>
</pre></div>

</div>
</div>
</div>

<div class="output_wrapper">
<div class="output">


<div class="output_area">

<div class="prompt output_prompt">Out[71]:</div>



<div class="output_html rendered_html output_subarea output_execute_result">
<div style="max-height:1000px;max-width:1500px;overflow:auto;">
<table border="1" class="dataframe">
  <thead>
    <tr style="text-align: right;">
      <th></th>
      <th>ethnicity</th>
      <th>date</th>
      <th>filename</th>
      <th>sex</th>
      <th>month</th>
      <th>year</th>
      <th>elapsedInDays</th>
    </tr>
  </thead>
  <tbody>
    <tr>
      <th>0</th>
      <td> CEU</td>
      <td>2003-02-04</td>
      <td> GSM25349.CEL.gz</td>
      <td> M</td>
      <td>  2</td>
      <td> 2003</td>
      <td> 96</td>
    </tr>
    <tr>
      <th>1</th>
      <td> CEU</td>
      <td>2003-02-04</td>
      <td> GSM25350.CEL.gz</td>
      <td> M</td>
      <td>  2</td>
      <td> 2003</td>
      <td> 96</td>
    </tr>
    <tr>
      <th>2</th>
      <td> CEU</td>
      <td>2002-12-17</td>
      <td> GSM25356.CEL.gz</td>
      <td> M</td>
      <td> 12</td>
      <td> 2002</td>
      <td> 47</td>
    </tr>
    <tr>
      <th>3</th>
      <td> CEU</td>
      <td>2003-01-30</td>
      <td> GSM25357.CEL.gz</td>
      <td> M</td>
      <td>  1</td>
      <td> 2003</td>
      <td> 91</td>
    </tr>
    <tr>
      <th>4</th>
      <td> CEU</td>
      <td>2003-01-03</td>
      <td> GSM25358.CEL.gz</td>
      <td> M</td>
      <td>  1</td>
      <td> 2003</td>
      <td> 64</td>
    </tr>
  </tbody>
</table>
</div>
</div>

</div>

</div>
</div>

</div>
<div class="cell border-box-sizing text_cell rendered"><div class="prompt input_prompt">
</div>
<div class="inner_cell">
<div class="text_cell_render border-box-sizing rendered_html">
<h4 id="Problem-1(d)">Problem 1(d)<a class="anchor-link" href="#Problem-1(d)">&#182;</a></h4><p>Use exploratory analysis and the singular value decomposition (SVD) of the gene expression data matrix to determine if the date the samples were processed has large effect on the variability seen in the data or if it is just ethnicity (which is confounded with date).</p>
<p><strong>Hint</strong>: See the end of the <a href="http://nbviewer.ipython.org/github/cs109/2014/blob/master/lectures/lecture07/data_scraping_transcript.ipynb">lecture from 9/23/2014 for help with SVD</a>.</p>
<p>First subset the the <code>sampleinfo</code> DataFrame to include only the CEU ethnicity.  Call this new subsetted DataFrame <code>sampleinfoCEU</code>.  Show the head of <code>sampleinfoCEU</code> DataFrame.</p>

</div>
</div>
</div>
<div class="cell border-box-sizing code_cell rendered">
<div class="input">
<div class="prompt input_prompt">In&nbsp;[72]:</div>
<div class="inner_cell">
    <div class="input_area">
<div class=" highlight hl-ipython3"><pre><span></span><span class="c1">#your code here</span>
<span class="n">sampleinfoCEU</span> <span class="o">=</span> <span class="n">sampleinfo</span><span class="p">[</span><span class="n">sampleinfo</span><span class="o">.</span><span class="n">ethnicity</span> <span class="o">==</span> <span class="s2">&quot;CEU&quot;</span><span class="p">]</span>
<span class="n">sampleinfoCEU</span><span class="o">.</span><span class="n">head</span><span class="p">()</span>
</pre></div>

</div>
</div>
</div>

<div class="output_wrapper">
<div class="output">


<div class="output_area">

<div class="prompt output_prompt">Out[72]:</div>



<div class="output_html rendered_html output_subarea output_execute_result">
<div style="max-height:1000px;max-width:1500px;overflow:auto;">
<table border="1" class="dataframe">
  <thead>
    <tr style="text-align: right;">
      <th></th>
      <th>ethnicity</th>
      <th>date</th>
      <th>filename</th>
      <th>sex</th>
      <th>month</th>
      <th>year</th>
      <th>elapsedInDays</th>
    </tr>
  </thead>
  <tbody>
    <tr>
      <th>0</th>
      <td> CEU</td>
      <td>2003-02-04</td>
      <td> GSM25349.CEL.gz</td>
      <td> M</td>
      <td>  2</td>
      <td> 2003</td>
      <td> 96</td>
    </tr>
    <tr>
      <th>1</th>
      <td> CEU</td>
      <td>2003-02-04</td>
      <td> GSM25350.CEL.gz</td>
      <td> M</td>
      <td>  2</td>
      <td> 2003</td>
      <td> 96</td>
    </tr>
    <tr>
      <th>2</th>
      <td> CEU</td>
      <td>2002-12-17</td>
      <td> GSM25356.CEL.gz</td>
      <td> M</td>
      <td> 12</td>
      <td> 2002</td>
      <td> 47</td>
    </tr>
    <tr>
      <th>3</th>
      <td> CEU</td>
      <td>2003-01-30</td>
      <td> GSM25357.CEL.gz</td>
      <td> M</td>
      <td>  1</td>
      <td> 2003</td>
      <td> 91</td>
    </tr>
    <tr>
      <th>4</th>
      <td> CEU</td>
      <td>2003-01-03</td>
      <td> GSM25358.CEL.gz</td>
      <td> M</td>
      <td>  1</td>
      <td> 2003</td>
      <td> 64</td>
    </tr>
  </tbody>
</table>
</div>
</div>

</div>

</div>
</div>

</div>
<div class="cell border-box-sizing text_cell rendered"><div class="prompt input_prompt">
</div>
<div class="inner_cell">
<div class="text_cell_render border-box-sizing rendered_html">
<p>Next, subset the <code>exprs</code> DataFrame to only include the samples with the CEU ethnicity. Name this new subsetted DataFrame <code>exprsCEU</code>. Show the head of the <code>exprsCEU</code> DataFrame.</p>

</div>
</div>
</div>
<div class="cell border-box-sizing code_cell rendered">
<div class="input">
<div class="prompt input_prompt">In&nbsp;[73]:</div>
<div class="inner_cell">
    <div class="input_area">
<div class=" highlight hl-ipython3"><pre><span></span><span class="c1">#your code here</span>
<span class="n">exprsCEU</span> <span class="o">=</span> <span class="n">exprs</span><span class="p">[</span><span class="n">sampleinfoCEU</span><span class="o">.</span><span class="n">filename</span><span class="p">]</span>
<span class="n">exprsCEU</span><span class="o">.</span><span class="n">head</span><span class="p">()</span>
</pre></div>

</div>
</div>
</div>

<div class="output_wrapper">
<div class="output">


<div class="output_area">

<div class="prompt output_prompt">Out[73]:</div>



<div class="output_html rendered_html output_subarea output_execute_result">
<div style="max-height:1000px;max-width:1500px;overflow:auto;">
<table border="1" class="dataframe">
  <thead>
    <tr style="text-align: right;">
      <th></th>
      <th>GSM25349.CEL.gz</th>
      <th>GSM25350.CEL.gz</th>
      <th>GSM25356.CEL.gz</th>
      <th>GSM25357.CEL.gz</th>
      <th>GSM25358.CEL.gz</th>
      <th>GSM25359.CEL.gz</th>
      <th>GSM25360.CEL.gz</th>
      <th>GSM25361.CEL.gz</th>
      <th>GSM25377.CEL.gz</th>
      <th>GSM25378.CEL.gz</th>
      <th>...</th>
      <th>GSM48658.CEL.gz</th>
      <th>GSM48660.CEL.gz</th>
      <th>GSM48661.CEL.gz</th>
      <th>GSM48662.CEL.gz</th>
      <th>GSM48663.CEL.gz</th>
      <th>GSM48664.CEL.gz</th>
      <th>GSM48665.CEL.gz</th>
      <th>GSM136725.CEL.gz</th>
      <th>GSM136726.CEL.gz</th>
      <th>GSM136727.CEL.gz</th>
    </tr>
  </thead>
  <tbody>
    <tr>
      <th>1007_s_at</th>
      <td> 6.627014</td>
      <td> 6.249807</td>
      <td> 5.934128</td>
      <td> 6.145268</td>
      <td> 6.091270</td>
      <td> 6.041186</td>
      <td> 6.050375</td>
      <td> 6.063847</td>
      <td> 6.226106</td>
      <td> 6.358282</td>
      <td>...</td>
      <td> 6.501510</td>
      <td> 6.558100</td>
      <td> 6.618286</td>
      <td> 6.869995</td>
      <td> 5.981000</td>
      <td> 6.403285</td>
      <td> 6.248702</td>
      <td> 6.488579</td>
      <td> 6.809481</td>
      <td> 6.133068</td>
    </tr>
    <tr>
      <th>1053_at</th>
      <td> 6.939184</td>
      <td> 6.818038</td>
      <td> 7.047962</td>
      <td> 7.422477</td>
      <td> 7.272361</td>
      <td> 7.128216</td>
      <td> 6.750719</td>
      <td> 6.836287</td>
      <td> 6.738022</td>
      <td> 7.367895</td>
      <td>...</td>
      <td> 7.066686</td>
      <td> 7.386702</td>
      <td> 6.407958</td>
      <td> 7.089180</td>
      <td> 7.120923</td>
      <td> 7.018998</td>
      <td> 7.155419</td>
      <td> 7.517410</td>
      <td> 7.200596</td>
      <td> 7.280781</td>
    </tr>
    <tr>
      <th>117_at</th>
      <td> 5.113570</td>
      <td> 5.074096</td>
      <td> 5.371201</td>
      <td> 5.266550</td>
      <td> 5.342047</td>
      <td> 5.063876</td>
      <td> 5.315898</td>
      <td> 5.483652</td>
      <td> 6.689444</td>
      <td> 6.482782</td>
      <td>...</td>
      <td> 5.600514</td>
      <td> 5.232676</td>
      <td> 5.630720</td>
      <td> 4.944748</td>
      <td> 5.275577</td>
      <td> 5.770358</td>
      <td> 5.616842</td>
      <td> 5.247190</td>
      <td> 5.237239</td>
      <td> 5.401876</td>
    </tr>
    <tr>
      <th>121_at</th>
      <td> 7.833862</td>
      <td> 7.780682</td>
      <td> 7.458197</td>
      <td> 7.655948</td>
      <td> 7.546555</td>
      <td> 7.072670</td>
      <td> 7.092984</td>
      <td> 6.954225</td>
      <td> 7.489785</td>
      <td> 7.388539</td>
      <td>...</td>
      <td> 7.437535</td>
      <td> 7.714650</td>
      <td> 7.416252</td>
      <td> 7.746448</td>
      <td> 8.001434</td>
      <td> 7.626723</td>
      <td> 7.452299</td>
      <td> 7.331864</td>
      <td> 7.357102</td>
      <td> 7.607461</td>
    </tr>
    <tr>
      <th>1255_g_at</th>
      <td> 3.152269</td>
      <td> 3.111747</td>
      <td> 3.018932</td>
      <td> 3.154545</td>
      <td> 3.107954</td>
      <td> 3.224284</td>
      <td> 3.114241</td>
      <td> 3.044975</td>
      <td> 3.304038</td>
      <td> 2.887919</td>
      <td>...</td>
      <td> 3.009983</td>
      <td> 3.151203</td>
      <td> 3.199709</td>
      <td> 3.159496</td>
      <td> 3.149710</td>
      <td> 3.242780</td>
      <td> 3.433125</td>
      <td> 3.175846</td>
      <td> 3.105092</td>
      <td> 3.225123</td>
    </tr>
  </tbody>
</table>
<p>5 rows × 102 columns</p>
</div>
</div>

</div>

</div>
</div>

</div>
<div class="cell border-box-sizing text_cell rendered"><div class="prompt input_prompt">
</div>
<div class="inner_cell">
<div class="text_cell_render border-box-sizing rendered_html">
<p>Check to make sure the order of the columns in the <code>exprsCEU</code> DataFrame matches the rows in the <code>sampleinfoCEU</code> DataFrame.</p>

</div>
</div>
</div>
<div class="cell border-box-sizing code_cell rendered">
<div class="input">
<div class="prompt input_prompt">In&nbsp;[74]:</div>
<div class="inner_cell">
    <div class="input_area">
<div class=" highlight hl-ipython3"><pre><span></span><span class="c1">#your code here</span>
<span class="p">(</span><span class="n">exprsCEU</span><span class="o">.</span><span class="n">columns</span> <span class="o">==</span> <span class="n">sampleinfoCEU</span><span class="o">.</span><span class="n">filename</span><span class="p">)</span><span class="o">.</span><span class="n">all</span><span class="p">()</span>
</pre></div>

</div>
</div>
</div>

<div class="output_wrapper">
<div class="output">


<div class="output_area">

<div class="prompt output_prompt">Out[74]:</div>




<div class="output_text output_subarea output_execute_result">
<pre>True</pre>
</div>

</div>

</div>
</div>

</div>
<div class="cell border-box-sizing text_cell rendered"><div class="prompt input_prompt">
</div>
<div class="inner_cell">
<div class="text_cell_render border-box-sizing rendered_html">
<p>Compute the average gene expression intensity in the <code>exprsCEU</code> DataFrame across all the samples. For each sample in the <code>exprsCEU</code> DataFrame, subtract the average gene expression intensity from each of the samples. Show the head of the mean normalized gene expression data.</p>

</div>
</div>
</div>
<div class="cell border-box-sizing code_cell rendered">
<div class="input">
<div class="prompt input_prompt">In&nbsp;[75]:</div>
<div class="inner_cell">
    <div class="input_area">
<div class=" highlight hl-ipython3"><pre><span></span><span class="c1">#your code here</span>
<span class="n">data</span> <span class="o">=</span> <span class="n">exprsCEU</span><span class="o">.</span><span class="n">apply</span><span class="p">(</span><span class="k">lambda</span> <span class="n">x</span><span class="p">:</span> <span class="n">x</span> <span class="o">-</span> <span class="n">exprsCEU</span><span class="o">.</span><span class="n">mean</span><span class="p">(</span><span class="n">axis</span><span class="o">=</span><span class="mi">1</span><span class="p">),</span> <span class="n">axis</span> <span class="o">=</span> <span class="mi">0</span><span class="p">)</span>
<span class="n">data</span><span class="o">.</span><span class="n">head</span><span class="p">()</span>
</pre></div>

</div>
</div>
</div>

<div class="output_wrapper">
<div class="output">


<div class="output_area">

<div class="prompt output_prompt">Out[75]:</div>



<div class="output_html rendered_html output_subarea output_execute_result">
<div style="max-height:1000px;max-width:1500px;overflow:auto;">
<table border="1" class="dataframe">
  <thead>
    <tr style="text-align: right;">
      <th></th>
      <th>GSM25349.CEL.gz</th>
      <th>GSM25350.CEL.gz</th>
      <th>GSM25356.CEL.gz</th>
      <th>GSM25357.CEL.gz</th>
      <th>GSM25358.CEL.gz</th>
      <th>GSM25359.CEL.gz</th>
      <th>GSM25360.CEL.gz</th>
      <th>GSM25361.CEL.gz</th>
      <th>GSM25377.CEL.gz</th>
      <th>GSM25378.CEL.gz</th>
      <th>...</th>
      <th>GSM48658.CEL.gz</th>
      <th>GSM48660.CEL.gz</th>
      <th>GSM48661.CEL.gz</th>
      <th>GSM48662.CEL.gz</th>
      <th>GSM48663.CEL.gz</th>
      <th>GSM48664.CEL.gz</th>
      <th>GSM48665.CEL.gz</th>
      <th>GSM136725.CEL.gz</th>
      <th>GSM136726.CEL.gz</th>
      <th>GSM136727.CEL.gz</th>
    </tr>
  </thead>
  <tbody>
    <tr>
      <th>1007_s_at</th>
      <td> 0.365059</td>
      <td>-0.012149</td>
      <td>-0.327827</td>
      <td>-0.116687</td>
      <td>-0.170685</td>
      <td>-0.220769</td>
      <td>-0.211580</td>
      <td>-0.198109</td>
      <td>-0.035849</td>
      <td> 0.096327</td>
      <td>...</td>
      <td> 0.239554</td>
      <td> 0.296144</td>
      <td> 0.356331</td>
      <td> 0.608040</td>
      <td>-0.280956</td>
      <td> 0.141330</td>
      <td>-0.013254</td>
      <td> 0.226624</td>
      <td> 0.547526</td>
      <td>-0.128887</td>
    </tr>
    <tr>
      <th>1053_at</th>
      <td>-0.136032</td>
      <td>-0.257178</td>
      <td>-0.027254</td>
      <td> 0.347260</td>
      <td> 0.197144</td>
      <td> 0.053000</td>
      <td>-0.324497</td>
      <td>-0.238930</td>
      <td>-0.337195</td>
      <td> 0.292678</td>
      <td>...</td>
      <td>-0.008531</td>
      <td> 0.311485</td>
      <td>-0.667259</td>
      <td> 0.013964</td>
      <td> 0.045706</td>
      <td>-0.056219</td>
      <td> 0.080203</td>
      <td> 0.442193</td>
      <td> 0.125379</td>
      <td> 0.205564</td>
    </tr>
    <tr>
      <th>117_at</th>
      <td>-0.490556</td>
      <td>-0.530031</td>
      <td>-0.232926</td>
      <td>-0.337577</td>
      <td>-0.262080</td>
      <td>-0.540250</td>
      <td>-0.288228</td>
      <td>-0.120475</td>
      <td> 1.085317</td>
      <td> 0.878655</td>
      <td>...</td>
      <td>-0.003613</td>
      <td>-0.371451</td>
      <td> 0.026594</td>
      <td>-0.659379</td>
      <td>-0.328549</td>
      <td> 0.166231</td>
      <td> 0.012716</td>
      <td>-0.356936</td>
      <td>-0.366887</td>
      <td>-0.202251</td>
    </tr>
    <tr>
      <th>121_at</th>
      <td> 0.418026</td>
      <td> 0.364847</td>
      <td> 0.042362</td>
      <td> 0.240113</td>
      <td> 0.130720</td>
      <td>-0.343165</td>
      <td>-0.322852</td>
      <td>-0.461611</td>
      <td> 0.073949</td>
      <td>-0.027296</td>
      <td>...</td>
      <td> 0.021700</td>
      <td> 0.298814</td>
      <td> 0.000417</td>
      <td> 0.330612</td>
      <td> 0.585598</td>
      <td> 0.210887</td>
      <td> 0.036463</td>
      <td>-0.083972</td>
      <td>-0.058733</td>
      <td> 0.191626</td>
    </tr>
    <tr>
      <th>1255_g_at</th>
      <td> 0.018335</td>
      <td>-0.022187</td>
      <td>-0.115002</td>
      <td> 0.020611</td>
      <td>-0.025980</td>
      <td> 0.090351</td>
      <td>-0.019693</td>
      <td>-0.088959</td>
      <td> 0.170104</td>
      <td>-0.246015</td>
      <td>...</td>
      <td>-0.123951</td>
      <td> 0.017269</td>
      <td> 0.065775</td>
      <td> 0.025562</td>
      <td> 0.015776</td>
      <td> 0.108846</td>
      <td> 0.299192</td>
      <td> 0.041912</td>
      <td>-0.028842</td>
      <td> 0.091189</td>
    </tr>
  </tbody>
</table>
<p>5 rows × 102 columns</p>
</div>
</div>

</div>

</div>
</div>

</div>
<div class="cell border-box-sizing text_cell rendered"><div class="prompt input_prompt">
</div>
<div class="inner_cell">
<div class="text_cell_render border-box-sizing rendered_html">
<p>Using this mean normalized gene expression data, compute the projection to the first Principal Component (PC1).</p>
<p><strong>Hint</strong>: Use the <code>numpy.linalg.svd()</code> function in the <code>numpy.linalg</code> module (or the <code>scipy.linalg.svd()</code> function in the <code>scipy.linalg</code> module) to apply an <a href="http://en.wikipedia.org/wiki/Singular_value_decomposition">singular value decomposition</a> to a matrix.</p>

</div>
</div>
</div>
<div class="cell border-box-sizing code_cell rendered">
<div class="input">
<div class="prompt input_prompt">In&nbsp;[76]:</div>
<div class="inner_cell">
    <div class="input_area">
<div class=" highlight hl-ipython3"><pre><span></span><span class="c1">#your code here</span>
<span class="n">U</span><span class="p">,</span><span class="n">s</span><span class="p">,</span><span class="n">Vh</span> <span class="o">=</span> <span class="n">lin</span><span class="o">.</span><span class="n">svd</span><span class="p">(</span><span class="n">data</span><span class="o">.</span><span class="n">values</span><span class="p">)</span>
<span class="n">V</span> <span class="o">=</span> <span class="n">Vh</span><span class="o">.</span><span class="n">T</span>
</pre></div>

</div>
</div>
</div>

</div>
<div class="cell border-box-sizing text_cell rendered"><div class="prompt input_prompt">
</div>
<div class="inner_cell">
<div class="text_cell_render border-box-sizing rendered_html">
<p>Create a histogram using the values from PC1.  Use a bin size of 25.</p>

</div>
</div>
</div>
<div class="cell border-box-sizing code_cell rendered">
<div class="input">
<div class="prompt input_prompt">In&nbsp;[77]:</div>
<div class="inner_cell">
    <div class="input_area">
<div class=" highlight hl-ipython3"><pre><span></span><span class="c1">#your code here</span>
<span class="n">plt</span><span class="o">.</span><span class="n">hist</span><span class="p">(</span><span class="n">V</span><span class="p">[:,</span><span class="mi">0</span><span class="p">],</span> <span class="n">bins</span> <span class="o">=</span> <span class="mi">25</span><span class="p">)</span>
<span class="n">plt</span><span class="o">.</span><span class="n">xlabel</span><span class="p">(</span><span class="s1">&#39;PC1&#39;</span><span class="p">)</span>
<span class="n">plt</span><span class="o">.</span><span class="n">ylabel</span><span class="p">(</span><span class="s1">&#39;Frequency&#39;</span><span class="p">)</span>
<span class="n">plt</span><span class="o">.</span><span class="n">title</span><span class="p">(</span><span class="s1">&#39;Distribution of the values from PC1&#39;</span><span class="p">)</span>
</pre></div>

</div>
</div>
</div>

<div class="output_wrapper">
<div class="output">


<div class="output_area">

<div class="prompt output_prompt">Out[77]:</div>




<div class="output_text output_subarea output_execute_result">
<pre>&lt;matplotlib.text.Text at 0x108362a10&gt;</pre>
</div>

</div>

<div class="output_area">

<div class="prompt"></div>




<div class="output_png output_subarea ">
<img src="data:image/png;base64,iVBORw0KGgoAAAANSUhEUgAAAmoAAAGRCAYAAADVb584AAAABHNCSVQICAgIfAhkiAAAAAlwSFlz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==
"
>
</div>

</div>

</div>
</div>

</div>
<div class="cell border-box-sizing text_cell rendered"><div class="prompt input_prompt">
</div>
<div class="inner_cell">
<div class="text_cell_render border-box-sizing rendered_html">
<p>Create a scatter plot with the days since October 31, 2002 on the x-axis and PC1 on the y-axis.</p>

</div>
</div>
</div>
<div class="cell border-box-sizing code_cell rendered">
<div class="input">
<div class="prompt input_prompt">In&nbsp;[78]:</div>
<div class="inner_cell">
    <div class="input_area">
<div class=" highlight hl-ipython3"><pre><span></span><span class="c1">#your code here</span>
<span class="n">plt</span><span class="o">.</span><span class="n">scatter</span><span class="p">(</span><span class="n">sampleinfoCEU</span><span class="o">.</span><span class="n">elapsedInDays</span><span class="p">,</span> <span class="n">V</span><span class="p">[:,</span><span class="mi">0</span><span class="p">])</span>
<span class="n">plt</span><span class="o">.</span><span class="n">xlabel</span><span class="p">(</span><span class="s1">&#39;Date sample was processed (Number of days since Oct 31, 2012)&#39;</span><span class="p">)</span>
<span class="n">plt</span><span class="o">.</span><span class="n">ylabel</span><span class="p">(</span><span class="s1">&#39;PC1&#39;</span><span class="p">)</span>
<span class="n">plt</span><span class="o">.</span><span class="n">title</span><span class="p">(</span><span class="s1">&#39;Relationship between the PC1 and the date the samples were processed&#39;</span><span class="p">)</span>
</pre></div>

</div>
</div>
</div>

<div class="output_wrapper">
<div class="output">


<div class="output_area">

<div class="prompt output_prompt">Out[78]:</div>




<div class="output_text output_subarea output_execute_result">
<pre>&lt;matplotlib.text.Text at 0x10f007f10&gt;</pre>
</div>

</div>

<div class="output_area">

<div class="prompt"></div>




<div class="output_png output_subarea ">
<img src="data:image/png;base64,iVBORw0KGgoAAAANSUhEUgAAAnkAAAGRCAYAAAAZ9qXTAAAABHNCSVQICAgIfAhkiAAAAAlwSFlz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"
>
</div>

</div>

</div>
</div>

</div>
<div class="cell border-box-sizing text_cell rendered"><div class="prompt input_prompt">
</div>
<div class="inner_cell">
<div class="text_cell_render border-box-sizing rendered_html">
<p>Around what day do you notice a difference in the way the samples were processed?</p>

</div>
</div>
</div>
<div class="cell border-box-sizing code_cell rendered">
<div class="input">
<div class="prompt input_prompt">In&nbsp;[79]:</div>
<div class="inner_cell">
    <div class="input_area">
<div class=" highlight hl-ipython3"><pre><span></span><span class="c1">#your code here</span>
<span class="n">plt</span><span class="o">.</span><span class="n">scatter</span><span class="p">(</span><span class="n">sampleinfoCEU</span><span class="o">.</span><span class="n">elapsedInDays</span><span class="p">,</span> <span class="n">V</span><span class="p">[:,</span><span class="mi">0</span><span class="p">])</span>
<span class="n">plt</span><span class="o">.</span><span class="n">xlim</span><span class="p">(</span><span class="mi">0</span><span class="p">,</span><span class="mi">160</span><span class="p">)</span>
<span class="n">plt</span><span class="o">.</span><span class="n">xlabel</span><span class="p">(</span><span class="s1">&#39;Date sample was processed (Number of days since Oct 31, 2012)&#39;</span><span class="p">)</span>
<span class="n">plt</span><span class="o">.</span><span class="n">ylabel</span><span class="p">(</span><span class="s1">&#39;PC1&#39;</span><span class="p">)</span>
<span class="n">plt</span><span class="o">.</span><span class="n">title</span><span class="p">(</span><span class="s1">&#39;Relationship between the PC1 and the date the samples were processed&#39;</span><span class="p">)</span>
<span class="n">plt</span><span class="o">.</span><span class="n">axvline</span><span class="p">(</span><span class="n">x</span><span class="o">=</span><span class="mi">100</span><span class="p">,</span> <span class="n">color</span><span class="o">=</span><span class="s1">&#39;r&#39;</span><span class="p">)</span>
</pre></div>

</div>
</div>
</div>

<div class="output_wrapper">
<div class="output">


<div class="output_area">

<div class="prompt output_prompt">Out[79]:</div>




<div class="output_text output_subarea output_execute_result">
<pre>&lt;matplotlib.lines.Line2D at 0x10a211110&gt;</pre>
</div>

</div>

<div class="output_area">

<div class="prompt"></div>




<div class="output_png output_subarea ">
<img src="data:image/png;base64,iVBORw0KGgoAAAANSUhEUgAAAnYAAAGRCAYAAADo/f5eAAAABHNCSVQICAgIfAhkiAAAAAlwSFlz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"
>
</div>

</div>

</div>
</div>

</div>
<div class="cell border-box-sizing text_cell rendered"><div class="prompt input_prompt">
</div>
<div class="inner_cell">
<div class="text_cell_render border-box-sizing rendered_html">
<p>Answer: There is a difference around day 100.</p>

</div>
</div>
</div>
<div class="cell border-box-sizing text_cell rendered"><div class="prompt input_prompt">
</div>
<div class="inner_cell">
<div class="text_cell_render border-box-sizing rendered_html">
<h2 id="Discussion-for-Problem-1">Discussion for Problem 1<a class="anchor-link" href="#Discussion-for-Problem-1">&#182;</a></h2><p><em>Write a brief discussion of your conclusions to the questions and tasks above in 100 words or less.</em></p>
<p>Using exploratory data analysis and the SVD of the gene expression data matrix, we see the date the samples were processed does have a large effect on the variability seen in the data. This can been seen in the scatter plots in Problem 1(d) which shows a difference around day 100.</p>
<hr>

</div>
</div>
</div>
<div class="cell border-box-sizing text_cell rendered"><div class="prompt input_prompt">
</div>
<div class="inner_cell">
<div class="text_cell_render border-box-sizing rendered_html">
<h2 id="Problem-2:-Is-there-a-pollster-bias-in-presidential-election-polls?">Problem 2: Is there a pollster bias in presidential election polls?<a class="anchor-link" href="#Problem-2:-Is-there-a-pollster-bias-in-presidential-election-polls?">&#182;</a></h2>
</div>
</div>
</div>
<div class="cell border-box-sizing text_cell rendered"><div class="prompt input_prompt">
</div>
<div class="inner_cell">
<div class="text_cell_render border-box-sizing rendered_html">
<h4 id="Problem-2(a)">Problem 2(a)<a class="anchor-link" href="#Problem-2(a)">&#182;</a></h4><p>The <a href="http://elections.huffingtonpost.com/pollster">HuffPost Pollster</a> contains many political polls. You can access these polls from individual races as a CSV but you can also access polls through the <a href="http://elections.huffingtonpost.com/pollster/api">HuffPost Pollster API</a> to access the data.</p>
<p>Read in the polls from the <a href="http://elections.huffingtonpost.com/pollster/2012-general-election-romney-vs-obama">2012 Presidential Election: Barack Obama vs Mitt Romney</a> into a pandas DataFrame called <code>election</code>. For this problem, you may read in the polls for this race directly using <a href="http://elections.huffingtonpost.com/pollster/2012-general-election-romney-vs-obama.csv">the CSV file</a> available from the HuffPost Pollster page.</p>

</div>
</div>
</div>
<div class="cell border-box-sizing code_cell rendered">
<div class="input">
<div class="prompt input_prompt">In&nbsp;[80]:</div>
<div class="inner_cell">
    <div class="input_area">
<div class=" highlight hl-ipython3"><pre><span></span><span class="c1">#your code here</span>
<span class="n">url</span> <span class="o">=</span> <span class="s2">&quot;http://elections.huffingtonpost.com/pollster/2012-general-election-romney-vs-obama.csv&quot;</span>
<span class="n">source</span> <span class="o">=</span> <span class="n">requests</span><span class="o">.</span><span class="n">get</span><span class="p">(</span><span class="n">url</span><span class="p">)</span><span class="o">.</span><span class="n">text</span>
<span class="n">s</span> <span class="o">=</span> <span class="n">StringIO</span><span class="p">(</span><span class="n">source</span><span class="p">)</span>
<span class="n">election</span> <span class="o">=</span> <span class="n">pd</span><span class="o">.</span><span class="n">DataFrame</span><span class="o">.</span><span class="n">from_csv</span><span class="p">(</span><span class="n">s</span><span class="p">,</span> <span class="n">index_col</span><span class="o">=</span><span class="kc">None</span><span class="p">)</span><span class="o">.</span><span class="n">convert_objects</span><span class="p">(</span>
            <span class="n">convert_dates</span><span class="o">=</span><span class="s2">&quot;coerce&quot;</span><span class="p">,</span> <span class="n">convert_numeric</span><span class="o">=</span><span class="kc">True</span><span class="p">)</span> <span class="c1"># Access polls as a CSV file</span>
</pre></div>

</div>
</div>
</div>

</div>
<div class="cell border-box-sizing text_cell rendered"><div class="prompt input_prompt">
</div>
<div class="inner_cell">
<div class="text_cell_render border-box-sizing rendered_html">
<p>Show the head of the <code>election</code> DataFrame.</p>

</div>
</div>
</div>
<div class="cell border-box-sizing code_cell rendered">
<div class="input">
<div class="prompt input_prompt">In&nbsp;[81]:</div>
<div class="inner_cell">
    <div class="input_area">
<div class=" highlight hl-ipython3"><pre><span></span><span class="c1">#your code here</span>
<span class="n">election</span><span class="o">.</span><span class="n">head</span><span class="p">()</span>
</pre></div>

</div>
</div>
</div>

<div class="output_wrapper">
<div class="output">


<div class="output_area">

<div class="prompt output_prompt">Out[81]:</div>



<div class="output_html rendered_html output_subarea output_execute_result">
<div style="max-height:1000px;max-width:1500px;overflow:auto;">
<table border="1" class="dataframe">
  <thead>
    <tr style="text-align: right;">
      <th></th>
      <th>Pollster</th>
      <th>Start Date</th>
      <th>End Date</th>
      <th>Entry Date/Time (ET)</th>
      <th>Number of Observations</th>
      <th>Population</th>
      <th>Mode</th>
      <th>Obama</th>
      <th>Romney</th>
      <th>Undecided</th>
      <th>Pollster URL</th>
      <th>Source URL</th>
      <th>Partisan</th>
      <th>Affiliation</th>
    </tr>
  </thead>
  <tbody>
    <tr>
      <th>0</th>
      <td> Politico/GWU/Battleground</td>
      <td>2012-11-04</td>
      <td>2012-11-05</td>
      <td>2012-11-06 08:40:26</td>
      <td> 1000</td>
      <td> Likely Voters</td>
      <td>      Live Phone</td>
      <td> 47</td>
      <td> 47</td>
      <td>  6</td>
      <td> http://elections.huffingtonpost.com/pollster/p...</td>
      <td>NaN</td>
      <td> Nonpartisan</td>
      <td> None</td>
    </tr>
    <tr>
      <th>1</th>
      <td>                UPI/CVOTER</td>
      <td>2012-11-03</td>
      <td>2012-11-05</td>
      <td>2012-11-05 18:30:15</td>
      <td> 3000</td>
      <td> Likely Voters</td>
      <td>      Live Phone</td>
      <td> 49</td>
      <td> 48</td>
      <td>NaN</td>
      <td> http://elections.huffingtonpost.com/pollster/p...</td>
      <td>NaN</td>
      <td> Nonpartisan</td>
      <td> None</td>
    </tr>
    <tr>
      <th>2</th>
      <td>          Gravis Marketing</td>
      <td>2012-11-03</td>
      <td>2012-11-05</td>
      <td>2012-11-06 09:22:02</td>
      <td>  872</td>
      <td> Likely Voters</td>
      <td> Automated Phone</td>
      <td> 48</td>
      <td> 48</td>
      <td>  4</td>
      <td> http://elections.huffingtonpost.com/pollster/p...</td>
      <td>NaN</td>
      <td> Nonpartisan</td>
      <td> None</td>
    </tr>
    <tr>
      <th>3</th>
      <td>      JZ Analytics/Newsmax</td>
      <td>2012-11-03</td>
      <td>2012-11-05</td>
      <td>2012-11-06 07:38:41</td>
      <td> 1041</td>
      <td> Likely Voters</td>
      <td>        Internet</td>
      <td> 47</td>
      <td> 47</td>
      <td>  6</td>
      <td> http://elections.huffingtonpost.com/pollster/p...</td>
      <td>NaN</td>
      <td>     Sponsor</td>
      <td>  Rep</td>
    </tr>
    <tr>
      <th>4</th>
      <td>                 Rasmussen</td>
      <td>2012-11-03</td>
      <td>2012-11-05</td>
      <td>2012-11-06 08:47:50</td>
      <td> 1500</td>
      <td> Likely Voters</td>
      <td> Automated Phone</td>
      <td> 48</td>
      <td> 49</td>
      <td>NaN</td>
      <td> http://elections.huffingtonpost.com/pollster/p...</td>
      <td>NaN</td>
      <td> Nonpartisan</td>
      <td> None</td>
    </tr>
  </tbody>
</table>
</div>
</div>

</div>

</div>
</div>

</div>
<div class="cell border-box-sizing text_cell rendered"><div class="prompt input_prompt">
</div>
<div class="inner_cell">
<div class="text_cell_render border-box-sizing rendered_html">
<p>How many polls were conducted in November? Define this number as M.</p>
<p><strong>Hint</strong>: Subset the <code>election</code> DataFrame for only dates in the <code>Start Date</code> column that are in November 2012.</p>

</div>
</div>
</div>
<div class="cell border-box-sizing code_cell rendered">
<div class="input">
<div class="prompt input_prompt">In&nbsp;[82]:</div>
<div class="inner_cell">
    <div class="input_area">
<div class=" highlight hl-ipython3"><pre><span></span><span class="c1">#your code here</span>
<span class="n">filtered</span> <span class="o">=</span> <span class="n">election</span><span class="p">[</span><span class="nb">map</span><span class="p">(</span><span class="k">lambda</span> <span class="n">x</span><span class="p">:</span> <span class="p">(</span><span class="n">x</span><span class="o">.</span><span class="n">month</span> <span class="o">==</span> <span class="mi">11</span><span class="p">)</span> <span class="ow">and</span> <span class="p">(</span><span class="n">x</span><span class="o">.</span><span class="n">year</span> <span class="o">==</span><span class="mi">2012</span><span class="p">),</span> <span class="n">election</span><span class="p">[</span><span class="s2">&quot;Start Date&quot;</span><span class="p">])]</span>
<span class="n">filtered</span><span class="o">.</span><span class="n">drop_duplicates</span><span class="p">(</span><span class="s1">&#39;Pollster&#39;</span><span class="p">,</span> <span class="n">inplace</span> <span class="o">=</span> <span class="kc">True</span><span class="p">)</span> <span class="c1"># Removes duplicate pollsters</span>
<span class="n">M</span> <span class="o">=</span> <span class="nb">len</span><span class="p">(</span><span class="n">filtered</span><span class="p">)</span>
<span class="nb">print</span> <span class="s2">&quot;Number of polls in November: </span><span class="si">%i</span><span class="s2">&quot;</span> <span class="o">%</span> <span class="n">M</span> 
</pre></div>

</div>
</div>
</div>

<div class="output_wrapper">
<div class="output">


<div class="output_area">

<div class="prompt"></div>


<div class="output_subarea output_stream output_stdout output_text">
<pre>Number of polls in November: 18
</pre>
</div>
</div>

</div>
</div>

</div>
<div class="cell border-box-sizing text_cell rendered"><div class="prompt input_prompt">
</div>
<div class="inner_cell">
<div class="text_cell_render border-box-sizing rendered_html">
<p>Answer: There were 18 polls with a Start Date in November after accounting for multiple polls within a given pollster (or 19 polls total with a Start Date in November).</p>

</div>
</div>
</div>
<div class="cell border-box-sizing text_cell rendered"><div class="prompt input_prompt">
</div>
<div class="inner_cell">
<div class="text_cell_render border-box-sizing rendered_html">
<p>What was the median of the number of observations in the November polls? Define this quantity as N.</p>

</div>
</div>
</div>
<div class="cell border-box-sizing code_cell rendered">
<div class="input">
<div class="prompt input_prompt">In&nbsp;[83]:</div>
<div class="inner_cell">
    <div class="input_area">
<div class=" highlight hl-ipython3"><pre><span></span><span class="c1">#your code here</span>
<span class="n">N</span> <span class="o">=</span> <span class="n">np</span><span class="o">.</span><span class="n">median</span><span class="p">(</span><span class="n">filtered</span><span class="p">[</span><span class="s2">&quot;Number of Observations&quot;</span><span class="p">])</span>
<span class="nb">print</span> <span class="n">N</span>
</pre></div>

</div>
</div>
</div>

<div class="output_wrapper">
<div class="output">


<div class="output_area">

<div class="prompt"></div>


<div class="output_subarea output_stream output_stdout output_text">
<pre>1200.0
</pre>
</div>
</div>

</div>
</div>

</div>
<div class="cell border-box-sizing text_cell rendered"><div class="prompt input_prompt">
</div>
<div class="inner_cell">
<div class="text_cell_render border-box-sizing rendered_html">
<p>Answer: The median number of observations in the November polls was 1200.</p>

</div>
</div>
</div>
<div class="cell border-box-sizing text_cell rendered"><div class="prompt input_prompt">
</div>
<div class="inner_cell">
<div class="text_cell_render border-box-sizing rendered_html">
<h4 id="Problem-2(b)">Problem 2(b)<a class="anchor-link" href="#Problem-2(b)">&#182;</a></h4><p>Using the median sample size $N$ from Problem 2(a), simulate the results from a single poll:  simulate the number of votes for Obama out of a sample size $N$ where $p$ = 0.53 is the percent of voters who are voting for Obama.</p>
<p><strong>Hint</strong>: Use the binomial distribution with parameters $N$ and $p$ = 0.53.</p>

</div>
</div>
</div>
<div class="cell border-box-sizing code_cell rendered">
<div class="input">
<div class="prompt input_prompt">In&nbsp;[84]:</div>
<div class="inner_cell">
    <div class="input_area">
<div class=" highlight hl-ipython3"><pre><span></span><span class="c1">#your code here</span>
</pre></div>

</div>
</div>
</div>

</div>
<div class="cell border-box-sizing text_cell rendered"><div class="prompt input_prompt">
</div>
<div class="inner_cell">
<div class="text_cell_render border-box-sizing rendered_html">
<p>To simulate the <em>number</em> of votes for Obama from a single poll, we can use the <code>random.binomial</code> function in <code>numpy</code> to simulate one binomial random variable with a sample size $N$ and $p$ which is the percent of voters who are voting for Obama.</p>

</div>
</div>
</div>
<div class="cell border-box-sizing code_cell rendered">
<div class="input">
<div class="prompt input_prompt">In&nbsp;[85]:</div>
<div class="inner_cell">
    <div class="input_area">
<div class=" highlight hl-ipython3"><pre><span></span><span class="n">p</span> <span class="o">=</span> <span class="mf">0.53</span>
<span class="s2">&quot;Simulated number of votes for Obama: </span><span class="si">%i</span><span class="s2">&quot;</span> <span class="o">%</span> <span class="n">np</span><span class="o">.</span><span class="n">random</span><span class="o">.</span><span class="n">binomial</span><span class="p">(</span><span class="n">N</span><span class="p">,</span> <span class="n">p</span><span class="p">,</span> <span class="n">size</span><span class="o">=</span><span class="mi">1</span><span class="p">)</span>
</pre></div>

</div>
</div>
</div>

<div class="output_wrapper">
<div class="output">


<div class="output_area">

<div class="prompt output_prompt">Out[85]:</div>




<div class="output_text output_subarea output_execute_result">
<pre>&#39;Simulated number of votes for Obama: 645&#39;</pre>
</div>

</div>

</div>
</div>

</div>
<div class="cell border-box-sizing text_cell rendered"><div class="prompt input_prompt">
</div>
<div class="inner_cell">
<div class="text_cell_render border-box-sizing rendered_html">
<p>Now, perform a Monte Carlo simulation to obtain the estimated percentage of Obama votes with a sample size $N$ where $N$ is the median sample size calculated in Problem 2(a). Let $p$=0.53 be the percent of voters are voting for Obama.</p>
<p><strong>Hint</strong>: You will repeat the simulation above 1,000 times and plot the distribution of the estimated <em>percent</em> of Obama votes from a single poll.  The results from the single poll you simulate is random variable and will be different every time you sample.</p>

</div>
</div>
</div>
<div class="cell border-box-sizing code_cell rendered">
<div class="input">
<div class="prompt input_prompt">In&nbsp;[86]:</div>
<div class="inner_cell">
    <div class="input_area">
<div class=" highlight hl-ipython3"><pre><span></span><span class="c1">#your code here</span>
</pre></div>

</div>
</div>
</div>

</div>
<div class="cell border-box-sizing text_cell rendered"><div class="prompt input_prompt">
</div>
<div class="inner_cell">
<div class="text_cell_render border-box-sizing rendered_html">
<p>To simulate the the estimate <em>percentage</em> of Obama votes, we can repeat the above simulation using a Bernoulli distribution, but just divide by the total number of votes.</p>

</div>
</div>
</div>
<div class="cell border-box-sizing code_cell rendered">
<div class="input">
<div class="prompt input_prompt">In&nbsp;[87]:</div>
<div class="inner_cell">
    <div class="input_area">
<div class=" highlight hl-ipython3"><pre><span></span><span class="n">p</span> <span class="o">=</span> <span class="mf">0.53</span>
<span class="n">B</span> <span class="o">=</span> <span class="mi">1000</span>
<span class="n">obs</span> <span class="o">=</span> <span class="n">np</span><span class="o">.</span><span class="n">random</span><span class="o">.</span><span class="n">binomial</span><span class="p">(</span><span class="n">N</span><span class="p">,</span> <span class="n">p</span><span class="p">,</span> <span class="n">size</span> <span class="o">=</span> <span class="n">B</span><span class="p">)</span> <span class="o">/</span> <span class="n">N</span>
</pre></div>

</div>
</div>
</div>

</div>
<div class="cell border-box-sizing text_cell rendered"><div class="prompt input_prompt">
</div>
<div class="inner_cell">
<div class="text_cell_render border-box-sizing rendered_html">
<p>We can also write this in terms of a Bernoulli random variable $X$ where $X$ has a binary outcome with probability $p$ of success where 
$$E(X) = p$$ 
and 
$$Var(X) = p(1-p)$$</p>
<p>In a single simulation, we simulate N binary outcomes of 1 or 0 representing a vote for Obama or not where N represents the poll sample size.  The average of the binary outcomes represents the <em>percent</em> of Obama votes from a single poll.  We repeat this process 1000 times.</p>

</div>
</div>
</div>
<div class="cell border-box-sizing code_cell rendered">
<div class="input">
<div class="prompt input_prompt">In&nbsp;[88]:</div>
<div class="inner_cell">
    <div class="input_area">
<div class=" highlight hl-ipython3"><pre><span></span><span class="n">p</span> <span class="o">=</span> <span class="mf">0.53</span>
<span class="n">B</span> <span class="o">=</span> <span class="mi">1000</span>
<span class="n">obs</span> <span class="o">=</span> <span class="nb">map</span><span class="p">(</span><span class="k">lambda</span> <span class="n">x</span><span class="p">:</span> <span class="n">np</span><span class="o">.</span><span class="n">mean</span><span class="p">(</span><span class="n">np</span><span class="o">.</span><span class="n">random</span><span class="o">.</span><span class="n">binomial</span><span class="p">(</span><span class="mi">1</span><span class="p">,</span> <span class="n">p</span><span class="p">,</span> <span class="n">size</span> <span class="o">=</span> <span class="n">N</span><span class="p">)),</span> <span class="n">xrange</span><span class="p">(</span><span class="n">B</span><span class="p">))</span>
</pre></div>

</div>
</div>
</div>

</div>
<div class="cell border-box-sizing text_cell rendered"><div class="prompt input_prompt">
</div>
<div class="inner_cell">
<div class="text_cell_render border-box-sizing rendered_html">
<p>Plot the distribution of the estimated percentage of Obama votes from your single poll. What is the distribution of the estimated percentage of Obama votes?</p>

</div>
</div>
</div>
<div class="cell border-box-sizing code_cell rendered">
<div class="input">
<div class="prompt input_prompt">In&nbsp;[89]:</div>
<div class="inner_cell">
    <div class="input_area">
<div class=" highlight hl-ipython3"><pre><span></span><span class="c1">#your code here</span>
<span class="n">plt</span><span class="o">.</span><span class="n">hist</span><span class="p">(</span><span class="n">obs</span><span class="p">)</span>
</pre></div>

</div>
</div>
</div>

<div class="output_wrapper">
<div class="output">


<div class="output_area">

<div class="prompt output_prompt">Out[89]:</div>




<div class="output_text output_subarea output_execute_result">
<pre>(array([   1.,   21.,   39.,  100.,  216.,  213.,  235.,  115.,   50.,   10.]),
 array([ 0.48166667,  0.49041667,  0.49916667,  0.50791667,  0.51666667,
         0.52541667,  0.53416667,  0.54291667,  0.55166667,  0.56041667,
         0.56916667]),
 &lt;a list of 10 Patch objects&gt;)</pre>
</div>

</div>

<div class="output_area">

<div class="prompt"></div>




<div class="output_png output_subarea ">
<img src="data:image/png;base64,iVBORw0KGgoAAAANSUhEUgAAAmAAAAF1CAYAAABPmFZlAAAABHNCSVQICAgIfAhkiAAAAAlwSFlz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"
>
</div>

</div>

</div>
</div>

</div>
<div class="cell border-box-sizing text_cell rendered"><div class="prompt input_prompt">
</div>
<div class="inner_cell">
<div class="text_cell_render border-box-sizing rendered_html">
<p>At first glance the distribution looks normally distributed. We can use a qqplot to visually inspect if this distribution is normally distributed.</p>

</div>
</div>
</div>
<div class="cell border-box-sizing code_cell rendered">
<div class="input">
<div class="prompt input_prompt">In&nbsp;[90]:</div>
<div class="inner_cell">
    <div class="input_area">
<div class=" highlight hl-ipython3"><pre><span></span><span class="kn">import</span> <span class="nn">scipy.stats</span> <span class="k">as</span> <span class="nn">stats</span>
<span class="n">stats</span><span class="o">.</span><span class="n">probplot</span><span class="p">((</span><span class="n">obs</span> <span class="o">-</span> <span class="n">np</span><span class="o">.</span><span class="n">mean</span><span class="p">(</span><span class="n">obs</span><span class="p">))</span> <span class="o">/</span> <span class="n">np</span><span class="o">.</span><span class="n">std</span><span class="p">(</span><span class="n">obs</span><span class="p">,</span> <span class="n">ddof</span><span class="o">=</span><span class="mi">1</span><span class="p">),</span> <span class="n">dist</span><span class="o">=</span><span class="s2">&quot;norm&quot;</span><span class="p">,</span> <span class="n">plot</span> <span class="o">=</span> <span class="n">plt</span><span class="p">)</span>
<span class="n">plt</span><span class="o">.</span><span class="n">show</span><span class="p">()</span>
</pre></div>

</div>
</div>
</div>

<div class="output_wrapper">
<div class="output">


<div class="output_area">

<div class="prompt"></div>




<div class="output_png output_subarea ">
<img src="data:image/png;base64,iVBORw0KGgoAAAANSUhEUgAAAmUAAAGRCAYAAAAkZMS1AAAABHNCSVQICAgIfAhkiAAAAAlwSFlz
AAALEgAACxIB0t1+/AAAIABJREFUeJzs3Xl8VPX1//HXZIckQFgDCIio7ItYrbQKcYMi5Wf1Wzfc
QNCqIWytWlmHVTZbWULV0lrFukFFxZFNbYh1qVpXQAiEXQEhyJo9md8fnzuZyRAggVlukvfz8ZhH
5t65d/LJVNKTc849F0REREREREREREREREREREREREREREREREREREREREREREREaozfAOuBUuA7
wAV8AawEfnWO730r8Caw6CzOjQH+AHwI3H2a424CdlnHA9wJvAS87nPMZcABoPlZrONUrgY+wHxu
u4C3gE+BDOAO65hmwOPWcXcF8HuLiIhIDfUwJri4x9qOAGZZ+4acw/tGYwK+v5/l+S381lWRy4Gl
QJS1HQW8C7zvc0xbYAWQ5Hdu67Ncl8cN1vom+uwbbu2bbG234cw/Q0XanOPaRCQMIsK9ABGp9nL9
tkuBCUAJMPYc3rcIk6E6Wz9U4phPgVuAYmu7GNgDOHyO2Q4MBH7y2TcEk+06F/6fG8BCzLoftdaw
8yzeNw54+hzWJSJhoqBMRIKhEBPENA33QirBQfkg7FQ8vy+7AH8O3nL4AVNObXCW56cDHQK3HBEJ
FQVlIhIMyUBj4GugFTAeUxK8ChN0PG8d1x54BpiE6eNaCrT0e68IYAZwCNgPjPN5LQaYC4wApgGv
AfX8zm8ELAdOAFnAr33WOBHYyqlLkfWBMcC31toB+lvf4zZgDqZMugKTIXwCSLCO6wvswwRxlRUH
XAh8T/nMnK9EYB6mxPkMkAn80nqtGyYgS7LWNrAK31tERESqucGYgORea7sJsApTnvs5Jvh5BcjB
NNLfCaRiGuf3A5193utVTJAUb21nYEp4NwIXA89a38vTvD8S2OJz/teYANCjFFiH6R27BPgYKADa
YQKr+61jfIOyfwD/tp7XxVywUAr09ntf3z6v8zDZwUd89l0KTOfUUqz3mWRtJ2CC1SLg5lN8Lwcm
CHvI5/WHgTygh7XtxJRcRUREpJYZjAkcvsBcffkJ8ALeIAFMoLDX77xpwEa/fZ2t93rQ2s4Alvi8
HgnsAL60ti/FG6A4MFdbLvY5vhQY6rN9MabXzVN+TOH0QRnA+Zw5KAN4GRNQeswAunJqnu+9CZNp
+y8m05fid5zv97rO2vYtC0dhso+vWttOFJSJVEtRZz5ERKRSnsIEY6eS77d9Kaak6GsjJuN0ic++
Ip/nJcB7eMdG/A/YAAzDZLUSObktw/f8LEzA0v406zxbT2Eycf0xI0E6Y8qeZ/ISMKWS3+NS66vv
51aM+Qx6nHy4iFQn6ikTkXApwfSb+XJjeseKTj68zAG8Ad7FmAzTZ8B8TIn0TA5ycoAYCP+1Hg9j
eru+CML3KLG+nue3/yCn/8xEpBpQUCYi4fIxpgx3oc++aMwFAh+d5rwWmGwZwAIgG9NLBqa8eSbN
fc4/FXcl3qeiKzb/jMmU/QHTRxdoH1tfr/Tb3wLvZ+Y+xdpExOYUlInIuarr97UiEZzcLvEXvDO5
PG7DlPxes7ZLgDo+r7fAzAfzXIHZHOiIuUryckwDfwvMFZdgAhTf83+NycR5+s6ira8xPsdE+a21
omMOWd83HpOt8/gXpneuK7CZ06vM5xbl9/VDYDUwymc952NKpTN91tYM85n0PMMaRMRGKvNXZbhE
YC6h38HZDVAUkeAbgAkQmmOCoaOYKfy+rgJ+D1yAKS/uwFyZmQe8gRneOgDojglw7sPbM7XNem2g
9T79MOXBTdbrR6zzh2H6xT4HBlnnf4QJkO7CNM9fY61hsPV6B8zVm10wvwu/tN4/1fpZdgDHrJ/v
csy4ii8xoyrirP1tgRfxlhXdmOzf55gA6lR6W5+JJ4g8AXzld0wjTPB5JSYA24AZsbEc0xOXan1e
N1jPPZ/JHuC3mCtL12EyiSIi5yQV8wu895kOFBGxkb9gslciIlVi1/LllZgrpI6GeyEiIlWQhMmU
7QjzOkSkGrLjSIxGwC+A2eFeiIhIJb2AGU1xEd5hsCIi1d5UvA2s21H5UkTs79/Aj5geNRGRs2K3
y6bvBz7A27C6HdOUu873oHbt2rmzs9W7KiIiItVCNuXH/1TIbj1l92OubsqzHm2ANfjN+8nOzsbt
duvh95g0aVLY12DHhz4XfSb6XPS56HPRZxLOB+ZK6zOyW0/Z5X7b2zE3Oc4Mw1pEREREQsZumTIR
ERGRWklBWQ2SkpIS7iXYkj6Xk+kzqZg+l4rpc6mYPpeT6TM5N3Zr9K8st1WjFREREbE1h8MBlYi5
lCkTERERsQEFZSIiIiI2oKBMRERExAYUlImIiIjYgIIyERERERtQUCYiIiJiAwrKRERERGxAQZmI
iIiIDSgoExEREbEBBWUiIiIiNqCgTERERMQGFJSJiIiI2ICCMhEREREbUFAmIiIiYgMKykRERERs
QEGZiIiIiA0oKBMRERGxAQVlIiIiIjagoExERETEBhSUiYiIiNiAgjIRERERG1BQJiIiImIDCspE
REREbEBBmYiIiIgNKCgTERERsQEFZSIiIiI2oKBMREREwicrC5YsCfcqbEFBmYiIiITeiRMwbhx0
7QrDhpngrJaLCvcCREREpBZxu2H5chg9GnbtMvvuuw+SksK7LhtQUCYiIiKhsWULpKXB6tVmu0cP
WLQIevUK77psQuVLERERCa7cXBg/Hrp0MQFZgwawcCF8/rkCMh92DcouAT4EfgLWAo3CuxwRERGp
Mk+psmNHmD4dCgthyBDYvBlSUyEyMtwrtBU7BmUxwC3AdcB5QAIwJqwrEhERkarZsgVuuAFuvtn0
jvXoAR99BH//OzRtGu7V2ZIdg7IkwAnkASeAdUBJOBckIiIileRbqly1CurXV6mykuzY6L/f53ks
0AxlykREROzN7YY334RRo2DnTrNv8GCYNUuZsUqyY6bMYyDwX0wZs0uY1yIiIiKnsnUrDBgAN91k
ArIePeDDD+G55xSQVYEdM2UeK4BvgenAi0Ab3xedTmfZ85SUFFJSUkK4NBERESE3F554AmbPNk38
9evDtGnw4IMQZecQI7gyMjLIyMio8nmOwC8l4OKAHKC19RXA7Xa7w7ciERGR2szthrfegpEjy5cq
Z86EZs3CujQ7cjgcUImYqzqEsfmYYOxQuBciIiJS623daoKxd94x2927Q3o6/PKX4V1XDWDHnrKG
mH4yjz7AC4BSYyIiIuGSmwsTJ0LnziYgq18f5s83V1UqIAsIO5Yvfwa8DWwGlgHHgef8jlH5UkRE
JBQqKlXee6+5qlKlykqpbPnSjkFZZSgoExERCbbsbBgxwluq7NbNlCqvvDK866pmKhuU2bF8KSIi
IuGUlweTJnlLlfXqwbx58L//KSALourQ6C8iIiKh4HbDihWmVLljh9l3zz2mVJmcHNal1QYKykRE
RMSUKkeOBJfLbIegVOlyZTJ//hoKCqKIjS1mxIi+DBjQO2jfz+4UlImIiNRmeXlmvtisWVBQYEqV
U6fCww8HdQCsy5XJyJGryc6eXrYvO3scQK0NzNRTJiIiUlutWGH6xqZMMQHZ3XfD5s2muT/IE/nn
z19TLiADyM6ezoIFa4P6fe1MmTIREZHaZts2U6p8+22z3bWrKVVedVXIllBQUHEIkp8fGbI12I0y
ZSIiIrVFXh44ndCpkwnI6tWDp56CL74IaUAGEBtbXOH+uLiSkK7DThSUiYiI1AZvv21KlZMnly9V
jhwZlpuHjxjRl3btxpXb167dWNLSrg/5WuxCw2NFRERqsopKlQsXQu/wN9O7XJksWLCW/PxI4uJK
SEu7vkY2+Wuiv4iISG2WlwezZ8MTT5jMWGKiuaoyNTUsmbHarLJBmf5XERERqWnefttcQbl9u9m+
6y4ToDVvHt51yWkpKBMREakptm83pcoVK8x2ly7mqsoAlyo19DU4FJSJiIhUd55S5cyZkJ9vSpVT
pphSZXR0QL+Vhr4Gj66+FBERqc5cLpMRczpNQHbnneaqylGjAh6QgYa+BpMyZSIiItXR9u0m8Hrr
LbPdubMpVfbpc1ZvV9mSpIa+Bo+CMhERkeokP997VaWnVDl5MgwfftaZsaqUJDX0NXhUvhQREaku
PKXKSZNMQDZoEGzaBKNHlwvIXK5M+vUbT0qKk379xuNyZZ52f1VKkhr6GjzKlImIiNhdFUqVp8p6
ffbZel588fsKs2FVKUl6MmcLFkzwGfr6KzX5B4CGx4qIiNhVfj7MmQMzZpjnCQmmVJmWdspSZb9+
41mzZtpJ+xs1uo2cnFcrOH4Cbre7wnP69ZvAqlVTz/3nqOUqOzxW5UsRERE7WrnSlConTvSWKjdv
hjFjTts7dqqsV3FxnQr35+dHqiRpEypfioiI2MmOHaZU+eabZrtTJ1OqTEmp1OmnasSPisqrcH9c
XIlKkjah8qWIiIgd5OfD3LkwffpJpUrXmo/Ljavo1asFH3/8Q4XbR4/uYe/eeuzb96eyt27Xbix3
3XXeST1l7dqNZd48BV/BphuSi4iIVBcrV5o+sexss33HHSZAa9Gigsb9TKKiXqK4+OlTbENy8lBa
tIgjMbGJlfW6ngEDeuNyZbJgwVqfbNj1CshCQEGZiIiI3e3YYcZZvPGG2e7UCRYuhKuvLjvk5Mb9
8cDptj3nqUnfLtToLyIiYlf5+TBtmgnC3njDlCrnzoWvvioLyDwzxf773z1+J/u3g2vCfk2hRn8R
EZFQWrXKlCq3bjXbt99uArKWLcsOKV+yHO/3Bv6N/JqwX1MoUyYiIhIKO3fCzTdD//4mIOvYEd5/
H15+uSwg82TH7r57kU8PWV/Ad1xFX6KiHjzNtsZZVFfqKRMREQmmggLvVZV5eRAfD04njBgBMTFl
h5XPjjmth0cmsJb69XdzxRWtuOKK5nzyyd6yhn3/bTXw20tle8pUvhQREQmWVatM8LVli9muoFTp
Uf7+k/4lyd5Ab664Qs37NZmCMhERkUDbudNcVbl8udnu2NFcVXnNNbhcmcy/7y98//0B9u07TPPm
zYmOPk5WVq7PG3hKluVniqWl/SqUP4WEmIIyERGRQCkogCefNFdWekqVkybByJEQE+NTouwHrAae
IScn03ruW93ylB4nkJS0i8svb60J+7WAHXvK+gDzgbbAx8AwYLffMeopExERe1m9muP3DSPhBzPC
YmlkCybEdSO/cUOOHy8mISGK778/SnHxCsrPFvM89wRnmrhf01TXnrKmwH3AnUBL4Bng74AuIRER
EXvatcuUKl9/nQTgOxoxnHG8X3IQTvSDE6uBfuTkrAY8NxL3/b9fz3NvdgwiSUrazLx5Dykgq0Xs
NhLjGmA4sB7z54ITuDKcCxIREfHlcmXSs+cwGsb/inGRncht0xZef53jRPII19CdH3ifHEzGa43f
V08Dv28jv+/z3sBUwMnll1+ogKyWsVtQ9gpwzGd7P7AzTGsREREpx+XKZNiw52n85R4+yf2M6aXf
UZdSXqUjHRjBXK6iiBi82S//r54Gft/ZY/5zyDRnrLayW/nSX0/g6TMeJSIiEgIvz1rKgn0f8Vs2
AZ5SZT/e55+Y3jD/TJj/V0/may1wkKiogXTo0I7o6OM4HKk+NxBXH1ltZOegLB7oCgyq6EWn01n2
PCUlhZSUlJAsSkREageXK5MJE14gK2svJbl5jHLv5Bl2Ek8Jx4lmCtN4imMU4bnHZF/geUzWq98p
vk7HM3PMNPHfqeCrBsrIyCAjI6PK59nx6kuPScAi4EAFr+nqSxERCRpPmXLfPrie71nAx7TnKACv
0ZHfcx17mI/3vpSeKykzgReAE0REHCY+vi4NG8Zx/HgJCQmRHD9eQvPmybRsmaip+7VIZa++tGtQ
dj/wPpBtbUcDRT6vKygTEZGA8s2MnThRwnlczJ9Yyy1WqXIT7RnOA7zHBuuMZEwG7HnruXeURXLy
aBYvvklBlwDVOygbjCm+f25tNwPOx/xX76GgTEREAsY3MxZNCWP4hgmsJ54iThDNFHrzZ96xmvg9
2bC9QASxsW4iIoqIjEwkOjqetm0TmDLlNgVkUqa6zin7FfBXKCvQA7iB9uFZjoiI1Abz569h377m
XMc2FrCGDuQAvqXKeoDn5uG98TTs9+une1FK4NgtKFuFd7KeiIhIUPiWKvPyCmhRGslr7OEWNgKw
mVYMpxPv0hI4YT3K34syOXk0aWk3hWP5UkPZsXxZGSpfiojIWfEvVY5mAxP5knhKOEE0U7mSP7OS
Qv6Lt0xZAJQSEZFAnToJtG+fpBKlVFp17imrDAVlIiJSKZ6s2MaN2ygocGPKkJdxLdtZyOqyUuVS
zmcMl7OHBNS4L4GkoExERGo9b1bsJ0zHTiItOcyf2MStZaXKRqTxEmuJo3xmLI74+HrKisk5q66N
/iIiIgHjaeCH40RzAaP4lIl8QIJ1VaUpVV5OIX2tM7yBl5r4JdTsdu9LERGRc+K5YXhCwgDWrPkW
iOIaDvM1i5nN+yRQxDLOpyM3MYu2FHIA/3tPmiZ+3XtSQkvlSxERqTF8m/jhJ1qSy5Ps4ja+A2Az
DUnj5QpKlWril+BRT5mIiNQqTucipk5dQWnppURTwijeYSJbSCCPXCKZSkf+xKUU0hI18UsoKSgT
EZFawwRkGZSWRnANMSxkJR05CMC/6M1omrObH33OqEtcXDydOjVWVkyCTkGZiIjUGo0b30ZsTjOe
5A1uZzcAWSSQxjLW0K/csY0a3c7Bg6+EY5lSS1U2KFOjv4iIVDtO5yLq1Lkah+NqYhy9GJKzkc08
ze3sJpdIxnIpXbmGNSwvd15k5AMMH66smNiTMmUiIlKtOJ2LmDx5BZDI1exlIV/TiWMA/Iv2jGEK
u1iDaeI/AtQH6pKYWMqYMdfidD4cvsVLraTypYiIVHtO5yJmzVpKfn4B4AZigThaEM2TbON2awDs
FpqQRgdWcxGaxi92o6BMRESqNW9GzCORKAoZyXYmsZFEisklkmn04UneoZC/AS7MiIs6OBwxXHJJ
shr5JewUlImISLXWuPFt5OR4t68mmoWsoBNHAXid9ozmQnbRA5h20vmayC92oUZ/ERGpNryN+7/A
4eiFw9GLnJxioA4tKOUlPuV9/kknjrKFJvTnUv6PbuwiBsjCfyJ/UlKqJvJLtaNMmYiIhNXJZUoj
ChjBXpxssEqVUUynA0/yGQX8HVhmHVkAxAAJRETE0rZtPPPmDVXJUmxD5UsREbGl8s37RUAjzBWS
Xin8yEI20Zl9ALxOM0ZzKbuIBZoCT5cdGxn5AOPH99BVlWJbCspERMR2ymfF8oA4oB5QF4Dm5DKX
zxnEdgC20pg0WrCKBLxXXxYC9XE44klI0JgLsb/KBmVRwV+KiIiIJyB7C29WLApPMBbFCUawpaxU
mUck03Eylz9QQFzZe2gav9RkCspERCTofAe+Qh1rrwOIow8NSOdvdOY4AMtpymg6sJM94BOQORz3
axq/1GgqX4qISNB5x1vk4i1VHmIuWQxiFwBbqcMIzmclDXzObADUpU6dIh59tJ/KlFItqXwpIiJh
5XJlMmLEPLZt2w20wmTJSoniMGnsZDJbSaSEPCKZwSTm8AgFxOFwDGPixJ4KwKTWUaZMREQCzuXK
5K67nuLw4UOYEqQDqEdvYkjnPbqwF4A3aMBozmcHzYG6xMQU8Pjj/RWQSY2iTJmIiIRU+cxYItDY
+lqXZI4xlw+40wrGsrmAEcznHQaQlJTK20t0KyQRZcpEROSclc+MuTGzx+oRRS7D2c5kvqEeheQR
wQzaMIcOFFCHuLhCli17RAGZ1GjKlImISMjMn7+Gw4ejMZkxgCJ6s5N0/kcXjgHwJv+PUTzFDtqW
ndenzwQFZCIW3ftSRETOmsuVSXJyP9as+Roz6iKeZCJYwlesI4MuHCObOgzgSn5Dl3IBme5PKVKe
ypciInJWXK5Mbr11Grm5BUBdIklgOBuZQhb1KCaPGJ6gHbOpSwHRmIb/eCCWdu0SdH9KqTV0myUR
EQkKlyuToUOns39/MZ6ZY1dxgHS+oytHAXiTJoziOnbwUtl5GnUhtVVNCcrigBiw/pV7KSgTEQmD
8tmxRiRTwmy+5m52ArCNuoygJS7qY9qWk9CoC6ntqnujvwO4F5gCDAHeC+9yREQETEN/bm4skUQz
nM0+pcpIZjKB2TxKftltlHSvSpGqsGtQ1hh4F/g75tpqEREJM6dzEWvWfMOV5JLO/+jGEQDeoiGj
6Mx29oJPQOZwDNO9KkWqwK5B2YFwL0BERLyczkU8PflFXmAHd1sDYLcRz0jG8TYZwCHga+AGVK4U
OTt2DcpERCTMPA39B/f/SCp5bCab+hSTTwQzOY9ZXEw+O4HVZeeomV/k7CkoExGRk3ga+nvmfs8a
dtKNEwCsoAWjmMs2/oGyYyKBpaBMREROsmTO6/wldyP38D1grqocSWfephlwh/XwiooaSEHBitAv
VKQGqUpQ1gcoBf4DNADmAAnAJGBz4Jd2ek6ns+x5SkoKKSkpoV6CiEiN4XJlcuedEzh+5ASp7OMZ
9vuUKjtapcpDmAlF9wN/9Tl7GLfc0ik8CxexoYyMDDIyMqp8XlXmlGUAdwO7ARfQApgMXAukVfk7
V04pcB3wvt9+zSkTEQkQlyuTm28ez2WFR0lnC93JNftpygg6sI16QHfMr/1/AoWYi+QTgOPccUc3
XnppVriWL2J7wZhT9jQmILsXuAbzLzQLaHgW66sMz3057T7gVkSk2nA6FzFt2nOUlJSU7WtKPM+y
nXutUuV26jCSC1lBM+A4Jju2CTOh6MOy8xISHuCVV9J0qySRAKlKUNYT6AUMA0ZhArILgVTMPLFA
aoLJj7uBQcD3mN8IIiJylpzORUyevATzqz+KSNw8zEGm8m1ZqXIWHZhJR/KJAh4GpmOmFOUCB4GB
QDTJyVEsXjxcAZlIAFUlCxUL9Ad2AF8BLTGlSwfwfMBXdnoqX4qInMGgQY/x8strffY0ASIB+CWH
SGcj3TkGgIsmjKAL24grOwZObtyPihpIUZEa+kWqIhjlywLM7Y5aWtsNre3vq7o4EREJLhOQZWL+
nvZIpCmFzOIbBlv3qtxBXUbQkRXUAUqAnzC3HAY19IuEVlUyZTcBLwAfA32tc2djmv4zAr6y01Om
TETkNKKjB1Jc7O0bi6SUh9jFVLbQwCpVzqYtM7mYPCKBR4AJmDJlCd5smWnodzhOcPvtXdXQL3IW
Kpspq0pQ9l/MGIxuwERrX0tgpbUvlBSUiYj46NLlJjZs2Ik3oLoAz/VSv+Ag6XxBD+tele/QgBGc
TzZxeLNiF+OfFbvjjkYKwkQCIBjly3XAMqCdz75WQJsqrUxERALKBGT7MMGYp1x5wipVbmaw1WWy
g7qM5C7e4gtM8FZgPSIxrcL9UVZMJHyqEpQdBX6B+dMrBrgaSAfWnu4kEREJvPKZsRZAEuaCdQeR
lPIgm5jGbhpQQgEOZtGCmXQkDwfwmc87DWPSJN2rUsQOqlK+jAbGAEOA1kAO8BYwFqyceOiofCki
tZY3M1aM+dv6PMyvcze9yCGdL7mEwwC8Qz1GcB7ZZRm0WEwAV5eoqDzGjRuggEwkyILRU3YqzYG9
AXifqlBQJiK1lsPRH08Q5vnaxCpVDvEpVY7in7zJjfj+qm/U6HYOHnwlDKsWqb2C0VM2CfMbwFc8
UAcYUYX3ERGRKjDjLVZZW5GY1l4TjEXi5kG2MI0NZaXK2bTgCTqSxyrgNz7vNIzhwzXsVcSuqhKU
3QR86bMdAXTBXH0pIiJBYAKy9zGtvFGYkuVxwEEvawDsJdYA2JUkMoIWbKUupsPkOHADKlWKVA9V
CcruAb7x29cMM9hGREQCwPSLbfPZ0xwzKwy8pUoHM/mc+zgAwE4SGMkSn1LlMHr3LmHduudCunYR
OTfn2lMWD2QDyQFYS1Wop0xEahwTkO3x23t+2bMI4EG2Mo0dJHGYAhzMoQkzaE4ezYEE4Di9eycr
IBOxkWD0lP27gn0XYobbiIjIOdqwIR9vVszjOABX8BPpfEdPjgKwin6ksYCtXGQd1x+3e2nI1ioi
gVeVoGwP8C7lI70cYFXFh4uIyOm4XJnceutj5ObmWnsuPumYxuxmJtkM5SAAO4lhFL15g5V4fx0P
o3PnuJCsWUSCpyrly0SwuknLa4QJzkJJ5UsRqdZcrkxuvPFRSkpKfPZ6s2QRuPkdu5nOFpIo8itV
ujEDY025snPnONavXx7in0BEKisQc8qaAB0rcf5vgNGVXllgKCgTkWrJ28jfEPDPbsUBe/g5x0ln
F5diMmirOY803mNLWSZtKJMmXaorKUWqiUAEZRcDG4DvOXk+mUcE5s+16Cqu71wpKBORasfbyF+C
mcIfW+71xixiJj9jKLsA2EU0o2jBcpIxQVxdIiJymTDh1wrIRKqRQE30fxB4+gzHDAJeqtyyAkZB
mYhUO2YS/8kicPMAu5nBDyRxmEKimcMjzGAsufwWt1vjIEWqs0BdfXmmgCwSKKrkmkREap3y0/h9
G/mPAz/xc474lSr7ksYCq1SpBn6R2qQqjf6tgZGYO9l6zqsP9ME0+4eSMmUiYnveafxgSpbNyl5r
TCFPUIdhuABTqhxNC16nA+a6KjXwi9QUwZhT9hSwGagHrLf29QBGVXVxIiI1VZ8+Q8jM/AIoBVpS
fu5YHBHs5gH2M529NKSEQqKZyx+YzjhyGalJ/CK1WFUyZfcBfwdaAd2BtzFB3RLgjsAv7bSUKRMR
2zEB2XpMViwSaIPvr9nL+QOL6MelHAFgDYmk0Z0sktEkfpGaK1CN/r7mA7uAxcBjwCbMVZd/wmTP
QklBmYjYjsNxAxVdrN6IQp4gi/sxt1DazXmM4ile52bgBjXyi9RwlQ3KIqrwns8APYEGwHTgRkxA
9vezWJ+ISI0xaNBjOBxdMbcDTih7RHCE37GRLNZxP3soJIIn+CMd2MTr/B9wP61bF4d17SJiH2eK
2mKAwlCJSFfwAAAgAElEQVQspIqUKRMRWzDN/Gsx5Upv/9hlHGYR3/GzslJlAmk0J4t2eCbxt25d
zM6da8OxbBEJoUBlyp4MyGpERGoIlyuT2NjLcDi64nB05+WXv8ZcVdkYOEgj9vIMn/EJn/AzjrCb
eH7LUvpxlCyygJbccccFuN0rFZCJSDlnitr2YHrH/o1p6N8V9BVVjjJlIhJyLlcmAweOwe0uxWTG
SoB2gBkAO4zvmcGXNKKAQhw8SWOmcx4naIYnO3bHHd146aVZ4fshRCTkAtXofz2wFrgcuAdoDrwJ
LANr0mF4KCgTkZAxJcp3MNmwk4e5XsZh0tnIZRwFYC3XkcYCNtMBgEaNbufgwVdCuGIRsZNAzSnz
5NY/tR5xmBuQPw8cAV4EMs52kSIiduftGYvGDHX13q+yEQXM4FOGsZ8IYDdxjOFKlrEG7+/foQwf
3jvk6xaR6qcqIzE8WmHuifk7zHT/xdbzUFKmTERCIjp6IMXF5a+QjMDNUPbwBFk0oogiIniShkyj
GSdIxPxq1M3DRcQIVKO/7+2TrgfeALYBqcA/gY6EPiATEQk6T0N/cXEs3jEX8DN28Akf8CwbaEQR
79KQbvyWxznACdYDHwPNmTTpGkpK3lFAJiKVdqao7UlgHzAMuAjYCKQDLwAngru001KmTESCpnxD
v7lfZUMKmcEW7mcPEbjZQxRjaMFSEsEnO+ZwnGDixIEKxkSkTKAa/Usxlxe9BSzEXIUZbC2BccA3
QC9gNrDB7xgFZSIScE7nIiZPfgZTJDC9Yw4OM4zveYIfaEQJRTj4E48wlQmcIAEYpvtVishpBSoo
ywQGY0qWoeAAPsfcxuldTHnUhcnSlfgcp6BMRALKBGSLMaMukoE4fsYh0vmay8kB4D3iGU5rNtEG
z4gL3a9SRM4kUEHZRcCWQCyokq7HjNyoB3g6azcDY4F/+RynoExEAqpx49vIyTEjLRpSyHS28AC7
iQC+pwWj+TNLuQXPr02NuRCRygpUo38oAzKAX2Kycr6XOmUB14R4HSJSS3ga+nNyinAQzzB+JIsP
eJDdlACzOZ8O9GMpt6IxFyISTGeaUxZqyWBNX/Q6ApwXhrWISA3nbeh3cCl7Sec7fm7dq/I9ejKc
AjbhAL4DbkCN/CISTHYLyoqBIr99Z8rmiYhUSZcuN7FhwzagIQ2p71eqjGYMrXiNSzBjGD2G0blz
DuvXrwzPokWkxjvXoCwGuAz4MABrAfgBuNJvXwNgh/+BTqez7HlKSgopKSkBWoKI1GQmINuDgwju
4xAz2URjCinCwVyuZSp7OU4k8BnQH09Df+fOcaxfvzy8ixeRaiEjI4OMjIwqn3e6prOfAXPOcH4D
IBv4bZW/c8V6Aasxjf4e2cDjwGs++9ToLyJnxeHoT0+OsIiNZaXK92nIcDrxHR9UcMYNuN3vhHaR
IlKjBOLel+sxA2KXWm80EPgfJpvl0Q6IP+tVnuwTYCdwNWYmWgegLrAigN9DRGoZkx3bShKlLCKf
37HNKlXGMoYWvEZDTPfE/cBffc4cRu/ezcKyZhGpfU4XlOUD9wE/WtsJmAGy/lwBXI8buBGYiJlR
djnwayAvgN9DRGqRLl1uYuOGHQzlGDPZQ2NrAOyTtGEKF3KcCcDvgVzM353ekqVmkIlIKJ2pp+xH
n+ftK3j9UqBn4JYDmJEYg63niwL83iJSw7Vpcz27dv2IuSEJ9CSRj9jOFVap8t/UYzit2EgMcBhY
gukf81BDv4iER1Ua/d8FvgI+wGTR2gP9gHlBWJeISJWZgOwwEEkSbqaxjwdZTwTwA3GMoTuv0g9z
F7dtmIu9P0UN/SJiB2dsOvPTFngI0+t1AlO6/Cem7BhKavQXkZM4HP1x4GYI3zOTzTShiCIczKMN
k7mQ40RhEvzTTjq3X78JrFo1NeRrFpGaLxCN/hU5ADyHmaTYFThE6AMyEZEyffoMITPzcyCCS2jC
Ir7kCg4B8G+aMJzmbCQSU6osATYB44DpZe8RGTmYtLT7Qr52ERFfVcmU3QS8AHwM9LXOnY3JlmUE
fGWnp0yZiFgB2ddWqXIPD3LQKlXG8nva8wrNMdN9NgBbMbOoS4FGQCIQTVxcLsuWjWXAAN02SUSC
IxiZsj8CQ4Bu1rYbeApY6bNPRCRonM5FTJmyGLe7CIjAQXOGUMQsq1RZjIM/05TJNOMYkUAOJjPW
CfD2iUVHD2H58iEKxETEVqoSlK0DlmFmk3m0AtoEdEUiIhVwOhcxebJnPEUcl3CMdD6jl1WqzKAx
w/k3GxiNuXC8yHpsAQ5iRi1GEx9fwKuvPqaATERspypB2VHgF5j8fwxmwGs6sDYI6xIRKWfhwnVA
YxpQxDS28CC7iAT2WqXKl2kOdOHkX0n9cbs13kJE7K8qN/ueCVwF3IvpmF2MuSXS0CCsS0QElyuT
+PheOBxdOZRTyGAOksUHpLILNw6epCXtac/LxGCyY/f7vcMwWrcuDsPKRUSqriqN/k8A70CFN4cL
NTX6i9RwLlcmN974KCUlhfSggHR+4BccBmAdSaTSiQ2kAN8D5upL08R/Hp6ZY61bF7Nzp5L5IhJe
wWj0vwl4voL9rYDdVXgfEZGTuFyZ3HrrY+Tm5lp7GtKABKayhYfKSpXR/J4WvExjzG2RNmHmWH9b
9j6RkYN588371DMmItVOVTJld2Oa/P+NdzZZBHA78GCA13UmypSJ1CDerFgJAA6KuRc3s9hEUwoo
xsF8LsTJ7zjGPzEN/BpvISLVQ2UzZVUJyt7G3CD8hN/5yUBcVRYXAArKRGoA74iLBkAsAD04Sjob
y5Uqh9OJ9dTDdFD4uwG3u6L9IiL2EIzy5ULgfaDQb/9NVXgPERHAd8RFJBBPfSKYygYeJrvsqso/
cB4vkQgUAD9hGvn/6vMuw+jdu1noFy8iEgRVvfflBZgesnVAd8xv0y8CvahKUKZMpJpr3Pg2cnKO
4sDNPXzPbLJoSiHFOFhAa5xcxFEmAI8BxzHlykigGZ5G/t69k1m37rnTfBcRkfALRvnyIUy27D3M
bZYAxmImMy6t4vrOlYIykWqqS5eb2LBhG9CO7hwjnS/5JTkAZJJAKq1ZTyymnNmFkzNjJQrERKRa
CUZQ9iEwEhOQzbD2NbP2X1jF9Z0rBWUi1ZAJyPZQn2KmcoiHrasq9xHDH3iEf/IukGcdXQpEo8yY
iFR3wegpW4cZBnStz74eQMMqrUxEapVBgx7j5ZdXAeCgOfdQwGw204xCioE/0xQnLTjKfuATnzOH
0blzDuvXL6/obUVEapyqBGUHgEGY688vxtxmaSqhL12KSDVhArL3gRi6kUs6n3OlVar8gMak8gDf
shIoAT4F+uPJinXuHKeATERqlao2+t8GDAFaAznAW8A8Tr4iM9hUvhSpBqKjBxJfnMcUtpDqU6p8
hPa8SGvMpJ3yoqIGUlS0IuRrFREJlmCULwFetR6+53cA1lfxfUSkhurTZwiZmV8Abu4mljl8SzMK
KAGe4gImUY+jRAHHqGjExS23dArHskVEwu50UVs3YLTfPt/0lAPTT3YIkz0LJWXKRGzIBGTr6UYu
C9nFVRwH4APrXpXf8h/MaMNt1hkxQGM8Jcs77ujGSy/NCsvaRUSCJRCZsu1AJ8wIbQdwFZCNufuv
542jgPxzWaiIVF/masqdmJ6wSOrTkKc4wHB2EgnsJ4Y/0JIXaYgZAHs/4Nsn5mnmV2uqiMiZorYL
8P5JOwKYX8ExS4FbArmoSlCmTCTMTEC2DygGIrmb/cxhb1mpciEXMon/4whuYJXPmS1QM7+I1CaB
6inb5vO8VQWvnw9cWelViUiNsWFDPpBEV+telVfxEwD/oQGpdOIb6mF+xUwDypck+/WbwKpVU0O9
ZBERW4uowrFbMH/u/h54GJM1+xxYGYR1iYjNDBr0GA5HTxyO7jgcPalHLH9mK1/wEVfxE/uJ5R6u
5Cra8Q2FwEFgEzCu3PtERw8hLe36cPwIIiK2VtWRGL/ETPXvAJwAXMBcQt9XpvKlSAiZeWOZeEqV
d3GQOewmmUJKgHTaMJELOcK7mOt+fG+JmwQkAtHExxfw6quPMWBA79D/ECIiYRKM2yy9DCzBNP6H
m4IykSAyV1F+7bOnKRBRQakykeG04mvqYQK2HviPuNBUfhGp7YIxp+x84NsK9l8MZFXhfUTExkxA
tglzQ3CjHnFMZiPD2UoUbvYTy6M8wxKW42YXkAtEoqn8IiJnryqZslTgUsw9MMHMLIsAbsQMHgol
ZcpEgsThuMFny82d/MBcNvmVKi/iCGsrOPsG3G47JNNFROwjGJmyq4D2QFuffRGY/jIRqcZMz5gn
yGoHOOjCEdL5gt4cBOBDEkiltVWqPE5F0/h7924W0nWLiNQkVcmUXYGpTZT67U8BMgK0Hn/JwL4K
9itTJhIg3iZ+ox7xOMkmjZ1E4eZHYniUvrxAR9y8i2dQrNEMT6myd+9k1q17LvQ/gIiIzQU6U9YU
+Blwp/Wmm4FlwF6CE5A1ASZhmlPaBeH9RWotp3MRM2a8SFGR56LpppgrJN0M4gfm8jXNyaMEWEAz
JtCKI8QC0fheVRkXN5Rly+7VlZQiIgFSmaDsPmABUMdv/yzMvTGfCfSirO+1A3NjPBEJEKdzEZMn
v4ZpCY3F/BNLpDNHSecL+lilyo9owsM05GvqYjJj2zBzxwYC0SQllbJkyRgFZCIiAXSmoOxXmHHc
YzGjMHZh+shaAtcCfwT2YOaVBdIusP7fQUQCZuHCdZiZYXUBSKQUJ58zolyp8hle4B7c5WZLq4Ff
RCTYzjTRfwTwC2AeZqJ/AZAHbMVkyH6O6fYVERtzOhcRFXUZOTnFQDwQzyBy2Mw6xrADB24W0oz2
dON5PvQLyNTALyISCmfKlO2wHqfyIyZTJiI2ZUqWSzDZsVw6k0s639LHGgD7ES1J5Tq+4htMqfJ/
+M4aUwO/iEhonCkoiz3D65V5j6BwOp1lz1NSUkhJSQnHMkRsxeXKZOjQ6ezff8jaU4K5biaJREqZ
xHpGsoco4ABRPMoFPE8X3LQE/lH2PgkJD/DKK3epZ0xE5CxkZGSQkZFR5fPOdHnmm8AUzJ/OFekG
TMUMkK2MVpS/KV5F32+Y9Xyw9d6tKjhOIzFE/Lhcmdx66zRycwusPYWYRv4m3MEe5vI1LcinBAdP
04zxNOEwUZjxFvF47k+ZnBzF4sXDFZCJiARIoEZizAXew0yIXA3stPa3wtQ3hmIux6qs3Zg/20Xk
HHlHWxRZe+phSpSeBHcJncglnX+TgsmcfUwjUlnDl/Qs916NGt3OwYOvhGrpIiJSgTMFZR8AQzBB
2e/9XjsA3At8GIR1wZkvQhCptbyjLaKtB0B9PFNkEimySpVbiMLNAaJ4jAv4B+fj5lng6bL3cjiG
MXy4smIiIuFW2Yn+8UBfzM3H3cAmYA2Qf7qTzkFPYDbm1k5DMWXNYz6vq3wptVrjxreRk5NbwStu
bucHnmQjLSigFPgLlzKB2/iJpZh/vlGYYbF1iYkp4PHH++N0PhzK5YuI1CqVLV9W5TZLdqKgTGoN
b/P+McBTqmyNN0NmdOJH0vmKFOuqyk9IIJWL+IILMLetnV52rBr5RURCR0GZSA3gbd6PwCSm3Zgb
XjjwdB8kUMwkshjJdqJxc4Bo/kgLnqMxbkpRI7+ISHgF+t6XIhJiTucipkx5E7c7FtPA78mM1QWK
gYPcxo88yTZaUkgpsIhOjOcDfqIhYPrFJk7sqfKkiEg1oEyZiA2ZRv4VmKxYDBCHt4Uzjk7UZQHv
cQ1ZAHxCPKm05gvqo34xERF7UflSpBozjfwAnmZ+M40/gWImsp1RbCGaUg7SiMeYxXMMwU0E/fpN
YNWqqeFbuIiInKSyQZnGTojYiNO5iDp1rrbuUVkH0w9WABzmNrLZxPs8wmYiKWURPbmYLP7OUNxE
kJSUSlra9eH9AURE5KwpUyZiE96SZR6mMT8BgI4MYCGjuMa6qvK/xJNKW/5HY+u4WNq1S2DevKFq
3hcRsSE1+otUAy5XJiNGzGPbtn2YqyPrY/5Z9ieB5UxkK6NYVlaq/CMzeY5PmDCpJ5+rV0xEpEZR
UCYSJi5XJnfd9RSHD+dhbpGUgClZwq004k98RkuOWANgWzGe7uTVWcGER/upeV9EpAZSUCYSJvPn
r+HwYd/bJOXSgeMs5DOu5TUAPuUyHmYR/+NnREUNpCj3zbCtV0REgktBmUgYuFyZrFu3CU/fWDxF
TCSL0WwhGjcHieVxFvA3q4kfhnHLLZ3CumYREQkuNfqLhJi3bFkI1OUW9vAnvuI88ijFwbM0ZxzN
OEQzTNB2nDvu6MZLL80K88pFRORsaE6ZiI2Ub+ivCzSkAyUsJJNrOQDApySRyo18znNl5yUlpbJk
yW26qlJEpBpTUCZiE+Ub+iGeOCawlTFsJJpScojhj7TibzTBTRwQj8MRywUXaMyFiEhNoJEYIjbh
beiP4rfs4c+ss0qV8AwPMJYZHKJR2fGayi8iUjtpor9IkHim869Z8w3tKWQt/2EpH3MeeXxGA67g
Wh6kcbmATFP5RURqL5UvRYLAM50/nmLGs50xbCfGKlU+zrX8jUcoZSHwE56p/HXq5LN06aMqV4qI
1DAqX4qEgdO5iFmzlpKfH8NvOcaf+IpWZaXK8xjLxRwiAXgX+FfZeWroFxERZcpEAsSTHWuPmwV8
xfXsB+AzWpDKRD5jDbAPcAOxqKFfRKR20NWXIiHWptHNPHToO8aQVVaqHEtXFtOXUmacdLwa+kVE
aofKBmVq9Bc5R66315Ha7Ar+c2gVf2QTUZTyLL+kPVfyLE0oZSswrtw5augXERF/ypSJnIOMZ16k
dPjvuab4RwA+twbAfspzwCJgGVAAxKBypYhI7aTypUiQuFyZPDb8Se7a8RVj2E0Mbg4Rx1h+w1/5
iVLqARcB08vOUSO/iEjtpaBMJAhcb6/jtdseZWrut7TGTOj/KxfxOL8hh9l4s2NgRl1E065dojJj
IiK1mIIykUDbvJkPLrmaq/L2Ar6lylxMZmzaSaeomV9ERNToLxIoJ07A2LGUdOrMVXl7OUQMDzKA
n/NrPmUIUARkoWZ+ERE5F8qUiZyK2w2vvw6jR8Pu3QAspjuP04aDdAW2AK8CmcA8vNP5VbIUEREv
lS9FzkVWFqSlwZo1AHwZUY+HSnvyXyYDT2FuhlEMNAWeLjstMvIBxo/vgdP5cBgWLSIidqTbLImc
jRMnYMYMmDMHioo47IjhcfelPFvanlIOAp7M1zzgMLAfuAGHI56EhFLGjLlWAZmIiJwVZcpEwJQq
ly+HUaPKSpXPR7fmD0U3c5B466AWwDf4ZsZgGJMm9VQgJiIip6TypUhlZWXBiBGwejUAR9pdxJ0/
tcd1KB7o4HOgEzPyIhOIA/Jp3bqEnTuXhnrFIiJSjah8KXImnlLl3LlQWAgNGsD06dz+xh5WrY3A
NPIX+530sPUwOnacEMIFi4hITWbHkRhTgb3APuu5SGB5SpWdOpmgrLAQ7ruPtenP03PxF6x5bxPm
75UGmP8UPY/yIy+Sk0dr5IWIiASM3cqXwzD/b7gOGAjMBO4G/ul3nMqXcna2bDGlylWrzHaPHrBo
Ea5DRQwb9jz79gEcxwyDBegLvIAJygqAukRExNCjRzOmTNFtk0RE5Myqa0/Z74BnfLYzgO+Ah/yO
U1AmVZOb672qsrCQY1FxPNXkUuYeTaSwxE1+fgnwc+vgvsDz1vNkfO9hmZw8msWLb1IwJiIilVZd
e8qe8dveB+wMx0KkhnC74Y03zFWVu3YBsDSxG6nHpnBg71vWQT9hGvc9/xw8AdcLwFfAjURERCs7
JiIiQWW3oMxfe2BMuBch1VQFpcpRMd2Z9+k/gPFAc+vA48AFlG/q7403OIPrr9c9LEVEJLjsHJT9
P+BZ4IeKXnQ6nWXPU1JSSElJCcmipBrIzYUnnoDZs6GwkKL4BJ5M6sqMrAYcyz1iHeT7n34dypcs
x+FfskxLuykkSxcRkeovIyODjIyMKp8Xyp6yVsAXp3n9TUyjP0BLYDC+/89YnnrK5GRuN7z5pilV
7jRV793X/Yr+Xyex4UAd66DjmPtVjvc50fcelp6m/iggkp49m6tkKSIi56S6NvoDJAJpwAyffdFA
kc+2gjIpb+tWU6pcuRKAIxdciLPxL/nrhiOcONHZ58C+wGqgH97M2E/oHpYiIhIs1bXRPwYzBuNZ
zCh1B3ANsArIDuO6xK5yc2HmTJg1y8wbq1+f9bcP5v/W1iHr0/7AYsr/Z+7JeK219u8B8oAfgQFE
RMQTH1+ie1iKiEjI2S1T9iIwyG/fR8CVfvuUKavt3G546y0YObKsVMngwTBzJv3uWcCaNdMoX6L0
mHbSnn791MQvIiLBU9lMmd0m+t+FWZPvwz8gk9pu61b49a/hN78xAVn37nw0eyH9fmhJl2sn8u67
G60DozDlSk3lFxER+7Nb+VLk1CooVTJtGu+07sSIMe+Rne3pE4u2Tiim/MyxvZixd78mPr4e7dsn
qYlfRERsw27ly8pS+bI2cbv5bNJMWs2ZRXK+GWmxLL4tj7rbciAiidzcXEpL38FbrvRt5l+N70W8
7dqNZd68XykQExGRkKmujf4i5WVn8+Ptd3HZ558A8DVNSWUCH574EnMLpH6YZn44eSL/WuAgcDt1
6zq46qoLSUtTQCYiIvakoExsxeXKZP78NRzcvZfbd3zCiLxNNKWUI9RjPFfwF1yU4MRM4/c087e2
zj71RP6rrlIzv4iI2JvdGv2lFnO5Mhk5cjUxa+JZ9t2/eCRvI7GU8jzduZgsFtKLEqKg7AHeZv5x
eJv61cwvIiLVjzJlYhtLZ77KU9k7+TUuwFOq/BcfsgpohjcT5psR823m98we+4qIiIHUr9+Qtm0T
1MwvIiLVghr9Jfzy8sga+jCtX36BOEo5QiwTmM0iDlLCFMztj3wb9z1XWSajZn4REbG76nybpcpQ
UFZTrFhB7v2/o+7+vQC8wN08SkP28xSmX8wz7DUTkwn7kaioH2jZsh45OYeBOrjdRURERNGmTSta
tkwkLe16BWQiImIbCsokZDzN+QUFUcTGFtOrVws+/viHCrePHt0DxNA+OpqHNi2n99HdAHxDV1K5
n/+wj/IZMWXBRESkelNQJiHhac7PzvYETplERb1EcfHTFWxnEsfbPEo8jzODOAo5Qj0m0ot03raa
+E/OiB0/XkLz5snKgomISLWkOWUSEvPnr/EJyADW+ARk5bcHkM58PuMCtgOeUuVs9rOQ8jPGTNB1
7bUaYyEiIrWHRmLIOSko8I/rT95uyzbe5P/xNq9xAdv5hq70ZjD38gL7ScY70sKrXbuxGmMhIiK1
ijJlck5iY4v99ni348jjUd7ncWYSRwFHiWECs0kn1RoA6+EpR04gKWkXl1/eWpP3RUSk1lGmTM7J
iBF9adfON8vVl6ioB7kBF+vpwmQ+II4ClnAX7XmF+fxo9Y75Z8d6065dCUuWDGXVqqkKyEREpNZR
o7+cM5crkwUL1pKfH0mb0oOM3Z9J+6xvAdie0ISM397Jq3sTyM+P5OjRPTgcsSQmNin3PC6uRE38
IiJSI+nqSwmt/HyYPRueeMI8T0yEKVMgNRWio8O9OhERkbDR1ZcSNP5zyab1SuSyJc/Ctm3mgDvv
hDlzoHnz8C5URESkGlGmTKrEdy7Z+WznKUZxI2+ZFzt3hvR06NMnvIsUERGxEWXK5Jz5Z8RGjOjL
/Plr2JM9gfFMZSwzqEM+R0nk5fZX8LsvXSpVioiInCUFZVKhkyf1Q3b2OPoWryedLlxINgAvcieP
MIf2yc/wOwVkIiIiZ01BmVTIf1J/G3YwN3sDv7FKlevpTCrpZGJKld3jSsKyThERkZpCQVktV1GJ
csCA3mWT+mPJ5xHmlJUqT0REMy+pN5NyVlKMyYyZ6fu/CuePIfL/27v3qCrrfI/jb9woiGTedRmI
hpVOOnlrjtTRvKRxyqNNxyztMrbW2Jw01Fpy8taIlbeVzYwQc6TVjJ5jNytrxjlkChSaLfNyONoo
pUYSlorRRkeTi8pz/vhtYAObiwY8z2Z/Xmu59vM8v2fv/eURNl9+v+/v94iI+D0lZQGstiFKMCv1
x7KFJOIqhipfZxqpI7ryUPx9jE16juJil2d9Ma2+LyIi8lNp9mULVVsPmLe77lrMtm0v1HjuoyPj
WFW6nx6f7QTgED9jFsl8G72NNWuUgImIiFwJzb4MYHX1gHknVNVvJh5CMfNYzbM71xJSdolLbdvy
5163s7HbcELDMlijHjEREZEmo6SsBapepA+Qk7OMpKRnqyRV3jcTj2ULiczmBr6CMmDqVIJXr+bx
nj15vLkCFxERCWBKylqg6j1g5YqLXVX2Z88eT/GXs5ibd4Jf8hcAjrbuQsHSxcQsmNPkcYqIiEgl
JWUtkHcPmLdQ72UrSkq4Z/8nxOb/CRclXHC14bW+I4lYtYC7J41ppkhFRESkXCu7A5DGN3v2eKKj
F1U5ZpatGGd2PvwQBgyAxYtxlZTAgw8S9s3XPP5lmhIyERERm6inrAUqrxtLSnq26rIVA6Lgvvvg
/ffNif37m3tVjh5tY7QiIiICWhIjMJSUwOrVsGwZFBVBeDgsWQJz5uhelSIiIk2soUtiOHH48ing
K+AHYFE950p9tm6FgQNh8WKTkD34IHz5Jcybp4RMRETEQZzWUzYOuAZ4D/gF8CnQH5OkeVNPWX3y
8uCpp+C998x+//7w8sswRjVjIiIizclfF489DOR5tvcABYCyrytRUgIvvQQvvGB6xtq1qxyqbNPG
7uhERESkFk5LyvK8tm8DUsBz40Wp39atEBcHR4+a/QceMLVkERH2xiUiIiL1cmJNWRiwBPgQGIoZ
zpS65OXB5MkQG2sSsn79ID0d3npLCZmIiIifcFpPGcAFYDmwHVgPxAO/rX5SQkJCxfaoUaMYNWpU
s3OCh/UAAA67SURBVATnKCUl8LvfmaHKCxc0VCkiIuIAmZmZZGZmXvHzmrPQPxLIqqP9r8Cvqx37
FXA/MKHacRX6b9tmhiqPHDH7U6aYWjL1jIlIC2FZFsnJyRQVFQEQHx9vc0QiV8eJhf7Hga5X+Jwf
gG+bIBb/lZcHTz8NmzaZ/X79zKzKsWPtjUtEpJGlpqZy7733EhERweTJk8nKymLIkCF2hyXSZJxW
UxaDWQKj3N3AyzbF4iylpbBypVnaYtMmM1S5ahUcOKCETERapJycHN58800AoqOjOX78uM0RiTQt
p61T9jwwB9gAfAHsBvb6OC+whi/T0sxQ5eHDZv/++81QZWSkvXGJiDSh0tJSSktLCQ8PJzY2lvXr
19OjRw+7wxK5Yk4cvmyIZz3/BOD4cTNU+e67Zv+mm8xQ5Z132huXiEgjcLvdrFmzhpUrVzJx4kQG
DRpESUkJR48eZeLEiUydOpU2bdrwySefMHr06CZJyPbt28eGDRsYNmwYn376KfHx8URHR/s8Nysr
i1deeYWBAwdy+PBhHn30UYYNG1Zv2zfffENqaiqtW7cmPz+fCRMmMGjQIAAiIiL48ccfq7zPtGnT
SE5ObvSvVaSpWC1aSYllrVhhWWFhlgXmceVKc1xEpAX59ttvrVatWlmnTp2qOFZQUGAFBQVZO3bs
sM6ePWs999xzTfLexcXFVlRUVMV7792717r11lt9nltYWGh17tzZOnjwoGVZlpWfn2/16dPHKisr
q7PNsixr/vz5VV7r4YcftizLsk6dOmWtWbPGOnbsmJWbm2vl5uZaTz75pFVYWNgkX6/YhwYuhO+0
mjJJT4ef/xwWLDDLXNx/v7lX5TPPaJkLEWlx0tPTGTBgAN27d6849t133wFQVlbGhg0bWLBgARcv
XiQjI6NR33vHjh2Eh4dXvPfQoUP54osvyM3NrXFuRkYGbreb/v1N2XO3bt0oLi5m165dtbZ99tln
AGzatIns7OyK1woJCanYfuSRR+jduzdRUVHs3r2badOm0aFDh0b9OsV/OG34MrAdOQLjxpntm26C
pKTKfRGRFigtLY3x48dX7J85c4b58+ezaNEiTpw4wcKFC0lISODy5cvs3LmzztcqLCzkxRdfxKqj
5jg4OJglS5YQHBxMbm4unTt3rmgLCgqiY8eOHDp0iN69e1d5Xvv27QFT5xYaGgrAhQsX+Pzzz+nb
t6/PtgMHDhATE8PMmTMZMmQIc+fOJTw8nLi4OIAaiWh2djZTpkyp75JJC6akzEluvNEU9F93nbmZ
uHrGRKSFy8jI4LHHHmPjxo3s37+fI0eOkJKSQqRnItPUqVMb/FodO3Zk+fLlDT6/oKCAsLCwKsdC
Q0M5d+5cjXPHjBnD4MGD2bt3LyNGjGDXrl2UlZVx9uxZRo8eXWsbmBqxffv28c4771BcXMzIkSNr
vP6iRYuqLIougUnDl06TmKihShEJCAcPHsTtdrN48WIeeOABVqxYwfnz59m3b1+zvH+HDh1q9Kqd
P3+eLl261DjX5XLx0UcfsX//fjZu3Ejbtm1p164dPXv2rLPt/PnzPPHEE7z66qtkZ2czY8YMJk2a
RF5e5a2eT58+zccff1yjd04Cj3rKRETEFmlpaQwfPrxKb5Xb7SYnJ+eqXs/tdrN69eo6hy9dLhcJ
CQkEBwfTr18/UlJSKtouXbqE2+0mKirK53Pbt29fMfRYUFDAmTNnGOcpMamtLS0tjZEjR1YMayYk
JHDx4kV2795Nr169ANiyZUuVYVQJXErKRETEFunp6Yz1Wvz64sWLZGVlMWvWLACOHj3KDTfc0ODX
69Sp0xUNX44YMYLvv/+e48ePExkZyfbt27n55psr3jMjI4MuXbpwyy23ANCrVy/efvttYmJiSElJ
YebMmRXLdNTW1rdvXzZv3lzlfS3LYvjw4RX7Bw8erDGMKoHJZXcAVylBY+8iIv5pz549JCcn88Yb
b3DttdfSuXNnrr/+elwuF/n5+eTl5XHy5EkiIyPp2vVK787XcK1atWLw4MGsXbsWt9vN5s2bSUxM
pFOnTgDMmzePc+fOVdSAWZbF6dOnSU9Pp6ioiBUrVpQvClprW/fu3SktLWXdunVkZ2ezfft2RowY
UbFOWfn1cLlcTJo0qcm+VrHX0qVLAZbWd57TVvRvKKuu7ml/lZq6g8TEbZSUBBMSconZs8dzzz01
C0JFRETEf/jriv4BKzV1B3PmbCUnZ1nFsZycRQBKzERERAKAZl86RGLitioJGUBOzjKSktJsikhE
RESak5Iyhygp8d1pWVzsr2V/IiIiciWUlDlESMgln8dDQy83cyQiIiJiByVlDjF79niioxdVORYd
vZC4ON1mSUREJBBo9qWDpKbuICkpjeJiF6Ghl4mLG6cifxERET/X0NmXSspEREREmlBDkzINX4qI
iIg4gJIyEREREQdQUiYiIiLiAErKRERERBxASZmIiIiIAygpExEREXEAJWUiIiIiDqCkTERERMQB
lJSJiIiIOICSMhEREREHUFImIiIi4gBKykREREQcQEmZiIiIiAMoKRMRERFxACVlIiIiIg7g5KTs
ZuCQ3UGIiIiINAenJmVtgWWeR2mgzMxMu0NwJF2XmnRNfNN18U3XxTddl5p0TX4apyZlc4E/A0F2
B+JP9MPgm65LTbomvum6+Kbr4puuS026Jj9NsN0B+PBLIAMIszsQERERkebitJ6yPkB3YI/dgYiI
iIg0JycND7YGngMWAhYwCliHSdSq+wqIbrbIRERERK5eDtC3vpOaMymLBLLqaP87cBsmIQPTi9ca
KAEmA6lNGp2IiIiI+HQHcMzuIERERESag9Nqyrw5aWhVREREpEk5OSmDyqFMEWl6PewOQBwrFGhv
dxAi4h+0+n9VT2EmQ/wALLI5Fid5HjgJnPJsi9EVeBlTiBqorgP+CPw78F+YzxQxIxbTgTxgrL2h
OMYdwAHgH8BWTL20GIOBT4FCIA3obG84jtIK+Bjz/dOitQX+AnxtdyAOMQ64z7P9C+AiDZjxEQB+
jfmF2x/4D6AMeMjWiJyjFzAPOG53IDYJAv4XuNOz3x/zeeKyLSLn6ApEYH5extgcixN0wyTtA4C7
gFxM8iHQBliO+Z3cDtiFuTOPGLMwHSUj7Q6kqS0AJqJJAeV6Vds/iZYPAfhNtf1M4D9tiMOpphO4
Sdk44AJVF9M+DPybPeE4kpIy40HgGq/96UCRPaE4TndMYlZuJWaZK4F/Bu7G5Cl1JmVOrymrT/nq
//+wOxAHyfPavg1IIbCHpcqlVNs/BXxjRyDiOLdjesYueR07gpIQqekt4JzXfj76HCmXD5R6tkMw
Sdrv7QvHMTpjfhd/0JCT/Tkp0+r/tQsDlgAfAkOp+pedGDcB/213EOIIPaj5h91ZzLCdSF2GAGvt
DsJh/hXYjSkHGGBzLE4wF/hDQ0/216SsNfA4NXs/xLiAGdufCAwE4u0Nx3EmAq8AJ+wORBzhEqb2
0pu/fjZK82mH+XxNtDsQh/kbcC+wA3jN5ljsNgN4ncoeRPDT5b4ige/r+PcRUIwZyy/CrPpf5tm+
x4Z4m0t91+VVH8/5FfA/zRWgTa7kulxH4MxIvZLrMp3ArSlbCOyvduwDzGxMMVRTVtMSzEQI8S0U
+JHAnoG5h8o8pQjzc1SCGQZv0bT6f+0moO71ctdgfgF7a21HIA40ncBNymKoOXyZA0yxIRanUlJW
1QyqTqDS54hvefhpz1ATafGF/uX0n14pBjOlv9zdmDWoAl0bzGygVKAf5hrNouZs1UDVUj4LrsZn
mGLt0Z79fpi6zL/ZFpGzlH9v6HPWmI7p9WiN+V65A5hmZ0AO0QlTT1buDkzdrhaBD0Cj0Dpl5Z7H
/NWfDDwJ3GpvOI7xGuavfe9/O22NyDmGAOmYbvWHCcyJIdcD64GZnsehdgbjIF0xvcuXgT9hkpBA
FoupP/T+HLmM1oIEGIaZ1b4diAMeszccR6q3p0xERERERERERERERERERERERERERERERERERERE
REREREREREREREREGk8oZvFdERERkYDyT8C7QBLmhuEfYFZZby5PA5s92zcAmcDHzfj+IiIiIraL
Bc4Ag7yO9QZO0nS3dAkHHvLavwWY5LU/HSVlIiIiEkBCMMlXoo+2p4AfMfdpbExBwAZgSR3nTEdJ
mYg0klZ2ByAi0gDjgO7AFh9tW4C2wAygCHPD33aYZK3M67wngGeABVQmd9dhbrT9e+BFIBdY52nr
C/zM83pzPcdigN/WEecIYDmwEXjfEwfAvcCTQDywte4vVURERMS54jEJ1o0+2tp62pKAY5gkCszQ
ZpnXOZeBLp79k8AAz/ZyYA/QAegEFAN9PG3rqEzCegHrgeNe7z2dyp6ycOB1r7a/A0s92//neX2o
OhwqIlJBPWUi4g9cnsdLPtqCq53jSxEwFCgA7vCc29HTVgocwtSruYFTmB60ckGexzxMYX9tJgA9
ML1xzwAHgNaetlzMBIWewBt1vIaIBLDg+k8REbHdV57HbsDX1doiPY+59bxGCLAKWIupQQuq5TyL
q/uDNQrT47bKR9tvMLM2D3m2376K1xeRFk49ZSLiD7YC54HbfLTdgkmkNlc77p10RQB/xRTtH6t2
ntVIMRYAo3zEBqbH7DbMUOlrmKFQEZEqlJSJiD84BywEZlFZPA/QBlPQnwx8CfxA5WKud3oewzDr
m4V7zu+NqS3rgBnGrD7s6aIyoSuf1RkKXIP5zPT+3PTe3gYMBp7HDFOOoXINtZmY+rYXMb1lYQ37
skVEREScaRaQjimwn4pJhFZQmRxNBE5jhhH/BdgFTMEkVocwQ5zzML1VezG1YzuA/ZhJBLHAReAP
mN6tscD3wEvA9cA7mBq0SZjhylTgBHC75/0nAzlAIZBCZU3ZV8ALmBmgdS2xISIiIuI3OmASnzKa
dzV/EREREammN5CFGa68x95QREQaR22zj0RE/MFozLpkZ4HPgY/sDUdERERERERERERERERERERE
REREREREREREREREREQax/8D6LJ6g1cCakwAAAAASUVORK5CYII=
"
>
</div>

</div>

</div>
</div>

</div>
<div class="cell border-box-sizing text_cell rendered"><div class="prompt input_prompt">
</div>
<div class="inner_cell">
<div class="text_cell_render border-box-sizing rendered_html">
<p>Answer: From the histogram and qqplot, we see the distribution looks normally distributed.</p>

</div>
</div>
</div>
<div class="cell border-box-sizing text_cell rendered"><div class="prompt input_prompt">
</div>
<div class="inner_cell">
<div class="text_cell_render border-box-sizing rendered_html">
<p>What is the standard error (SE) of the estimated percentage from the poll.</p>
<p><strong>Hint</strong>: Remember the SE is the standard deviation (SD) of the distribution of a random variable.</p>

</div>
</div>
</div>
<div class="cell border-box-sizing text_cell rendered"><div class="prompt input_prompt">
</div>
<div class="inner_cell">
<div class="text_cell_render border-box-sizing rendered_html">
<p>In this example, the standard error (SE) is the standard deviation of the distribution of the percent of Obama votes from a single poll.  Therefore, we can compute the standard deviation as</p>

</div>
</div>
</div>
<div class="cell border-box-sizing code_cell rendered">
<div class="input">
<div class="prompt input_prompt">In&nbsp;[91]:</div>
<div class="inner_cell">
    <div class="input_area">
<div class=" highlight hl-ipython3"><pre><span></span><span class="c1">#your code here</span>
<span class="n">np</span><span class="o">.</span><span class="n">std</span><span class="p">(</span><span class="n">obs</span><span class="p">,</span> <span class="n">ddof</span><span class="o">=</span><span class="mi">1</span><span class="p">)</span>
</pre></div>

</div>
</div>
</div>

<div class="output_wrapper">
<div class="output">


<div class="output_area">

<div class="prompt output_prompt">Out[91]:</div>




<div class="output_text output_subarea output_execute_result">
<pre>0.014217259754234046</pre>
</div>

</div>

</div>
</div>

</div>
<div class="cell border-box-sizing text_cell rendered"><div class="prompt input_prompt">
</div>
<div class="inner_cell">
<div class="text_cell_render border-box-sizing rendered_html">
<p>From the lecture we saw if we observe $N$ Bernoulli random variables $(X_1, \ldots X_N)$, then 
$$ \mbox{E}(\bar{X}) = \frac{1}{N} \sum_{i=1}^N p = p$$
and 
$$\mbox{Var}(\bar{X})= \frac{1}{N^2} \sum_{i=1}^N p(1-p) = \frac{p(1-p)}{N}$$</p>
<p>In our example, we assume each $X_i$ is a Bernoulli distribution with $p$ = 0.53. Therefore, if $N$ = 1200, we can analytically calculate the standard deviation of $\bar{X}$ directly and compare to the standard error above</p>

</div>
</div>
</div>
<div class="cell border-box-sizing code_cell rendered">
<div class="input">
<div class="prompt input_prompt">In&nbsp;[92]:</div>
<div class="inner_cell">
    <div class="input_area">
<div class=" highlight hl-ipython3"><pre><span></span><span class="n">np</span><span class="o">.</span><span class="n">sqrt</span><span class="p">((</span><span class="mf">0.53</span> <span class="o">*</span> <span class="mf">0.47</span><span class="p">)</span> <span class="o">/</span> <span class="mi">1200</span><span class="p">)</span>
</pre></div>

</div>
</div>
</div>

<div class="output_wrapper">
<div class="output">


<div class="output_area">

<div class="prompt output_prompt">Out[92]:</div>




<div class="output_text output_subarea output_execute_result">
<pre>0.014407752542757436</pre>
</div>

</div>

</div>
</div>

</div>
<div class="cell border-box-sizing text_cell rendered"><div class="prompt input_prompt">
</div>
<div class="inner_cell">
<div class="text_cell_render border-box-sizing rendered_html">
<h4 id="Problem-2(c)">Problem 2(c)<a class="anchor-link" href="#Problem-2(c)">&#182;</a></h4><p>Now suppose we run M polls where M is the number of polls that happened in November (calculated in Problem 2(a)). Run 1,000 simulations and compute the mean of the M polls for each simulation.</p>

</div>
</div>
</div>
<div class="cell border-box-sizing text_cell rendered"><div class="prompt input_prompt">
</div>
<div class="inner_cell">
<div class="text_cell_render border-box-sizing rendered_html">
<p>First, let's recall what M and N were in Problem 2(a):</p>

</div>
</div>
</div>
<div class="cell border-box-sizing code_cell rendered">
<div class="input">
<div class="prompt input_prompt">In&nbsp;[93]:</div>
<div class="inner_cell">
    <div class="input_area">
<div class=" highlight hl-ipython3"><pre><span></span><span class="s2">&quot;Number of polls in November: </span><span class="si">%i</span><span class="s2">&quot;</span> <span class="o">%</span> <span class="n">M</span>
</pre></div>

</div>
</div>
</div>

<div class="output_wrapper">
<div class="output">


<div class="output_area">

<div class="prompt output_prompt">Out[93]:</div>




<div class="output_text output_subarea output_execute_result">
<pre>&#39;Number of polls in November: 18&#39;</pre>
</div>

</div>

</div>
</div>

</div>
<div class="cell border-box-sizing code_cell rendered">
<div class="input">
<div class="prompt input_prompt">In&nbsp;[94]:</div>
<div class="inner_cell">
    <div class="input_area">
<div class=" highlight hl-ipython3"><pre><span></span><span class="s2">&quot;Median size of polls in November: </span><span class="si">%i</span><span class="s2">&quot;</span> <span class="o">%</span> <span class="n">N</span>
</pre></div>

</div>
</div>
</div>

<div class="output_wrapper">
<div class="output">


<div class="output_area">

<div class="prompt output_prompt">Out[94]:</div>




<div class="output_text output_subarea output_execute_result">
<pre>&#39;Median size of polls in November: 1200&#39;</pre>
</div>

</div>

</div>
</div>

</div>
<div class="cell border-box-sizing text_cell rendered"><div class="prompt input_prompt">
</div>
<div class="inner_cell">
<div class="text_cell_render border-box-sizing rendered_html">
<p>Within one iteration of the simulation, we want to simulate M polls each measuring the <em>percent</em> of Obama votes out of a sample size of N. We can use again the Bernoulli distribution with parameter $p$. We simulate the <em>percentage</em> of Obama votes from M polls and compute the mean across the M polls using <code>np.mean</code>.</p>

</div>
</div>
</div>
<div class="cell border-box-sizing code_cell rendered">
<div class="input">
<div class="prompt input_prompt">In&nbsp;[95]:</div>
<div class="inner_cell">
    <div class="input_area">
<div class=" highlight hl-ipython3"><pre><span></span><span class="c1"># Represents the percentage of Obama votes from M polls</span>
<span class="k">def</span> <span class="nf">simulatePolls</span><span class="p">(</span><span class="n">p</span><span class="p">,</span> <span class="n">N</span><span class="p">,</span> <span class="n">M</span><span class="p">):</span>
    <span class="sd">&quot;&quot;&quot; Function to simulate the results </span>
<span class="sd">    of M polls each measuring the percent</span>
<span class="sd">    of Obama votes out of a sample size of N</span>
<span class="sd">    with probability p of voting for Obama</span>
<span class="sd">    </span>
<span class="sd">    M = Number of polls to simulate</span>
<span class="sd">    N = Sample size of each poll</span>
<span class="sd">    p = Probability of voting for Obama &quot;&quot;&quot;</span>
    
    <span class="k">return</span> <span class="nb">map</span><span class="p">(</span><span class="k">lambda</span> <span class="n">x</span><span class="p">:</span> <span class="n">np</span><span class="o">.</span><span class="n">mean</span><span class="p">(</span><span class="n">np</span><span class="o">.</span><span class="n">random</span><span class="o">.</span><span class="n">binomial</span><span class="p">(</span><span class="mi">1</span><span class="p">,</span> <span class="n">p</span><span class="p">,</span> <span class="n">size</span> <span class="o">=</span> <span class="n">N</span><span class="p">)),</span> <span class="n">xrange</span><span class="p">(</span><span class="n">M</span><span class="p">))</span>

<span class="n">simulatePolls</span><span class="p">(</span><span class="n">p</span><span class="p">,</span> <span class="n">N</span><span class="p">,</span> <span class="n">M</span><span class="p">)</span> 
</pre></div>

</div>
</div>
</div>

<div class="output_wrapper">
<div class="output">


<div class="output_area">

<div class="prompt output_prompt">Out[95]:</div>




<div class="output_text output_subarea output_execute_result">
<pre>[0.56166666666666665,
 0.54583333333333328,
 0.51083333333333336,
 0.55666666666666664,
 0.51833333333333331,
 0.54000000000000004,
 0.51333333333333331,
 0.52000000000000002,
 0.53166666666666662,
 0.52749999999999997,
 0.53333333333333333,
 0.52916666666666667,
 0.53166666666666662,
 0.52666666666666662,
 0.53916666666666668,
 0.53166666666666662,
 0.53166666666666662,
 0.53416666666666668]</pre>
</div>

</div>

</div>
</div>

</div>
<div class="cell border-box-sizing text_cell rendered"><div class="prompt input_prompt">
</div>
<div class="inner_cell">
<div class="text_cell_render border-box-sizing rendered_html">
<p>Now, we want to repeat this simulation 1000 times. For every iteration of the simulation, we will compute the average across the 19 polls (or average of averages).</p>

</div>
</div>
</div>
<div class="cell border-box-sizing code_cell rendered">
<div class="input">
<div class="prompt input_prompt">In&nbsp;[96]:</div>
<div class="inner_cell">
    <div class="input_area">
<div class=" highlight hl-ipython3"><pre><span></span><span class="n">p</span> <span class="o">=</span> <span class="mf">0.53</span>
<span class="n">B</span> <span class="o">=</span> <span class="mi">1000</span>
<span class="n">mom</span> <span class="o">=</span> <span class="nb">map</span><span class="p">(</span><span class="k">lambda</span> <span class="n">y</span><span class="p">:</span> <span class="n">np</span><span class="o">.</span><span class="n">mean</span><span class="p">(</span><span class="n">simulatePolls</span><span class="p">(</span><span class="n">p</span><span class="p">,</span> <span class="n">N</span><span class="p">,</span> <span class="n">M</span><span class="p">)),</span> <span class="n">xrange</span><span class="p">(</span><span class="n">B</span><span class="p">))</span>
</pre></div>

</div>
</div>
</div>

</div>
<div class="cell border-box-sizing text_cell rendered"><div class="prompt input_prompt">
</div>
<div class="inner_cell">
<div class="text_cell_render border-box-sizing rendered_html">
<p>What is the distribution of the average of polls?</p>
<p><strong>Hint</strong>: Show a plot.</p>

</div>
</div>
</div>
<div class="cell border-box-sizing code_cell rendered">
<div class="input">
<div class="prompt input_prompt">In&nbsp;[97]:</div>
<div class="inner_cell">
    <div class="input_area">
<div class=" highlight hl-ipython3"><pre><span></span><span class="c1">#your code here</span>
<span class="n">plt</span><span class="o">.</span><span class="n">hist</span><span class="p">(</span><span class="n">mom</span><span class="p">)</span>
</pre></div>

</div>
</div>
</div>

<div class="output_wrapper">
<div class="output">


<div class="output_area">

<div class="prompt output_prompt">Out[97]:</div>




<div class="output_text output_subarea output_execute_result">
<pre>(array([  10.,   48.,  109.,  216.,  253.,  220.,   84.,   48.,   10.,    2.]),
 array([ 0.52   ,  0.52225,  0.5245 ,  0.52675,  0.529  ,  0.53125,
         0.5335 ,  0.53575,  0.538  ,  0.54025,  0.5425 ]),
 &lt;a list of 10 Patch objects&gt;)</pre>
</div>

</div>

<div class="output_area">

<div class="prompt"></div>




<div class="output_png output_subarea ">
<img src="data:image/png;base64,iVBORw0KGgoAAAANSUhEUgAAAmMAAAF1CAYAAACkr+1mAAAABHNCSVQICAgIfAhkiAAAAAlwSFlz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"
>
</div>

</div>

</div>
</div>

</div>
<div class="cell border-box-sizing text_cell rendered"><div class="prompt input_prompt">
</div>
<div class="inner_cell">
<div class="text_cell_render border-box-sizing rendered_html">
<p>Using a qqplot, we can compare this distribuiton to a normal distribution.</p>

</div>
</div>
</div>
<div class="cell border-box-sizing code_cell rendered">
<div class="input">
<div class="prompt input_prompt">In&nbsp;[98]:</div>
<div class="inner_cell">
    <div class="input_area">
<div class=" highlight hl-ipython3"><pre><span></span><span class="n">stats</span><span class="o">.</span><span class="n">probplot</span><span class="p">((</span><span class="n">mom</span> <span class="o">-</span> <span class="n">np</span><span class="o">.</span><span class="n">mean</span><span class="p">(</span><span class="n">mom</span><span class="p">))</span> <span class="o">/</span> <span class="n">np</span><span class="o">.</span><span class="n">std</span><span class="p">(</span><span class="n">mom</span><span class="p">,</span> <span class="n">ddof</span><span class="o">=</span><span class="mi">1</span><span class="p">),</span> <span class="n">dist</span><span class="o">=</span><span class="s2">&quot;norm&quot;</span><span class="p">,</span> <span class="n">plot</span> <span class="o">=</span> <span class="n">plt</span><span class="p">)</span>
<span class="n">plt</span><span class="o">.</span><span class="n">show</span><span class="p">()</span>
</pre></div>

</div>
</div>
</div>

<div class="output_wrapper">
<div class="output">


<div class="output_area">

<div class="prompt"></div>




<div class="output_png output_subarea ">
<img src="data:image/png;base64,iVBORw0KGgoAAAANSUhEUgAAAmUAAAGRCAYAAAAkZMS1AAAABHNCSVQICAgIfAhkiAAAAAlwSFlz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"
>
</div>

</div>

</div>
</div>

</div>
<div class="cell border-box-sizing text_cell rendered"><div class="prompt input_prompt">
</div>
<div class="inner_cell">
<div class="text_cell_render border-box-sizing rendered_html">
<p>Answer: Using a histogram and qqplot, we can see this distribution is very similar to a normal distribution.</p>

</div>
</div>
</div>
<div class="cell border-box-sizing text_cell rendered"><div class="prompt input_prompt">
</div>
<div class="inner_cell">
<div class="text_cell_render border-box-sizing rendered_html">
<p>What is the standard error (SE) of the average of polls?</p>

</div>
</div>
</div>
<div class="cell border-box-sizing code_cell rendered">
<div class="input">
<div class="prompt input_prompt">In&nbsp;[99]:</div>
<div class="inner_cell">
    <div class="input_area">
<div class=" highlight hl-ipython3"><pre><span></span><span class="c1">#your code here</span>
<span class="n">np</span><span class="o">.</span><span class="n">std</span><span class="p">(</span><span class="n">mom</span><span class="p">,</span> <span class="n">ddof</span> <span class="o">=</span> <span class="mi">1</span><span class="p">)</span>
</pre></div>

</div>
</div>
</div>

<div class="output_wrapper">
<div class="output">


<div class="output_area">

<div class="prompt output_prompt">Out[99]:</div>




<div class="output_text output_subarea output_execute_result">
<pre>0.003470334629167922</pre>
</div>

</div>

</div>
</div>

</div>
<div class="cell border-box-sizing text_cell rendered"><div class="prompt input_prompt">
</div>
<div class="inner_cell">
<div class="text_cell_render border-box-sizing rendered_html">
<p>Answer:</p>

</div>
</div>
</div>
<div class="cell border-box-sizing code_cell rendered">
<div class="input">
<div class="prompt input_prompt">In&nbsp;[100]:</div>
<div class="inner_cell">
    <div class="input_area">
<div class=" highlight hl-ipython3"><pre><span></span><span class="s2">&quot;The SE of the average of polls is </span><span class="si">%g</span><span class="s2">&quot;</span> <span class="o">%</span> <span class="n">np</span><span class="o">.</span><span class="n">round</span><span class="p">(</span><span class="n">np</span><span class="o">.</span><span class="n">std</span><span class="p">(</span><span class="n">mom</span><span class="p">,</span> <span class="n">ddof</span> <span class="o">=</span> <span class="mi">1</span><span class="p">),</span> <span class="mi">5</span><span class="p">)</span>
</pre></div>

</div>
</div>
</div>

<div class="output_wrapper">
<div class="output">


<div class="output_area">

<div class="prompt output_prompt">Out[100]:</div>




<div class="output_text output_subarea output_execute_result">
<pre>&#39;The SE of the average of polls is 0.00347&#39;</pre>
</div>

</div>

</div>
</div>

</div>
<div class="cell border-box-sizing text_cell rendered"><div class="prompt input_prompt">
</div>
<div class="inner_cell">
<div class="text_cell_render border-box-sizing rendered_html">
<p>Is the SE of the average of polls larger, the same, or smaller than that the SD of a single poll (calculated in Problem 2(b))? By how much?</p>
<p><strong>Hint</strong>: Compute a ratio of the two quantities.</p>

</div>
</div>
</div>
<div class="cell border-box-sizing code_cell rendered">
<div class="input">
<div class="prompt input_prompt">In&nbsp;[101]:</div>
<div class="inner_cell">
    <div class="input_area">
<div class=" highlight hl-ipython3"><pre><span></span><span class="c1">#your code here</span>
<span class="n">ratio</span> <span class="o">=</span> <span class="n">np</span><span class="o">.</span><span class="n">std</span><span class="p">(</span><span class="n">mom</span><span class="p">,</span> <span class="n">ddof</span> <span class="o">=</span> <span class="mi">1</span><span class="p">)</span> <span class="o">/</span> <span class="n">np</span><span class="o">.</span><span class="n">std</span><span class="p">(</span><span class="n">obs</span><span class="p">,</span> <span class="n">ddof</span> <span class="o">=</span> <span class="mi">1</span><span class="p">)</span> 

<span class="s2">&quot;The ratio of the SE of the average of polls to the SD of a single poll is </span><span class="si">%g</span><span class="s2">&quot;</span> <span class="o">%</span> <span class="n">ratio</span>
</pre></div>

</div>
</div>
</div>

<div class="output_wrapper">
<div class="output">


<div class="output_area">

<div class="prompt output_prompt">Out[101]:</div>




<div class="output_text output_subarea output_execute_result">
<pre>&#39;The ratio of the SE of the average of polls to the SD of a single poll is 0.244093&#39;</pre>
</div>

</div>

</div>
</div>

</div>
<div class="cell border-box-sizing text_cell rendered"><div class="prompt input_prompt">
</div>
<div class="inner_cell">
<div class="text_cell_render border-box-sizing rendered_html">
<p>Answer: The SE of the average of polls is smaller than the SD of a single poll by approximately factor of 4.</p>

</div>
</div>
</div>
<div class="cell border-box-sizing text_cell rendered"><div class="prompt input_prompt">
</div>
<div class="inner_cell">
<div class="text_cell_render border-box-sizing rendered_html">
<h4 id="Problem-2(d)">Problem 2(d)<a class="anchor-link" href="#Problem-2(d)">&#182;</a></h4><p>Repeat Problem 2(c) but now record the <em>across poll</em> standard deviation in each simulation.</p>

</div>
</div>
</div>
<div class="cell border-box-sizing code_cell rendered">
<div class="input">
<div class="prompt input_prompt">In&nbsp;[102]:</div>
<div class="inner_cell">
    <div class="input_area">
<div class=" highlight hl-ipython3"><pre><span></span><span class="c1">#your code here</span>
<span class="n">B</span> <span class="o">=</span> <span class="mi">1000</span>
<span class="n">p</span> <span class="o">=</span> <span class="mf">0.53</span>
<span class="n">sds</span> <span class="o">=</span> <span class="nb">map</span><span class="p">(</span><span class="k">lambda</span> <span class="n">y</span><span class="p">:</span> <span class="n">np</span><span class="o">.</span><span class="n">std</span><span class="p">(</span><span class="n">simulatePolls</span><span class="p">(</span><span class="n">p</span><span class="p">,</span> <span class="n">N</span><span class="p">,</span> <span class="n">M</span><span class="p">),</span> <span class="n">ddof</span> <span class="o">=</span> <span class="mi">0</span><span class="p">),</span> <span class="n">xrange</span><span class="p">(</span><span class="n">B</span><span class="p">))</span>
</pre></div>

</div>
</div>
</div>

</div>
<div class="cell border-box-sizing text_cell rendered"><div class="prompt input_prompt">
</div>
<div class="inner_cell">
<div class="text_cell_render border-box-sizing rendered_html">
<p>What is the distribution of the <em>across M polls</em> standard deviation?</p>
<p><strong>Hint</strong>: Show a plot.</p>

</div>
</div>
</div>
<div class="cell border-box-sizing code_cell rendered">
<div class="input">
<div class="prompt input_prompt">In&nbsp;[103]:</div>
<div class="inner_cell">
    <div class="input_area">
<div class=" highlight hl-ipython3"><pre><span></span><span class="c1">#your code here</span>
<span class="n">plt</span><span class="o">.</span><span class="n">hist</span><span class="p">(</span><span class="n">sds</span><span class="p">)</span>
<span class="n">plt</span><span class="o">.</span><span class="n">xlabel</span><span class="p">(</span><span class="s1">&#39;Standard deviations across </span><span class="si">%i</span><span class="s1"> polls&#39;</span> <span class="o">%</span> <span class="n">M</span><span class="p">)</span>
<span class="n">plt</span><span class="o">.</span><span class="n">ylabel</span><span class="p">(</span><span class="s1">&#39;Frequency&#39;</span><span class="p">)</span>
<span class="n">plt</span><span class="o">.</span><span class="n">title</span><span class="p">(</span><span class="s1">&#39;Histogram of standard deviations across </span><span class="si">%i</span><span class="s1"> polls&#39;</span> <span class="o">%</span> <span class="n">M</span><span class="p">)</span>
</pre></div>

</div>
</div>
</div>

<div class="output_wrapper">
<div class="output">


<div class="output_area">

<div class="prompt output_prompt">Out[103]:</div>




<div class="output_text output_subarea output_execute_result">
<pre>&lt;matplotlib.text.Text at 0x1120a3b10&gt;</pre>
</div>

</div>

<div class="output_area">

<div class="prompt"></div>




<div class="output_png output_subarea ">
<img src="data:image/png;base64,iVBORw0KGgoAAAANSUhEUgAAAnYAAAGRCAYAAADo/f5eAAAABHNCSVQICAgIfAhkiAAAAAlwSFlz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"
>
</div>

</div>

</div>
</div>

</div>
<div class="cell border-box-sizing code_cell rendered">
<div class="input">
<div class="prompt input_prompt">In&nbsp;[104]:</div>
<div class="inner_cell">
    <div class="input_area">
<div class=" highlight hl-ipython3"><pre><span></span><span class="n">stats</span><span class="o">.</span><span class="n">probplot</span><span class="p">((</span><span class="n">sds</span> <span class="o">-</span> <span class="n">np</span><span class="o">.</span><span class="n">mean</span><span class="p">(</span><span class="n">sds</span><span class="p">))</span> <span class="o">/</span> <span class="n">np</span><span class="o">.</span><span class="n">std</span><span class="p">(</span><span class="n">sds</span><span class="p">,</span> <span class="n">ddof</span><span class="o">=</span><span class="mi">1</span><span class="p">),</span> <span class="n">dist</span><span class="o">=</span><span class="s2">&quot;norm&quot;</span><span class="p">,</span> <span class="n">plot</span> <span class="o">=</span> <span class="n">plt</span><span class="p">)</span>
<span class="n">plt</span><span class="o">.</span><span class="n">show</span><span class="p">()</span>
</pre></div>

</div>
</div>
</div>

<div class="output_wrapper">
<div class="output">


<div class="output_area">

<div class="prompt"></div>




<div class="output_png output_subarea ">
<img src="data:image/png;base64,iVBORw0KGgoAAAANSUhEUgAAAmUAAAGRCAYAAAAkZMS1AAAABHNCSVQICAgIfAhkiAAAAAlwSFlz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"
>
</div>

</div>

</div>
</div>

</div>
<div class="cell border-box-sizing text_cell rendered"><div class="prompt input_prompt">
</div>
<div class="inner_cell">
<div class="text_cell_render border-box-sizing rendered_html">
<p>Answer: Using the histogram and qqplot, we see the distribution is normally distributed.</p>

</div>
</div>
</div>
<div class="cell border-box-sizing text_cell rendered"><div class="prompt input_prompt">
</div>
<div class="inner_cell">
<div class="text_cell_render border-box-sizing rendered_html">
<h4 id="Problem-2(e)">Problem 2(e)<a class="anchor-link" href="#Problem-2(e)">&#182;</a></h4><p>What is the standard deviation of M polls in our real (not simulated) 2012 presidential election data ?</p>

</div>
</div>
</div>
<div class="cell border-box-sizing code_cell rendered">
<div class="input">
<div class="prompt input_prompt">In&nbsp;[105]:</div>
<div class="inner_cell">
    <div class="input_area">
<div class=" highlight hl-ipython3"><pre><span></span><span class="c1">#your code here</span>
<span class="n">thesd</span> <span class="o">=</span> <span class="n">np</span><span class="o">.</span><span class="n">std</span><span class="p">(</span><span class="n">filtered</span><span class="p">[</span><span class="s2">&quot;Obama&quot;</span><span class="p">]</span> <span class="o">/</span> <span class="mi">100</span><span class="p">,</span> <span class="n">ddof</span> <span class="o">=</span> <span class="mi">0</span><span class="p">)</span>
<span class="n">thesd</span>
</pre></div>

</div>
</div>
</div>

<div class="output_wrapper">
<div class="output">


<div class="output_area">

<div class="prompt output_prompt">Out[105]:</div>




<div class="output_text output_subarea output_execute_result">
<pre>0.010829771494228929</pre>
</div>

</div>

</div>
</div>

</div>
<div class="cell border-box-sizing text_cell rendered"><div class="prompt input_prompt">
</div>
<div class="inner_cell">
<div class="text_cell_render border-box-sizing rendered_html">
<p>Is this larger, the same, or smaller than what we expeced if polls were not biased.</p>

</div>
</div>
</div>
<div class="cell border-box-sizing code_cell rendered">
<div class="input">
<div class="prompt input_prompt">In&nbsp;[106]:</div>
<div class="inner_cell">
    <div class="input_area">
<div class=" highlight hl-ipython3"><pre><span></span><span class="c1">#your code here</span>
<span class="n">thesd</span> <span class="o">/</span> <span class="n">np</span><span class="o">.</span><span class="n">mean</span><span class="p">(</span><span class="n">sds</span><span class="p">)</span>
</pre></div>

</div>
</div>
</div>

<div class="output_wrapper">
<div class="output">


<div class="output_area">

<div class="prompt output_prompt">Out[106]:</div>




<div class="output_text output_subarea output_execute_result">
<pre>0.78702707298570951</pre>
</div>

</div>

</div>
</div>

</div>
<div class="cell border-box-sizing text_cell rendered"><div class="prompt input_prompt">
</div>
<div class="inner_cell">
<div class="text_cell_render border-box-sizing rendered_html">
<p>Answer: The standard deviation in our real 2012 presidential election data is smaller than what we expect if the polls were not biased.</p>

</div>
</div>
</div>
<div class="cell border-box-sizing text_cell rendered"><div class="prompt input_prompt">
</div>
<div class="inner_cell">
<div class="text_cell_render border-box-sizing rendered_html">
<p>Another way of comparing the standard deviation of the M polls in the 2012 presidential eletion data is to compare it directly to the distribuiton of <code>sds</code>. We can calculate a <em>p</em>-value or the probability of seeing values as large as <code>thesd</code> or larger.</p>

</div>
</div>
</div>
<div class="cell border-box-sizing code_cell rendered">
<div class="input">
<div class="prompt input_prompt">In&nbsp;[107]:</div>
<div class="inner_cell">
    <div class="input_area">
<div class=" highlight hl-ipython3"><pre><span></span><span class="n">np</span><span class="o">.</span><span class="n">mean</span><span class="p">(</span><span class="n">thesd</span> <span class="o">&gt;</span> <span class="n">sds</span><span class="p">)</span>
</pre></div>

</div>
</div>
</div>

<div class="output_wrapper">
<div class="output">


<div class="output_area">

<div class="prompt output_prompt">Out[107]:</div>




<div class="output_text output_subarea output_execute_result">
<pre>0.10000000000000001</pre>
</div>

</div>

</div>
</div>

</div>
<div class="cell border-box-sizing text_cell rendered"><div class="prompt input_prompt">
</div>
<div class="inner_cell">
<div class="text_cell_render border-box-sizing rendered_html">
<p>We see <code>thesd</code> is consistent with the null distribution of <code>sds</code>.</p>

</div>
</div>
</div>
<div class="cell border-box-sizing text_cell rendered"><div class="prompt input_prompt">
</div>
<div class="inner_cell">
<div class="text_cell_render border-box-sizing rendered_html">
<h4 id="Problem-2(f)">Problem 2(f)<a class="anchor-link" href="#Problem-2(f)">&#182;</a></h4><p><strong>For AC209 Students</strong>: Learn about the normal approximation for the binomial distribution and derive the results of Problem 2(b) and 2(c) analytically (using this approximation). Compare the results obtained analytically to those obtained from simulations.</p>
<p><strong>Solution:</strong> A random variable $X$ that has a <a href="http://en.wikipedia.org/wiki/Binomial_distribution">Binomial distribution</a> with $N$ independent trials of a binary outcome (e.g. yes/no) each with probability of success $p$ can be <a href="http://en.wikipedia.org/wiki/Binomial_distribution#Normal_approximation">approximated by a normal distribution</a> if $n$ is large enough. Another way of writing this is if $X$ has a Binomial distribution with parameters $N$ and $p$, $X \sim Bin(N,p)$, and $N$ is "large enough", then $X$ can be approximated by a normal distribution with mean $Np$ and variance $Np(1-p)$, or $X \sim Normal(Np, Np(1-p))$.</p>
<p>In Problem 2(b), we are asking about the <em>percentage</em> of Obama votes, therefore we are actually interested in $Y_i = \frac{X_i}{N}$ where $X_i \sim Bin(N, p)$. In this case, $\mbox{Var}(Y_i)  = p(1-p)$. To estimate the standard deviation of $\bar{Y}$,</p>
$$\mbox{Var}(\bar{Y}) =  \frac{1}{N^2} \sum_{i=1}^N p(1-p) = \frac{p(1-p)}{N}$$<p>Thus, we can analytically compute the standard deviation of $\bar{Y}$ using $\sqrt{\frac{p(1-p)}{N}}$ and compare to the standard deviation obtained from simulations.</p>

</div>
</div>
</div>
<div class="cell border-box-sizing code_cell rendered">
<div class="input">
<div class="prompt input_prompt">In&nbsp;[108]:</div>
<div class="inner_cell">
    <div class="input_area">
<div class=" highlight hl-ipython3"><pre><span></span><span class="c1"># Standard deviation from simulations in 2(b) </span>
<span class="nb">print</span> <span class="s2">&quot;SD from simulations: </span><span class="si">%g</span><span class="s2">&quot;</span> <span class="o">%</span> <span class="n">np</span><span class="o">.</span><span class="n">std</span><span class="p">(</span><span class="n">obs</span><span class="p">,</span> <span class="n">ddof</span><span class="o">=</span><span class="mi">1</span><span class="p">)</span>

<span class="c1"># Standard deviation computed analytically</span>
<span class="nb">print</span> <span class="s2">&quot;SD using normal approximation </span><span class="si">%g</span><span class="s2">&quot;</span> <span class="o">%</span> <span class="n">np</span><span class="o">.</span><span class="n">sqrt</span><span class="p">(</span><span class="n">p</span> <span class="o">*</span> <span class="p">(</span><span class="mi">1</span><span class="o">-</span><span class="n">p</span><span class="p">)</span><span class="o">/</span> <span class="n">N</span><span class="p">)</span>
</pre></div>

</div>
</div>
</div>

<div class="output_wrapper">
<div class="output">


<div class="output_area">

<div class="prompt"></div>


<div class="output_subarea output_stream output_stdout output_text">
<pre>SD from simulations: 0.0142173
SD using normal approximation 0.0144078
</pre>
</div>
</div>

</div>
</div>

</div>
<div class="cell border-box-sizing text_cell rendered"><div class="prompt input_prompt">
</div>
<div class="inner_cell">
<div class="text_cell_render border-box-sizing rendered_html">
<p>In Problem 2(c), we are asking about the <em>percentage</em> of Obama votes from averaged across M polls.  Above we saw the variance for each poll is $\frac{p(1-p)}{N}$. Therefore we can treat the variance at the poll level as $\sigma_{poll}^2 = \frac{p(1-p)}{N}$. Then, when we average across M polls the variance becomes $\sigma_{poll}^2 / M = \frac{p(1-p)}{N \cdot M }$</p>

</div>
</div>
</div>
<div class="cell border-box-sizing code_cell rendered">
<div class="input">
<div class="prompt input_prompt">In&nbsp;[109]:</div>
<div class="inner_cell">
    <div class="input_area">
<div class=" highlight hl-ipython3"><pre><span></span><span class="c1"># Standard deviation from simulations in 2(c) </span>
<span class="nb">print</span> <span class="s2">&quot;SD from simulations: </span><span class="si">%g</span><span class="s2">&quot;</span> <span class="o">%</span> <span class="n">np</span><span class="o">.</span><span class="n">std</span><span class="p">(</span><span class="n">mom</span><span class="p">,</span> <span class="n">ddof</span><span class="o">=</span><span class="mi">1</span><span class="p">)</span>

<span class="c1"># Standard deviation computed analytically</span>
<span class="nb">print</span> <span class="s2">&quot;SD using normal approximation </span><span class="si">%g</span><span class="s2">&quot;</span> <span class="o">%</span> <span class="n">np</span><span class="o">.</span><span class="n">sqrt</span><span class="p">((</span><span class="n">p</span> <span class="o">*</span> <span class="p">(</span><span class="mi">1</span><span class="o">-</span><span class="n">p</span><span class="p">)</span><span class="o">/</span> <span class="n">N</span><span class="p">)</span> <span class="o">/</span> <span class="n">M</span><span class="p">)</span>
</pre></div>

</div>
</div>
</div>

<div class="output_wrapper">
<div class="output">


<div class="output_area">

<div class="prompt"></div>


<div class="output_subarea output_stream output_stdout output_text">
<pre>SD from simulations: 0.00347033
SD using normal approximation 0.00339594
</pre>
</div>
</div>

</div>
</div>

</div>
<div class="cell border-box-sizing text_cell rendered"><div class="prompt input_prompt">
</div>
<div class="inner_cell">
<div class="text_cell_render border-box-sizing rendered_html">
<p>Answer: We see the SD from the simulations match the analytical results using the normal approximation.</p>

</div>
</div>
</div>
<div class="cell border-box-sizing text_cell rendered"><div class="prompt input_prompt">
</div>
<div class="inner_cell">
<div class="text_cell_render border-box-sizing rendered_html">
<h2 id="Discussion-for-Problem-2">Discussion for Problem 2<a class="anchor-link" href="#Discussion-for-Problem-2">&#182;</a></h2><p><em>Write a brief discussion of your conclusions to the questions and tasks above in 100 words or less.</em></p>
<p>In this problem we considered all the polls from pollsters in November 2012. After removing polls that came from the same pollster in Nov 2012, we did not see any pollster bias.  The standard deviation from the 2012 Presidential Election was smaller than what we expect by chance.</p>
<hr>

</div>
</div>
</div>
<div class="cell border-box-sizing text_cell rendered"><div class="prompt input_prompt">
</div>
<div class="inner_cell">
<div class="text_cell_render border-box-sizing rendered_html">
<h2 id="Problem-3:-Is-the-average-of-polls-better-than-just-one-poll?">Problem 3: Is the average of polls better than just one poll?<a class="anchor-link" href="#Problem-3:-Is-the-average-of-polls-better-than-just-one-poll?">&#182;</a></h2>
</div>
</div>
</div>
<div class="cell border-box-sizing text_cell rendered"><div class="prompt input_prompt">
</div>
<div class="inner_cell">
<div class="text_cell_render border-box-sizing rendered_html">
<h4 id="Problem-3(a)">Problem 3(a)<a class="anchor-link" href="#Problem-3(a)">&#182;</a></h4><p>Most undecided voters vote for one of the two candidates at the election. Therefore, the reported percentages underestimate the final value of both candidates. However, if we assume the undecided will split evenly, then the observed difference should be an unbiased estimate of the final difference.</p>
<p>Add a new column to the <code>election</code> DataFrame containg the difference between Obama and Romeny called <code>Diff</code>.</p>

</div>
</div>
</div>
<div class="cell border-box-sizing code_cell rendered">
<div class="input">
<div class="prompt input_prompt">In&nbsp;[110]:</div>
<div class="inner_cell">
    <div class="input_area">
<div class=" highlight hl-ipython3"><pre><span></span><span class="c1">#your code here</span>
<span class="n">election</span><span class="p">[</span><span class="s2">&quot;Diff&quot;</span><span class="p">]</span> <span class="o">=</span> <span class="p">(</span><span class="n">election</span><span class="o">.</span><span class="n">Obama</span> <span class="o">/</span> <span class="mi">100</span><span class="p">)</span> <span class="o">-</span> <span class="p">(</span><span class="n">election</span><span class="o">.</span><span class="n">Romney</span> <span class="o">/</span> <span class="mi">100</span><span class="p">)</span>
<span class="n">election</span><span class="o">.</span><span class="n">head</span><span class="p">()</span>
</pre></div>

</div>
</div>
</div>

<div class="output_wrapper">
<div class="output">


<div class="output_area">

<div class="prompt output_prompt">Out[110]:</div>



<div class="output_html rendered_html output_subarea output_execute_result">
<div style="max-height:1000px;max-width:1500px;overflow:auto;">
<table border="1" class="dataframe">
  <thead>
    <tr style="text-align: right;">
      <th></th>
      <th>Pollster</th>
      <th>Start Date</th>
      <th>End Date</th>
      <th>Entry Date/Time (ET)</th>
      <th>Number of Observations</th>
      <th>Population</th>
      <th>Mode</th>
      <th>Obama</th>
      <th>Romney</th>
      <th>Undecided</th>
      <th>Pollster URL</th>
      <th>Source URL</th>
      <th>Partisan</th>
      <th>Affiliation</th>
      <th>Diff</th>
    </tr>
  </thead>
  <tbody>
    <tr>
      <th>0</th>
      <td> Politico/GWU/Battleground</td>
      <td>2012-11-04</td>
      <td>2012-11-05</td>
      <td>2012-11-06 08:40:26</td>
      <td> 1000</td>
      <td> Likely Voters</td>
      <td>      Live Phone</td>
      <td> 47</td>
      <td> 47</td>
      <td>  6</td>
      <td> http://elections.huffingtonpost.com/pollster/p...</td>
      <td>NaN</td>
      <td> Nonpartisan</td>
      <td> None</td>
      <td> 0.00</td>
    </tr>
    <tr>
      <th>1</th>
      <td>                UPI/CVOTER</td>
      <td>2012-11-03</td>
      <td>2012-11-05</td>
      <td>2012-11-05 18:30:15</td>
      <td> 3000</td>
      <td> Likely Voters</td>
      <td>      Live Phone</td>
      <td> 49</td>
      <td> 48</td>
      <td>NaN</td>
      <td> http://elections.huffingtonpost.com/pollster/p...</td>
      <td>NaN</td>
      <td> Nonpartisan</td>
      <td> None</td>
      <td> 0.01</td>
    </tr>
    <tr>
      <th>2</th>
      <td>          Gravis Marketing</td>
      <td>2012-11-03</td>
      <td>2012-11-05</td>
      <td>2012-11-06 09:22:02</td>
      <td>  872</td>
      <td> Likely Voters</td>
      <td> Automated Phone</td>
      <td> 48</td>
      <td> 48</td>
      <td>  4</td>
      <td> http://elections.huffingtonpost.com/pollster/p...</td>
      <td>NaN</td>
      <td> Nonpartisan</td>
      <td> None</td>
      <td> 0.00</td>
    </tr>
    <tr>
      <th>3</th>
      <td>      JZ Analytics/Newsmax</td>
      <td>2012-11-03</td>
      <td>2012-11-05</td>
      <td>2012-11-06 07:38:41</td>
      <td> 1041</td>
      <td> Likely Voters</td>
      <td>        Internet</td>
      <td> 47</td>
      <td> 47</td>
      <td>  6</td>
      <td> http://elections.huffingtonpost.com/pollster/p...</td>
      <td>NaN</td>
      <td>     Sponsor</td>
      <td>  Rep</td>
      <td> 0.00</td>
    </tr>
    <tr>
      <th>4</th>
      <td>                 Rasmussen</td>
      <td>2012-11-03</td>
      <td>2012-11-05</td>
      <td>2012-11-06 08:47:50</td>
      <td> 1500</td>
      <td> Likely Voters</td>
      <td> Automated Phone</td>
      <td> 48</td>
      <td> 49</td>
      <td>NaN</td>
      <td> http://elections.huffingtonpost.com/pollster/p...</td>
      <td>NaN</td>
      <td> Nonpartisan</td>
      <td> None</td>
      <td>-0.01</td>
    </tr>
  </tbody>
</table>
</div>
</div>

</div>

</div>
</div>

</div>
<div class="cell border-box-sizing text_cell rendered"><div class="prompt input_prompt">
</div>
<div class="inner_cell">
<div class="text_cell_render border-box-sizing rendered_html">
<h4 id="Problem-3(b)">Problem 3(b)<a class="anchor-link" href="#Problem-3(b)">&#182;</a></h4><p>Make a plot of the differences for the week before the election (e.g. 5 days) where the days are on the x-axis and the differences are on the y-axis.  Add a horizontal line showing 3.9%: the difference between Obama and Romney on election day.</p>

</div>
</div>
</div>
<div class="cell border-box-sizing code_cell rendered">
<div class="input">
<div class="prompt input_prompt">In&nbsp;[111]:</div>
<div class="inner_cell">
    <div class="input_area">
<div class=" highlight hl-ipython3"><pre><span></span><span class="c1">#your code here</span>
<span class="n">last_day</span> <span class="o">=</span> <span class="nb">max</span><span class="p">(</span><span class="n">election</span><span class="p">[</span><span class="s2">&quot;Start Date&quot;</span><span class="p">])</span>
<span class="n">filtered</span> <span class="o">=</span> <span class="n">election</span><span class="p">[</span><span class="nb">map</span><span class="p">(</span><span class="k">lambda</span> <span class="n">x</span><span class="p">:</span> <span class="p">(</span><span class="n">last_day</span> <span class="o">-</span> <span class="n">x</span><span class="p">)</span><span class="o">.</span><span class="n">days</span> <span class="o">&lt;=</span> <span class="mi">5</span><span class="p">,</span> <span class="n">election</span><span class="p">[</span><span class="s2">&quot;Start Date&quot;</span><span class="p">])</span> <span class="p">]</span>
<span class="n">filtered</span> <span class="o">=</span> <span class="n">filtered</span><span class="o">.</span><span class="n">sort</span><span class="p">(</span><span class="n">columns</span><span class="o">=</span><span class="p">[</span><span class="s2">&quot;Start Date&quot;</span><span class="p">])</span>
<span class="n">days</span><span class="o">=</span> <span class="nb">map</span><span class="p">(</span><span class="k">lambda</span> <span class="n">x</span><span class="p">:</span> <span class="p">(</span><span class="n">last_day</span> <span class="o">-</span> <span class="n">x</span><span class="p">)</span><span class="o">.</span><span class="n">days</span> <span class="p">,</span> <span class="n">filtered</span><span class="p">[</span><span class="s2">&quot;Start Date&quot;</span><span class="p">])</span>

<span class="n">color_map</span> <span class="o">=</span> <span class="p">{}</span>
<span class="k">for</span> <span class="n">i</span><span class="p">,</span> <span class="n">p</span> <span class="ow">in</span> <span class="nb">enumerate</span><span class="p">(</span><span class="nb">set</span><span class="p">(</span><span class="n">filtered</span><span class="o">.</span><span class="n">Pollster</span><span class="p">)):</span>
    <span class="n">color_map</span><span class="p">[</span><span class="n">p</span><span class="p">]</span> <span class="o">=</span> <span class="n">np</span><span class="o">.</span><span class="n">random</span><span class="o">.</span><span class="n">rand</span><span class="p">();</span>

<span class="n">plt</span><span class="o">.</span><span class="n">scatter</span><span class="p">(</span><span class="n">days</span><span class="p">,</span> <span class="n">filtered</span><span class="o">.</span><span class="n">Diff</span><span class="p">,</span> <span class="n">c</span> <span class="o">=</span> <span class="nb">map</span><span class="p">(</span><span class="k">lambda</span> <span class="n">x</span><span class="p">:</span> <span class="n">color_map</span><span class="p">[</span><span class="n">x</span><span class="p">],</span> <span class="n">filtered</span><span class="o">.</span><span class="n">Pollster</span><span class="p">),</span>  <span class="n">s</span><span class="o">=</span><span class="mi">60</span> <span class="p">)</span>
<span class="n">plt</span><span class="o">.</span><span class="n">axhline</span><span class="p">(</span><span class="n">y</span><span class="o">=</span><span class="mf">0.039</span><span class="p">,</span> <span class="n">c</span> <span class="o">=</span> <span class="s2">&quot;gray&quot;</span><span class="p">)</span>
<span class="n">plt</span><span class="o">.</span><span class="n">axhline</span><span class="p">(</span><span class="n">y</span><span class="o">=</span><span class="n">np</span><span class="o">.</span><span class="n">mean</span><span class="p">(</span><span class="n">filtered</span><span class="o">.</span><span class="n">Diff</span><span class="p">),</span> <span class="n">c</span> <span class="o">=</span> <span class="s2">&quot;red&quot;</span><span class="p">)</span>
<span class="n">plt</span><span class="o">.</span><span class="n">xlabel</span><span class="p">(</span><span class="s2">&quot;Days&quot;</span><span class="p">)</span>
<span class="n">plt</span><span class="o">.</span><span class="n">ylabel</span><span class="p">(</span><span class="s2">&quot;Difference (Obama - Romney)&quot;</span><span class="p">)</span>
<span class="n">plt</span><span class="o">.</span><span class="n">title</span><span class="p">(</span><span class="s2">&quot;Plot of the difference between Obama and Romney colored by different pollsters in the last week&quot;</span><span class="p">)</span>
</pre></div>

</div>
</div>
</div>

<div class="output_wrapper">
<div class="output">


<div class="output_area">

<div class="prompt output_prompt">Out[111]:</div>




<div class="output_text output_subarea output_execute_result">
<pre>&lt;matplotlib.text.Text at 0x1126f7410&gt;</pre>
</div>

</div>

<div class="output_area">

<div class="prompt"></div>




<div class="output_png output_subarea ">
<img src="data:image/png;base64,iVBORw0KGgoAAAANSUhEUgAAAqEAAAGRCAYAAABVMGpuAAAABHNCSVQICAgIfAhkiAAAAAlwSFlz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"
>
</div>

</div>

</div>
</div>

</div>
<div class="cell border-box-sizing text_cell rendered"><div class="prompt input_prompt">
</div>
<div class="inner_cell">
<div class="text_cell_render border-box-sizing rendered_html">
<h4 id="Problem-3(c)">Problem 3(c)<a class="anchor-link" href="#Problem-3(c)">&#182;</a></h4><p>Make a plot showing the differences by pollster where the pollsters are on the x-axis and the differences on the y-axis.</p>

</div>
</div>
</div>
<div class="cell border-box-sizing code_cell rendered">
<div class="input">
<div class="prompt input_prompt">In&nbsp;[112]:</div>
<div class="inner_cell">
    <div class="input_area">
<div class=" highlight hl-ipython3"><pre><span></span><span class="c1">#your code here</span>
<span class="n">pollster_map</span> <span class="o">=</span> <span class="p">{}</span>

<span class="n">polls</span> <span class="o">=</span> <span class="nb">list</span><span class="p">(</span><span class="nb">set</span><span class="p">(</span><span class="n">filtered</span><span class="o">.</span><span class="n">Pollster</span><span class="p">))</span>

<span class="k">for</span> <span class="n">i</span><span class="p">,</span> <span class="n">p</span> <span class="ow">in</span> <span class="nb">enumerate</span><span class="p">(</span><span class="n">polls</span><span class="p">):</span>
    <span class="n">pollster_map</span><span class="p">[</span><span class="n">p</span><span class="p">]</span> <span class="o">=</span> <span class="n">i</span>

<span class="n">plt</span><span class="o">.</span><span class="n">scatter</span><span class="p">(</span><span class="nb">map</span><span class="p">(</span><span class="k">lambda</span> <span class="n">x</span><span class="p">:</span> <span class="n">pollster_map</span><span class="p">[</span><span class="n">x</span><span class="p">],</span><span class="n">filtered</span><span class="o">.</span><span class="n">Pollster</span><span class="p">),</span> <span class="n">filtered</span><span class="o">.</span><span class="n">Diff</span><span class="p">,</span> \
            <span class="n">c</span> <span class="o">=</span> <span class="nb">map</span><span class="p">(</span><span class="k">lambda</span> <span class="n">x</span><span class="p">:</span> <span class="n">color_map</span><span class="p">[</span><span class="n">x</span><span class="p">],</span><span class="n">filtered</span><span class="o">.</span><span class="n">Pollster</span><span class="p">),</span><span class="n">s</span><span class="o">=</span><span class="mi">60</span><span class="p">)</span>
<span class="n">plt</span><span class="o">.</span><span class="n">xticks</span><span class="p">(</span><span class="nb">range</span><span class="p">(</span><span class="nb">len</span><span class="p">(</span><span class="n">polls</span><span class="p">)),</span> <span class="n">polls</span><span class="p">,</span> <span class="n">rotation</span> <span class="o">=</span> <span class="mi">90</span><span class="p">)</span>
<span class="n">plt</span><span class="o">.</span><span class="n">xlabel</span><span class="p">(</span><span class="s2">&quot;Pollsters&quot;</span><span class="p">)</span>
<span class="n">plt</span><span class="o">.</span><span class="n">ylabel</span><span class="p">(</span><span class="s2">&quot;Difference (Obama - Romney)&quot;</span><span class="p">)</span>
<span class="n">plt</span><span class="o">.</span><span class="n">title</span><span class="p">(</span><span class="s2">&quot;Plot of the difference between Obama and Romney by different pollsters&quot;</span><span class="p">)</span>
<span class="n">plt</span><span class="o">.</span><span class="n">show</span><span class="p">()</span>
</pre></div>

</div>
</div>
</div>

<div class="output_wrapper">
<div class="output">


<div class="output_area">

<div class="prompt"></div>




<div class="output_png output_subarea ">
<img src="data:image/png;base64,iVBORw0KGgoAAAANSUhEUgAAAnMAAAJfCAYAAAAU3lBDAAAABHNCSVQICAgIfAhkiAAAAAlwSFlz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=
"
>
</div>

</div>

</div>
</div>

</div>
<div class="cell border-box-sizing text_cell rendered"><div class="prompt input_prompt">
</div>
<div class="inner_cell">
<div class="text_cell_render border-box-sizing rendered_html">
<p>Is the <em>across poll</em> difference larger than the <em>between pollster</em> difference?</p>

</div>
</div>
</div>
<div class="cell border-box-sizing text_cell rendered"><div class="prompt input_prompt">
</div>
<div class="inner_cell">
<div class="text_cell_render border-box-sizing rendered_html">
<p>Answer: For this question, we can compare the variability <em>within</em> each pollster (<em>across</em> a set of polls) compared to the variability <em>between</em> each pollster.  From these two visualization it is clear that the <em>between</em> pollster difference is larger.</p>

</div>
</div>
</div>
<div class="cell border-box-sizing text_cell rendered"><div class="prompt input_prompt">
</div>
<div class="inner_cell">
<div class="text_cell_render border-box-sizing rendered_html">
<h4 id="Problem-3(d)">Problem 3(d)<a class="anchor-link" href="#Problem-3(d)">&#182;</a></h4><p>Take the average for each pollster and then compute the average of that. Given this difference how confident would you have been of an Obama victory?</p>
<p><strong>Hint</strong>: Compute an estimate of the SE of this average based exclusively on the observed data.</p>

</div>
</div>
</div>
<div class="cell border-box-sizing code_cell rendered">
<div class="input">
<div class="prompt input_prompt">In&nbsp;[113]:</div>
<div class="inner_cell">
    <div class="input_area">
<div class=" highlight hl-ipython3"><pre><span></span><span class="c1">#your code here</span>
<span class="n">aggr</span>  <span class="o">=</span> <span class="n">filtered</span><span class="o">.</span><span class="n">groupby</span><span class="p">(</span><span class="s2">&quot;Pollster&quot;</span><span class="p">)</span><span class="o">.</span><span class="n">mean</span><span class="p">()</span>
<span class="nb">print</span> <span class="s2">&quot;Average across pollsters: </span><span class="si">%g</span><span class="s2">&quot;</span> <span class="o">%</span> <span class="n">np</span><span class="o">.</span><span class="n">round</span><span class="p">(</span><span class="n">np</span><span class="o">.</span><span class="n">mean</span><span class="p">(</span><span class="n">aggr</span><span class="o">.</span><span class="n">Diff</span><span class="p">),</span><span class="mi">4</span><span class="p">)</span>
<span class="nb">print</span> <span class="s2">&quot;Standard error: </span><span class="si">%g</span><span class="s2">&quot;</span> <span class="o">%</span> <span class="n">np</span><span class="o">.</span><span class="n">std</span><span class="p">(</span><span class="n">aggr</span><span class="o">.</span><span class="n">Diff</span><span class="p">,</span> <span class="n">ddof</span> <span class="o">=</span> <span class="mi">0</span><span class="p">)</span>
</pre></div>

</div>
</div>
</div>

<div class="output_wrapper">
<div class="output">


<div class="output_area">

<div class="prompt"></div>


<div class="output_subarea output_stream output_stdout output_text">
<pre>Average across pollsters: 0.0124
Standard error: 0.0129669
</pre>
</div>
</div>

</div>
</div>

</div>
<div class="cell border-box-sizing text_cell rendered"><div class="prompt input_prompt">
</div>
<div class="inner_cell">
<div class="text_cell_render border-box-sizing rendered_html">
<p>Answer: Given the large standard error, I would not have been very confident in the Obama victory.</p>

</div>
</div>
</div>
<div class="cell border-box-sizing text_cell rendered"><div class="prompt input_prompt">
</div>
<div class="inner_cell">
<div class="text_cell_render border-box-sizing rendered_html">
<h4 id="Problem-3(e)">Problem 3(e)<a class="anchor-link" href="#Problem-3(e)">&#182;</a></h4><p><strong>For AC209 Students</strong>: Show the difference against time and see if you can detect a trend towards the end. Use this trend to see if it improves the final estimate.</p>

</div>
</div>
</div>
<div class="cell border-box-sizing code_cell rendered">
<div class="input">
<div class="prompt input_prompt">In&nbsp;[114]:</div>
<div class="inner_cell">
    <div class="input_area">
<div class=" highlight hl-ipython3"><pre><span></span><span class="c1">#your code here</span>
<span class="n">three_months</span> <span class="o">=</span> <span class="n">dt</span><span class="o">.</span><span class="n">datetime</span><span class="p">(</span><span class="mi">2012</span><span class="p">,</span><span class="mi">8</span><span class="p">,</span><span class="mi">15</span><span class="p">,</span><span class="mi">0</span><span class="p">,</span><span class="mi">0</span><span class="p">)</span>

<span class="n">new_data</span> <span class="o">=</span> <span class="n">election</span> <span class="p">[</span><span class="nb">map</span><span class="p">(</span><span class="k">lambda</span> <span class="n">x</span><span class="p">:</span> <span class="n">x</span> <span class="o">&gt;=</span> <span class="n">three_months</span> <span class="p">,</span> <span class="n">election</span><span class="p">[</span><span class="s2">&quot;Start Date&quot;</span><span class="p">])</span> <span class="p">]</span>
<span class="n">new_data</span> <span class="o">=</span> <span class="n">new_data</span><span class="o">.</span><span class="n">sort</span><span class="p">(</span><span class="s2">&quot;Start Date&quot;</span><span class="p">)</span>
<span class="n">new_data</span><span class="p">[</span><span class="s2">&quot;days&quot;</span><span class="p">]</span><span class="o">=</span> <span class="nb">map</span><span class="p">(</span><span class="k">lambda</span> <span class="n">x</span><span class="p">:</span> <span class="p">(</span><span class="n">x</span> <span class="o">-</span> <span class="n">three_months</span><span class="p">)</span><span class="o">.</span><span class="n">days</span> <span class="p">,</span> <span class="n">new_data</span><span class="p">[</span><span class="s2">&quot;Start Date&quot;</span><span class="p">])</span>

<span class="n">new_data</span><span class="p">[</span><span class="s2">&quot;Diff&quot;</span><span class="p">]</span> <span class="o">=</span> <span class="p">(</span><span class="n">new_data</span><span class="o">.</span><span class="n">Obama</span><span class="o">/</span><span class="mi">100</span><span class="p">)</span> <span class="o">-</span> <span class="p">(</span><span class="n">new_data</span><span class="o">.</span><span class="n">Romney</span><span class="o">/</span><span class="mi">100</span><span class="p">)</span>
<span class="n">new_data</span> <span class="o">=</span> <span class="n">new_data</span><span class="o">.</span><span class="n">groupby</span><span class="p">([</span><span class="s2">&quot;days&quot;</span><span class="p">],</span> <span class="n">as_index</span><span class="o">=</span><span class="kc">False</span><span class="p">)</span><span class="o">.</span><span class="n">mean</span><span class="p">()</span>

<span class="n">plt</span><span class="o">.</span><span class="n">figure</span><span class="p">()</span>
<span class="n">plt</span><span class="o">.</span><span class="n">plot</span><span class="p">(</span><span class="n">new_data</span><span class="o">.</span><span class="n">days</span><span class="p">,</span> <span class="n">new_data</span><span class="o">.</span><span class="n">Diff</span> <span class="p">)</span>
<span class="n">plt</span><span class="o">.</span><span class="n">xlabel</span><span class="p">(</span><span class="s2">&quot;Days from three month before the election&quot;</span><span class="p">)</span>
<span class="n">plt</span><span class="o">.</span><span class="n">ylabel</span><span class="p">(</span><span class="s2">&quot;Difference (Obama - Romney)&quot;</span><span class="p">)</span>
<span class="n">plt</span><span class="o">.</span><span class="n">title</span><span class="p">(</span><span class="s2">&quot;Difference between Obama and Romney across time&quot;</span><span class="p">)</span>
<span class="n">plt</span><span class="o">.</span><span class="n">show</span><span class="p">()</span>
</pre></div>

</div>
</div>
</div>

<div class="output_wrapper">
<div class="output">


<div class="output_area">

<div class="prompt"></div>




<div class="output_png output_subarea ">
<img src="data:image/png;base64,iVBORw0KGgoAAAANSUhEUgAAAnoAAAGRCAYAAADywR7QAAAABHNCSVQICAgIfAhkiAAAAAlwSFlz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"
>
</div>

</div>

</div>
</div>

</div>
<div class="cell border-box-sizing text_cell rendered"><div class="prompt input_prompt">
</div>
<div class="inner_cell">
<div class="text_cell_render border-box-sizing rendered_html">
<p>Answer: Around fifty days before the election, there was a change resulting a positive difference between Obama and Romney in the polls.</p>

</div>
</div>
</div>
<div class="cell border-box-sizing text_cell rendered"><div class="prompt input_prompt">
</div>
<div class="inner_cell">
<div class="text_cell_render border-box-sizing rendered_html">
<h2 id="Discussion-for-Problem-3">Discussion for Problem 3<a class="anchor-link" href="#Discussion-for-Problem-3">&#182;</a></h2><p><em>Write a brief discussion of your conclusions to the questions and tasks above in 100 words or less.</em></p>
<p>Yes, the average of polls is better than just one poll because there can be a large amount of variability between pollsters.</p>
<hr>

</div>
</div>
</div>
<div class="cell border-box-sizing text_cell rendered"><div class="prompt input_prompt">
</div>
<div class="inner_cell">
<div class="text_cell_render border-box-sizing rendered_html">
<h2 id="Problem-4">Problem 4<a class="anchor-link" href="#Problem-4">&#182;</a></h2><p>In this last problem, we will use the polls from the <a href="http://elections.huffingtonpost.com/pollster">2014 Senate Midterm Elections</a> from the <a href="http://elections.huffingtonpost.com/pollster/api">HuffPost Pollster API</a> to create a preliminary prediction of the result of each state.</p>
<p>The HuffPost Pollster API allows you to access the data as a CSV or a JSON response by tacking ".csv" or ".json" at the end of the URLs. For example the 2012 Presidential Election could be accessed as a <a href="http://elections.huffingtonpost.com/pollster/2012-general-election-romney-vs-obama.json">.json</a> instead of a <a href="http://elections.huffingtonpost.com/pollster/2012-general-election-romney-vs-obama.csv">.csv</a></p>

</div>
</div>
</div>
<div class="cell border-box-sizing text_cell rendered"><div class="prompt input_prompt">
</div>
<div class="inner_cell">
<div class="text_cell_render border-box-sizing rendered_html">
<h4 id="Problem-4(a)">Problem 4(a)<a class="anchor-link" href="#Problem-4(a)">&#182;</a></h4><p>Read in the polls for <strong>all</strong> of the 2014 Senate Elections using the HuffPost API. For example, we can consider the <a href="http://elections.huffingtonpost.com/pollster/2014-kentucky-senate-mcconnell-vs-grimes">2014 Senate race in Kentucky between Mitch McConnell and Alison Grimes</a>.</p>
<p>To search for the 2014 Senate races, use the <code>topics</code> parameter in the API [<a href="http://elections.huffingtonpost.com/pollster/api">read more about topics here</a>].</p>

</div>
</div>
</div>
<div class="cell border-box-sizing code_cell rendered">
<div class="input">
<div class="prompt input_prompt">In&nbsp;[115]:</div>
<div class="inner_cell">
    <div class="input_area">
<div class=" highlight hl-ipython3"><pre><span></span><span class="n">url_str</span> <span class="o">=</span> <span class="s2">&quot;http://elections.huffingtonpost.com/pollster/api/charts/?topic=2014-senate&quot;</span>
</pre></div>

</div>
</div>
</div>

</div>
<div class="cell border-box-sizing text_cell rendered"><div class="prompt input_prompt">
</div>
<div class="inner_cell">
<div class="text_cell_render border-box-sizing rendered_html">
<p>To list all the URLs related to the 2014 Senate races using the pollster API, we can use a list comprehension:</p>

</div>
</div>
</div>
<div class="cell border-box-sizing code_cell rendered">
<div class="input">
<div class="prompt input_prompt">In&nbsp;[116]:</div>
<div class="inner_cell">
    <div class="input_area">
<div class=" highlight hl-ipython3"><pre><span></span><span class="n">election_urls</span> <span class="o">=</span> <span class="p">[</span><span class="n">election</span><span class="p">[</span><span class="s1">&#39;url&#39;</span><span class="p">]</span> <span class="o">+</span> <span class="s1">&#39;.csv&#39;</span> <span class="k">for</span> <span class="n">election</span> <span class="ow">in</span> <span class="n">requests</span><span class="o">.</span><span class="n">get</span><span class="p">(</span><span class="n">url_str</span><span class="p">)</span><span class="o">.</span><span class="n">json</span><span class="p">()]</span>
<span class="n">election_urls</span>
</pre></div>

</div>
</div>
</div>

<div class="output_wrapper">
<div class="output">


<div class="output_area">

<div class="prompt output_prompt">Out[116]:</div>




<div class="output_text output_subarea output_execute_result">
<pre>[u&#39;http://elections.huffingtonpost.com/pollster/2014-kentucky-senate-mcconnell-vs-grimes.csv&#39;,
 u&#39;http://elections.huffingtonpost.com/pollster/2014-arkansas-senate-cotton-vs-pryor.csv&#39;,
 u&#39;http://elections.huffingtonpost.com/pollster/2014-michigan-senate-land-vs-peters.csv&#39;,
 u&#39;http://elections.huffingtonpost.com/pollster/2014-louisiana-senate-cassidy-vs-landrieu.csv&#39;,
 u&#39;http://elections.huffingtonpost.com/pollster/2014-new-hampshire-senate-brown-vs-shaheen.csv&#39;,
 u&#39;http://elections.huffingtonpost.com/pollster/2014-west-virginia-senate-capito-vs-tennant.csv&#39;,
 u&#39;http://elections.huffingtonpost.com/pollster/2014-new-hampshire-senate-bass-vs-shaheen.csv&#39;,
 u&#39;http://elections.huffingtonpost.com/pollster/2014-north-carolina-senate-tillis-vs-hagan.csv&#39;,
 u&#39;http://elections.huffingtonpost.com/pollster/2014-virginia-senate-gillespie-vs-warner.csv&#39;,
 u&#39;http://elections.huffingtonpost.com/pollster/2014-colorado-senate-gardner-vs-udall.csv&#39;,
 u&#39;http://elections.huffingtonpost.com/pollster/2014-illinois-senate-oberweis-vs-durbin.csv&#39;,
 u&#39;http://elections.huffingtonpost.com/pollster/2014-alaska-senate-sullivan-vs-begich.csv&#39;,
 u&#39;http://elections.huffingtonpost.com/pollster/2014-iowa-senate-ernst-vs-braley.csv&#39;,
 u&#39;http://elections.huffingtonpost.com/pollster/2014-mississippi-senate-cochran-vs-childers.csv&#39;,
 u&#39;http://elections.huffingtonpost.com/pollster/2014-oregon-senate-wehby-vs-merkley.csv&#39;,
 u&#39;http://elections.huffingtonpost.com/pollster/2014-georgia-senate-perdue-vs-nunn.csv&#39;,
 u&#39;http://elections.huffingtonpost.com/pollster/2014-nebraska-senate-sasse-vs-domina.csv&#39;,
 u&#39;http://elections.huffingtonpost.com/pollster/2014-south-dakota-senate-rounds-vs-weiland.csv&#39;,
 u&#39;http://elections.huffingtonpost.com/pollster/2014-maine-senate-collins-vs-bellows.csv&#39;,
 u&#39;http://elections.huffingtonpost.com/pollster/2014-minnesota-senate-mcfadden-vs-franken.csv&#39;,
 u&#39;http://elections.huffingtonpost.com/pollster/2014-texas-senate-cornyn-vs-alameel.csv&#39;,
 u&#39;http://elections.huffingtonpost.com/pollster/2014-south-carolina-senate-graham-vs-hutto.csv&#39;,
 u&#39;http://elections.huffingtonpost.com/pollster/2014-south-carolina-senate-scott-vs-dickerson.csv&#39;,
 u&#39;http://elections.huffingtonpost.com/pollster/2014-oklahoma-senate-inhofe-vs-silverstein.csv&#39;,
 u&#39;http://elections.huffingtonpost.com/pollster/2014-new-mexico-senate-weh-vs-udall.csv&#39;,
 u&#39;http://elections.huffingtonpost.com/pollster/2014-new-jersey-senate-bell-vs-booker.csv&#39;,
 u&#39;http://elections.huffingtonpost.com/pollster/2014-idaho-senate-risch-vs-mitchell.csv&#39;,
 u&#39;http://elections.huffingtonpost.com/pollster/2014-tennessee-senate-alexander-vs-ball.csv&#39;,
 u&#39;http://elections.huffingtonpost.com/pollster/2014-wyoming-senate.csv&#39;,
 u&#39;http://elections.huffingtonpost.com/pollster/2014-kansas-senate-roberts-vs-orman-vs-taylor.csv&#39;,
 u&#39;http://elections.huffingtonpost.com/pollster/2014-hawaii-senate-cavasso-vs-schatz.csv&#39;,
 u&#39;http://elections.huffingtonpost.com/pollster/2014-oklahoma-senate-lankford-vs-johnson.csv&#39;,
 u&#39;http://elections.huffingtonpost.com/pollster/2014-montana-senate-daines-vs-curtis.csv&#39;,
 u&#39;http://elections.huffingtonpost.com/pollster/2014-rhode-island-senate-zaccaria-vs-reed.csv&#39;,
 u&#39;http://elections.huffingtonpost.com/pollster/2014-massachusetts-senate-herr-vs-markey.csv&#39;,
 u&#39;http://elections.huffingtonpost.com/pollster/2014-delaware-senate-wade-vs-coons.csv&#39;]</pre>
</div>

</div>

</div>
</div>

</div>
<div class="cell border-box-sizing text_cell rendered"><div class="prompt input_prompt">
</div>
<div class="inner_cell">
<div class="text_cell_render border-box-sizing rendered_html">
<p>Because there so many Senate races, we can create a dictionary of pandas DataFrames that will be keyed by the name of the election (a string).</p>

</div>
</div>
</div>
<div class="cell border-box-sizing code_cell rendered">
<div class="input">
<div class="prompt input_prompt">In&nbsp;[117]:</div>
<div class="inner_cell">
    <div class="input_area">
<div class=" highlight hl-ipython3"><pre><span></span><span class="k">def</span> <span class="nf">build_frame</span><span class="p">(</span><span class="n">url</span><span class="p">):</span>
    <span class="sd">&quot;&quot;&quot;</span>
<span class="sd">    Returns a pandas DataFrame object containing</span>
<span class="sd">    the data returned from the given url</span>
<span class="sd">    &quot;&quot;&quot;</span>
    <span class="n">source</span> <span class="o">=</span> <span class="n">requests</span><span class="o">.</span><span class="n">get</span><span class="p">(</span><span class="n">url</span><span class="p">)</span><span class="o">.</span><span class="n">text</span>
    
    <span class="c1"># Use StringIO because pd.DataFrame.from_csv requires .read() method</span>
    <span class="n">s</span> <span class="o">=</span> <span class="n">StringIO</span><span class="p">(</span><span class="n">source</span><span class="p">)</span>
    
    <span class="k">return</span> <span class="n">pd</span><span class="o">.</span><span class="n">DataFrame</span><span class="o">.</span><span class="n">from_csv</span><span class="p">(</span><span class="n">s</span><span class="p">,</span> <span class="n">index_col</span><span class="o">=</span><span class="kc">None</span><span class="p">)</span><span class="o">.</span><span class="n">convert_objects</span><span class="p">(</span>
            <span class="n">convert_dates</span><span class="o">=</span><span class="s2">&quot;coerce&quot;</span><span class="p">,</span> <span class="n">convert_numeric</span><span class="o">=</span><span class="kc">True</span><span class="p">)</span>
</pre></div>

</div>
</div>
</div>

</div>
<div class="cell border-box-sizing code_cell rendered">
<div class="input">
<div class="prompt input_prompt">In&nbsp;[118]:</div>
<div class="inner_cell">
    <div class="input_area">
<div class=" highlight hl-ipython3"><pre><span></span><span class="c1"># Makes a dictionary of pandas DataFrames keyed on election string.</span>
<span class="n">dfs</span> <span class="o">=</span> <span class="nb">dict</span><span class="p">((</span><span class="n">election</span><span class="o">.</span><span class="n">split</span><span class="p">(</span><span class="s2">&quot;/&quot;</span><span class="p">)[</span><span class="o">-</span><span class="mi">1</span><span class="p">][:</span><span class="o">-</span><span class="mi">4</span><span class="p">],</span> <span class="n">build_frame</span><span class="p">(</span><span class="n">election</span><span class="p">))</span> <span class="k">for</span> <span class="n">election</span> <span class="ow">in</span> <span class="n">election_urls</span><span class="p">)</span>
</pre></div>

</div>
</div>
</div>

</div>
<div class="cell border-box-sizing text_cell rendered"><div class="prompt input_prompt">
</div>
<div class="inner_cell">
<div class="text_cell_render border-box-sizing rendered_html">
<p>Show the head of the DataFrame containing the polls for the 2014 Senate race in Kentucky between McConnell and Grimes.</p>

</div>
</div>
</div>
<div class="cell border-box-sizing code_cell rendered">
<div class="input">
<div class="prompt input_prompt">In&nbsp;[119]:</div>
<div class="inner_cell">
    <div class="input_area">
<div class=" highlight hl-ipython3"><pre><span></span><span class="c1">#your code here</span>
<span class="n">dfs</span><span class="p">[</span><span class="s1">&#39;2014-kentucky-senate-mcconnell-vs-grimes&#39;</span><span class="p">]</span><span class="o">.</span><span class="n">head</span><span class="p">()</span>
</pre></div>

</div>
</div>
</div>

<div class="output_wrapper">
<div class="output">


<div class="output_area">

<div class="prompt output_prompt">Out[119]:</div>



<div class="output_html rendered_html output_subarea output_execute_result">
<div style="max-height:1000px;max-width:1500px;overflow:auto;">
<table border="1" class="dataframe">
  <thead>
    <tr style="text-align: right;">
      <th></th>
      <th>Pollster</th>
      <th>Start Date</th>
      <th>End Date</th>
      <th>Entry Date/Time (ET)</th>
      <th>Number of Observations</th>
      <th>Population</th>
      <th>Mode</th>
      <th>McConnell</th>
      <th>Grimes</th>
      <th>Undecided</th>
      <th>Pollster URL</th>
      <th>Source URL</th>
      <th>Partisan</th>
      <th>Affiliation</th>
    </tr>
  </thead>
  <tbody>
    <tr>
      <th>0</th>
      <td> SurveyUSA/Courier-Journal/Herald-Leader/WHAS/WKYT</td>
      <td>2014-09-29</td>
      <td>2014-10-02</td>
      <td>2014-10-06 15:54:36</td>
      <td>  632</td>
      <td> Likely Voters</td>
      <td>      IVR/Online</td>
      <td> 44</td>
      <td> 46</td>
      <td>  7</td>
      <td> http://elections.huffingtonpost.com/pollster/p...</td>
      <td> http://www.courier-journal.com/story/news/poli...</td>
      <td> Nonpartisan</td>
      <td> None</td>
    </tr>
    <tr>
      <th>1</th>
      <td>                                    CBS/NYT/YouGov</td>
      <td>2014-09-20</td>
      <td>2014-10-01</td>
      <td>2014-10-05 15:42:23</td>
      <td> 1689</td>
      <td> Likely Voters</td>
      <td>        Internet</td>
      <td> 47</td>
      <td> 41</td>
      <td>  9</td>
      <td> http://elections.huffingtonpost.com/pollster/p...</td>
      <td> https://today.yougov.com/news/2014/09/07/battl...</td>
      <td> Nonpartisan</td>
      <td> None</td>
    </tr>
    <tr>
      <th>2</th>
      <td>                                Mellman (D-Grimes)</td>
      <td>2014-09-19</td>
      <td>2014-09-27</td>
      <td>2014-10-01 15:13:47</td>
      <td> 1800</td>
      <td> Likely Voters</td>
      <td>      Live Phone</td>
      <td> 40</td>
      <td> 42</td>
      <td> 16</td>
      <td> http://elections.huffingtonpost.com/pollster/p...</td>
      <td> http://images.politico.com/global/2014/09/30/m...</td>
      <td>     Sponsor</td>
      <td>  Dem</td>
    </tr>
    <tr>
      <th>3</th>
      <td>                           Gravis/Human Events (R)</td>
      <td>2014-09-13</td>
      <td>2014-09-16</td>
      <td>2014-09-19 14:57:03</td>
      <td>  839</td>
      <td> Likely Voters</td>
      <td> Automated Phone</td>
      <td> 51</td>
      <td> 41</td>
      <td>  8</td>
      <td> http://elections.huffingtonpost.com/pollster/p...</td>
      <td> http://gravismarketing.com/polling-and-market-...</td>
      <td>     Sponsor</td>
      <td>  Rep</td>
    </tr>
    <tr>
      <th>4</th>
      <td>                                     Ipsos/Reuters</td>
      <td>2014-09-08</td>
      <td>2014-09-12</td>
      <td>2014-09-22 15:23:23</td>
      <td>  944</td>
      <td> Likely Voters</td>
      <td>        Internet</td>
      <td> 46</td>
      <td> 42</td>
      <td>  6</td>
      <td> http://elections.huffingtonpost.com/pollster/p...</td>
      <td>     http://ipsos-na.com/download/pr.aspx?id=13904</td>
      <td> Nonpartisan</td>
      <td> None</td>
    </tr>
  </tbody>
</table>
</div>
</div>

</div>

</div>
</div>

</div>
<div class="cell border-box-sizing text_cell rendered"><div class="prompt input_prompt">
</div>
<div class="inner_cell">
<div class="text_cell_render border-box-sizing rendered_html">
<h4 id="Problem-4(b)">Problem 4(b)<a class="anchor-link" href="#Problem-4(b)">&#182;</a></h4><p>For each 2014 Senate race, create a preliminary prediction of the result for that state.</p>
<p>This is a very crude way of making a preliminary prediction: compute the difference between each candidate using all the polls in each race and predict the winner based on if the differences is positive or negative.  We want you to be creative and use the tools you are learning in class to make more accurate predictions.</p>

</div>
</div>
</div>
<div class="cell border-box-sizing code_cell rendered">
<div class="input">
<div class="prompt input_prompt">In&nbsp;[120]:</div>
<div class="inner_cell">
    <div class="input_area">
<div class=" highlight hl-ipython3"><pre><span></span><span class="c1">#your code here</span>
<span class="n">x</span> <span class="o">=</span> <span class="p">{}</span>
<span class="k">for</span> <span class="n">keys</span> <span class="ow">in</span> <span class="n">dfs</span><span class="p">:</span>
    <span class="n">dat</span> <span class="o">=</span> <span class="n">dfs</span><span class="p">[</span><span class="n">keys</span><span class="p">]</span>
    <span class="n">candidate1</span> <span class="o">=</span> <span class="n">dat</span><span class="o">.</span><span class="n">columns</span><span class="p">[</span><span class="mi">7</span><span class="p">]</span> 
    <span class="n">candidate2</span> <span class="o">=</span> <span class="n">dat</span><span class="o">.</span><span class="n">columns</span><span class="p">[</span><span class="mi">8</span><span class="p">]</span> 
    <span class="n">dat</span><span class="o">.</span><span class="n">Diff</span> <span class="o">=</span> <span class="p">(</span><span class="n">dat</span><span class="p">[</span><span class="n">candidate1</span><span class="p">]</span><span class="o">/</span><span class="mi">100</span><span class="p">)</span> <span class="o">-</span> <span class="p">(</span><span class="n">dat</span><span class="p">[</span><span class="n">candidate2</span><span class="p">]</span><span class="o">/</span><span class="mi">100</span><span class="p">)</span>
    <span class="n">x</span><span class="p">[</span><span class="n">keys</span><span class="p">]</span> <span class="o">=</span> <span class="p">[</span><span class="n">candidate1</span><span class="p">,</span> <span class="n">candidate2</span><span class="p">,</span> <span class="n">np</span><span class="o">.</span><span class="n">round</span><span class="p">(</span><span class="n">np</span><span class="o">.</span><span class="n">mean</span><span class="p">(</span><span class="n">dat</span><span class="o">.</span><span class="n">Diff</span><span class="p">),</span> <span class="mi">3</span><span class="p">)]</span>

<span class="n">predictions</span> <span class="o">=</span> <span class="n">pd</span><span class="o">.</span><span class="n">DataFrame</span><span class="p">(</span><span class="n">x</span><span class="p">)</span><span class="o">.</span><span class="n">T</span>  
<span class="n">predictions</span><span class="o">.</span><span class="n">columns</span> <span class="o">=</span> <span class="p">[</span><span class="s1">&#39;Candidate1&#39;</span><span class="p">,</span> <span class="s1">&#39;Candidate2&#39;</span><span class="p">,</span> <span class="s1">&#39;Difference&#39;</span><span class="p">]</span>
<span class="n">predictions</span><span class="p">[</span><span class="s1">&#39;Winner&#39;</span><span class="p">]</span> <span class="o">=</span> <span class="n">np</span><span class="o">.</span><span class="n">where</span><span class="p">(</span><span class="n">predictions</span><span class="o">.</span><span class="n">Difference</span> <span class="o">&gt;=</span><span class="mi">0</span><span class="p">,</span> 
                                 <span class="n">predictions</span><span class="o">.</span><span class="n">Candidate1</span><span class="p">,</span> <span class="n">predictions</span><span class="o">.</span><span class="n">Candidate2</span><span class="p">)</span>
<span class="n">predictions</span>
</pre></div>

</div>
</div>
</div>

<div class="output_wrapper">
<div class="output">


<div class="output_area">

<div class="prompt output_prompt">Out[120]:</div>



<div class="output_html rendered_html output_subarea output_execute_result">
<div style="max-height:1000px;max-width:1500px;overflow:auto;">
<table border="1" class="dataframe">
  <thead>
    <tr style="text-align: right;">
      <th></th>
      <th>Candidate1</th>
      <th>Candidate2</th>
      <th>Difference</th>
      <th>Winner</th>
    </tr>
  </thead>
  <tbody>
    <tr>
      <th>2014-alaska-senate-sullivan-vs-begich</th>
      <td>  Sullivan</td>
      <td>      Begich</td>
      <td>-0.013</td>
      <td>    Begich</td>
    </tr>
    <tr>
      <th>2014-arkansas-senate-cotton-vs-pryor</th>
      <td>    Cotton</td>
      <td>       Pryor</td>
      <td> 0.008</td>
      <td>    Cotton</td>
    </tr>
    <tr>
      <th>2014-colorado-senate-gardner-vs-udall</th>
      <td>   Gardner</td>
      <td>       Udall</td>
      <td>-0.011</td>
      <td>     Udall</td>
    </tr>
    <tr>
      <th>2014-delaware-senate-wade-vs-coons</th>
      <td>     Coons</td>
      <td>        Wade</td>
      <td> 0.173</td>
      <td>     Coons</td>
    </tr>
    <tr>
      <th>2014-georgia-senate-perdue-vs-nunn</th>
      <td>    Perdue</td>
      <td>        Nunn</td>
      <td> 0.022</td>
      <td>    Perdue</td>
    </tr>
    <tr>
      <th>2014-hawaii-senate-cavasso-vs-schatz</th>
      <td>    Schatz</td>
      <td>     Cavasso</td>
      <td> 0.388</td>
      <td>    Schatz</td>
    </tr>
    <tr>
      <th>2014-idaho-senate-risch-vs-mitchell</th>
      <td>     Risch</td>
      <td>    Mitchell</td>
      <td> 0.325</td>
      <td>     Risch</td>
    </tr>
    <tr>
      <th>2014-illinois-senate-oberweis-vs-durbin</th>
      <td>    Durbin</td>
      <td>    Oberweis</td>
      <td> 0.121</td>
      <td>    Durbin</td>
    </tr>
    <tr>
      <th>2014-iowa-senate-ernst-vs-braley</th>
      <td>     Ernst</td>
      <td>      Braley</td>
      <td>-0.011</td>
      <td>    Braley</td>
    </tr>
    <tr>
      <th>2014-kansas-senate-roberts-vs-orman-vs-taylor</th>
      <td>     Orman</td>
      <td>     Roberts</td>
      <td>-0.044</td>
      <td>   Roberts</td>
    </tr>
    <tr>
      <th>2014-kentucky-senate-mcconnell-vs-grimes</th>
      <td> McConnell</td>
      <td>      Grimes</td>
      <td> 0.024</td>
      <td> McConnell</td>
    </tr>
    <tr>
      <th>2014-louisiana-senate-cassidy-vs-landrieu</th>
      <td>   Cassidy</td>
      <td>    Landrieu</td>
      <td> 0.001</td>
      <td>   Cassidy</td>
    </tr>
    <tr>
      <th>2014-maine-senate-collins-vs-bellows</th>
      <td>   Collins</td>
      <td>     Bellows</td>
      <td> 0.342</td>
      <td>   Collins</td>
    </tr>
    <tr>
      <th>2014-massachusetts-senate-herr-vs-markey</th>
      <td>    Markey</td>
      <td>        Herr</td>
      <td>  0.24</td>
      <td>    Markey</td>
    </tr>
    <tr>
      <th>2014-michigan-senate-land-vs-peters</th>
      <td>    Peters</td>
      <td>        Land</td>
      <td> 0.036</td>
      <td>    Peters</td>
    </tr>
    <tr>
      <th>2014-minnesota-senate-mcfadden-vs-franken</th>
      <td>   Franken</td>
      <td>    McFadden</td>
      <td> 0.105</td>
      <td>   Franken</td>
    </tr>
    <tr>
      <th>2014-mississippi-senate-cochran-vs-childers</th>
      <td>   Cochran</td>
      <td>    Childers</td>
      <td> 0.146</td>
      <td>   Cochran</td>
    </tr>
    <tr>
      <th>2014-montana-senate-daines-vs-curtis</th>
      <td>    Daines</td>
      <td>      Curtis</td>
      <td> 0.197</td>
      <td>    Daines</td>
    </tr>
    <tr>
      <th>2014-nebraska-senate-sasse-vs-domina</th>
      <td>     Sasse</td>
      <td>      Domina</td>
      <td> 0.236</td>
      <td>     Sasse</td>
    </tr>
    <tr>
      <th>2014-new-hampshire-senate-bass-vs-shaheen</th>
      <td>   Shaheen</td>
      <td>        Bass</td>
      <td> 0.153</td>
      <td>   Shaheen</td>
    </tr>
    <tr>
      <th>2014-new-hampshire-senate-brown-vs-shaheen</th>
      <td>   Shaheen</td>
      <td>       Brown</td>
      <td>  0.07</td>
      <td>   Shaheen</td>
    </tr>
    <tr>
      <th>2014-new-jersey-senate-bell-vs-booker</th>
      <td>    Booker</td>
      <td>        Bell</td>
      <td> 0.131</td>
      <td>    Booker</td>
    </tr>
    <tr>
      <th>2014-new-mexico-senate-weh-vs-udall</th>
      <td>     Udall</td>
      <td>         Weh</td>
      <td> 0.161</td>
      <td>     Udall</td>
    </tr>
    <tr>
      <th>2014-north-carolina-senate-tillis-vs-hagan</th>
      <td>     Hagan</td>
      <td>      Tillis</td>
      <td> 0.034</td>
      <td>     Hagan</td>
    </tr>
    <tr>
      <th>2014-oklahoma-senate-inhofe-vs-silverstein</th>
      <td>    Inhofe</td>
      <td> Silverstein</td>
      <td> 0.322</td>
      <td>    Inhofe</td>
    </tr>
    <tr>
      <th>2014-oklahoma-senate-lankford-vs-johnson</th>
      <td>  Lankford</td>
      <td>     Johnson</td>
      <td> 0.315</td>
      <td>  Lankford</td>
    </tr>
    <tr>
      <th>2014-oregon-senate-wehby-vs-merkley</th>
      <td>   Merkley</td>
      <td>       Wehby</td>
      <td>  0.12</td>
      <td>   Merkley</td>
    </tr>
    <tr>
      <th>2014-rhode-island-senate-zaccaria-vs-reed</th>
      <td>      Reed</td>
      <td>    Zaccaria</td>
      <td> 0.323</td>
      <td>      Reed</td>
    </tr>
    <tr>
      <th>2014-south-carolina-senate-graham-vs-hutto</th>
      <td>    Graham</td>
      <td>       Hutto</td>
      <td>  0.15</td>
      <td>    Graham</td>
    </tr>
    <tr>
      <th>2014-south-carolina-senate-scott-vs-dickerson</th>
      <td>     Scott</td>
      <td>   Dickerson</td>
      <td>   0.2</td>
      <td>     Scott</td>
    </tr>
    <tr>
      <th>2014-south-dakota-senate-rounds-vs-weiland</th>
      <td>    Rounds</td>
      <td>     Weiland</td>
      <td> 0.134</td>
      <td>    Rounds</td>
    </tr>
    <tr>
      <th>2014-tennessee-senate-alexander-vs-ball</th>
      <td> Alexander</td>
      <td>        Ball</td>
      <td> 0.184</td>
      <td> Alexander</td>
    </tr>
    <tr>
      <th>2014-texas-senate-cornyn-vs-alameel</th>
      <td>    Cornyn</td>
      <td>     Alameel</td>
      <td> 0.173</td>
      <td>    Cornyn</td>
    </tr>
    <tr>
      <th>2014-virginia-senate-gillespie-vs-warner</th>
      <td>    Warner</td>
      <td>   Gillespie</td>
      <td>  0.17</td>
      <td>    Warner</td>
    </tr>
    <tr>
      <th>2014-west-virginia-senate-capito-vs-tennant</th>
      <td>    Capito</td>
      <td>     Tennant</td>
      <td> 0.135</td>
      <td>    Capito</td>
    </tr>
    <tr>
      <th>2014-wyoming-senate</th>
      <td>      Enzi</td>
      <td>       Hardy</td>
      <td>  0.46</td>
      <td>      Enzi</td>
    </tr>
  </tbody>
</table>
</div>
</div>

</div>

</div>
</div>

</div>
<div class="cell border-box-sizing text_cell rendered"><div class="prompt input_prompt">
</div>
<div class="inner_cell">
<div class="text_cell_render border-box-sizing rendered_html">
<h1 id="Submission-Instructions">Submission Instructions<a class="anchor-link" href="#Submission-Instructions">&#182;</a></h1><p>To submit your homework, create a folder named <strong>lastname_firstinitial_hw#</strong> and place your IPython notebooks, data files, and any other files in this folder. Your IPython Notebooks should be completely executed with the results visible in the notebook. We should not have to run any code.  Compress the folder (please use .zip compression) and submit to the CS109 dropbox in the appropriate folder. <em>If we cannot access your work because these directions are not followed correctly, we will not grade your work.</em></p>

</div>
</div>
</div>
<div class="cell border-box-sizing code_cell rendered">
<div class="input">
<div class="prompt input_prompt">In&nbsp;[120]:</div>
<div class="inner_cell">
    <div class="input_area">
<div class=" highlight hl-ipython3"><pre><span></span> 
</pre></div>

</div>
</div>
</div>

</div>
 


    </div>
  </div>

  </div>


  
    <footer class="footer hidden-print">
      <div class="container">
        <div class="col-md-4">
          <p>
            This website does not host notebooks, it only renders notebooks
            available on other websites.
          </p>
        </div>

        <div class="col-md-4">
          <p>
            Delivered by <a href="http://www.fastly.com/">Fastly</a>,
            Rendered by <a href="https://developer.rackspace.com/?nbviewer=awesome">Rackspace</a>
          </p>
          <p>
            nbviewer GitHub <a href="https://github.com/jupyter/nbviewer">repository</a>.
          </p>
        </div>

        <div class="col-md-4">
          
  
            
              <p>
                nbviewer version:
                <a href="https://github.com/jupyter/nbviewer/commit/5ac2643d687f4e78c5b8a4d50ead8255b2c65bb1">
                  5ac2643
                </a>
              </p>
            
          
  
  <p>
    nbconvert version: <a href="https://github.com/jupyter/nbconvert/releases/tag/5.2.1">
      5.2.1
    </a>
  </p>
  

          
  
  
  <p>
    Rendered
    <span class='date' data-date='Wed, 09 Aug 2017 09:01:33 UTC' title='Wed, 09 Aug 2017 09:01:33 UTC'>(Wed, 09 Aug 2017 09:01:33 UTC)</span>
  </p>
  

        </div>
      </div>
    </footer>
  

  <script src="https://unpkg.com/jupyter-js-widgets@2.0.*/dist/embed.js"></script>
  <script src="/static/components/bootstrap/js/bootstrap.min.js?v=5869c96cc8f19086aee625d670d741f9"></script>
  <script src="/static/components/headroom.js/dist/headroom.min.js?v=b0a311ea668f8e768ea375f4a7abb81c"></script>
  <script src="/static/components/headroom.js/dist/jQuery.headroom.min.js?v=f3a1bae118315d0c234afc74dc6aab71"></script>

  
  
  <script>
    $(function(){ $("#menubar").headroom({
      tolerance: 5,
      offset: 205,
      classes: {
        initial: "animated",
        pinned: "slideInDown",
        unpinned: "slideOutUp"
      }
    })});
  </script>


  
  <script>
    (function(i,s,o,g,r,a,m){i['GoogleAnalyticsObject']=r;i[r]=i[r]||function(){
      (i[r].q=i[r].q||[]).push(arguments)},i[r].l=1*new Date();a=s.createElement(o),
      m=s.getElementsByTagName(o)[0];a.async=1;a.src=g;m.parentNode.insertBefore(a,m)
    })(window,document,'script','https://www.google-analytics.com/analytics.js','ga');
    ga('create', 'UA-52617120-5', 'auto');
    ga('send', 'pageview');
  </script>
  
  <script>
    require({
        paths: {
          moment: "/static/components/moment/min/moment.min.js?v=89f87298ad94aa1e6b92f42eb66da043"
        }
      }, ["moment"], function(moment){
      var date = $("footer .date"),
        m = moment(new Date(date.data('date'))),
        update = function(){ date.text(m.fromNow()); };
      setInterval(update, 61*1000);
      update();
      var w = $(window).scroll(function(event){
        $("body").toggleClass("scrolled", w.scrollTop() > 0);
      });
    });
  </script>
  <!--NEW RELIC Stop Perf Measurement-->
  
  <!--NEW RELIC End-->
</body>
</html>