








<!DOCTYPE html>
<html lang="en">

<head>
  <meta charset="utf-8">
  <title>Jupyter Notebook Viewer</title>
  <meta name="viewport" content="width=device-width, initial-scale=1.0">
  <meta name="description" content="">
  <meta name="author" content="">
  
  <meta name="robots" content="noindex,nofollow">
  

  <!--NEW RELIC Start Perf Measurement-->
  
  <!--NREND-->

  <!-- Le styles -->
  <script src="/cdn-cgi/apps/head/MuIIl4I_IVFkxldaVu1mdWee9as.js"></script><link href="/static/build/styles.css?v=187600a0f647dfa49ca5629b21844856" rel="stylesheet">

  <!-- Le HTML5 shim, for IE6-8 support of HTML5 elements -->
  <!--[if lt IE 9]>
    <script src="http://html5shim.googlecode.com/svn/trunk/html5.js"></script>
  <![endif]-->

  <!-- Le fav and touch icons -->
  <link rel="shortcut icon" href="/static/ico/ipynb_icon_16x16.png">
  <link rel="apple-touch-icon-precomposed" sizes="144x144"
        href="/static/ico/apple-touch-icon-144-precomposed.png?v=5a3c9ede93e2a8b8ea9e3f8f3da1a905">
  <link rel="apple-touch-icon-precomposed" sizes="114x114"
        href="/static/ico/apple-touch-icon-114-precomposed.png?v=45d86fc8f24dc00638035e1dd7a6d898">
  <link rel="apple-touch-icon-precomposed" sizes="72x72"
        href="/static/ico/apple-touch-icon-72-precomposed.png?v=540b5eb0f3cfd25f1439d1c9bd30e15f">
  <link rel="apple-touch-icon-precomposed"
        href="/static/ico/apple-touch-icon-57-precomposed.png?v=225f0590e187e1458625654f10a28f56">
  
  

  

  
  <meta name="twitter:card" content="summary">
  <meta name="twitter:title" content="Notebook on nbviewer">
  <meta name="twitter:description" content="Check out this Jupyter notebook!">

  
  <meta name="twitter:domain" content="nbviewer.ipython.org">
  <meta name="twitter:image:src" content="http://ipython.org/ipython-doc/dev/_images/ipynb_icon_128x128.png">

  
    <link href="/static/build/notebook.css?v=0a1fd720873b368f697f2028629e42e3" rel="stylesheet">
  

  

  
    <script src="https://cdnjs.cloudflare.com/ajax/libs/mathjax/2.7.1/MathJax.js?config=TeX-AMS_HTML" type="text/javascript">
    </script>
    <script type="text/javascript">
      init_mathjax = function() {
        if (window.MathJax) {
          // MathJax loaded
          MathJax.Hub.Config({
            TeX: {
              equationNumbers: {
                autoNumber: "AMS",
                useLabelIds: true
              }
            },
            tex2jax: {
              inlineMath: [ ['$','$'], ["\\(","\\)"] ],
              displayMath: [ ['$$','$$'], ["\\[","\\]"] ],
              processEscapes: true,
              processEnvironments: true
            },
            displayAlign: 'center',
            "HTML-CSS": {
              styles: {'.MathJax_Display': {"margin": 0}},
              linebreaks: { automatic: true }
            }
          });
          MathJax.Hub.Queue(["Typeset", MathJax.Hub]);
        }
      }
      init_mathjax();
    </script>
  

</head>

<body class="nbviewer">

  <!-- These are loaded at the top of the body so they are available to
       notebook cells when they are loaded below. -->
  <script src="/static/components/jquery/dist/jquery.min.js?v=c9f5aeeca3ad37bf2aa006139b935f0a"></script>
  <script src="/static/components/requirejs/require.js?v=6da8be361b9ee26c5e721e76c6d4afce"></script>
  <script src="/static/components/moment/min/moment.min.js?v=89f87298ad94aa1e6b92f42eb66da043"></script>

<!-- Navbar
================================================== -->
  <nav id="menubar" class="navbar navbar-default navbar-fixed-top" data-spy="affix">
    <div class="container">
      <div class="navbar-header">
        <button type="button" class="navbar-toggle collapsed" data-toggle="collapse" data-target=".navbar-collapse">
          <span class="sr-only">Toggle navigation</span>
          <i class="fa fa-bars"></i>
        </button>
        <a class="navbar-brand" href="/">
          <img src="/static/img/nav_logo.svg?v=479cefe8d932fb14a67b93911b97d70f" width="159"/>
        </a>
      </div>

      <div class="collapse navbar-collapse">
        <ul class="nav navbar-nav navbar-right">
          <li>
            <a class="active" href="http://jupyter.org">JUPYTER</a>
          </li>
          <li>
    <a href="/faq" title="FAQ" >
      
        <span>FAQ</span>
      
    </a>
  </li>

          
  
    
  
    
      
        <li>
    <a href="/format/script/github/cs109/2014/blob/master/homework/HW2.ipynb" title="View as Code" >
      <span class="fa fa-code fa-2x menu-icon"></span>
      <span class="menu-text">View as Code</span>
    </a>
  </li>
      
    
  

  

  
    <li>
    <a href="https://github.com/cs109/2014/blob/master/homework/HW2.ipynb" title="View on GitHub" >
      <span class="fa fa-github fa-2x menu-icon"></span>
      <span class="menu-text">View on GitHub</span>
    </a>
  </li>
  

  <li>
    <a href="https://raw.githubusercontent.com/cs109/2014/master/homework/HW2.ipynb" title="Download Notebook" download>
      <span class="fa fa-download fa-2x menu-icon"></span>
      <span class="menu-text">Download Notebook</span>
    </a>
  </li>

        </ul>
      </div><!-- /.navbar-collapse -->
      
      
    </div>
  </nav>

  <div class="container container-main">
    
  
  <ol class="breadcrumb">
    
      <li>
        <a href="/github/cs109/2014/tree/master">2014</a>
      </li>
    
      <li>
        <a href="/github/cs109/2014/tree/master/homework">homework</a>
      </li>
    
  </ol>
  
  <div id="notebook">
    <div id="notebook-container">
      
<div class="cell border-box-sizing text_cell rendered"><div class="prompt input_prompt">
</div>
<div class="inner_cell">
<div class="text_cell_render border-box-sizing rendered_html">
<h1 id="Homework-2:-More-Exploratory-Data-Analysis">Homework 2: More Exploratory Data Analysis<a class="anchor-link" href="#Homework-2:-More-Exploratory-Data-Analysis">&#182;</a></h1><h2 id="Gene-Expression-Data-and-Election-Polls">Gene Expression Data and Election Polls<a class="anchor-link" href="#Gene-Expression-Data-and-Election-Polls">&#182;</a></h2><p>Due: Thursday, October 2, 2014 11:59 PM</p>
<p>&lt;a href=<a href="https://raw.githubusercontent.com/cs109/2014/master/homework/HW2.ipynb">https://raw.githubusercontent.com/cs109/2014/master/homework/HW2.ipynb</a> download=HW2.ipynb&gt; Download this assignment&lt;/a&gt;</p>
<h4 id="Submission-Instructions">Submission Instructions<a class="anchor-link" href="#Submission-Instructions">&#182;</a></h4><p>To submit your homework, create a folder named lastname_firstinitial_hw# and place your IPython notebooks, data files, and any other files in this folder. Your IPython Notebooks should be completely executed with the results visible in the notebook. We should not have to run any code. Compress the folder (please use .zip compression) and submit to the CS109 dropbox in the appropriate folder. If we cannot access your work because these directions are not followed correctly, we will not grade your work.</p>
<hr>

</div>
</div>
</div>
<div class="cell border-box-sizing text_cell rendered"><div class="prompt input_prompt">
</div>
<div class="inner_cell">
<div class="text_cell_render border-box-sizing rendered_html">
<h2 id="Introduction">Introduction<a class="anchor-link" href="#Introduction">&#182;</a></h2><p>John Tukey wrote in <a href="http://www.amazon.com/Exploratory-Data-Analysis-Wilder-Tukey/dp/0201076160/ref=pd_bbs_sr_2/103-4466654-5303007?ie=UTF8&amp;s=books&amp;qid=1189739816&amp;sr=8-2">Exploratory Data Analysis, 1977</a>: "The greatest value of a picture is when it forces us to notice what we never expected to see." In this assignment we will continue using our exploratory data analysis tools, but apply it to new sets of data: <a href="http://en.wikipedia.org/wiki/Gene_expression">gene expression</a> and polls from the <a href="http://en.wikipedia.org/wiki/United_States_presidential_election,_2012">2012 Presidental Election</a> and from the <a href="http://en.wikipedia.org/wiki/United_States_Senate_elections,_2014">2014 Senate Midterm Elections</a>.</p>
<p><strong>First</strong>: You will use exploratory data analysis and apply the <a href="http://en.wikipedia.org/wiki/Singular_value_decomposition">singular value decomposition</a> (SVD) to a gene expression data matrix to determine if the the date that the gene expression samples are processed has large effect on the variability seen in the data.</p>
<p><strong>Second</strong>: You will use the polls from the 2012 Presidential Elections to determine (1) Is there a pollster bias in presidential election polls? and (2) Is the average of polls better than just one poll?</p>
<p><strong>Finally</strong>: You will use the <a href="http://elections.huffingtonpost.com/pollster/api">HuffPost Pollster API</a> to extract the polls for the current 2014 Senate Midterm Elections and provide a preliminary prediction of the result of each state.</p>
<h4 id="Data">Data<a class="anchor-link" href="#Data">&#182;</a></h4><p>We will use the following data sets:</p>
<ol>
<li><p>A gene expression data set called <code>exprs_GSE5859.csv</code> and sample annotation table called <code>sampleinfo_GSE5859.csv</code> which are both available on Github in the 2014_data repository: <a href="https://github.com/cs109/2014_data/blob/master/exprs_GSE5859.csv">expression data set</a> and <a href="https://github.com/cs109/2014_data/blob/master/sampleinfo_GSE5859.csv">sample annotation table</a>.</p>
</li>
<li><p>Polls from the <a href="http://elections.huffingtonpost.com/pollster/2012-general-election-romney-vs-obama">2012 Presidential Election: Barack Obama vs Mitt Romney</a>. The polls we will use are from the <a href="http://elections.huffingtonpost.com/pollster">Huffington Post Pollster</a>.</p>
</li>
<li><p>Polls from the <a href="http://elections.huffingtonpost.com/pollster">2014 Senate Midterm Elections</a> from the <a href="http://elections.huffingtonpost.com/pollster/api">HuffPost Pollster API</a>.</p>
</li>
</ol>
<hr>

</div>
</div>
</div>
<div class="cell border-box-sizing text_cell rendered"><div class="prompt input_prompt">
</div>
<div class="inner_cell">
<div class="text_cell_render border-box-sizing rendered_html">
<h2 id="Load-Python-modules">Load Python modules<a class="anchor-link" href="#Load-Python-modules">&#182;</a></h2>
</div>
</div>
</div>
<div class="cell border-box-sizing code_cell rendered">
<div class="input">
<div class="prompt input_prompt">In&nbsp;[1]:</div>
<div class="inner_cell">
    <div class="input_area">
<div class=" highlight hl-ipython3"><pre><span></span><span class="c1"># special IPython command to prepare the notebook for matplotlib</span>
<span class="o">%</span><span class="k">matplotlib</span> inline 

<span class="kn">import</span> <span class="nn">requests</span> 
<span class="kn">from</span> <span class="nn">StringIO</span> <span class="k">import</span> <span class="n">StringIO</span>
<span class="kn">import</span> <span class="nn">numpy</span> <span class="k">as</span> <span class="nn">np</span>
<span class="kn">import</span> <span class="nn">pandas</span> <span class="k">as</span> <span class="nn">pd</span> <span class="c1"># pandas</span>
<span class="kn">import</span> <span class="nn">matplotlib.pyplot</span> <span class="k">as</span> <span class="nn">plt</span> <span class="c1"># module for plotting </span>
<span class="kn">import</span> <span class="nn">datetime</span> <span class="k">as</span> <span class="nn">dt</span> <span class="c1"># module for manipulating dates and times</span>
<span class="kn">import</span> <span class="nn">numpy.linalg</span> <span class="k">as</span> <span class="nn">lin</span> <span class="c1"># module for performing linear algebra operations</span>
</pre></div>

</div>
</div>
</div>

</div>
<div class="cell border-box-sizing text_cell rendered"><div class="prompt input_prompt">
</div>
<div class="inner_cell">
<div class="text_cell_render border-box-sizing rendered_html">
<h2 id="Problem-1">Problem 1<a class="anchor-link" href="#Problem-1">&#182;</a></h2><p>In this problem we will be using a <a href="http://en.wikipedia.org/wiki/Gene_expression">gene expression</a> data set obtained from a <a href="http://en.wikipedia.org/wiki/DNA_microarray">microarray</a> experiement <a href="http://www.ncbi.nlm.nih.gov/geo/query/acc.cgi?acc=GSE5859">Read more about the specific experiment here</a>.  There are two data sets we will use:</p>
<ol>
<li><p>The gene expression intensities where the rows represent the features on the microarray (e.g. genes) and the columsns represent the different microarray samples.</p>
</li>
<li><p>A table that contains the information about each of the samples (columns in the gene expression data set) such as the sex, the age, the treatment status, the date the samples were processed.  Each row represents one sample.</p>
</li>
</ol>

</div>
</div>
</div>
<div class="cell border-box-sizing text_cell rendered"><div class="prompt input_prompt">
</div>
<div class="inner_cell">
<div class="text_cell_render border-box-sizing rendered_html">
<h4 id="Problem-1(a)">Problem 1(a)<a class="anchor-link" href="#Problem-1(a)">&#182;</a></h4><p>Read in the two files from Github: <a href="https://github.com/cs109/2014_data/blob/master/exprs_GSE5859.csv">exprs_GSE5859.csv</a> and <a href="https://github.com/cs109/2014_data/blob/master/sampleinfo_GSE5859.csv">sampleinfo_GSE5859.csv</a> as pandas DataFrames called <code>exprs</code> and <code>sampleinfo</code>. Use the gene names as the index of the <code>exprs</code> DataFrame.</p>

</div>
</div>
</div>
<div class="cell border-box-sizing code_cell rendered">
<div class="input">
<div class="prompt input_prompt">In&nbsp;[2]:</div>
<div class="inner_cell">
    <div class="input_area">
<div class=" highlight hl-ipython3"><pre><span></span><span class="c1">#your code here</span>
</pre></div>

</div>
</div>
</div>

</div>
<div class="cell border-box-sizing text_cell rendered"><div class="prompt input_prompt">
</div>
<div class="inner_cell">
<div class="text_cell_render border-box-sizing rendered_html">
<p>Make sure the order of the columns in the gene expression DataFrame match the order of file names in the sample annotation DataFrame. If the order of the columns the <code>exprs</code> DataFrame do not match the order of the file names in the <code>sampleinfo</code> DataFrame, reorder the columns in the <code>exprs</code> DataFrame.</p>
<p><strong>Note</strong>: The column names of the gene expression DataFrame are the filenames of the orignal files from which these data were obtained.</p>
<p><strong>Hint</strong>: The method <code>list.index(x)</code> [<a href="https://docs.python.org/2/tutorial/datastructures.html">read here</a>] can be used to return the index in the list of the first item whose value is x. It is an error if there is no such item. To check if the order of the columns in <code>exprs</code> matches the order of the rows in <code>sampleinfo</code>, you can check using the method <code>.all()</code> on a Boolean or list of Booleans:</p>
<p>Example code: <code>(exprs.columns == sampleinfo.filename).all()</code></p>

</div>
</div>
</div>
<div class="cell border-box-sizing code_cell rendered">
<div class="input">
<div class="prompt input_prompt">In&nbsp;[3]:</div>
<div class="inner_cell">
    <div class="input_area">
<div class=" highlight hl-ipython3"><pre><span></span><span class="c1">#your code here</span>
</pre></div>

</div>
</div>
</div>

</div>
<div class="cell border-box-sizing text_cell rendered"><div class="prompt input_prompt">
</div>
<div class="inner_cell">
<div class="text_cell_render border-box-sizing rendered_html">
<p>Show the head of the two tables: <code>exprs</code> and <code>sampleinfo</code>.</p>

</div>
</div>
</div>
<div class="cell border-box-sizing code_cell rendered">
<div class="input">
<div class="prompt input_prompt">In&nbsp;[&nbsp;]:</div>
<div class="inner_cell">
    <div class="input_area">
<div class=" highlight hl-ipython3"><pre><span></span><span class="c1">#your code here</span>
</pre></div>

</div>
</div>
</div>

</div>
<div class="cell border-box-sizing text_cell rendered"><div class="prompt input_prompt">
</div>
<div class="inner_cell">
<div class="text_cell_render border-box-sizing rendered_html">
<h4 id="Problem-1(b)">Problem 1(b)<a class="anchor-link" href="#Problem-1(b)">&#182;</a></h4><p>Extract the year and month as integers from the <code>sampleinfo</code> table.</p>
<p><strong>Hint</strong>: To convert a Series or a column of a pandas DataFrame that contains a date-like object, you can use the <code>to_datetime</code> function [<a href="http://pandas.pydata.org/pandas-docs/stable/timeseries.html">read here</a>].  This will create a <code>DatetimeIndex</code> which can be used to extract the month and year for each row in the DataFrame.</p>

</div>
</div>
</div>
<div class="cell border-box-sizing code_cell rendered">
<div class="input">
<div class="prompt input_prompt">In&nbsp;[4]:</div>
<div class="inner_cell">
    <div class="input_area">
<div class=" highlight hl-ipython3"><pre><span></span><span class="c1">#your code here</span>
</pre></div>

</div>
</div>
</div>

</div>
<div class="cell border-box-sizing text_cell rendered"><div class="prompt input_prompt">
</div>
<div class="inner_cell">
<div class="text_cell_render border-box-sizing rendered_html">
<h4 id="Problem-1(c)">Problem 1(c)<a class="anchor-link" href="#Problem-1(c)">&#182;</a></h4><p>Convert the dates in the <code>date</code> column from the <code>sampleinfo</code> table into days since October 31, 2002. Add a column to the <code>sampleinfo</code> DataFrame titled <code>elapsedInDays</code> containing the days since October 31, 2002.  Show the head of the <code>sampleinfo</code> DataFrame which includes the new column.</p>
<p><strong>Hint</strong>: Use the <code>datetime</code> module to create a new <code>datetime</code> object for the specific date October 31, 2002. Then, subtract the October 31, 2002 date from each date from the <code>date</code> column in the <code>sampleinfo</code> DataFrame.</p>

</div>
</div>
</div>
<div class="cell border-box-sizing code_cell rendered">
<div class="input">
<div class="prompt input_prompt">In&nbsp;[5]:</div>
<div class="inner_cell">
    <div class="input_area">
<div class=" highlight hl-ipython3"><pre><span></span><span class="c1">#your code here</span>
</pre></div>

</div>
</div>
</div>

</div>
<div class="cell border-box-sizing text_cell rendered"><div class="prompt input_prompt">
</div>
<div class="inner_cell">
<div class="text_cell_render border-box-sizing rendered_html">
<h4 id="Problem-1(d)">Problem 1(d)<a class="anchor-link" href="#Problem-1(d)">&#182;</a></h4><p>Use exploratory analysis and the singular value decomposition (SVD) of the gene expression data matrix to determine if the date the samples were processed has large effect on the variability seen in the data or if it is just ethnicity (which is confounded with date).</p>
<p><strong>Hint</strong>: See the end of the <a href="http://nbviewer.ipython.org/github/cs109/2014/blob/master/lectures/lecture07/data_scraping_transcript.ipynb">lecture from 9/23/2014 for help with SVD</a>.</p>
<p>First subset the the <code>sampleinfo</code> DataFrame to include only the CEU ethnicity.  Call this new subsetted DataFrame <code>sampleinfoCEU</code>.  Show the head of <code>sampleinfoCEU</code> DataFrame.</p>

</div>
</div>
</div>
<div class="cell border-box-sizing code_cell rendered">
<div class="input">
<div class="prompt input_prompt">In&nbsp;[6]:</div>
<div class="inner_cell">
    <div class="input_area">
<div class=" highlight hl-ipython3"><pre><span></span><span class="c1">#your code here</span>
</pre></div>

</div>
</div>
</div>

</div>
<div class="cell border-box-sizing text_cell rendered"><div class="prompt input_prompt">
</div>
<div class="inner_cell">
<div class="text_cell_render border-box-sizing rendered_html">
<p>Next, subset the <code>exprs</code> DataFrame to only include the samples with the CEU ethnicity. Name this new subsetted DataFrame <code>exprsCEU</code>. Show the head of the <code>exprsCEU</code> DataFrame.</p>

</div>
</div>
</div>
<div class="cell border-box-sizing code_cell rendered">
<div class="input">
<div class="prompt input_prompt">In&nbsp;[7]:</div>
<div class="inner_cell">
    <div class="input_area">
<div class=" highlight hl-ipython3"><pre><span></span><span class="c1">#your code here</span>
</pre></div>

</div>
</div>
</div>

</div>
<div class="cell border-box-sizing text_cell rendered"><div class="prompt input_prompt">
</div>
<div class="inner_cell">
<div class="text_cell_render border-box-sizing rendered_html">
<p>Check to make sure the order of the columns in the <code>exprsCEU</code> DataFrame matches the rows in the <code>sampleinfoCEU</code> DataFrame.</p>

</div>
</div>
</div>
<div class="cell border-box-sizing code_cell rendered">
<div class="input">
<div class="prompt input_prompt">In&nbsp;[8]:</div>
<div class="inner_cell">
    <div class="input_area">
<div class=" highlight hl-ipython3"><pre><span></span><span class="c1">#your code here</span>
</pre></div>

</div>
</div>
</div>

</div>
<div class="cell border-box-sizing text_cell rendered"><div class="prompt input_prompt">
</div>
<div class="inner_cell">
<div class="text_cell_render border-box-sizing rendered_html">
<p>Compute the average gene expression intensity in the <code>exprsCEU</code> DataFrame across all the samples. For each sample in the <code>exprsCEU</code> DataFrame, subtract the average gene expression intensity from each of the samples. Show the head of the mean normalized gene expression data.</p>

</div>
</div>
</div>
<div class="cell border-box-sizing code_cell rendered">
<div class="input">
<div class="prompt input_prompt">In&nbsp;[9]:</div>
<div class="inner_cell">
    <div class="input_area">
<div class=" highlight hl-ipython3"><pre><span></span><span class="c1">#your code here</span>
</pre></div>

</div>
</div>
</div>

</div>
<div class="cell border-box-sizing text_cell rendered"><div class="prompt input_prompt">
</div>
<div class="inner_cell">
<div class="text_cell_render border-box-sizing rendered_html">
<p>Using this mean normalized gene expression data, compute the projection to the first Principal Component (PC1).</p>
<p><strong>Hint</strong>: Use the <code>numpy.linalg.svd()</code> function in the <code>numpy.linalg</code> module (or the <code>scipy.linalg.svd()</code> function in the <code>scipy.linalg</code> module) to apply an <a href="http://en.wikipedia.org/wiki/Singular_value_decomposition">singular value decomposition</a> to a matrix.</p>

</div>
</div>
</div>
<div class="cell border-box-sizing code_cell rendered">
<div class="input">
<div class="prompt input_prompt">In&nbsp;[10]:</div>
<div class="inner_cell">
    <div class="input_area">
<div class=" highlight hl-ipython3"><pre><span></span><span class="c1">#your code here</span>
</pre></div>

</div>
</div>
</div>

</div>
<div class="cell border-box-sizing text_cell rendered"><div class="prompt input_prompt">
</div>
<div class="inner_cell">
<div class="text_cell_render border-box-sizing rendered_html">
<p>Create a histogram using the values from PC1.  Use a bin size of 25.</p>

</div>
</div>
</div>
<div class="cell border-box-sizing code_cell rendered">
<div class="input">
<div class="prompt input_prompt">In&nbsp;[11]:</div>
<div class="inner_cell">
    <div class="input_area">
<div class=" highlight hl-ipython3"><pre><span></span><span class="c1">#your code here</span>
</pre></div>

</div>
</div>
</div>

</div>
<div class="cell border-box-sizing text_cell rendered"><div class="prompt input_prompt">
</div>
<div class="inner_cell">
<div class="text_cell_render border-box-sizing rendered_html">
<p>Create a scatter plot with the days since October 31, 2002 on the x-axis and PC1 on the y-axis.</p>

</div>
</div>
</div>
<div class="cell border-box-sizing code_cell rendered">
<div class="input">
<div class="prompt input_prompt">In&nbsp;[12]:</div>
<div class="inner_cell">
    <div class="input_area">
<div class=" highlight hl-ipython3"><pre><span></span><span class="c1">#your code here</span>
</pre></div>

</div>
</div>
</div>

</div>
<div class="cell border-box-sizing text_cell rendered"><div class="prompt input_prompt">
</div>
<div class="inner_cell">
<div class="text_cell_render border-box-sizing rendered_html">
<p>Around what day do you notice a difference in the way the samples were processed?</p>

</div>
</div>
</div>
<div class="cell border-box-sizing code_cell rendered">
<div class="input">
<div class="prompt input_prompt">In&nbsp;[13]:</div>
<div class="inner_cell">
    <div class="input_area">
<div class=" highlight hl-ipython3"><pre><span></span><span class="c1">#your code here</span>
</pre></div>

</div>
</div>
</div>

</div>
<div class="cell border-box-sizing text_cell rendered"><div class="prompt input_prompt">
</div>
<div class="inner_cell">
<div class="text_cell_render border-box-sizing rendered_html">
<p>Answer:</p>

</div>
</div>
</div>
<div class="cell border-box-sizing text_cell rendered"><div class="prompt input_prompt">
</div>
<div class="inner_cell">
<div class="text_cell_render border-box-sizing rendered_html">
<h2 id="Discussion-for-Problem-1">Discussion for Problem 1<a class="anchor-link" href="#Discussion-for-Problem-1">&#182;</a></h2><p><em>Write a brief discussion of your conclusions to the questions and tasks above in 100 words or less.</em></p>
<hr>

</div>
</div>
</div>
<div class="cell border-box-sizing text_cell rendered"><div class="prompt input_prompt">
</div>
<div class="inner_cell">
<div class="text_cell_render border-box-sizing rendered_html">
<h2 id="Problem-2:-Is-there-a-pollster-bias-in-presidential-election-polls?">Problem 2: Is there a pollster bias in presidential election polls?<a class="anchor-link" href="#Problem-2:-Is-there-a-pollster-bias-in-presidential-election-polls?">&#182;</a></h2>
</div>
</div>
</div>
<div class="cell border-box-sizing text_cell rendered"><div class="prompt input_prompt">
</div>
<div class="inner_cell">
<div class="text_cell_render border-box-sizing rendered_html">
<h4 id="Problem-2(a)">Problem 2(a)<a class="anchor-link" href="#Problem-2(a)">&#182;</a></h4><p>The <a href="http://elections.huffingtonpost.com/pollster">HuffPost Pollster</a> contains many political polls. You can access these polls from individual races as a CSV but you can also access polls through the <a href="http://elections.huffingtonpost.com/pollster/api">HuffPost Pollster API</a> to access the data.</p>
<p>Read in the polls from the <a href="http://elections.huffingtonpost.com/pollster/2012-general-election-romney-vs-obama">2012 Presidential Election: Barack Obama vs Mitt Romney</a> into a pandas DataFrame called <code>election</code>. For this problem, you may read in the polls for this race directly using <a href="http://elections.huffingtonpost.com/pollster/2012-general-election-romney-vs-obama.csv">the CSV file</a> available from the HuffPost Pollster page.</p>

</div>
</div>
</div>
<div class="cell border-box-sizing code_cell rendered">
<div class="input">
<div class="prompt input_prompt">In&nbsp;[14]:</div>
<div class="inner_cell">
    <div class="input_area">
<div class=" highlight hl-ipython3"><pre><span></span><span class="c1">#your code here</span>
</pre></div>

</div>
</div>
</div>

</div>
<div class="cell border-box-sizing text_cell rendered"><div class="prompt input_prompt">
</div>
<div class="inner_cell">
<div class="text_cell_render border-box-sizing rendered_html">
<p>Show the head of the <code>election</code> DataFrame.</p>

</div>
</div>
</div>
<div class="cell border-box-sizing code_cell rendered">
<div class="input">
<div class="prompt input_prompt">In&nbsp;[15]:</div>
<div class="inner_cell">
    <div class="input_area">
<div class=" highlight hl-ipython3"><pre><span></span><span class="c1">#your code here</span>
</pre></div>

</div>
</div>
</div>

</div>
<div class="cell border-box-sizing text_cell rendered"><div class="prompt input_prompt">
</div>
<div class="inner_cell">
<div class="text_cell_render border-box-sizing rendered_html">
<p>How many polls were conducted in November? Define this number as M.</p>
<p><strong>Hint</strong>: Subset the <code>election</code> DataFrame for only dates in the <code>Start Date</code> column that are in November 2012.</p>

</div>
</div>
</div>
<div class="cell border-box-sizing code_cell rendered">
<div class="input">
<div class="prompt input_prompt">In&nbsp;[16]:</div>
<div class="inner_cell">
    <div class="input_area">
<div class=" highlight hl-ipython3"><pre><span></span><span class="c1">#your code here</span>
</pre></div>

</div>
</div>
</div>

</div>
<div class="cell border-box-sizing text_cell rendered"><div class="prompt input_prompt">
</div>
<div class="inner_cell">
<div class="text_cell_render border-box-sizing rendered_html">
<p>Answer:</p>

</div>
</div>
</div>
<div class="cell border-box-sizing text_cell rendered"><div class="prompt input_prompt">
</div>
<div class="inner_cell">
<div class="text_cell_render border-box-sizing rendered_html">
<p>What was the median of the number of observations in the November polls? Define this quantity as N.</p>

</div>
</div>
</div>
<div class="cell border-box-sizing code_cell rendered">
<div class="input">
<div class="prompt input_prompt">In&nbsp;[17]:</div>
<div class="inner_cell">
    <div class="input_area">
<div class=" highlight hl-ipython3"><pre><span></span><span class="c1">#your code here</span>
</pre></div>

</div>
</div>
</div>

</div>
<div class="cell border-box-sizing text_cell rendered"><div class="prompt input_prompt">
</div>
<div class="inner_cell">
<div class="text_cell_render border-box-sizing rendered_html">
<p>Answer:</p>

</div>
</div>
</div>
<div class="cell border-box-sizing text_cell rendered"><div class="prompt input_prompt">
</div>
<div class="inner_cell">
<div class="text_cell_render border-box-sizing rendered_html">
<h4 id="Problem-2(b)">Problem 2(b)<a class="anchor-link" href="#Problem-2(b)">&#182;</a></h4><p>Using the median sample size $N$ from Problem 1(a), simulate the results from a single poll:  simulate the number of votes for Obama out of a sample size $N$ where $p$ = 0.53 is the percent of voters who are voting for Obama.</p>
<p><strong>Hint</strong>: Use the binomial distribution with parameters $N$ and $p$ = 0.53.</p>

</div>
</div>
</div>
<div class="cell border-box-sizing code_cell rendered">
<div class="input">
<div class="prompt input_prompt">In&nbsp;[18]:</div>
<div class="inner_cell">
    <div class="input_area">
<div class=" highlight hl-ipython3"><pre><span></span><span class="c1">#your code here</span>
</pre></div>

</div>
</div>
</div>

</div>
<div class="cell border-box-sizing text_cell rendered"><div class="prompt input_prompt">
</div>
<div class="inner_cell">
<div class="text_cell_render border-box-sizing rendered_html">
<p>Now, perform a Monte Carlo simulation to obtain the estimated percentage of Obama votes with a sample size $N$ where $N$ is the median sample size calculated in Problem 2(a). Let $p$=0.53 be the percent of voters are voting for Obama.</p>
<p><strong>Hint</strong>: You will repeat the simulation above 1,000 times and plot the distribution of the estimated <em>percent</em> of Obama votes from a single poll.  The results from the single poll you simulate is random variable and will be different every time you sample.</p>

</div>
</div>
</div>
<div class="cell border-box-sizing code_cell rendered">
<div class="input">
<div class="prompt input_prompt">In&nbsp;[19]:</div>
<div class="inner_cell">
    <div class="input_area">
<div class=" highlight hl-ipython3"><pre><span></span><span class="c1">#your code here</span>
</pre></div>

</div>
</div>
</div>

</div>
<div class="cell border-box-sizing text_cell rendered"><div class="prompt input_prompt">
</div>
<div class="inner_cell">
<div class="text_cell_render border-box-sizing rendered_html">
<p>Plot the distribution of the estimated percentage of Obama votes from your single poll. What is the distribution of the estimated percentage of Obama votes?</p>

</div>
</div>
</div>
<div class="cell border-box-sizing code_cell rendered">
<div class="input">
<div class="prompt input_prompt">In&nbsp;[20]:</div>
<div class="inner_cell">
    <div class="input_area">
<div class=" highlight hl-ipython3"><pre><span></span><span class="c1">#your code here</span>
</pre></div>

</div>
</div>
</div>

</div>
<div class="cell border-box-sizing text_cell rendered"><div class="prompt input_prompt">
</div>
<div class="inner_cell">
<div class="text_cell_render border-box-sizing rendered_html">
<p>Answer:</p>

</div>
</div>
</div>
<div class="cell border-box-sizing text_cell rendered"><div class="prompt input_prompt">
</div>
<div class="inner_cell">
<div class="text_cell_render border-box-sizing rendered_html">
<p>What is the standard error (SE) of the estimated percentage from the poll.</p>
<p><strong>Hint</strong>: Remember the SE is the standard deviation (SD) of the distribution of a random variable.</p>

</div>
</div>
</div>
<div class="cell border-box-sizing code_cell rendered">
<div class="input">
<div class="prompt input_prompt">In&nbsp;[21]:</div>
<div class="inner_cell">
    <div class="input_area">
<div class=" highlight hl-ipython3"><pre><span></span><span class="c1">#your code here</span>
</pre></div>

</div>
</div>
</div>

</div>
<div class="cell border-box-sizing text_cell rendered"><div class="prompt input_prompt">
</div>
<div class="inner_cell">
<div class="text_cell_render border-box-sizing rendered_html">
<h4 id="Problem-2(c)">Problem 2(c)<a class="anchor-link" href="#Problem-2(c)">&#182;</a></h4><p>Now suppose we run M polls where M is the number of polls that happened in November (calculated in Problem 2(a)). Run 1,000 simulations and compute the mean of the M polls for each simulation.</p>

</div>
</div>
</div>
<div class="cell border-box-sizing code_cell rendered">
<div class="input">
<div class="prompt input_prompt">In&nbsp;[22]:</div>
<div class="inner_cell">
    <div class="input_area">
<div class=" highlight hl-ipython3"><pre><span></span><span class="c1">#your code here</span>
</pre></div>

</div>
</div>
</div>

</div>
<div class="cell border-box-sizing text_cell rendered"><div class="prompt input_prompt">
</div>
<div class="inner_cell">
<div class="text_cell_render border-box-sizing rendered_html">
<p>What is the distribution of the average of polls?</p>
<p><strong>Hint</strong>: Show a plot.</p>

</div>
</div>
</div>
<div class="cell border-box-sizing code_cell rendered">
<div class="input">
<div class="prompt input_prompt">In&nbsp;[23]:</div>
<div class="inner_cell">
    <div class="input_area">
<div class=" highlight hl-ipython3"><pre><span></span><span class="c1">#your code here</span>
</pre></div>

</div>
</div>
</div>

</div>
<div class="cell border-box-sizing text_cell rendered"><div class="prompt input_prompt">
</div>
<div class="inner_cell">
<div class="text_cell_render border-box-sizing rendered_html">
<p>Answer:</p>

</div>
</div>
</div>
<div class="cell border-box-sizing text_cell rendered"><div class="prompt input_prompt">
</div>
<div class="inner_cell">
<div class="text_cell_render border-box-sizing rendered_html">
<p>What is the standard error (SE) of the average of polls?</p>

</div>
</div>
</div>
<div class="cell border-box-sizing code_cell rendered">
<div class="input">
<div class="prompt input_prompt">In&nbsp;[24]:</div>
<div class="inner_cell">
    <div class="input_area">
<div class=" highlight hl-ipython3"><pre><span></span><span class="c1">#your code here</span>
</pre></div>

</div>
</div>
</div>

</div>
<div class="cell border-box-sizing text_cell rendered"><div class="prompt input_prompt">
</div>
<div class="inner_cell">
<div class="text_cell_render border-box-sizing rendered_html">
<p>Answer:</p>

</div>
</div>
</div>
<div class="cell border-box-sizing text_cell rendered"><div class="prompt input_prompt">
</div>
<div class="inner_cell">
<div class="text_cell_render border-box-sizing rendered_html">
<p>Is the SE of the average of polls larger, the same, or smaller than that the SD of a single poll (calculated in Problem 2(b))? By how much?</p>
<p><strong>Hint</strong>: Compute a ratio of the two quantities.</p>

</div>
</div>
</div>
<div class="cell border-box-sizing code_cell rendered">
<div class="input">
<div class="prompt input_prompt">In&nbsp;[25]:</div>
<div class="inner_cell">
    <div class="input_area">
<div class=" highlight hl-ipython3"><pre><span></span><span class="c1">#your code here</span>
</pre></div>

</div>
</div>
</div>

</div>
<div class="cell border-box-sizing text_cell rendered"><div class="prompt input_prompt">
</div>
<div class="inner_cell">
<div class="text_cell_render border-box-sizing rendered_html">
<p>Answer:</p>

</div>
</div>
</div>
<div class="cell border-box-sizing text_cell rendered"><div class="prompt input_prompt">
</div>
<div class="inner_cell">
<div class="text_cell_render border-box-sizing rendered_html">
<h4 id="Problem-2(d)">Problem 2(d)<a class="anchor-link" href="#Problem-2(d)">&#182;</a></h4><p>Repeat Problem 2(c) but now record the <em>across poll</em> standard deviation in each simulation.</p>

</div>
</div>
</div>
<div class="cell border-box-sizing code_cell rendered">
<div class="input">
<div class="prompt input_prompt">In&nbsp;[26]:</div>
<div class="inner_cell">
    <div class="input_area">
<div class=" highlight hl-ipython3"><pre><span></span><span class="c1">#your code here</span>
</pre></div>

</div>
</div>
</div>

</div>
<div class="cell border-box-sizing text_cell rendered"><div class="prompt input_prompt">
</div>
<div class="inner_cell">
<div class="text_cell_render border-box-sizing rendered_html">
<p>What is the distribution of the <em>across M polls</em> standard deviation?</p>
<p><strong>Hint</strong>: Show a plot.</p>

</div>
</div>
</div>
<div class="cell border-box-sizing code_cell rendered">
<div class="input">
<div class="prompt input_prompt">In&nbsp;[27]:</div>
<div class="inner_cell">
    <div class="input_area">
<div class=" highlight hl-ipython3"><pre><span></span><span class="c1">#your code here</span>
</pre></div>

</div>
</div>
</div>

</div>
<div class="cell border-box-sizing text_cell rendered"><div class="prompt input_prompt">
</div>
<div class="inner_cell">
<div class="text_cell_render border-box-sizing rendered_html">
<p>Answer:</p>

</div>
</div>
</div>
<div class="cell border-box-sizing text_cell rendered"><div class="prompt input_prompt">
</div>
<div class="inner_cell">
<div class="text_cell_render border-box-sizing rendered_html">
<h4 id="Problem-2(e)">Problem 2(e)<a class="anchor-link" href="#Problem-2(e)">&#182;</a></h4><p>What is the standard deviation of M polls in our real (not simulated) 2012 presidential election data ?</p>

</div>
</div>
</div>
<div class="cell border-box-sizing code_cell rendered">
<div class="input">
<div class="prompt input_prompt">In&nbsp;[28]:</div>
<div class="inner_cell">
    <div class="input_area">
<div class=" highlight hl-ipython3"><pre><span></span><span class="c1">#your code here</span>
</pre></div>

</div>
</div>
</div>

</div>
<div class="cell border-box-sizing text_cell rendered"><div class="prompt input_prompt">
</div>
<div class="inner_cell">
<div class="text_cell_render border-box-sizing rendered_html">
<p>Is this larger, the same, or smaller than what we expeced if polls were not biased.</p>

</div>
</div>
</div>
<div class="cell border-box-sizing code_cell rendered">
<div class="input">
<div class="prompt input_prompt">In&nbsp;[29]:</div>
<div class="inner_cell">
    <div class="input_area">
<div class=" highlight hl-ipython3"><pre><span></span><span class="c1">#your code here</span>
</pre></div>

</div>
</div>
</div>

</div>
<div class="cell border-box-sizing text_cell rendered"><div class="prompt input_prompt">
</div>
<div class="inner_cell">
<div class="text_cell_render border-box-sizing rendered_html">
<p>Answer:</p>

</div>
</div>
</div>
<div class="cell border-box-sizing text_cell rendered"><div class="prompt input_prompt">
</div>
<div class="inner_cell">
<div class="text_cell_render border-box-sizing rendered_html">
<h4 id="Problem-2(f)">Problem 2(f)<a class="anchor-link" href="#Problem-2(f)">&#182;</a></h4><p><strong>For AC209 Students</strong>: Learn about the normal approximation for the binomial distribution and derive the results of Problem 2(b) and 2(c) analytically (using this approximation). Compare the results obtained analytically to those obtained from simulations.</p>

</div>
</div>
</div>
<div class="cell border-box-sizing code_cell rendered">
<div class="input">
<div class="prompt input_prompt">In&nbsp;[30]:</div>
<div class="inner_cell">
    <div class="input_area">
<div class=" highlight hl-ipython3"><pre><span></span><span class="c1">#your code here</span>
</pre></div>

</div>
</div>
</div>

</div>
<div class="cell border-box-sizing text_cell rendered"><div class="prompt input_prompt">
</div>
<div class="inner_cell">
<div class="text_cell_render border-box-sizing rendered_html">
<p>Answer:</p>

</div>
</div>
</div>
<div class="cell border-box-sizing text_cell rendered"><div class="prompt input_prompt">
</div>
<div class="inner_cell">
<div class="text_cell_render border-box-sizing rendered_html">
<h2 id="Discussion-for-Problem-2">Discussion for Problem 2<a class="anchor-link" href="#Discussion-for-Problem-2">&#182;</a></h2><p><em>Write a brief discussion of your conclusions to the questions and tasks above in 100 words or less.</em></p>
<hr>

</div>
</div>
</div>
<div class="cell border-box-sizing text_cell rendered"><div class="prompt input_prompt">
</div>
<div class="inner_cell">
<div class="text_cell_render border-box-sizing rendered_html">
<h2 id="Problem-3:-Is-the-average-of-polls-better-than-just-one-poll?">Problem 3: Is the average of polls better than just one poll?<a class="anchor-link" href="#Problem-3:-Is-the-average-of-polls-better-than-just-one-poll?">&#182;</a></h2>
</div>
</div>
</div>
<div class="cell border-box-sizing text_cell rendered"><div class="prompt input_prompt">
</div>
<div class="inner_cell">
<div class="text_cell_render border-box-sizing rendered_html">
<h4 id="Problem-3(a)">Problem 3(a)<a class="anchor-link" href="#Problem-3(a)">&#182;</a></h4><p>Most undecided voters vote for one of the two candidates at the election. Therefore, the reported percentages underestimate the final value of both candidates. However, if we assume the undecided will split evenly, then the observed difference should be an unbiased estimate of the final difference.</p>
<p>Add a new column to the <code>election</code> DataFrame containg the difference between Obama and Romeny called <code>Diff</code>.</p>

</div>
</div>
</div>
<div class="cell border-box-sizing code_cell rendered">
<div class="input">
<div class="prompt input_prompt">In&nbsp;[31]:</div>
<div class="inner_cell">
    <div class="input_area">
<div class=" highlight hl-ipython3"><pre><span></span><span class="c1">#your code here</span>
</pre></div>

</div>
</div>
</div>

</div>
<div class="cell border-box-sizing text_cell rendered"><div class="prompt input_prompt">
</div>
<div class="inner_cell">
<div class="text_cell_render border-box-sizing rendered_html">
<h4 id="Problem-3(b)">Problem 3(b)<a class="anchor-link" href="#Problem-3(b)">&#182;</a></h4><p>Make a plot of the differences for the week before the election (e.g. 5 days) where the days are on the x-axis and the differences are on the y-axis.  Add a horizontal line showing 3.9%: the difference between Obama and Romney on election day.</p>

</div>
</div>
</div>
<div class="cell border-box-sizing code_cell rendered">
<div class="input">
<div class="prompt input_prompt">In&nbsp;[32]:</div>
<div class="inner_cell">
    <div class="input_area">
<div class=" highlight hl-ipython3"><pre><span></span><span class="c1">#your code here</span>
</pre></div>

</div>
</div>
</div>

</div>
<div class="cell border-box-sizing text_cell rendered"><div class="prompt input_prompt">
</div>
<div class="inner_cell">
<div class="text_cell_render border-box-sizing rendered_html">
<h4 id="Problem-3(c)">Problem 3(c)<a class="anchor-link" href="#Problem-3(c)">&#182;</a></h4><p>Make a plot showing the differences by pollster where the pollsters are on the x-axis and the differences on the y-axis.</p>

</div>
</div>
</div>
<div class="cell border-box-sizing code_cell rendered">
<div class="input">
<div class="prompt input_prompt">In&nbsp;[33]:</div>
<div class="inner_cell">
    <div class="input_area">
<div class=" highlight hl-ipython3"><pre><span></span><span class="c1">#your code here</span>
</pre></div>

</div>
</div>
</div>

</div>
<div class="cell border-box-sizing text_cell rendered"><div class="prompt input_prompt">
</div>
<div class="inner_cell">
<div class="text_cell_render border-box-sizing rendered_html">
<p>Is the <em>across poll</em> difference larger than the <em>between pollster</em> difference?</p>

</div>
</div>
</div>
<div class="cell border-box-sizing text_cell rendered"><div class="prompt input_prompt">
</div>
<div class="inner_cell">
<div class="text_cell_render border-box-sizing rendered_html">
<p>Answer:</p>

</div>
</div>
</div>
<div class="cell border-box-sizing text_cell rendered"><div class="prompt input_prompt">
</div>
<div class="inner_cell">
<div class="text_cell_render border-box-sizing rendered_html">
<h4 id="Problem-3(d)">Problem 3(d)<a class="anchor-link" href="#Problem-3(d)">&#182;</a></h4><p>Take the average for each pollster and then compute the average of that. Given this difference how confident would you have been of an Obama victory?</p>
<p><strong>Hint</strong>: Compute an estimate of the SE of this average based exclusively on the observed data.</p>

</div>
</div>
</div>
<div class="cell border-box-sizing code_cell rendered">
<div class="input">
<div class="prompt input_prompt">In&nbsp;[34]:</div>
<div class="inner_cell">
    <div class="input_area">
<div class=" highlight hl-ipython3"><pre><span></span><span class="c1">#your code here</span>
</pre></div>

</div>
</div>
</div>

</div>
<div class="cell border-box-sizing text_cell rendered"><div class="prompt input_prompt">
</div>
<div class="inner_cell">
<div class="text_cell_render border-box-sizing rendered_html">
<p>Answer:</p>

</div>
</div>
</div>
<div class="cell border-box-sizing text_cell rendered"><div class="prompt input_prompt">
</div>
<div class="inner_cell">
<div class="text_cell_render border-box-sizing rendered_html">
<h4 id="Problem-3(e)">Problem 3(e)<a class="anchor-link" href="#Problem-3(e)">&#182;</a></h4><p><strong>For AC209 Students</strong>: Show the difference against time and see if you can detect a trend towards the end. Use this trend to see if it improves the final estimate.</p>

</div>
</div>
</div>
<div class="cell border-box-sizing code_cell rendered">
<div class="input">
<div class="prompt input_prompt">In&nbsp;[35]:</div>
<div class="inner_cell">
    <div class="input_area">
<div class=" highlight hl-ipython3"><pre><span></span><span class="c1">#your code here</span>
</pre></div>

</div>
</div>
</div>

</div>
<div class="cell border-box-sizing text_cell rendered"><div class="prompt input_prompt">
</div>
<div class="inner_cell">
<div class="text_cell_render border-box-sizing rendered_html">
<p>Answer:</p>

</div>
</div>
</div>
<div class="cell border-box-sizing text_cell rendered"><div class="prompt input_prompt">
</div>
<div class="inner_cell">
<div class="text_cell_render border-box-sizing rendered_html">
<h2 id="Discussion-for-Problem-3">Discussion for Problem 3<a class="anchor-link" href="#Discussion-for-Problem-3">&#182;</a></h2><p><em>Write a brief discussion of your conclusions to the questions and tasks above in 100 words or less.</em></p>
<hr>

</div>
</div>
</div>
<div class="cell border-box-sizing text_cell rendered"><div class="prompt input_prompt">
</div>
<div class="inner_cell">
<div class="text_cell_render border-box-sizing rendered_html">
<h2 id="Problem-4">Problem 4<a class="anchor-link" href="#Problem-4">&#182;</a></h2><p>In this last problem, we will use the polls from the <a href="http://elections.huffingtonpost.com/pollster">2014 Senate Midterm Elections</a> from the <a href="http://elections.huffingtonpost.com/pollster/api">HuffPost Pollster API</a> to create a preliminary prediction of the result of each state.</p>
<p>The HuffPost Pollster API allows you to access the data as a CSV or a JSON response by tacking ".csv" or ".json" at the end of the URLs. For example the 2012 Presidential Election could be accessed as a <a href="http://elections.huffingtonpost.com/pollster/2012-general-election-romney-vs-obama.json">.json</a> instead of a <a href="http://elections.huffingtonpost.com/pollster/2012-general-election-romney-vs-obama.csv">.csv</a></p>

</div>
</div>
</div>
<div class="cell border-box-sizing text_cell rendered"><div class="prompt input_prompt">
</div>
<div class="inner_cell">
<div class="text_cell_render border-box-sizing rendered_html">
<h4 id="Problem-4(a)">Problem 4(a)<a class="anchor-link" href="#Problem-4(a)">&#182;</a></h4><p>Read in the polls for <strong>all</strong> of the 2014 Senate Elections using the HuffPost API. For example, we can consider the <a href="http://elections.huffingtonpost.com/pollster/2014-kentucky-senate-mcconnell-vs-grimes">2014 Senate race in Kentucky between Mitch McConnell and Alison Grimes</a>.</p>
<p>To search for the 2014 Senate races, use the <code>topics</code> parameter in the API [<a href="http://elections.huffingtonpost.com/pollster/api">read more about topics here</a>].</p>

</div>
</div>
</div>
<div class="cell border-box-sizing code_cell rendered">
<div class="input">
<div class="prompt input_prompt">In&nbsp;[36]:</div>
<div class="inner_cell">
    <div class="input_area">
<div class=" highlight hl-ipython3"><pre><span></span><span class="n">url_str</span> <span class="o">=</span> <span class="s2">&quot;http://elections.huffingtonpost.com/pollster/api/charts/?topic=2014-senate&quot;</span>
</pre></div>

</div>
</div>
</div>

</div>
<div class="cell border-box-sizing text_cell rendered"><div class="prompt input_prompt">
</div>
<div class="inner_cell">
<div class="text_cell_render border-box-sizing rendered_html">
<p>To list all the URLs related to the 2014 Senate races using the pollster API, we can use a list comprehension:</p>

</div>
</div>
</div>
<div class="cell border-box-sizing code_cell rendered">
<div class="input">
<div class="prompt input_prompt">In&nbsp;[37]:</div>
<div class="inner_cell">
    <div class="input_area">
<div class=" highlight hl-ipython3"><pre><span></span><span class="n">election_urls</span> <span class="o">=</span> <span class="p">[</span><span class="n">election</span><span class="p">[</span><span class="s1">&#39;url&#39;</span><span class="p">]</span> <span class="o">+</span> <span class="s1">&#39;.csv&#39;</span> <span class="k">for</span> <span class="n">election</span> <span class="ow">in</span> <span class="n">requests</span><span class="o">.</span><span class="n">get</span><span class="p">(</span><span class="n">url_str</span><span class="p">)</span><span class="o">.</span><span class="n">json</span><span class="p">()]</span>
<span class="n">election_urls</span>
</pre></div>

</div>
</div>
</div>

<div class="output_wrapper">
<div class="output">


<div class="output_area">

<div class="prompt output_prompt">Out[37]:</div>




<div class="output_text output_subarea output_execute_result">
<pre>[u&#39;http://elections.huffingtonpost.com/pollster/2014-kentucky-senate-mcconnell-vs-grimes.csv&#39;,
 u&#39;http://elections.huffingtonpost.com/pollster/2014-arkansas-senate-cotton-vs-pryor.csv&#39;,
 u&#39;http://elections.huffingtonpost.com/pollster/2014-michigan-senate-land-vs-peters.csv&#39;,
 u&#39;http://elections.huffingtonpost.com/pollster/2014-louisiana-senate-cassidy-vs-landrieu.csv&#39;,
 u&#39;http://elections.huffingtonpost.com/pollster/2014-new-hampshire-senate-brown-vs-shaheen.csv&#39;,
 u&#39;http://elections.huffingtonpost.com/pollster/2014-west-virginia-senate-capito-vs-tennant.csv&#39;,
 u&#39;http://elections.huffingtonpost.com/pollster/2014-new-hampshire-senate-bass-vs-shaheen.csv&#39;,
 u&#39;http://elections.huffingtonpost.com/pollster/2014-north-carolina-senate-tillis-vs-hagan.csv&#39;,
 u&#39;http://elections.huffingtonpost.com/pollster/2014-virginia-senate-gillespie-vs-warner.csv&#39;,
 u&#39;http://elections.huffingtonpost.com/pollster/2014-colorado-senate-gardner-vs-udall.csv&#39;,
 u&#39;http://elections.huffingtonpost.com/pollster/2014-illinois-senate-oberweis-vs-durbin.csv&#39;,
 u&#39;http://elections.huffingtonpost.com/pollster/2014-alaska-senate-sullivan-vs-begich.csv&#39;,
 u&#39;http://elections.huffingtonpost.com/pollster/2014-iowa-senate-ernst-vs-braley.csv&#39;,
 u&#39;http://elections.huffingtonpost.com/pollster/2014-mississippi-senate-cochran-vs-childers.csv&#39;,
 u&#39;http://elections.huffingtonpost.com/pollster/2014-oregon-senate-wehby-vs-merkley.csv&#39;,
 u&#39;http://elections.huffingtonpost.com/pollster/2014-georgia-senate-perdue-vs-nunn.csv&#39;,
 u&#39;http://elections.huffingtonpost.com/pollster/2014-louisiana-senate-sasse-vs-domina.csv&#39;,
 u&#39;http://elections.huffingtonpost.com/pollster/2014-south-dakota-senate-rounds-vs-weiland.csv&#39;,
 u&#39;http://elections.huffingtonpost.com/pollster/2014-maine-senate-collins-vs-bellows.csv&#39;,
 u&#39;http://elections.huffingtonpost.com/pollster/2014-minnesota-senate-mcfadden-vs-franken.csv&#39;,
 u&#39;http://elections.huffingtonpost.com/pollster/2014-texas-senate-cornyn-vs-alameel.csv&#39;,
 u&#39;http://elections.huffingtonpost.com/pollster/2014-south-carolina-senate-graham-vs-hutto.csv&#39;,
 u&#39;http://elections.huffingtonpost.com/pollster/2014-south-carolina-senate-scott-vs-dickerson.csv&#39;,
 u&#39;http://elections.huffingtonpost.com/pollster/2014-oklahoma-senate-inhofe-vs-silverstein.csv&#39;,
 u&#39;http://elections.huffingtonpost.com/pollster/2014-new-mexico-senate-weh-vs-udall.csv&#39;,
 u&#39;http://elections.huffingtonpost.com/pollster/2014-new-jersey-senate-bell-vs-booker.csv&#39;,
 u&#39;http://elections.huffingtonpost.com/pollster/2014-idaho-senate-risch-vs-mitchell.csv&#39;,
 u&#39;http://elections.huffingtonpost.com/pollster/2014-tennessee-senate-alexander-vs-ball.csv&#39;,
 u&#39;http://elections.huffingtonpost.com/pollster/2014-wyoming-senate.csv&#39;,
 u&#39;http://elections.huffingtonpost.com/pollster/2014-kansas-senate-roberts-vs-orman-vs-taylor.csv&#39;,
 u&#39;http://elections.huffingtonpost.com/pollster/2014-hawaii-senate-cavasso-vs-schatz.csv&#39;,
 u&#39;http://elections.huffingtonpost.com/pollster/2014-oklahoma-senate-lankford-vs-johnson.csv&#39;,
 u&#39;http://elections.huffingtonpost.com/pollster/2014-montana-senate-daines-vs-curtis.csv&#39;,
 u&#39;http://elections.huffingtonpost.com/pollster/2014-rhode-island-senate-zaccaria-vs-reed.csv&#39;,
 u&#39;http://elections.huffingtonpost.com/pollster/2014-massachusetts-senate-herr-vs-markey.csv&#39;,
 u&#39;http://elections.huffingtonpost.com/pollster/2014-delaware-senate-wade-vs-coons.csv&#39;]</pre>
</div>

</div>

</div>
</div>

</div>
<div class="cell border-box-sizing text_cell rendered"><div class="prompt input_prompt">
</div>
<div class="inner_cell">
<div class="text_cell_render border-box-sizing rendered_html">
<p>Because there so many Senate races, we can create a dictionary of pandas DataFrames that will be keyed by the name of the election (a string).</p>

</div>
</div>
</div>
<div class="cell border-box-sizing code_cell rendered">
<div class="input">
<div class="prompt input_prompt">In&nbsp;[38]:</div>
<div class="inner_cell">
    <div class="input_area">
<div class=" highlight hl-ipython3"><pre><span></span><span class="k">def</span> <span class="nf">build_frame</span><span class="p">(</span><span class="n">url</span><span class="p">):</span>
    <span class="sd">&quot;&quot;&quot;</span>
<span class="sd">    Returns a pandas DataFrame object containing</span>
<span class="sd">    the data returned from the given url</span>
<span class="sd">    &quot;&quot;&quot;</span>
    <span class="n">source</span> <span class="o">=</span> <span class="n">requests</span><span class="o">.</span><span class="n">get</span><span class="p">(</span><span class="n">url</span><span class="p">)</span><span class="o">.</span><span class="n">text</span>
    
    <span class="c1"># Use StringIO because pd.DataFrame.from_csv requires .read() method</span>
    <span class="n">s</span> <span class="o">=</span> <span class="n">StringIO</span><span class="p">(</span><span class="n">source</span><span class="p">)</span>
    
    <span class="k">return</span> <span class="n">pd</span><span class="o">.</span><span class="n">DataFrame</span><span class="o">.</span><span class="n">from_csv</span><span class="p">(</span><span class="n">s</span><span class="p">,</span> <span class="n">index_col</span><span class="o">=</span><span class="kc">None</span><span class="p">)</span><span class="o">.</span><span class="n">convert_objects</span><span class="p">(</span>
            <span class="n">convert_dates</span><span class="o">=</span><span class="s2">&quot;coerce&quot;</span><span class="p">,</span> <span class="n">convert_numeric</span><span class="o">=</span><span class="kc">True</span><span class="p">)</span>
</pre></div>

</div>
</div>
</div>

</div>
<div class="cell border-box-sizing code_cell rendered">
<div class="input">
<div class="prompt input_prompt">In&nbsp;[39]:</div>
<div class="inner_cell">
    <div class="input_area">
<div class=" highlight hl-ipython3"><pre><span></span><span class="c1"># Makes a dictionary of pandas DataFrames keyed on election string.</span>
<span class="n">dfs</span> <span class="o">=</span> <span class="nb">dict</span><span class="p">((</span><span class="n">election</span><span class="o">.</span><span class="n">split</span><span class="p">(</span><span class="s2">&quot;/&quot;</span><span class="p">)[</span><span class="o">-</span><span class="mi">1</span><span class="p">][:</span><span class="o">-</span><span class="mi">4</span><span class="p">],</span> <span class="n">build_frame</span><span class="p">(</span><span class="n">election</span><span class="p">))</span> <span class="k">for</span> <span class="n">election</span> <span class="ow">in</span> <span class="n">election_urls</span><span class="p">)</span>
</pre></div>

</div>
</div>
</div>

</div>
<div class="cell border-box-sizing text_cell rendered"><div class="prompt input_prompt">
</div>
<div class="inner_cell">
<div class="text_cell_render border-box-sizing rendered_html">
<p>Show the head of the DataFrame containing the polls for the 2014 Senate race in Kentucky between McConnell and Grimes.</p>

</div>
</div>
</div>
<div class="cell border-box-sizing code_cell rendered">
<div class="input">
<div class="prompt input_prompt">In&nbsp;[40]:</div>
<div class="inner_cell">
    <div class="input_area">
<div class=" highlight hl-ipython3"><pre><span></span><span class="c1">#your code here</span>
</pre></div>

</div>
</div>
</div>

</div>
<div class="cell border-box-sizing text_cell rendered"><div class="prompt input_prompt">
</div>
<div class="inner_cell">
<div class="text_cell_render border-box-sizing rendered_html">
<h4 id="Problem-4(b)">Problem 4(b)<a class="anchor-link" href="#Problem-4(b)">&#182;</a></h4><p>For each 2014 Senate race, create a preliminary prediction of the result for that state.</p>

</div>
</div>
</div>
<div class="cell border-box-sizing code_cell rendered">
<div class="input">
<div class="prompt input_prompt">In&nbsp;[42]:</div>
<div class="inner_cell">
    <div class="input_area">
<div class=" highlight hl-ipython3"><pre><span></span><span class="c1">#your code here</span>
</pre></div>

</div>
</div>
</div>

</div>
<div class="cell border-box-sizing text_cell rendered"><div class="prompt input_prompt">
</div>
<div class="inner_cell">
<div class="text_cell_render border-box-sizing rendered_html">
<h1 id="Submission-Instructions">Submission Instructions<a class="anchor-link" href="#Submission-Instructions">&#182;</a></h1><p>To submit your homework, create a folder named <strong>lastname_firstinitial_hw#</strong> and place your IPython notebooks, data files, and any other files in this folder. Your IPython Notebooks should be completely executed with the results visible in the notebook. We should not have to run any code.  Compress the folder (please use .zip compression) and submit to the CS109 dropbox in the appropriate folder. <em>If we cannot access your work because these directions are not followed correctly, we will not grade your work.</em></p>

</div>
</div>
</div>
<div class="cell border-box-sizing code_cell rendered">
<div class="input">
<div class="prompt input_prompt">In&nbsp;[&nbsp;]:</div>
<div class="inner_cell">
    <div class="input_area">
<div class=" highlight hl-ipython3"><pre><span></span> 
</pre></div>

</div>
</div>
</div>

</div>
 


    </div>
  </div>

  </div>


  
    <footer class="footer hidden-print">
      <div class="container">
        <div class="col-md-4">
          <p>
            This website does not host notebooks, it only renders notebooks
            available on other websites.
          </p>
        </div>

        <div class="col-md-4">
          <p>
            Delivered by <a href="http://www.fastly.com/">Fastly</a>,
            Rendered by <a href="https://developer.rackspace.com/?nbviewer=awesome">Rackspace</a>
          </p>
          <p>
            nbviewer GitHub <a href="https://github.com/jupyter/nbviewer">repository</a>.
          </p>
        </div>

        <div class="col-md-4">
          
  
            
              <p>
                nbviewer version:
                <a href="https://github.com/jupyter/nbviewer/commit/5ac2643d687f4e78c5b8a4d50ead8255b2c65bb1">
                  5ac2643
                </a>
              </p>
            
          
  
  <p>
    nbconvert version: <a href="https://github.com/jupyter/nbconvert/releases/tag/5.2.1">
      5.2.1
    </a>
  </p>
  

          
  
  
  <p>
    Rendered
    <span class='date' data-date='Wed, 09 Aug 2017 09:01:18 UTC' title='Wed, 09 Aug 2017 09:01:18 UTC'>(Wed, 09 Aug 2017 09:01:18 UTC)</span>
  </p>
  

        </div>
      </div>
    </footer>
  

  <script src="https://unpkg.com/jupyter-js-widgets@2.0.*/dist/embed.js"></script>
  <script src="/static/components/bootstrap/js/bootstrap.min.js?v=5869c96cc8f19086aee625d670d741f9"></script>
  <script src="/static/components/headroom.js/dist/headroom.min.js?v=b0a311ea668f8e768ea375f4a7abb81c"></script>
  <script src="/static/components/headroom.js/dist/jQuery.headroom.min.js?v=f3a1bae118315d0c234afc74dc6aab71"></script>

  
  
  <script>
    $(function(){ $("#menubar").headroom({
      tolerance: 5,
      offset: 205,
      classes: {
        initial: "animated",
        pinned: "slideInDown",
        unpinned: "slideOutUp"
      }
    })});
  </script>


  
  <script>
    (function(i,s,o,g,r,a,m){i['GoogleAnalyticsObject']=r;i[r]=i[r]||function(){
      (i[r].q=i[r].q||[]).push(arguments)},i[r].l=1*new Date();a=s.createElement(o),
      m=s.getElementsByTagName(o)[0];a.async=1;a.src=g;m.parentNode.insertBefore(a,m)
    })(window,document,'script','https://www.google-analytics.com/analytics.js','ga');
    ga('create', 'UA-52617120-5', 'auto');
    ga('send', 'pageview');
  </script>
  
  <script>
    require({
        paths: {
          moment: "/static/components/moment/min/moment.min.js?v=89f87298ad94aa1e6b92f42eb66da043"
        }
      }, ["moment"], function(moment){
      var date = $("footer .date"),
        m = moment(new Date(date.data('date'))),
        update = function(){ date.text(m.fromNow()); };
      setInterval(update, 61*1000);
      update();
      var w = $(window).scroll(function(event){
        $("body").toggleClass("scrolled", w.scrollTop() > 0);
      });
    });
  </script>
  <!--NEW RELIC Stop Perf Measurement-->
  
  <!--NEW RELIC End-->
</body>
</html>