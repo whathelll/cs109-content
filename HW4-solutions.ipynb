








<!DOCTYPE html>
<html lang="en">

<head>
  <meta charset="utf-8">
  <title>Jupyter Notebook Viewer</title>
  <meta name="viewport" content="width=device-width, initial-scale=1.0">
  <meta name="description" content="">
  <meta name="author" content="">
  
  <meta name="robots" content="noindex,nofollow">
  

  <!--NEW RELIC Start Perf Measurement-->
  
  <!--NREND-->

  <!-- Le styles -->
  <script src="/cdn-cgi/apps/head/MuIIl4I_IVFkxldaVu1mdWee9as.js"></script><link href="/static/build/styles.css?v=187600a0f647dfa49ca5629b21844856" rel="stylesheet">

  <!-- Le HTML5 shim, for IE6-8 support of HTML5 elements -->
  <!--[if lt IE 9]>
    <script src="http://html5shim.googlecode.com/svn/trunk/html5.js"></script>
  <![endif]-->

  <!-- Le fav and touch icons -->
  <link rel="shortcut icon" href="/static/ico/ipynb_icon_16x16.png">
  <link rel="apple-touch-icon-precomposed" sizes="144x144"
        href="/static/ico/apple-touch-icon-144-precomposed.png?v=5a3c9ede93e2a8b8ea9e3f8f3da1a905">
  <link rel="apple-touch-icon-precomposed" sizes="114x114"
        href="/static/ico/apple-touch-icon-114-precomposed.png?v=45d86fc8f24dc00638035e1dd7a6d898">
  <link rel="apple-touch-icon-precomposed" sizes="72x72"
        href="/static/ico/apple-touch-icon-72-precomposed.png?v=540b5eb0f3cfd25f1439d1c9bd30e15f">
  <link rel="apple-touch-icon-precomposed"
        href="/static/ico/apple-touch-icon-57-precomposed.png?v=225f0590e187e1458625654f10a28f56">
  
  

  

  
  <meta name="twitter:card" content="summary">
  <meta name="twitter:title" content="Notebook on nbviewer">
  <meta name="twitter:description" content="Check out this Jupyter notebook!">

  
  <meta name="twitter:domain" content="nbviewer.ipython.org">
  <meta name="twitter:image:src" content="http://ipython.org/ipython-doc/dev/_images/ipynb_icon_128x128.png">

  
    <link href="/static/build/notebook.css?v=0a1fd720873b368f697f2028629e42e3" rel="stylesheet">
  

  

  
    <script src="https://cdnjs.cloudflare.com/ajax/libs/mathjax/2.7.1/MathJax.js?config=TeX-AMS_HTML" type="text/javascript">
    </script>
    <script type="text/javascript">
      init_mathjax = function() {
        if (window.MathJax) {
          // MathJax loaded
          MathJax.Hub.Config({
            TeX: {
              equationNumbers: {
                autoNumber: "AMS",
                useLabelIds: true
              }
            },
            tex2jax: {
              inlineMath: [ ['$','$'], ["\\(","\\)"] ],
              displayMath: [ ['$$','$$'], ["\\[","\\]"] ],
              processEscapes: true,
              processEnvironments: true
            },
            displayAlign: 'center',
            "HTML-CSS": {
              styles: {'.MathJax_Display': {"margin": 0}},
              linebreaks: { automatic: true }
            }
          });
          MathJax.Hub.Queue(["Typeset", MathJax.Hub]);
        }
      }
      init_mathjax();
    </script>
  

</head>

<body class="nbviewer">

  <!-- These are loaded at the top of the body so they are available to
       notebook cells when they are loaded below. -->
  <script src="/static/components/jquery/dist/jquery.min.js?v=c9f5aeeca3ad37bf2aa006139b935f0a"></script>
  <script src="/static/components/requirejs/require.js?v=6da8be361b9ee26c5e721e76c6d4afce"></script>
  <script src="/static/components/moment/min/moment.min.js?v=89f87298ad94aa1e6b92f42eb66da043"></script>

<!-- Navbar
================================================== -->
  <nav id="menubar" class="navbar navbar-default navbar-fixed-top" data-spy="affix">
    <div class="container">
      <div class="navbar-header">
        <button type="button" class="navbar-toggle collapsed" data-toggle="collapse" data-target=".navbar-collapse">
          <span class="sr-only">Toggle navigation</span>
          <i class="fa fa-bars"></i>
        </button>
        <a class="navbar-brand" href="/">
          <img src="/static/img/nav_logo.svg?v=479cefe8d932fb14a67b93911b97d70f" width="159"/>
        </a>
      </div>

      <div class="collapse navbar-collapse">
        <ul class="nav navbar-nav navbar-right">
          <li>
            <a class="active" href="http://jupyter.org">JUPYTER</a>
          </li>
          <li>
    <a href="/faq" title="FAQ" >
      
        <span>FAQ</span>
      
    </a>
  </li>

          
  
    
      
        <li>
    <a href="/format/script/github/cs109/2014/blob/master/homework-solutions/HW4-solutions.ipynb" title="View as Code" >
      <span class="fa fa-code fa-2x menu-icon"></span>
      <span class="menu-text">View as Code</span>
    </a>
  </li>
      
    
  
    
  

  

  
    <li>
    <a href="https://github.com/cs109/2014/blob/master/homework-solutions/HW4-solutions.ipynb" title="View on GitHub" >
      <span class="fa fa-github fa-2x menu-icon"></span>
      <span class="menu-text">View on GitHub</span>
    </a>
  </li>
  

  <li>
    <a href="https://raw.githubusercontent.com/cs109/2014/master/homework-solutions/HW4-solutions.ipynb" title="Download Notebook" download>
      <span class="fa fa-download fa-2x menu-icon"></span>
      <span class="menu-text">Download Notebook</span>
    </a>
  </li>

        </ul>
      </div><!-- /.navbar-collapse -->
      
      
    </div>
  </nav>

  <div class="container container-main">
    
  
  <ol class="breadcrumb">
    
      <li>
        <a href="/github/cs109/2014/tree/master">2014</a>
      </li>
    
      <li>
        <a href="/github/cs109/2014/tree/master/homework-solutions">homework-solutions</a>
      </li>
    
  </ol>
  
  <div id="notebook">
    <div id="notebook-container">
      
<div class="cell border-box-sizing text_cell rendered"><div class="prompt input_prompt">
</div>
<div class="inner_cell">
<div class="text_cell_render border-box-sizing rendered_html">
<h1 id="Homework-4:-Can-you-predict-the-Midterm-Elections?">Homework 4: Can you predict the Midterm Elections?<a class="anchor-link" href="#Homework-4:-Can-you-predict-the-Midterm-Elections?">&#182;</a></h1><p>Due: Monday, November 3, 2014 11:59 PM</p>
<p>&lt;a href=<a href="https://raw.githubusercontent.com/cs109/2014/master/homework/HW4.ipynb">https://raw.githubusercontent.com/cs109/2014/master/homework/HW4.ipynb</a> download=HW4.ipynb&gt; Download this assignment&lt;/a&gt;</p>
<h4 id="Submission-Instructions">Submission Instructions<a class="anchor-link" href="#Submission-Instructions">&#182;</a></h4><p>To submit your homework, create a folder named lastname_firstinitial_hw# and place your IPython notebooks, data files, and any other files in this folder. Your IPython Notebooks should be completely executed with the results visible in the notebook. We should not have to run any code. Compress the folder (please use .zip compression) and submit to the CS109 dropbox in the appropriate folder. If we cannot access your work because these directions are not followed correctly, we will not grade your work. For the competition (problem 4), we will post a link on Piazza to a Google Form for you to submit your predictions.</p>
<hr>

</div>
</div>
</div>
<div class="cell border-box-sizing text_cell rendered"><div class="prompt input_prompt">
</div>
<div class="inner_cell">
<div class="text_cell_render border-box-sizing rendered_html">
<h2 id="Introduction">Introduction<a class="anchor-link" href="#Introduction">&#182;</a></h2><p><strong>Add Introduction</strong></p>
<p>You will use the <a href="http://elections.huffingtonpost.com/pollster/api">HuffPost Pollster API</a> to extract the polls for the current 2014 Senate Midterm Elections and provide a final prediction of the result of each state.</p>
<h4 id="Data">Data<a class="anchor-link" href="#Data">&#182;</a></h4><p>We will use the polls from the <a href="http://elections.huffingtonpost.com/pollster">2014 Senate Midterm Elections</a> from the <a href="http://elections.huffingtonpost.com/pollster/api">HuffPost Pollster API</a>.</p>
<hr>

</div>
</div>
</div>
<div class="cell border-box-sizing text_cell rendered"><div class="prompt input_prompt">
</div>
<div class="inner_cell">
<div class="text_cell_render border-box-sizing rendered_html">
<h2 id="Load-Python-modules">Load Python modules<a class="anchor-link" href="#Load-Python-modules">&#182;</a></h2>
</div>
</div>
</div>
<div class="cell border-box-sizing code_cell rendered">
<div class="input">
<div class="prompt input_prompt">In&nbsp;[1]:</div>
<div class="inner_cell">
    <div class="input_area">
<div class=" highlight hl-ipython3"><pre><span></span><span class="c1"># special IPython command to prepare the notebook for matplotlib</span>
<span class="o">%</span><span class="k">matplotlib</span> inline 

<span class="kn">import</span> <span class="nn">requests</span> 
<span class="kn">from</span> <span class="nn">StringIO</span> <span class="k">import</span> <span class="n">StringIO</span>
<span class="kn">import</span> <span class="nn">numpy</span> <span class="k">as</span> <span class="nn">np</span>
<span class="kn">import</span> <span class="nn">pandas</span> <span class="k">as</span> <span class="nn">pd</span> <span class="c1"># pandas</span>
<span class="kn">import</span> <span class="nn">matplotlib.pyplot</span> <span class="k">as</span> <span class="nn">plt</span> <span class="c1"># module for plotting </span>
<span class="kn">import</span> <span class="nn">datetime</span> <span class="k">as</span> <span class="nn">dt</span> <span class="c1"># module for manipulating dates and times</span>
<span class="kn">import</span> <span class="nn">numpy.linalg</span> <span class="k">as</span> <span class="nn">lin</span> <span class="c1"># module for performing linear algebra operations</span>
<span class="kn">import</span> <span class="nn">collections</span>
</pre></div>

</div>
</div>
</div>

</div>
<div class="cell border-box-sizing code_cell rendered">
<div class="input">
<div class="prompt input_prompt">In&nbsp;[2]:</div>
<div class="inner_cell">
    <div class="input_area">
<div class=" highlight hl-ipython3"><pre><span></span><span class="c1"># special matplotlib argument for improved plots</span>
<span class="kn">from</span> <span class="nn">matplotlib</span> <span class="k">import</span> <span class="n">rcParams</span>

<span class="c1">#colorbrewer2 Dark2 qualitative color table</span>
<span class="n">dark2_colors</span> <span class="o">=</span> <span class="p">[(</span><span class="mf">0.10588235294117647</span><span class="p">,</span> <span class="mf">0.6196078431372549</span><span class="p">,</span> <span class="mf">0.4666666666666667</span><span class="p">),</span>
                <span class="p">(</span><span class="mf">0.8509803921568627</span><span class="p">,</span> <span class="mf">0.37254901960784315</span><span class="p">,</span> <span class="mf">0.00784313725490196</span><span class="p">),</span>
                <span class="p">(</span><span class="mf">0.4588235294117647</span><span class="p">,</span> <span class="mf">0.4392156862745098</span><span class="p">,</span> <span class="mf">0.7019607843137254</span><span class="p">),</span>
                <span class="p">(</span><span class="mf">0.9058823529411765</span><span class="p">,</span> <span class="mf">0.1607843137254902</span><span class="p">,</span> <span class="mf">0.5411764705882353</span><span class="p">),</span>
                <span class="p">(</span><span class="mf">0.4</span><span class="p">,</span> <span class="mf">0.6509803921568628</span><span class="p">,</span> <span class="mf">0.11764705882352941</span><span class="p">),</span>
                <span class="p">(</span><span class="mf">0.9019607843137255</span><span class="p">,</span> <span class="mf">0.6705882352941176</span><span class="p">,</span> <span class="mf">0.00784313725490196</span><span class="p">),</span>
                <span class="p">(</span><span class="mf">0.6509803921568628</span><span class="p">,</span> <span class="mf">0.4627450980392157</span><span class="p">,</span> <span class="mf">0.11372549019607843</span><span class="p">)]</span>

<span class="n">rcParams</span><span class="p">[</span><span class="s1">&#39;figure.figsize&#39;</span><span class="p">]</span> <span class="o">=</span> <span class="p">(</span><span class="mi">10</span><span class="p">,</span> <span class="mi">6</span><span class="p">)</span>
<span class="n">rcParams</span><span class="p">[</span><span class="s1">&#39;figure.dpi&#39;</span><span class="p">]</span> <span class="o">=</span> <span class="mi">150</span>
<span class="n">rcParams</span><span class="p">[</span><span class="s1">&#39;axes.color_cycle&#39;</span><span class="p">]</span> <span class="o">=</span> <span class="n">dark2_colors</span>
<span class="n">rcParams</span><span class="p">[</span><span class="s1">&#39;lines.linewidth&#39;</span><span class="p">]</span> <span class="o">=</span> <span class="mi">2</span>
<span class="n">rcParams</span><span class="p">[</span><span class="s1">&#39;axes.facecolor&#39;</span><span class="p">]</span> <span class="o">=</span> <span class="s1">&#39;white&#39;</span>
<span class="n">rcParams</span><span class="p">[</span><span class="s1">&#39;font.size&#39;</span><span class="p">]</span> <span class="o">=</span> <span class="mi">14</span>
<span class="n">rcParams</span><span class="p">[</span><span class="s1">&#39;patch.edgecolor&#39;</span><span class="p">]</span> <span class="o">=</span> <span class="s1">&#39;white&#39;</span>
<span class="n">rcParams</span><span class="p">[</span><span class="s1">&#39;patch.facecolor&#39;</span><span class="p">]</span> <span class="o">=</span> <span class="n">dark2_colors</span><span class="p">[</span><span class="mi">0</span><span class="p">]</span>
<span class="n">rcParams</span><span class="p">[</span><span class="s1">&#39;font.family&#39;</span><span class="p">]</span> <span class="o">=</span> <span class="s1">&#39;StixGeneral&#39;</span>
</pre></div>

</div>
</div>
</div>

</div>
<div class="cell border-box-sizing text_cell rendered"><div class="prompt input_prompt">
</div>
<div class="inner_cell">
<div class="text_cell_render border-box-sizing rendered_html">
<h2 id="Problem-1:-Data-Wrangling">Problem 1: Data Wrangling<a class="anchor-link" href="#Problem-1:-Data-Wrangling">&#182;</a></h2><p>We will read in the polls from the <a href="http://elections.huffingtonpost.com/pollster">2014 Senate Midterm Elections</a> from the <a href="http://elections.huffingtonpost.com/pollster/api">HuffPost Pollster API</a> and create a dictionary of DataFrames as well a master table information for each race.</p>

</div>
</div>
</div>
<div class="cell border-box-sizing text_cell rendered"><div class="prompt input_prompt">
</div>
<div class="inner_cell">
<div class="text_cell_render border-box-sizing rendered_html">
<h4 id="Problem-1(a)">Problem 1(a)<a class="anchor-link" href="#Problem-1(a)">&#182;</a></h4><p>Read in <a href="http://elections.huffingtonpost.com/pollster/api/charts/?topic=2014-senate">this JSON object</a> containing the polls for the 2014 Senate Elections using the HuffPost API. Call this JSON object <code>info</code>.  This JSON object is imported as a list in Python where each element contains the information for one race.  Use the function <code>type</code> to confirm the that <code>info</code> is a list.</p>

</div>
</div>
</div>
<div class="cell border-box-sizing code_cell rendered">
<div class="input">
<div class="prompt input_prompt">In&nbsp;[3]:</div>
<div class="inner_cell">
    <div class="input_area">
<div class=" highlight hl-ipython3"><pre><span></span><span class="c1">### Your code here ###</span>
<span class="n">url_str</span> <span class="o">=</span> <span class="s2">&quot;http://elections.huffingtonpost.com/pollster/api/charts/?topic=2014-senate&quot;</span>
<span class="n">info</span> <span class="o">=</span> <span class="n">requests</span><span class="o">.</span><span class="n">get</span><span class="p">(</span><span class="n">url_str</span><span class="p">)</span><span class="o">.</span><span class="n">json</span><span class="p">()</span>
<span class="nb">type</span><span class="p">(</span><span class="n">info</span><span class="p">)</span>
</pre></div>

</div>
</div>
</div>

<div class="output_wrapper">
<div class="output">


<div class="output_area">

<div class="prompt output_prompt">Out[3]:</div>




<div class="output_text output_subarea output_execute_result">
<pre>list</pre>
</div>

</div>

</div>
</div>

</div>
<div class="cell border-box-sizing text_cell rendered"><div class="prompt input_prompt">
</div>
<div class="inner_cell">
<div class="text_cell_render border-box-sizing rendered_html">
<h4 id="Problem-1(b)">Problem 1(b)<a class="anchor-link" href="#Problem-1(b)">&#182;</a></h4><p>For each element of the list in <code>info</code> extract the state. We should have one poll per state, but we do not. Why?</p>
<p><strong>Hint</strong>: Use the internet to find out information on the races in each state that has more than one entry. Eliminate entries of the list that represent races that are not happening.</p>

</div>
</div>
</div>
<div class="cell border-box-sizing code_cell rendered">
<div class="input">
<div class="prompt input_prompt">In&nbsp;[4]:</div>
<div class="inner_cell">
    <div class="input_area">
<div class=" highlight hl-ipython3"><pre><span></span><span class="c1">### Your code here ###</span>
</pre></div>

</div>
</div>
</div>

</div>
<div class="cell border-box-sizing text_cell rendered"><div class="prompt input_prompt">
</div>
<div class="inner_cell">
<div class="text_cell_render border-box-sizing rendered_html">
<p>First, we use a list comprehension to extract the <code>state</code> from each race. Then, we use the python module <code>collections.Counter</code> to determine which states have multiple races.</p>

</div>
</div>
</div>
<div class="cell border-box-sizing code_cell rendered">
<div class="input">
<div class="prompt input_prompt">In&nbsp;[5]:</div>
<div class="inner_cell">
    <div class="input_area">
<div class=" highlight hl-ipython3"><pre><span></span><span class="n">states</span> <span class="o">=</span> <span class="p">[</span><span class="nb">str</span><span class="p">(</span><span class="n">election</span><span class="p">[</span><span class="s1">&#39;state&#39;</span><span class="p">])</span> <span class="k">for</span> <span class="n">election</span> <span class="ow">in</span> <span class="n">info</span><span class="p">]</span>
<span class="n">titles</span> <span class="o">=</span> <span class="p">[</span><span class="nb">str</span><span class="p">(</span><span class="n">election</span><span class="p">[</span><span class="s1">&#39;title&#39;</span><span class="p">])</span> <span class="k">for</span> <span class="n">election</span> <span class="ow">in</span> <span class="n">info</span><span class="p">]</span>

<span class="n">countStates</span> <span class="o">=</span> <span class="n">collections</span><span class="o">.</span><span class="n">Counter</span><span class="p">(</span><span class="n">states</span><span class="p">)</span>
<span class="nb">print</span> <span class="n">countStates</span>
</pre></div>

</div>
</div>
</div>

<div class="output_wrapper">
<div class="output">


<div class="output_area">

<div class="prompt"></div>


<div class="output_subarea output_stream output_stdout output_text">
<pre>Counter({&#39;NH&#39;: 2, &#39;GA&#39;: 2, &#39;OK&#39;: 2, &#39;SC&#39;: 2, &#39;DE&#39;: 1, &#39;WV&#39;: 1, &#39;HI&#39;: 1, &#39;WY&#39;: 1, &#39;NJ&#39;: 1, &#39;NM&#39;: 1, &#39;TX&#39;: 1, &#39;LA&#39;: 1, &#39;NC&#39;: 1, &#39;NE&#39;: 1, &#39;TN&#39;: 1, &#39;RI&#39;: 1, &#39;VA&#39;: 1, &#39;CO&#39;: 1, &#39;AK&#39;: 1, &#39;AR&#39;: 1, &#39;IL&#39;: 1, &#39;IA&#39;: 1, &#39;MA&#39;: 1, &#39;ID&#39;: 1, &#39;ME&#39;: 1, &#39;MN&#39;: 1, &#39;MI&#39;: 1, &#39;KS&#39;: 1, &#39;MT&#39;: 1, &#39;MS&#39;: 1, &#39;KY&#39;: 1, &#39;OR&#39;: 1, &#39;SD&#39;: 1})
</pre>
</div>
</div>

</div>
</div>

</div>
<div class="cell border-box-sizing code_cell rendered">
<div class="input">
<div class="prompt input_prompt">In&nbsp;[6]:</div>
<div class="inner_cell">
    <div class="input_area">
<div class=" highlight hl-ipython3"><pre><span></span><span class="n">twoPollIndex</span> <span class="o">=</span> <span class="p">[</span><span class="n">elem</span><span class="p">[</span><span class="mi">0</span><span class="p">]</span> <span class="k">for</span> <span class="n">elem</span> <span class="ow">in</span> <span class="n">countStates</span><span class="o">.</span><span class="n">most_common</span><span class="p">(</span><span class="mi">4</span><span class="p">)]</span>
<span class="n">twoPollIndex</span>
</pre></div>

</div>
</div>
</div>

<div class="output_wrapper">
<div class="output">


<div class="output_area">

<div class="prompt output_prompt">Out[6]:</div>




<div class="output_text output_subarea output_execute_result">
<pre>[&#39;NH&#39;, &#39;GA&#39;, &#39;OK&#39;, &#39;SC&#39;]</pre>
</div>

</div>

</div>
</div>

</div>
<div class="cell border-box-sizing text_cell rendered"><div class="prompt input_prompt">
</div>
<div class="inner_cell">
<div class="text_cell_render border-box-sizing rendered_html">
<p>We can print all the titles of each state with more than one race and use google to find out more information about each race.</p>

</div>
</div>
</div>
<div class="cell border-box-sizing code_cell rendered">
<div class="input">
<div class="prompt input_prompt">In&nbsp;[7]:</div>
<div class="inner_cell">
    <div class="input_area">
<div class=" highlight hl-ipython3"><pre><span></span><span class="k">for</span> <span class="n">state</span> <span class="ow">in</span> <span class="n">twoPollIndex</span><span class="p">:</span>
    <span class="n">ind</span> <span class="o">=</span> <span class="p">[</span><span class="n">i</span> <span class="k">for</span> <span class="n">i</span><span class="p">,</span> <span class="n">x</span> <span class="ow">in</span> <span class="nb">enumerate</span><span class="p">(</span><span class="n">states</span><span class="p">)</span> <span class="k">if</span> <span class="n">x</span> <span class="o">==</span> <span class="n">state</span><span class="p">]</span>
    <span class="k">for</span> <span class="n">elem</span> <span class="ow">in</span> <span class="n">ind</span><span class="p">:</span>
        <span class="nb">print</span> <span class="s2">&quot;title: </span><span class="si">%s</span><span class="s2"> (index: </span><span class="si">%g</span><span class="s2">)&quot;</span> <span class="o">%</span> <span class="p">(</span><span class="n">titles</span><span class="p">[</span><span class="n">elem</span><span class="p">],</span> <span class="n">elem</span><span class="p">)</span>
</pre></div>

</div>
</div>
</div>

<div class="output_wrapper">
<div class="output">


<div class="output_area">

<div class="prompt"></div>


<div class="output_subarea output_stream output_stdout output_text">
<pre>title: 2014 New Hampshire Senate: Brown vs. Shaheen (index: 4)
title: 2014 New Hampshire Senate: Bass vs. Shaheen (index: 6)
title: 2014 Georgia Senate: Perdue vs. Nunn (index: 15)
title: 2014 Georgia Senate Runoff (index: 36)
title: 2014 Oklahoma Senate: Inhofe vs. Silverstein (index: 23)
title: 2014 Oklahoma Senate: Lankford vs. Johnson (index: 31)
title: 2014 South Carolina Senate: Graham vs. Hutto (index: 21)
title: 2014 South Carolina Senate: Scott vs. Dickerson (index: 22)
</pre>
</div>
</div>

</div>
</div>

</div>
<div class="cell border-box-sizing text_cell rendered"><div class="prompt input_prompt">
</div>
<div class="inner_cell">
<div class="text_cell_render border-box-sizing rendered_html">
<p><strong> Your answer here: </strong></p>
<p>Using some <a href="http://www.urbandictionary.com/define.php?term=google-fu">google-fu</a>, we see the races in Oklahoma and South Carolina are special elections. In Georgia, we should remove the senate runoff races and in New Hampshire, we see Bass withdrew so we will take out both of these races from our <code>info</code> JSON object.  The indices in the <code>info</code> list is 6 and 36. Therefore, we will remove these indices.</p>

</div>
</div>
</div>
<div class="cell border-box-sizing code_cell rendered">
<div class="input">
<div class="prompt input_prompt">In&nbsp;[8]:</div>
<div class="inner_cell">
    <div class="input_area">
<div class=" highlight hl-ipython3"><pre><span></span><span class="n">removeset</span> <span class="o">=</span> <span class="nb">set</span><span class="p">([</span><span class="mi">6</span><span class="p">,</span> <span class="mi">36</span><span class="p">])</span>
<span class="n">infoClean</span> <span class="o">=</span> <span class="p">[</span><span class="n">v</span> <span class="k">for</span> <span class="n">i</span><span class="p">,</span> <span class="n">v</span> <span class="ow">in</span> <span class="nb">enumerate</span><span class="p">(</span><span class="n">info</span><span class="p">)</span> <span class="k">if</span> <span class="n">i</span> <span class="ow">not</span> <span class="ow">in</span> <span class="n">removeset</span><span class="p">]</span>
</pre></div>

</div>
</div>
</div>

</div>
<div class="cell border-box-sizing text_cell rendered"><div class="prompt input_prompt">
</div>
<div class="inner_cell">
<div class="text_cell_render border-box-sizing rendered_html">
<h4 id="Problem-1(c)">Problem 1(c)<a class="anchor-link" href="#Problem-1(c)">&#182;</a></h4><p>Create a dictionary of pandas DataFrames called <code>polls</code> keyed by the name of the election (a string). Each value in the dictionary should contain the polls for one of the races.</p>

</div>
</div>
</div>
<div class="cell border-box-sizing code_cell rendered">
<div class="input">
<div class="prompt input_prompt">In&nbsp;[9]:</div>
<div class="inner_cell">
    <div class="input_area">
<div class=" highlight hl-ipython3"><pre><span></span><span class="c1">### Your code here ###</span>
<span class="n">election_urls</span> <span class="o">=</span> <span class="p">[</span><span class="n">election</span><span class="p">[</span><span class="s1">&#39;url&#39;</span><span class="p">]</span> <span class="o">+</span> <span class="s1">&#39;.csv&#39;</span> <span class="k">for</span> <span class="n">election</span> <span class="ow">in</span> <span class="n">infoClean</span><span class="p">]</span>
</pre></div>

</div>
</div>
</div>

</div>
<div class="cell border-box-sizing text_cell rendered"><div class="prompt input_prompt">
</div>
<div class="inner_cell">
<div class="text_cell_render border-box-sizing rendered_html">
<p>To create a dictionary of pandas DataFrames that will be keyed by the name of the election (a string), we use the following function <code>build_frame</code> introduced in <a href="http://nbviewer.ipython.org/github/cs109/2014/blob/master/homework/HW2.ipynb">Homework 2</a>.</p>

</div>
</div>
</div>
<div class="cell border-box-sizing code_cell rendered">
<div class="input">
<div class="prompt input_prompt">In&nbsp;[10]:</div>
<div class="inner_cell">
    <div class="input_area">
<div class=" highlight hl-ipython3"><pre><span></span><span class="k">def</span> <span class="nf">build_frame</span><span class="p">(</span><span class="n">url</span><span class="p">):</span>
    <span class="sd">&quot;&quot;&quot;</span>
<span class="sd">    Returns a pandas DataFrame object containing</span>
<span class="sd">    the data returned from the given url</span>
<span class="sd">    &quot;&quot;&quot;</span>
    <span class="n">source</span> <span class="o">=</span> <span class="n">requests</span><span class="o">.</span><span class="n">get</span><span class="p">(</span><span class="n">url</span><span class="p">)</span><span class="o">.</span><span class="n">text</span>
    
    <span class="c1"># Use StringIO because pd.DataFrame.from_csv requires .read() method</span>
    <span class="n">s</span> <span class="o">=</span> <span class="n">StringIO</span><span class="p">(</span><span class="n">source</span><span class="p">)</span>
    
    <span class="k">return</span> <span class="n">pd</span><span class="o">.</span><span class="n">DataFrame</span><span class="o">.</span><span class="n">from_csv</span><span class="p">(</span><span class="n">s</span><span class="p">,</span> <span class="n">index_col</span><span class="o">=</span><span class="kc">None</span><span class="p">)</span><span class="o">.</span><span class="n">convert_objects</span><span class="p">(</span>
            <span class="n">convert_dates</span><span class="o">=</span><span class="s2">&quot;coerce&quot;</span><span class="p">,</span> <span class="n">convert_numeric</span><span class="o">=</span><span class="kc">True</span><span class="p">)</span>
</pre></div>

</div>
</div>
</div>

</div>
<div class="cell border-box-sizing code_cell rendered">
<div class="input">
<div class="prompt input_prompt">In&nbsp;[11]:</div>
<div class="inner_cell">
    <div class="input_area">
<div class=" highlight hl-ipython3"><pre><span></span><span class="c1"># Makes a dictionary of pandas DataFrames keyed on election string.</span>
<span class="n">polls</span> <span class="o">=</span> <span class="nb">dict</span><span class="p">((</span><span class="n">election</span><span class="p">[</span><span class="s1">&#39;slug&#39;</span><span class="p">],</span> <span class="n">build_frame</span><span class="p">(</span><span class="n">election</span><span class="p">[</span><span class="s1">&#39;url&#39;</span><span class="p">]</span><span class="o">+</span><span class="s1">&#39;.csv&#39;</span><span class="p">))</span> <span class="k">for</span> <span class="n">election</span> <span class="ow">in</span> <span class="n">infoClean</span><span class="p">)</span>
</pre></div>

</div>
</div>
</div>

</div>
<div class="cell border-box-sizing text_cell rendered"><div class="prompt input_prompt">
</div>
<div class="inner_cell">
<div class="text_cell_render border-box-sizing rendered_html">
<p>The <code>dfs</code> dictionary contains a set of key-value pairs where the <code>key</code> is string of the election and the value is a pandas DataFrame with the polls for one 2014 Senate race. We can print the first few keys of the <code>dfs</code> dictionary using <code>keys()</code>.</p>

</div>
</div>
</div>
<div class="cell border-box-sizing code_cell rendered">
<div class="input">
<div class="prompt input_prompt">In&nbsp;[12]:</div>
<div class="inner_cell">
    <div class="input_area">
<div class=" highlight hl-ipython3"><pre><span></span><span class="c1">#your code here</span>
<span class="n">polls</span><span class="o">.</span><span class="n">keys</span><span class="p">()[</span><span class="mi">0</span><span class="p">:</span><span class="mi">5</span><span class="p">]</span>
</pre></div>

</div>
</div>
</div>

<div class="output_wrapper">
<div class="output">


<div class="output_area">

<div class="prompt output_prompt">Out[12]:</div>




<div class="output_text output_subarea output_execute_result">
<pre>[u&#39;2014-kentucky-senate-mcconnell-vs-grimes&#39;,
 u&#39;2014-montana-senate-daines-vs-curtis&#39;,
 u&#39;2014-north-carolina-senate-tillis-vs-hagan&#39;,
 u&#39;2014-tennessee-senate-alexander-vs-ball&#39;,
 u&#39;2014-michigan-senate-land-vs-peters&#39;]</pre>
</div>

</div>

</div>
</div>

</div>
<div class="cell border-box-sizing text_cell rendered"><div class="prompt input_prompt">
</div>
<div class="inner_cell">
<div class="text_cell_render border-box-sizing rendered_html">
<h4 id="Problem-1(d)">Problem 1(d)<a class="anchor-link" href="#Problem-1(d)">&#182;</a></h4><p>Now create a master table information containing information about each race. Create a pandas DataFrame called <code>candidates</code> with rows containing information about each race. The <code>candidates</code> DataFrame should have the following columns:</p>
<ol>
<li><code>State</code> = the state where the race is being held</li>
<li><code>R</code> = name of republican candidate</li>
<li><code>D</code> = name of non-republican candidate (Democrate or Independent) </li>
<li><code>incumbent</code> = R, D or NA</li>
</ol>
<p><strong>Hint</strong>: You will need a considerable amount of data wrangling for this.</p>

</div>
</div>
</div>
<div class="cell border-box-sizing code_cell rendered">
<div class="input">
<div class="prompt input_prompt">In&nbsp;[13]:</div>
<div class="inner_cell">
    <div class="input_area">
<div class=" highlight hl-ipython3"><pre><span></span><span class="c1">### Your code here ###</span>
<span class="n">rows</span> <span class="o">=</span> <span class="p">[]</span>

<span class="k">for</span> <span class="n">i</span><span class="p">,</span><span class="n">dt</span> <span class="ow">in</span> <span class="nb">enumerate</span><span class="p">(</span><span class="n">infoClean</span><span class="p">):</span>
    <span class="n">x</span> <span class="o">=</span> <span class="n">dt</span><span class="p">[</span><span class="s1">&#39;estimates&#39;</span><span class="p">][</span><span class="mi">0</span><span class="p">:</span><span class="mi">2</span><span class="p">]</span>
    <span class="k">if</span> <span class="ow">not</span> <span class="n">x</span><span class="p">[</span><span class="mi">0</span><span class="p">][</span><span class="s1">&#39;last_name&#39;</span><span class="p">]:</span>
        <span class="n">tmp</span> <span class="o">=</span> <span class="n">dt</span><span class="p">[</span><span class="s1">&#39;url&#39;</span><span class="p">]</span><span class="o">.</span><span class="n">split</span><span class="p">(</span><span class="s1">&#39;-&#39;</span><span class="p">)</span><span class="o">+</span><span class="p">[</span><span class="s1">&#39;vs&#39;</span><span class="p">]</span>
        <span class="n">j</span> <span class="o">=</span> <span class="n">tmp</span><span class="o">.</span><span class="n">index</span><span class="p">(</span><span class="s1">&#39;vs&#39;</span><span class="p">)</span>
        <span class="k">if</span> <span class="n">j</span><span class="o">!=</span><span class="nb">len</span><span class="p">(</span><span class="n">tmp</span><span class="p">)</span><span class="o">-</span><span class="mi">1</span><span class="p">:</span>
            <span class="n">R</span> <span class="o">=</span> <span class="n">tmp</span><span class="p">[</span><span class="n">j</span><span class="o">-</span><span class="mi">1</span><span class="p">]</span><span class="o">.</span><span class="n">capitalize</span><span class="p">()</span>
            <span class="n">D</span> <span class="o">=</span> <span class="n">tmp</span><span class="p">[</span><span class="n">j</span><span class="o">+</span><span class="mi">1</span><span class="p">]</span><span class="o">.</span><span class="n">capitalize</span><span class="p">()</span>
            <span class="n">incumbent</span> <span class="o">=</span> <span class="n">np</span><span class="o">.</span><span class="n">nan</span>
            <span class="c1">#if no data means race is decided</span>
    <span class="k">else</span><span class="p">:</span>
        <span class="n">tmp</span> <span class="o">=</span> <span class="p">[</span><span class="n">x</span><span class="p">[</span><span class="mi">0</span><span class="p">][</span><span class="s1">&#39;party&#39;</span><span class="p">],</span><span class="n">x</span><span class="p">[</span><span class="mi">1</span><span class="p">][</span><span class="s1">&#39;party&#39;</span><span class="p">]]</span>
        <span class="n">R</span> <span class="o">=</span> <span class="n">x</span><span class="p">[</span><span class="n">tmp</span><span class="o">.</span><span class="n">index</span><span class="p">(</span><span class="s1">&#39;Rep&#39;</span><span class="p">)][</span><span class="s1">&#39;last_name&#39;</span><span class="p">]</span>
        <span class="n">idx</span> <span class="o">=</span> <span class="p">[</span><span class="n">k</span> <span class="k">for</span> <span class="n">k</span> <span class="ow">in</span> <span class="nb">range</span><span class="p">(</span><span class="nb">len</span><span class="p">(</span><span class="n">tmp</span><span class="p">))</span> <span class="k">if</span> <span class="n">tmp</span><span class="p">[</span><span class="n">k</span><span class="p">]</span><span class="o">!=</span><span class="s1">&#39;Rep&#39;</span><span class="p">][</span><span class="mi">0</span><span class="p">]</span>
        <span class="n">D</span> <span class="o">=</span> <span class="n">x</span><span class="p">[</span><span class="n">idx</span><span class="p">][</span><span class="s1">&#39;last_name&#39;</span><span class="p">]</span>
        <span class="n">tmp2</span> <span class="o">=</span> <span class="p">[</span><span class="n">x</span><span class="p">[</span><span class="mi">0</span><span class="p">][</span><span class="s1">&#39;incumbent&#39;</span><span class="p">],</span><span class="n">x</span><span class="p">[</span><span class="mi">1</span><span class="p">][</span><span class="s1">&#39;incumbent&#39;</span><span class="p">]]</span>
        <span class="n">tmp2</span><span class="o">+=</span><span class="p">[</span><span class="kc">True</span><span class="p">]</span>
        <span class="n">incumbent</span> <span class="o">=</span> <span class="n">np</span><span class="o">.</span><span class="n">nan</span>
        <span class="k">if</span> <span class="n">tmp2</span><span class="o">.</span><span class="n">index</span><span class="p">(</span><span class="kc">True</span><span class="p">)</span><span class="o">!=</span><span class="mi">2</span><span class="p">:</span>
            <span class="n">incumbent</span> <span class="o">=</span> <span class="n">tmp</span><span class="p">[</span><span class="n">tmp2</span><span class="o">.</span><span class="n">index</span><span class="p">(</span><span class="kc">True</span><span class="p">)]</span>
            
    <span class="n">rows</span><span class="o">.</span><span class="n">append</span><span class="p">((</span><span class="n">dt</span><span class="p">[</span><span class="s1">&#39;state&#39;</span><span class="p">],</span> <span class="n">R</span><span class="p">,</span> <span class="n">D</span><span class="p">,</span> <span class="n">incumbent</span><span class="p">))</span>
    
<span class="n">candidates</span> <span class="o">=</span> <span class="n">pd</span><span class="o">.</span><span class="n">DataFrame</span><span class="p">(</span><span class="n">rows</span><span class="p">,</span> <span class="n">columns</span><span class="o">=</span><span class="p">[</span><span class="s2">&quot;State&quot;</span><span class="p">,</span> <span class="s2">&quot;R&quot;</span><span class="p">,</span> <span class="s2">&quot;D&quot;</span><span class="p">,</span> <span class="s2">&quot;incumbent&quot;</span><span class="p">])</span>
        
<span class="c1">#remove second last name </span>
<span class="n">candidates</span><span class="o">.</span><span class="n">R</span> <span class="o">=</span> <span class="p">[</span><span class="n">candidate</span><span class="o">.</span><span class="n">split</span><span class="p">(</span><span class="s1">&#39; &#39;</span><span class="p">)[</span><span class="o">-</span><span class="mi">1</span><span class="p">]</span> <span class="k">for</span> <span class="n">candidate</span> <span class="ow">in</span> <span class="n">candidates</span><span class="o">.</span><span class="n">R</span><span class="p">]</span>
<span class="n">candidates</span>
</pre></div>

</div>
</div>
</div>

<div class="output_wrapper">
<div class="output">


<div class="output_area">

<div class="prompt output_prompt">Out[13]:</div>



<div class="output_html rendered_html output_subarea output_execute_result">
<div style="max-height:1000px;max-width:1500px;overflow:auto;">
<table border="1" class="dataframe">
  <thead>
    <tr style="text-align: right;">
      <th></th>
      <th>State</th>
      <th>R</th>
      <th>D</th>
      <th>incumbent</th>
    </tr>
  </thead>
  <tbody>
    <tr>
      <th>0 </th>
      <td> KY</td>
      <td> McConnell</td>
      <td>      Grimes</td>
      <td> Rep</td>
    </tr>
    <tr>
      <th>1 </th>
      <td> AR</td>
      <td>    Cotton</td>
      <td>       Pryor</td>
      <td> Dem</td>
    </tr>
    <tr>
      <th>2 </th>
      <td> MI</td>
      <td>      Land</td>
      <td>      Peters</td>
      <td> NaN</td>
    </tr>
    <tr>
      <th>3 </th>
      <td> LA</td>
      <td>   Cassidy</td>
      <td>    Landrieu</td>
      <td> Dem</td>
    </tr>
    <tr>
      <th>4 </th>
      <td> NH</td>
      <td>     Brown</td>
      <td>     Shaheen</td>
      <td> Dem</td>
    </tr>
    <tr>
      <th>5 </th>
      <td> WV</td>
      <td>    Capito</td>
      <td>     Tennant</td>
      <td> NaN</td>
    </tr>
    <tr>
      <th>6 </th>
      <td> NC</td>
      <td>    Tillis</td>
      <td>       Hagan</td>
      <td> Dem</td>
    </tr>
    <tr>
      <th>7 </th>
      <td> VA</td>
      <td> Gillespie</td>
      <td>      Warner</td>
      <td> Dem</td>
    </tr>
    <tr>
      <th>8 </th>
      <td> CO</td>
      <td>   Gardner</td>
      <td>       Udall</td>
      <td> Dem</td>
    </tr>
    <tr>
      <th>9 </th>
      <td> IL</td>
      <td>  Oberweis</td>
      <td>      Durbin</td>
      <td> Dem</td>
    </tr>
    <tr>
      <th>10</th>
      <td> AK</td>
      <td>  Sullivan</td>
      <td>      Begich</td>
      <td> Dem</td>
    </tr>
    <tr>
      <th>11</th>
      <td> IA</td>
      <td>     Ernst</td>
      <td>      Braley</td>
      <td> NaN</td>
    </tr>
    <tr>
      <th>12</th>
      <td> MS</td>
      <td>   Cochran</td>
      <td>    Childers</td>
      <td> Rep</td>
    </tr>
    <tr>
      <th>13</th>
      <td> OR</td>
      <td>     Wehby</td>
      <td>     Merkley</td>
      <td> Dem</td>
    </tr>
    <tr>
      <th>14</th>
      <td> GA</td>
      <td>    Perdue</td>
      <td>        Nunn</td>
      <td> NaN</td>
    </tr>
    <tr>
      <th>15</th>
      <td> NE</td>
      <td>     Sasse</td>
      <td>      Domina</td>
      <td> NaN</td>
    </tr>
    <tr>
      <th>16</th>
      <td> SD</td>
      <td>    Rounds</td>
      <td>     Weiland</td>
      <td> NaN</td>
    </tr>
    <tr>
      <th>17</th>
      <td> ME</td>
      <td>   Collins</td>
      <td>     Bellows</td>
      <td> Rep</td>
    </tr>
    <tr>
      <th>18</th>
      <td> MN</td>
      <td>  McFadden</td>
      <td>     Franken</td>
      <td> Dem</td>
    </tr>
    <tr>
      <th>19</th>
      <td> TX</td>
      <td>    Cornyn</td>
      <td>     Alameel</td>
      <td> Rep</td>
    </tr>
    <tr>
      <th>20</th>
      <td> SC</td>
      <td>    Graham</td>
      <td>       Hutto</td>
      <td> Rep</td>
    </tr>
    <tr>
      <th>21</th>
      <td> SC</td>
      <td>     Scott</td>
      <td>   Dickerson</td>
      <td> Rep</td>
    </tr>
    <tr>
      <th>22</th>
      <td> OK</td>
      <td>    Inhofe</td>
      <td> Silverstein</td>
      <td> Rep</td>
    </tr>
    <tr>
      <th>23</th>
      <td> NM</td>
      <td>       Weh</td>
      <td>       Udall</td>
      <td> Dem</td>
    </tr>
    <tr>
      <th>24</th>
      <td> NJ</td>
      <td>      Bell</td>
      <td>      Booker</td>
      <td> Dem</td>
    </tr>
    <tr>
      <th>25</th>
      <td> ID</td>
      <td>     Risch</td>
      <td>    Mitchell</td>
      <td> Rep</td>
    </tr>
    <tr>
      <th>26</th>
      <td> TN</td>
      <td> Alexander</td>
      <td>        Ball</td>
      <td> Rep</td>
    </tr>
    <tr>
      <th>27</th>
      <td> WY</td>
      <td>      Enzi</td>
      <td>       Hardy</td>
      <td> Rep</td>
    </tr>
    <tr>
      <th>28</th>
      <td> KS</td>
      <td>   Roberts</td>
      <td>       Orman</td>
      <td> Rep</td>
    </tr>
    <tr>
      <th>29</th>
      <td> HI</td>
      <td>   Cavasso</td>
      <td>      Schatz</td>
      <td> Dem</td>
    </tr>
    <tr>
      <th>30</th>
      <td> OK</td>
      <td>  Lankford</td>
      <td>     Johnson</td>
      <td> NaN</td>
    </tr>
    <tr>
      <th>31</th>
      <td> MT</td>
      <td>    Daines</td>
      <td>      Curtis</td>
      <td> NaN</td>
    </tr>
    <tr>
      <th>32</th>
      <td> RI</td>
      <td>  Zaccaria</td>
      <td>        Reed</td>
      <td> Dem</td>
    </tr>
    <tr>
      <th>33</th>
      <td> MA</td>
      <td>      Herr</td>
      <td>      Markey</td>
      <td> Dem</td>
    </tr>
    <tr>
      <th>34</th>
      <td> DE</td>
      <td>      Wade</td>
      <td>       Coons</td>
      <td> Dem</td>
    </tr>
  </tbody>
</table>
</div>
</div>

</div>

</div>
</div>

</div>
<div class="cell border-box-sizing text_cell rendered"><div class="prompt input_prompt">
</div>
<div class="inner_cell">
<div class="text_cell_render border-box-sizing rendered_html">
<h2 id="Problem-2:-Confidence-Intervals">Problem 2: Confidence Intervals<a class="anchor-link" href="#Problem-2:-Confidence-Intervals">&#182;</a></h2><p>Compute a 99% confidence interval for each state.</p>

</div>
</div>
</div>
<div class="cell border-box-sizing text_cell rendered"><div class="prompt input_prompt">
</div>
<div class="inner_cell">
<div class="text_cell_render border-box-sizing rendered_html">
<h4 id="Problem-2(a)">Problem 2(a)<a class="anchor-link" href="#Problem-2(a)">&#182;</a></h4><p>Assume you have $M$ polls with sample sizes $n_1, \dots, n_M$. If the polls are independent, what is the average of the variances of each poll if the true proportion is $p$?</p>

</div>
</div>
</div>
<div class="cell border-box-sizing text_cell rendered"><div class="prompt input_prompt">
</div>
<div class="inner_cell">
<div class="text_cell_render border-box-sizing rendered_html">
<p><strong> Your answer here: </strong></p>
<p>The variance of a single poll with sample $n_i$ is $Var(X_i) = \frac{p(1-p)}{n_i}$. Therefore, the average of the variances across $M$ polls is</p>
$$ \frac{1}{M} \sum_{i=1}^M Var( {X}_i) = \frac{1}{M} p(1-p)(1/n_1 + \dots +1/n_M) $$
</div>
</div>
</div>
<div class="cell border-box-sizing text_cell rendered"><div class="prompt input_prompt">
</div>
<div class="inner_cell">
<div class="text_cell_render border-box-sizing rendered_html">
<h4 id="Problem-2(b)">Problem 2(b)<a class="anchor-link" href="#Problem-2(b)">&#182;</a></h4><p>Compute the square root of these values in Problem 2(a) for the republican candidates in each race. Then, compute the standard deviations of the observed poll results for each race.</p>

</div>
</div>
</div>
<div class="cell border-box-sizing code_cell rendered">
<div class="input">
<div class="prompt input_prompt">In&nbsp;[14]:</div>
<div class="inner_cell">
    <div class="input_area">
<div class=" highlight hl-ipython3"><pre><span></span><span class="kn">import</span> <span class="nn">datetime</span>

<span class="k">def</span> <span class="nf">calc_sds</span><span class="p">(</span><span class="n">infoClean</span><span class="p">,</span> <span class="n">polls</span><span class="p">,</span> <span class="n">numdays</span><span class="o">=</span><span class="kc">None</span><span class="p">):</span>
    <span class="n">theo_sds</span> <span class="o">=</span> <span class="p">[]</span>
    <span class="n">obs_sds</span> <span class="o">=</span> <span class="p">[]</span>
    <span class="n">npolls</span> <span class="o">=</span> <span class="p">[]</span>
    <span class="k">for</span> <span class="n">ii</span><span class="p">,</span><span class="n">election</span> <span class="ow">in</span> <span class="nb">enumerate</span><span class="p">(</span><span class="n">infoClean</span><span class="p">):</span>
        <span class="c1">#Note that the `polls` dictionary does not have a guaranteed ordering</span>
        <span class="c1">#because Python dictionaries are unordered object. For this reason, we</span>
        <span class="c1">#need to be careful and use the ordered `infoClean` object to make sure we</span>
        <span class="c1">#are correctly aligning the elements of `polls` and the rows in `candidates`.</span>
        <span class="n">polls_key</span> <span class="o">=</span> <span class="n">election</span><span class="p">[</span><span class="s1">&#39;slug&#39;</span><span class="p">]</span>
        <span class="n">this_election</span> <span class="o">=</span> <span class="n">polls</span><span class="p">[</span><span class="n">polls_key</span><span class="p">]</span>
        
        <span class="c1">#Optional argument to filter on age of polls.</span>
        <span class="k">if</span> <span class="n">numdays</span> <span class="ow">is</span> <span class="ow">not</span> <span class="kc">None</span><span class="p">:</span>
            <span class="n">monthdiff</span> <span class="o">=</span> <span class="n">this_election</span><span class="p">[</span><span class="s1">&#39;End Date&#39;</span><span class="p">]</span><span class="o">.</span><span class="n">apply</span><span class="p">(</span><span class="k">lambda</span> <span class="n">x</span><span class="p">:</span> <span class="p">(</span><span class="n">datetime</span><span class="o">.</span><span class="n">datetime</span><span class="o">.</span><span class="n">now</span><span class="p">()</span><span class="o">-</span><span class="n">x</span><span class="p">)</span><span class="o">.</span><span class="n">days</span><span class="p">)</span>
            <span class="n">this_election</span> <span class="o">=</span> <span class="n">this_election</span><span class="o">.</span><span class="n">ix</span><span class="p">[</span><span class="n">monthdiff</span> <span class="o">&lt;=</span> <span class="n">numdays</span><span class="p">,:]</span>
            
        <span class="n">npoll</span> <span class="o">=</span> <span class="n">this_election</span><span class="o">.</span><span class="n">shape</span><span class="p">[</span><span class="mi">0</span><span class="p">]</span>

        <span class="c1">#Use the candidates dataframe to find the name of the Republican in this race.</span>
        <span class="c1">#Use this to grab the column of polling results for this candidate.</span>
        <span class="c1">#Put poll results onto the proportion (not percentage) scale</span>
        <span class="n">p</span> <span class="o">=</span> <span class="n">this_election</span><span class="p">[</span><span class="n">candidates</span><span class="o">.</span><span class="n">R</span><span class="o">.</span><span class="n">ix</span><span class="p">[</span><span class="n">ii</span><span class="p">]]</span><span class="o">/</span><span class="mi">100</span>
        <span class="n">n</span> <span class="o">=</span> <span class="n">this_election</span><span class="p">[</span><span class="s2">&quot;Number of Observations&quot;</span><span class="p">]</span>

        <span class="c1">#Theoretical sd assumes a common value of p across all polls. Use the mean.</span>
        <span class="n">p_mean</span> <span class="o">=</span> <span class="n">np</span><span class="o">.</span><span class="n">mean</span><span class="p">(</span><span class="n">p</span><span class="p">)</span>
        <span class="n">theo_sd</span> <span class="o">=</span> <span class="n">np</span><span class="o">.</span><span class="n">sqrt</span><span class="p">(</span><span class="n">p_mean</span><span class="o">*</span><span class="p">(</span><span class="mi">1</span><span class="o">-</span><span class="n">p_mean</span><span class="p">)</span><span class="o">*</span><span class="n">np</span><span class="o">.</span><span class="n">mean</span><span class="p">(</span><span class="mf">1.</span><span class="o">/</span><span class="n">n</span><span class="p">))</span>

        <span class="c1">#Observed sd is a simple calculation.</span>
        <span class="n">obs_sd</span> <span class="o">=</span> <span class="n">np</span><span class="o">.</span><span class="n">std</span><span class="p">(</span><span class="n">p</span><span class="p">)</span>

        <span class="n">theo_sds</span><span class="o">.</span><span class="n">append</span><span class="p">(</span><span class="n">theo_sd</span><span class="p">)</span>
        <span class="n">obs_sds</span><span class="o">.</span><span class="n">append</span><span class="p">(</span><span class="n">obs_sd</span><span class="p">)</span>
        <span class="n">npolls</span><span class="o">.</span><span class="n">append</span><span class="p">(</span><span class="n">npoll</span><span class="p">)</span>
        
    <span class="k">return</span> <span class="p">(</span><span class="n">theo_sds</span><span class="p">,</span> <span class="n">obs_sds</span><span class="p">,</span> <span class="n">npolls</span><span class="p">)</span>

<span class="n">theo</span><span class="p">,</span> <span class="n">obs</span><span class="p">,</span> <span class="n">npolls</span> <span class="o">=</span> <span class="n">calc_sds</span><span class="p">(</span><span class="n">infoClean</span><span class="p">,</span> <span class="n">polls</span><span class="p">)</span>
</pre></div>

</div>
</div>
</div>

</div>
<div class="cell border-box-sizing text_cell rendered"><div class="prompt input_prompt">
</div>
<div class="inner_cell">
<div class="text_cell_render border-box-sizing rendered_html">
<h4 id="Problem-2(c)">Problem 2(c)<a class="anchor-link" href="#Problem-2(c)">&#182;</a></h4><p>Plot observed versus theoretical (average of the theoretical SDs) with the area of the point proportional to number of polls. How do these compare?</p>

</div>
</div>
</div>
<div class="cell border-box-sizing code_cell rendered">
<div class="input">
<div class="prompt input_prompt">In&nbsp;[15]:</div>
<div class="inner_cell">
    <div class="input_area">
<div class=" highlight hl-ipython3"><pre><span></span><span class="c1">#Grab the poll count from the infoClean object.</span>
<span class="n">plt</span><span class="o">.</span><span class="n">scatter</span><span class="p">(</span><span class="n">theo</span><span class="p">,</span> <span class="n">obs</span><span class="p">,</span> <span class="n">marker</span><span class="o">=</span><span class="s2">&quot;o&quot;</span><span class="p">,</span> <span class="n">s</span><span class="o">=</span><span class="n">npolls</span><span class="o">*</span><span class="mi">10</span><span class="p">)</span>
<span class="n">plt</span><span class="o">.</span><span class="n">xlabel</span><span class="p">(</span><span class="s2">&quot;Theoretical Standard Deviation&quot;</span><span class="p">)</span>
<span class="n">plt</span><span class="o">.</span><span class="n">ylabel</span><span class="p">(</span><span class="s2">&quot;Observed Standard Deviation&quot;</span><span class="p">)</span>
<span class="n">plt</span><span class="o">.</span><span class="n">title</span><span class="p">(</span><span class="s2">&quot;Observed vs Theoretical Polling SD&#39;s&quot;</span><span class="p">)</span>

<span class="n">currentx</span> <span class="o">=</span> <span class="n">plt</span><span class="o">.</span><span class="n">xlim</span><span class="p">()</span>
<span class="n">currenty</span> <span class="o">=</span> <span class="n">plt</span><span class="o">.</span><span class="n">ylim</span><span class="p">()</span>
<span class="n">plt</span><span class="o">.</span><span class="n">plot</span><span class="p">((</span><span class="mi">0</span><span class="p">,</span><span class="mi">1</span><span class="p">),(</span><span class="mi">0</span><span class="p">,</span><span class="mi">1</span><span class="p">),</span> <span class="n">c</span><span class="o">=</span><span class="s1">&#39;black&#39;</span><span class="p">,</span> <span class="n">linewidth</span><span class="o">=</span><span class="mi">1</span><span class="p">)</span>
<span class="n">plt</span><span class="o">.</span><span class="n">xlim</span><span class="p">(</span><span class="n">currentx</span><span class="p">)</span>
<span class="n">plt</span><span class="o">.</span><span class="n">ylim</span><span class="p">(</span><span class="n">currenty</span><span class="p">)</span>
<span class="n">plt</span><span class="o">.</span><span class="n">show</span><span class="p">()</span>
</pre></div>

</div>
</div>
</div>

<div class="output_wrapper">
<div class="output">


<div class="output_area">

<div class="prompt"></div>




<div class="output_png output_subarea ">
<img src="data:image/png;base64,iVBORw0KGgoAAAANSUhEUgAAAnkAAAGRCAYAAAAZ9qXTAAAABHNCSVQICAgIfAhkiAAAAAlwSFlz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"
>
</div>

</div>

</div>
</div>

</div>
<div class="cell border-box-sizing text_cell rendered"><div class="prompt input_prompt">
</div>
<div class="inner_cell">
<div class="text_cell_render border-box-sizing rendered_html">
<p><strong> Your answer here: </strong></p>
<p>Observed sd's are much larger than theoretical sd's. The overshoot is particularly large when there are large numbers of polls, suggesting that there is variation between pollsters that is not explained by the theoretical model.</p>

</div>
</div>
</div>
<div class="cell border-box-sizing text_cell rendered"><div class="prompt input_prompt">
</div>
<div class="inner_cell">
<div class="text_cell_render border-box-sizing rendered_html">
<h4 id="Problem-2(d)">Problem 2(d)<a class="anchor-link" href="#Problem-2(d)">&#182;</a></h4><p>Repeat Problem 2(c) but include only the most recent polls from the last two months. Do they match better or worse or the same? Can we just trust the theoretical values?</p>

</div>
</div>
</div>
<div class="cell border-box-sizing code_cell rendered">
<div class="input">
<div class="prompt input_prompt">In&nbsp;[16]:</div>
<div class="inner_cell">
    <div class="input_area">
<div class=" highlight hl-ipython3"><pre><span></span><span class="c1">### Your code here ###</span>
<span class="c1"># Use the `calc_sds` optional argument to filter on number of days.</span>
<span class="c1"># Filter to 60 days.</span>

<span class="n">theo</span><span class="p">,</span> <span class="n">obs</span><span class="p">,</span> <span class="n">npolls</span> <span class="o">=</span> <span class="n">calc_sds</span><span class="p">(</span><span class="n">infoClean</span><span class="p">,</span> <span class="n">polls</span><span class="p">,</span> <span class="mi">60</span><span class="p">)</span>
<span class="n">plt</span><span class="o">.</span><span class="n">scatter</span><span class="p">(</span><span class="n">theo</span><span class="p">,</span> <span class="n">obs</span><span class="p">,</span> <span class="n">marker</span><span class="o">=</span><span class="s2">&quot;o&quot;</span><span class="p">,</span> <span class="n">s</span><span class="o">=</span><span class="n">npolls</span><span class="o">*</span><span class="mi">10</span><span class="p">)</span>
<span class="n">plt</span><span class="o">.</span><span class="n">xlabel</span><span class="p">(</span><span class="s2">&quot;Theoretical Standard Deviation&quot;</span><span class="p">)</span>
<span class="n">plt</span><span class="o">.</span><span class="n">ylabel</span><span class="p">(</span><span class="s2">&quot;Observed Standard Deviation&quot;</span><span class="p">)</span>
<span class="n">plt</span><span class="o">.</span><span class="n">title</span><span class="p">(</span><span class="s2">&quot;Observed vs Theoretical Polling SD&#39;s, Last 60 days&quot;</span><span class="p">)</span>

<span class="n">currentx</span> <span class="o">=</span> <span class="n">plt</span><span class="o">.</span><span class="n">xlim</span><span class="p">()</span>
<span class="n">currenty</span> <span class="o">=</span> <span class="n">plt</span><span class="o">.</span><span class="n">ylim</span><span class="p">()</span>
<span class="n">plt</span><span class="o">.</span><span class="n">plot</span><span class="p">((</span><span class="mi">0</span><span class="p">,</span><span class="mi">1</span><span class="p">),(</span><span class="mi">0</span><span class="p">,</span><span class="mi">1</span><span class="p">),</span> <span class="n">c</span><span class="o">=</span><span class="s1">&#39;black&#39;</span><span class="p">,</span> <span class="n">linewidth</span><span class="o">=</span><span class="mi">1</span><span class="p">)</span>
<span class="n">plt</span><span class="o">.</span><span class="n">xlim</span><span class="p">(</span><span class="n">currentx</span><span class="p">)</span>
<span class="n">plt</span><span class="o">.</span><span class="n">ylim</span><span class="p">(</span><span class="n">currenty</span><span class="p">)</span>
<span class="n">plt</span><span class="o">.</span><span class="n">show</span><span class="p">()</span>
</pre></div>

</div>
</div>
</div>

<div class="output_wrapper">
<div class="output">


<div class="output_area">

<div class="prompt"></div>




<div class="output_png output_subarea ">
<img src="data:image/png;base64,iVBORw0KGgoAAAANSUhEUgAAAnoAAAGSCAYAAAB0VWx+AAAABHNCSVQICAgIfAhkiAAAAAlwSFlz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"
>
</div>

</div>

</div>
</div>

</div>
<div class="cell border-box-sizing text_cell rendered"><div class="prompt input_prompt">
</div>
<div class="inner_cell">
<div class="text_cell_render border-box-sizing rendered_html">
<p><strong> Your answer here: </strong></p>
<p>The gap between theoretical and observed does not seem to decrease as we focus on more recent polls. This suggests that the excess variation in the data with respect to the theoretical model is not explained by opinion shifts over time. It is more likely that this is due to differences between pollsters, which are time-invariant.</p>

</div>
</div>
</div>
<div class="cell border-box-sizing text_cell rendered"><div class="prompt input_prompt">
</div>
<div class="inner_cell">
<div class="text_cell_render border-box-sizing rendered_html">
<h4 id="Problem-2(e)">Problem 2(e)<a class="anchor-link" href="#Problem-2(e)">&#182;</a></h4><p>Create a scatter plot with each point representing one state. Is there one or more races that are outlier in that it they have much larger variabilities than expected? Explore the original poll data and explain why the discrepancy?</p>

</div>
</div>
</div>
<div class="cell border-box-sizing code_cell rendered">
<div class="input">
<div class="prompt input_prompt">In&nbsp;[17]:</div>
<div class="inner_cell">
    <div class="input_area">
<div class=" highlight hl-ipython3"><pre><span></span><span class="c1">### Your code here ###</span>
<span class="c1">#Compute the standard deviations on the full data again.</span>
<span class="n">theo</span><span class="p">,</span> <span class="n">obs</span><span class="p">,</span> <span class="n">npolls</span> <span class="o">=</span> <span class="n">calc_sds</span><span class="p">(</span><span class="n">infoClean</span><span class="p">,</span> <span class="n">polls</span><span class="p">)</span>

<span class="c1">#This time, do the scatterplot using text labels on each datapoint.</span>
<span class="n">plt</span><span class="o">.</span><span class="n">scatter</span><span class="p">(</span><span class="n">theo</span><span class="p">,</span> <span class="n">obs</span><span class="p">,</span> <span class="n">marker</span><span class="o">=</span><span class="s2">&quot;o&quot;</span><span class="p">,</span> <span class="n">s</span><span class="o">=</span><span class="mi">0</span><span class="p">)</span>
<span class="n">plt</span><span class="o">.</span><span class="n">xlabel</span><span class="p">(</span><span class="s2">&quot;Theoretical Standard Deviation&quot;</span><span class="p">)</span>
<span class="n">plt</span><span class="o">.</span><span class="n">ylabel</span><span class="p">(</span><span class="s2">&quot;Observed Standard Deviation&quot;</span><span class="p">)</span>
<span class="n">plt</span><span class="o">.</span><span class="n">title</span><span class="p">(</span><span class="s2">&quot;Observed vs Theoretical Polling SD&#39;s&quot;</span><span class="p">)</span>

<span class="k">for</span> <span class="n">i</span> <span class="ow">in</span> <span class="nb">range</span><span class="p">(</span><span class="nb">len</span><span class="p">(</span><span class="n">theo</span><span class="p">)):</span>
    <span class="n">plt</span><span class="o">.</span><span class="n">text</span><span class="p">(</span><span class="n">theo</span><span class="p">[</span><span class="n">i</span><span class="p">],</span> <span class="n">obs</span><span class="p">[</span><span class="n">i</span><span class="p">],</span> <span class="n">candidates</span><span class="o">.</span><span class="n">ix</span><span class="p">[</span><span class="n">i</span><span class="p">,</span><span class="s1">&#39;State&#39;</span><span class="p">])</span>

<span class="n">currentx</span> <span class="o">=</span> <span class="n">plt</span><span class="o">.</span><span class="n">xlim</span><span class="p">()</span>
<span class="n">currenty</span> <span class="o">=</span> <span class="n">plt</span><span class="o">.</span><span class="n">ylim</span><span class="p">()</span>
<span class="n">plt</span><span class="o">.</span><span class="n">plot</span><span class="p">((</span><span class="mi">0</span><span class="p">,</span><span class="mi">1</span><span class="p">),(</span><span class="mi">0</span><span class="p">,</span><span class="mi">1</span><span class="p">),</span> <span class="n">c</span><span class="o">=</span><span class="s1">&#39;black&#39;</span><span class="p">,</span> <span class="n">linewidth</span><span class="o">=</span><span class="mi">1</span><span class="p">)</span>
<span class="n">plt</span><span class="o">.</span><span class="n">xlim</span><span class="p">(</span><span class="n">currentx</span><span class="p">)</span>
<span class="n">plt</span><span class="o">.</span><span class="n">ylim</span><span class="p">(</span><span class="n">currenty</span><span class="p">)</span>
<span class="n">plt</span><span class="o">.</span><span class="n">show</span><span class="p">()</span>
</pre></div>

</div>
</div>
</div>

<div class="output_wrapper">
<div class="output">


<div class="output_area">

<div class="prompt"></div>




<div class="output_png output_subarea ">
<img src="data:image/png;base64,iVBORw0KGgoAAAANSUhEUgAAAnkAAAGRCAYAAAAZ9qXTAAAABHNCSVQICAgIfAhkiAAAAAlwSFlz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"
>
</div>

</div>

</div>
</div>

</div>
<div class="cell border-box-sizing text_cell rendered"><div class="prompt input_prompt">
</div>
<div class="inner_cell">
<div class="text_cell_render border-box-sizing rendered_html">
<p><strong> Your answer here: </strong></p>
<p>Texas appears to be the biggest outlier.</p>

</div>
</div>
</div>
<div class="cell border-box-sizing text_cell rendered"><div class="prompt input_prompt">
</div>
<div class="inner_cell">
<div class="text_cell_render border-box-sizing rendered_html">
<h4 id="Problem-2(f)">Problem 2(f)<a class="anchor-link" href="#Problem-2(f)">&#182;</a></h4><p>Construct confidence intervals for the difference in each race. Use either theoretical or data driven estimates of the standard error depending on your answer to this question. Use the results in Problem 2(e), to justify your choice.</p>

</div>
</div>
</div>
<div class="cell border-box-sizing code_cell rendered">
<div class="input">
<div class="prompt input_prompt">In&nbsp;[18]:</div>
<div class="inner_cell">
    <div class="input_area">
<div class=" highlight hl-ipython3"><pre><span></span><span class="c1">### Your code here ###</span>
<span class="c1"># this is mean +- 2.58 SD also save this results to candidate df</span>
<span class="k">def</span> <span class="nf">calc_diffs</span><span class="p">(</span><span class="n">infoClean</span><span class="p">,</span> <span class="n">polls</span><span class="p">,</span> <span class="n">numdays</span><span class="o">=</span><span class="kc">None</span><span class="p">):</span>
    <span class="n">rows</span> <span class="o">=</span> <span class="p">[]</span>
    <span class="k">for</span> <span class="n">ii</span><span class="p">,</span><span class="n">election</span> <span class="ow">in</span> <span class="nb">enumerate</span><span class="p">(</span><span class="n">infoClean</span><span class="p">):</span>
        <span class="c1">#Note that the `polls` dictionary does not have a guaranteed ordering</span>
        <span class="c1">#because Python dictionaries are unordered object. For this reason, we</span>
        <span class="c1">#need to be careful and use the ordered `infoClean` object to make sure we</span>
        <span class="c1">#are correctly aligning the elements of `polls` and the rows in `candidates`.</span>
        <span class="n">polls_key</span> <span class="o">=</span> <span class="n">election</span><span class="p">[</span><span class="s1">&#39;slug&#39;</span><span class="p">]</span>
        <span class="n">this_election</span> <span class="o">=</span> <span class="n">polls</span><span class="p">[</span><span class="n">polls_key</span><span class="p">]</span>
            
        <span class="n">npoll</span> <span class="o">=</span> <span class="n">this_election</span><span class="o">.</span><span class="n">shape</span><span class="p">[</span><span class="mi">0</span><span class="p">]</span>

        <span class="c1">#Use the candidates dataframe to find the name of the Republican in this race.</span>
        <span class="c1">#Use this to grab the column of polling results for this candidate.</span>
        <span class="c1">#Put poll results onto the proportion (not percentage) scale</span>
        <span class="n">diffs</span> <span class="o">=</span> <span class="p">(</span><span class="n">this_election</span><span class="p">[</span><span class="n">candidates</span><span class="o">.</span><span class="n">R</span><span class="o">.</span><span class="n">ix</span><span class="p">[</span><span class="n">ii</span><span class="p">]]</span><span class="o">-</span><span class="n">this_election</span><span class="p">[</span><span class="n">candidates</span><span class="o">.</span><span class="n">D</span><span class="o">.</span><span class="n">ix</span><span class="p">[</span><span class="n">ii</span><span class="p">]])</span><span class="o">/</span><span class="mi">100</span>
        
        <span class="n">mean_diff</span> <span class="o">=</span> <span class="n">np</span><span class="o">.</span><span class="n">mean</span><span class="p">(</span><span class="n">diffs</span><span class="p">)</span>
        <span class="n">obs_se</span> <span class="o">=</span> <span class="n">np</span><span class="o">.</span><span class="n">std</span><span class="p">(</span><span class="n">diffs</span><span class="p">)</span><span class="o">/</span><span class="n">np</span><span class="o">.</span><span class="n">sqrt</span><span class="p">(</span><span class="n">npoll</span><span class="p">)</span>
        
        <span class="n">rows</span><span class="o">.</span><span class="n">append</span><span class="p">((</span><span class="n">polls_key</span><span class="p">,</span> <span class="n">mean_diff</span><span class="p">,</span> <span class="n">obs_se</span><span class="p">,</span> <span class="n">mean_diff</span><span class="o">-</span><span class="n">obs_se</span><span class="o">*</span><span class="mf">2.58</span><span class="p">,</span> <span class="n">mean_diff</span><span class="o">+</span><span class="n">obs_se</span><span class="o">*</span><span class="mf">2.58</span><span class="p">))</span>

    <span class="k">return</span> <span class="n">rows</span>

<span class="n">ests</span> <span class="o">=</span> <span class="n">pd</span><span class="o">.</span><span class="n">DataFrame</span><span class="p">(</span><span class="n">calc_diffs</span><span class="p">(</span><span class="n">infoClean</span><span class="p">,</span> <span class="n">polls</span><span class="p">),</span> <span class="n">columns</span><span class="o">=</span><span class="p">[</span><span class="s1">&#39;race&#39;</span><span class="p">,</span> <span class="s1">&#39;mean&#39;</span><span class="p">,</span> <span class="s1">&#39;se&#39;</span><span class="p">,</span> <span class="s1">&#39;lower&#39;</span><span class="p">,</span> <span class="s1">&#39;upper&#39;</span><span class="p">])</span>
<span class="nb">print</span> <span class="s2">&quot;Unsorted:&quot;</span>
<span class="nb">print</span> <span class="n">ests</span><span class="p">[[</span><span class="s1">&#39;race&#39;</span><span class="p">,</span> <span class="s1">&#39;lower&#39;</span><span class="p">,</span> <span class="s1">&#39;upper&#39;</span><span class="p">]]</span>
<span class="n">ests</span><span class="o">.</span><span class="n">sort</span><span class="p">(</span><span class="s2">&quot;mean&quot;</span><span class="p">,</span> <span class="n">inplace</span><span class="o">=</span><span class="kc">True</span><span class="p">)</span>
<span class="nb">print</span> <span class="s2">&quot;Sorted:&quot;</span>
<span class="nb">print</span> <span class="n">ests</span><span class="p">[[</span><span class="s1">&#39;race&#39;</span><span class="p">,</span> <span class="s1">&#39;lower&#39;</span><span class="p">,</span> <span class="s1">&#39;upper&#39;</span><span class="p">]]</span>

<span class="n">plt</span><span class="o">.</span><span class="n">errorbar</span><span class="p">(</span><span class="nb">range</span><span class="p">(</span><span class="n">ests</span><span class="o">.</span><span class="n">shape</span><span class="p">[</span><span class="mi">0</span><span class="p">]),</span> <span class="n">ests</span><span class="p">[</span><span class="s1">&#39;mean&#39;</span><span class="p">],</span> <span class="n">yerr</span><span class="o">=</span><span class="n">ests</span><span class="p">[</span><span class="s1">&#39;se&#39;</span><span class="p">]</span><span class="o">*</span><span class="mf">2.58</span><span class="p">,</span> <span class="n">fmt</span><span class="o">=</span><span class="s1">&#39;o&#39;</span><span class="p">)</span>
<span class="n">plt</span><span class="o">.</span><span class="n">xticks</span><span class="p">(</span><span class="nb">range</span><span class="p">(</span><span class="n">ests</span><span class="o">.</span><span class="n">shape</span><span class="p">[</span><span class="mi">0</span><span class="p">]),</span> <span class="n">ests</span><span class="p">[</span><span class="s1">&#39;race&#39;</span><span class="p">]</span><span class="o">.</span><span class="n">values</span><span class="p">,</span> <span class="n">rotation</span><span class="o">=</span><span class="mi">90</span><span class="p">)</span>
<span class="n">plt</span><span class="o">.</span><span class="n">xlim</span><span class="p">(</span><span class="o">-</span><span class="mi">1</span><span class="p">,</span> <span class="n">ests</span><span class="o">.</span><span class="n">shape</span><span class="p">[</span><span class="mi">0</span><span class="p">])</span>
<span class="n">plt</span><span class="o">.</span><span class="n">axhline</span><span class="p">(</span><span class="mi">0</span><span class="p">,</span> <span class="n">linewidth</span><span class="o">=</span><span class="mi">1</span><span class="p">,</span> <span class="n">color</span><span class="o">=</span><span class="s1">&#39;black&#39;</span><span class="p">)</span>
<span class="n">plt</span><span class="o">.</span><span class="n">xlabel</span><span class="p">(</span><span class="s2">&quot;Race&quot;</span><span class="p">)</span>
<span class="n">plt</span><span class="o">.</span><span class="n">ylabel</span><span class="p">(</span><span class="s2">&quot;Difference&quot;</span><span class="p">)</span>
<span class="n">plt</span><span class="o">.</span><span class="n">title</span><span class="p">(</span><span class="s2">&quot;99% Confidence intervals for Diff (Rep-Dem) for each race&quot;</span><span class="p">)</span>
<span class="n">plt</span><span class="o">.</span><span class="n">show</span><span class="p">()</span>
</pre></div>

</div>
</div>
</div>

<div class="output_wrapper">
<div class="output">


<div class="output_area">

<div class="prompt"></div>


<div class="output_subarea output_stream output_stdout output_text">
<pre>Unsorted:
                                             race     lower     upper
0        2014-kentucky-senate-mcconnell-vs-grimes  0.017166  0.042834
1            2014-arkansas-senate-cotton-vs-pryor -0.001097  0.031261
2             2014-michigan-senate-land-vs-peters -0.072256 -0.038047
3       2014-louisiana-senate-cassidy-vs-landrieu -0.011521  0.033946
4      2014-new-hampshire-senate-brown-vs-shaheen -0.070720 -0.040946
5     2014-west-virginia-senate-capito-vs-tennant  0.100469  0.180960
6      2014-north-carolina-senate-tillis-vs-hagan -0.037714 -0.014019
7        2014-virginia-senate-gillespie-vs-warner -0.190260 -0.118831
8           2014-colorado-senate-gardner-vs-udall -0.007714  0.018825
9         2014-illinois-senate-oberweis-vs-durbin -0.150401 -0.097599
10          2014-alaska-senate-sullivan-vs-begich -0.028545  0.020309
11               2014-iowa-senate-ernst-vs-braley -0.015953  0.014471
12    2014-mississippi-senate-cochran-vs-childers  0.125796  0.184204
13            2014-oregon-senate-wehby-vs-merkley -0.171230 -0.095086
14             2014-georgia-senate-perdue-vs-nunn  0.001064  0.032127
15           2014-nebraska-senate-sasse-vs-domina  0.204777  0.285223
16     2014-south-dakota-senate-rounds-vs-weiland  0.100054  0.159946
17           2014-maine-senate-collins-vs-bellows  0.265348  0.382152
18      2014-minnesota-senate-mcfadden-vs-franken -0.128527 -0.087473
19            2014-texas-senate-cornyn-vs-alameel  0.158357  0.226087
20     2014-south-carolina-senate-graham-vs-hutto  0.127196  0.172804
21  2014-south-carolina-senate-scott-vs-dickerson  0.168389  0.261611
22     2014-oklahoma-senate-inhofe-vs-silverstein  0.275750  0.390917
23            2014-new-mexico-senate-weh-vs-udall -0.182630 -0.109036
24          2014-new-jersey-senate-bell-vs-booker -0.168230 -0.113199
25            2014-idaho-senate-risch-vs-mitchell  0.230231  0.366436
26        2014-tennessee-senate-alexander-vs-ball  0.144901  0.235099
27                            2014-wyoming-senate  0.362462  0.533538
28  2014-kansas-senate-roberts-vs-orman-vs-taylor -0.035758  0.065758
29           2014-hawaii-senate-cavasso-vs-schatz -0.493233 -0.314267
30       2014-oklahoma-senate-lankford-vs-johnson  0.261152  0.375514
31           2014-montana-senate-daines-vs-curtis  0.144632  0.198225
32      2014-rhode-island-senate-zaccaria-vs-reed -0.479570 -0.230430
33       2014-massachusetts-senate-herr-vs-markey -0.253322 -0.195908
34             2014-delaware-senate-wade-vs-coons -0.221629 -0.126371
Sorted:
                                             race     lower     upper
29           2014-hawaii-senate-cavasso-vs-schatz -0.493233 -0.314267
32      2014-rhode-island-senate-zaccaria-vs-reed -0.479570 -0.230430
33       2014-massachusetts-senate-herr-vs-markey -0.253322 -0.195908
34             2014-delaware-senate-wade-vs-coons -0.221629 -0.126371
7        2014-virginia-senate-gillespie-vs-warner -0.190260 -0.118831
23            2014-new-mexico-senate-weh-vs-udall -0.182630 -0.109036
24          2014-new-jersey-senate-bell-vs-booker -0.168230 -0.113199
13            2014-oregon-senate-wehby-vs-merkley -0.171230 -0.095086
9         2014-illinois-senate-oberweis-vs-durbin -0.150401 -0.097599
18      2014-minnesota-senate-mcfadden-vs-franken -0.128527 -0.087473
4      2014-new-hampshire-senate-brown-vs-shaheen -0.070720 -0.040946
2             2014-michigan-senate-land-vs-peters -0.072256 -0.038047
6      2014-north-carolina-senate-tillis-vs-hagan -0.037714 -0.014019
10          2014-alaska-senate-sullivan-vs-begich -0.028545  0.020309
11               2014-iowa-senate-ernst-vs-braley -0.015953  0.014471
8           2014-colorado-senate-gardner-vs-udall -0.007714  0.018825
3       2014-louisiana-senate-cassidy-vs-landrieu -0.011521  0.033946
28  2014-kansas-senate-roberts-vs-orman-vs-taylor -0.035758  0.065758
1            2014-arkansas-senate-cotton-vs-pryor -0.001097  0.031261
14             2014-georgia-senate-perdue-vs-nunn  0.001064  0.032127
0        2014-kentucky-senate-mcconnell-vs-grimes  0.017166  0.042834
16     2014-south-dakota-senate-rounds-vs-weiland  0.100054  0.159946
5     2014-west-virginia-senate-capito-vs-tennant  0.100469  0.180960
20     2014-south-carolina-senate-graham-vs-hutto  0.127196  0.172804
12    2014-mississippi-senate-cochran-vs-childers  0.125796  0.184204
31           2014-montana-senate-daines-vs-curtis  0.144632  0.198225
26        2014-tennessee-senate-alexander-vs-ball  0.144901  0.235099
19            2014-texas-senate-cornyn-vs-alameel  0.158357  0.226087
21  2014-south-carolina-senate-scott-vs-dickerson  0.168389  0.261611
15           2014-nebraska-senate-sasse-vs-domina  0.204777  0.285223
25            2014-idaho-senate-risch-vs-mitchell  0.230231  0.366436
30       2014-oklahoma-senate-lankford-vs-johnson  0.261152  0.375514
17           2014-maine-senate-collins-vs-bellows  0.265348  0.382152
22     2014-oklahoma-senate-inhofe-vs-silverstein  0.275750  0.390917
27                            2014-wyoming-senate  0.362462  0.533538
</pre>
</div>
</div>

<div class="output_area">

<div class="prompt"></div>




<div class="output_png output_subarea ">
<img src="data:image/png;base64,iVBORw0KGgoAAAANSUhEUgAAAmwAAAKNCAYAAACdjTcCAAAABHNCSVQICAgIfAhkiAAAAAlwSFlz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"
>
</div>

</div>

</div>
</div>

</div>
<div class="cell border-box-sizing text_cell rendered"><div class="prompt input_prompt">
</div>
<div class="inner_cell">
<div class="text_cell_render border-box-sizing rendered_html">
<h1 id="Problem-3:-Prediction-and-Posterior-Probabilities">Problem 3: Prediction and Posterior Probabilities<a class="anchor-link" href="#Problem-3:-Prediction-and-Posterior-Probabilities">&#182;</a></h1><p>Perform a Bayesian analysis to predict the probability of Republicans winning in each state then provide a posterior distribution of the number of republicans in the senate.</p>

</div>
</div>
</div>
<div class="cell border-box-sizing text_cell rendered"><div class="prompt input_prompt">
</div>
<div class="inner_cell">
<div class="text_cell_render border-box-sizing rendered_html">
<h4 id="Problem-3(a)">Problem 3(a)<a class="anchor-link" href="#Problem-3(a)">&#182;</a></h4><p>First, we define a Bayesian model for each race. The prior for the difference $\theta$ between republicans and democtrats will be $N(\mu,\tau^2)$. Say before seeing poll data you have no idea who is going to win, what should $\mu$ be? How about $\tau$, should it be large or small?</p>

</div>
</div>
</div>
<div class="cell border-box-sizing text_cell rendered"><div class="prompt input_prompt">
</div>
<div class="inner_cell">
<div class="text_cell_render border-box-sizing rendered_html">
<p><strong> Your answer here: </strong>
Because we have no prior idea who will win, the prior mean $\mu$ should be 0. And again we don't know anything about the data, but we know that the difference should not be very large. So $\tau$ should be small.</p>

</div>
</div>
</div>
<div class="cell border-box-sizing text_cell rendered"><div class="prompt input_prompt">
</div>
<div class="inner_cell">
<div class="text_cell_render border-box-sizing rendered_html">
<h4 id="Problem-3(b)">Problem 3(b)<a class="anchor-link" href="#Problem-3(b)">&#182;</a></h4><p>What is the distribution of $d$ conditioned on $\theta$. What is the posterior distribution of $\theta | d$?</p>
<p><strong>Hint</strong>: Use normal approximation.</p>

</div>
</div>
</div>
<div class="cell border-box-sizing text_cell rendered"><div class="prompt input_prompt">
</div>
<div class="inner_cell">
<div class="text_cell_render border-box-sizing rendered_html">
<p><strong>Your answer here:</strong></p>
<p>$d \mid \theta \sim N(\theta, \sigma^2/M)$. We assume that $\sigma^2$ is known based on the observed sample variance, and $M$ is the number of polls averaged together to obtain $d$.</p>
<p>$\theta \mid d \sim N\left(B\mu + (1-B)d, (1-B)\sigma^2/M\right)$, where $B = \frac{1/\tau^2}{M/\sigma^2 + 1/\tau^2}$. (Note that there are lots of equivalent ways to write $B$, but this one shows that it is a <em>precision weight</em>, based on the ratio of the prior precision to the total precision of the prior and the data. Precision here is the inverse of the variance).</p>
<p>Equivalently, $\theta | d$ is $\theta | d \sim N( B \mu + (1-B) d, 1/(M/\sigma^2 + 1/ \tau^2))$.</p>

</div>
</div>
</div>
<div class="cell border-box-sizing text_cell rendered"><div class="prompt input_prompt">
</div>
<div class="inner_cell">
<div class="text_cell_render border-box-sizing rendered_html">
<h4 id="Problem-3(c)">Problem 3(c)<a class="anchor-link" href="#Problem-3(c)">&#182;</a></h4><p>The prior represents what we think before hand. We do not know who is expected to win, so we assume $\mu=0$. For this problem estimate $\tau$ using the observed differences across states (Hint: $\tau$ represents the standard deviation of a typical difference). Compute the posterior mean for each state and plot it against original average. Is there much change? Why or why not?</p>

</div>
</div>
</div>
<div class="cell border-box-sizing code_cell rendered">
<div class="input">
<div class="prompt input_prompt">In&nbsp;[19]:</div>
<div class="inner_cell">
    <div class="input_area">
<div class=" highlight hl-ipython3"><pre><span></span><span class="c1">### Your code here ###</span>
<span class="c1"># A cheap but slightly biased way to estimate tau is to take the</span>
<span class="c1"># standard deviation of the state polling means.</span>
<span class="c1"># Use `ests` from last question.</span>
<span class="n">tau</span> <span class="o">=</span> <span class="n">np</span><span class="o">.</span><span class="n">std</span><span class="p">(</span><span class="n">ests</span><span class="p">[</span><span class="s1">&#39;mean&#39;</span><span class="p">])</span>
<span class="n">B</span> <span class="o">=</span> <span class="p">(</span><span class="mi">1</span><span class="o">/</span><span class="n">tau</span><span class="o">**</span><span class="mi">2</span><span class="p">)</span><span class="o">/</span><span class="p">(</span><span class="mi">1</span><span class="o">/</span><span class="n">ests</span><span class="p">[</span><span class="s1">&#39;se&#39;</span><span class="p">]</span><span class="o">**</span><span class="mi">2</span><span class="o">+</span><span class="mi">1</span><span class="o">/</span><span class="n">tau</span><span class="o">**</span><span class="mi">2</span><span class="p">)</span>
<span class="n">ests</span><span class="p">[</span><span class="s1">&#39;mu_post&#39;</span><span class="p">]</span> <span class="o">=</span> <span class="p">(</span><span class="mi">1</span><span class="o">-</span><span class="n">B</span><span class="p">)</span><span class="o">*</span><span class="n">ests</span><span class="p">[</span><span class="s1">&#39;mean&#39;</span><span class="p">]</span>

<span class="n">plt</span><span class="o">.</span><span class="n">scatter</span><span class="p">(</span><span class="n">ests</span><span class="p">[</span><span class="s1">&#39;mean&#39;</span><span class="p">],</span> <span class="n">ests</span><span class="p">[</span><span class="s1">&#39;mu_post&#39;</span><span class="p">],</span> <span class="n">s</span><span class="o">=</span><span class="mi">50</span><span class="p">)</span>
<span class="n">plt</span><span class="o">.</span><span class="n">title</span><span class="p">(</span><span class="s2">&quot;Bayes vs. Raw Poll Averages&quot;</span><span class="p">)</span>
<span class="n">plt</span><span class="o">.</span><span class="n">xlabel</span><span class="p">(</span><span class="s2">&quot;Raw Average&quot;</span><span class="p">)</span>
<span class="n">plt</span><span class="o">.</span><span class="n">ylabel</span><span class="p">(</span><span class="s2">&quot;Bayes&quot;</span><span class="p">)</span>

<span class="n">currentx</span> <span class="o">=</span> <span class="n">plt</span><span class="o">.</span><span class="n">xlim</span><span class="p">()</span>
<span class="n">currenty</span> <span class="o">=</span> <span class="n">plt</span><span class="o">.</span><span class="n">ylim</span><span class="p">()</span>
<span class="n">plt</span><span class="o">.</span><span class="n">plot</span><span class="p">((</span><span class="o">-</span><span class="mi">1</span><span class="p">,</span><span class="mi">1</span><span class="p">),(</span><span class="o">-</span><span class="mi">1</span><span class="p">,</span><span class="mi">1</span><span class="p">),</span> <span class="n">c</span><span class="o">=</span><span class="s1">&#39;black&#39;</span><span class="p">,</span> <span class="n">linewidth</span><span class="o">=</span><span class="mi">1</span><span class="p">)</span>
<span class="n">plt</span><span class="o">.</span><span class="n">xlim</span><span class="p">(</span><span class="n">currentx</span><span class="p">)</span>
<span class="n">plt</span><span class="o">.</span><span class="n">ylim</span><span class="p">(</span><span class="n">currenty</span><span class="p">)</span>
<span class="n">plt</span><span class="o">.</span><span class="n">show</span><span class="p">()</span>
</pre></div>

</div>
</div>
</div>

<div class="output_wrapper">
<div class="output">


<div class="output_area">

<div class="prompt"></div>




<div class="output_png output_subarea ">
<img src="data:image/png;base64,iVBORw0KGgoAAAANSUhEUgAAAnUAAAGRCAYAAAADykVdAAAABHNCSVQICAgIfAhkiAAAAAlwSFlz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"
>
</div>

</div>

</div>
</div>

</div>
<div class="cell border-box-sizing text_cell rendered"><div class="prompt input_prompt">
</div>
<div class="inner_cell">
<div class="text_cell_render border-box-sizing rendered_html">
<p><strong>Your answer here:</strong></p>
<p>Because there are a lot of datapoints (i.e. a lot of polls), $\sigma^2/M$ is much smaller than $\tau^2$, which results in a very small shrinkage factor for each datapoint (most elements of $B$ are extremely small). When you have this much data, the data largely overwhelms the prior. We do see that in those cases where the estimates are moved by the prior, they are pulled closer to zero than their raw average, resulting in a slope slightly shallower than 1.</p>

</div>
</div>
</div>
<div class="cell border-box-sizing text_cell rendered"><div class="prompt input_prompt">
</div>
<div class="inner_cell">
<div class="text_cell_render border-box-sizing rendered_html">
<h4 id="Problem-3(d)">Problem 3(d)<a class="anchor-link" href="#Problem-3(d)">&#182;</a></h4><p>For each state, report a probabilty of Republicans winning. How does your answer here compare to the other aggregators?</p>

</div>
</div>
</div>
<div class="cell border-box-sizing code_cell rendered">
<div class="input">
<div class="prompt input_prompt">In&nbsp;[20]:</div>
<div class="inner_cell">
    <div class="input_area">
<div class=" highlight hl-ipython3"><pre><span></span><span class="c1">### Your code here ###</span>
<span class="c1">#First, compute a standard deviation for each poll</span>
<span class="n">ests</span><span class="p">[</span><span class="s1">&#39;sd_post&#39;</span><span class="p">]</span> <span class="o">=</span> <span class="n">np</span><span class="o">.</span><span class="n">sqrt</span><span class="p">((</span><span class="mi">1</span><span class="o">-</span><span class="n">B</span><span class="p">)</span><span class="o">*</span><span class="n">ests</span><span class="p">[</span><span class="s1">&#39;se&#39;</span><span class="p">]</span><span class="o">**</span><span class="mi">2</span><span class="p">)</span>

<span class="c1">#Now, use normal CDF to find the posterior probability that the difference is greater than zero.</span>
<span class="kn">import</span> <span class="nn">scipy.stats</span>
<span class="n">ests</span><span class="p">[</span><span class="s1">&#39;R_win_prob&#39;</span><span class="p">]</span> <span class="o">=</span> <span class="mi">1</span><span class="o">-</span><span class="n">scipy</span><span class="o">.</span><span class="n">stats</span><span class="o">.</span><span class="n">norm</span><span class="o">.</span><span class="n">cdf</span><span class="p">(</span><span class="mi">0</span><span class="p">,</span> <span class="n">loc</span><span class="o">=</span><span class="n">ests</span><span class="p">[</span><span class="s1">&#39;mu_post&#39;</span><span class="p">],</span> <span class="n">scale</span><span class="o">=</span><span class="n">ests</span><span class="p">[</span><span class="s1">&#39;sd_post&#39;</span><span class="p">])</span>
<span class="nb">print</span> <span class="n">ests</span><span class="p">[[</span><span class="s1">&#39;race&#39;</span><span class="p">,</span><span class="s1">&#39;R_win_prob&#39;</span><span class="p">]]</span><span class="o">.</span><span class="n">sort</span><span class="p">(</span><span class="s1">&#39;R_win_prob&#39;</span><span class="p">)</span>
</pre></div>

</div>
</div>
</div>

<div class="output_wrapper">
<div class="output">


<div class="output_area">

<div class="prompt"></div>


<div class="output_subarea output_stream output_stdout output_text">
<pre>                                             race    R_win_prob
29           2014-hawaii-senate-cavasso-vs-schatz  0.000000e+00
33       2014-massachusetts-senate-herr-vs-markey  0.000000e+00
34             2014-delaware-senate-wade-vs-coons  0.000000e+00
7        2014-virginia-senate-gillespie-vs-warner  0.000000e+00
23            2014-new-mexico-senate-weh-vs-udall  0.000000e+00
24          2014-new-jersey-senate-bell-vs-booker  0.000000e+00
13            2014-oregon-senate-wehby-vs-merkley  0.000000e+00
9         2014-illinois-senate-oberweis-vs-durbin  0.000000e+00
18      2014-minnesota-senate-mcfadden-vs-franken  0.000000e+00
4      2014-new-hampshire-senate-brown-vs-shaheen  0.000000e+00
2             2014-michigan-senate-land-vs-peters  0.000000e+00
32      2014-rhode-island-senate-zaccaria-vs-reed  4.728440e-13
6      2014-north-carolina-senate-tillis-vs-hagan  8.944923e-09
10          2014-alaska-senate-sullivan-vs-begich  3.319987e-01
11               2014-iowa-senate-ernst-vs-braley  4.500337e-01
28  2014-kansas-senate-roberts-vs-orman-vs-taylor  7.759567e-01
8           2014-colorado-senate-gardner-vs-udall  8.598881e-01
3       2014-louisiana-senate-cassidy-vs-landrieu  8.981644e-01
1            2014-arkansas-senate-cotton-vs-pryor  9.918881e-01
14             2014-georgia-senate-perdue-vs-nunn  9.970695e-01
0        2014-kentucky-senate-mcconnell-vs-grimes  1.000000e+00
17           2014-maine-senate-collins-vs-bellows  1.000000e+00
30       2014-oklahoma-senate-lankford-vs-johnson  1.000000e+00
25            2014-idaho-senate-risch-vs-mitchell  1.000000e+00
15           2014-nebraska-senate-sasse-vs-domina  1.000000e+00
21  2014-south-carolina-senate-scott-vs-dickerson  1.000000e+00
19            2014-texas-senate-cornyn-vs-alameel  1.000000e+00
31           2014-montana-senate-daines-vs-curtis  1.000000e+00
12    2014-mississippi-senate-cochran-vs-childers  1.000000e+00
20     2014-south-carolina-senate-graham-vs-hutto  1.000000e+00
5     2014-west-virginia-senate-capito-vs-tennant  1.000000e+00
16     2014-south-dakota-senate-rounds-vs-weiland  1.000000e+00
22     2014-oklahoma-senate-inhofe-vs-silverstein  1.000000e+00
26        2014-tennessee-senate-alexander-vs-ball  1.000000e+00
27                            2014-wyoming-senate  1.000000e+00
</pre>
</div>
</div>

</div>
</div>

</div>
<div class="cell border-box-sizing text_cell rendered"><div class="prompt input_prompt">
</div>
<div class="inner_cell">
<div class="text_cell_render border-box-sizing rendered_html">
<p><strong>Your answer here:</strong></p>
<p>As expected from other aggregators, only a few states have outcomes that seem uncertain. Our model seems to be more certain about these tossup races than most aggregators. For us, the states that are less than 99% leaning one way or the other are IA, AK, CO, KS, LA, AR. Other aggregators also include NH, GA, and KY as being closer to tossups. Our model here does not seem to incorporate enough uncertainty (for example, the possibility that all of the polls in a given state might be clustered around the wrong value, as happened in NV in 2010).</p>

</div>
</div>
</div>
<div class="cell border-box-sizing text_cell rendered"><div class="prompt input_prompt">
</div>
<div class="inner_cell">
<div class="text_cell_render border-box-sizing rendered_html">
<h4 id="Problem-3(e)">Problem 3(e)<a class="anchor-link" href="#Problem-3(e)">&#182;</a></h4><p>Use the posterior distributions in a Monte Carlo simulation to generate election results. In each simulation compute the total number of seats the Republican control. Show a histogram of these results.</p>

</div>
</div>
</div>
<div class="cell border-box-sizing code_cell rendered">
<div class="input">
<div class="prompt input_prompt">In&nbsp;[21]:</div>
<div class="inner_cell">
    <div class="input_area">
<div class=" highlight hl-ipython3"><pre><span></span><span class="c1">### made up numbers</span>
<span class="n">num_states</span> <span class="o">=</span> <span class="n">ests</span><span class="o">.</span><span class="n">shape</span><span class="p">[</span><span class="mi">0</span><span class="p">]</span>

<span class="n">NSIM</span> <span class="o">=</span> <span class="mi">10000</span>
<span class="n">simarr</span> <span class="o">=</span> <span class="n">np</span><span class="o">.</span><span class="n">zeros</span><span class="p">(</span><span class="n">NSIM</span><span class="p">,</span> <span class="n">dtype</span><span class="o">=</span><span class="nb">int</span><span class="p">)</span>
<span class="k">for</span> <span class="n">i</span> <span class="ow">in</span> <span class="n">xrange</span><span class="p">(</span><span class="n">NSIM</span><span class="p">):</span>
    <span class="n">simulated</span> <span class="o">=</span> <span class="mi">30</span> <span class="o">+</span> <span class="n">np</span><span class="o">.</span><span class="n">sum</span><span class="p">(</span><span class="n">np</span><span class="o">.</span><span class="n">random</span><span class="o">.</span><span class="n">normal</span><span class="p">(</span><span class="n">ests</span><span class="p">[</span><span class="s1">&#39;mu_post&#39;</span><span class="p">],</span> <span class="n">scale</span><span class="o">=</span><span class="n">ests</span><span class="p">[</span><span class="s1">&#39;sd_post&#39;</span><span class="p">],</span> <span class="n">size</span> <span class="o">=</span><span class="n">num_states</span><span class="p">)</span> <span class="o">&gt;</span> <span class="mi">0</span> <span class="p">)</span>
    <span class="n">simarr</span><span class="p">[</span><span class="n">i</span><span class="p">]</span> <span class="o">=</span> <span class="nb">int</span><span class="p">(</span><span class="n">simulated</span><span class="p">)</span>
<span class="n">plt</span><span class="o">.</span><span class="n">hist</span><span class="p">(</span><span class="n">simarr</span><span class="p">,</span> <span class="n">bins</span><span class="o">=</span><span class="nb">range</span><span class="p">(</span><span class="nb">min</span><span class="p">(</span><span class="n">simarr</span><span class="p">)</span><span class="o">-</span><span class="mi">1</span><span class="p">,</span> <span class="nb">max</span><span class="p">(</span><span class="n">simarr</span><span class="p">)</span><span class="o">+</span><span class="mi">3</span><span class="p">))</span>
<span class="n">plt</span><span class="o">.</span><span class="n">xlabel</span><span class="p">(</span><span class="s1">&#39;Number of Seats in Republican Control&#39;</span><span class="p">)</span>
<span class="n">plt</span><span class="o">.</span><span class="n">ylabel</span><span class="p">(</span><span class="s1">&#39;Frequency&#39;</span><span class="p">)</span>
<span class="n">plt</span><span class="o">.</span><span class="n">title</span><span class="p">(</span><span class="s1">&#39;Monte Carlo simulation of Number of Seats in Republican Control&#39;</span><span class="p">)</span>
<span class="n">plt</span><span class="o">.</span><span class="n">show</span><span class="p">()</span>
</pre></div>

</div>
</div>
</div>

<div class="output_wrapper">
<div class="output">


<div class="output_area">

<div class="prompt"></div>




<div class="output_png output_subarea ">
<img src="data:image/png;base64,iVBORw0KGgoAAAANSUhEUgAAAnQAAAGRCAYAAADsCC5jAAAABHNCSVQICAgIfAhkiAAAAAlwSFlz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"
>
</div>

</div>

</div>
</div>

</div>
<div class="cell border-box-sizing text_cell rendered"><div class="prompt input_prompt">
</div>
<div class="inner_cell">
<div class="text_cell_render border-box-sizing rendered_html">
<h2 id="Problem-4">Problem 4<a class="anchor-link" href="#Problem-4">&#182;</a></h2><p>Predict the results for the 2014 Midterm Elections. We will have a three competitions with the terms for scoring entries described above. For both questions below, <strong>explain</strong> or provide commentary on how you arrived at your predictions including code.</p>
<p><strong>Hint</strong>: Use election results from 2010, 2012 to build and test models.</p>

</div>
</div>
</div>
<div class="cell border-box-sizing text_cell rendered"><div class="prompt input_prompt">
</div>
<div class="inner_cell">
<div class="text_cell_render border-box-sizing rendered_html">
<h4 id="Problem-4(a)">Problem 4(a)<a class="anchor-link" href="#Problem-4(a)">&#182;</a></h4><p>Predict the number of Republican senators. You may provide an interval. Smallest interval that includes the election day result wins.</p>
<p><strong>Note</strong>: we want the total so add the numbers of those that are not up for election.</p>

</div>
</div>
</div>
<div class="cell border-box-sizing code_cell rendered">
<div class="input">
<div class="prompt input_prompt">In&nbsp;[22]:</div>
<div class="inner_cell">
    <div class="input_area">
<div class=" highlight hl-ipython3"><pre><span></span><span class="c1">### Your code here ###</span>
</pre></div>

</div>
</div>
</div>

</div>
<div class="cell border-box-sizing text_cell rendered"><div class="prompt input_prompt">
</div>
<div class="inner_cell">
<div class="text_cell_render border-box-sizing rendered_html">
<p><strong>Provide an explanation of methodology here</strong>:</p>

</div>
</div>
</div>
<div class="cell border-box-sizing text_cell rendered"><div class="prompt input_prompt">
</div>
<div class="inner_cell">
<div class="text_cell_render border-box-sizing rendered_html">
<h4 id="Problem-4(b)">Problem 4(b)<a class="anchor-link" href="#Problem-4(b)">&#182;</a></h4><p>Predict the R-D difference in each state. The predictions that minimize the residual sum of squares between predicted and observed differences wins.</p>

</div>
</div>
</div>
<div class="cell border-box-sizing code_cell rendered">
<div class="input">
<div class="prompt input_prompt">In&nbsp;[23]:</div>
<div class="inner_cell">
    <div class="input_area">
<div class=" highlight hl-ipython3"><pre><span></span><span class="c1">### Your code here ###</span>
</pre></div>

</div>
</div>
</div>

</div>
<div class="cell border-box-sizing text_cell rendered"><div class="prompt input_prompt">
</div>
<div class="inner_cell">
<div class="text_cell_render border-box-sizing rendered_html">
<p><strong>Provide an explanation of methodology here</strong>:</p>

</div>
</div>
</div>
<div class="cell border-box-sizing text_cell rendered"><div class="prompt input_prompt">
</div>
<div class="inner_cell">
<div class="text_cell_render border-box-sizing rendered_html">
<h4 id="Problem-4(c)">Problem 4(c)<a class="anchor-link" href="#Problem-4(c)">&#182;</a></h4><p>Report a confidence interval for the R-D difference in each state. If the election day result falls outside your confidence interval in more than two states you are eliminated. For those surviving this cutoff, we will add up the size of all confidence intervals and sum. The smallest total length of confidence interval wins.</p>
<p><strong>Note</strong>: you can use Bayesian credible intervals or whatever else you want.</p>

</div>
</div>
</div>
<div class="cell border-box-sizing code_cell rendered">
<div class="input">
<div class="prompt input_prompt">In&nbsp;[24]:</div>
<div class="inner_cell">
    <div class="input_area">
<div class=" highlight hl-ipython3"><pre><span></span><span class="c1">### Your code here ###</span>
</pre></div>

</div>
</div>
</div>

</div>
<div class="cell border-box-sizing text_cell rendered"><div class="prompt input_prompt">
</div>
<div class="inner_cell">
<div class="text_cell_render border-box-sizing rendered_html">
<p><strong>Provide an explanation of methodology here</strong>:</p>

</div>
</div>
</div>
<div class="cell border-box-sizing text_cell rendered"><div class="prompt input_prompt">
</div>
<div class="inner_cell">
<div class="text_cell_render border-box-sizing rendered_html">
<h1 id="Submission-Instructions">Submission Instructions<a class="anchor-link" href="#Submission-Instructions">&#182;</a></h1><p>To submit your homework, create a folder named <strong>lastname_firstinitial_hw#</strong> and place your IPython notebooks, data files, and any other files in this folder. Your IPython Notebooks should be completely executed with the results visible in the notebook. We should not have to run any code.  Compress the folder (please use .zip compression) and submit to the CS109 dropbox in the appropriate folder. <em>If we cannot access your work because these directions are not followed correctly, we will not grade your work.</em></p>

</div>
</div>
</div>
 


    </div>
  </div>

  </div>


  
    <footer class="footer hidden-print">
      <div class="container">
        <div class="col-md-4">
          <p>
            This website does not host notebooks, it only renders notebooks
            available on other websites.
          </p>
        </div>

        <div class="col-md-4">
          <p>
            Delivered by <a href="http://www.fastly.com/">Fastly</a>,
            Rendered by <a href="https://developer.rackspace.com/?nbviewer=awesome">Rackspace</a>
          </p>
          <p>
            nbviewer GitHub <a href="https://github.com/jupyter/nbviewer">repository</a>.
          </p>
        </div>

        <div class="col-md-4">
          
  
            
              <p>
                nbviewer version:
                <a href="https://github.com/jupyter/nbviewer/commit/5ac2643d687f4e78c5b8a4d50ead8255b2c65bb1">
                  5ac2643
                </a>
              </p>
            
          
  
  <p>
    nbconvert version: <a href="https://github.com/jupyter/nbconvert/releases/tag/5.2.1">
      5.2.1
    </a>
  </p>
  

          
  
  
  <p>
    Rendered
    <span class='date' data-date='Wed, 09 Aug 2017 09:03:03 UTC' title='Wed, 09 Aug 2017 09:03:03 UTC'>(Wed, 09 Aug 2017 09:03:03 UTC)</span>
  </p>
  

        </div>
      </div>
    </footer>
  

  <script src="https://unpkg.com/jupyter-js-widgets@2.0.*/dist/embed.js"></script>
  <script src="/static/components/bootstrap/js/bootstrap.min.js?v=5869c96cc8f19086aee625d670d741f9"></script>
  <script src="/static/components/headroom.js/dist/headroom.min.js?v=b0a311ea668f8e768ea375f4a7abb81c"></script>
  <script src="/static/components/headroom.js/dist/jQuery.headroom.min.js?v=f3a1bae118315d0c234afc74dc6aab71"></script>

  
  
  <script>
    $(function(){ $("#menubar").headroom({
      tolerance: 5,
      offset: 205,
      classes: {
        initial: "animated",
        pinned: "slideInDown",
        unpinned: "slideOutUp"
      }
    })});
  </script>


  
  <script>
    (function(i,s,o,g,r,a,m){i['GoogleAnalyticsObject']=r;i[r]=i[r]||function(){
      (i[r].q=i[r].q||[]).push(arguments)},i[r].l=1*new Date();a=s.createElement(o),
      m=s.getElementsByTagName(o)[0];a.async=1;a.src=g;m.parentNode.insertBefore(a,m)
    })(window,document,'script','https://www.google-analytics.com/analytics.js','ga');
    ga('create', 'UA-52617120-5', 'auto');
    ga('send', 'pageview');
  </script>
  
  <script>
    require({
        paths: {
          moment: "/static/components/moment/min/moment.min.js?v=89f87298ad94aa1e6b92f42eb66da043"
        }
      }, ["moment"], function(moment){
      var date = $("footer .date"),
        m = moment(new Date(date.data('date'))),
        update = function(){ date.text(m.fromNow()); };
      setInterval(update, 61*1000);
      update();
      var w = $(window).scroll(function(event){
        $("body").toggleClass("scrolled", w.scrollTop() > 0);
      });
    });
  </script>
  <!--NEW RELIC Stop Perf Measurement-->
  
  <!--NEW RELIC End-->
</body>
</html>